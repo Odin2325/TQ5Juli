{
 "cells": [
  {
   "cell_type": "markdown",
   "id": "f8344a10",
   "metadata": {},
   "source": [
    "## Übung 1 Summe der Zahlen:\n",
    "\n",
    "Schreibe ein Programm, das den Benutzer auffordert, 5 Zahlen einzugeben.\n",
    "Speichere diese in einer Liste.\n",
    "Verwende dann eine for-Schleife, um die Summe aller Zahlen zu berechnen und auszugeben."
   ]
  },
  {
   "cell_type": "code",
   "execution_count": 2,
   "id": "b8384296",
   "metadata": {},
   "outputs": [
    {
     "name": "stdout",
     "output_type": "stream",
     "text": [
      "Eingegebene Zahlen:  [1, 2, 3, 4, 5]\n",
      "Summe aller Zahlen:  15\n"
     ]
    }
   ],
   "source": [
    "zahlen_liste = []\n",
    "\n",
    "for i in range(5):  # Schleife für 5 Eingaben\n",
    "    zahl = int(input(\"Gib eine Zahl ein {i+1}: \"))\n",
    "    zahlen_liste.append(zahl)  # Zahl zur Liste hinzufügen\n",
    "\n",
    "summe = 0\n",
    "for zahl in zahlen_liste:\n",
    "    summe += zahl  # Summe der Zahlen berechnen\n",
    "\n",
    "print(\"Eingegebene Zahlen: \", zahlen_liste)  # Eingegebene Zahlen ausgeben\n",
    "print(\"Summe aller Zahlen: \", summe)  # Summe ausgeben"
   ]
  },
  {
   "cell_type": "markdown",
   "id": "fe0f6569",
   "metadata": {},
   "source": [
    "## Übung 2 Wortlängen:\n",
    "\n",
    "Schreibe ein Programm, das den Benutzer auffordert, 5 Wörter einzugeben.\n",
    "Speichere diese in einer Liste.\n",
    "Verwende eine for-Schleife, um jedes Wort zusammen mit seiner Länge auszugeben.\n",
    "Ausgabenstil:\n",
    "```python\n",
    "print('Dein wort war: {wort}. Es hat eine laenge von: {laenge}')\n",
    "```"
   ]
  },
  {
   "cell_type": "code",
   "execution_count": null,
   "id": "95c56368",
   "metadata": {},
   "outputs": [
    {
     "name": "stdout",
     "output_type": "stream",
     "text": [
      "Dein wort war: 1. Es hat eine laenge von: 1 Buchstaben.\n",
      "Dein wort war: 2. Es hat eine laenge von: 1 Buchstaben.\n",
      "Dein wort war: 3. Es hat eine laenge von: 1 Buchstaben.\n",
      "Dein wort war: 4. Es hat eine laenge von: 1 Buchstaben.\n",
      "Dein wort war: 5. Es hat eine laenge von: 1 Buchstaben.\n"
     ]
    }
   ],
   "source": [
    "#Kommentar\n",
    "woerter_liste = []\n",
    "\n",
    "for i in range(5):  # Schleife für 5 Eingaben\n",
    "    wort = input(\"Gib ein Wort ein {i+1}: \")\n",
    "    woerter_liste.append(wort)  # Wort zur Liste hinzufügen\n",
    "\n",
    "for wort in woerter_liste:\n",
    "    laenge = len(wort)  # Länge des Wortes berechnen\n",
    "    print(f'Dein wort war: {wort}. Es hat eine laenge von: {laenge} Buchstaben.')  # Ausgabe der Wörter und ihrer Länge"
   ]
  }
 ],
 "metadata": {
  "kernelspec": {
   "display_name": "Python 3",
   "language": "python",
   "name": "python3"
  },
  "language_info": {
   "codemirror_mode": {
    "name": "ipython",
    "version": 3
   },
   "file_extension": ".py",
   "mimetype": "text/x-python",
   "name": "python",
   "nbconvert_exporter": "python",
   "pygments_lexer": "ipython3",
   "version": "3.13.5"
  }
 },
 "nbformat": 4,
 "nbformat_minor": 5
}
