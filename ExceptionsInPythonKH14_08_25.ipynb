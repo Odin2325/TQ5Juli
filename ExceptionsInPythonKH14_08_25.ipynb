{
 "cells": [
  {
   "cell_type": "markdown",
   "id": "0ec02ad3",
   "metadata": {},
   "source": [
    "# Ausnahmen (Exceptions)"
   ]
  },
  {
   "cell_type": "markdown",
   "id": "b6f92f46",
   "metadata": {},
   "source": [
    "## Was sind Exceptions?"
   ]
  },
  {
   "cell_type": "code",
   "execution_count": null,
   "id": "f7025f5c",
   "metadata": {},
   "outputs": [],
   "source": [
    "# Exceptions sind Fehlermeldungen, die während der Programmausführung auftreten können.\n",
    "# Sie stoppen da sProgramm, wenn man sie nicht behandelt.\n",
    "# Beispiel: Wenn man versucht durch 0 zu teilen -> ZeroDivisionError"
   ]
  },
  {
   "cell_type": "markdown",
   "id": "e627eafb",
   "metadata": {},
   "source": [
    "## Wozu nutzt man sie?"
   ]
  },
  {
   "cell_type": "code",
   "execution_count": null,
   "id": "e3455485",
   "metadata": {},
   "outputs": [],
   "source": [
    "# Um Fehler zu erkennen und dartauf  zu reagieren, statt dass das Programm einfach abstürzt.\n",
    "# Mit try - except kann man Fehler abfangen und alternative Aktionen ausführen.\n",
    "# So wird der Code robuster und nutezrfreundlicher."
   ]
  },
  {
   "cell_type": "markdown",
   "id": "0e8d8029",
   "metadata": {},
   "source": [
    "## Beispiel:"
   ]
  },
  {
   "cell_type": "code",
   "execution_count": null,
   "id": "98d3112b",
   "metadata": {},
   "outputs": [],
   "source": [
    "try:\n",
    "    zahl = int(input(\"Gib eine Zahl ein: \"))\n",
    "    ergebnis = 10 / zahlprint(ergebnis)\n",
    "except ZeroDivisionError:\n",
    "    print(\"Teilen durch 0 geht nicht!\")\n",
    "except ValueError:\n",
    "    print(\"Das war keine Zahl!\")"
   ]
  },
  {
   "cell_type": "markdown",
   "id": "bfa7e297",
   "metadata": {},
   "source": [
    "## Häufig genutzte Exceptions:"
   ]
  },
  {
   "cell_type": "code",
   "execution_count": null,
   "id": "e4cdd160",
   "metadata": {},
   "outputs": [],
   "source": [
    "# Exception                     Wann tritt sie auf?\n",
    "#\n",
    "# ValueError                    Ungültiger Wert (z.B. Text -> Zahl umwandeln)\n",
    "# TypeError                     Falscher Datentyp in einer Operation\n",
    "# IndexError                    Zugriff auf ungültigen Index in einer Liste\n",
    "# KeyError                      Zugriff auf ungültigen Schlüssel in einem Dictionary\n",
    "# ZeroDivisionError             Division durch 0\n",
    "# FileNotFoundError             Zugriff auf eine nicht existierende Datei\n",
    "#\n",
    "# Diese Exceptions hängen direkt mit Alltagsoperationen zusammen (Listen, Dictionaries, Dateien, Eingaben, Mathe).\n",
    "# Sie entstehen dadurch versehentlich und sind leicht reproduzierbar."
   ]
  }
 ],
 "metadata": {
  "language_info": {
   "name": "python"
  }
 },
 "nbformat": 4,
 "nbformat_minor": 5
}
