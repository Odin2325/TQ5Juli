{
 "cells": [
  {
   "cell_type": "markdown",
   "id": "4aa297f3",
   "metadata": {},
   "source": [
    "## Übersetzen von RNA-Sequenzen in Proteine.\n",
    "\n",
    "RNA kann in drei Nukleotidsequenzen, die Codons, zerlegt und dann wie folgt in ein Polypeptid übersetzt werden:\n",
    "RNA: \"AUGUUUUCU\" => wird übersetzt in Codons: \"AUG\", \"UUU\", \"UCU\" => die zu einem Polypeptid mit der folgenden Sequenz werden => Protein: \"Methionin\", \"Phenylalanin\", \"Serin\".\n",
    "\n",
    "Es gibt 64 Codons, die wiederum 20 Aminosäuren entsprechen; alle Codon-Sequenzen und die daraus resultierenden Aminosäuren sind jedoch für diese Übung nicht wichtig. Wenn es für ein Codon funktioniert, sollte das Programm auch für alle anderen Codons funktionieren. Es steht Ihnen jedoch frei, die Liste in der Testsuite zu erweitern, um alle Codons einzubeziehen.\n",
    "Es gibt auch drei terminierende Codons (auch als \"STOP\"-Codons bekannt); wenn eines dieser Codons (vom Ribosom) angetroffen wird, endet die gesamte Übersetzung und das Protein wird abgebrochen. Alle nachfolgenden Codons werden ignoriert, etwa so:\n",
    "RNA: \"AUGUUUUCUUAAAUG\" => Codons: \"AUG\", \"UUU\", \"UCU\", \"UAA\", \"AUG\" => Protein: \"Methionin\", \"Phenylalanin\", \"Serin\"\n",
    "Beachten Sie, dass das STOP-Codon \"UAA\" die Übersetzung beendet und das letzte Methionin nicht in die Proteinsequenz übersetzt wird.\n",
    "\n",
    "Nachstehend sind die Codons und die daraus resultierenden Aminosäuren aufgeführt, die für die Übung benötigt werden:\n",
    "Codon               Protein\n",
    "AUG                 Methionin\n",
    "UUU, UUC            Phenylalanin\n",
    "UUA, UUG            Leucin\n",
    "UCU, UCC, UCA, UCG  Serin\n",
    "UAU, UAC            Tyrosin\n",
    "UGU, UGC            Cystein\n",
    "UGG                 Tryptophan\n",
    "UAA, UAG, UGA       STOP"
   ]
  },
  {
   "cell_type": "code",
   "execution_count": null,
   "id": "f873e20e",
   "metadata": {},
   "outputs": [
    {
     "name": "stdout",
     "output_type": "stream",
     "text": [
      "['Methionin', 'Phenylalanin', 'Serin']\n"
     ]
    }
   ],
   "source": [
    "# Codon-Tabelle für diese Übung\n",
    "codon_protein = {\n",
    "    \"AUG\": \"Methionin\",\n",
    "    \"UUU\": \"Phenylalanin\",\n",
    "    \"UUC\": \"Phenylalanin\",\n",
    "    \"UUA\": \"Leucin\",\n",
    "    \"UUG\": \"Leucin\",\n",
    "    \"UCU\": \"Serin\",\n",
    "    \"UCC\": \"Serin\",\n",
    "    \"UCA\": \"Serin\",\n",
    "    \"UCG\": \"Serin\",\n",
    "    \"UAU\": \"Tyrosin\",\n",
    "    \"UAC\": \"Tyrosin\",\n",
    "    \"UGU\": \"Cystein\",\n",
    "    \"UGC\": \"Cystein\",\n",
    "    \"UGG\": \"Tryptophan\",\n",
    "    \"UAA\": \"STOP\",\n",
    "    \"UAG\": \"STOP\",\n",
    "    \"UGA\": \"STOP\"\n",
    "}\n",
    "\n",
    "\n",
    "# Eingabe einer RNA-Sequenz\n",
    "rna_sequenz = input(\"Gib eine RNA-Sequenz ein: \").strip().upper()\n",
    "\n",
    "\n",
    "def rna_zu_protein(rna_sequenz: str):\n",
    "    \"\"\"Übersetzt eine RNA-Sequenz in ein Protein (Liste von Aminosäuren).\"\"\"\n",
    "    protein = []\n",
    "    # Zerlege in Codons (3 Basen pro Codon)\n",
    "    codons = [rna_sequenz[i:i+3] for i in range(0, len(rna_sequenz), 3)]\n",
    "\n",
    "    for codon in codons:\n",
    "        amino_saeure = codon_protein.get(codon)\n",
    "        if amino_saeure == \"STOP\":  # Abbruch bei STOP-Codon\n",
    "            break\n",
    "        elif amino_saeure in codon_protein.values():  # nur bekannte Codons übersetzen\n",
    "            protein.append(amino_saeure)\n",
    "    return protein\n",
    "\n",
    "print(rna_zu_protein(rna_sequenz))\n",
    "\n",
    "# --- Beispiele ---\n",
    "# print(translate_rna_to_protein(\"AUGUUUUCU\"))\n",
    "# Erwartet: ['Methionin', 'Phenylalanin', 'Serin']\n",
    "\n",
    "# print(translate_rna_to_protein(\"AUGUUUUCUUAAAUG\"))\n",
    "# Erwartet: ['Methionin', 'Phenylalanin', 'Serin']"
   ]
  }
 ],
 "metadata": {
  "kernelspec": {
   "display_name": "Python 3",
   "language": "python",
   "name": "python3"
  },
  "language_info": {
   "codemirror_mode": {
    "name": "ipython",
    "version": 3
   },
   "file_extension": ".py",
   "mimetype": "text/x-python",
   "name": "python",
   "nbconvert_exporter": "python",
   "pygments_lexer": "ipython3",
   "version": "3.13.5"
  }
 },
 "nbformat": 4,
 "nbformat_minor": 5
}
