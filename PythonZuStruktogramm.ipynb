{
 "cells": [
  {
   "cell_type": "code",
   "execution_count": null,
   "id": "49c199eb",
   "metadata": {},
   "outputs": [],
   "source": [
    "#UhrBegruessungs System\n",
    "\n",
    "begruessung = \"\"\n",
    "uhrzeit = input(\"Bitte geben Sie die Uhrzeit ein (0-23): \")\n",
    "\n",
    "if uhrzeit < \"12\":\n",
    "    begruessung = \"Guten Morgen!\"\n",
    "elif uhrzeit < \"18\":\n",
    "    begruessung = \"Guten Tag!\"\n",
    "else:\n",
    "    begruessung = \"Guten Abend!\"\n",
    "\n",
    "print(begruessung)"
   ]
  }
 ],
 "metadata": {
  "language_info": {
   "name": "python"
  }
 },
 "nbformat": 4,
 "nbformat_minor": 5
}
