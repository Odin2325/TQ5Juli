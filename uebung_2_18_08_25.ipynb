{
 "cells": [
  {
   "cell_type": "code",
   "execution_count": null,
   "id": "4707e22f",
   "metadata": {},
   "outputs": [],
   "source": [
    "from random import *\n",
    "\n",
    "daysUntilExpiration = randint(0, 12)\n",
    "discountPercentage = 0\n",
    "\n",
    "if daysUntilExpiration == 0:\n",
    "    print(\"Your subscription has expired.\")\n",
    "elif daysUntilExpiration == 1:\n",
    "    print(\"Your subscription expires within a day!\")\n",
    "    print(\"Renew now and save 20%!\")\n",
    "elif daysUntilExpiration <= 5:\n",
    "        print("Your subscription expires in " + str(daysUntilExpiration) + " days.")\n",
    "    print(\"Renew now and save 10%!\")\n",
    "elif daysUntilExpiration <= 10:\n",
    "    print(\"Your subscription will expire soon. Renew now!\")\n"
   ]
  }
 ],
 "metadata": {
  "language_info": {
   "name": "python"
  }
 },
 "nbformat": 4,
 "nbformat_minor": 5
}
