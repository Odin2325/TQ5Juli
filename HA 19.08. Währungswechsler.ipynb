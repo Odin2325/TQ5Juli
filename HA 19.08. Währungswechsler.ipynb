{
 "cells": [
  {
   "cell_type": "markdown",
   "id": "60a02df4",
   "metadata": {},
   "source": [
    "HA 1\n",
    "//IfElse/Switch Uebung:\n",
    "//Hier werden wir einen Währungsrechner programmieren.\n",
    "//Wir bekommen einen String als parameter, entweder YEN, USD, BC oder GBP\n",
    "//(Pound = Pound sterling in unsere Uebung).\n",
    "//Wir konvertieren von Euro auf die andere Währungen.\n",
    "//Wir haben auch einen zweiten parameter und zwar der Betrag in Euro.\n",
    "//Sie muessen dann der Betrag auf die gewuenschte Währung konvertieren.\n",
    "//zB 10 Euro zu Pound wäre: 10 * 0.86 (Wechselkurs/Conversion rate)\n",
    "//Die Wechselkurs/Conversion rate sind:\n",
    "//GBP = 0.86 * Euro, YEN = 166.50 * Euro, USD = 1.22 * Euro, BC = 0.000033 * Euro.\n",
    "//Die neue Menge soll dann auf die Konsole ausgegeben werden.\n",
    "//Sie können davon ausgehen, dass der String immer richtig geschrieben wird.\n",
    "//Challenge: Akzeptiere eine eingabe die nicht case sensitiv ist.\n",
    "//D.h.zB.yen und auch YEN wird akzeptiert. YeN\n",
    "//Hinweis: Methode upper() oder lower() von die strings.\n",
    "//Mega Challenge: der user kann alles eingeben auch strings die keinen Sinn machen oder\n",
    "//keine Währung sind.\n",
    "//Änder den program so um, so dass bei falscher Eingabe erneut nach eine\n",
    "//Eingabe gefragt wird."
   ]
  },
  {
   "cell_type": "code",
   "execution_count": 10,
   "id": "1c1bbc1b",
   "metadata": {},
   "outputs": [
    {
     "name": "stdout",
     "output_type": "stream",
     "text": [
      "115131.0 Euro entsprechen 1.0016397 Bitcoin.\n"
     ]
    }
   ],
   "source": [
    "waehrung = input(\"Geben Sie eine welche Währung umgerechnet werden soll (YEN, USD, GBP oder BC): \").strip().lower()\n",
    "betrag = float(input(\"Geben Sie ihren € Betrag ein, der umgerechnet werden soll: \"))\n",
    "\n",
    "\n",
    "while waehrung not in [\"yen\", \"usd\", \"gbp\", \"bc\"]:\n",
    "    print(\"Ungültige Eingabe. Bitte geben Sie YEN, USD, GBP oder BC ein.\")\n",
    "    waehrung = input(\"Geben Sie eine welche Währung umgerechnet werden soll (YEN, USD, GBP oder BC): \").strip().lower()\n",
    "    betrag = float(input(\"Geben Sie ihren € Betrag ein, der umgerechnet werden soll: \"))\n",
    "if waehrung == \"yen\":\n",
    "    umrechnungskurs = 166.5\n",
    "    umgerechneter_betrag = betrag * umrechnungskurs\n",
    "    print(f\"{betrag} Euro entsprechen {umgerechneter_betrag} YEN.\")\n",
    "elif waehrung == \"usd\":\n",
    "    umrechnungskurs = 1.22\n",
    "    umgerechneter_betrag = betrag * umrechnungskurs\n",
    "    print(f\"{betrag} Euro entsprechen {umgerechneter_betrag} USD.\")\n",
    "elif waehrung == \"gbp\":\n",
    "    umrechnungskurs = 0.86\n",
    "    umgerechneter_betrag = betrag * umrechnungskurs\n",
    "    print(f\"{betrag} Euro entsprechen {umgerechneter_betrag} GBP.\")\n",
    "elif waehrung == \"bc\":\n",
    "    umrechnungskurs = 0.0000087\n",
    "    umgerechneter_betrag = betrag * umrechnungskurs\n",
    "    print(f\"{betrag} Euro entsprechen {umgerechneter_betrag} Bitcoin.\")\n"
   ]
  }
 ],
 "metadata": {
  "kernelspec": {
   "display_name": "Python 3",
   "language": "python",
   "name": "python3"
  },
  "language_info": {
   "codemirror_mode": {
    "name": "ipython",
    "version": 3
   },
   "file_extension": ".py",
   "mimetype": "text/x-python",
   "name": "python",
   "nbconvert_exporter": "python",
   "pygments_lexer": "ipython3",
   "version": "3.13.5"
  }
 },
 "nbformat": 4,
 "nbformat_minor": 5
}
