{
 "cells": [
  {
   "cell_type": "markdown",
   "id": "6387d29f",
   "metadata": {},
   "source": [
    "# Fläche eines Driecks\n",
    "# A=1/2bh\n",
    "# Wir haben ein Drieck mit h = 10 und b = 17"
   ]
  },
  {
   "cell_type": "code",
   "execution_count": 5,
   "id": "92525f32",
   "metadata": {},
   "outputs": [
    {
     "name": "stdout",
     "output_type": "stream",
     "text": [
      "Die Fläche des Dreiecks beträgt: 85.0\n",
      "Die Fläche des Dreiecks beträgt: 85.0\n"
     ]
    }
   ],
   "source": [
    "höhe = 10\n",
    "breite = 17\n",
    "\n",
    "def berechne_flaeche(hoehe, breite):\n",
    "    return hoehe * breite   \n",
    "\n",
    "print(\"Die Fläche des Dreiecks beträgt:\", berechne_flaeche(höhe, breite)/2)\n",
    "# Dieses Skript berechnet die Fläche eines Dreiecks und gibt das Ergebnis aus.\n",
    "# Es verwendet eine Funktion, um die Fläche zu berechnen und gibt das Ergebnis in der Konsole aus.  \n",
    "\n",
    "drieckfläche = (höhe * breite)/2\n",
    "# Das Skript berechnet die Fläche eines Dreiecks mit gegebener Höhe und Breite.\n",
    "# Die Fläche wird in der Konsole ausgegeben.\n",
    "print(\"Die Fläche des Dreiecks beträgt:\",drieckfläche)\n"
   ]
  }
 ],
 "metadata": {
  "kernelspec": {
   "display_name": "Python 3",
   "language": "python",
   "name": "python3"
  },
  "language_info": {
   "codemirror_mode": {
    "name": "ipython",
    "version": 3
   },
   "file_extension": ".py",
   "mimetype": "text/x-python",
   "name": "python",
   "nbconvert_exporter": "python",
   "pygments_lexer": "ipython3",
   "version": "3.13.5"
  }
 },
 "nbformat": 4,
 "nbformat_minor": 5
}
