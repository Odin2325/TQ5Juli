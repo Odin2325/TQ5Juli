{
 "cells": [
  {
   "cell_type": "markdown",
   "id": "335f4c2c",
   "metadata": {},
   "source": [
    "Uebungsdatenbank Erstellen mit sqlite3"
   ]
  },
  {
   "cell_type": "code",
   "execution_count": 2,
   "id": "2e864258",
   "metadata": {},
   "outputs": [],
   "source": [
    "import sqlite3\n",
    "\n",
    "# Verbindung zur SQLite-Datenbank herstellen (oder erstellen, wenn sie nicht existiert)\n",
    "conn = sqlite3.connect(\"students.db\")\n",
    "# Ein Cursor-Objekt erstellen, um SQL-Befehle auszuführen\n",
    "# Was ist ein Cursor?\n",
    "# Ein Cursor ist ein Objekt, das verwendet wird, um SQL-Befehle auszuführen\n",
    "# und Ergebnisse von Abfragen zu verwalten. Es fungiert als eine Art Zeiger,\n",
    "# der durch die Ergebnisse einer Abfrage navigieren kann.\n",
    "# Mit einem Cursor können Sie SQL-Befehle ausführen, Parameter binden\n",
    "# und die Ergebnisse von SELECT-Abfragen abrufen.\n",
    "# In SQLite wird ein Cursor-Objekt durch Aufrufen der cursor()-Methode\n",
    "# auf einem Verbindungsobjekt erstellt.\n",
    "# Beispiel: cur = conn.cursor()\n",
    "cur = conn.cursor()\n",
    "\n",
    "# Erstellet eine Tabelle Student in unsere Datenbank students.db\n",
    "# Falls die Tabelle bereits existiert, wird sie gelöscht und dann neu erstellt.\n",
    "cur.execute(\"DROP TABLE IF EXISTS Student\")\n",
    "cur.execute(\"CREATE TABLE Student (id INTEGER PRIMARY KEY, name TEXT, grade INTEGER)\")\n",
    "\n",
    "# Beispieldaten in eine Liste definieren\n",
    "students = [\n",
    "    (\"Alice\", 1),\n",
    "    (\"Bob\", 2),\n",
    "    (\"Charlie\", 3),\n",
    "    (\"Diana\", 1),\n",
    "    (\"Elias\", 2)\n",
    "]\n",
    "\n",
    "# Füge die Beispieldaten in die Tabelle ein\n",
    "cur.executemany(\"INSERT INTO Student (name, grade) VALUES (?, ?)\", students)\n",
    "\n",
    "# Speichere (commit) die Änderungen\n",
    "conn.commit()\n",
    "\n",
    "# Wenn wir fertig sind, schließen wir die Verbindung\n",
    "# conn.close()\n",
    "# Wollen wir aktuell nicht weil wir damit weiterarbeiten wollen"
   ]
  },
  {
   "cell_type": "markdown",
   "id": "c8b2c7f9",
   "metadata": {},
   "source": [
    "## Wie holt man die Daten?"
   ]
  },
  {
   "cell_type": "markdown",
   "id": "86b76ce1",
   "metadata": {},
   "source": [
    "### fetchone()"
   ]
  },
  {
   "cell_type": "code",
   "execution_count": null,
   "id": "ea0ae729",
   "metadata": {},
   "outputs": [],
   "source": [
    "# Aufgabe: \n",
    "# Schreibe ein Programm, das alle Studenten einzeln mit fetchone() ausliest und ausgibt.\n",
    "# Theorie:\n",
    "# Schreibweise: cur.fetchone()\n",
    "# Diese Methode holt jeweils eine Zeile aus dem Ergebnis der letzten ausgeführten Abfrage.\n",
    "# Gibt die nächste Zeile des Ergebnisses zurück oder None, wenn keine Zeilen mehr vorhanden sind.\n",
    "# Bspw: cur.fetchone() --> (1, 'Alice', 1)\n",
    "\n"
   ]
  },
  {
   "cell_type": "markdown",
   "id": "2fea2162",
   "metadata": {},
   "source": [
    "### fetchmany()"
   ]
  },
  {
   "cell_type": "code",
   "execution_count": null,
   "id": "1985fe0b",
   "metadata": {},
   "outputs": [],
   "source": [
    "# Aufgabe: \n",
    "# Lies die Studenten in Blöcken von 2 mit fetchmany(2) aus.\n",
    "# Gib nach jedem Block eine Zeile --- aus, damit man die Trennung sieht.\n",
    "# Theorie:\n",
    "# Schreibweise: cur.fetchmany(size)\n",
    "# Diese Methode holt eine bestimmte Anzahl von Zeilen (size) aus dem Ergebnis der letzten ausgeführten Abfrage.\n",
    "# Gibt eine Liste von Zeilen zurück. Wenn weniger Zeilen als size verfügbar sind, werden\n",
    "# nur die verfügbaren Zeilen zurückgegeben.\n",
    "# Bspw: cur.fetchmany(2) --> [(1, 'Alice', 1), (2, 'Bob', 2)]"
   ]
  },
  {
   "cell_type": "markdown",
   "id": "2d0c2be6",
   "metadata": {},
   "source": [
    "### fetchall()"
   ]
  },
  {
   "cell_type": "code",
   "execution_count": null,
   "id": "73437512",
   "metadata": {},
   "outputs": [],
   "source": [
    "# Aufgabe:\n",
    "# Lies alle Studenten mit fetchall() auf einmal aus.\n",
    "# Speichere das Ergebnis in einer Variablen rows und gib die Liste aus.\n",
    "# Theorie:\n",
    "# Schreibweise: cur.fetchall()\n",
    "# Diese Methode holt alle verbleibenden Zeilen aus dem Ergebnis der letzten ausgeführten Abfrage.\n",
    "# Gibt eine Liste von Zeilen zurück. Wenn keine Zeilen mehr vorhanden sind, wird eine leere Liste zurückgegeben.\n",
    "# Bspw: cur.fetchall() --> [(1, 'Alice', 1), (2, 'Bob', 2), (3, 'Charlie', 3), (4, 'Diana', 1), (5, 'Elias', 2)]"
   ]
  },
  {
   "cell_type": "markdown",
   "id": "e92228ff",
   "metadata": {},
   "source": [
    "## Was ist execute?\n",
    "\n",
    "execute() ist eine methode von ein cursor objekt.\n",
    "\n",
    "Wird verwendet um einzelne SQL statements auszufuehren (wie SELECT, INSERT, UPDATE, DELETE, CREATE TABLE, etc.).\n",
    "\n",
    "Wenn dein startement Zeilen zurueckgibt (bspw. SELECT), dann wir im cursor objekt diesen reultat gespeichert. Diesen wert koennen wir dann mit fetchone(), fetchmany(), oder fetchall() bekommen."
   ]
  },
  {
   "cell_type": "markdown",
   "id": "f26c8ecf",
   "metadata": {},
   "source": [
    "## execute()"
   ]
  },
  {
   "cell_type": "code",
   "execution_count": 3,
   "id": "cd60f215",
   "metadata": {},
   "outputs": [],
   "source": [
    "# Aufgabe:\n",
    "# Fuege einen neuen Studenten mit dem Namen \"Frank\" und der Note 3 hinzu.\n",
    "# Verwende dazu ein INSERT-Statement mit execute().\n",
    "# Theorie:\n",
    "# Schreibweise: cur.execute(sql, parameters)\n",
    "# Diese Methode führt ein SQL-Statement aus und ermöglicht das Binden von Parametern.\n",
    "# Beispiel: cur.execute(\"INSERT INTO Student (name, grade) VALUES (?, ?)\", (\"Frank\", 3))\n",
    "cur.execute(\"INSERT INTO Student (name, grade) VALUES (?, ?)\", (\"Frank\", 3))\n",
    "conn.commit()  # Änderungen speichern"
   ]
  },
  {
   "cell_type": "markdown",
   "id": "aecdd511",
   "metadata": {},
   "source": [
    "## executemany()"
   ]
  },
  {
   "cell_type": "code",
   "execution_count": null,
   "id": "9dfc5669",
   "metadata": {},
   "outputs": [],
   "source": [
    "# Aufgabe:\n",
    "# Fuege mehrere neue Studenten auf einmal mit executemany() hinzu.\n",
    "# Füge die Studenten \"Grace\" (Note 2) und \"Hannah\" (Note 1) hinzu.\n",
    "# Theorie:\n",
    "# Schreibweise: cur.executemany(sql, parameters)\n",
    "# Diese Methode führt ein SQL-Statement für mehrere Datensätze aus und ermöglicht das Binden von Parametern.\n",
    "# Beispiel: cur.executemany(\"INSERT INTO Student (name, grade) VALUES (?, ?)\", [(\"Grace\", 2), (\"Hannah\", 1)])\n",
    "\n",
    "cur.executemany(\"INSERT INTO Student (name, grade) VALUES (?, ?)\", [(\"Grace\", 2), (\"Hannah\", 1)])\n",
    "conn.commit()  # Änderungen speichern"
   ]
  }
 ],
 "metadata": {
  "kernelspec": {
   "display_name": "Python 3",
   "language": "python",
   "name": "python3"
  },
  "language_info": {
   "codemirror_mode": {
    "name": "ipython",
    "version": 3
   },
   "file_extension": ".py",
   "mimetype": "text/x-python",
   "name": "python",
   "nbconvert_exporter": "python",
   "pygments_lexer": "ipython3",
   "version": "3.12.6"
  }
 },
 "nbformat": 4,
 "nbformat_minor": 5
}
