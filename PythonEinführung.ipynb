{
 "cells": [
  {
   "cell_type": "markdown",
   "id": "5e23a2e5",
   "metadata": {},
   "source": [
    "# Python Einführung"
   ]
  },
  {
   "cell_type": "markdown",
   "id": "9428d0fb",
   "metadata": {},
   "source": [
    "# Print & Kommentare"
   ]
  },
  {
   "cell_type": "code",
   "execution_count": 1,
   "id": "18985980",
   "metadata": {},
   "outputs": [
    {
     "name": "stdout",
     "output_type": "stream",
     "text": [
      "Hallo, Welt!\n"
     ]
    }
   ],
   "source": [
    "# diese Methode schreibt \"Hallo, Welt!\" in die Konsole\n",
    "print(\"Hallo, Welt!\")"
   ]
  },
  {
   "cell_type": "markdown",
   "id": "961f997e",
   "metadata": {},
   "source": [
    "# Variablen"
   ]
  },
  {
   "cell_type": "code",
   "execution_count": 1,
   "id": "c57b64bf",
   "metadata": {},
   "outputs": [],
   "source": [
    "# Variablen in Python sind Behälter für Daten\n",
    "name = \"nicolas\"\n",
    "alter = 25"
   ]
  },
  {
   "cell_type": "code",
   "execution_count": 3,
   "id": "b33317f8",
   "metadata": {},
   "outputs": [
    {
     "name": "stdout",
     "output_type": "stream",
     "text": [
      "25\n",
      "nicolas\n"
     ]
    }
   ],
   "source": [
    "print(alter)\n",
    "print(name)"
   ]
  }
 ],
 "metadata": {
  "kernelspec": {
   "display_name": "Python 3",
   "language": "python",
   "name": "python3"
  },
  "language_info": {
   "codemirror_mode": {
    "name": "ipython",
    "version": 3
   },
   "file_extension": ".py",
   "mimetype": "text/x-python",
   "name": "python",
   "nbconvert_exporter": "python",
   "pygments_lexer": "ipython3",
   "version": "3.13.5"
  }
 },
 "nbformat": 4,
 "nbformat_minor": 5
}
