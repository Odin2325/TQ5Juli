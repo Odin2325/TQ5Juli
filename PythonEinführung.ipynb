{
 "cells": [
  {
   "cell_type": "markdown",
   "id": "9d39fa08",
   "metadata": {},
   "source": [
    "# Python Einführung"
   ]
  },
  {
   "cell_type": "markdown",
   "id": "0694569a",
   "metadata": {},
   "source": [
    "## Print und Kommentare"
   ]
  },
  {
   "cell_type": "code",
   "execution_count": 5,
   "id": "15685e29",
   "metadata": {},
   "outputs": [
    {
     "name": "stdout",
     "output_type": "stream",
     "text": [
      "Hallo, Welt!\n"
     ]
    }
   ],
   "source": [
    "# Diese Methode schreibt \"Hallo, Welt!\" in die Konsole.\n",
    "print(\"Hallo, Welt!\")"
   ]
  },
  {
   "cell_type": "markdown",
   "id": "8808f3bf",
   "metadata": {},
   "source": [
    "## Variablen"
   ]
  },
  {
   "cell_type": "code",
   "execution_count": 6,
   "id": "ef79a4cd",
   "metadata": {},
   "outputs": [],
   "source": [
    "# Variablen in Python\n",
    "alter = 25\n",
    "name = 'Nicolas'"
   ]
  },
  {
   "cell_type": "code",
   "execution_count": 7,
   "id": "17636c88",
   "metadata": {},
   "outputs": [
    {
     "name": "stdout",
     "output_type": "stream",
     "text": [
      "25\n"
     ]
    }
   ],
   "source": [
    "print(alter)"
   ]
  }
 ],
 "metadata": {
  "kernelspec": {
   "display_name": "Python 3",
   "language": "python",
   "name": "python3"
  },
  "language_info": {
   "codemirror_mode": {
    "name": "ipython",
    "version": 3
   },
   "file_extension": ".py",
   "mimetype": "text/x-python",
   "name": "python",
   "nbconvert_exporter": "python",
   "pygments_lexer": "ipython3",
   "version": "3.13.5"
  }
 },
 "nbformat": 4,
 "nbformat_minor": 5
}
