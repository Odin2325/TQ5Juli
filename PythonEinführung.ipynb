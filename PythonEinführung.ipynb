{
 "cells": [
  {
   "cell_type": "markdown",
   "id": "8f2298ce",
   "metadata": {},
   "source": [
    "# Python Einführung"
   ]
  },
  {
   "cell_type": "code",
   "execution_count": null,
   "id": "49e1b528",
   "metadata": {},
   "outputs": [],
   "source": [
    "# Lässt den inhalt in den \"\" in die console schreiben\n",
    "\n",
    "print(\"\")"
   ]
  },
  {
   "cell_type": "markdown",
   "id": "e6105235",
   "metadata": {},
   "source": [
    "# Variablen "
   ]
  },
  {
   "cell_type": "code",
   "execution_count": null,
   "id": "7cf69517",
   "metadata": {},
   "outputs": [],
   "source": [
    "# variablen in Python\n",
    "\n",
    "age = 25\n",
    "Name = \"Eddy\""
   ]
  },
  {
   "cell_type": "code",
   "execution_count": null,
   "id": "dbb31e23",
   "metadata": {},
   "outputs": [],
   "source": [
    "# Lässt meine variablen in einem Satz ausgeben\n",
    "\n",
    "print(\"Mein Name ist \" + Name + \" und ich bin \" + str(age) + \" Jahre alt.\")"
   ]
  }
 ],
 "metadata": {
  "kernelspec": {
   "display_name": "Python 3",
   "language": "python",
   "name": "python3"
  },
  "language_info": {
   "codemirror_mode": {
    "name": "ipython",
    "version": 3
   },
   "file_extension": ".py",
   "mimetype": "text/x-python",
   "name": "python",
   "nbconvert_exporter": "python",
   "pygments_lexer": "ipython3",
   "version": "3.13.5"
  }
 },
 "nbformat": 4,
 "nbformat_minor": 5
}
