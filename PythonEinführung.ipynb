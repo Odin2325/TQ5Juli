{
 "cells": [
  {
   "cell_type": "markdown",
   "id": "ba102132",
   "metadata": {},
   "source": [
    "#Aufgabe 1 Strings:\n",
    "\n",
    "#Erstellt eine Variable mit einen Text. Ihr solltet euren gewuenscht in 2 unterschiedliche Zeilen ausgeben. Beide Aufgaben loesen.\n",
    "\n",
    "#V1: Mit ein normalen String\n",
    "#V2: Mit ein docstring"
   ]
  },
  {
   "cell_type": "code",
   "execution_count": null,
   "id": "be5f18e8",
   "metadata": {},
   "outputs": [],
   "source": [
    "mein_anderer_string = \"mööp\\nmööp2\""
   ]
  },
  {
   "cell_type": "code",
   "execution_count": null,
   "id": "545a3ad9",
   "metadata": {},
   "outputs": [],
   "source": [
    "mein_anderer_string2 = \"\"\"mööp\n",
    "mööp2\"\"\""
   ]
  },
  {
   "cell_type": "code",
   "execution_count": null,
   "id": "9a767e1e",
   "metadata": {},
   "outputs": [],
   "source": [
    "print(mein_anderer_string,end=\"\")"
   ]
  },
  {
   "cell_type": "code",
   "execution_count": null,
   "id": "ef4f83e2",
   "metadata": {},
   "outputs": [],
   "source": [
    "print(mein_anderer_string2,end=\"\")"
   ]
  },
  {
   "cell_type": "code",
   "execution_count": 3,
   "id": "46e858cd",
   "metadata": {},
   "outputs": [
    {
     "name": "stdout",
     "output_type": "stream",
     "text": [
      "Der Wert an Index 10 ist:  \n",
      "Das Slice von Index 16 bis zum Ende ist: \n"
     ]
    }
   ],
   "source": [
    "vorname = \"\"\n",
    "nachname = \"\"\n",
    "alter = 0\n",
    "#Eingabeaufforderungen für den Benutzer,\n",
    "#Diese Variablen werden später verwendet, um die Benutzereingaben zu speichern,\n",
    "#und können in der Anwendung weiterverarbeitet werden.,\n",
    "vorname = input(\"Gib deinen Vornamen ein: \")\n",
    "nachname = input(\"Gib deinen Nachnamen ein: \")\n",
    "alter = int(input(\"Gib dein Alter ein: \"))\n",
    "\n",
    "#Erstellung der Ergebnis-Variable,\n",
    "#Wir kombinieren die Variablen zu einem String und fügen Leerzeichen und einen Punkt hinzu.,\n",
    "#Das Alter muss noch in einen String umgewandelt werden (str(alter)),,\n",
    "#da alle Teile eines Strings sein müssen, um sie zu verbinden.,\n",
    "person = vorname + \" \" + nachname + \" \" + str(alter) + \".\"\n",
    "\n",
    "#Ausgabe des Werts an Index 10 (10te Position des Strings \"person\"),\n",
    "print(\"Der Wert an Index 10 ist:\", person[10])\n",
    "\n",
    "#Ausgabe des Slices von Index 16 bis zum Ende (16te Position bis zum Ende des Strings \"person\"),\n",
    "print(\"Das Slice von Index 16 bis zum Ende ist:\", person[16:])"
   ]
  },
  {
   "cell_type": "code",
   "execution_count": 7,
   "id": "24d7a7d4",
   "metadata": {},
   "outputs": [
    {
     "name": "stdout",
     "output_type": "stream",
     "text": [
      "Wenn nur mini cooper clubman s Peach Ice-Tea als Kraftstoff verwenden könnte, um Basketball auszuüben. Dann wäre ich zufrieden!\n",
      "ur mini co\n"
     ]
    }
   ],
   "source": [
    "\n",
    "Lieblingsauto = \"mini cooper clubman s\"\n",
    "Lieblingssport = \"Basketball\"\n",
    "Lieblingsgetränk = \"Peach Ice-Tea\"\n",
    " \n",
    "f_string_text = f\"Wenn nur {Lieblingsauto} {Lieblingsgetränk} als Kraftstoff verwenden könnte, um {Lieblingssport} auszuüben. Dann wäre ich zufrieden!\"\n",
    " \n",
    "print(f_string_text)\n",
    " \n",
    "print(f_string_text[6:16])"
   ]
  },
  {
   "cell_type": "code",
   "execution_count": 17,
   "id": "807b3293",
   "metadata": {},
   "outputs": [
    {
     "name": "stdout",
     "output_type": "stream",
     "text": [
      "Die Fläche des Dreiecks beträgt: 85.0 Quadratmeter\n"
     ]
    }
   ],
   "source": [
    "# Berechnung der Fläche eines Dreiecks\n",
    "höhe = 10\n",
    "breite = 17\n",
    "fläche = 0.5 * breite * höhe\n",
    "print(f\"Die Fläche des Dreiecks beträgt: {fläche} Quadratmeter\")"
   ]
  },
  {
   "cell_type": "code",
   "execution_count": 20,
   "id": "6f851526",
   "metadata": {},
   "outputs": [
    {
     "name": "stdout",
     "output_type": "stream",
     "text": [
      "Die Distanz zwischen den Punkten beträgt: 52.15361924162119\n"
     ]
    }
   ],
   "source": [
    "# Distanz zwischen zwei Punkten\n",
    "# Aufgabenstellung: ermittle die Distanz zwischen den Punkten P1(2,8)(x1, y1) und P2(54,4)(x2, y2)\n",
    "# X steht für die x-Koordinate(links), Y steht für die y-Koordinate(rechts)\n",
    "x1 = 2\n",
    "y1 = 8\n",
    "x2 = 54\n",
    "y2 = 4\n",
    "distanz = ((x2 - x1) ** 2 + (y2 - y1) ** 2) ** 0.5\n",
    "print(f\"Die Distanz zwischen den Punkten beträgt: {distanz}\")"
   ]
  },
  {
   "cell_type": "code",
   "execution_count": 21,
   "id": "5ea066af",
   "metadata": {},
   "outputs": [
    {
     "name": "stdout",
     "output_type": "stream",
     "text": [
      "Das Endkapital nach 35 Jahren beträgt: 9668.077236463741 Euro\n"
     ]
    }
   ],
   "source": [
    "# Zinseszinsberechnung\n",
    "# Aufgabenstellung: Berechne das Endkapital nach 35 Jahren bei einem Anfangskapital von 3000 Euro und einem Zinssatz von 3.4%\n",
    "kapital = 3000  # Anfangskapital\n",
    "zinssatz = 3.4  # Zinssatz in Prozent\n",
    "laufzeit = 35  # Laufzeit in Jahren\n",
    "endkapital = kapital * (1 + zinssatz / 100) ** laufzeit\n",
    "print(f\"Das Endkapital nach {laufzeit} Jahren beträgt: {endkapital} Euro\")\n"
   ]
  },
  {
   "cell_type": "code",
   "execution_count": null,
   "id": "e0fab361",
   "metadata": {},
   "outputs": [
    {
     "name": "stdout",
     "output_type": "stream",
     "text": [
      "Diese saison startet mit einem 'Hallo'\n"
     ]
    }
   ],
   "source": [
    "saison = input(\"welche saison ist aktuell: \")\n",
    "if saison == \"frühling\":\n",
    "    print(\"Die Blumen blühen.\")\n",
    "elif saison [0:5]== \"Hallo\":\n",
    "    print(\"Diese saison startet mit einem 'Hallo'\")\n",
    "elif saison[-2:] == \"r!\":\n",
    "    print(\"Diese saison endet mit einem 'r!'\")\n",
    "elif saison[-1] == \".\":\n",
    "    print(\"Diese saison endet mit einem '.'\")\n",
    "elif saison == \"sommer\":\n",
    "    print(\"Es ist Zeit für den Strand.\")\n",
    "elif saison == \"herbst\":\n",
    "    print(\"Die Blätter fallen.\")\n",
    "elif saison == \"winter\":\n",
    "    print(\"Es schneit.\")\n",
    "else:\n",
    "    print(\"Das ist keine gültige Saison. 'False'\")\n"
   ]
  },
  {
   "cell_type": "code",
   "execution_count": 121,
   "id": "8dec8252",
   "metadata": {},
   "outputs": [
    {
     "name": "stdout",
     "output_type": "stream",
     "text": [
      "0\n",
      "Your subscription has expired.\n",
      "The current discount is: 0 %\n"
     ]
    }
   ],
   "source": [
    "from random import *\n",
    "daysUntilExpiration = randint(0,12)\n",
    "discountPercentage = 0\n",
    "\n",
    "print(daysUntilExpiration)\n",
    "\n",
    "if daysUntilExpiration <= 10 and daysUntilExpiration > 5:\n",
    "    print(\"Your subscription will expire soon. Renew now!\")\n",
    "elif daysUntilExpiration <= 5 and daysUntilExpiration > 1:\n",
    "    discountPercentage = 10\n",
    "    print(\"Your subscription expires in\", daysUntilExpiration, \"days.\")\n",
    "    print(\"Renew now and save 10%!\")\n",
    "elif daysUntilExpiration <= 1 and daysUntilExpiration > 0:\n",
    "    discountPercentage = 20\n",
    "    print(\"Your subscription expires within a day!\")\n",
    "    print(\"Renew now and save 20%!\")\n",
    "elif daysUntilExpiration == 0:\n",
    "    print(\"Your subscription has expired.\")\n",
    "else:\n",
    "    print(\"nichts\")\n",
    "\n",
    "print(\"The current discount is:\", discountPercentage, \"%\")\n",
    "\n"
   ]
  },
  {
   "cell_type": "code",
   "execution_count": null,
   "id": "0001b5b5",
   "metadata": {},
   "outputs": [
    {
     "name": "stdout",
     "output_type": "stream",
     "text": [
      "Das Ergebnis des Würfelspiels ist: 14 (Wurf: 4, 5, 5)\n",
      "Zweierpasch! +3 Punkte\n",
      "Das neue Ergebnis des Würfelspiels ist: 17\n",
      "Das Ergebnis des Würfelspiels ist 16 oder mehr, du gewinnst ein Auto!\n"
     ]
    }
   ],
   "source": [
    "from random import *\n",
    "\n",
    "# Die drei Würfelwürfe\n",
    "wurf = randint(1, 7)\n",
    "wurf2 = randint(1, 7)\n",
    "wurf3 = randint(1, 7)\n",
    "\n",
    "würfelspiel = wurf + wurf2 + wurf3\n",
    "print(f\"Das Ergebnis des Würfelspiels ist: {würfelspiel} (Wurf: {wurf}, {wurf2}, {wurf3})\")\n",
    "\n",
    "if wurf == wurf2 == wurf3:\n",
    "    print(\"Dreierpasch! +6 Punkte\")\n",
    "    würfelspiel += 6\n",
    "    print(f\"Das neue Ergebnis des Würfelspiels ist: {würfelspiel}\")\n",
    "elif wurf == wurf2 or wurf == wurf3 or wurf2 == wurf3:\n",
    "    print(\"Zweierpasch! +3 Punkte\")\n",
    "    würfelspiel += 3\n",
    "    print(f\"Das neue Ergebnis des Würfelspiels ist: {würfelspiel}\")\n",
    "\n",
    "if würfelspiel >= 16:\n",
    "    print(\"Das Ergebnis des Würfelspiels ist 16 oder mehr, du gewinnst ein Auto!\")\n",
    "elif würfelspiel >= 10:\n",
    "    print(\"Das Ergebnis des Würfelspiels ist mehr als 10, du gewinnst ein Laptop!\")\n",
    "elif würfelspiel == 7:\n",
    "    print(\"Das Ergebnis des Würfelspiels ist genau 7, du gewinnst eine Reise!\")\n",
    "else: print(\"Du gewinnst eine süße Katze\")"
   ]
  },
  {
   "cell_type": "code",
   "execution_count": null,
   "id": "1d039309",
   "metadata": {},
   "outputs": [
    {
     "name": "stdout",
     "output_type": "stream",
     "text": [
      "Welcome, Admin user!\n"
     ]
    }
   ],
   "source": [
    "permission = input(\"Bitte Benutzer eingeben?\").lower()\n",
    "level = input(\"Bitte Sicherheitslevel eingeben?\")\n",
    "\n",
    "if permission == \"admin\" or \"administrator\" in permission and level > \"55\":\n",
    "    print(\"Welcome, Super Admin user!\")\n",
    "elif permission == \"admin\" or \"administrator\" in permission  and level <= \"55\":\n",
    "    print(\"Welcome, Admin user!\")\n",
    "elif permission == \"manager\" and level >= \"20\":\n",
    "    print(\"Contact an Admin for access\")\n",
    "elif permission == \"manager\" and level < \"20\":\n",
    "    print(\"You do not have sufficient privileges.\")\n",
    "else:\n",
    "    print(\"You do not have sufficient privileges.\")\n"
   ]
  },
  {
   "cell_type": "code",
   "execution_count": 302,
   "id": "6be4055f",
   "metadata": {},
   "outputs": [
    {
     "name": "stdout",
     "output_type": "stream",
     "text": [
      "24000 ist ein Schaltjahr.\n"
     ]
    }
   ],
   "source": [
    "Jahreszahl = int(input(\"Gib eine Jahreszahl ein: \"))\n",
    "if (Jahreszahl % 4 == 0 and Jahreszahl % 100 != 0) or (Jahreszahl % 400 == 0):\n",
    "    print(Jahreszahl, \"ist ein Schaltjahr.\")\n",
    "else:\n",
    "    print(Jahreszahl, \"ist kein Schaltjahr.\")"
   ]
  },
  {
   "cell_type": "code",
   "execution_count": 317,
   "id": "1e2c70e7",
   "metadata": {},
   "outputs": [
    {
     "name": "stdout",
     "output_type": "stream",
     "text": [
      "Die Summe von 1 bis 15 ist: 105\n"
     ]
    }
   ],
   "source": [
    "#Aufgabe 1:\n",
    "#Erstelle eine Schleife mit die Summe von 1 bis 15 inklusiv.\n",
    "summe = 0\n",
    "for i in range(1, 15):\n",
    "    summe += i\n",
    "print(\"Die Summe von 1 bis 15 ist:\", summe)"
   ]
  },
  {
   "cell_type": "code",
   "execution_count": null,
   "id": "4a7a724c",
   "metadata": {},
   "outputs": [
    {
     "name": "stdout",
     "output_type": "stream",
     "text": [
      "Ungültige Eingabe. Sie haben noch 2 Versuche.\n",
      "Ungültige Eingabe. Sie haben noch 1 Versuche.\n",
      "Vielen Dank für Ihre gültige Eingabe: B123456789\n"
     ]
    }
   ],
   "source": [
    "#Aufgabe 2:\n",
    "#Der Benutzer soll eine Eingabe eingeben mit folgende eigenschaften. Der String muss mit ein B starten und muss der laenge 10 sein. Wenn das nicht der fall ist, dann soll der Benutzer nochmal aufgefordert werden ein wert einzugeben.\n",
    "#Benutzer hat 3 Versuche EXTRA\n",
    "versuche = 3\n",
    "while versuche > 0:\n",
    "    eingabe = input(\"Bitte geben Sie einen String ein, der mit 'B' beginnt und 10 Zeichen lang ist: \").lower()\n",
    "    if eingabe.startswith(\"b\") and len(eingabe) == 10:\n",
    "        print(\"Vielen Dank für Ihre gültige Eingabe:\", eingabe)\n",
    "        break\n",
    "    else:\n",
    "        versuche -= 1\n",
    "        print(\"Ungültige Eingabe. Sie haben noch\", versuche, \"Versuche.\")\n",
    "if versuche == 0:\n",
    "    print(\"Alle Versuche aufgebraucht.\")"
   ]
  },
  {
   "cell_type": "code",
   "execution_count": null,
   "id": "369ecced",
   "metadata": {},
   "outputs": [
    {
     "name": "stdout",
     "output_type": "stream",
     "text": [
      "Ungültiges Passwort. Stellen Sie sicher, dass es mindestens 10 Zeichen lang ist und ein Sonderzeichen enthält.\n",
      "Passwort erfolgreich erstellt.\n"
     ]
    }
   ],
   "source": [
    "#Aufgabe 3:\n",
    "#Ein benutzer erstellt ein neuen Passwort fuer sein konto. Dieser neue Passwort muss 10 Zeichen lang sein. Es muss auch mind. 1 sonderzeichen enthalten. Wenn dies nicht der Fall dann soll ausgegeben was er tun soll um sein passwort zu verbessern und erneut gefragt werden.\n",
    "while True:\n",
    "    passwort = input(\"Bitte geben Sie ein neues Passwort ein (mind. 10 Zeichen, 1 Sonderzeichen): \")\n",
    "    if len(passwort) >= 10 and not passwort.isalnum():\n",
    "        print(\"Passwort erfolgreich erstellt.\")\n",
    "        break\n",
    "    else:\n",
    "        print(\"Ungültiges Passwort. Stellen Sie sicher, dass es mindestens 10 Zeichen lang ist und ein Sonderzeichen enthält.\")"
   ]
  },
  {
   "cell_type": "code",
   "execution_count": 319,
   "id": "9395ae7c",
   "metadata": {},
   "outputs": [
    {
     "name": "stdout",
     "output_type": "stream",
     "text": [
      "Ungültige Währung. Bitte versuchen Sie es erneut.\n",
      "Ungültige Währung. Bitte versuchen Sie es erneut.\n",
      "Ihre 19.0 Euro entsprechen 23.18 USD.\n"
     ]
    }
   ],
   "source": [
    "#HA Währungsrechner\n",
    "CONVERSION_RATES = {\n",
    "    \"yen\": 166.50,\n",
    "    \"usd\": 1.22,\n",
    "    \"gbp\": 0.86,\n",
    "    \"bc\": 0.000033\n",
    "}\n",
    "\n",
    "waehrung_ist_gueltig = False\n",
    "while not waehrung_ist_gueltig:\n",
    "    waehrung = input(\"Bitte geben Sie die Zielwährung ein (YEN, USD, GBP, BC): \").lower()\n",
    "    if waehrung in CONVERSION_RATES:\n",
    "        waehrung_ist_gueltig = True\n",
    "        euro_betrag = float(input(\"Bitte geben Sie den Betrag in Euro ein: \"))\n",
    "        konvertierter_betrag = euro_betrag * CONVERSION_RATES[waehrung]\n",
    "        print(f\"Ihre {euro_betrag} Euro entsprechen {konvertierter_betrag} {waehrung.upper()}.\")\n",
    "    else:\n",
    "        print(\"Ungültige Währung. Bitte versuchen Sie es erneut.\")"
   ]
  },
  {
   "cell_type": "code",
   "execution_count": null,
   "id": "5d3d6a78",
   "metadata": {},
   "outputs": [
    {
     "name": "stdout",
     "output_type": "stream",
     "text": [
      "--- Generierung mit Kleinbuchstaben ---\n",
      "Das generierte Wort lautet: xscgdfpdszzusdwtdiux\n",
      "------------------------------\n",
      "--- Generierung mit Klein- und Großbuchstaben ---\n",
      "Das generierte Wort (Challenge) lautet: tucCRTetLJqpbHEEBoqQ\n"
     ]
    }
   ],
   "source": [
    "#HA Random Word generator\n",
    "import random\n",
    "\n",
    "# Dieses Skript generiert einen zufälligen String mit 20 Zeichen.\n",
    "# Die Zeichen sind Kleinbuchstaben, optional auch Großbuchstaben.\n",
    "\n",
    "# Die ASCII-Werte für die Buchstaben:\n",
    "# 97 bis 122 für Kleinbuchstaben (a-z)\n",
    "# 65 bis 90 für Großbuchstaben (A-Z)\n",
    "\n",
    "# Die Länge des zu generierenden Wortes\n",
    "WORT_LAENGE = 20\n",
    "resultat = \"\"\n",
    "\n",
    "# Basis-Aufgabe: Nur Kleinbuchstaben\n",
    "print(\"--- Generierung mit Kleinbuchstaben ---\")\n",
    "for i in range(WORT_LAENGE):\n",
    "    # Zufällige Zahl zwischen 97 und 122\n",
    "    zufallszahl = random.randint(97, 122)\n",
    "    # Konvertierung der Zahl in ein Zeichen\n",
    "    zeichen = chr(zufallszahl)\n",
    "    # Das Zeichen zum Ergebnis-String hinzufügen\n",
    "    resultat += zeichen\n",
    "\n",
    "print(f\"Das generierte Wort lautet: {resultat}\")\n",
    "print(\"-\" * 30)\n",
    "\n",
    "# Challenge: Klein- und Großbuchstaben\n",
    "print(\"--- Generierung mit Klein- und Großbuchstaben ---\")\n",
    "resultat_challenge = \"\"\n",
    "# Liste der möglichen ASCII-Werte-Bereiche\n",
    "buchstaben_bereiche = [(97, 122), (65, 90)]\n",
    "\n",
    "for i in range(WORT_LAENGE):\n",
    "    # Zufällige Auswahl eines Bereichs (Klein- oder Großbuchstaben)\n",
    "    bereich = random.choice(buchstaben_bereiche)\n",
    "    \n",
    "    # Zufällige Zahl aus dem gewählten Bereich\n",
    "    zufallszahl = random.randint(bereich[0], bereich[1])\n",
    "    # Konvertierung der Zahl in ein Zeichen\n",
    "    zeichen = chr(zufallszahl)\n",
    "    resultat_challenge += zeichen\n",
    "\n",
    "print(f\"Das generierte Wort (Challenge) lautet: {resultat_challenge}\")\n"
   ]
  },
  {
   "cell_type": "code",
   "execution_count": 328,
   "id": "56c29ef5",
   "metadata": {},
   "outputs": [
    {
     "name": "stdout",
     "output_type": "stream",
     "text": [
      "Einkaufsliste:\n",
      "- q1\n",
      "- 2\n",
      "- 3\n",
      "- 4\n",
      "- 5\n"
     ]
    }
   ],
   "source": [
    "#Einkaufsliste\n",
    "einkaufs_liste = []\n",
    "#schleife bis fertig\n",
    "while True:\n",
    "    artikel = input(\"Bitte geben Sie einen Artikel ein (oder 'fertig' zum Beenden): \")\n",
    "    if artikel.lower() == \"fertig\":\n",
    "        break\n",
    "    einkaufs_liste.append(artikel)\n",
    "\n",
    "print(\"Einkaufsliste:\")\n",
    "for item in einkaufs_liste:\n",
    "    print(f\"- {item}\")"
   ]
  },
  {
   "cell_type": "code",
   "execution_count": 329,
   "id": "ce0bc1f3",
   "metadata": {},
   "outputs": [
    {
     "name": "stdout",
     "output_type": "stream",
     "text": [
      "Die Summe der eingegebenen Zahlen beträgt: 15.0\n"
     ]
    }
   ],
   "source": [
    "#Uebung 1 Summe der Zahlen:\n",
    "\n",
    "#Schreibe ein Programm, das den Benutzer auffordert, 5 Zahlen einzugeben.\n",
    "#Speichere diese in einer Liste.\n",
    "#Verwende dann eine for-Schleife, um die Summe aller Zahlen zu berechnen und auszugeben.\n",
    "\n",
    "zahlen = []\n",
    "for i in range(5):\n",
    "    zahl = float(input(f\"Geben Sie die {i+1}. Zahl ein: \"))\n",
    "    zahlen.append(zahl)\n",
    "\n",
    "summe = 0\n",
    "for zahl in zahlen:\n",
    "    summe += zahl\n",
    "\n",
    "print(f\"Die Summe der eingegebenen Zahlen beträgt: {summe}\")"
   ]
  },
  {
   "cell_type": "code",
   "execution_count": 330,
   "id": "2b18e270",
   "metadata": {},
   "outputs": [
    {
     "name": "stdout",
     "output_type": "stream",
     "text": [
      "Dein Wort war: Test. Es hat eine Länge von: 4\n",
      "Dein Wort war: Nie. Es hat eine Länge von: 3\n",
      "Dein Wort war: Pizza. Es hat eine Länge von: 5\n",
      "Dein Wort war: Lasagne. Es hat eine Länge von: 7\n",
      "Dein Wort war: Gurke. Es hat eine Länge von: 5\n"
     ]
    }
   ],
   "source": [
    "#Uebung 2 Wortlängen:\n",
    "\n",
    "#Schreibe ein Programm, das den Benutzer auffordert, 5 Wörter einzugeben.\n",
    "#Speichere diese in einer Liste.\n",
    "#Verwende eine for-Schleife, um jedes Wort zusammen mit seiner Länge auszugeben.\n",
    "\n",
    "woerter = []\n",
    "for i in range(5):\n",
    "    wort = input(f\"Geben Sie das {i+1}. Wort ein: \")\n",
    "    woerter.append(wort)\n",
    "\n",
    "for wort in woerter:\n",
    "    print(f\"Dein Wort war: {wort}. Es hat eine Länge von: {len(wort)}\")\n"
   ]
  },
  {
   "cell_type": "code",
   "execution_count": 9,
   "id": "05afcae5",
   "metadata": {},
   "outputs": [
    {
     "name": "stdout",
     "output_type": "stream",
     "text": [
      "{'Siemens': '081612727387', 'BMW': '081612727337', 'Volkswagen': '081612727221', 'Kistenpfennig': '081612727992'}\n",
      "Kunde josh wurde hinzugefügt.\n",
      "{'Siemens': '081612727387', 'BMW': '081612727337', 'Volkswagen': '081612727221', 'Kistenpfennig': '081612727992', 'josh': '1234'}\n",
      "Die Telefonnummer von josh ist 1234.\n",
      "Kunde eddy wurde hinzugefügt.\n",
      "{'Siemens': '081612727387', 'BMW': '081612727337', 'Volkswagen': '081612727221', 'Kistenpfennig': '081612727992', 'josh': '1234', 'eddy': '4321'}\n",
      "Programm wird beendet.\n"
     ]
    }
   ],
   "source": [
    "#Wir haben ein Kunden dictionary. In diesen Dictionary haben wir schon folgende Kunden: Siemens:'081612727387', BMW:'081612727337', Volkswagen:'081612727221', Kistenpfennig:'081612727992'.\n",
    "#1. Neuer Kunde hinzufuegen.\n",
    "#2. Kunde anrufen. (Telefonnummer ausgeben)\n",
    "#Dieser Menue moechten wir jetzt programmieren.\n",
    "#Wenn der benutzer als Wahl eingabe die '1' eingibt => soll der benutzer aufgefordert werden einen neuen Kundennammen einzugeben und eine telefonnummer die in unser dictionary gespeichert werden sollen.\n",
    "#Eingabe 2: Telefonnumer von ein bestimmten Kunden ausgeben. Der benutzer muss daher den Kunde selber waehlen.\n",
    "#Alle andere Eingaben: ausgeben ungültige Eingabe.\n",
    "\n",
    "kunden_dict = {\n",
    "    'Siemens': '081612727387',\n",
    "    'BMW': '081612727337',\n",
    "    'Volkswagen': '081612727221',\n",
    "    'Kistenpfennig': '081612727992'\n",
    "}\n",
    "while True:\n",
    "    wahl = input(\"1. Neuer Kunde hinzufuegen, 2. Kunde anrufen, 3. Beenden, 4. Alle gespeicherten Kontakte anzeigen: \")\n",
    "    if wahl == '1':\n",
    "        neuer_kunde = input(\"Bitte geben Sie den Namen des neuen Kunden ein: \")\n",
    "        neue_nummer = input(\"Bitte geben Sie die Telefonnummer des neuen Kunden ein: \")\n",
    "        kunden_dict[neuer_kunde] = neue_nummer\n",
    "        print(f\"Kunde {neuer_kunde} wurde hinzugefügt.\")\n",
    "    elif wahl == '2':\n",
    "        anruf_kunde = input(\"Bitte geben Sie den Namen des Kunden ein, den Sie anrufen möchten: \")\n",
    "        if anruf_kunde in kunden_dict:\n",
    "            print(f\"Die Telefonnummer von {anruf_kunde} ist {kunden_dict[anruf_kunde]}.\")\n",
    "        else:\n",
    "            print(\"Kunde nicht gefunden.\")\n",
    "    elif wahl == '3':\n",
    "        print(\"Programm wird beendet.\")\n",
    "        break\n",
    "    elif wahl == '4':\n",
    "        print(kunden_dict)\n",
    "    else:\n",
    "        print(\"Ungültige Eingabe. Bitte versuchen Sie es erneut.\")\n"
   ]
  }
 ],
 "metadata": {
  "kernelspec": {
   "display_name": "Python 3",
   "language": "python",
   "name": "python3"
  },
  "language_info": {
   "codemirror_mode": {
    "name": "ipython",
    "version": 3
   },
   "file_extension": ".py",
   "mimetype": "text/x-python",
   "name": "python",
   "nbconvert_exporter": "python",
   "pygments_lexer": "ipython3",
   "version": "3.13.5"
  }
 },
 "nbformat": 4,
 "nbformat_minor": 5
}
