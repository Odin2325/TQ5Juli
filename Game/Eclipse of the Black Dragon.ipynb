{
 "cells": [
  {
   "cell_type": "markdown",
   "id": "5882c22b",
   "metadata": {},
   "source": [
    "# Rogue-Like RPG - Aktueller Projekttitel"
   ]
  },
  {
   "cell_type": "code",
   "execution_count": null,
   "id": "98c6b998",
   "metadata": {},
   "outputs": [
    {
     "name": "stdout",
     "output_type": "stream",
     "text": [
      "=======================================================\n",
      "  Hallo und willkommen zu meinem kleinen Rogue-Like RPG  \n",
      "=======================================================\n",
      "\n",
      "In diesem Abenteuer wirst du durch Dungeons ziehen, Gegner bekämpfen und Erfahrung sammeln.\n",
      "Wähle deine Klasse weise und achte auf deine Werte!\n",
      "\n"
     ]
    }
   ],
   "source": [
    "print(\"=======================================================\")\n",
    "print(\"  Hallo und willkommen zu Eclipse of the Black Dragon! v0.1 \")\n",
    "print(\"=======================================================\\n\")\n",
    "print(\"In diesem Abenteuer wirst du durch Dungeons ziehen, Gegner bekämpfen und Erfahrung sammeln.\")\n",
    "print(\"Wähle deine Klasse weise und achte auf deine Werte!\\n\")"
   ]
  },
  {
   "cell_type": "code",
   "execution_count": 27,
   "id": "46eadd9b",
   "metadata": {},
   "outputs": [
    {
     "name": "stdout",
     "output_type": "stream",
     "text": [
      "\n",
      "Willkommen, Hannes! Lass uns dein Abenteuer beginnen.\n",
      "\n"
     ]
    }
   ],
   "source": [
    "\n",
    "# Frage nachden Spielernamen\n",
    "spieler_name = input(\"Wie lautet dein Name, Abenteurer?\")\n",
    "print(f\"\\nWillkommen, {spieler_name}! Lass uns dein Abenteuer beginnen.\\n\")"
   ]
  },
  {
   "cell_type": "code",
   "execution_count": 28,
   "id": "ac588e3a",
   "metadata": {},
   "outputs": [],
   "source": [
    "# Klasse\n",
    "class Klasse:\n",
    "    def __init__(self, name, hp, atk, defense, init):\n",
    "        self.name = name # Name der Klasse\n",
    "        self.hp = hp # Lebenspunkte\n",
    "        self.atk = atk # Angriffswerte\n",
    "        self.defense = defense # Verteidigung\n",
    "        self.init = init # Initative\n",
    "\n",
    "    def __str__(self):\n",
    "        return f\"{self.name} | HP: {self.hp} | ATK: {self.atk} | DEF: {self.defense} | INIT: {self.init}\""
   ]
  },
  {
   "cell_type": "code",
   "execution_count": 29,
   "id": "0405dfd6",
   "metadata": {},
   "outputs": [],
   "source": [
    "# Verfügbare Klassen\n",
    "verfuegbare_klassen = [\n",
    "    Klasse(\"Krieger\", hp=150, atk=12, defense=15, init=5),\n",
    "    Klasse(\"Schurke\", hp=100, atk=18, defense=10, init=15),\n",
    "    Klasse(\"Waldläufer\", hp=70, atk=22, defense=5, init=20)\n",
    "]"
   ]
  },
  {
   "cell_type": "code",
   "execution_count": 30,
   "id": "022bc253",
   "metadata": {},
   "outputs": [
    {
     "name": "stdout",
     "output_type": "stream",
     "text": [
      "Hannes, wähle deine Klasse für dein Abenteuer:\n",
      "\n",
      "1. Krieger | HP: 150 | ATK: 12 | DEF: 15 | INIT: 5\n",
      "2. Schurke | HP: 100 | ATK: 18 | DEF: 10 | INIT: 15\n",
      "3. Waldläufer | HP: 70 | ATK: 22 | DEF: 5 | INIT: 20\n",
      "\n",
      "Hannes, du hast die Klasse Schurke gewählt!\n",
      "\n",
      "Du bist von nun bekannt als Hannes der Schurke!\n",
      "\n"
     ]
    }
   ],
   "source": [
    "# Klassenwahl\n",
    "def waehle_klasse(spieler_name):\n",
    "    while True:\n",
    "        print(f\"{spieler_name}, wähle deine Klasse für dein Abenteuer:\\n\")\n",
    "\n",
    "        # Zeige alle verfügbaren Klassen an\n",
    "        for i, k in enumerate(verfuegbare_klassen, start=1):\n",
    "            print(f\"{i}. {k}\")\n",
    "\n",
    "        # Eigentliche Klassenwahl\n",
    "        auswahl = input(\"\\nDeine Wahl (1-3):\")\n",
    "\n",
    "        if auswahl in [\"1\", \"2\", \"3\"]:\n",
    "            gewaehlte_klasse = verfuegbare_klassen[int(auswahl)-1]\n",
    "            print(f\"\\n{spieler_name}, du hast die Klasse {gewaehlte_klasse.name} gewählt!\\n\")\n",
    "            bestaetigung = input(\"Willst du diese Klasse wählen? (j/n)\").lower()\n",
    "            if bestaetigung == \"j\":\n",
    "                print(f\"Du bist von nun bekannt als {spieler_name} der {gewaehlte_klasse.name}!\\n\")\n",
    "                return gewaehlte_klasse\n",
    "            else:\n",
    "                print(\"Dann wähle erneut.\\n\")\n",
    "        else:\n",
    "            print(\"Ungültige Wahl. Bitte wähle eine Klasse mit den Zahlen 1 bis 3.\\n\")\n",
    "\n",
    "spieler_klasse = waehle_klasse(spieler_name)"
   ]
  },
  {
   "cell_type": "code",
   "execution_count": 31,
   "id": "fe7ebe08",
   "metadata": {},
   "outputs": [
    {
     "name": "stdout",
     "output_type": "stream",
     "text": [
      "\n",
      "Möchtest du den dunklen Dungeon betreten und dein Abenteuer beginnen?\n",
      "Du beschließt, doch lieber zum dorf zurückzukehren. Statt ein strahlender Held zu werden, führst du ein langweiliges Leben, aber langes leben als Bauer.\n",
      "\n",
      "Möchtest du den dunklen Dungeon betreten und dein Abenteuer beginnen?\n",
      "\n",
      "Du gehst du dunklen Stufen in die Schwärze hinab. Nur der Schein deiner Fackel erhellt den Weg vor dir.\n"
     ]
    },
    {
     "data": {
      "text/plain": [
       "True"
      ]
     },
     "execution_count": 31,
     "metadata": {},
     "output_type": "execute_result"
    }
   ],
   "source": [
    "#game start abfrage\n",
    "def game_start(spieler_name, spieler_klasse):\n",
    "    while True:\n",
    "        print(\"\\nMöchtest du den dunklen Dungeon betreten und dein Abenteuer beginnen?\")\n",
    "\n",
    "        if input(\"Gib 'j' ein, um zu starten: \").lower() == 'j':\n",
    "            print(\"\\nDu gehst du dunklen Stufen in die Schwärze hinab. Nur der Schein deiner Fackel erhellt den Weg vor dir.\")\n",
    "            return True\n",
    "        else:\n",
    "            print(\"Du beschließt, doch lieber zum dorf zurückzukehren. Statt ein strahlender Held zu werden, führst du ein langweiliges Leben, aber langes leben als Bauer.\")\n",
    "            input()\n",
    "\n",
    "game_start(spieler_name, spieler_klasse)"
   ]
  },
  {
   "cell_type": "code",
   "execution_count": null,
   "id": "7b4c33b6",
   "metadata": {},
   "outputs": [],
   "source": [
    "#Monster Liste\n",
    "monster_liste = [\n",
    "    Klasse(\"Goblin\", hp=30, atk=8, defense=3, init=10),\n",
    "    Klasse(\"Zombie\", hp=50, atk=10, defense=5, init=2),\n",
    "    Klasse(\"Skelettkrieger\", hp=40, atk=10, defense=6, init=8),\n",
    "    Klasse(\"Naga\", hp=35, atk=18, defense=4, init=12),\n",
    "    Klasse(\"Ork\", hp=80, atk=12, defense=15, init=5),\n",
    "    Klasse(\"Dunkler Magier\", hp=25, atk=20, defense=3, init=18),\n",
    "    Klasse(\"Schwarzer Drache\", hp=200, atk=25, defense=20, init=15) # Bossgegner\n",
    "]"
   ]
  }
 ],
 "metadata": {
  "kernelspec": {
   "display_name": "Python 3",
   "language": "python",
   "name": "python3"
  },
  "language_info": {
   "codemirror_mode": {
    "name": "ipython",
    "version": 3
   },
   "file_extension": ".py",
   "mimetype": "text/x-python",
   "name": "python",
   "nbconvert_exporter": "python",
   "pygments_lexer": "ipython3",
   "version": "3.13.5"
  }
 },
 "nbformat": 4,
 "nbformat_minor": 5
}
