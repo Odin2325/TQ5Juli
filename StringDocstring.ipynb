{
 "cells": [
  {
   "cell_type": "code",
   "execution_count": null,
   "id": "2ecf8ff2",
   "metadata": {},
   "outputs": [],
   "source": [
    "# String DocString\n",
    "## Aufgabe 1 Strings:\n",
    "\n",
    "## Erstellt eine Variable mit einen Text. Ihr solltet euren gewuenscht in 2 unterschiedliche Zeilen ausgeben. Beide Aufgaben loesen.\n",
    "\n",
    "## V1: Mit ein normalen String\n",
    "## V2: Mit ein docstring"
   ]
  },
  {
   "cell_type": "code",
   "execution_count": null,
   "id": "af944b5a",
   "metadata": {},
   "outputs": [],
   "source": [
    "#normaler String\n",
    "normalerString = \"Normaler Text\"\n",
    "print(normalerString)\n",
    "\n",
    "#Docstring \n",
    "docString = \"\"\"Das ist ein\n",
    "Docstring Text\"\"\"\n",
    "print(DocString)\n"
   ]
  }
 ],
 "metadata": {
  "kernelspec": {
   "display_name": "Python 3",
   "language": "python",
   "name": "python3"
  },
  "language_info": {
   "codemirror_mode": {
    "name": "ipython",
    "version": 3
   },
   "file_extension": ".py",
   "mimetype": "text/x-python",
   "name": "python",
   "nbconvert_exporter": "python",
   "pygments_lexer": "ipython3",
   "version": "3.13.5"
  }
 },
 "nbformat": 4,
 "nbformat_minor": 5
}
