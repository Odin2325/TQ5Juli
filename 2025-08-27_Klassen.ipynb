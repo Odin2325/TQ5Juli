{
 "cells": [
  {
   "cell_type": "code",
   "execution_count": null,
   "id": "4b4fe1e3",
   "metadata": {},
   "outputs": [],
   "source": [
    "class Auto:\n",
    "\n",
    "    #Konstruktor\n",
    "    def __init__(self,farbe,modelle,preis):\n",
    "        self.farbe = farbe\n",
    "        self.modelle = modelle\n",
    "        self.preis = preis\n",
    "        self.anzahl_tuere = 4\n",
    "        self.raeder_typ = 'Michellin'\n",
    "        self.marke = 'BMW'\n",
    "        self.treibstoff = 'Benzin'\n",
    "\n",
    "    def auto_details(self):\n",
    "        print(f'Auto Details:\\nFarbe = {self.farbe}\\nModell = {self.modelle}\\nPreis = {self.preis}\\nAnzahl Tuere = {self.anzahl_tuere}\\nRaeder Typ = {self.raeder_typ}\\nMarke = {self.marke}\\nTreibstoff = {self.treibstoff}')\n",
    "\n",
    "\n",
    "#Self muss immer innerhalb der runden klammern \n",
    "#von jede methode in einer klasse als erstes parameter drin stehen.\n",
    "#Aber nur wenn wir die Methode von die Instaz aufruf moechten.\n",
    "#Methode ohne self in eine Klasse heissen static methoden.\n",
    "#Static methoden muessen direkt von eine Klasse aufgerufen werden.\n",
    "#Die duerfen nicht von ein objekt aufgerufen werden.\n",
    "mein_erstes_auto = Auto(farbe='Grau',modelle='A2',preis=35000)\n",
    "mein_erstes_auto.auto_details()\n",
    "#Auto.autodetails(mein_erstes_auto)\n",
    "\n",
    "klassen_fahrzeug = Auto('Blau','Bus',89000) "
   ]
  },
  {
   "cell_type": "markdown",
   "id": "b7065a52",
   "metadata": {},
   "source": [
    "Aufgabe: Erstelle eine Klasse Bankkonto mit alle fuer euch sinnvolle eigenschaften.\n",
    "Ueberlege euch welche eigenschaft sollten hartcodiert werden und welche soll beim erstellen des Kontos eingegeben werden.\n",
    "\n",
    "Dann details methode schreiben, wo alle informationen ausgegeben werden."
   ]
  },
  {
   "cell_type": "code",
   "execution_count": null,
   "id": "75f671d5",
   "metadata": {},
   "outputs": [],
   "source": [
    "class Bankkonto:\n",
    "\n",
    "    # Konstruktor\n",
    "    def __init__(self,kontonummer,inhaber,kontostand):\n",
    "        self.kontonummer = kontonummer\n",
    "        self.inhaber = inhaber\n",
    "        self.kontostand = kontostand\n",
    "        self.waehrung = 'Euro'\n",
    "        self.bank_name = 'Postbank'\n",
    "        self.zweigstelle = 'Hamburg'\n",
    "\n",
    "    def konto_details(self):\n",
    "        print(f'Konto Details:\\nKontonummer = {self.kontonummer}\\nInhaber = {self.inhaber}\\nKontostand = {self.kontostand}\\nWaehrung = {self.waehrung}\\nBank Name = {self.bank_name}\\nZweigstelle = {self.zweigstelle}')"
   ]
  }
 ],
 "metadata": {
  "language_info": {
   "name": "python"
  }
 },
 "nbformat": 4,
 "nbformat_minor": 5
}
