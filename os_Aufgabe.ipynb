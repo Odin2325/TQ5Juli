{
 "cells": [
  {
   "cell_type": "markdown",
   "id": "f8053cf4",
   "metadata": {},
   "source": [
    "# OS Erste Befehle Beispiele"
   ]
  },
  {
   "cell_type": "code",
   "execution_count": null,
   "id": "e1a7411e",
   "metadata": {},
   "outputs": [
    {
     "name": "stdout",
     "output_type": "stream",
     "text": [
      "Benutzer: mytq\n",
      "System: uname_result(system='Windows', node='MYTQ-8', release='2022Server', version='10.0.20348', machine='AMD64')\n",
      "Umgebungsvariable PATH. c:\\Program Files\\Python313;c:\\Users\\mytq\\AppData\\Roaming\\Python\\Python313\\Scripts;C:\\Program Files\\Python313\\Scripts\\;C:\\Program Files\\Python313\\;C:\\Windows\\system32;C:\\Windows;C:\\Windows\\System32\\Wbem;C:\\Windows\\System32\\WindowsPowerShell\\v1.0\\;C:\\Windows\\System32\\OpenSSH\\;C:\\Program Files\\Git\\cmd;C:\\Program Files\\MySQL\\MySQL Shell 8.0\\bin\\;C:\\Users\\mytq\\AppData\\Local\\Microsoft\\WindowsApps;C:\\Users\\mytq\\AppData\\Local\\Programs\\Microsoft VS Code\\bin;C:\\Users\\mytq\\AppData\\Local\\GitHubDesktop\\bin;C:\\Program Files\\Python313\\Scripts\\;C:\\Program Files\\Python313\\;C:\\Windows\\system32;C:\\Windows;C:\\Windows\\System32\\Wbem;C:\\Windows\\System32\\WindowsPowerShell\\v1.0\\;C:\\Windows\\System32\\OpenSSH\\;C:\\Program Files\\Git\\cmd;C:\\Program Files\\MySQL\\MySQL Shell 8.0\\bin\\;C:\\Users\\mytq\\AppData\\Local\\Microsoft\\WindowsApps;C:\\Users\\mytq\\AppData\\Local\\Programs\\Microsoft VS Code\\bin;C:\\Users\\mytq\\AppData\\Local\\GitHubDesktop\\bin\n"
     ]
    }
   ],
   "source": [
    "import os\n",
    "import platform\n",
    "# Benutzername\n",
    "print(\"Benutzer:\", os.getlogin())\n",
    "\n",
    "#OS-Informationen\n",
    "print(\"System:\", platform.uname())\n",
    "\n",
    "#Umgebungsvariablen\n",
    "print(\"Umgebungsvariable PATH.\", os.getenv(\"PATH\"))\n",
    "\n",
    "#Gruppeninformationen\n",
    "user = osgroups = win32api.GetUserName"
   ]
  },
  {
   "cell_type": "code",
   "execution_count": 5,
   "id": "1e097008",
   "metadata": {},
   "outputs": [
    {
     "data": {
      "text/plain": [
       "'c:\\\\Users\\\\mytq\\\\Documents\\\\GitHub\\\\TQ5Juli'"
      ]
     },
     "execution_count": 5,
     "metadata": {},
     "output_type": "execute_result"
    }
   ],
   "source": [
    "os.getcwd()"
   ]
  },
  {
   "cell_type": "code",
   "execution_count": 6,
   "id": "8e693a47",
   "metadata": {},
   "outputs": [
    {
     "data": {
      "text/plain": [
       "['.git',\n",
       " '.github',\n",
       " '.gitignore',\n",
       " '04.08.2025_Aufgabe',\n",
       " '11.08.2020(1).drawio.png',\n",
       " '11.08.2025(2).drawio.png',\n",
       " '11.08.2025(3).drawio.png',\n",
       " '2025-08-04_Flussdiagramme_Maryam.drawio.png',\n",
       " 'Aufgabe.13August.txt',\n",
       " 'Aufgabe03.09.py',\n",
       " 'Aufgabe21.08.ipynb',\n",
       " 'AufgabenUndLoesungen',\n",
       " 'Aufgaben_Pflichtenhefte.pdf',\n",
       " 'Hausaufgabe ab 18.08.25.ipynb',\n",
       " 'os_Aufgabe.ipynb',\n",
       " 'PythonErsteModule24Juli',\n",
       " 'struktogramm-12-8-2025.pdf',\n",
       " 'testDetei.txt',\n",
       " 'Unbenanntes Diagramm.28.08.drawio',\n",
       " 'Unbenanntes Diagramm2.drawio.png',\n",
       " 'Unbenanntes Diagramm2.drawio.png.crdownload',\n",
       " '_Diagramm.drawio.28.08.png',\n",
       " 'üben.ipynb']"
      ]
     },
     "execution_count": 6,
     "metadata": {},
     "output_type": "execute_result"
    }
   ],
   "source": [
    "os.listdir()"
   ]
  },
  {
   "cell_type": "markdown",
   "id": "1234716d",
   "metadata": {},
   "source": [
    "# Liste dein aktuelles Arbeitverzeichnis auf."
   ]
  },
  {
   "cell_type": "code",
   "execution_count": null,
   "id": "f0280be7",
   "metadata": {},
   "outputs": [
    {
     "name": "stdout",
     "output_type": "stream",
     "text": [
      "Aktuelles Arbeitsverzeichnis: c:\\Users\\mytq\\Documents\\GitHub\\TQ5Juli\n"
     ]
    }
   ],
   "source": [
    "import os\n",
    "\n",
    "aktuelles_verzeichnis = os.getcwd()\n",
    "\n",
    "print(\"Aktuelles Arbeitsverzeichnis:\", aktuelles_verzeichnis)\n"
   ]
  },
  {
   "cell_type": "markdown",
   "id": "6566eb08",
   "metadata": {},
   "source": [
    "# Erstelle und lösche anschlißend einen Ordner in deinem aktuellen Arbeitsverzeinis."
   ]
  },
  {
   "cell_type": "code",
   "execution_count": 21,
   "id": "65b6cc6d",
   "metadata": {},
   "outputs": [
    {
     "name": "stdout",
     "output_type": "stream",
     "text": [
      "Ordner '4.september' existiert bereits.\n",
      "Ordner '4.september' wurde gelöscht.\n"
     ]
    }
   ],
   "source": [
    "import os\n",
    "\n",
    "ordner_name = \"4.september\"\n",
    "\n",
    "try:\n",
    "    os.mkdir(ordner_name)\n",
    "    print(f\"Ordner '{ordner_name}' wurde erstellt.\")\n",
    "except FileExistsError:\n",
    "    print(f\"Ordner '{ordner_name}' existiert bereits.\")\n",
    "\n",
    "\n",
    "os.rmdir(ordner_name)\n",
    "print(f\"Ordner '{ordner_name}' wurde gelöscht.\")"
   ]
  },
  {
   "cell_type": "markdown",
   "id": "4ac55693",
   "metadata": {},
   "source": [
    "# Gib Informationen ueber den aktuell angemeldeten Benutzer aus."
   ]
  },
  {
   "cell_type": "code",
   "execution_count": 23,
   "id": "5c0e2ad6",
   "metadata": {},
   "outputs": [
    {
     "name": "stdout",
     "output_type": "stream",
     "text": [
      "Aktuell angemeldeter Benutzer: mytq\n"
     ]
    }
   ],
   "source": [
    "import os\n",
    "\n",
    "benutzer = os.getlogin()\n",
    "\n",
    "print(\"Aktuell angemeldeter Benutzer:\", benutzer)"
   ]
  },
  {
   "cell_type": "markdown",
   "id": "c8baa73a",
   "metadata": {},
   "source": [
    "# JSON"
   ]
  },
  {
   "cell_type": "markdown",
   "id": "d3d89bf4",
   "metadata": {},
   "source": [
    "# Schreibe eine kleine methode wo du einen inhalt(gerne einfach einen normalen string) in einen datei im json format abspeichert."
   ]
  },
  {
   "cell_type": "code",
   "execution_count": 35,
   "id": "e111e9bc",
   "metadata": {},
   "outputs": [
    {
     "data": {
      "text/plain": [
       "'Hallo ich wuensche dir heute einen schoenen Tag'"
      ]
     },
     "execution_count": 35,
     "metadata": {},
     "output_type": "execute_result"
    }
   ],
   "source": [
    "text = \"Hallo ich wuensche dir heute einen schoenen Tag\"\n",
    "json_text = json.dumps(text)\n",
    "json.loads(json_text)"
   ]
  },
  {
   "cell_type": "code",
   "execution_count": 48,
   "id": "0ed24f0c",
   "metadata": {},
   "outputs": [
    {
     "name": "stdout",
     "output_type": "stream",
     "text": [
      "JSON-Kunde:\n",
      "{\n",
      "    \"vorname\": \"Maryam\",\n",
      "    \"nachname\": \"Rostami\",\n",
      "    \"adresse\": \"strasse1\",\n",
      "    \"telefonnummer\": \"0124545\",\n",
      "    \"email\": \"muster@bob.de\",\n",
      "    \"alter\": 99\n",
      "}\n",
      "\n",
      "Zurück in Python:\n",
      "{'vorname': 'Maryam', 'nachname': 'Rostami', 'adresse': 'strasse1', 'telefonnummer': '0124545', 'email': 'muster@bob.de', 'alter': 99}\n"
     ]
    }
   ],
   "source": [
    "import json\n",
    "\n",
    "\n",
    "class Kunde:\n",
    "    def __init__(self, vorname, nachname, adresse, telefonnummer, email, alter):\n",
    "        self.vorname = vorname\n",
    "        self.nachname = nachname\n",
    "        self.adresse = adresse\n",
    "        self.telefonnummer = telefonnummer\n",
    "        self.email = email\n",
    "        self.alter = alter\n",
    "\n",
    "# Kunde erstellen\n",
    "kunde = Kunde(\"Maryam\", \"Rostami\", \"strasse1\", \"0124545\", \"muster@bob.de\", 99)\n",
    "\n",
    "# Kunde-Objekt in JSON umwandeln\n",
    "json_Kunde = json.dumps(kunde.__dict__, ensure_ascii=False, indent=4)\n",
    "print(\"JSON-Kunde:\")\n",
    "print(json_Kunde)\n",
    "\n",
    "# JSON wieder in Python Dictionary zurückwandeln\n",
    "python_kunde = json.loads(json_Kunde)\n",
    "print(\"\\nZurück in Python:\")\n",
    "print(python_kunde)\n"
   ]
  },
  {
   "cell_type": "code",
   "execution_count": 46,
   "id": "eadd12f9",
   "metadata": {},
   "outputs": [],
   "source": [
    "kunde = Kunde(\"Maryam\", \"Rostami\", \"strasse1\", \"0124545\", \"muster@bob.de\", 99)\n",
    "json_Kunde = json.dumps(kunde.__dict__)\n",
    "with open(\"file.json\", \"a\") as f:\n",
    "    f.write(json_Kunde)\n",
    "    f.write(\"\\n\")"
   ]
  }
 ],
 "metadata": {
  "kernelspec": {
   "display_name": "Python 3",
   "language": "python",
   "name": "python3"
  },
  "language_info": {
   "codemirror_mode": {
    "name": "ipython",
    "version": 3
   },
   "file_extension": ".py",
   "mimetype": "text/x-python",
   "name": "python",
   "nbconvert_exporter": "python",
   "pygments_lexer": "ipython3",
   "version": "3.13.5"
  }
 },
 "nbformat": 4,
 "nbformat_minor": 5
}
