{
 "cells": [
  {
   "cell_type": "markdown",
   "id": "19b36d77",
   "metadata": {},
   "source": [
    "# Python Einführung"
   ]
  },
  {
   "cell_type": "code",
   "execution_count": 6,
   "id": "1efa98eb",
   "metadata": {},
   "outputs": [
    {
     "name": "stdout",
     "output_type": "stream",
     "text": [
      "Hey Whats UP?!\n"
     ]
    }
   ],
   "source": [
    "# Print gibt hier das aus was in \"\" steht \n",
    "print (\"Hey Whats UP?!\")\n"
   ]
  },
  {
   "cell_type": "code",
   "execution_count": 15,
   "id": "e82099d6",
   "metadata": {},
   "outputs": [
    {
     "name": "stdout",
     "output_type": "stream",
     "text": [
      "Schilling Sascha Musterstraße 18 1995-06-02 30\n"
     ]
    }
   ],
   "source": [
    "\n",
    "\n",
    "# Variabelen in Python\n",
    "import datetime \n",
    "\n",
    "name = \"Schilling\" \n",
    "vorname = \"Sascha\"\n",
    "adresse = \"Musterstraße\"\n",
    "Hnr = 18\n",
    "geburtsdatum = datetime.date(1995,6,2)\n",
    "\n",
    "alter = 30 \n",
    "print (name,vorname,adresse,Hnr,geburtsdatum,alter)"
   ]
  },
  {
   "cell_type": "code",
   "execution_count": null,
   "id": "4003fce2",
   "metadata": {},
   "outputs": [],
   "source": [
    "# Einkaufsliste erstellen und ausgeben\n",
    "# Eingabe von der Konsole \n",
    "einkaufliste = []\n",
    "eingabe = ''\n",
    "\n",
    "while eingabe != 'quit':\n",
    "    eingabe = input('Was moechten Sie einkaufen? (quit zum beenden) ')\n",
    "    if eingabe != 'quit':\n",
    "        einkaufliste.append(eingabe)\n",
    "        # 0 durchlauf []\n",
    "        # 1 durchlauf ['apfel']\n",
    "        # 2 durchlauf ['apfel', 'brot']\n",
    "        # usw.\n",
    "\n",
    "print('Ihre Einkaufsliste: ', einkaufliste)"
   ]
  }
 ],
 "metadata": {
  "kernelspec": {
   "display_name": "Python 3",
   "language": "python",
   "name": "python3"
  },
  "language_info": {
   "codemirror_mode": {
    "name": "ipython",
    "version": 3
   },
   "file_extension": ".py",
   "mimetype": "text/x-python",
   "name": "python",
   "nbconvert_exporter": "python",
   "pygments_lexer": "ipython3",
   "version": "3.13.5"
  }
 },
 "nbformat": 4,
 "nbformat_minor": 5
}
