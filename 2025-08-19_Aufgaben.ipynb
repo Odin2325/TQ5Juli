{
 "cells": [
  {
   "cell_type": "markdown",
   "id": "81d5c747",
   "metadata": {},
   "source": [
    "## Aufgabe 1:\n",
    "Erstelle eine Schleife mit die Summe von 1 bis 15 inklusiv."
   ]
  },
  {
   "cell_type": "code",
   "execution_count": 1,
   "id": "182ac1d0",
   "metadata": {},
   "outputs": [
    {
     "name": "stdout",
     "output_type": "stream",
     "text": [
      "1 2 3 4 5 6 7 8 9 10 11 12 13 14 15 "
     ]
    }
   ],
   "source": [
    "counter = 0\n",
    "\n",
    "while counter < 15:\n",
    "    counter += 1\n",
    "    print(counter, end=' ')"
   ]
  },
  {
   "cell_type": "markdown",
   "id": "2fb94306",
   "metadata": {},
   "source": [
    "## Aufgabe 2:\n",
    "Der Benutzer soll eine Eingabe eingeben mit folgende eigenschaften. Der String muss mit ein B starten und muss der laenge 10 sein. Wenn das nicht der fall ist, dann soll der Benutzer nochmal aufgefordert werden ein wert einzugeben."
   ]
  },
  {
   "cell_type": "code",
   "execution_count": null,
   "id": "6bf5a42b",
   "metadata": {},
   "outputs": [],
   "source": [
    "eingabe = \"\"\n",
    "\n",
    "while not (eingabe.upper().startswith('B') and len(eingabe) == 10):\n",
    "    eingabe = input(\"Ungültige Eingabe. Bitte geben Sie einen String ein, der mit 'B' beginnt und 10 Zeichen lang ist: \")\n",
    "\n",
    "print(f\"Eingabe akzeptiert: {eingabe}\")"
   ]
  },
  {
   "cell_type": "markdown",
   "id": "ada62fb6",
   "metadata": {},
   "source": [
    "## Aufgabe 3:\n",
    "Ein Benutzer erstellt ein neues Passwort für sein Konto. Dieses neue Passwort muss 10 Zeichen lang sein. Es muss auch mind. 1 Sonderzeichen enthalten. Wenn dies nicht der Fall, dann soll ausgegeben werden, was er tun soll, um sein Passwort zu verbessern und erneut gefragt werden."
   ]
  },
  {
   "cell_type": "code",
   "execution_count": null,
   "id": "a2bccaea",
   "metadata": {},
   "outputs": [],
   "source": [
    "import string\n",
    "\n",
    "sonderzeichen = string.punctuation\n",
    "\n",
    "while True:\n",
    "    pw = input(\"Bitte geben Sie Ihr neues Passwort ein: \")\n",
    "    \n",
    "    # Überprüfen, ob das Passwort mindestens 10 Zeichen lang ist und mindestens ein Sonderzeichen enthält\n",
    "    if len(pw) >= 10 and any(char in sonderzeichen for char in pw):\n",
    "        print(\"Passwort akzeptiert.\")\n",
    "        break\n",
    "    else:\n",
    "        print(\"Das Passwort muss mindestens 10 Zeichen lang sein und mindestens ein Sonderzeichen enthalten. Bitte versuchen Sie es erneut.\")"
   ]
  },
  {
   "cell_type": "code",
   "execution_count": null,
   "id": "4f0bc137",
   "metadata": {},
   "outputs": [],
   "source": [
    "import string\n",
    "\n",
    "sonderzeichen = string.punctuation\n",
    "\n",
    "while True:\n",
    "    pw = input(\"Bitte geben Sie Ihr neues Passwort ein: \")\n",
    "    \n",
    "    # Überprüfen, ob das Passwort genau 10 Zeichen lang ist und mindestens ein Sonderzeichen enthält\n",
    "    if len(pw) != 10\n",
    "        print(\"Das Passwort muss genau 10 Zeichen lang sein.\")\n",
    "    elif len(pw) >= 10 and any(char in sonderzeichen for char in pw):\n",
    "        print(\"Das Passwort muss mindestens ein Sonderzeichen enthalten.\")\n",
    "        break\n",
    "    else:\n",
    "         print(\"Passwort akzeptiert.\")"
   ]
  }
 ],
 "metadata": {
  "kernelspec": {
   "display_name": "Python 3",
   "language": "python",
   "name": "python3"
  },
  "language_info": {
   "codemirror_mode": {
    "name": "ipython",
    "version": 3
   },
   "file_extension": ".py",
   "mimetype": "text/x-python",
   "name": "python",
   "nbconvert_exporter": "python",
   "pygments_lexer": "ipython3",
   "version": "3.13.5"
  }
 },
 "nbformat": 4,
 "nbformat_minor": 5
}
