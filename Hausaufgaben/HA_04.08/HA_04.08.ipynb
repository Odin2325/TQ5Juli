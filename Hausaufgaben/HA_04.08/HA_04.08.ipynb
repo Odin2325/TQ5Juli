{
 "cells": [
  {
   "cell_type": "markdown",
   "id": "af83c12a",
   "metadata": {},
   "source": [
    "Aufgabe 1: Summe von zwei Zahlen berechnen"
   ]
  },
  {
   "cell_type": "code",
   "execution_count": null,
   "id": "c54223ed",
   "metadata": {},
   "outputs": [],
   "source": [
    "ALGORITHMUS SummeBerechnen\n",
    "    VAR\n",
    "        Zahl1, Zahl2, Summe: GANZZAHL\n",
    "    ANFANG\n",
    "        AUSGABE \"Bitte gib die erste Zahl ein:\"\n",
    "        EINGABE Zahl1\n",
    "        AUSGABE \"Bitte gib die zweite Zahl ein:\"\n",
    "        EINGABE Zahl2\n",
    "        Summe ← Zahl1 + Zahl2\n",
    "        AUSGABE \"Die Summe der Zahlen ist: \", Summe\n",
    "    ENDE\n"
   ]
  },
  {
   "cell_type": "markdown",
   "id": "38d5e55c",
   "metadata": {},
   "source": [
    "Aufgabe 2: Fläche eines Rechtecks berechnen"
   ]
  },
  {
   "cell_type": "code",
   "execution_count": null,
   "id": "5ac327df",
   "metadata": {},
   "outputs": [],
   "source": [
    "ALGORITHMUS RechteckFlaeche\n",
    "    VAR\n",
    "        Laenge, Breite, Flaeche: GANZZAHL\n",
    "    ANFANG\n",
    "        AUSGABE \"Bitte gib die Länge des Rechtecks ein:\"\n",
    "        EINGABE Laenge\n",
    "        AUSGABE \"Bitte gib die Breite des Rechtecks ein:\"\n",
    "        EINGABE Breite\n",
    "        Flaeche ← Laenge * Breite\n",
    "        AUSGABE \"Die Fläche des Rechtecks ist: \", Flaeche\n",
    "    ENDE\n"
   ]
  },
  {
   "cell_type": "markdown",
   "id": "87a6e543",
   "metadata": {},
   "source": [
    "Aufgabe 3: Umfang eines Rechtecks berechnen\n"
   ]
  },
  {
   "cell_type": "code",
   "execution_count": null,
   "id": "c50aa9fc",
   "metadata": {},
   "outputs": [],
   "source": [
    "ALGORITHMUS RechteckUmfang\n",
    "    VAR\n",
    "        Laenge, Breite, Umfang: GANZZAHL\n",
    "    ANFANG\n",
    "        AUSGABE \"Bitte gib die Länge des Rechtecks ein:\"\n",
    "        EINGABE Laenge\n",
    "        AUSGABE \"Bitte gib die Breite des Rechtecks ein:\"\n",
    "        EINGABE Breite\n",
    "        Umfang ← 2 * (Laenge + Breite)\n",
    "        AUSGABE \"Der Umfang des Rechtecks ist: \", Umfang\n",
    "    ENDE\n"
   ]
  },
  {
   "cell_type": "markdown",
   "id": "6d90b435",
   "metadata": {},
   "source": [
    "Aufgabe 4: Die größere Zahl von zwei Zahlen finden"
   ]
  },
  {
   "cell_type": "code",
   "execution_count": null,
   "id": "aa8a233a",
   "metadata": {},
   "outputs": [],
   "source": [
    "ALGORITHMUS GroessereZahlFinden\n",
    "    VAR\n",
    "        Zahl1, Zahl2: GANZZAHL\n",
    "    ANFANG\n",
    "        AUSGABE \"Bitte gib die erste Zahl ein:\"\n",
    "        EINGABE Zahl1\n",
    "        AUSGABE \"Bitte gib die zweite Zahl ein:\"\n",
    "        EINGABE Zahl2\n",
    "        WENN Zahl1 > Zahl2 DANN\n",
    "            AUSGABE \"Die größere Zahl ist: \", Zahl1\n",
    "        SONST\n",
    "            AUSGABE \"Die größere Zahl ist: \", Zahl2\n",
    "        ENDEWENN\n",
    "    ENDE\n"
   ]
  }
 ],
 "metadata": {
  "language_info": {
   "name": "python"
  }
 },
 "nbformat": 4,
 "nbformat_minor": 5
}
