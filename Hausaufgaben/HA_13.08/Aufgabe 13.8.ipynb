{
 "cells": [
  {
   "cell_type": "markdown",
   "id": "d4a2b7fc",
   "metadata": {},
   "source": [
    "Aufgabe 13 August\n",
    "\n",
    "Erstellen Sie zunächst drei Variablen: Ihre Lieblingsauto, Ihren Lieblingssport und Ihr Lieblingsgetränk.\n",
    "\n",
    "Speichern Sie dies nun als formatierte Zeichenfolge (f-string) in einer Variablen, sodass es wie folgt aussieht: \n",
    "\n",
    "Wenn nur [mein_Lieblingsauto] [mein_Lieblingsgetränk] als Kraftstoff verwenden könnte, um [meinen_Lieblingssport] auszuüben. Dann wäre ich zufrieden!\n",
    "\n",
    "1. Normale variante ausgeben.\n",
    "\n",
    "2. Geben Sie nun diese Zeichenfolge unter Verwendung von eckigen Klammern vom 6. bis zum 16. inklusive Index aus."
   ]
  },
  {
   "cell_type": "code",
   "execution_count": null,
   "id": "647ca50f",
   "metadata": {},
   "outputs": [],
   "source": [
    "# Schritt 1: Variablen erstellen\n",
    "mein_Lieblingsauto = \"Porsche\"\n",
    "mein_Lieblingssport = \"MMA\"\n",
    "mein_Lieblingsgetränk = \"Cola\"\n",
    "\n",
    "# Schritt 2: formatierte Zeichenfolge (f-string) erstellen\n",
    "satz = f\"Wenn nur mein {mein_Lieblingsauto} {mein_Lieblingsgetränk} als Kraftstoff verwenden könnte, um {mein_Lieblingssport} auszuüben. Dann wäre ich zufrieden!\"\n",
    "\n",
    "# 1. Normale Variante ausgeben\n",
    "print(satz)\n",
    "\n",
    "# 2. Zeichen von Index 6 bis 16 (inklusive) ausgeben\n",
    "print(satz[6:17])  # in Python ist das Ende nicht inklusive, deshalb 17\n"
   ]
  }
 ],
 "metadata": {
  "kernelspec": {
   "display_name": "Python 3",
   "language": "python",
   "name": "python3"
  },
  "language_info": {
   "codemirror_mode": {
    "name": "ipython",
    "version": 3
   },
   "file_extension": ".py",
   "mimetype": "text/x-python",
   "name": "python",
   "nbconvert_exporter": "python",
   "pygments_lexer": "ipython3",
   "version": "3.13.5"
  }
 },
 "nbformat": 4,
 "nbformat_minor": 5
}
