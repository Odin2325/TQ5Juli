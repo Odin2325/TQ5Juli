{
 "cells": [
  {
   "cell_type": "code",
   "execution_count": null,
   "id": "3e523ede",
   "metadata": {},
   "outputs": [
    {
     "name": "stdout",
     "output_type": "stream",
     "text": [
      "Gesamtsumme 1-15 (while): 120\n",
      "Gesamtsumme 1-15 (break): 120\n"
     ]
    }
   ],
   "source": [
    "# while-Schleife\n",
    "zahl = 0   \n",
    "zaehler = 1\n",
    "\n",
    "while zaehler <= 15:\n",
    "    zahl += zaehler\n",
    "    zaehler += 1\n",
    "\n",
    "print(\"Gesamtsumme 1-15 (while):\", zahl)\n",
    "\n",
    "\n",
    "# Variante mit break\n",
    "zahl = 0\n",
    "zaehler = 1\n",
    "\n",
    "while True:\n",
    "    zahl += zaehler\n",
    "    zaehler += 1\n",
    "    if zaehler > 15:\n",
    "        print(\"Gesamtsumme 1-15 (break):\", zahl)\n",
    "        break\n"
   ]
  }
 ],
 "metadata": {
  "kernelspec": {
   "display_name": "Python 3",
   "language": "python",
   "name": "python3"
  },
  "language_info": {
   "codemirror_mode": {
    "name": "ipython",
    "version": 3
   },
   "file_extension": ".py",
   "mimetype": "text/x-python",
   "name": "python",
   "nbconvert_exporter": "python",
   "pygments_lexer": "ipython3",
   "version": "3.13.5"
  }
 },
 "nbformat": 4,
 "nbformat_minor": 5
}
