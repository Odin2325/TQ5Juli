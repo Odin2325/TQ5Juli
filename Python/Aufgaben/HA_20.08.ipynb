{
 "cells": [
  {
   "cell_type": "code",
   "execution_count": null,
   "id": "bab9e547",
   "metadata": {},
   "outputs": [],
   "source": [
    "# Lösung für Aufgabe 1\n",
    "\n",
    "# Anzahl der Schüler abfragen\n",
    "anzahl = int(input(\"Wie viele Schüler gibt es? \"))\n",
    "\n",
    "namen = []\n",
    "noten = []\n",
    "\n",
    "# Namen und Noten sammeln\n",
    "for i in range(anzahl):\n",
    "    name = input(f\"Name von Schüler {i+1}: \")\n",
    "    note = int(input(f\"Note von {name}: \"))\n",
    "    namen.append(name)\n",
    "    noten.append(note)\n",
    "\n",
    "print(\"\\nAlle Schüler:\")\n",
    "for i in range(anzahl):\n",
    "    print(f\"{namen[i]} -> {noten[i]}\")\n",
    "\n",
    "# Durchschnitt berechnen\n",
    "durchschnitt = sum(noten) / anzahl\n",
    "print(f\"\\nDurchschnittsnote: {durchschnitt:.2f}\")\n",
    "\n",
    "# Beste Note\n",
    "beste_note = min(noten)\n",
    "index_beste = noten.index(beste_note)\n",
    "print(f\"Beste Note: {namen[index_beste]} mit {beste_note}\")\n",
    "\n",
    "# Schlechteste Note\n",
    "schlechteste_note = max(noten)\n",
    "index_schlechteste = noten.index(schlechteste_note)\n",
    "print(f\"Schlechteste Note: {namen[index_schlechteste]} mit {schlechteste_note}\")\n"
   ]
  },
  {
   "cell_type": "code",
   "execution_count": null,
   "id": "582df43f",
   "metadata": {},
   "outputs": [],
   "source": [
    "# Lösung für Aufgabe 2\n",
    "\n",
    "import random\n",
    "\n",
    "held = 10\n",
    "monster = 10\n",
    "\n",
    "while held > 0 and monster > 0:\n",
    "    # Held greift an\n",
    "    schaden = random.randint(1, 10)\n",
    "    monster -= schaden\n",
    "    print(f\"Held greift an und verursacht {schaden} Schaden. Monster hat {max(monster,0)} HP übrig.\")\n",
    "\n",
    "    if monster <= 0:\n",
    "        print(\"Das Monster wurde besiegt! Held gewinnt!\")\n",
    "        break\n",
    "\n",
    "    # Monster greift an\n",
    "    schaden = random.randint(1, 10)\n",
    "    held -= schaden\n",
    "    print(f\"Monster greift an und verursacht {schaden} Schaden. Held hat {max(held,0)} HP übrig.\")\n",
    "\n",
    "    if held <= 0:\n",
    "        print(\"Der Held wurde besiegt! Monster gewinnt!\")\n",
    "        break\n"
   ]
  }
 ],
 "metadata": {
  "language_info": {
   "name": "python"
  }
 },
 "nbformat": 4,
 "nbformat_minor": 5
}
