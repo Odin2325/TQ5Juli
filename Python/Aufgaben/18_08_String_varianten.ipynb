{
 "cells": [
  {
   "cell_type": "code",
   "execution_count": null,
   "id": "35e8ad43",
   "metadata": {},
   "outputs": [],
   "source": [
    "# Eingabe vom Nutzer\n",
    "text = input(\"Gib einen String ein: \")\n",
    "\n",
    "# Bedingung prüfen mit Slices\n",
    "if text[-1:] == \".\" or text[-2:] == \"r!\" or text[:5] == \"Hallo\":\n",
    "    print(True)\n",
    "else:\n",
    "    print(False)\n"
   ]
  },
  {
   "cell_type": "markdown",
   "id": "681671ee",
   "metadata": {},
   "source": [
    "Aufgabe 1 Strings und Bedingungen.\n",
    " * Bestimme ob ein string der als input eingegeben wird \n",
    " * mit einem \".\" endet oder mit \"r!\". \n",
    " * Gebe True aus. \n",
    " * Zusaetzlich bestimme auch ob der string mit \"Hallo\" anfaengt. \n",
    " * Gebe True aus. \n",
    " * Wenn kein fall stimmen wuerde, gebe False aus. \n",
    " * Hinweis: ihr habt slices und indizes! \n",
    " * Hinweis2: Man darf negative Zahlen als index eingeben."
   ]
  },
  {
   "cell_type": "code",
   "execution_count": null,
   "id": "8ffdc801",
   "metadata": {},
   "outputs": [],
   "source": [
    "from random import *\n",
    "daysUntilExpiration = randint(0,12)\n",
    "discountPercentage = 0\n",
    "\n",
    "print(daysUntilExpiration)"
   ]
  },
  {
   "cell_type": "markdown",
   "id": "23ecf2c1",
   "metadata": {},
   "source": [
    "Wir programmieren jetzt mehrere Geschäftsregeln.\n",
    " \n",
    "1. Ihr Code sollte nur eine Meldung anzeigen.\n",
    "2. Wenn das Abonnement des Benutzers bzw. der Benutzerin in zehn Tagen oder weniger abläuft, zeigen Sie die folgende Meldung an:\n",
    "    Your subscription will expire soon. Renew now!\n",
    "3. Wenn das Abonnement des Benutzers bzw. der Benutzerin in fünf Tagen oder weniger abläuft, zeigen Sie die folgenden Meldungen an:\n",
    "    Your subscription expires in _ days.\n",
    "    Renew now and save 10%!\n",
    "4. Wenn das Abonnement des Benutzers bzw. der Benutzerin in einem Tag abläuft, zeigen Sie die folgenden Meldungen an:\n",
    "    Your subscription expires within a day!\n",
    "    Renew now and save 20%!\n",
    "5. Wenn das Abonnement des Benutzers bzw. der Benutzerin abgelaufen ist, zeigen Sie die folgende Meldung an:\n",
    "    Your subscription has expired.\n",
    "6. Wenn das Abonnement des Benutzers nicht in zehn Tagen oder weniger abläuft, zeigen Sie nichts an."
   ]
  },
  {
   "cell_type": "code",
   "execution_count": null,
   "id": "a5b1cfd0",
   "metadata": {},
   "outputs": [],
   "source": [
    "from random import *\n",
    "\n",
    "daysUntilExpiration = randint(0, 12)\n",
    "discountPercentage = 0\n",
    "\n",
    "print(\"Tage bis Ablauf:\", daysUntilExpiration)  # nur zum Testen\n",
    "\n",
    "if daysUntilExpiration == 0:\n",
    "    print(\"Your subscription has expired.\")\n",
    "elif daysUntilExpiration == 1:\n",
    "    discountPercentage = 20\n",
    "    print(\"Your subscription expires within a day!\")\n",
    "    print(f\"Renew now and save {discountPercentage}%!\")\n",
    "elif daysUntilExpiration <= 5:\n",
    "    discountPercentage = 10\n",
    "    print(f\"Your subscription expires in {daysUntilExpiration} days.\")\n",
    "    print(f\"Renew now and save {discountPercentage}%!\")\n",
    "elif daysUntilExpiration <= 10:\n",
    "    discountPercentage = 5\n",
    "    print(\"Your subscription will expire soon. Renew now!\")\n",
    "    print(f\"You can save {discountPercentage}%! on renewal.\")\n",
    "# wenn mehr als 10 Tage übrig sind → keine Ausgabe\n"
   ]
  }
 ],
 "metadata": {
  "language_info": {
   "name": "python"
  }
 },
 "nbformat": 4,
 "nbformat_minor": 5
}
