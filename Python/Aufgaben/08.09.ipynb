{
 "cells": [
  {
   "cell_type": "code",
   "execution_count": null,
   "id": "69e9f363",
   "metadata": {},
   "outputs": [],
   "source": [
    "celsius = float(input(\"Temperatur in °C: \"))\n",
    "fahrenheit = celsius * 9/5 + 32\n",
    "print(\"Das sind\", fahrenheit, \"°F\")\n"
   ]
  },
  {
   "cell_type": "code",
   "execution_count": null,
   "id": "400a9dfb",
   "metadata": {},
   "outputs": [],
   "source": [
    "punkte = int(input(\"Punktzahl (0-100): \"))\n",
    "\n",
    "if punkte >= 90:\n",
    "    note = 1\n",
    "elif punkte >= 80:\n",
    "    note = 2\n",
    "elif punkte >= 70:\n",
    "    note = 3\n",
    "elif punkte >= 60:\n",
    "    note = 4\n",
    "elif punkte >= 50:\n",
    "    note = 5\n",
    "else:\n",
    "    note = 6\n",
    "\n",
    "print(\"Note:\", note)\n"
   ]
  },
  {
   "cell_type": "code",
   "execution_count": null,
   "id": "216be283",
   "metadata": {},
   "outputs": [],
   "source": [
    "zahl = int(input(\"Ganze Zahl: \"))\n",
    "\n",
    "if zahl % 2 == 0:\n",
    "    print(\"Die Zahl ist gerade\")\n",
    "else:\n",
    "    print(\"Die Zahl ist ungerade\")\n"
   ]
  },
  {
   "cell_type": "code",
   "execution_count": null,
   "id": "b74a05ea",
   "metadata": {},
   "outputs": [],
   "source": [
    "for i in range(1, 101):\n",
    "    print(i)\n"
   ]
  },
  {
   "cell_type": "code",
   "execution_count": null,
   "id": "8e1e0ccf",
   "metadata": {},
   "outputs": [],
   "source": [
    "for i in range(1, 11):\n",
    "    for j in range(1, 11):\n",
    "        print(i, \"x\", j, \"=\", i*j)\n"
   ]
  },
  {
   "cell_type": "code",
   "execution_count": null,
   "id": "b68bee0b",
   "metadata": {},
   "outputs": [],
   "source": [
    "summe = 0\n",
    "while True:\n",
    "    zahl = int(input(\"Zahl (0 = Ende): \"))\n",
    "    if zahl == 0:\n",
    "        break\n",
    "    summe += zahl\n",
    "\n",
    "print(\"Summe =\", summe)\n"
   ]
  },
  {
   "cell_type": "code",
   "execution_count": null,
   "id": "60194da7",
   "metadata": {},
   "outputs": [],
   "source": [
    "n = int(input(\"Zahl: \"))\n",
    "\n",
    "if n < 2:\n",
    "    print(\"Keine Primzahl\")\n",
    "else:\n",
    "    prim = True\n",
    "    for i in range(2, n):\n",
    "        if n % i == 0:\n",
    "            prim = False\n",
    "            break\n",
    "    if prim:\n",
    "        print(\"Primzahl\")\n",
    "    else:\n",
    "        print(\"Keine Primzahl\")\n"
   ]
  },
  {
   "cell_type": "code",
   "execution_count": null,
   "id": "e3113fd8",
   "metadata": {},
   "outputs": [],
   "source": [
    "richtiges_passwort = \"geheim\"\n",
    "\n",
    "for versuch in range(3):\n",
    "    eingabe = input(\"Passwort: \")\n",
    "    if eingabe == richtiges_passwort:\n",
    "        print(\"Zugang erlaubt\")\n",
    "        break\n",
    "else:\n",
    "    print(\"Zugang gesperrt\")\n"
   ]
  }
 ],
 "metadata": {
  "language_info": {
   "name": "python"
  }
 },
 "nbformat": 4,
 "nbformat_minor": 5
}
