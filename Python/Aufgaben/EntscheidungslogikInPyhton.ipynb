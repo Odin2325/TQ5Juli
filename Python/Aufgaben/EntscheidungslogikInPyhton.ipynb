{
 "cells": [
  {
   "cell_type": "code",
   "execution_count": null,
   "id": "2e3c14af",
   "metadata": {},
   "outputs": [],
   "source": [
    "print('============================================================')\n",
    "print('Waehrungsrechner')\n",
    "print('============================================================')\n",
    "\n",
    "gueltige_waehrung = False\n",
    "gueltige_betrag = False\n",
    "\n",
    "while not gueltige_waehrung:\n",
    "    waehrung = input('Geben Sie bitte eins der folgenden Waehrungen ein: (YEN, USD, GBP, BC)').upper()\n",
    "    if waehrung == 'YEN' or waehrung == 'USD' or waehrung == 'GBP' or waehrung == 'BC':\n",
    "        gueltige_waehrung = True\n",
    "    \n",
    "while not gueltige_betrag:\n",
    "    betrag = int(input('Geben Sie bitte ein Betrag ein:'))\n",
    "    if betrag!=0:\n",
    "            gueltige_betrag = True\n",
    "\n",
    "match waehrung:\n",
    "    case 'YEN':\n",
    "          wechselkurs = 166.5\n",
    "    case 'USD':\n",
    "          wechselkurs = 1.22\n",
    "    case 'GBP':\n",
    "          wechselkurs = 0.86\n",
    "    case 'BC':\n",
    "          wechselkurs = 0.000033\n",
    "    case _:\n",
    "          print('Ungueltiger Vorgang. Es wird abgebrochen.')\n",
    "          wechselkurs = 0\n",
    "\n",
    "\n",
    "print(f'Sie haben folgenden Betrag eingegeben: {betrag}.\\nWie berechnen dein neuen Betrag in {waehrung}.')\n",
    "print(f'Sie bekommen nun: {betrag * wechselkurs} {waehrung}.')\n",
    "print('============================================================')"
   ]
  },
  {
   "cell_type": "code",
   "execution_count": null,
   "id": "51e29d66",
   "metadata": {},
   "outputs": [],
   "source": [
    "import random\n",
    "\n",
    "print('==============================================')\n",
    "print('Zufallswortgenerator')\n",
    "print('==============================================')\n",
    "\n",
    "zufallswort = ''\n",
    "zaehler = 0\n",
    "\n",
    "while zaehler<20:\n",
    "#zufallswort = zufallswort + str(randint(97,122))\n",
    "    if random.randint(0,1) == 0:\n",
    "        zufallswort += chr(random.randint(97,122))\n",
    "    else:\n",
    "        zufallswort += chr(random.randint(65,90))\n",
    "    #Grossbuchstabe von 65-90\n",
    "    #klein von 97-122\n",
    "    zaehler += 1\n",
    "\n",
    "print(zufallswort)\n",
    "print('==============================================')"
   ]
  },
  {
   "cell_type": "code",
   "execution_count": 1,
   "id": "b6b2dfa3",
   "metadata": {},
   "outputs": [
    {
     "name": "stdout",
     "output_type": "stream",
     "text": [
      "Erstelle deine Einkaufsliste. Gib 'Fertig' ein, wenn du aufhören möchtest.\n",
      "'salz' wurde zur Einkaufsliste hinzugefügt.\n",
      "'wasser' wurde zur Einkaufsliste hinzugefügt.\n",
      "'Pfeffer' wurde zur Einkaufsliste hinzugefügt.\n",
      "'brot' wurde zur Einkaufsliste hinzugefügt.\n",
      "'eier' wurde zur Einkaufsliste hinzugefügt.\n",
      "\n",
      "Deine Einkaufsliste:\n",
      "- salz\n",
      "- wasser\n",
      "- Pfeffer\n",
      "- brot\n",
      "- eier\n"
     ]
    }
   ],
   "source": [
    "# Start mit einer leeren Liste\n",
    "einkaufs_liste = []\n",
    "\n",
    "print(\"Erstelle deine Einkaufsliste. Gib 'Fertig' ein, wenn du aufhören möchtest.\")\n",
    "\n",
    "while True:\n",
    "    produkt = input(\"Bitte ein Produkt eingeben: \")\n",
    "    \n",
    "    # Abbruchbedingung\n",
    "    if produkt.lower() == \"fertig\":\n",
    "        break\n",
    "    \n",
    "    # Produkt zur Liste hinzufügen\n",
    "    einkaufs_liste.append(produkt)\n",
    "    print(f\"'{produkt}' wurde zur Einkaufsliste hinzugefügt.\")\n",
    "\n",
    "# Ausgabe der fertigen Liste\n",
    "print(\"\\nDeine Einkaufsliste:\")\n",
    "for item in einkaufs_liste:\n",
    "    print(\"-\", item)\n"
   ]
  }
 ],
 "metadata": {
  "kernelspec": {
   "display_name": "Python 3",
   "language": "python",
   "name": "python3"
  },
  "language_info": {
   "codemirror_mode": {
    "name": "ipython",
    "version": 3
   },
   "file_extension": ".py",
   "mimetype": "text/x-python",
   "name": "python",
   "nbconvert_exporter": "python",
   "pygments_lexer": "ipython3",
   "version": "3.13.5"
  }
 },
 "nbformat": 4,
 "nbformat_minor": 5
}
