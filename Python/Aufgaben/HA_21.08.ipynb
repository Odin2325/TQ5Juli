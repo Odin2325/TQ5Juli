{
 "cells": [
  {
   "cell_type": "code",
   "execution_count": null,
   "id": "b0c53afb",
   "metadata": {},
   "outputs": [],
   "source": [
    "# Dictionary mit Produkten und Preisen\n",
    "produkte = {\n",
    "    \"Apfel\": 0.5,\n",
    "    \"Banane\": 0.8,\n",
    "    \"Milch\": 1.2,\n",
    "    \"Brot\": 2.0,\n",
    "    \"Käse\": 2.5\n",
    "}\n",
    "\n",
    "gesamtkosten = 0.0\n",
    "\n",
    "while True:\n",
    "    produkt = input(\"Produkt eingeben (oder 'Ende' zum Beenden): \")\n",
    "    \n",
    "    if produkt.lower() == \"ende\":\n",
    "        break\n",
    "    \n",
    "    if produkt in produkte:\n",
    "        gesamtkosten += produkte[produkt]\n",
    "    else:\n",
    "        print(f\"{produkt} ist nicht im Sortiment.\")\n",
    "\n",
    "print(f\"\\nGesamtkosten: {gesamtkosten:.2f} €\")\n"
   ]
  }
 ],
 "metadata": {
  "language_info": {
   "name": "python"
  }
 },
 "nbformat": 4,
 "nbformat_minor": 5
}
