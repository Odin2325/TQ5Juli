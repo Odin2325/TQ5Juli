{
 "cells": [
  {
   "cell_type": "code",
   "execution_count": null,
   "id": "2a94dcb7",
   "metadata": {},
   "outputs": [
    {
     "name": "stdout",
     "output_type": "stream",
     "text": [
      "1. Wurf: 2 + 3 + 2 = 7\n",
      "Zweierpasch! +2 Bonuspunkte\n",
      "Gesamtpunktzahl: 9\n",
      "🐱 Du gewinnst ein Kätzchen!\n"
     ]
    }
   ],
   "source": [
    "from random import randint\n",
    "\n",
    "# Drei Würfel werfen\n",
    "w1 = randint(1, 6)\n",
    "w2 = randint(1, 6)\n",
    "w3 = randint(1, 6)\n",
    "\n",
    "print(f\"1. Wurf: {w1} + {w2} + {w3} = {w1 + w2 + w3}\")\n",
    "\n",
    "# Grundsumme berechnen\n",
    "summe = w1 + w2 + w3\n",
    "bonus = 0\n",
    "\n",
    "# Bonusprüfung: zuerst Dreierpasch, dann Zweierpasch\n",
    "if w1 == w2 == w3:\n",
    "    bonus = 6\n",
    "    print(\"Dreierpasch! +6 Bonuspunkte\")\n",
    "else:\n",
    "    if w1 == w2 or w1 == w3 or w2 == w3:\n",
    "        bonus = 2\n",
    "        print(\"Zweierpasch! +2 Bonuspunkte\")\n",
    "\n",
    "# Endpunktzahl\n",
    "gesamt = summe + bonus\n",
    "print(f\"Gesamtpunktzahl: {gesamt}\")\n",
    "\n",
    "# Preisvergabe\n",
    "if gesamt >= 16:\n",
    "    print(\" Du gewinnst ein neues Auto!\")\n",
    "elif gesamt >= 10:\n",
    "    print(\"Du gewinnst einen neuen Laptop!\")\n",
    "elif gesamt == 7:\n",
    "    print(\"Du gewinnst eine Reise!\")\n",
    "else:\n",
    "    print(\" Du gewinnst ein Kätzchen! :3\")\n"
   ]
  }
 ],
 "metadata": {
  "kernelspec": {
   "display_name": "Python 3",
   "language": "python",
   "name": "python3"
  },
  "language_info": {
   "codemirror_mode": {
    "name": "ipython",
    "version": 3
   },
   "file_extension": ".py",
   "mimetype": "text/x-python",
   "name": "python",
   "nbconvert_exporter": "python",
   "pygments_lexer": "ipython3",
   "version": "3.13.5"
  }
 },
 "nbformat": 4,
 "nbformat_minor": 5
}
