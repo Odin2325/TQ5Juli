{
 "cells": [
  {
   "cell_type": "markdown",
   "id": "1bae02b5",
   "metadata": {},
   "source": [
    "## Json erster blick"
   ]
  },
  {
   "cell_type": "code",
   "execution_count": 1,
   "id": "35fd1fcd",
   "metadata": {},
   "outputs": [],
   "source": [
    "import json\n",
    "\n",
    "# json.load() # liest json datei und wandelt in python obj um\n",
    "# json.dump() # wandelt python obj in json string um\n",
    "# json.loads() # wandelt json string in python obj um\n",
    "# json.dumps() # wandelt python obj in json string um"
   ]
  },
  {
   "cell_type": "code",
   "execution_count": 9,
   "id": "3d8ca648",
   "metadata": {},
   "outputs": [
    {
     "data": {
      "text/plain": [
       "'[\"hallo\", 42, null]'"
      ]
     },
     "execution_count": 9,
     "metadata": {},
     "output_type": "execute_result"
    }
   ],
   "source": [
    "json.dumps(['hallo', 42, None])"
   ]
  },
  {
   "cell_type": "code",
   "execution_count": 10,
   "id": "3f179511",
   "metadata": {},
   "outputs": [
    {
     "data": {
      "text/plain": [
       "['hallo', 42, None]"
      ]
     },
     "execution_count": 10,
     "metadata": {},
     "output_type": "execute_result"
    }
   ],
   "source": [
    "json.loads('[\"hallo\", 42, null]')"
   ]
  },
  {
   "cell_type": "code",
   "execution_count": null,
   "id": "45e4c7c9",
   "metadata": {},
   "outputs": [],
   "source": [
    "json_kunde = json.dumps(\"Nicolas\")\n",
    "\n",
    "with open('file.json', 'a') as f:\n",
    "    f.write(json_kunde)\n",
    "    f.write('\\n')"
   ]
  },
  {
   "cell_type": "code",
   "execution_count": 31,
   "id": "71dc44bb",
   "metadata": {},
   "outputs": [
    {
     "name": "stdout",
     "output_type": "stream",
     "text": [
      "Willkommen zurück, Nicolas!\n"
     ]
    }
   ],
   "source": [
    "import json\n",
    "import os\n",
    "filename = \"userdata.json\"\n",
    "def greet_user():\n",
    "    try:\n",
    "        # Prüfen, ob Datei existiert und Daten enthält\n",
    "        if os.path.exists(filename):\n",
    "            with open(filename, \"r\") as file:\n",
    "                data = json.load(file)\n",
    "                name = data.get(\"name\")\n",
    "                if name:\n",
    "                    print(f\"Willkommen zurück, {name}!\")\n",
    "                    return\n",
    "        else:\n",
    "            # Wenn keine Daten vorhanden sind\n",
    "            name = input(\"Wie heißt du? \")\n",
    "            with open(filename, \"w\") as file:\n",
    "                json.dump({\"name\": name}, file)\n",
    "            print(f\"Schön, dich kennenzulernen, {name}!\")\n",
    "    except Exception as e:\n",
    "        print(\"Fehler beim Zugriff auf die Datei:\", e)\n",
    "greet_user()\n"
   ]
  },
  {
   "cell_type": "code",
   "execution_count": 38,
   "id": "ea49879d",
   "metadata": {},
   "outputs": [
    {
     "ename": "ModuleNotFoundError",
     "evalue": "No module named 'Kunde'",
     "output_type": "error",
     "traceback": [
      "\u001b[1;31m---------------------------------------------------------------------------\u001b[0m",
      "\u001b[1;31mModuleNotFoundError\u001b[0m                       Traceback (most recent call last)",
      "Cell \u001b[1;32mIn[38], line 3\u001b[0m\n\u001b[0;32m      1\u001b[0m \u001b[38;5;28;01mfrom\u001b[39;00m \u001b[38;5;21;01mBanksystem\u001b[39;00m \u001b[38;5;28;01mimport\u001b[39;00m \u001b[38;5;241m*\u001b[39m\n\u001b[0;32m      2\u001b[0m \u001b[38;5;28;01mfrom\u001b[39;00m \u001b[38;5;21;01mBanksystem\u001b[39;00m\u001b[38;5;21;01m.\u001b[39;00m\u001b[38;5;21;01mKunde\u001b[39;00m \u001b[38;5;28;01mimport\u001b[39;00m Kunde\n\u001b[1;32m----> 3\u001b[0m \u001b[38;5;28;01mfrom\u001b[39;00m \u001b[38;5;21;01mBanksystem\u001b[39;00m\u001b[38;5;21;01m.\u001b[39;00m\u001b[38;5;21;01mBank\u001b[39;00m \u001b[38;5;28;01mimport\u001b[39;00m Bank\n",
      "File \u001b[1;32mc:\\Users\\nicoa\\Desktop\\TQ5Juli\\AufgabenUndLoesungen\\Python\\OperatingSystem Modul\\Banksystem\\Bank.py:2\u001b[0m\n\u001b[0;32m      1\u001b[0m \u001b[38;5;28;01mfrom\u001b[39;00m \u001b[38;5;21;01mrandom\u001b[39;00m \u001b[38;5;28;01mimport\u001b[39;00m randint\n\u001b[1;32m----> 2\u001b[0m \u001b[38;5;28;01mfrom\u001b[39;00m \u001b[38;5;21;01mKunde\u001b[39;00m \u001b[38;5;28;01mimport\u001b[39;00m Kunde\n\u001b[0;32m      3\u001b[0m \u001b[38;5;28;01mfrom\u001b[39;00m \u001b[38;5;21;01mBankkontoDatei\u001b[39;00m \u001b[38;5;28;01mimport\u001b[39;00m Bankkonto \u001b[38;5;28;01mas\u001b[39;00m bk\n\u001b[0;32m      4\u001b[0m \u001b[38;5;66;03m#import socketserver as sks\u001b[39;00m\n\u001b[0;32m      5\u001b[0m \u001b[38;5;66;03m#as bedeutet wir geben irgendetwas einen anderen Namen\u001b[39;00m\n\u001b[0;32m      6\u001b[0m \u001b[38;5;66;03m#as erstellt einen 'alias'\u001b[39;00m\n",
      "\u001b[1;31mModuleNotFoundError\u001b[0m: No module named 'Kunde'"
     ]
    }
   ],
   "source": [
    "from Banksystem import *\n",
    "from Banksystem.Kunde import Kunde\n",
    "from Banksystem.Bank import Bank"
   ]
  },
  {
   "cell_type": "code",
   "execution_count": null,
   "id": "f5ff1ba5",
   "metadata": {},
   "outputs": [
    {
     "name": "stdout",
     "output_type": "stream",
     "text": [
      "Willkommen zurück, Nicolas!\n"
     ]
    }
   ],
   "source": [
    "import json \n",
    "import os\n",
    "\n",
    "DATEINAME = 'helloworld.json'\n",
    "\n",
    "def lade_daten(): \n",
    "    try: \n",
    "        if os.path.exists(DATEINAME): \n",
    "            with open(DATEINAME, 'r', encoding='utf-8') as f: \n",
    "                return json.load(f)\n",
    "    except Exception as e: \n",
    "        print(f'Fehler beim Lesen: {e}') \n",
    "        return {}\n",
    "\n",
    "def speichere_daten(daten): \n",
    "    try: \n",
    "        with open(DATEINAME,'w',encoding='utf-8') as f: \n",
    "                  json.dump(daten, f, ensure_ascii=False,indent=4) \n",
    "    except Exception as e: \n",
    "         print(f'Fehler beim Speichern: {e}')\n",
    "\n",
    "def main(): \n",
    "    daten = lade_daten()\n",
    "\n",
    "    if \"name\" in daten:\n",
    "        print(f\"Willkommen zurück, {daten['name']}!\")\n",
    "    else:\n",
    "        name = input(\"Wie heißt du? \")\n",
    "        daten[\"name\"] = name\n",
    "        speichere_daten(daten)\n",
    "        print(f\"Schön dich kennenzulernen, {name}!\")\n",
    "\n",
    "main()"
   ]
  }
 ],
 "metadata": {
  "kernelspec": {
   "display_name": "Python 3",
   "language": "python",
   "name": "python3"
  },
  "language_info": {
   "codemirror_mode": {
    "name": "ipython",
    "version": 3
   },
   "file_extension": ".py",
   "mimetype": "text/x-python",
   "name": "python",
   "nbconvert_exporter": "python",
   "pygments_lexer": "ipython3",
   "version": "3.12.6"
  }
 },
 "nbformat": 4,
 "nbformat_minor": 5
}
