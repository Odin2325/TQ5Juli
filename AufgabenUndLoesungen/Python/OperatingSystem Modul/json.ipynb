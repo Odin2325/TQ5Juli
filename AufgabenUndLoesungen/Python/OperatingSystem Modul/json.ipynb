{
 "cells": [
  {
   "cell_type": "markdown",
   "id": "1bae02b5",
   "metadata": {},
   "source": [
    "## Json erster blick"
   ]
  },
  {
   "cell_type": "code",
   "execution_count": 1,
   "id": "35fd1fcd",
   "metadata": {},
   "outputs": [],
   "source": [
    "import json\n",
    "\n",
    "# json.load() # liest json datei und wandelt in python obj um\n",
    "# json.dump() # wandelt python obj in json string um\n",
    "# json.loads() # wandelt json string in python obj um\n",
    "# json.dumps() # wandelt python obj in json string um"
   ]
  },
  {
   "cell_type": "code",
   "execution_count": 9,
   "id": "3d8ca648",
   "metadata": {},
   "outputs": [
    {
     "data": {
      "text/plain": [
       "'[\"hallo\", 42, null]'"
      ]
     },
     "execution_count": 9,
     "metadata": {},
     "output_type": "execute_result"
    }
   ],
   "source": [
    "json.dumps(['hallo', 42, None])"
   ]
  },
  {
   "cell_type": "code",
   "execution_count": 10,
   "id": "3f179511",
   "metadata": {},
   "outputs": [
    {
     "data": {
      "text/plain": [
       "['hallo', 42, None]"
      ]
     },
     "execution_count": 10,
     "metadata": {},
     "output_type": "execute_result"
    }
   ],
   "source": [
    "json.loads('[\"hallo\", 42, null]')"
   ]
  },
  {
   "cell_type": "code",
   "execution_count": 19,
   "id": "069a1875",
   "metadata": {},
   "outputs": [],
   "source": [
    "from Banksystem.KundeDatei import Kunde"
   ]
  },
  {
   "cell_type": "code",
   "execution_count": null,
   "id": "45e4c7c9",
   "metadata": {},
   "outputs": [],
   "source": [
    "kunde = Kunde(\"Nico\", 'Arevalo','Strasse 1', '012748134','muster@bob.de', 99)\n",
    "json_kunde = json.dumps(kunde.__dict__)\n",
    "with open('file.json', 'a') as f:\n",
    "    f.write(json_kunde)\n",
    "    f.write('\\n')\n",
    "\n"
   ]
  },
  {
   "cell_type": "code",
   "execution_count": 31,
   "id": "71dc44bb",
   "metadata": {},
   "outputs": [
    {
     "name": "stdout",
     "output_type": "stream",
     "text": [
      "Willkommen zurück, Nicolas!\n"
     ]
    }
   ],
   "source": [
    "import json\n",
    "import os\n",
    "filename = \"userdata.json\"\n",
    "def greet_user():\n",
    "    try:\n",
    "        # Prüfen, ob Datei existiert und Daten enthält\n",
    "        if os.path.exists(filename):\n",
    "            with open(filename, \"r\") as file:\n",
    "                data = json.load(file)\n",
    "                name = data.get(\"name\")\n",
    "                if name:\n",
    "                    print(f\"Willkommen zurück, {name}!\")\n",
    "                    return\n",
    "        else:\n",
    "            # Wenn keine Daten vorhanden sind\n",
    "            name = input(\"Wie heißt du? \")\n",
    "            with open(filename, \"w\") as file:\n",
    "                json.dump({\"name\": name}, file)\n",
    "            print(f\"Schön, dich kennenzulernen, {name}!\")\n",
    "    except Exception as e:\n",
    "        print(\"Fehler beim Zugriff auf die Datei:\", e)\n",
    "greet_user()\n"
   ]
  }
 ],
 "metadata": {
  "kernelspec": {
   "display_name": "Python 3",
   "language": "python",
   "name": "python3"
  },
  "language_info": {
   "codemirror_mode": {
    "name": "ipython",
    "version": 3
   },
   "file_extension": ".py",
   "mimetype": "text/x-python",
   "name": "python",
   "nbconvert_exporter": "python",
   "pygments_lexer": "ipython3",
   "version": "3.12.6"
  }
 },
 "nbformat": 4,
 "nbformat_minor": 5
}
