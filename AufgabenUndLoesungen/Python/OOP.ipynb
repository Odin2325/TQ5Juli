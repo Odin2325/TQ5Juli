{
 "cells": [
  {
   "cell_type": "markdown",
   "id": "7e7f4be6",
   "metadata": {},
   "source": [
    "# OOP (Objekt orientierte programmierung)"
   ]
  },
  {
   "cell_type": "code",
   "execution_count": 10,
   "id": "6c485b22",
   "metadata": {},
   "outputs": [
    {
     "name": "stdout",
     "output_type": "stream",
     "text": [
      "Auto Details:\n",
      "Farbe = Grau\n",
      "Modell = A2\n",
      "Preis = 35000\n",
      "Anzahl Tuere = 4\n",
      "Raeder Typ = Michellin\n",
      "Marke = BMW\n",
      "Treibstoff = Benzin\n"
     ]
    }
   ],
   "source": [
    "class Auto:\n",
    "\n",
    "    #Konstruktor\n",
    "    def __init__(self,farbe,modelle,preis):\n",
    "        self.farbe = farbe\n",
    "        self.modelle = modelle\n",
    "        self.preis = preis\n",
    "        self.anzahl_tuere = 4\n",
    "        self.raeder_typ = 'Michellin'\n",
    "        self.marke = 'BMW'\n",
    "        self.treibstoff = 'Benzin'\n",
    "\n",
    "    def auto_details(self):\n",
    "        print(f'Auto Details:\\nFarbe = {self.farbe}\\nModell = {self.modelle}\\nPreis = {self.preis}\\nAnzahl Tuere = {self.anzahl_tuere}\\nRaeder Typ = {self.raeder_typ}\\nMarke = {self.marke}\\nTreibstoff = {self.treibstoff}')\n",
    "\n",
    "\n",
    "#Self muss immer innerhalb der runden klammern \n",
    "#von jede methode in einer klasse als erstes parameter drin stehen.\n",
    "#Aber nur wenn wir die Methode von die Instaz aufruf moechten.\n",
    "#Methode ohne self in eine Klasse heissen static methoden.\n",
    "#Static methoden muessen direkt von eine Klasse aufgerufen werden.\n",
    "#Die duerfen nicht von ein objekt aufgerufen werden.\n",
    "mein_erstes_auto = Auto(farbe='Grau',modelle='A2',preis=35000)\n",
    "mein_erstes_auto.auto_details()\n",
    "#Auto.autodetails(mein_erstes_auto)\n",
    "\n",
    "klassen_fahrzeug = Auto('Blau','Bus',89000)\n",
    "\n",
    "\n"
   ]
  },
  {
   "cell_type": "markdown",
   "id": "adaa3f04",
   "metadata": {},
   "source": [
    "Aufgabe: Erstelle eine Klasse Bankkonto mit alle fuer euch sinnvolle eigenschaften.\n",
    "Ueberlege euch welche eigenschaft sollten hartcodiert werden und welche soll beim erstellen des Kontos eingegeben werden.\n",
    "\n",
    "Dann details methode schreiben, wo alle informationen ausgegeben werden."
   ]
  },
  {
   "cell_type": "code",
   "execution_count": null,
   "id": "ffb3410b",
   "metadata": {},
   "outputs": [],
   "source": [
    "class Bankkonto:\n",
    "    def __init__(self, kontoinhaber, adresse, startguthaben=0):\n",
    "        self.kontoinhaber = kontoinhaber\n",
    "        self.adresse = adresse\n",
    "        self.kontostand = startguthaben\n",
    "        self.bank = 'Deutsche Bank'\n",
    "        self.region = 'Bayern'\n",
    "        self.kontonummer = 'DE12346789012'\n",
    "\n",
    "    def details(self):\n",
    "        print('Konto Details')\n",
    "        print('=======================================')\n",
    "        print(f'Kontoinhaber: {self.kontoinhaber}\\nAdresse: {self.adresse}')\n",
    "        print(f'Bank: {self.bank}\\nRegion: {self.region}')\n",
    "        print(f'Kontonummer: {self.kontonummer}\\nKontostand: {self.kontostand}')\n",
    "        print('=======================================')"
   ]
  },
  {
   "cell_type": "code",
   "execution_count": 16,
   "id": "bc182303",
   "metadata": {},
   "outputs": [
    {
     "name": "stdout",
     "output_type": "stream",
     "text": [
      "Konto Details\n",
      "=======================================\n",
      "Kontoinhaber: Nicolas\n",
      "Adresse: Hauptstrasse 1\n",
      "Bank: Deutsche Bank\n",
      "Region: Bayern\n",
      "Kontonummer: DE12346789012\n",
      "Kontostand: 0\n",
      "=======================================\n"
     ]
    }
   ],
   "source": [
    "mein_konto = Bankkonto('Nicolas','Hauptstrasse 1')\n",
    "\n",
    "mein_konto.details()"
   ]
  },
  {
   "cell_type": "code",
   "execution_count": 11,
   "id": "3cd7430b",
   "metadata": {},
   "outputs": [
    {
     "data": {
      "text/plain": [
       "4450"
      ]
     },
     "execution_count": 11,
     "metadata": {},
     "output_type": "execute_result"
    }
   ],
   "source": [
    "class Rechner:\n",
    "    def summe(*values):\n",
    "        return sum(values)\n",
    "    \n",
    "    def teilen(zahl,denominator):\n",
    "        return zahl/denominator\n",
    "    \n",
    "Rechner.summe(23,5,54,24,4243,45,56)"
   ]
  },
  {
   "cell_type": "markdown",
   "id": "ad389eea",
   "metadata": {},
   "source": [
    "Aufgabe 1: Auto klasse erstellen. Hier muessen wir selber eigenschaften im Konstruktor definieren. Stellt fest, dass die eigenschaft aktuelle_geschwindigkeit auch existiert. Andere notwendige attribute: geparkt und angeschaltet. \n",
    "\n",
    "1. Schneller fahren duerfen wir nur, wenn das auto nicht geparkt ist und angeschaltet ist.\n",
    "2. schneller_fahren(grenze) => Diese Methode soll die aktuelle geschwindigkeit erhoehen jeweils um 5 und dieser Wert soll immer ausgegeben werden auf die konsole. Es soll die geschwindigkeit bis zu eine grenze erhoehen.\n",
    "3. bremsen(grenze) => Diese Methode soll die aktuelle geschwindigkeit verringern jeweils um 5 und dieser Wert soll immer ausgegeben werden auf die konsole. Es soll die geschwindigkeit bis zu eine grenze verringern. Wichtig: Darf nicht unter 0.\n",
    "4. Hinweis: Eine funktion jeweils schreiben fuer anschalten und parken."
   ]
  },
  {
   "cell_type": "code",
   "execution_count": null,
   "id": "215e48f3",
   "metadata": {},
   "outputs": [],
   "source": [
    "class Auto:\n",
    "    def __init__(self,farbe,model):\n",
    "        self.farbe = farbe\n",
    "        self.model = model\n",
    "        self.notbremse_aktiv = True\n",
    "        self.ausgeschaltet = True\n",
    "        self.aktuelle_geschwindigkeit = 0\n",
    "\n",
    "    def notbremse_deaktivieren(self):\n",
    "        self.notbremse_aktiv = False\n",
    "    def notbremse_aktivieren(self):\n",
    "        self.notbremse_aktiv = True"
   ]
  }
 ],
 "metadata": {
  "kernelspec": {
   "display_name": "Python 3",
   "language": "python",
   "name": "python3"
  },
  "language_info": {
   "codemirror_mode": {
    "name": "ipython",
    "version": 3
   },
   "file_extension": ".py",
   "mimetype": "text/x-python",
   "name": "python",
   "nbconvert_exporter": "python",
   "pygments_lexer": "ipython3",
   "version": "3.12.6"
  }
 },
 "nbformat": 4,
 "nbformat_minor": 5
}
