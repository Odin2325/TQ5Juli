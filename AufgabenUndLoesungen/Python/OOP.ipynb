{
 "cells": [
  {
   "cell_type": "markdown",
   "id": "7e7f4be6",
   "metadata": {},
   "source": [
    "# OOP (Objekt orientierte programmierung)"
   ]
  },
  {
   "cell_type": "code",
   "execution_count": null,
   "id": "6c485b22",
   "metadata": {},
   "outputs": [
    {
     "name": "stdout",
     "output_type": "stream",
     "text": [
      "Auto Details:\n",
      "Farbe = Grau\n",
      "Modell = A2\n",
      "Preis = 35000\n",
      "Anzahl Tuere = 4\n",
      "Raeder Typ = Michellin\n",
      "Marke = BMW\n",
      "Treibstoff = Benzin\n"
     ]
    }
   ],
   "source": [
    "class Auto:\n",
    " \n",
    "    #Konstruktor\n",
    "    def __init__(self,farbe,modelle,preis):\n",
    "        self.farbe = farbe\n",
    "        self.modelle = modelle\n",
    "        self.preis = preis\n",
    "        self.anzahl_tuere = 4\n",
    "        self.raeder_typ = 'Michellin'\n",
    "        self.marke = 'BMW'\n",
    "        self.treibstoff = 'Benzin'\n",
    "\n",
    "    def auto_details(self):\n",
    "        print(f'Auto Details:\\nFarbe = {self.farbe}\\nModell = {self.modelle}\\nPreis = {self.preis}\\nAnzahl Tuere = {self.anzahl_tuere}\\nRaeder Typ = {self.raeder_typ}\\nMarke = {self.marke}\\nTreibstoff = {self.treibstoff}')\n",
    "\n",
    "\n",
    "#Self muss immer innerhalb der runden klammern \n",
    "#von jede methode in einer klasse als erstes parameter drin stehen.\n",
    "#Aber nur wenn wir die Methode von die Instaz aufruf moechten.\n",
    "#Methode ohne self in eine Klasse heissen static methoden.\n",
    "#Static methoden muessen direkt von eine Klasse aufgerufen werden.\n",
    "#Die duerfen nicht von ein objekt aufgerufen werden.\n",
    "mein_erstes_auto = Auto(farbe='Grau',modelle='A2',preis=35000)\n",
    "mein_erstes_auto.auto_details()\n",
    "#Auto.autodetails(mein_erstes_auto)\n",
    "\n",
    "klassen_fahrzeug = Auto('Blau','Bus',89000)\n",
    "\n",
    "\n"
   ]
  },
  {
   "cell_type": "markdown",
   "id": "adaa3f04",
   "metadata": {},
   "source": [
    "Aufgabe: Erstelle eine Klasse Bankkonto mit alle fuer euch sinnvolle eigenschaften.\n",
    "Ueberlege euch welche eigenschaft sollten hartcodiert werden und welche soll beim erstellen des Kontos eingegeben werden.\n",
    "\n",
    "Dann details methode schreiben, wo alle informationen ausgegeben werden."
   ]
  },
  {
   "cell_type": "code",
   "execution_count": null,
   "id": "ffb3410b",
   "metadata": {},
   "outputs": [],
   "source": []
  },
  {
   "cell_type": "code",
   "execution_count": null,
   "id": "e23340bf",
   "metadata": {},
   "outputs": [
    {
     "name": "stdout",
     "output_type": "stream",
     "text": [
      "Das neue Pin ist: 2430\n"
     ]
    }
   ],
   "source": [
    "konto1 = Bankkonto(Kunde())"
   ]
  },
  {
   "cell_type": "code",
   "execution_count": 60,
   "id": "c53b8b9d",
   "metadata": {},
   "outputs": [
    {
     "name": "stdout",
     "output_type": "stream",
     "text": [
      "Einzahlung erfolgreich.\n",
      "Auszahlung erfolgreich\n",
      "==========Transaktionshistorie==========\n",
      "(operation,betrag,kontostand,timestamp)\n",
      "('einzahlen', 3000, 3000, datetime.datetime(2025, 8, 28, 10, 13, 37, 150343))\n",
      "('auszahlen', 50, 2950, datetime.datetime(2025, 8, 28, 10, 13, 37, 150343))\n",
      "==========EndeHistorie==========\n"
     ]
    }
   ],
   "source": [
    "konto1.einzahlen(3000)\n",
    "konto1.auszahlen(50)\n",
    "konto1.kontoauszug()"
   ]
  },
  {
   "cell_type": "markdown",
   "id": "2bbea27a",
   "metadata": {},
   "source": [
    "Aufgabe Bankkonto:\n",
    "Wir haben schon das grundgeruest von ein Bankkonto.\n",
    "Wir moechten diese Klasse erweitern um eine einzahlungs methode und eine auszahlungs methode zu haben.\n",
    "Einzahlen duerfen wir so viel wie wir wollen.\n",
    "Auszahlen duerfen wir nur maximal so viel wie im Konto drin steht. D.h. Kontostand darf nicht negativ werden!"
   ]
  },
  {
   "cell_type": "code",
   "execution_count": 24,
   "id": "bc182303",
   "metadata": {},
   "outputs": [
    {
     "name": "stdout",
     "output_type": "stream",
     "text": [
      "Das neue Pin ist: 0400\n",
      "Konto Details\n",
      "=======================================\n",
      "Kontoinhaber: Nicolas\n",
      "Adresse: Hauptstrasse 1\n",
      "Bank: Deutsche Bank\n",
      "Region: Bayern\n",
      "Kontonummer: DE12346789012\n",
      "Kontostand: 0\n",
      "=======================================\n",
      "Einzahlung erfolgreich.\n",
      "Auszahlung erfolgreich\n",
      "Dein Aktueller Kontostand betraegt: 270\n"
     ]
    }
   ],
   "source": [
    "mein_konto = Bankkonto('Nicolas','Hauptstrasse 1')\n",
    "\n",
    "mein_konto.details()\n",
    "mein_konto.einzahlen(300)\n",
    "mein_konto.auszahlen(30)\n",
    "mein_konto.kontostand_ansehen()"
   ]
  },
  {
   "cell_type": "code",
   "execution_count": 11,
   "id": "3cd7430b",
   "metadata": {},
   "outputs": [
    {
     "data": {
      "text/plain": [
       "4450"
      ]
     },
     "execution_count": 11,
     "metadata": {},
     "output_type": "execute_result"
    }
   ],
   "source": [
    "class Rechner:\n",
    "    def summe(*values):\n",
    "        return sum(values)\n",
    "    \n",
    "    def teilen(zahl,denominator):\n",
    "        return zahl/denominator\n",
    "    \n",
    "Rechner.summe(23,5,54,24,4243,45,56)"
   ]
  },
  {
   "cell_type": "markdown",
   "id": "ad389eea",
   "metadata": {},
   "source": [
    "Aufgabe 1: Auto klasse erstellen. Hier muessen wir selber eigenschaften im Konstruktor definieren. Stellt fest, dass die eigenschaft aktuelle_geschwindigkeit auch existiert. Andere notwendige attribute: geparkt und angeschaltet.\n",
    "\n",
    "1. Schneller fahren duerfen wir nur, wenn das auto nicht geparkt ist und angeschaltet ist.\n",
    "2. schneller_fahren(grenze) => Diese Methode soll die aktuelle geschwindigkeit erhoehen jeweils um 5 und dieser Wert soll immer ausgegeben werden auf die konsole. Es soll die geschwindigkeit bis zu eine grenze erhoehen.\n",
    "3. bremsen(grenze) => Diese Methode soll die aktuelle geschwindigkeit verringern jeweils um 5 und dieser Wert soll immer ausgegeben werden auf die konsole. Es soll die geschwindigkeit bis zu eine grenze verringern. Wichtig: Darf nicht unter 0.\n",
    "4. Hinweis: Eine funktion jeweils schreiben fuer anschalten und parken."
   ]
  },
  {
   "cell_type": "code",
   "execution_count": 15,
   "id": "215e48f3",
   "metadata": {},
   "outputs": [
    {
     "name": "stdout",
     "output_type": "stream",
     "text": [
      "Die geschwindigkeit wird von 0 auf 50 erhoeht.\n",
      "Aktuelle geschwindigkeit: 5.\n",
      "Aktuelle geschwindigkeit: 10.\n",
      "Aktuelle geschwindigkeit: 15.\n",
      "Aktuelle geschwindigkeit: 20.\n",
      "Aktuelle geschwindigkeit: 25.\n",
      "Aktuelle geschwindigkeit: 30.\n",
      "Aktuelle geschwindigkeit: 35.\n",
      "Aktuelle geschwindigkeit: 40.\n",
      "Aktuelle geschwindigkeit: 45.\n",
      "Aktuelle geschwindigkeit: 50.\n",
      "Die geschwindigkeit wird von 50 auf 100 erhoeht.\n",
      "Aktuelle geschwindigkeit: 55.\n",
      "Aktuelle geschwindigkeit: 60.\n",
      "Aktuelle geschwindigkeit: 65.\n",
      "Aktuelle geschwindigkeit: 70.\n",
      "Aktuelle geschwindigkeit: 75.\n",
      "Aktuelle geschwindigkeit: 80.\n",
      "Aktuelle geschwindigkeit: 85.\n",
      "Aktuelle geschwindigkeit: 90.\n",
      "Aktuelle geschwindigkeit: 95.\n",
      "Aktuelle geschwindigkeit: 100.\n",
      "Die geschwindigkeit wird von 100 auf 0 verringert.\n",
      "Aktuelle geschwindigkeit: 95.\n",
      "Aktuelle geschwindigkeit: 90.\n",
      "Aktuelle geschwindigkeit: 85.\n",
      "Aktuelle geschwindigkeit: 80.\n",
      "Aktuelle geschwindigkeit: 75.\n",
      "Aktuelle geschwindigkeit: 70.\n",
      "Aktuelle geschwindigkeit: 65.\n",
      "Aktuelle geschwindigkeit: 60.\n",
      "Aktuelle geschwindigkeit: 55.\n",
      "Aktuelle geschwindigkeit: 50.\n",
      "Aktuelle geschwindigkeit: 45.\n",
      "Aktuelle geschwindigkeit: 40.\n",
      "Aktuelle geschwindigkeit: 35.\n",
      "Aktuelle geschwindigkeit: 30.\n",
      "Aktuelle geschwindigkeit: 25.\n",
      "Aktuelle geschwindigkeit: 20.\n",
      "Aktuelle geschwindigkeit: 15.\n",
      "Aktuelle geschwindigkeit: 10.\n",
      "Aktuelle geschwindigkeit: 5.\n",
      "Aktuelle geschwindigkeit: 0.\n",
      "EIN HUND IST AUF DIE STRASSE GELAUFEN!\n",
      "Aktuelle Geschwindigkeit: 0\n"
     ]
    }
   ],
   "source": [
    "class Auto:\n",
    "    def __init__(self,farbe,model,max_geschwindigkeit):\n",
    "        self.farbe = farbe\n",
    "        self.model = model\n",
    "        self.max_geschwindigkeit = max_geschwindigkeit\n",
    "        self.notbremse_aktiv = True\n",
    "        self.ausgeschaltet = True\n",
    "        self.aktuelle_geschwindigkeit = 0\n",
    "\n",
    "    def notbremse_deaktivieren(self):\n",
    "        self.notbremse_aktiv = False\n",
    "    def notbremse_aktivieren(self):\n",
    "        self.notbremse_aktiv = True\n",
    "\n",
    "        while self.aktuelle_geschwindigkeit>0:\n",
    "            print('Notbremse wurde aktiviert. Obacht!')\n",
    "            self.aktuelle_geschwindigkeit -= 10\n",
    "        print('Aktuelle Geschwindigkeit:',self.aktuelle_geschwindigkeit)\n",
    "\n",
    "    def motor_anschalten(self):\n",
    "        self.ausgeschaltet = False\n",
    "    def motor_ausgeschaltet(self):\n",
    "        self.ausgeschaltet = True\n",
    "\n",
    "    def schneller_fahren(self, grenze):\n",
    "        if self.ausgeschaltet:\n",
    "            print('Motor ist aus. Bitte anschalten um zu fahren.')\n",
    "            return\n",
    "        elif self.notbremse_aktiv:\n",
    "            print('Notbremse ist aktiv, bitte die Notbremse deaktivieren.')\n",
    "            return\n",
    "        \n",
    "        print(f'Die geschwindigkeit wird von {self.aktuelle_geschwindigkeit} auf {min(self.max_geschwindigkeit,grenze)} erhoeht.')\n",
    "        while self.aktuelle_geschwindigkeit < self.max_geschwindigkeit and self.aktuelle_geschwindigkeit < grenze:\n",
    "            self.aktuelle_geschwindigkeit += 5\n",
    "            print(f'Aktuelle geschwindigkeit: {self.aktuelle_geschwindigkeit}.')\n",
    "\n",
    "    def bremsen(self, grenze):\n",
    "        if self.ausgeschaltet:\n",
    "            print('Motor ist aus. Bitte anschalten um zu fahren.')\n",
    "            return\n",
    "        elif self.aktuelle_geschwindigkeit<=0:\n",
    "            print('Das auto bewegt sich aktuell nicht.')\n",
    "            return\n",
    "        \n",
    "        grenze = max(0,grenze)\n",
    "        print(f'Die geschwindigkeit wird von {self.aktuelle_geschwindigkeit} auf {grenze} verringert.')\n",
    "        while self.aktuelle_geschwindigkeit > grenze:\n",
    "            self.aktuelle_geschwindigkeit -= 5\n",
    "            print(f'Aktuelle geschwindigkeit: {self.aktuelle_geschwindigkeit}.')\n",
    "    \n",
    "\n",
    "mein_auto = Auto('rot','yaris',180)\n",
    "\n",
    "mein_auto.motor_anschalten()\n",
    "mein_auto.notbremse_deaktivieren()\n",
    "mein_auto.schneller_fahren(50)\n",
    "\n",
    "mein_auto.schneller_fahren(100)\n",
    "\n",
    "mein_auto.bremsen(0)\n",
    "\n",
    "print(\"EIN HUND IST AUF DIE STRASSE GELAUFEN!\")\n",
    "\n",
    "mein_auto.notbremse_aktivieren()"
   ]
  },
  {
   "cell_type": "markdown",
   "id": "e70b9e7c",
   "metadata": {},
   "source": [
    "Aufgabe Kunde erstellen:\n",
    "Wir moechten jetzt die Klasse Kunde erstellen. Hier sollen alle notwendige Kunde informationen abgespeichert werden.\n",
    "\n",
    "Diese Klasse soll nur die Methode details_ausgeben haben.\n",
    "\n",
    "Beispielsvariablen:\n",
    "* vorname\n",
    "* nachname\n",
    "* adresse\n",
    "* telefonnummer"
   ]
  },
  {
   "cell_type": "code",
   "execution_count": null,
   "id": "b346cffb",
   "metadata": {},
   "outputs": [],
   "source": [
    "class Kunde:\n",
    "    def __init__(self, vorname, nachname, adresse, telefonnummer, email, alter):\n",
    "        self.vorname = vorname\n",
    "        self.nachname = nachname\n",
    "        self.adresse = adresse\n",
    "        self.telefonnumer = telefonnummer\n",
    "        self.email = email\n",
    "        self.alter = alter\n",
    "    \n",
    "    def detail_kunde(self,formatier_anzeige=True):\n",
    "        if formatier_anzeige:\n",
    "            print('==================================')\n",
    "            print(f'Name: {self.vorname} {self.nachname}')\n",
    "            print(f'Adresse: {self.adresse}. Email: {self.email}')\n",
    "            print(f'Telefonnummer: {self.telefonnumer}')\n",
    "            print('Alter:',self.alter)\n",
    "            print('==================================')\n",
    "        else:\n",
    "            return f'{self.vorname} {self.nachname} {self.email}'"
   ]
  },
  {
   "cell_type": "code",
   "execution_count": null,
   "id": "febd0abb",
   "metadata": {},
   "outputs": [],
   "source": [
    "from random import randint\n",
    "from datetime import datetime\n",
    "\n",
    "class Bankkonto:\n",
    "    def __init__(self, kontoinhaber:Kunde, kontonummer, startguthaben=0):\n",
    "        self.kontoinhaber = kontoinhaber\n",
    "        self.kontostand = startguthaben\n",
    "        self.kontonummer = kontonummer\n",
    "        self.pin = Bankkonto.pin_generator()\n",
    "        self.transaktions_historie = []\n",
    "\n",
    "    def pin_generator():\n",
    "        neues_pin = ''\n",
    "        for i in range(0,4):\n",
    "            neues_pin += str(randint(0,9))\n",
    "        print('Das neue Pin ist:',neues_pin)\n",
    "        return neues_pin\n",
    "\n",
    "    def details(self):\n",
    "        print('=======================================')\n",
    "        print(f'Kontoinhaber: {self.kontoinhaber.detail_kunde(False)}')\n",
    "        print(f'Kontonummer: {self.kontonummer}\\nKontostand: {self.kontostand}')\n",
    "        print('=======================================')\n",
    "#\n",
    "    def einzahlen(self, betrag):\n",
    "        if betrag <= 0:\n",
    "            print('0 und Negative Betraege sind nicht erlaubt.')\n",
    "            return False\n",
    "        self.kontostand += betrag\n",
    "        self.transaktions_historie.append(('Einzahlen',betrag,self.kontostand,datetime.now()))\n",
    "        print('Einzahlung erfolgreich.')\n",
    "        return True\n",
    "        \n",
    "    def auszahlen(self, betrag):\n",
    "        if betrag <= 0:\n",
    "            print('0 und Negative Betraege sind nicht erlaubt.')\n",
    "            return False\n",
    "        self.kontostand -= betrag\n",
    "        self.transaktions_historie.append(('Auszahlen',betrag,self.kontostand,datetime.now()))\n",
    "        print('Auszahlung erfolgreich')\n",
    "        return True\n",
    "    \n",
    "    def einkommende_ueberweisung(self, betrag, kontonummer):\n",
    "        self.kontostand += betrag\n",
    "        self.transaktions_historie.append((f'Einkommende Ueberweisung von: {kontonummer}',betrag,self.kontostand,datetime.now()))\n",
    "    \n",
    "    def ausgehende_ueberweisung(self, betrag, kontonummer):\n",
    "        self.kontostand -= betrag\n",
    "        self.transaktions_historie.append((f'Ausgehende Ueberweisung an: {kontonummer}',betrag,self.kontostand,datetime.now()))\n",
    "\n",
    "    def kontostand_ansehen(self):\n",
    "        print('Dein Aktueller Kontostand betraegt:',self.kontostand)\n",
    "\n",
    "    def kontoauszug(self):\n",
    "        print('==========Transaktionshistorie==========')\n",
    "        print('(operation,betrag,kontostand,timestamp)')\n",
    "        for eintrag in self.transaktions_historie:\n",
    "            print(eintrag)\n",
    "        print('==========EndeHistorie==========')"
   ]
  },
  {
   "cell_type": "code",
   "execution_count": null,
   "id": "a9979283",
   "metadata": {},
   "outputs": [],
   "source": [
    "class Tagesgeldkonto(Bankkonto):\n",
    "    def __init__(self, kontoinhaber, kontonummer, betrag_limit):\n",
    "        super().__init__(kontoinhaber, kontonummer,500)\n",
    "        self.betrag_limit = betrag_limit\n",
    "\n",
    "    def auszahlen(self, betrag):\n",
    "        if betrag>self.betrag_limit:\n",
    "            return False\n",
    "        super().auszahlen(betrag)"
   ]
  },
  {
   "cell_type": "code",
   "execution_count": null,
   "id": "7358e2a4",
   "metadata": {},
   "outputs": [
    {
     "name": "stdout",
     "output_type": "stream",
     "text": [
      "Das neue Pin ist: 1744\n"
     ]
    }
   ],
   "source": [
    "mein_tagesgeldkonto = Tagesgeldkonto('Nicolas','58945',400)"
   ]
  },
  {
   "cell_type": "code",
   "execution_count": 74,
   "id": "2ade66c3",
   "metadata": {},
   "outputs": [
    {
     "name": "stdout",
     "output_type": "stream",
     "text": [
      "Auszahlung erfolgreich\n"
     ]
    }
   ],
   "source": [
    "mein_tagesgeldkonto.auszahlen(100)"
   ]
  },
  {
   "cell_type": "code",
   "execution_count": 76,
   "id": "e96b563b",
   "metadata": {},
   "outputs": [
    {
     "name": "stdout",
     "output_type": "stream",
     "text": [
      "Auszahlung erfolgreich\n"
     ]
    }
   ],
   "source": [
    "mein_tagesgeldkonto.auszahlen(90)"
   ]
  },
  {
   "cell_type": "code",
   "execution_count": 77,
   "id": "2d304c89",
   "metadata": {},
   "outputs": [
    {
     "name": "stdout",
     "output_type": "stream",
     "text": [
      "==========Transaktionshistorie==========\n",
      "(operation,betrag,kontostand,timestamp)\n",
      "('Auszahlen', 100, 400, datetime.datetime(2025, 9, 1, 11, 30, 28, 909871))\n",
      "('Auszahlen', 90, 310, datetime.datetime(2025, 9, 1, 11, 31, 16, 288854))\n",
      "==========EndeHistorie==========\n"
     ]
    }
   ],
   "source": [
    "mein_tagesgeldkonto.kontoauszug()"
   ]
  },
  {
   "cell_type": "markdown",
   "id": "1d57206c",
   "metadata": {},
   "source": [
    "Verbleibende Aufgaben in die Bank Klasse:\n",
    "\n",
    "1. Bank details ausgeben. Hier sollen keine Informationen ausgegeben werden. Nur quasi Werbung information bspw. Wie viele kontos hat die Bank, wie viele kunden hat die Bank, name der Bank, hauptstandort und land. bank_details() -> str. ca. 10 \n",
    "2. kontos infos ausgeben. kunden infos ausgeben. Zwei unterschiedliche Methoden. ca. 30\n",
    "\n",
    "3. Transaktion methode. Hier muss zuerst die Klasse Bankkonto erweitert werden mit eine Methode die folgende Signatur (erste Zeile einer Methode) hat.\n",
    "   1. def(self,anderen_konto:bankkonto,betrag): -> True/False\n",
    "4. Zweitens muesste fuer eine Transaktion eine Methode in Bank geschrieben werden, wo wir die Kontos mit einander verknuepfen wenn beide Kontos in self.kontos ueberhaupt existieren.\n",
    "   1. def(self,von_konto,zu_konto,betrag): -> True/False"
   ]
  },
  {
   "cell_type": "code",
   "execution_count": null,
   "id": "00e14287",
   "metadata": {},
   "outputs": [],
   "source": [
    "from random import randint\n",
    "\n",
    "class Bank:\n",
    "    def __init__(self, name:str, hauptstandort:str, region:str, land:str):\n",
    "        self.kontos:list[Bankkonto] = []\n",
    "        self.kunden:list[Kunde] = []\n",
    "        self.name = name\n",
    "        self.hauptstandort = hauptstandort\n",
    "        self.region = region\n",
    "        self.land = land\n",
    "\n",
    "    def geld_ueberweisung(self,von_kontonummer:str,zu_kontonummer:str,betrag:float):\n",
    "        #Schaue ob \"von_kontonummer\" existiert. Wenn nicht. Ist die geld_ueberweisung nicht erfolgreich\n",
    "        von_gesuchter_konto = self.bankkonto_finden(von_kontonummer)\n",
    "        if von_gesuchter_konto[0] == False:\n",
    "            print('Ungueltige \"von Kontonummer\" eingegeben.')\n",
    "            return False\n",
    "        \n",
    "        #Schaue ob \"zu_kontonummer\" existiert. Wenn nicht. Ist die geld_ueberweisung nicht erfolgreich\n",
    "        zu_gesuchter_konto = self.bankkonto_finden(zu_kontonummer)\n",
    "        if zu_gesuchter_konto[0] == False:\n",
    "            print('Ungueltige \"zu Kontonummer\" eingegeben.')\n",
    "            return False\n",
    "        \n",
    "        #Schaue ob der Betrag eine Positive Zahl ist. Wenn nicht. Ist die geld_ueberweisung nicht erfolgreich        \n",
    "        if betrag<=0:\n",
    "            print('Ungueltiger Betrag. Nur Positive Zahlen eingeben groesser 0.')\n",
    "            return False\n",
    "        \n",
    "        von_gesuchter_konto[1].ausgehende_ueberweisung(betrag,zu_kontonummer)\n",
    "        zu_gesuchter_konto[1].einkommende_ueberweisung(betrag,von_kontonummer)\n",
    "        return True\n",
    "\n",
    "\n",
    "    def bankkonto_finden(self, gesuchte_kontonummer):\n",
    "        for bankkonto in self.kontos:\n",
    "            if bankkonto.kontonummer == gesuchte_kontonummer:\n",
    "                return (True,bankkonto)\n",
    "        return (False,None)\n",
    "\n",
    "    def bank_details(self):\n",
    "        anzahl_kontos = len(self.kontos)\n",
    "        anzahl_kunden = len(self.kunden)\n",
    "\n",
    "        resultat = f'Wilkommen bei der {self.name}!\\nWir sind eine Bank aus {self.land}, mit unser hauptstandort in {self.hauptstandort}.\\nWir haben aktuell {anzahl_kontos} Kontos und {anzahl_kunden} Kunden!'\n",
    "        return resultat\n",
    "\n",
    "    def kunde_finden(self, vorname, nachname, adresse):\n",
    "        for kunde in self.kunden:\n",
    "            if kunde.vorname == vorname and kunde.nachname == nachname and kunde.adresse == adresse:\n",
    "                return (True,kunde)\n",
    "        return (False,None)\n",
    "        #Rueckgabewert ist ein Tupel mit (bool,kunde) oder (bool,None)\n",
    "    \n",
    "    def kunde_erstellen(self, vorname, nachname, adresse, telefonnummer, email, alter):\n",
    "        neuer_kunde = Kunde(vorname, nachname, adresse, telefonnummer, email, alter)\n",
    "        if not self.kunde_finden(vorname, nachname, adresse)[0]:\n",
    "            #0 ist der bool wert aus den Tupel \n",
    "            #den wir von die Methode kunde_finden \n",
    "            # bekommen.\n",
    "            self.kunden.append(neuer_kunde)\n",
    "            print('Kunde erfolgreich erstellt.')\n",
    "            return True\n",
    "        else:\n",
    "            print('Kunde existiert schon.')\n",
    "            return False\n",
    "\n",
    "    def kunde_loeschen(self, vorname, nachname, adresse):\n",
    "        kunde_existiert_tupel = self.kunde_finden(vorname,nachname,adresse)\n",
    "        if kunde_existiert_tupel[0]: \n",
    "            #0 ist der bool wert aus den Tupel \n",
    "            #den wir von die Methode kunde_finden \n",
    "            # bekommen.\n",
    "            self.kunden.remove(kunde_existiert_tupel[1]) #1 Ist der Kunde selbst\n",
    "            print('Kunde erfolgreich geloescht.')\n",
    "            return True\n",
    "        else:\n",
    "            print('Kunde konnte nicht gefunden werden.')\n",
    "            return False\n",
    "        \n",
    "    def bankkonto_loeschen(self, kontonummer):\n",
    "        for bankkonto in self.kontos:\n",
    "            #print(bankkonto.kontonummer)\n",
    "            if bankkonto.kontonummer == kontonummer:\n",
    "                self.kontos.remove(bankkonto)\n",
    "                print('Bankkonto erfolgreich geloescht.')\n",
    "                return True\n",
    "        print(\"Dieser Bankkonto konnte nicht gefunden werden.\")\n",
    "        return False\n",
    "\n",
    "    def bankkonto_erstellen(self,kunde):\n",
    "        tupel = self.freies_kontonummer_generieren()\n",
    "        while not tupel[0]:\n",
    "            tupel = self.freies_kontonummer_generieren()\n",
    "\n",
    "        neuer_bankkonto = Bankkonto(kunde,tupel[1])\n",
    "        self.kontos.append(neuer_bankkonto)\n",
    "\n",
    "    #5-stelliges Kontonummer\n",
    "    def freies_kontonummer_generieren(self):\n",
    "        neue_kontonummer = self.fuenf_stellige_kontonummer_erstellen()\n",
    "        for konto in self.kontos:\n",
    "            if neue_kontonummer == konto.kontonummer:\n",
    "                return (False,None)   \n",
    "        return (True,neue_kontonummer)\n",
    "\n",
    "    def fuenf_stellige_kontonummer_erstellen(self):\n",
    "        resultat = ''\n",
    "        for i in range(0,5):\n",
    "            resultat += str(randint(0,9))\n",
    "        return resultat\n",
    "    \n",
    "    def alle_kontos_details(self):\n",
    "        print('\\n=================Konto Liste======================\\n')\n",
    "        for konto in self.kontos:\n",
    "            konto.details()\n",
    "\n",
    "    def alle_kunden_details(self):\n",
    "        print('\\n=================Kunde Liste======================\\n')\n",
    "        for kunde in self.kunden:\n",
    "            kunde.detail_kunde()"
   ]
  },
  {
   "cell_type": "markdown",
   "id": "24156f14",
   "metadata": {},
   "source": [
    "## Bank Menue aufgabe:\n",
    "* Start Menue definieren: Hier darf der Benutzer einen Kunden werden, sich einloggen oder das Bank System beenden.\n",
    "  * Kunde anlegen: Nach anlegen wird der Kunde automatisch schon eingelogt. D.h. Zum naechsten Menue weitergeleitet.\n",
    "  * Einloggen: anhand von vorname, nachname, adresse Kunde suchen. Wenn gefunden zum naechsten Menue weiterleiten. Ansonsten Wieder zum Start Menue zurueck.\n",
    "  * System beenden.\n",
    "* Nach Start Menue, haben wir ein Kunden Menue. Hier darf der Kunde seine persoenliche Daten ausgeben lassen oder auch einen Konto erstellen.\n",
    "  * Details ausgeben\n",
    "  * Bankkonto erstellen\n",
    "  * Zurueck zum Start Menue.\n",
    "* Nachdem ein Konto erstellt wird, dann kommt einen Konto Menue wo der Benutzer auswaehlen darf ob er einzahlen, auszahlen, ueberweisung, kontoauszug oder kontodetails sehen will.\n",
    "  * einzahlen\n",
    "  * auszahlen\n",
    "  * ueberweisung\n",
    "  * kontoauszug\n",
    "  * kontodetails\n",
    "  * Zurueck zum Kunde Menue\n",
    "  * Wenn eine operation vorbei ist, dann kehren wir zurueck zu unser Konto Menue. Von hier duerfen wir weitere optionen auswaehlen."
   ]
  },
  {
   "cell_type": "markdown",
   "id": "a182370b",
   "metadata": {},
   "source": [
    "## Ausfuehrung der Methode alle_kunden_details(self)->None\n",
    "1. Methode in Klasse Bank\n",
    "2. Baut eine schleife auf\n",
    "3. In die schleife sehen wir die einzelne kunden aus unsere liste\n",
    "4. Es wird jeweils auf jeden kunden die methode detail_kunde() aufgerufen."
   ]
  },
  {
   "cell_type": "code",
   "execution_count": null,
   "id": "a274c43a",
   "metadata": {},
   "outputs": [
    {
     "name": "stdout",
     "output_type": "stream",
     "text": [
      "Kunde erfolgreich erstellt.\n",
      "Kunde erfolgreich erstellt.\n",
      "Das neue Pin ist: 9871\n",
      "Das neue Pin ist: 6692\n",
      "\n",
      "=================Konto Liste======================\n",
      "\n",
      "=======================================\n",
      "Kontoinhaber: Nicolas Arevalo muster@gmail.de\n",
      "Kontonummer: 87475\n",
      "Kontostand: 0\n",
      "=======================================\n",
      "=======================================\n",
      "Kontoinhaber: Bobby James muster@gmail.de\n",
      "Kontonummer: 46973\n",
      "Kontostand: 0\n",
      "=======================================\n"
     ]
    }
   ],
   "source": [
    "meine_bank = Bank('Deutsche Bank','Berlin','Brandenburg','Deutschland')\n",
    "\n",
    "meine_bank.kunde_erstellen('Nicolas','Arevalo','Musterstrasse 1','08623467267','muster@gmail.de',40)\n",
    "\n",
    "kunde_tupel = meine_bank.kunde_finden('Nicolas','Arevalo','Musterstrasse 1')\n",
    "\n",
    "meine_bank.kunde_erstellen('Bobby','James','Musterstrasse 2','08623467267','muster@gmail.de',40)\n",
    "\n",
    "kunde2_tupel = meine_bank.kunde_finden('Bobby','James','Musterstrasse 2')\n",
    "\n",
    "meine_bank.bankkonto_erstellen(kunde_tupel[1])\n",
    "\n",
    "meine_bank.bankkonto_erstellen(kunde2_tupel[1])\n",
    "\n",
    "meine_bank.alle_kontos_details()\n",
    "\n",
    "nicolas_konto = meine_bank.bankkonto_finden('87475')[1]\n",
    "\n",
    "nicolas_konto.einzahlen(397.54)"
   ]
  },
  {
   "cell_type": "code",
   "execution_count": 71,
   "id": "2dcd9632",
   "metadata": {},
   "outputs": [
    {
     "name": "stdout",
     "output_type": "stream",
     "text": [
      "Ungueltiger Betrag. Nur Positive Zahlen eingeben groesser 0.\n"
     ]
    },
    {
     "data": {
      "text/plain": [
       "False"
      ]
     },
     "execution_count": 71,
     "metadata": {},
     "output_type": "execute_result"
    }
   ],
   "source": [
    "meine_bank.geld_ueberweisung('46973','87475',-344)"
   ]
  },
  {
   "cell_type": "code",
   "execution_count": null,
   "id": "3673225c",
   "metadata": {},
   "outputs": [],
   "source": [
    "nicolas_konto = meine_bank.bankkonto_finden('87475')[1]"
   ]
  },
  {
   "cell_type": "code",
   "execution_count": null,
   "id": "7f14b9dd",
   "metadata": {},
   "outputs": [
    {
     "name": "stdout",
     "output_type": "stream",
     "text": [
      "Einzahlung erfolgreich.\n",
      "Auszahlung erfolgreich\n"
     ]
    },
    {
     "data": {
      "text/plain": [
       "True"
      ]
     },
     "execution_count": 61,
     "metadata": {},
     "output_type": "execute_result"
    }
   ],
   "source": [
    "nicolas_konto.einzahlen(397.54)\n",
    "nicolas_konto.auszahlen(3.50)"
   ]
  },
  {
   "cell_type": "code",
   "execution_count": 66,
   "id": "e84353f5",
   "metadata": {},
   "outputs": [
    {
     "name": "stdout",
     "output_type": "stream",
     "text": [
      "==========Transaktionshistorie==========\n",
      "(operation,betrag,kontostand,timestamp)\n",
      "('Einkommende Ueberweisung von: 46973', 100, 100, datetime.datetime(2025, 9, 1, 10, 41, 17, 834252))\n",
      "('Einzahlen', 397.54, 497.54, datetime.datetime(2025, 9, 1, 10, 43, 10, 71397))\n",
      "('Auszahlen', 3.5, 494.04, datetime.datetime(2025, 9, 1, 10, 43, 10, 71397))\n",
      "==========EndeHistorie==========\n"
     ]
    }
   ],
   "source": [
    "nicolas_konto.kontoauszug()"
   ]
  },
  {
   "cell_type": "code",
   "execution_count": 67,
   "id": "b58c3252",
   "metadata": {},
   "outputs": [],
   "source": [
    "bobby_bankkonto = meine_bank.bankkonto_finden('46973')[1]"
   ]
  },
  {
   "cell_type": "code",
   "execution_count": 68,
   "id": "62526d2c",
   "metadata": {},
   "outputs": [
    {
     "name": "stdout",
     "output_type": "stream",
     "text": [
      "==========Transaktionshistorie==========\n",
      "(operation,betrag,kontostand,timestamp)\n",
      "('Ausgehende Ueberweisung an: 87475', 100, -100, datetime.datetime(2025, 9, 1, 10, 41, 17, 834252))\n",
      "==========EndeHistorie==========\n"
     ]
    }
   ],
   "source": [
    "bobby_bankkonto.kontoauszug()"
   ]
  },
  {
   "cell_type": "markdown",
   "id": "4e678e1a",
   "metadata": {},
   "source": [
    "Konto Details\n",
    "=======================================\n",
    "Kontoinhaber: Nicolas Arevalo muster@gmail.de\n",
    "Kontonummer: 19265\n",
    "Kontostand: 0\n",
    "=======================================\n",
    "\n",
    "=======================================\n",
    "Kontoinhaber: Nicolas Arevalo muster@gmail.de\n",
    "Kontonummer: 19265\n",
    "Kontostand: 0\n",
    "=======================================\n",
    "\n",
    "=======================================\n",
    "Kontoinhaber: Nicolas Arevalo muster@gmail.de\n",
    "Kontonummer: 19265\n",
    "Kontostand: 0\n",
    "======================================="
   ]
  },
  {
   "cell_type": "code",
   "execution_count": 53,
   "id": "fa115429",
   "metadata": {},
   "outputs": [
    {
     "name": "stdout",
     "output_type": "stream",
     "text": [
      "Dieser Bankkonto konnte nicht gefunden werden.\n",
      "[<__main__.Bankkonto object at 0x000001676B99DE50>, <__main__.Bankkonto object at 0x000001676B99DC10>]\n"
     ]
    }
   ],
   "source": [
    "meine_bank.bankkonto_loeschen('19265')\n",
    "print(meine_bank.kontos)"
   ]
  },
  {
   "cell_type": "code",
   "execution_count": 54,
   "id": "7d0dee4c",
   "metadata": {},
   "outputs": [
    {
     "name": "stdout",
     "output_type": "stream",
     "text": [
      "Das neue Pin ist: 8526\n"
     ]
    }
   ],
   "source": [
    "ich = Kunde('Nicolas','Arevalo','Strasse 1','08167237623','max@muster.de',99)\n",
    "mein_konto = Bankkonto(ich,3000)"
   ]
  },
  {
   "cell_type": "code",
   "execution_count": 55,
   "id": "1a294be2",
   "metadata": {},
   "outputs": [
    {
     "name": "stdout",
     "output_type": "stream",
     "text": [
      "Einzahlung erfolgreich.\n",
      "Einzahlung erfolgreich.\n",
      "Auszahlung erfolgreich\n",
      "==========Transaktionshistorie==========\n",
      "(operation,betrag,kontostand,timestamp)\n",
      "('Einzahlen', 500, 500, datetime.datetime(2025, 9, 1, 10, 38, 33, 513667))\n",
      "('Einzahlen', 450, 950, datetime.datetime(2025, 9, 1, 10, 38, 33, 514662))\n",
      "('Auszahlen', 345, 605, datetime.datetime(2025, 9, 1, 10, 38, 33, 514662))\n",
      "==========EndeHistorie==========\n"
     ]
    }
   ],
   "source": [
    "mein_konto.einzahlen(500)\n",
    "mein_konto.einzahlen(450)\n",
    "mein_konto.auszahlen(345)\n",
    "mein_konto.kontoauszug()"
   ]
  },
  {
   "cell_type": "code",
   "execution_count": 56,
   "id": "a40d1aa0",
   "metadata": {},
   "outputs": [
    {
     "name": "stdout",
     "output_type": "stream",
     "text": [
      "=======================================\n",
      "Kontoinhaber: Nicolas Arevalo max@muster.de\n",
      "Kontonummer: 3000\n",
      "Kontostand: 605\n",
      "=======================================\n"
     ]
    }
   ],
   "source": [
    "mein_konto.details()"
   ]
  },
  {
   "cell_type": "markdown",
   "id": "367becea",
   "metadata": {},
   "source": [
    "## HA 01.09\n",
    "\n",
    "Aufgaben:\n",
    "1. Aus das was wir jetzt gemacht haben, inklusiv die Tagesgeldkonto Klasse, erstellt einen neuen Klassendiagramm.\n",
    "2. Erstellt ein Aktivitaetsdiagramm, wie wird eine Einzahlung(100) erstellt fuer ein bestimmtes Konto, wenn wir noch kein Konto haben."
   ]
  }
 ],
 "metadata": {
  "kernelspec": {
   "display_name": "Python 3",
   "language": "python",
   "name": "python3"
  },
  "language_info": {
   "codemirror_mode": {
    "name": "ipython",
    "version": 3
   },
   "file_extension": ".py",
   "mimetype": "text/x-python",
   "name": "python",
   "nbconvert_exporter": "python",
   "pygments_lexer": "ipython3",
   "version": "3.12.6"
  }
 },
 "nbformat": 4,
 "nbformat_minor": 5
}
