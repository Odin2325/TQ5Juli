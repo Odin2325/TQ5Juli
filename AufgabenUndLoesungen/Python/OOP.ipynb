{
 "cells": [
  {
   "cell_type": "markdown",
   "id": "7e7f4be6",
   "metadata": {},
   "source": [
    "# OOP (Objekt orientierte programmierung)"
   ]
  },
  {
   "cell_type": "code",
   "execution_count": null,
   "id": "6c485b22",
   "metadata": {},
   "outputs": [
    {
     "name": "stdout",
     "output_type": "stream",
     "text": [
      "rot\n"
     ]
    }
   ],
   "source": [
    "class Auto:\n",
    "    farbe = 'rot'\n",
    "    anzahl_tuere = 4\n",
    "    raeder_typ = 'Michellin'\n",
    "    marke = 'BMW'\n",
    "    treibstoff = 'Benzin'\n",
    "    preis = 68999\n",
    "\n",
    "mein_erstes_auto = Auto()\n",
    "print(mein_erstes_auto.farbe)"
   ]
  }
 ],
 "metadata": {
  "kernelspec": {
   "display_name": "Python 3",
   "language": "python",
   "name": "python3"
  },
  "language_info": {
   "codemirror_mode": {
    "name": "ipython",
    "version": 3
   },
   "file_extension": ".py",
   "mimetype": "text/x-python",
   "name": "python",
   "nbconvert_exporter": "python",
   "pygments_lexer": "ipython3",
   "version": "3.12.6"
  }
 },
 "nbformat": 4,
 "nbformat_minor": 5
}
