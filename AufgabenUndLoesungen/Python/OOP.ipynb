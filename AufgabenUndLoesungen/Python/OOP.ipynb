{
 "cells": [
  {
   "cell_type": "markdown",
   "id": "7e7f4be6",
   "metadata": {},
   "source": [
    "# OOP (Objekt orientierte programmierung)"
   ]
  },
  {
   "cell_type": "code",
   "execution_count": null,
   "id": "6c485b22",
   "metadata": {},
   "outputs": [
    {
     "name": "stdout",
     "output_type": "stream",
     "text": [
      "Auto Details:\n",
      "Farbe = Grau\n",
      "Modell = A2\n",
      "Preis = 35000\n",
      "Anzahl Tuere = 4\n",
      "Raeder Typ = Michellin\n",
      "Marke = BMW\n",
      "Treibstoff = Benzin\n"
     ]
    }
   ],
   "source": [
    "class Auto:\n",
    " \n",
    "    #Konstruktor\n",
    "    def __init__(self,farbe,modelle,preis):\n",
    "        self.farbe = farbe\n",
    "        self.modelle = modelle\n",
    "        self.preis = preis\n",
    "        self.anzahl_tuere = 4\n",
    "        self.raeder_typ = 'Michellin'\n",
    "        self.marke = 'BMW'\n",
    "        self.treibstoff = 'Benzin'\n",
    "\n",
    "    def auto_details(self):\n",
    "        print(f'Auto Details:\\nFarbe = {self.farbe}\\nModell = {self.modelle}\\nPreis = {self.preis}\\nAnzahl Tuere = {self.anzahl_tuere}\\nRaeder Typ = {self.raeder_typ}\\nMarke = {self.marke}\\nTreibstoff = {self.treibstoff}')\n",
    "\n",
    "\n",
    "#Self muss immer innerhalb der runden klammern \n",
    "#von jede methode in einer klasse als erstes parameter drin stehen.\n",
    "#Aber nur wenn wir die Methode von die Instaz aufruf moechten.\n",
    "#Methode ohne self in eine Klasse heissen static methoden.\n",
    "#Static methoden muessen direkt von eine Klasse aufgerufen werden.\n",
    "#Die duerfen nicht von ein objekt aufgerufen werden.\n",
    "mein_erstes_auto = Auto(farbe='Grau',modelle='A2',preis=35000)\n",
    "mein_erstes_auto.auto_details()\n",
    "#Auto.autodetails(mein_erstes_auto)\n",
    "\n",
    "klassen_fahrzeug = Auto('Blau','Bus',89000)\n",
    "\n",
    "\n"
   ]
  },
  {
   "cell_type": "markdown",
   "id": "adaa3f04",
   "metadata": {},
   "source": [
    "Aufgabe: Erstelle eine Klasse Bankkonto mit alle fuer euch sinnvolle eigenschaften.\n",
    "Ueberlege euch welche eigenschaft sollten hartcodiert werden und welche soll beim erstellen des Kontos eingegeben werden.\n",
    "\n",
    "Dann details methode schreiben, wo alle informationen ausgegeben werden."
   ]
  },
  {
   "cell_type": "code",
   "execution_count": null,
   "id": "ffb3410b",
   "metadata": {},
   "outputs": [],
   "source": []
  },
  {
   "cell_type": "code",
   "execution_count": null,
   "id": "e23340bf",
   "metadata": {},
   "outputs": [
    {
     "name": "stdout",
     "output_type": "stream",
     "text": [
      "Das neue Pin ist: 2430\n"
     ]
    }
   ],
   "source": [
    "konto1 = Bankkonto(Kunde())"
   ]
  },
  {
   "cell_type": "code",
   "execution_count": 60,
   "id": "c53b8b9d",
   "metadata": {},
   "outputs": [
    {
     "name": "stdout",
     "output_type": "stream",
     "text": [
      "Einzahlung erfolgreich.\n",
      "Auszahlung erfolgreich\n",
      "==========Transaktionshistorie==========\n",
      "(operation,betrag,kontostand,timestamp)\n",
      "('einzahlen', 3000, 3000, datetime.datetime(2025, 8, 28, 10, 13, 37, 150343))\n",
      "('auszahlen', 50, 2950, datetime.datetime(2025, 8, 28, 10, 13, 37, 150343))\n",
      "==========EndeHistorie==========\n"
     ]
    }
   ],
   "source": [
    "konto1.einzahlen(3000)\n",
    "konto1.auszahlen(50)\n",
    "konto1.kontoauszug()"
   ]
  },
  {
   "cell_type": "markdown",
   "id": "2bbea27a",
   "metadata": {},
   "source": [
    "Aufgabe Bankkonto:\n",
    "Wir haben schon das grundgeruest von ein Bankkonto.\n",
    "Wir moechten diese Klasse erweitern um eine einzahlungs methode und eine auszahlungs methode zu haben.\n",
    "Einzahlen duerfen wir so viel wie wir wollen.\n",
    "Auszahlen duerfen wir nur maximal so viel wie im Konto drin steht. D.h. Kontostand darf nicht negativ werden!"
   ]
  },
  {
   "cell_type": "code",
   "execution_count": 24,
   "id": "bc182303",
   "metadata": {},
   "outputs": [
    {
     "name": "stdout",
     "output_type": "stream",
     "text": [
      "Das neue Pin ist: 0400\n",
      "Konto Details\n",
      "=======================================\n",
      "Kontoinhaber: Nicolas\n",
      "Adresse: Hauptstrasse 1\n",
      "Bank: Deutsche Bank\n",
      "Region: Bayern\n",
      "Kontonummer: DE12346789012\n",
      "Kontostand: 0\n",
      "=======================================\n",
      "Einzahlung erfolgreich.\n",
      "Auszahlung erfolgreich\n",
      "Dein Aktueller Kontostand betraegt: 270\n"
     ]
    }
   ],
   "source": [
    "mein_konto = Bankkonto('Nicolas','Hauptstrasse 1')\n",
    "\n",
    "mein_konto.details()\n",
    "mein_konto.einzahlen(300)\n",
    "mein_konto.auszahlen(30)\n",
    "mein_konto.kontostand_ansehen()"
   ]
  },
  {
   "cell_type": "code",
   "execution_count": 11,
   "id": "3cd7430b",
   "metadata": {},
   "outputs": [
    {
     "data": {
      "text/plain": [
       "4450"
      ]
     },
     "execution_count": 11,
     "metadata": {},
     "output_type": "execute_result"
    }
   ],
   "source": [
    "class Rechner:\n",
    "    def summe(*values):\n",
    "        return sum(values)\n",
    "    \n",
    "    def teilen(zahl,denominator):\n",
    "        return zahl/denominator\n",
    "    \n",
    "Rechner.summe(23,5,54,24,4243,45,56)"
   ]
  },
  {
   "cell_type": "markdown",
   "id": "ad389eea",
   "metadata": {},
   "source": [
    "Aufgabe 1: Auto klasse erstellen. Hier muessen wir selber eigenschaften im Konstruktor definieren. Stellt fest, dass die eigenschaft aktuelle_geschwindigkeit auch existiert. Andere notwendige attribute: geparkt und angeschaltet.\n",
    "\n",
    "1. Schneller fahren duerfen wir nur, wenn das auto nicht geparkt ist und angeschaltet ist.\n",
    "2. schneller_fahren(grenze) => Diese Methode soll die aktuelle geschwindigkeit erhoehen jeweils um 5 und dieser Wert soll immer ausgegeben werden auf die konsole. Es soll die geschwindigkeit bis zu eine grenze erhoehen.\n",
    "3. bremsen(grenze) => Diese Methode soll die aktuelle geschwindigkeit verringern jeweils um 5 und dieser Wert soll immer ausgegeben werden auf die konsole. Es soll die geschwindigkeit bis zu eine grenze verringern. Wichtig: Darf nicht unter 0.\n",
    "4. Hinweis: Eine funktion jeweils schreiben fuer anschalten und parken."
   ]
  },
  {
   "cell_type": "code",
   "execution_count": 15,
   "id": "215e48f3",
   "metadata": {},
   "outputs": [
    {
     "name": "stdout",
     "output_type": "stream",
     "text": [
      "Die geschwindigkeit wird von 0 auf 50 erhoeht.\n",
      "Aktuelle geschwindigkeit: 5.\n",
      "Aktuelle geschwindigkeit: 10.\n",
      "Aktuelle geschwindigkeit: 15.\n",
      "Aktuelle geschwindigkeit: 20.\n",
      "Aktuelle geschwindigkeit: 25.\n",
      "Aktuelle geschwindigkeit: 30.\n",
      "Aktuelle geschwindigkeit: 35.\n",
      "Aktuelle geschwindigkeit: 40.\n",
      "Aktuelle geschwindigkeit: 45.\n",
      "Aktuelle geschwindigkeit: 50.\n",
      "Die geschwindigkeit wird von 50 auf 100 erhoeht.\n",
      "Aktuelle geschwindigkeit: 55.\n",
      "Aktuelle geschwindigkeit: 60.\n",
      "Aktuelle geschwindigkeit: 65.\n",
      "Aktuelle geschwindigkeit: 70.\n",
      "Aktuelle geschwindigkeit: 75.\n",
      "Aktuelle geschwindigkeit: 80.\n",
      "Aktuelle geschwindigkeit: 85.\n",
      "Aktuelle geschwindigkeit: 90.\n",
      "Aktuelle geschwindigkeit: 95.\n",
      "Aktuelle geschwindigkeit: 100.\n",
      "Die geschwindigkeit wird von 100 auf 0 verringert.\n",
      "Aktuelle geschwindigkeit: 95.\n",
      "Aktuelle geschwindigkeit: 90.\n",
      "Aktuelle geschwindigkeit: 85.\n",
      "Aktuelle geschwindigkeit: 80.\n",
      "Aktuelle geschwindigkeit: 75.\n",
      "Aktuelle geschwindigkeit: 70.\n",
      "Aktuelle geschwindigkeit: 65.\n",
      "Aktuelle geschwindigkeit: 60.\n",
      "Aktuelle geschwindigkeit: 55.\n",
      "Aktuelle geschwindigkeit: 50.\n",
      "Aktuelle geschwindigkeit: 45.\n",
      "Aktuelle geschwindigkeit: 40.\n",
      "Aktuelle geschwindigkeit: 35.\n",
      "Aktuelle geschwindigkeit: 30.\n",
      "Aktuelle geschwindigkeit: 25.\n",
      "Aktuelle geschwindigkeit: 20.\n",
      "Aktuelle geschwindigkeit: 15.\n",
      "Aktuelle geschwindigkeit: 10.\n",
      "Aktuelle geschwindigkeit: 5.\n",
      "Aktuelle geschwindigkeit: 0.\n",
      "EIN HUND IST AUF DIE STRASSE GELAUFEN!\n",
      "Aktuelle Geschwindigkeit: 0\n"
     ]
    }
   ],
   "source": [
    "class Auto:\n",
    "    def __init__(self,farbe,model,max_geschwindigkeit):\n",
    "        self.farbe = farbe\n",
    "        self.model = model\n",
    "        self.max_geschwindigkeit = max_geschwindigkeit\n",
    "        self.notbremse_aktiv = True\n",
    "        self.ausgeschaltet = True\n",
    "        self.aktuelle_geschwindigkeit = 0\n",
    "\n",
    "    def notbremse_deaktivieren(self):\n",
    "        self.notbremse_aktiv = False\n",
    "    def notbremse_aktivieren(self):\n",
    "        self.notbremse_aktiv = True\n",
    "\n",
    "        while self.aktuelle_geschwindigkeit>0:\n",
    "            print('Notbremse wurde aktiviert. Obacht!')\n",
    "            self.aktuelle_geschwindigkeit -= 10\n",
    "        print('Aktuelle Geschwindigkeit:',self.aktuelle_geschwindigkeit)\n",
    "\n",
    "    def motor_anschalten(self):\n",
    "        self.ausgeschaltet = False\n",
    "    def motor_ausgeschaltet(self):\n",
    "        self.ausgeschaltet = True\n",
    "\n",
    "    def schneller_fahren(self, grenze):\n",
    "        if self.ausgeschaltet:\n",
    "            print('Motor ist aus. Bitte anschalten um zu fahren.')\n",
    "            return\n",
    "        elif self.notbremse_aktiv:\n",
    "            print('Notbremse ist aktiv, bitte die Notbremse deaktivieren.')\n",
    "            return\n",
    "        \n",
    "        print(f'Die geschwindigkeit wird von {self.aktuelle_geschwindigkeit} auf {min(self.max_geschwindigkeit,grenze)} erhoeht.')\n",
    "        while self.aktuelle_geschwindigkeit < self.max_geschwindigkeit and self.aktuelle_geschwindigkeit < grenze:\n",
    "            self.aktuelle_geschwindigkeit += 5\n",
    "            print(f'Aktuelle geschwindigkeit: {self.aktuelle_geschwindigkeit}.')\n",
    "\n",
    "    def bremsen(self, grenze):\n",
    "        if self.ausgeschaltet:\n",
    "            print('Motor ist aus. Bitte anschalten um zu fahren.')\n",
    "            return\n",
    "        elif self.aktuelle_geschwindigkeit<=0:\n",
    "            print('Das auto bewegt sich aktuell nicht.')\n",
    "            return\n",
    "        \n",
    "        grenze = max(0,grenze)\n",
    "        print(f'Die geschwindigkeit wird von {self.aktuelle_geschwindigkeit} auf {grenze} verringert.')\n",
    "        while self.aktuelle_geschwindigkeit > grenze:\n",
    "            self.aktuelle_geschwindigkeit -= 5\n",
    "            print(f'Aktuelle geschwindigkeit: {self.aktuelle_geschwindigkeit}.')\n",
    "    \n",
    "\n",
    "mein_auto = Auto('rot','yaris',180)\n",
    "\n",
    "mein_auto.motor_anschalten()\n",
    "mein_auto.notbremse_deaktivieren()\n",
    "mein_auto.schneller_fahren(50)\n",
    "\n",
    "mein_auto.schneller_fahren(100)\n",
    "\n",
    "mein_auto.bremsen(0)\n",
    "\n",
    "print(\"EIN HUND IST AUF DIE STRASSE GELAUFEN!\")\n",
    "\n",
    "mein_auto.notbremse_aktivieren()"
   ]
  },
  {
   "cell_type": "markdown",
   "id": "e70b9e7c",
   "metadata": {},
   "source": [
    "Aufgabe Kunde erstellen:\n",
    "Wir moechten jetzt die Klasse Kunde erstellen. Hier sollen alle notwendige Kunde informationen abgespeichert werden.\n",
    "\n",
    "Diese Klasse soll nur die Methode details_ausgeben haben.\n",
    "\n",
    "Beispielsvariablen:\n",
    "* vorname\n",
    "* nachname\n",
    "* adresse\n",
    "* telefonnummer"
   ]
  },
  {
   "cell_type": "code",
   "execution_count": null,
   "id": "b346cffb",
   "metadata": {},
   "outputs": [],
   "source": [
    "class Kunde:\n",
    "    def __init__(self, vorname, nachname, adresse, telefonnummer, email, alter):\n",
    "        self.vorname = vorname\n",
    "        self.nachname = nachname\n",
    "        self.adresse = adresse\n",
    "        self.telefonnumer = telefonnummer\n",
    "        self.email = email\n",
    "        self.alter = alter\n",
    "    \n",
    "    def detail_kunde(self,formatier_anzeige):\n",
    "        if formatier_anzeige:\n",
    "            print('===========KundeDetails===========')\n",
    "            print(f'Name: {self.vorname} {self.nachname}')\n",
    "            print(f'Adresse: {self.adresse}. Email: {self.email}')\n",
    "            print(f'Telefonnummer: {self.telefonnumer}')\n",
    "            print('Alter:',self.alter)\n",
    "            print('==================================')\n",
    "        else:\n",
    "            return f'{self.vorname} {self.nachname} {self.email}'"
   ]
  },
  {
   "cell_type": "code",
   "execution_count": null,
   "id": "febd0abb",
   "metadata": {},
   "outputs": [],
   "source": [
    "from random import randint\n",
    "from datetime import datetime\n",
    "\n",
    "class Bankkonto:\n",
    "    def __init__(self, kontoinhaber:Kunde, kontonummer, startguthaben=0,):\n",
    "        self.kontoinhaber = kontoinhaber\n",
    "        self.kontostand = startguthaben\n",
    "        self.kontonummer = kontonummer\n",
    "        self.pin = Bankkonto.pin_generator()\n",
    "        self.transaktions_historie = []\n",
    "\n",
    "    def pin_generator():\n",
    "        neues_pin = ''\n",
    "        for i in range(0,4):\n",
    "            neues_pin += str(randint(0,9))\n",
    "        print('Das neue Pin ist:',neues_pin)\n",
    "        return neues_pin\n",
    "\n",
    "    def details(self):\n",
    "        print('Konto Details')\n",
    "        print('=======================================')\n",
    "        print(f'Kontoinhaber: {self.kontoinhaber.detail_kunde(False)}')\n",
    "        print(f'Kontonummer: {self.kontonummer}\\nKontostand: {self.kontostand}')\n",
    "        print('=======================================')\n",
    "\n",
    "    def einzahlen(self, betrag):\n",
    "        if betrag <= 0:\n",
    "            print('0 und Negative Betraege sind nicht erlaubt.')\n",
    "            return False\n",
    "        self.kontostand += betrag\n",
    "        self.transaktions_historie.append(('einzahlen',betrag,self.kontostand,datetime.now()))\n",
    "        print('Einzahlung erfolgreich.')\n",
    "        return True\n",
    "        \n",
    "    def auszahlen(self, betrag):\n",
    "        if betrag <= 0:\n",
    "            print('0 und Negative Betraege sind nicht erlaubt.')\n",
    "            return False\n",
    "        self.kontostand -= betrag\n",
    "        self.transaktions_historie.append(('auszahlen',betrag,self.kontostand,datetime.now()))\n",
    "        print('Auszahlung erfolgreich')\n",
    "        return True\n",
    "    \n",
    "    def kontostand_ansehen(self):\n",
    "        print('Dein Aktueller Kontostand betraegt:',self.kontostand)\n",
    "\n",
    "    def kontoauszug(self):\n",
    "        print('==========Transaktionshistorie==========')\n",
    "        print('(operation,betrag,kontostand,timestamp)')\n",
    "        for eintrag in self.transaktions_historie:\n",
    "            print(eintrag)\n",
    "        print('==========EndeHistorie==========')"
   ]
  },
  {
   "cell_type": "code",
   "execution_count": null,
   "id": "00e14287",
   "metadata": {},
   "outputs": [],
   "source": [
    "class Bank:\n",
    "    def __init__(self, name, hauptstandort, region, land):\n",
    "        self.kontos = []#Kontonummern: DE0 oder DE1 oder DE2\n",
    "        self.kunden = []\n",
    "        self.name = name\n",
    "        self.hauptstandort = hauptstandort\n",
    "        self.region = region\n",
    "        self.land = land\n",
    "\n",
    "    def kunde_schon_existiert(self, vorname, nachname, adresse):\n",
    "        for kunde in self.kunden:\n",
    "            if kunde.vorname == vorname and kunde.nachname == nachname and kunde.adresse == adresse:\n",
    "                return (True,kunde)\n",
    "        return (False,None)\n",
    "        #Rueckgabewert ist ein Tupel mit (bool,kunde) oder (bool,None)\n",
    "    \n",
    "    def kunde_erstellen(self, vorname, nachname, adresse, telefonnummer, email, alter):\n",
    "        neuer_kunde = Kunde(vorname, nachname, adresse, telefonnummer, email, alter)\n",
    "        if not self.kunde_schon_existiert(vorname, nachname, adresse)[0]:\n",
    "            #0 ist der bool wert aus den Tupel \n",
    "            #den wir von die Methode kunde_schon_existiert \n",
    "            # bekommen.\n",
    "            self.kunden.append(neuer_kunde)\n",
    "            print('Kunde erfolgreich erstellt.')\n",
    "            return True\n",
    "        else:\n",
    "            print('Kunde existiert schon.')\n",
    "            return False\n",
    "        \n",
    "\n",
    "    def kunde_loeschen(self, vorname, nachname, adresse):\n",
    "        kunde_existiert_tupel = self.kunde_schon_existiert(vorname,nachname,adresse)\n",
    "        if kunde_existiert_tupel[0]: \n",
    "            #0 ist der bool wert aus den Tupel \n",
    "            #den wir von die Methode kunde_schon_existiert \n",
    "            # bekommen.\n",
    "            self.kunden.remove(kunde_existiert_tupel[1]) #1 Ist der Kunde selbst\n",
    "            print('Kunde erfolgreich geloescht.')\n",
    "            return True\n",
    "        else:\n",
    "            print('Kunde konnte nicht gefunden werden.')\n",
    "            return False"
   ]
  },
  {
   "cell_type": "code",
   "execution_count": 18,
   "id": "7d0dee4c",
   "metadata": {},
   "outputs": [
    {
     "name": "stdout",
     "output_type": "stream",
     "text": [
      "Das neue Pin ist: 4504\n"
     ]
    }
   ],
   "source": [
    "ich = Kunde('Nicolas','Arevalo','Strasse 1','08167237623','max@muster.de',99)\n",
    "mein_konto = Bankkonto(ich,3000)"
   ]
  },
  {
   "cell_type": "code",
   "execution_count": 19,
   "id": "1a294be2",
   "metadata": {},
   "outputs": [
    {
     "name": "stdout",
     "output_type": "stream",
     "text": [
      "Einzahlung erfolgreich.\n",
      "Einzahlung erfolgreich.\n",
      "Auszahlung erfolgreich\n",
      "==========Transaktionshistorie==========\n",
      "(operation,betrag,kontostand,timestamp)\n",
      "('einzahlen', 500, 3500, datetime.datetime(2025, 8, 28, 12, 6, 9, 29210))\n",
      "('einzahlen', 450, 3950, datetime.datetime(2025, 8, 28, 12, 6, 9, 30210))\n",
      "('auszahlen', 345, 3605, datetime.datetime(2025, 8, 28, 12, 6, 9, 30210))\n",
      "==========EndeHistorie==========\n"
     ]
    }
   ],
   "source": [
    "mein_konto.einzahlen(500)\n",
    "mein_konto.einzahlen(450)\n",
    "mein_konto.auszahlen(345)\n",
    "mein_konto.kontoauszug()"
   ]
  },
  {
   "cell_type": "code",
   "execution_count": 20,
   "id": "a40d1aa0",
   "metadata": {},
   "outputs": [
    {
     "name": "stdout",
     "output_type": "stream",
     "text": [
      "Konto Details\n",
      "=======================================\n",
      "Kontoinhaber: Nicolas Arevalo max@muster.de\n",
      "Bank: Deutsche Bank\n",
      "Region: Bayern\n",
      "Kontonummer: DE12346789012\n",
      "Kontostand: 3605\n",
      "=======================================\n"
     ]
    }
   ],
   "source": [
    "mein_konto.details()"
   ]
  }
 ],
 "metadata": {
  "kernelspec": {
   "display_name": "Python 3",
   "language": "python",
   "name": "python3"
  },
  "language_info": {
   "codemirror_mode": {
    "name": "ipython",
    "version": 3
   },
   "file_extension": ".py",
   "mimetype": "text/x-python",
   "name": "python",
   "nbconvert_exporter": "python",
   "pygments_lexer": "ipython3",
   "version": "3.12.6"
  }
 },
 "nbformat": 4,
 "nbformat_minor": 5
}
