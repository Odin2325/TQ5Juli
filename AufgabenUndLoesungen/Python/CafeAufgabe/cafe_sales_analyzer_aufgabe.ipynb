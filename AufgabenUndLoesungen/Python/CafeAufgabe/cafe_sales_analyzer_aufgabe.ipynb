{
 "cells": [
  {
   "cell_type": "markdown",
   "id": "3331c400",
   "metadata": {},
   "source": [
    "# Café Verkaufsanalyse\n",
    "\n",
    "**Ziel:** Implementiere `analyze_sales(orders, top_n=3, include_cancelled=False)`, um die Bestellungen eines Tages auszuwerten."
   ]
  },
  {
   "cell_type": "markdown",
   "id": "5a0090d0",
   "metadata": {},
   "source": [
    "## Szenario\n",
    "Ein kleines Café exportiert seine täglichen Bestellungen in Python-Datenstrukturen. Jede Bestellung ist ein **Tuple**:\n",
    "\n",
    "```\n",
    "(order_id, customer_name, items, status)\n",
    "```\n",
    "- `order_id`: `int`\n",
    "- `customer_name`: `str`\n",
    "- `items`: **Liste von Tupeln** `(product_name, quantity, unit_price)`\n",
    "- `status`: `'paid'` oder `'cancelled'`"
   ]
  },
  {
   "cell_type": "markdown",
   "id": "f2c73c72",
   "metadata": {},
   "source": [
    "## Aufgabe\n",
    "Schreibe eine Funktion:\n",
    "\n",
    "```python\n",
    "def analyze_sales(orders, top_n=3, include_cancelled=False):\n",
    "    \"\"\"\n",
    "    Analysiere Café-Bestellungen und gib ein Dictionary mit einer Zusammenfassung zurück.\n",
    "    \"\"\"\n",
    "```\n",
    "\n",
    "### Anforderungen\n",
    "1. **Bestellungen filtern**\n",
    "   - Wenn `include_cancelled` `False` ist, ignoriere Bestellungen, bei denen `status == 'cancelled'`.\n",
    "\n",
    "2. **Summen berechnen**\n",
    "   - `total_revenue`: Summe von `quantity * unit_price` aller gezählten Bestellungen.\n",
    "   - `total_items_sold`: Gesamtanzahl aller verkauften Produkte (Summe der Mengen).\n",
    "   - `num_orders`: Anzahl der gezählten Bestellungen.\n",
    "   - `avg_basket_size`: Durchschnittliche Anzahl an Produkten pro Bestellung (nach Menge, nicht nach verschiedenen Artikeln). Runde auf **2 Nachkommastellen**.\n",
    "\n",
    "3. **Verkäufe pro Produkt**\n",
    "   - Erstelle ein Dictionary `item_totals`, das `product_name -> Gesamtanzahl` abbildet.\n",
    "\n",
    "4. **Umsatz pro Kunde**\n",
    "   - Erstelle ein Dictionary `customer_spend`, das `customer_name -> ausgegebener Gesamtbetrag` abbildet.\n",
    "\n",
    "\n",
    "5. **Rückgabewert**\n",
    "   - Die Funktion gibt **ein Dictionary** mit genau diesen Schlüsseln zurück:\n",
    "     ```python\n",
    "     {\n",
    "       \"total_revenue\": float,\n",
    "       \"total_items_sold\": int,\n",
    "       \"num_orders\": int,\n",
    "       \"avg_basket_size\": float,\n",
    "       \"item_totals\": {str: int},\n",
    "       \"customer_spend\": {str: float},\n",
    "     }\n",
    "     ```\n",
    "\n",
    "6. **Einschränkungen**\n",
    "   - Nutze nur grundlegende Python-Datentypen (Listen, Tupel, Dictionaries, Schleifen, Bedingungen, Built-ins)."
   ]
  },
  {
   "cell_type": "markdown",
   "id": "93924499",
   "metadata": {},
   "source": [
    "## Beispieldaten\n",
    "Führe diese Zelle aus, um Beispiel-Bestellungen (`orders`) zu laden."
   ]
  },
  {
   "cell_type": "code",
   "execution_count": null,
   "id": "08baf27e",
   "metadata": {},
   "outputs": [],
   "source": [
    "orders = [\n",
    "    (101, \"Alice\", [(\"Latte\", 2, 3.50), (\"Croissant\", 1, 2.80)], \"paid\"),\n",
    "    (102, \"Bob\",   [(\"Espresso\", 1, 2.20), (\"Muffin\", 2, 2.50)],  \"paid\"),\n",
    "    (103, \"Alice\", [(\"Latte\", 1, 3.50), (\"Muffin\", 1, 2.50)],     \"cancelled\"),\n",
    "    (104, \"Dana\",  [(\"Americano\", 1, 2.80), (\"Croissant\", 3, 2.80)], \"paid\"),\n",
    "    (105, \"Chris\", [(\"Latte\", 1, 3.50)],                           \"paid\"),\n",
    "]\n",
    "print(f\"{len(orders)} Bestellungen geladen.\")"
   ]
  },
  {
   "cell_type": "markdown",
   "id": "52b6fddf",
   "metadata": {},
   "source": [
    "### Hilfefunktion um cafe_orders.csv einzulesen"
   ]
  },
  {
   "cell_type": "code",
   "execution_count": 1,
   "id": "1a49b7e0",
   "metadata": {},
   "outputs": [],
   "source": [
    "import csv\n",
    "from collections import defaultdict\n",
    "\n",
    "def load_orders_from_csv(filename):\n",
    "    \"\"\"\n",
    "    Lädt Bestellungen aus einer CSV-Datei und gibt eine Liste von Bestellungen zurück.\n",
    "    \n",
    "    Jede Bestellung ist ein Tuple:\n",
    "    (order_id, customer_name, items, status)\n",
    "    \n",
    "    - order_id: int\n",
    "    - customer_name: str\n",
    "    - items: Liste von Tupeln (product_name, quantity, unit_price)\n",
    "    - status: str (\"paid\" oder \"cancelled\")\n",
    "    \"\"\"\n",
    "    orders_dict = defaultdict(lambda: {\"customer\": None, \"items\": [], \"status\": None})\n",
    "    \n",
    "    with open(filename, newline=\"\", encoding=\"utf-8\") as f:\n",
    "        reader = csv.DictReader(f)\n",
    "        for row in reader:\n",
    "            order_id = int(row[\"order_id\"])\n",
    "            customer = row[\"customer_name\"]\n",
    "            product = row[\"product_name\"]\n",
    "            quantity = int(row[\"quantity\"])\n",
    "            unit_price = float(row[\"unit_price\"])\n",
    "            status = row[\"status\"]\n",
    "            \n",
    "            # Werte ins Dictionary schreiben\n",
    "            orders_dict[order_id][\"customer\"] = customer\n",
    "            orders_dict[order_id][\"status\"] = status\n",
    "            orders_dict[order_id][\"items\"].append((product, quantity, unit_price))\n",
    "    \n",
    "    # Umwandeln in die gewünschte Struktur\n",
    "    orders = []\n",
    "    for order_id, data in orders_dict.items():\n",
    "        orders.append((\n",
    "            order_id,\n",
    "            data[\"customer\"],\n",
    "            data[\"items\"],\n",
    "            data[\"status\"]\n",
    "        ))\n",
    "    \n",
    "    return orders\n"
   ]
  },
  {
   "cell_type": "markdown",
   "id": "34a3d727",
   "metadata": {},
   "source": [
    "Beispielnutzung:"
   ]
  },
  {
   "cell_type": "code",
   "execution_count": 2,
   "id": "124008ae",
   "metadata": {},
   "outputs": [
    {
     "name": "stdout",
     "output_type": "stream",
     "text": [
      "Geladene Bestellungen: 120\n",
      "(1001, 'Ulla', [('Cappuccino', 1, 3.2), ('Hot Chocolate', 1, 3.0), ('Americano', 4, 2.8)], 'paid')\n"
     ]
    }
   ],
   "source": [
    "orders = load_orders_from_csv(\"cafe_orders.csv\")\n",
    "print(f\"Geladene Bestellungen: {len(orders)}\")\n",
    "print(orders[0])  # zeigt die erste Bestellung an"
   ]
  },
  {
   "cell_type": "markdown",
   "id": "ed61f813",
   "metadata": {},
   "source": [
    "## Deine Funktion\n",
    "Implementiere `analyze_sales` hier:"
   ]
  },
  {
   "cell_type": "code",
   "execution_count": null,
   "id": "ae5237e0",
   "metadata": {},
   "outputs": [],
   "source": [
    "def analyze_sales(orders, top_n=3, include_cancelled=False):\n",
    "    \"\"\"Analysiere Café-Bestellungen und gib ein Dictionary mit einer Zusammenfassung zurück.\"\"\"\n",
    "    # TODO: Implementiere deine Lösung\n",
    "    total_revenue = 0.0\n",
    "    total_items_sold = 0\n",
    "    num_orders = 0\n",
    "    item_totals = {}\n",
    "    customer_spend = {}\n",
    "\n",
    "\n",
    "\n",
    "    return {\n",
    "        'total_revenue': float(total_revenue),\n",
    "        'total_items_sold': int(total_items_sold),\n",
    "        'num_orders': int(num_orders),\n",
    "        'avg_basket_size': float(avg_basket_size),\n",
    "        'item_totals': item_totals,\n",
    "        'customer_spend': customer_spend,\n",
    "        'top_sellers': top_sellers,\n",
    "    }"
   ]
  },
  {
   "cell_type": "markdown",
   "id": "8c3cf52e",
   "metadata": {},
   "source": [
    "## Schneller Test\n",
    "Führe dies aus, um die Struktur und das Verhalten deiner Funktion zu prüfen."
   ]
  },
  {
   "cell_type": "code",
   "execution_count": null,
   "id": "f1310b3b",
   "metadata": {},
   "outputs": [],
   "source": [
    "summary = analyze_sales(orders, top_n=2, include_cancelled=False)\n",
    "expected_keys = {\n",
    "    'total_revenue', 'total_items_sold', 'num_orders', 'avg_basket_size',\n",
    "    'item_totals', 'customer_spend'\n",
    "}\n",
    "print('Keys OK:', set(summary.keys()) == expected_keys)\n",
    "print('Anzahl Bestellungen:', summary['num_orders'])\n",
    "print('Durchschnittliche Warenkorbgröße:', summary['avg_basket_size'])\n",
    "print('Top-Seller:', summary['top_sellers'])\n",
    "print('Produkte gesamt:', summary['item_totals'])\n",
    "print('Kundenausgaben:', summary['customer_spend'])"
   ]
  },
  {
   "cell_type": "markdown",
   "id": "6faa79c1",
   "metadata": {},
   "source": [
    "## Hinweise\n",
    "- Initialisiere mit leeren Dicts: `item_totals = {}`, `customer_spend = {}`.\n",
    "\n",
    "- Achte darauf, stornierte Bestellungen zu ignorieren, außer `include_cancelled=True`."
   ]
  }
 ],
 "metadata": {
  "kernelspec": {
   "display_name": "Python 3",
   "language": "python",
   "name": "python3"
  },
  "language_info": {
   "codemirror_mode": {
    "name": "ipython",
    "version": 3
   },
   "file_extension": ".py",
   "mimetype": "text/x-python",
   "name": "python",
   "nbconvert_exporter": "python",
   "pygments_lexer": "ipython3",
   "version": "3.12.6"
  }
 },
 "nbformat": 4,
 "nbformat_minor": 5
}
