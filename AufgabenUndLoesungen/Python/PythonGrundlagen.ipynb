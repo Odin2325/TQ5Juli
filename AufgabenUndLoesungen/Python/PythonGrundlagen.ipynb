{
 "cells": [
  {
   "cell_type": "markdown",
   "id": "d6f84768",
   "metadata": {},
   "source": [
    "## Fehler Verursachen"
   ]
  },
  {
   "cell_type": "code",
   "execution_count": null,
   "id": "6a391525",
   "metadata": {},
   "outputs": [],
   "source": [
    "print('Hallo)\n",
    "#Syntax Error"
   ]
  },
  {
   "cell_type": "code",
   "execution_count": null,
   "id": "fbcb0af2",
   "metadata": {},
   "outputs": [],
   "source": [
    "print(3.6/0)\n",
    "#Runtime Error"
   ]
  },
  {
   "cell_type": "markdown",
   "id": "063df8f0",
   "metadata": {},
   "source": [
    "## Einrueckungen und Abstaende"
   ]
  },
  {
   "cell_type": "code",
   "execution_count": null,
   "id": "50da455d",
   "metadata": {},
   "outputs": [],
   "source": [
    "if True:\n",
    "    print(\"Wir lernen Python\")\n",
    "    print(\"Viel einfacher als C#\")\n",
    "#EndeIf\n",
    "\n",
    "print(\"Hi\")"
   ]
  },
  {
   "cell_type": "code",
   "execution_count": null,
   "id": "b6bb3513",
   "metadata": {},
   "outputs": [],
   "source": [
    "while True:\n",
    "    print(\"Wir lernen Python\")\n",
    "    print(\"Viel einfacher als C#\")"
   ]
  },
  {
   "cell_type": "markdown",
   "id": "8c421b78",
   "metadata": {},
   "source": [
    "### CSharp Beispiel\n",
    "\n",
    "if (true)\n",
    "{\n",
    "    Console.WriteLine(\"Wir lernen Python\");\n",
    "    Console.WriteLine(\"Viel einfacher als C#\");\n",
    "}"
   ]
  },
  {
   "cell_type": "markdown",
   "id": "44c3d3b8",
   "metadata": {},
   "source": [
    "Bezeichner Beispiele"
   ]
  },
  {
   "cell_type": "code",
   "execution_count": null,
   "id": "b435b005",
   "metadata": {},
   "outputs": [],
   "source": [
    "vorname = \"Nicolas\"\n",
    "Vorname = \"Vache\"\n",
    "#Unterschiedliche variablen"
   ]
  },
  {
   "cell_type": "code",
   "execution_count": null,
   "id": "7534cf3a",
   "metadata": {},
   "outputs": [],
   "source": [
    "Hivariable = 23"
   ]
  },
  {
   "cell_type": "code",
   "execution_count": null,
   "id": "cab8c4b9",
   "metadata": {},
   "outputs": [],
   "source": [
    "datentyp_beispiel = \"Hallo\""
   ]
  },
  {
   "cell_type": "markdown",
   "id": "5f03fc5f",
   "metadata": {},
   "source": [
    "Funktion Ausfuehrung"
   ]
  },
  {
   "cell_type": "code",
   "execution_count": null,
   "id": "de04a294",
   "metadata": {},
   "outputs": [],
   "source": [
    "def ausgabe(name):\n",
    "    print(\"=========\")\n",
    "    print(name)\n",
    "    print(\"=========\")"
   ]
  },
  {
   "cell_type": "code",
   "execution_count": null,
   "id": "bd112259",
   "metadata": {},
   "outputs": [],
   "source": [
    "name = \"Nicolas\"\n",
    "\n",
    "ausgabe(name)\n",
    "\n",
    "name = \"Bob\"\n",
    "#TODO: Implementiere die Funktion für den Namen \"Bob\"\n",
    "ausgabe(name) # Dies ist ein Kommentar\n",
    "\n",
    "ausgabe(\"Fertig\")"
   ]
  },
  {
   "cell_type": "code",
   "execution_count": null,
   "id": "1e0d1d88",
   "metadata": {},
   "outputs": [],
   "source": [
    "list_comprehension = [x for x in range(10)]"
   ]
  },
  {
   "cell_type": "code",
   "execution_count": null,
   "id": "d2a9f8b2",
   "metadata": {},
   "outputs": [],
   "source": [
    "\"\"\"Sehr geehrte Damen und Herren,\n",
    "\n",
    "hallo.\n",
    "\n",
    "VG\n",
    "\n",
    "Nicolas\"\"\"\n",
    "\n",
    "vorname = \"Nick\"\n",
    "nachname = \"Arevalo\"\n",
    "print(vorname)"
   ]
  },
  {
   "cell_type": "markdown",
   "id": "f51fbcdf",
   "metadata": {},
   "source": [
    "## Taschenrechner"
   ]
  },
  {
   "cell_type": "code",
   "execution_count": null,
   "id": "e385c512",
   "metadata": {},
   "outputs": [],
   "source": [
    "class Taschenrechner:\n",
    "    \"\"\"\n",
    "    Eine einfache Taschenrechner-Klasse für grundlegende arithmetische Operationen.\n",
    "    \"\"\"\n",
    "\n",
    "    def multiplizieren(self, x, y):\n",
    "        \"\"\"\n",
    "        Multipliziert zwei Zahlen.\n",
    "\n",
    "        Args:\n",
    "            x (int): Erste Zahl.\n",
    "            y (int): Zweite Zahl.\n",
    "\n",
    "        Returns:\n",
    "            int: Das Produkt der beiden Zahlen.\n",
    "        \"\"\"\n",
    "        return x * y\n",
    "    def summe(self, x, y):\n",
    "        \"\"\"\n",
    "        Multipliziert zwei Zahlen.\n",
    "\n",
    "        Args:\n",
    "            x (int): Erste Zahl.\n",
    "            y (int): Zweite Zahl.\n",
    "\n",
    "        Returns:\n",
    "            int: Das Produkt der beiden Zahlen.\n",
    "        \"\"\"\n",
    "        return x + y\n",
    "    \n",
    "# mein_taschenrechner = Taschenrechner()\n",
    "# mein_taschenrechner."
   ]
  },
  {
   "cell_type": "markdown",
   "id": "6364a2f9",
   "metadata": {},
   "source": [
    "## Print()"
   ]
  },
  {
   "cell_type": "markdown",
   "id": "b8f7a2a5",
   "metadata": {},
   "source": [
    "Variable"
   ]
  },
  {
   "cell_type": "code",
   "execution_count": null,
   "id": "d1d276a3",
   "metadata": {},
   "outputs": [],
   "source": [
    "name = 'Bob'\n",
    "name1 = \"Saba\"\n",
    "age = 30"
   ]
  },
  {
   "cell_type": "markdown",
   "id": "f4c701fa",
   "metadata": {},
   "source": [
    "### Print aufrufe"
   ]
  },
  {
   "cell_type": "code",
   "execution_count": null,
   "id": "fa0a03e9",
   "metadata": {},
   "outputs": [],
   "source": [
    "name = 'Bob'\n",
    "name1 = \"Saba\"\n",
    "age = 30\n",
    "\n",
    "print(name, name1, 23, True, \"Hallo\", sep=\"=-=\", end=\"\\n\")\n",
    "print(name + \" \" + name1 + \" \" + str(23) + \" \" + str(True) + \" Hallo\")\n",
    "print(\"{0} {1} {2} {3} {4}\".format(23, True, \"Hallo\",name, name1))\n",
    "#                                   0      1     2    3       4\n",
    "print(f\"{name} {name1} {23} {True} {'Hallo'}\")\n",
    "\n",
    "print(\"Hallo {0}, Wilkommen im Club!\".format(name1))\n"
   ]
  },
  {
   "cell_type": "code",
   "execution_count": null,
   "id": "c12392b3",
   "metadata": {},
   "outputs": [],
   "source": [
    "mein_tupel = (1,2,3)\n",
    "mein_tupel[0] = 99\n",
    "\n",
    "print(mein_tupel)"
   ]
  },
  {
   "cell_type": "code",
   "execution_count": null,
   "id": "5432d92d",
   "metadata": {},
   "outputs": [],
   "source": [
    "meine_liste = [1,2,3,2,3,3,4,4,68,23,23,65,76,2,99]\n",
    "meine_liste[0] = 99\n",
    "\n",
    "print(meine_liste)\n",
    "\n",
    "print(set(meine_liste))\n",
    "\n",
    "print(int(4.332345234))"
   ]
  },
  {
   "cell_type": "code",
   "execution_count": null,
   "id": "e5f60956",
   "metadata": {},
   "outputs": [],
   "source": [
    "kontostand = 9000\n",
    "\n",
    "menge = int(input('Geben Sie mir bitte die Menge die Eingezahlt werden soll.'))\n",
    "\n",
    "kontostand = kontostand + menge\n",
    "\n",
    "print(\"Aktueller Kontostand:\", kontostand)"
   ]
  },
  {
   "cell_type": "markdown",
   "id": "a27ea395",
   "metadata": {},
   "source": [
    "int kontostand = 9000;\n",
    "\n",
    "Console.WriteLine(\"Geben Sie mir bitte die Menge die Eingezahlt werden soll.\");\n",
    "int menge = Convert.ToInt32(Console.ReadLine());\n",
    "\n",
    "kontostand = kontostand + menge;\n",
    "\n",
    "Console.WriteLine($\"Aktueller Kontostand: {kontostand}\");"
   ]
  },
  {
   "cell_type": "markdown",
   "id": "9267dbb9",
   "metadata": {},
   "source": [
    "Integer Datentyp"
   ]
  },
  {
   "cell_type": "code",
   "execution_count": null,
   "id": "f97dbae2",
   "metadata": {},
   "outputs": [],
   "source": [
    "type(53)"
   ]
  },
  {
   "cell_type": "code",
   "execution_count": null,
   "id": "87e9e66d",
   "metadata": {},
   "outputs": [],
   "source": [
    "type(\"\")"
   ]
  },
  {
   "cell_type": "markdown",
   "id": "09fac176",
   "metadata": {},
   "source": [
    "C# Numerische typen:\n",
    "\n",
    "short, int, long\n",
    "float, double, decimal\n",
    "\n",
    "Console.WriteLine(90.7m)"
   ]
  },
  {
   "cell_type": "code",
   "execution_count": null,
   "id": "43c21959",
   "metadata": {},
   "outputs": [],
   "source": [
    "meine_ganze_zahl = 10\n",
    "meine_ganze_zahl"
   ]
  },
  {
   "cell_type": "code",
   "execution_count": null,
   "id": "dfe718ec",
   "metadata": {},
   "outputs": [],
   "source": [
    "meine_gleitkommazahl = 10.5\n",
    "meine_gleitkommazahl"
   ]
  },
  {
   "cell_type": "markdown",
   "id": "f1714e99",
   "metadata": {},
   "source": [
    "Booleans"
   ]
  },
  {
   "cell_type": "code",
   "execution_count": null,
   "id": "0b5bc0e8",
   "metadata": {},
   "outputs": [],
   "source": [
    "mein_bool = True\n",
    "mein_bool."
   ]
  },
  {
   "cell_type": "markdown",
   "id": "bf4aa9b7",
   "metadata": {},
   "source": [
    "Strings"
   ]
  },
  {
   "cell_type": "code",
   "execution_count": null,
   "id": "b095e585",
   "metadata": {},
   "outputs": [],
   "source": [
    "mein_string = \"John's tasse\"\n",
    "mein_string"
   ]
  },
  {
   "cell_type": "markdown",
   "id": "9f87f55c",
   "metadata": {},
   "source": [
    "\\ um bestimmte Zeichen in ein String darzustellen.\n",
    "Oder auch um unser string zu formattieren."
   ]
  },
  {
   "cell_type": "code",
   "execution_count": null,
   "id": "94539258",
   "metadata": {},
   "outputs": [],
   "source": [
    "mein_anderer_string = 'Lieber Bibliothekar,\\ndanke fuer das Buch.\\nVG\\nNicolas'"
   ]
  },
  {
   "cell_type": "code",
   "execution_count": null,
   "id": "5324ccbf",
   "metadata": {},
   "outputs": [],
   "source": [
    "print(mein_anderer_string,end=\"\\n\")"
   ]
  },
  {
   "cell_type": "markdown",
   "id": "ce18a542",
   "metadata": {},
   "source": [
    "Aufgabe 1 Strings:\n",
    "\n",
    "Erstellt eine Variable mit einen Text. Ihr solltet euren gewuenscht in 2 unterschiedliche Zeilen ausgeben. Beide Aufgaben loesen.\n",
    "\n",
    "V1: Mit ein normalen String\n",
    "\n",
    "V2: Mit ein docstring"
   ]
  },
  {
   "cell_type": "code",
   "execution_count": null,
   "id": "c7ef8661",
   "metadata": {},
   "outputs": [],
   "source": [
    "#V1\n",
    "variante1 = \"Hallo ich\\nbin Bob\"\n",
    "print(variante1)\n",
    "\n",
    "#V2\n",
    "variante2 = \"\"\"Hallo ich bin\n",
    "Bob\"\"\"\n",
    "print(variante2)"
   ]
  },
  {
   "cell_type": "code",
   "execution_count": null,
   "id": "770cac41",
   "metadata": {},
   "outputs": [],
   "source": [
    "print(f\"{variante1} dies ist ein sognenannten f-string\")"
   ]
  },
  {
   "cell_type": "code",
   "execution_count": null,
   "id": "e11b4f15",
   "metadata": {},
   "outputs": [],
   "source": [
    "vorname = \"Nicolas\"\n",
    "nachname = \"Arevalo\"\n",
    "alter = 70\n",
    "adresse = \"Python street 123a\"\n",
    "\n",
    "print(f\"Mein name ist: {vorname} {nachname}.\\nIch bin {alter} Jahre alt und wohne in {adresse}.\")"
   ]
  },
  {
   "cell_type": "code",
   "execution_count": null,
   "id": "c7184c0e",
   "metadata": {},
   "outputs": [],
   "source": [
    "vorname = input(\"Vorname: \")\n",
    "nachname = input(\"Nachname: \")\n",
    "alter = input(\"Alter: \")\n",
    "adresse = input(\"Adresse: \")\n",
    "\n",
    "formattierte_ausgabe = f\"Mein name ist: {vorname} {nachname}.\\nIch bin {alter} Jahre alt und wohne in {adresse}.\"\n",
    "\n",
    "print(formattierte_ausgabe)"
   ]
  },
  {
   "cell_type": "code",
   "execution_count": null,
   "id": "a69cd15f",
   "metadata": {},
   "outputs": [],
   "source": [
    "formattierte_ausgabe.upper()"
   ]
  },
  {
   "cell_type": "markdown",
   "id": "9d877526",
   "metadata": {},
   "source": [
    "strings wie arrays/listen"
   ]
  },
  {
   "cell_type": "code",
   "execution_count": null,
   "id": "b03636f4",
   "metadata": {},
   "outputs": [],
   "source": [
    "#indizes        0     1        2        3\n",
    "tiefgarage = [\"BMW\",\"Volvo\",'Volvo','Ferrari']\n",
    "\n",
    "#indizes 01234\n",
    "hallo = 'hallo'"
   ]
  },
  {
   "cell_type": "markdown",
   "id": "1947480a",
   "metadata": {},
   "source": [
    "string indizes"
   ]
  },
  {
   "cell_type": "code",
   "execution_count": null,
   "id": "0b1c8746",
   "metadata": {},
   "outputs": [],
   "source": [
    "#indizes       012345678901234567\n",
    "begruessung = \"Wilkommen im Kurs!\"\n",
    "\n",
    "#Erster Buchstabe\n",
    "#begruessung[0]\n",
    "\n",
    "#Letzter Buchstabe\n",
    "begruessung[17]\n",
    "\n",
    "#Ausserhalb unser string. FEHLER\n",
    "#begruessung[30]"
   ]
  },
  {
   "cell_type": "markdown",
   "id": "949242ee",
   "metadata": {},
   "source": [
    "string slices"
   ]
  },
  {
   "cell_type": "code",
   "execution_count": null,
   "id": "ea42fe71",
   "metadata": {},
   "outputs": [],
   "source": [
    "#indizes       012345678901234567\n",
    "begruessung = \"Wilkommen im Kurs!\"\n",
    "\n",
    "#0:8 => von 0 bis kleiner 8\n",
    "begruessung[0:8]\n",
    "\n",
    "#:9 => vom anfang bis kleiner 9\n",
    "begruessung[:9]\n",
    "\n",
    "#10: => von 10 bis zum ende\n",
    "begruessung[10:]\n",
    "\n",
    "#: => Kopie vom ganzen string raushollen\n",
    "begruessung[:]"
   ]
  },
  {
   "cell_type": "markdown",
   "id": "85f7ee1d",
   "metadata": {},
   "source": [
    "Aufgabe String Indizes und Slices\n",
    "\n",
    "Mit input() bekommen wir eine Benutzer eingabe.\n",
    "Wir moechten daher 3 Werte einlesen.\n",
    "Erster Wert fuer die Variable vorname.\n",
    "Zweiter Wert fuer die Variable nachname.\n",
    "Dritter Wert fuer die Variable alter.\n",
    "\n",
    "Unsere Aufgabe besteht aus folgendes. Die Drei variablen sollen in eine resultat variable drin sein. \n",
    "\n",
    "Dannach moechten wir das Wert an der Stelle index=10 ausgeben.\n",
    "\n",
    "Letztens wollen wir das Slice von index 16 bis ende ausgeben."
   ]
  },
  {
   "cell_type": "code",
   "execution_count": null,
   "id": "f49c4fcc",
   "metadata": {},
   "outputs": [],
   "source": [
    "vorname = input(\"Geben Sie bitte Ihr vorname ein: \")\n",
    "nachname = input(\"Geben Sie bitte Ihr nachname ein: \")\n",
    "alter = input(\"Geben Sie bitte Ihr alter ein: \")\n",
    "\n",
    "resultat = f\"Mein name ist: {vorname} {nachname}. Ich bin {alter} Jahre alt.\"\n",
    "\n",
    "print(\"Einzelner Buchstabe:\",resultat[10])\n",
    "\n",
    "print(\"Index 16+:\",resultat[16:])"
   ]
  },
  {
   "cell_type": "markdown",
   "id": "d7131205",
   "metadata": {},
   "source": [
    "Aufgabe 13 August\n",
    "\n",
    "Erstellen Sie zunächst drei Variablen: Ihre Lieblingsauto, Ihren Lieblingssport und Ihr Lieblingsgetränk.\n",
    "\n",
    "Speichern Sie dies nun als formatierte Zeichenfolge (f-string) in einer Variablen, sodass es wie folgt aussieht: \n",
    "\n",
    "Wenn nur [mein_Lieblingsauto] [mein_Lieblingsgetränk] als Kraftstoff verwenden könnte, um [meinen_Lieblingssport] auszuüben. Dann wäre ich zufrieden!\n",
    "\n",
    "1. Normale variante ausgeben.\n",
    "\n",
    "2. Geben Sie nun diese Zeichenfolge unter Verwendung von eckigen Klammern vom 6. bis zum 16. inklusive Index aus."
   ]
  },
  {
   "cell_type": "code",
   "execution_count": null,
   "id": "3f2a0637",
   "metadata": {},
   "outputs": [],
   "source": [
    "lieblingsauto = input(\"Geben Sie Ihr Lieblingsauto ein: \")\n",
    "lieblingsgetraenk = input(\"Geben Sie Ihr Lieblingsgetraenk ein: \")\n",
    "lieblingssport = input(\"Geben Sie Ihr Lieblingssportart ein: \")\n",
    "\n",
    "final_string = 'Wenn nur {0}, {1} als Kraftstoff verwenden könnte, um {2} auszuüben. Dann wäre ich zufrieden!'.format(lieblingsauto,lieblingsgetraenk,lieblingssport)\n",
    "\n",
    "#1\n",
    "print(final_string)\n",
    "\n",
    "#2\n",
    "print(final_string[6:17])"
   ]
  },
  {
   "cell_type": "code",
   "execution_count": null,
   "id": "8be65f50",
   "metadata": {},
   "outputs": [],
   "source": [
    "#Hartcodierter Wert:\n",
    "test = \"Super!\""
   ]
  },
  {
   "cell_type": "markdown",
   "id": "56375c75",
   "metadata": {},
   "source": [
    "## Operatoren"
   ]
  },
  {
   "cell_type": "markdown",
   "id": "d14625f4",
   "metadata": {},
   "source": [
    "Mathe Operatoren"
   ]
  },
  {
   "cell_type": "code",
   "execution_count": null,
   "id": "b72e67f5",
   "metadata": {},
   "outputs": [],
   "source": [
    "#Addition\n",
    "print(\"Addition:\",3+6)\n",
    "\n",
    "#Subtraktion\n",
    "print(\"Subtraktion:\",3-6)\n",
    "\n",
    "#Multiplikation\n",
    "print(\"Multiplikation:\",3*6)\n",
    "\n",
    "#Division\n",
    "print(\"Division:\",3/6)\n",
    "\n",
    "#Modulo\n",
    "print(\"Modulo:\",13%2)\n",
    "\n",
    "#Exponente\n",
    "print(\"Exponente:\",3**6)\n",
    "\n",
    "#Ganzzahldivision\n",
    "print(\"Ganzzahldivision:\",3//6)"
   ]
  },
  {
   "cell_type": "markdown",
   "id": "f48e511b",
   "metadata": {},
   "source": [
    "Vergleichsoperatoren"
   ]
  },
  {
   "cell_type": "code",
   "execution_count": null,
   "id": "097f49c6",
   "metadata": {},
   "outputs": [],
   "source": [
    "#<\n",
    "print(\"Kleiner:\", 5<20)\n",
    "\n",
    "#>\n",
    "print(\"Groesser:\", 5>20)\n",
    "\n",
    "#<=\n",
    "print(\"Kleinergleich:\", 5<=20)\n",
    "\n",
    "#>=\n",
    "print(\"Groessergleich:\", 5>=20)\n",
    "\n",
    "#!=, strings und zahlen\n",
    "print(\"Ungleich:\",'test'!='Bob')\n",
    "\n",
    "#==, strings und zahlen\n",
    "print(\"Gleich:\",\"Test\"==3)"
   ]
  },
  {
   "cell_type": "markdown",
   "id": "cab6aa63",
   "metadata": {},
   "source": [
    "Zuweisungsoperatoren"
   ]
  },
  {
   "cell_type": "code",
   "execution_count": null,
   "id": "b3ba5d86",
   "metadata": {},
   "outputs": [],
   "source": [
    "#=\n",
    "zuweisung = 10\n",
    "\n",
    "#+=\n",
    "zuweisung = zuweisung + 5\n",
    "zuweisung += 5\n",
    "\n",
    "#-=\n",
    "zuweisung = zuweisung - 5\n",
    "zuweisung -= 5\n",
    "\n",
    "#*=\n",
    "zuweisung = zuweisung * 5\n",
    "zuweisung *= 5\n",
    "\n",
    "#/=\n",
    "zuweisung = zuweisung / 5\n",
    "zuweisung /= 5\n",
    "\n",
    "#%=\n",
    "zuweisung = zuweisung % 5\n",
    "zuweisung %= 5"
   ]
  },
  {
   "cell_type": "markdown",
   "id": "2f7b4d9e",
   "metadata": {},
   "source": [
    "Logische Operatoren"
   ]
  },
  {
   "cell_type": "code",
   "execution_count": null,
   "id": "94e12f08",
   "metadata": {},
   "outputs": [],
   "source": [
    "#and\n",
    "print(\"and:\",3==3 and 5!=19)\n",
    "#      Wenn  True      True\n",
    "#      Dann       True\n",
    "\n",
    "#or\n",
    "print(\"or:\",3==90 or 5!=19)\n",
    "#      Wenn  False     True\n",
    "#      Dann       True\n",
    "\n",
    "#not\n",
    "print(\"not:\",not (3==90 or 5!=19))\n",
    "#      Wenn       False     True\n",
    "#      Dann            True\n",
    "#      Dann False\n",
    "#not dreht immer ein boolean wert um. True => False. False => True."
   ]
  },
  {
   "cell_type": "markdown",
   "id": "9086e959",
   "metadata": {},
   "source": [
    "Mitgliedsoperatoren"
   ]
  },
  {
   "cell_type": "code",
   "execution_count": null,
   "id": "1df071e6",
   "metadata": {},
   "outputs": [],
   "source": [
    "sequenz = [1,2,3,4,45,6,56,76,43,32,34]\n",
    "\n",
    "#in\n",
    "print('in:', 43 in sequenz)\n",
    "\n",
    "#not in\n",
    "print('not in:', 43 not in sequenz)"
   ]
  },
  {
   "cell_type": "markdown",
   "id": "92730a08",
   "metadata": {},
   "source": [
    "Identitaetsoperatoren"
   ]
  },
  {
   "cell_type": "code",
   "execution_count": null,
   "id": "24d5a556",
   "metadata": {},
   "outputs": [],
   "source": [
    "#is\n",
    "print('is:', 342 is Taschenrechner)\n",
    "\n",
    "#is not\n",
    "print('is not:', 342 is not Taschenrechner)"
   ]
  },
  {
   "cell_type": "markdown",
   "id": "adf755aa",
   "metadata": {},
   "source": [
    "Bodmas"
   ]
  },
  {
   "cell_type": "code",
   "execution_count": null,
   "id": "8678b6ea",
   "metadata": {},
   "outputs": [],
   "source": [
    "4*2-3**2+(4%2)"
   ]
  },
  {
   "cell_type": "markdown",
   "id": "469d8d0d",
   "metadata": {},
   "source": [
    "### CSharp\n",
    "\n",
    "string flugzeug;\n",
    "\n",
    "flugzeug = \"A380\"\n",
    "\n",
    "Dynamic Typing:\n",
    "\n",
    "var flugzeug = \"A380\""
   ]
  },
  {
   "cell_type": "code",
   "execution_count": null,
   "id": "10b489eb",
   "metadata": {},
   "outputs": [
    {
     "name": "stdout",
     "output_type": "stream",
     "text": [
      "A380\n"
     ]
    }
   ],
   "source": [
    "\n",
    "\n",
    "while True:\n",
    "    flugzeug = input(\"Flugzeugname eingeben: \")\n",
    "    if flugzeug == 'A380':\n",
    "        break\n",
    "\n",
    "print(flugzeug)"
   ]
  },
  {
   "cell_type": "markdown",
   "id": "3d9f33ce",
   "metadata": {},
   "source": [
    "Fehlerbehandlung"
   ]
  },
  {
   "cell_type": "code",
   "execution_count": null,
   "id": "6d187965",
   "metadata": {},
   "outputs": [
    {
     "name": "stdout",
     "output_type": "stream",
     "text": [
      "Bitte nicht 0 eingeben!\n",
      "Das programm macht weiter...\n"
     ]
    }
   ],
   "source": [
    "zahl = 15\n",
    "\n",
    "try:\n",
    "    eingabe = int(input(\"Geben Sie eine Zahl ein: \"))\n",
    "    print('Division von 15 durch deine Zahl ist:',zahl/eingabe)\n",
    "except ValueError:\n",
    "    print(\"Bitte nur Zahlen eingeben!\")\n",
    "except ZeroDivisionError:\n",
    "    print(\"Bitte nicht 0 eingeben!\")\n",
    "\n",
    "print('Das programm macht weiter...')"
   ]
  }
 ],
 "metadata": {
  "kernelspec": {
   "display_name": "Python 3",
   "language": "python",
   "name": "python3"
  },
  "language_info": {
   "codemirror_mode": {
    "name": "ipython",
    "version": 3
   },
   "file_extension": ".py",
   "mimetype": "text/x-python",
   "name": "python",
   "nbconvert_exporter": "python",
   "pygments_lexer": "ipython3",
   "version": "3.12.6"
  }
 },
 "nbformat": 4,
 "nbformat_minor": 5
}
