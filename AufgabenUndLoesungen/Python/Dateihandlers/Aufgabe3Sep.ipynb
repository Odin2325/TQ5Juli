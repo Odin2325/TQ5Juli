{
 "cells": [
  {
   "cell_type": "markdown",
   "id": "6834644b",
   "metadata": {},
   "source": [
    "## HA 03.Sep.2025\n",
    "\n",
    "* Erstellt eine Datei mit Python code. Die Datei soll PythonFragen.txt heissen.\n",
    "* Schreibt bitte mindestens 2 Fragen die ihr tatsaechlich habt in diese Datei. Diese koennen wir dann spaeter auch beantworten.\n",
    "* Schreibt auch eine kleine Methode die eine Datei oeffnet und alles was da drin steht ausgibt.\n",
    "* Bspw: In die Datei PythonFragen haben wir folgenden Text: \n",
    "  * Inhalt:\n",
    "    * Was ist eine lambda methode?\n",
    "    * Was sind anonyme funktionen?\n",
    "  * Python methode ausgabe:\n",
    "    * '1. Was ist eine lambda methode?\\n2. Was sind anonyme funktionen?\\n'"
   ]
  }
 ],
 "metadata": {
  "language_info": {
   "name": "python"
  }
 },
 "nbformat": 4,
 "nbformat_minor": 5
}
