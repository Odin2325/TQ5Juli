{
 "cells": [
  {
   "cell_type": "markdown",
   "id": "6834644b",
   "metadata": {},
   "source": [
    "## HA 03.Sep.2025\n",
    "\n",
    "* Erstellt eine Datei mit Python code. Die Datei soll PythonFragen.txt heissen.\n",
    "* Schreibt bitte mindestens 2 Fragen die ihr tatsaechlich habt in diese Datei. Diese koennen wir dann spaeter auch beantworten.\n",
    "* Schreibt auch eine kleine Methode die eine Datei oeffnet und alles was da drin steht ausgibt.\n",
    "* Bspw: In die Datei PythonFragen haben wir folgenden Text: \n",
    "  * Inhalt:\n",
    "    * Was ist eine lambda methode?\n",
    "    * Was sind anonyme funktionen?\n",
    "  * Python methode ausgabe:\n",
    "    * '1. Was ist eine lambda methode?\\n2. Was sind anonyme funktionen?\\n'"
   ]
  },
  {
   "cell_type": "code",
   "execution_count": null,
   "id": "f6c59da1",
   "metadata": {},
   "outputs": [],
   "source": [
    "def fragen_lesen(datei_pfad:str,datei_modus:str):\n",
    "    try:\n",
    "        file = open(datei_pfad,datei_modus)\n",
    "        res = file.read()\n",
    "        file.close()\n",
    "    except FileNotFoundError:\n",
    "        print('Die gesuchte Datei kann nicht gefunden werden. Probieren Sie bitte nochmal.')\n",
    "        res = ''\n",
    "    except FileExistsError:\n",
    "        print('Wir koennen nicht deine Datei erstellen, da sie schon existiert.')\n",
    "        res = ''\n",
    "    except:\n",
    "        print('Unbekanntes Fehler...')\n",
    "        res = ''\n",
    "    return res\n",
    "\n",
    "def fragen_lesen_2(datei_pfad:str):\n",
    "    with open(datei_pfad,'r') as unsere_fragen:\n",
    "        res = unsere_fragen.read()\n",
    "    return res"
   ]
  },
  {
   "cell_type": "code",
   "execution_count": 32,
   "id": "74dbb467",
   "metadata": {},
   "outputs": [],
   "source": [
    "def fragen_extrahieren(text:str):\n",
    "    resultat = ''\n",
    "    zaehler = 1\n",
    "    resultat += f'{zaehler}. ' \n",
    "    zaehler += 1\n",
    "    for index in range(0,len(text)):\n",
    "        if text[index] == '\\n':\n",
    "            continue\n",
    "        # if index + 1 < len(text):\n",
    "        #     if text[index] == '?' and text[index+1] == ' ':\n",
    "        #         resultat += text[index] + '\\n'\n",
    "        #         index += 1\n",
    "        #         continue\n",
    "        if text[index] == '?':\n",
    "            resultat += text[index] + '\\n' + f'{zaehler}. '\n",
    "            zaehler += 1\n",
    "        else:\n",
    "            resultat += text[index]\n",
    "    return resultat"
   ]
  },
  {
   "cell_type": "code",
   "execution_count": 44,
   "id": "23ecc30d",
   "metadata": {},
   "outputs": [
    {
     "name": "stdout",
     "output_type": "stream",
     "text": [
      "Wir koennen nicht deine Datei erstellen, da sie schon existiert.\n",
      "Die gesuchte Datei kann nicht gefunden werden. Probieren Sie bitte nochmal.\n"
     ]
    },
    {
     "ename": "",
     "evalue": "",
     "output_type": "error",
     "traceback": [
      "\u001b[1;31mCannot execute code, session has been disposed. Please try restarting the Kernel."
     ]
    },
    {
     "ename": "",
     "evalue": "",
     "output_type": "error",
     "traceback": [
      "\u001b[1;31mCannot execute code, session has been disposed. Please try restarting the Kernel. \n",
      "\u001b[1;31mView Jupyter <a href='command:jupyter.viewOutput'>log</a> for further details."
     ]
    }
   ],
   "source": [
    "while True:\n",
    "    pfad = input('Geben Sie bitte einen Pfad zu deine Datei ein:')\n",
    "    fragen = fragen_lesen(pfad)\n",
    "    if fragen != '':\n",
    "        break\n",
    "print(fragen)"
   ]
  },
  {
   "cell_type": "code",
   "execution_count": 33,
   "id": "0f6f7b8a",
   "metadata": {},
   "outputs": [
    {
     "name": "stdout",
     "output_type": "stream",
     "text": [
      "1. Was ist eine lambda methode?\n",
      "2.  Was sind anonyme funktionen?\n",
      "3. Was ist abstraction?\n",
      "4. \n"
     ]
    }
   ],
   "source": [
    "ext_fragen = fragen_extrahieren(fragen)\n",
    "print(ext_fragen)"
   ]
  }
 ],
 "metadata": {
  "kernelspec": {
   "display_name": "Python 3",
   "language": "python",
   "name": "python3"
  },
  "language_info": {
   "codemirror_mode": {
    "name": "ipython",
    "version": 3
   },
   "file_extension": ".py",
   "mimetype": "text/x-python",
   "name": "python",
   "nbconvert_exporter": "python",
   "pygments_lexer": "ipython3",
   "version": "3.12.6"
  }
 },
 "nbformat": 4,
 "nbformat_minor": 5
}
