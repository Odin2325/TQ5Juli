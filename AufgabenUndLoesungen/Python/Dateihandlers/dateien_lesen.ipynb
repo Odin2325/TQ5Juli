{
 "cells": [
  {
   "cell_type": "markdown",
   "id": "c5876ad6",
   "metadata": {},
   "source": [
    "## Dateien lesen mit open und close"
   ]
  },
  {
   "cell_type": "code",
   "execution_count": null,
   "id": "30e7221c",
   "metadata": {},
   "outputs": [
    {
     "name": "stdout",
     "output_type": "stream",
     "text": [
      "Hier ist mein Tagebuch: \n",
      "\n",
      "Wilkommen an mich!\n"
     ]
    }
   ],
   "source": [
    "print('Hier ist mein Tagebuch: \\n')\n",
    "#r Bedeutet in diese Methode 'lese' modus\n",
    "tagebuch = open(\"./Dateien/diary.txt\", \"r\")\n",
    "print(tagebuch.read())\n",
    "tagebuch.close()"
   ]
  },
  {
   "cell_type": "code",
   "execution_count": null,
   "id": "b47c3021",
   "metadata": {},
   "outputs": [],
   "source": [
    "tagebuch2 = open('csharp.cs','a')\n",
    "tagebuch2.write('Console.WriteLine(\\\"Hallo, Welt\\\");')\n",
    "tagebuch2.close()"
   ]
  }
 ],
 "metadata": {
  "kernelspec": {
   "display_name": "Python 3",
   "language": "python",
   "name": "python3"
  },
  "language_info": {
   "codemirror_mode": {
    "name": "ipython",
    "version": 3
   },
   "file_extension": ".py",
   "mimetype": "text/x-python",
   "name": "python",
   "nbconvert_exporter": "python",
   "pygments_lexer": "ipython3",
   "version": "3.12.6"
  }
 },
 "nbformat": 4,
 "nbformat_minor": 5
}
