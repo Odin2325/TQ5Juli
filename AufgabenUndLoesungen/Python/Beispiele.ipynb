{
 "cells": [
  {
   "cell_type": "markdown",
   "id": "d6f84768",
   "metadata": {},
   "source": [
    "## Fehler Verursachen"
   ]
  },
  {
   "cell_type": "code",
   "execution_count": null,
   "id": "6a391525",
   "metadata": {},
   "outputs": [
    {
     "name": "stdout",
     "output_type": "stream",
     "text": [
      "Hallo\n"
     ]
    }
   ],
   "source": [
    "print('Hallo)\n",
    "#Syntax Error"
   ]
  },
  {
   "cell_type": "code",
   "execution_count": null,
   "id": "fbcb0af2",
   "metadata": {},
   "outputs": [
    {
     "ename": "ZeroDivisionError",
     "evalue": "float division by zero",
     "output_type": "error",
     "traceback": [
      "\u001b[1;31m---------------------------------------------------------------------------\u001b[0m",
      "\u001b[1;31mZeroDivisionError\u001b[0m                         Traceback (most recent call last)",
      "Cell \u001b[1;32mIn[7], line 1\u001b[0m\n\u001b[1;32m----> 1\u001b[0m \u001b[38;5;28mprint\u001b[39m(\u001b[38;5;241;43m3.6\u001b[39;49m\u001b[38;5;241;43m/\u001b[39;49m\u001b[38;5;241;43m0\u001b[39;49m)\n",
      "\u001b[1;31mZeroDivisionError\u001b[0m: float division by zero"
     ]
    }
   ],
   "source": [
    "print(3.6/0)\n",
    "#Runtime Error"
   ]
  },
  {
   "cell_type": "markdown",
   "id": "063df8f0",
   "metadata": {},
   "source": [
    "## Einrueckungen und Abstaende"
   ]
  },
  {
   "cell_type": "code",
   "execution_count": null,
   "id": "50da455d",
   "metadata": {},
   "outputs": [],
   "source": [
    "if True:\n",
    "    print(\"Wir lernen Python\")\n",
    "    print(\"Viel einfacher als C#\")\n",
    "#EndeIf\n",
    "\n",
    "print(\"Hi\")"
   ]
  },
  {
   "cell_type": "code",
   "execution_count": null,
   "id": "b6bb3513",
   "metadata": {},
   "outputs": [],
   "source": [
    "while True:\n",
    "    print(\"Wir lernen Python\")\n",
    "    print(\"Viel einfacher als C#\")"
   ]
  },
  {
   "cell_type": "markdown",
   "id": "8c421b78",
   "metadata": {},
   "source": [
    "### CSharp Beispiel\n",
    "\n",
    "if (true)\n",
    "{\n",
    "    Console.WriteLine(\"Wir lernen Python\");\n",
    "    Console.WriteLine(\"Viel einfacher als C#\");\n",
    "}"
   ]
  },
  {
   "cell_type": "markdown",
   "id": "44c3d3b8",
   "metadata": {},
   "source": [
    "Bezeichner Beispiele"
   ]
  },
  {
   "cell_type": "code",
   "execution_count": null,
   "id": "b435b005",
   "metadata": {},
   "outputs": [],
   "source": [
    "vorname = \"Nicolas\"\n",
    "Vorname = \"Vache\"\n",
    "#Unterschiedliche variablen"
   ]
  },
  {
   "cell_type": "code",
   "execution_count": 12,
   "id": "7534cf3a",
   "metadata": {},
   "outputs": [],
   "source": [
    "Hivariable = 23"
   ]
  },
  {
   "cell_type": "code",
   "execution_count": null,
   "id": "cab8c4b9",
   "metadata": {},
   "outputs": [],
   "source": [
    "datentyp_beispiel = \"Hallo\""
   ]
  },
  {
   "cell_type": "markdown",
   "id": "5f03fc5f",
   "metadata": {},
   "source": [
    "Funktion Ausfuehrung"
   ]
  },
  {
   "cell_type": "code",
   "execution_count": 19,
   "id": "de04a294",
   "metadata": {},
   "outputs": [],
   "source": [
    "def ausgabe(name):\n",
    "    print(\"=========\")\n",
    "    print(name)\n",
    "    print(\"=========\")"
   ]
  },
  {
   "cell_type": "code",
   "execution_count": null,
   "id": "bd112259",
   "metadata": {},
   "outputs": [
    {
     "data": {
      "text/plain": [
       "' name = \"Nicolas\"\\n\\nausgabe(name)\\n\\nname = \"Bob\"\\n\\nausgabe(name) # Dies ist ein Kommentar\\n\\nausgabe(\"Fertig\") '"
      ]
     },
     "execution_count": 21,
     "metadata": {},
     "output_type": "execute_result"
    }
   ],
   "source": [
    "name = \"Nicolas\"\n",
    "\n",
    "ausgabe(name)\n",
    "\n",
    "name = \"Bob\"\n",
    "#TODO: Implementiere die Funktion für den Namen \"Bob\"\n",
    "ausgabe(name) # Dies ist ein Kommentar\n",
    "\n",
    "ausgabe(\"Fertig\")"
   ]
  },
  {
   "cell_type": "code",
   "execution_count": 22,
   "id": "1e0d1d88",
   "metadata": {},
   "outputs": [],
   "source": [
    "list_comprehension = [x for x in range(10)]"
   ]
  },
  {
   "cell_type": "code",
   "execution_count": 27,
   "id": "d2a9f8b2",
   "metadata": {},
   "outputs": [
    {
     "name": "stdout",
     "output_type": "stream",
     "text": [
      "Nick\n"
     ]
    }
   ],
   "source": [
    "\"\"\"Sehr geehrte Damen und Herren,\n",
    "\n",
    "hallo.\n",
    "\n",
    "VG\n",
    "\n",
    "Nicolas\"\"\"\n",
    "\n",
    "vorname = \"Nick\"\n",
    "nachname = \"Arevalo\"\n",
    "print(vorname)"
   ]
  },
  {
   "cell_type": "markdown",
   "id": "f51fbcdf",
   "metadata": {},
   "source": [
    "## Taschenrechner"
   ]
  },
  {
   "cell_type": "code",
   "execution_count": null,
   "id": "e385c512",
   "metadata": {},
   "outputs": [],
   "source": [
    "class Taschenrechner:\n",
    "    \"\"\"\n",
    "    Eine einfache Taschenrechner-Klasse für grundlegende arithmetische Operationen.\n",
    "    \"\"\"\n",
    "\n",
    "    def multiplizieren(self, x, y):\n",
    "        \"\"\"\n",
    "        Multipliziert zwei Zahlen.\n",
    "\n",
    "        Args:\n",
    "            x (int): Erste Zahl.\n",
    "            y (int): Zweite Zahl.\n",
    "\n",
    "        Returns:\n",
    "            int: Das Produkt der beiden Zahlen.\n",
    "        \"\"\"\n",
    "        return x * y"
   ]
  },
  {
   "cell_type": "markdown",
   "id": "6364a2f9",
   "metadata": {},
   "source": [
    "## Print()"
   ]
  },
  {
   "cell_type": "markdown",
   "id": "b8f7a2a5",
   "metadata": {},
   "source": [
    "Variable"
   ]
  },
  {
   "cell_type": "code",
   "execution_count": 34,
   "id": "d1d276a3",
   "metadata": {},
   "outputs": [],
   "source": [
    "name = 'Bob'\n",
    "name1 = \"Saba\"\n",
    "age = 30"
   ]
  },
  {
   "cell_type": "markdown",
   "id": "f4c701fa",
   "metadata": {},
   "source": [
    "### Print aufrufe"
   ]
  },
  {
   "cell_type": "code",
   "execution_count": 50,
   "id": "fa0a03e9",
   "metadata": {},
   "outputs": [
    {
     "name": "stdout",
     "output_type": "stream",
     "text": [
      "Bob=-=Saba=-=23=-=True=-=Hallo\n",
      "Bob Saba 23 True Hallo\n",
      "23 True Hallo Bob Saba\n",
      "Bob Saba 23 True Hallo\n",
      "Hallo Saba, Wilkommen im Club!\n"
     ]
    }
   ],
   "source": [
    "name = 'Bob'\n",
    "name1 = \"Saba\"\n",
    "age = 30\n",
    "\n",
    "print(name, name1, 23, True, \"Hallo\", sep=\"=-=\", end=\"\\n\")\n",
    "print(name + \" \" + name1 + \" \" + str(23) + \" \" + str(True) + \" Hallo\")\n",
    "print(\"{0} {1} {2} {3} {4}\".format(23, True, \"Hallo\",name, name1))\n",
    "#                                   0      1     2    3       4\n",
    "print(f\"{name} {name1} {23} {True} {'Hallo'}\")\n",
    "\n",
    "print(\"Hallo {0}, Wilkommen im Club!\".format(name1))\n"
   ]
  },
  {
   "cell_type": "code",
   "execution_count": null,
   "id": "c12392b3",
   "metadata": {},
   "outputs": [
    {
     "ename": "TypeError",
     "evalue": "'tuple' object does not support item assignment",
     "output_type": "error",
     "traceback": [
      "\u001b[1;31m---------------------------------------------------------------------------\u001b[0m",
      "\u001b[1;31mTypeError\u001b[0m                                 Traceback (most recent call last)",
      "Cell \u001b[1;32mIn[51], line 3\u001b[0m\n\u001b[0;32m      1\u001b[0m mein_tupel \u001b[38;5;241m=\u001b[39m (\u001b[38;5;241m1\u001b[39m,\u001b[38;5;241m2\u001b[39m,\u001b[38;5;241m3\u001b[39m)\n\u001b[1;32m----> 3\u001b[0m \u001b[43mmein_tupel\u001b[49m\u001b[43m[\u001b[49m\u001b[38;5;241;43m0\u001b[39;49m\u001b[43m]\u001b[49m \u001b[38;5;241m=\u001b[39m \u001b[38;5;241m99\u001b[39m\n",
      "\u001b[1;31mTypeError\u001b[0m: 'tuple' object does not support item assignment"
     ]
    }
   ],
   "source": [
    "mein_tupel = (1,2,3)\n",
    "mein_tupel[0] = 99\n",
    "\n",
    "print(mein_tupel)"
   ]
  },
  {
   "cell_type": "code",
   "execution_count": 57,
   "id": "5432d92d",
   "metadata": {},
   "outputs": [
    {
     "name": "stdout",
     "output_type": "stream",
     "text": [
      "[99, 2, 3, 2, 3, 3, 4, 4, 68, 23, 23, 65, 76, 2, 99]\n",
      "{65, 2, 3, 99, 4, 68, 76, 23}\n",
      "4\n"
     ]
    }
   ],
   "source": [
    "meine_liste = [1,2,3,2,3,3,4,4,68,23,23,65,76,2,99]\n",
    "meine_liste[0] = 99\n",
    "\n",
    "print(meine_liste)\n",
    "\n",
    "print(set(meine_liste))\n",
    "\n",
    "print(int(4.332345234))"
   ]
  },
  {
   "cell_type": "code",
   "execution_count": null,
   "id": "e5f60956",
   "metadata": {},
   "outputs": [
    {
     "name": "stdout",
     "output_type": "stream",
     "text": [
      "Aktueller Kontostand: 9600\n"
     ]
    }
   ],
   "source": [
    "kontostand = 9000\n",
    "\n",
    "menge = int(input('Geben Sie mir bitte die Menge die Eingezahlt werden soll.'))\n",
    "\n",
    "kontostand = kontostand + menge\n",
    "\n",
    "print(\"Aktueller Kontostand:\", kontostand)"
   ]
  },
  {
   "cell_type": "markdown",
   "id": "a27ea395",
   "metadata": {},
   "source": [
    "int kontostand = 9000;\n",
    "\n",
    "Console.WriteLine(\"Geben Sie mir bitte die Menge die Eingezahlt werden soll.\");\n",
    "int menge = Convert.ToInt32(Console.ReadLine());\n",
    "\n",
    "kontostand = kontostand + menge;\n",
    "\n",
    "Console.WriteLine($\"Aktueller Kontostand: {kontostand}\");"
   ]
  }
 ],
 "metadata": {
  "kernelspec": {
   "display_name": "Python 3",
   "language": "python",
   "name": "python3"
  },
  "language_info": {
   "codemirror_mode": {
    "name": "ipython",
    "version": 3
   },
   "file_extension": ".py",
   "mimetype": "text/x-python",
   "name": "python",
   "nbconvert_exporter": "python",
   "pygments_lexer": "ipython3",
   "version": "3.12.6"
  }
 },
 "nbformat": 4,
 "nbformat_minor": 5
}
