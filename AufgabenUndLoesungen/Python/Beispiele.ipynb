{
 "cells": [
  {
   "cell_type": "markdown",
   "id": "f51fbcdf",
   "metadata": {},
   "source": [
    "## Taschenrechner"
   ]
  },
  {
   "cell_type": "code",
   "execution_count": null,
   "id": "e385c512",
   "metadata": {},
   "outputs": [],
   "source": [
    "class Taschenrechner:\n",
    "    \"\"\"\n",
    "    Eine einfache Taschenrechner-Klasse für grundlegende arithmetische Operationen.\n",
    "    \"\"\"\n",
    "\n",
    "    def multiplizieren(self, x, y):\n",
    "        \"\"\"\n",
    "        Multipliziert zwei Zahlen.\n",
    "\n",
    "        Args:\n",
    "            x (int): Erste Zahl.\n",
    "            y (int): Zweite Zahl.\n",
    "\n",
    "        Returns:\n",
    "            int: Das Produkt der beiden Zahlen.\n",
    "        \"\"\"\n",
    "        return x * y"
   ]
  },
  {
   "cell_type": "markdown",
   "id": "6364a2f9",
   "metadata": {},
   "source": [
    "## Print()"
   ]
  },
  {
   "cell_type": "markdown",
   "id": "b8f7a2a5",
   "metadata": {},
   "source": [
    "Variable"
   ]
  },
  {
   "cell_type": "code",
   "execution_count": null,
   "id": "d1d276a3",
   "metadata": {},
   "outputs": [],
   "source": [
    "name = 'Bob'\n",
    "age = 30"
   ]
  },
  {
   "cell_type": "markdown",
   "id": "f4c701fa",
   "metadata": {},
   "source": [
    "### Print aufrufe"
   ]
  },
  {
   "cell_type": "code",
   "execution_count": null,
   "id": "fa0a03e9",
   "metadata": {},
   "outputs": [],
   "source": [
    "print()"
   ]
  }
 ],
 "metadata": {
  "kernelspec": {
   "display_name": "Python 3",
   "language": "python",
   "name": "python3"
  },
  "language_info": {
   "codemirror_mode": {
    "name": "ipython",
    "version": 3
   },
   "file_extension": ".py",
   "mimetype": "text/x-python",
   "name": "python",
   "nbconvert_exporter": "python",
   "pygments_lexer": "ipython3",
   "version": "3.12.6"
  }
 },
 "nbformat": 4,
 "nbformat_minor": 5
}
