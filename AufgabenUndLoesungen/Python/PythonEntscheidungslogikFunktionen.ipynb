{
 "cells": [
  {
   "cell_type": "markdown",
   "id": "60c47442",
   "metadata": {},
   "source": [
    "## Entscheidungslogik"
   ]
  },
  {
   "cell_type": "code",
   "execution_count": 3,
   "id": "49c8bc05",
   "metadata": {},
   "outputs": [
    {
     "name": "stdout",
     "output_type": "stream",
     "text": [
      "Kontotyp ungueltig.\n"
     ]
    }
   ],
   "source": [
    "kontotyp = input(\"Was fuer ein Bankkonto hast du?\")\n",
    "\n",
    "if kontotyp == 'Debitkonto':\n",
    "    print('Sie haben ein Debitkonto, der Kontostand darf nicht unter 0!')\n",
    "elif kontotyp == 'Girokonto':\n",
    "    print('Das ist ein Girokonto. Viel spass!')\n",
    "elif kontotyp == 'Kreditkonto':\n",
    "    print('Der Kontostand darf unter 0 sein. Sie muessen jedoch interest von 0.5% darauf zahlen.')\n",
    "else:\n",
    "    print('Kontotyp ungueltig.')"
   ]
  },
  {
   "cell_type": "markdown",
   "id": "b2cb1611",
   "metadata": {},
   "source": [
    "if muss mindestens einmal vorkommen in ein if-block\n",
    "\n",
    "elif darf so oft wie wir moechten definiert werden. 0 bis unendlich oft.\n",
    "\n",
    "else darf maximal 1 mal vorkommen. 0 oder 1 mal."
   ]
  },
  {
   "cell_type": "code",
   "execution_count": null,
   "id": "c8d92630",
   "metadata": {},
   "outputs": [
    {
     "name": "stdout",
     "output_type": "stream",
     "text": [
      "Sehr hohe oder niedrige Temperaturen\n",
      "Saison besteht aus eine Zeichenkette\n"
     ]
    }
   ],
   "source": [
    "saison = input('Geben Sie die Saison ein:')\n",
    "\n",
    "if saison == 'Herbst':\n",
    "    print('Es ist aktuell Herbst')\n",
    "elif saison == 'Winter':\n",
    "    print('Es ist aktuell Winter')\n",
    "\n",
    "if saison == 'Herbst' or saison == 'Fruehling':\n",
    "    print('Die regnerische Monate')\n",
    "else:\n",
    "    print('Sehr hohe oder niedrige Temperaturen')\n",
    "\n",
    "if type(saison) == str:\n",
    "    print('Saison besteht aus eine Zeichenkette')"
   ]
  },
  {
   "cell_type": "code",
   "execution_count": null,
   "id": "58daee2c",
   "metadata": {},
   "outputs": [
    {
     "name": "stdout",
     "output_type": "stream",
     "text": [
      "Validen Bezeichner\n",
      "Bestellung gueltig!\n"
     ]
    }
   ],
   "source": [
    "bestellung1 = input()\n",
    "bestellung2 = 'B10242'\n",
    "bestellung3 = 'B10243'\n",
    "\n",
    "\n",
    "if bestellung2[0:5]=='B1024':\n",
    "    print('Validen Bezeichner')\n",
    "    if len(bestellung2) == 6:\n",
    "        print('Bestellung gueltig!')\n"
   ]
  },
  {
   "cell_type": "code",
   "execution_count": null,
   "id": "ef915f6c",
   "metadata": {},
   "outputs": [
    {
     "data": {
      "text/plain": [
       "'!'"
      ]
     },
     "execution_count": 25,
     "metadata": {},
     "output_type": "execute_result"
    }
   ],
   "source": [
    "#saison = Hallo!\n",
    "#Indizes  012345\n",
    "#NegInd-  654321\n",
    "\n",
    "\n",
    "saison[-2:] == 'r!'"
   ]
  },
  {
   "cell_type": "markdown",
   "id": "babe0fe1",
   "metadata": {},
   "source": [
    "Aufgabe 1 Strings und Bedingungen.\n",
    "\n",
    "* Bestimme ob ein string der als input eingegeben wird\n",
    "* mit einem \".\" endet oder mit \"r!\".\n",
    "* Gebe True aus.\n",
    "* Zusaetzlich bestimme auch ob der string mit \"Hallo\" anfaengt.\n",
    "* Gebe True aus.\n",
    "* Wenn kein fall stimmen wuerde, gebe False aus.\n",
    "* Hinweis: ihr habt slices und indizes!\n",
    "* Hinweis2: Man darf negative Zahlen als index eingeben."
   ]
  },
  {
   "cell_type": "code",
   "execution_count": null,
   "id": "6a20b738",
   "metadata": {},
   "outputs": [
    {
     "name": "stdout",
     "output_type": "stream",
     "text": [
      "Ende Korrekt: True\n",
      "Start Korrket: True\n"
     ]
    }
   ],
   "source": [
    "eingabe = input(\"Geben Sie etwas ein: \")\n",
    "\n",
    "if eingabe[-1] == '.' or eingabe[-2:] == 'r!' or eingabe[0:5] == 'Hallo':\n",
    "    print('True')\n",
    "else:\n",
    "    print('Falsch')"
   ]
  },
  {
   "cell_type": "code",
   "execution_count": null,
   "id": "2546cf3a",
   "metadata": {},
   "outputs": [],
   "source": [
    "x1 = input(\"Gib ein Name x1 ein: \")\n",
    "if x1[-1] == \".\" or x1[-2:] == \"r!\":\n",
    "    print(\"treu\")\n",
    "elif x1[:5] == \"Hallo\":\n",
    "    print(\"Treu\")\n",
    "else:\n",
    "    print(\"false\")"
   ]
  },
  {
   "cell_type": "markdown",
   "id": "d25ac778",
   "metadata": {},
   "source": [
    "## Aufgabe 2 \n",
    "\n",
    "Beginnen Sie mit den Folgenden Code:"
   ]
  },
  {
   "cell_type": "code",
   "execution_count": null,
   "id": "f83b2a93",
   "metadata": {},
   "outputs": [
    {
     "name": "stdout",
     "output_type": "stream",
     "text": [
      "11\n"
     ]
    }
   ],
   "source": [
    "from random import *\n",
    "\n",
    "#import random\n",
    "daysUntilExpiration = randint(0,12)\n",
    "discountPercentage = 0\n",
    "\n",
    "print(daysUntilExpiration)"
   ]
  },
  {
   "cell_type": "markdown",
   "id": "fa71fd40",
   "metadata": {},
   "source": [
    "Wir programmieren jetzt mehrere Geschäftsregeln.\n",
    "\n",
    "1. Ihr Code sollte nur eine Meldung anzeigen.\n",
    "2. Wenn das Abonnement des Benutzers bzw. der Benutzerin in zehn Tagen oder weniger abläuft, zeigen Sie die folgende Meldung an:\n",
    "\tYour subscription will expire soon. Renew now!\n",
    "3. Wenn das Abonnement des Benutzers bzw. der Benutzerin in fünf Tagen oder weniger abläuft, zeigen Sie die folgenden Meldungen an:\n",
    "\tYour subscription expires in _ days.\n",
    "\tRenew now and save 10%!\n",
    "4. Wenn das Abonnement des Benutzers bzw. der Benutzerin in einem Tag abläuft, zeigen Sie die folgenden Meldungen an:\n",
    "\tYour subscription expires within a day!\n",
    "\tRenew now and save 20%!\n",
    "5. Wenn das Abonnement des Benutzers bzw. der Benutzerin abgelaufen ist, zeigen Sie die folgende Meldung an:\n",
    "\tYour subscription has expired.\n",
    "6. Wenn das Abonnement des Benutzers nicht in zehn Tagen oder weniger abläuft, zeigen Sie nichts an."
   ]
  },
  {
   "cell_type": "code",
   "execution_count": 71,
   "id": "5206db8d",
   "metadata": {},
   "outputs": [
    {
     "name": "stdout",
     "output_type": "stream",
     "text": [
      "0\n",
      "Your subscription has expired\n"
     ]
    }
   ],
   "source": [
    "from random import *\n",
    "\n",
    "#import random\n",
    "daysUntilExpiration = randint(0,12)\n",
    "discountPercentage = 0\n",
    "\n",
    "print(daysUntilExpiration)\n",
    "\n",
    "if daysUntilExpiration <= 0:\n",
    "    print('Your subscription has expired')\n",
    "elif daysUntilExpiration == 1:\n",
    "    print('Your subscription expires within a day!\\nRenew now and save 20%')\n",
    "    discountPercentage = 20\n",
    "elif daysUntilExpiration <= 5:\n",
    "    print(f'Your subscription expires in {daysUntilExpiration} days.\\n Renew now and save 10%')\n",
    "    discountPercentage = 10\n",
    "elif daysUntilExpiration <= 10:\n",
    "    print('Your subscription will expire soon. Renew now!')\n"
   ]
  },
  {
   "cell_type": "code",
   "execution_count": null,
   "id": "19e12238",
   "metadata": {},
   "outputs": [
    {
     "name": "stdout",
     "output_type": "stream",
     "text": [
      "Else fall\n"
     ]
    }
   ],
   "source": [
    "daysUntilExpiration = 53\n",
    "\n",
    "match daysUntilExpiration:\n",
    "    case 0:\n",
    "        print('Fall 0')\n",
    "    case 1:\n",
    "        print('Fall 1')\n",
    "    case _:\n",
    "        print(\"Else fall\")\n",
    "\n",
    "match daysUntilExpiration:\n",
    "    case 0:\n",
    "        print('')"
   ]
  },
  {
   "cell_type": "code",
   "execution_count": null,
   "id": "d32dea2e",
   "metadata": {},
   "outputs": [
    {
     "name": "stdout",
     "output_type": "stream",
     "text": [
      "Ungueltige eingabe\n"
     ]
    }
   ],
   "source": [
    "day_of_week = input('Welcher Tag ist es?')\n",
    "\n",
    "match day_of_week:\n",
    "    case 'Montag':\n",
    "        print('Heute startet die Arbeitswoche.')\n",
    "    case 'Dienstag':\n",
    "        print('Heute muss ich einkaufen gehen.')\n",
    "    case _:\n",
    "        print('Ungueltige eingabe')\n",
    "\n",
    "# if day_of_week == 'Montag':\n",
    "#     print()\n",
    "# elif day_of_week == 'Dienstag'"
   ]
  },
  {
   "cell_type": "markdown",
   "id": "8fc7ba6b",
   "metadata": {},
   "source": [
    "## HA Wuerfelspiel"
   ]
  },
  {
   "cell_type": "code",
   "execution_count": null,
   "id": "894a60c8",
   "metadata": {},
   "outputs": [
    {
     "name": "stdout",
     "output_type": "stream",
     "text": [
      "Summe der Wuerfel: 6 + 6 + 5 = 17\n",
      "Sie bekommen ein bonus von: 2\n",
      "Sie haben das Spiel mit 19 Punkte gewonnen!\n"
     ]
    }
   ],
   "source": [
    "from random import randint\n",
    "\n",
    "w1 = 6\n",
    "w2 = 6\n",
    "w3 = 5\n",
    "\n",
    "summe = w1+w2+w3\n",
    "\n",
    "bonuspunkte = 0\n",
    "\n",
    "if w1==w2==w3:\n",
    "    bonuspunkte = 6\n",
    "elif w1==w2 or w1==w3 or w2==w3:\n",
    "    bonuspunkte = 2\n",
    "\n",
    "print('Summe der Wuerfel: {0} + {1} + {2} = {3}'.format(w1,w2,w3,summe))\n",
    "\n",
    "summe += bonuspunkte\n",
    "\n",
    "if bonuspunkte > 0:\n",
    "    print('Sie bekommen ein bonus von:', bonuspunkte)"
   ]
  },
  {
   "cell_type": "code",
   "execution_count": null,
   "id": "1dfa131a",
   "metadata": {},
   "outputs": [
    {
     "name": "stdout",
     "output_type": "stream",
     "text": [
      "Sie haben das Spiel mit 19 Punkte gewonnen!\n",
      "Sie haben ein Auto gewonnen!\n"
     ]
    }
   ],
   "source": [
    "if summe >= 16:\n",
    "    preis = 'ein Auto'\n",
    "elif summe >= 10:\n",
    "    preis = 'neuen Laptop'\n",
    "elif summe == 7:\n",
    "    preis = 'eine Reise'\n",
    "else:\n",
    "    preis = 'ein Kätzchen'\n",
    "\n",
    "print(f'Sie haben das Spiel mit {summe} Punkte gewonnen!\\nSie haben {preis} gewonnen!')"
   ]
  },
  {
   "cell_type": "code",
   "execution_count": null,
   "id": "54bc8b29",
   "metadata": {},
   "outputs": [],
   "source": [
    "# 'admin' in 'administrator'\n",
    "\n",
    "# __contains()__:\n",
    "# 'administrator'.find('admin') != -1"
   ]
  },
  {
   "cell_type": "markdown",
   "id": "9144bfc5",
   "metadata": {},
   "source": [
    "Beginnen Sie mit den Folgenden Code:\n",
    "permission = input()\n",
    "level = 55\n",
    "\n",
    "Wir programmieren jetzt mehrere Geschäftsregeln.\n",
    "Wenn der Benutzer ein Administrator mit einer höheren Ebene als 55 ist, geben Sie die folgende Meldung aus:\n",
    "\tWelcome, Super Admin user.\n",
    "\n",
    "Wenn der Benutzer ein Administrator mit einer Ebene von 55 oder darunter ist, geben Sie die folgende Meldung aus:\n",
    "\tWelcome, Admin user.\n",
    "\n",
    "Wenn der Benutzer ein Manager mit einer Ebene von 20 oder höher ist, geben Sie die folgende Meldung aus:\n",
    "\tContact an Admin for access.\n",
    "\n",
    "Wenn der Benutzer ein Manager mit einer niedrigeren Ebene als 20 ist, geben Sie die folgende Meldung aus:\n",
    "\tYou do not have sufficient privileges.\n",
    "\t\n",
    "Wenn der Benutzer kein Administrator oder Manager ist, geben Sie die folgende Meldung aus:\n",
    "\tYou do not have sufficient privileges.\n",
    "\n",
    "Code soll ein bisschen Robust sein. D.h. Wenn der benutzer mAnaGer so schreiben wuerde, dann soll es auch stimmen.\n",
    "Zusaetzlich soll es akzeptiert werden wenn der benutzer Administrator!. Hinweis finden...\n"
   ]
  },
  {
   "cell_type": "code",
   "execution_count": null,
   "id": "30f5d8d1",
   "metadata": {},
   "outputs": [
    {
     "name": "stdout",
     "output_type": "stream",
     "text": [
      "Hier duerfen Sie sich einloggen. Geben Sie Ihr permission an:\n",
      "Welcome Admin user!\n"
     ]
    }
   ],
   "source": [
    "print('Hier duerfen Sie sich einloggen. Geben Sie Ihr permission an:')\n",
    "permission = input().lower()\n",
    "level = 55\n",
    "\n",
    "if permission.find('admin') != -1:\n",
    "    if level > 55:\n",
    "        print('Welcome super Admin user!')\n",
    "    else:\n",
    "        print('Welcome Admin user!')\n",
    "elif 'manager' in permission and level >= 20:\n",
    "    print('Contact an Admin for access')\n",
    "else:\n",
    "    print(\"You do not have sufficient privileges.\")"
   ]
  },
  {
   "cell_type": "markdown",
   "id": "3d0b3169",
   "metadata": {},
   "source": [
    "Ein Jahr ist ein Schaltjahr, wenn es durch 4 teilbar ist, aber nicht, wenn es durch 100 teilbar ist, es sei denn, es ist auch durch 400 teilbar. Zum Beispiel ist 2000 ein Schaltjahr, während 1900 kein Schaltjahr ist.\n",
    "\n",
    "* Wenn durch 4 teilbar => Schaltjahr\n",
    "* Wenn durch 4 und 100 teilbar => Kein Schaltjahr\n",
    "* Wenn durch 4 und 100 und 400 teilbar => Schaltjahr\n",
    "\n",
    "Ziel ist es ein mit input() eingegebener wert zu berechnen ob dieser ein Schaltjahr ist oder nicht.\n",
    "Bspw: Eingabe = 2000\n",
    "\n",
    "Ausgabe = 'Das Jahr 2000 ist ein Schaltjahr.'"
   ]
  },
  {
   "cell_type": "code",
   "execution_count": null,
   "id": "44c885f9",
   "metadata": {},
   "outputs": [],
   "source": [
    "jahreszahl = int(input(\"Bitte gib eine Jahreszahl ein: \"))\n",
    "\n",
    "# Ohne Verschachtelung:\n",
    "if jahreszahl % 4 == 0 and (jahreszahl % 100 != 0 or jahreszahl % 400 == 0):\n",
    "    print(f\"{jahreszahl} ist ein Schaltjahr.\")\n",
    "else:\n",
    "    print(f\"{jahreszahl} ist kein Schaltjahr.\")\n",
    "\n",
    "\n",
    "# Mit Verschachtelung:\n",
    "if jahreszahl % 4 == 0:\n",
    "    if jahreszahl % 100 == 0:\n",
    "        if jahreszahl % 400 == 0:\n",
    "            print(f\"{jahreszahl} ist ein Schaltjahr.\")\n",
    "        else:\n",
    "            print(f\"{jahreszahl} ist kein Schaltjahr.\")\n",
    "    else:\n",
    "        print(f\"{jahreszahl} ist ein Schaltjahr.\")\n",
    "else:\n",
    "    print(f\"{jahreszahl} ist kein Schaltjahr.\")"
   ]
  },
  {
   "cell_type": "markdown",
   "id": "7fc87be4",
   "metadata": {},
   "source": [
    "## Schleifen"
   ]
  },
  {
   "cell_type": "markdown",
   "id": "78e528b7",
   "metadata": {},
   "source": [
    "### While"
   ]
  },
  {
   "cell_type": "code",
   "execution_count": null,
   "id": "2c80b82c",
   "metadata": {},
   "outputs": [],
   "source": []
  }
 ],
 "metadata": {
  "kernelspec": {
   "display_name": "Python 3",
   "language": "python",
   "name": "python3"
  },
  "language_info": {
   "codemirror_mode": {
    "name": "ipython",
    "version": 3
   },
   "file_extension": ".py",
   "mimetype": "text/x-python",
   "name": "python",
   "nbconvert_exporter": "python",
   "pygments_lexer": "ipython3",
   "version": "3.12.6"
  }
 },
 "nbformat": 4,
 "nbformat_minor": 5
}
