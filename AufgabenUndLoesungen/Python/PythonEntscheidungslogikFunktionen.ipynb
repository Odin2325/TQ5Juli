{
 "cells": [
  {
   "cell_type": "markdown",
   "id": "60c47442",
   "metadata": {},
   "source": [
    "## Entscheidungslogik"
   ]
  },
  {
   "cell_type": "code",
   "execution_count": null,
   "id": "49c8bc05",
   "metadata": {},
   "outputs": [],
   "source": [
    "kontotyp = input(\"Was fuer ein Bankkonto hast du?\")\n",
    "\n",
    "if kontotyp == 'Debitkonto':\n",
    "    print('Sie haben ein Debitkonto, der Kontostand darf nicht unter 0!')\n",
    "elif kontotyp == 'Girokonto':\n",
    "    print('Das ist ein Girokonto. Viel spass!')\n",
    "elif kontotyp == 'Kreditkonto':\n",
    "    print('Der Kontostand darf unter 0 sein. Sie muessen jedoch interest von 0.5% darauf zahlen.')\n",
    "else:\n",
    "    print('Kontotyp ungueltig.')"
   ]
  },
  {
   "cell_type": "markdown",
   "id": "b2cb1611",
   "metadata": {},
   "source": [
    "if muss mindestens einmal vorkommen in ein if-block\n",
    "\n",
    "elif darf so oft wie wir moechten definiert werden. 0 bis unendlich oft.\n",
    "\n",
    "else darf maximal 1 mal vorkommen. 0 oder 1 mal."
   ]
  },
  {
   "cell_type": "code",
   "execution_count": null,
   "id": "c8d92630",
   "metadata": {},
   "outputs": [],
   "source": [
    "saison = input('Geben Sie die Saison ein:')\n",
    "\n",
    "if saison == 'Herbst':\n",
    "    print('Es ist aktuell Herbst')\n",
    "elif saison == 'Winter':\n",
    "    print('Es ist aktuell Winter')\n",
    "\n",
    "if saison == 'Herbst' or saison == 'Fruehling':\n",
    "    print('Die regnerische Monate')\n",
    "else:\n",
    "    print('Sehr hohe oder niedrige Temperaturen')\n",
    "\n",
    "if type(saison) == str:\n",
    "    print('Saison besteht aus eine Zeichenkette')"
   ]
  },
  {
   "cell_type": "code",
   "execution_count": null,
   "id": "58daee2c",
   "metadata": {},
   "outputs": [],
   "source": [
    "bestellung1 = input()\n",
    "bestellung2 = 'B10242'\n",
    "bestellung3 = 'B10243'\n",
    "\n",
    "\n",
    "if bestellung2[0:5]=='B1024':\n",
    "    print('Validen Bezeichner')\n",
    "    if len(bestellung2) == 6:\n",
    "        print('Bestellung gueltig!')\n"
   ]
  },
  {
   "cell_type": "code",
   "execution_count": null,
   "id": "ef915f6c",
   "metadata": {},
   "outputs": [],
   "source": [
    "#saison = Hallo!\n",
    "#Indizes  012345\n",
    "#NegInd-  654321\n",
    "\n",
    "\n",
    "saison[-2:] == 'r!'"
   ]
  },
  {
   "cell_type": "markdown",
   "id": "babe0fe1",
   "metadata": {},
   "source": [
    "Aufgabe 1 Strings und Bedingungen.\n",
    "\n",
    "* Bestimme ob ein string der als input eingegeben wird\n",
    "* mit einem \".\" endet oder mit \"r!\".\n",
    "* Gebe True aus.\n",
    "* Zusaetzlich bestimme auch ob der string mit \"Hallo\" anfaengt.\n",
    "* Gebe True aus.\n",
    "* Wenn kein fall stimmen wuerde, gebe False aus.\n",
    "* Hinweis: ihr habt slices und indizes!\n",
    "* Hinweis2: Man darf negative Zahlen als index eingeben."
   ]
  },
  {
   "cell_type": "code",
   "execution_count": null,
   "id": "6a20b738",
   "metadata": {},
   "outputs": [],
   "source": [
    "eingabe = input(\"Geben Sie etwas ein: \")\n",
    "\n",
    "if eingabe[-1] == '.' or eingabe[-2:] == 'r!' or eingabe[0:5] == 'Hallo':\n",
    "    print('True')\n",
    "else:\n",
    "    print('Falsch')"
   ]
  },
  {
   "cell_type": "code",
   "execution_count": null,
   "id": "2546cf3a",
   "metadata": {},
   "outputs": [],
   "source": [
    "x1 = input(\"Gib ein Name x1 ein: \")\n",
    "if x1[-1] == \".\" or x1[-2:] == \"r!\":\n",
    "    print(\"treu\")\n",
    "elif x1[:5] == \"Hallo\":\n",
    "    print(\"Treu\")\n",
    "else:\n",
    "    print(\"false\")"
   ]
  },
  {
   "cell_type": "markdown",
   "id": "d25ac778",
   "metadata": {},
   "source": [
    "## Aufgabe 2 \n",
    "\n",
    "Beginnen Sie mit den Folgenden Code:"
   ]
  },
  {
   "cell_type": "code",
   "execution_count": null,
   "id": "f83b2a93",
   "metadata": {},
   "outputs": [],
   "source": [
    "from random import *\n",
    "\n",
    "#import random\n",
    "daysUntilExpiration = randint(0,12)\n",
    "discountPercentage = 0\n",
    "\n",
    "print(daysUntilExpiration)"
   ]
  },
  {
   "cell_type": "markdown",
   "id": "fa71fd40",
   "metadata": {},
   "source": [
    "Wir programmieren jetzt mehrere Geschäftsregeln.\n",
    "\n",
    "1. Ihr Code sollte nur eine Meldung anzeigen.\n",
    "2. Wenn das Abonnement des Benutzers bzw. der Benutzerin in zehn Tagen oder weniger abläuft, zeigen Sie die folgende Meldung an:\n",
    "\tYour subscription will expire soon. Renew now!\n",
    "3. Wenn das Abonnement des Benutzers bzw. der Benutzerin in fünf Tagen oder weniger abläuft, zeigen Sie die folgenden Meldungen an:\n",
    "\tYour subscription expires in _ days.\n",
    "\tRenew now and save 10%!\n",
    "4. Wenn das Abonnement des Benutzers bzw. der Benutzerin in einem Tag abläuft, zeigen Sie die folgenden Meldungen an:\n",
    "\tYour subscription expires within a day!\n",
    "\tRenew now and save 20%!\n",
    "5. Wenn das Abonnement des Benutzers bzw. der Benutzerin abgelaufen ist, zeigen Sie die folgende Meldung an:\n",
    "\tYour subscription has expired.\n",
    "6. Wenn das Abonnement des Benutzers nicht in zehn Tagen oder weniger abläuft, zeigen Sie nichts an."
   ]
  },
  {
   "cell_type": "code",
   "execution_count": null,
   "id": "5206db8d",
   "metadata": {},
   "outputs": [],
   "source": [
    "from random import *\n",
    "\n",
    "#import random\n",
    "daysUntilExpiration = randint(0,12)\n",
    "discountPercentage = 0\n",
    "\n",
    "print(daysUntilExpiration)\n",
    "\n",
    "if daysUntilExpiration <= 0:\n",
    "    print('Your subscription has expired')\n",
    "elif daysUntilExpiration == 1:\n",
    "    print('Your subscription expires within a day!\\nRenew now and save 20%')\n",
    "    discountPercentage = 20\n",
    "elif daysUntilExpiration <= 5:\n",
    "    print(f'Your subscription expires in {daysUntilExpiration} days.\\n Renew now and save 10%')\n",
    "    discountPercentage = 10\n",
    "elif daysUntilExpiration <= 10:\n",
    "    print('Your subscription will expire soon. Renew now!')\n"
   ]
  },
  {
   "cell_type": "code",
   "execution_count": null,
   "id": "19e12238",
   "metadata": {},
   "outputs": [],
   "source": [
    "daysUntilExpiration = 53\n",
    "\n",
    "match daysUntilExpiration:\n",
    "    case 0:\n",
    "        print('Fall 0')\n",
    "    case 1:\n",
    "        print('Fall 1')\n",
    "    case _:\n",
    "        print(\"Else fall\")\n",
    "\n",
    "match daysUntilExpiration:\n",
    "    case 0:\n",
    "        print('')"
   ]
  },
  {
   "cell_type": "code",
   "execution_count": null,
   "id": "d32dea2e",
   "metadata": {},
   "outputs": [],
   "source": [
    "day_of_week = input('Welcher Tag ist es?')\n",
    "\n",
    "match day_of_week:\n",
    "    case 'Montag':\n",
    "        print('Heute startet die Arbeitswoche.')\n",
    "    case 'Dienstag':\n",
    "        print('Heute muss ich einkaufen gehen.')\n",
    "    case _:\n",
    "        print('Ungueltige eingabe')\n",
    "\n",
    "# if day_of_week == 'Montag':\n",
    "#     print()\n",
    "# elif day_of_week == 'Dienstag'"
   ]
  },
  {
   "cell_type": "markdown",
   "id": "8fc7ba6b",
   "metadata": {},
   "source": [
    "## HA Wuerfelspiel"
   ]
  },
  {
   "cell_type": "code",
   "execution_count": null,
   "id": "894a60c8",
   "metadata": {},
   "outputs": [],
   "source": [
    "from random import randint\n",
    "\n",
    "w1 = 6\n",
    "w2 = 6\n",
    "w3 = 5\n",
    "\n",
    "summe = w1+w2+w3\n",
    "\n",
    "bonuspunkte = 0\n",
    "\n",
    "if w1==w2==w3:\n",
    "    bonuspunkte = 6\n",
    "elif w1==w2 or w1==w3 or w2==w3:\n",
    "    bonuspunkte = 2\n",
    "\n",
    "print('Summe der Wuerfel: {0} + {1} + {2} = {3}'.format(w1,w2,w3,summe))\n",
    "\n",
    "summe += bonuspunkte\n",
    "\n",
    "if bonuspunkte > 0:\n",
    "    print('Sie bekommen ein bonus von:', bonuspunkte)"
   ]
  },
  {
   "cell_type": "code",
   "execution_count": null,
   "id": "1dfa131a",
   "metadata": {},
   "outputs": [],
   "source": [
    "if summe >= 16:\n",
    "    preis = 'ein Auto'\n",
    "elif summe >= 10:\n",
    "    preis = 'neuen Laptop'\n",
    "elif summe == 7:\n",
    "    preis = 'eine Reise'\n",
    "else:\n",
    "    preis = 'ein Kätzchen'\n",
    "\n",
    "print(f'Sie haben das Spiel mit {summe} Punkte gewonnen!\\nSie haben {preis} gewonnen!')"
   ]
  },
  {
   "cell_type": "code",
   "execution_count": null,
   "id": "54bc8b29",
   "metadata": {},
   "outputs": [],
   "source": [
    "# 'admin' in 'administrator'\n",
    "\n",
    "# __contains()__:\n",
    "# 'administrator'.find('admin') != -1"
   ]
  },
  {
   "cell_type": "markdown",
   "id": "9144bfc5",
   "metadata": {},
   "source": [
    "Beginnen Sie mit den Folgenden Code:\n",
    "permission = input()\n",
    "level = 55\n",
    "\n",
    "Wir programmieren jetzt mehrere Geschäftsregeln.\n",
    "Wenn der Benutzer ein Administrator mit einer höheren Ebene als 55 ist, geben Sie die folgende Meldung aus:\n",
    "\tWelcome, Super Admin user.\n",
    "\n",
    "Wenn der Benutzer ein Administrator mit einer Ebene von 55 oder darunter ist, geben Sie die folgende Meldung aus:\n",
    "\tWelcome, Admin user.\n",
    "\n",
    "Wenn der Benutzer ein Manager mit einer Ebene von 20 oder höher ist, geben Sie die folgende Meldung aus:\n",
    "\tContact an Admin for access.\n",
    "\n",
    "Wenn der Benutzer ein Manager mit einer niedrigeren Ebene als 20 ist, geben Sie die folgende Meldung aus:\n",
    "\tYou do not have sufficient privileges.\n",
    "\t\n",
    "Wenn der Benutzer kein Administrator oder Manager ist, geben Sie die folgende Meldung aus:\n",
    "\tYou do not have sufficient privileges.\n",
    "\n",
    "Code soll ein bisschen Robust sein. D.h. Wenn der benutzer mAnaGer so schreiben wuerde, dann soll es auch stimmen.\n",
    "Zusaetzlich soll es akzeptiert werden wenn der benutzer Administrator!. Hinweis finden...\n"
   ]
  },
  {
   "cell_type": "code",
   "execution_count": null,
   "id": "30f5d8d1",
   "metadata": {},
   "outputs": [],
   "source": [
    "print('Hier duerfen Sie sich einloggen. Geben Sie Ihr permission an:')\n",
    "permission = input().lower()\n",
    "level = 55\n",
    "\n",
    "if permission.find('admin') != -1:\n",
    "    if level > 55:\n",
    "        print('Welcome super Admin user!')\n",
    "    else:\n",
    "        print('Welcome Admin user!')\n",
    "elif 'manager' in permission and level >= 20:\n",
    "    print('Contact an Admin for access')\n",
    "else:\n",
    "    print(\"You do not have sufficient privileges.\")"
   ]
  },
  {
   "cell_type": "markdown",
   "id": "3d0b3169",
   "metadata": {},
   "source": [
    "Ein Jahr ist ein Schaltjahr, wenn es durch 4 teilbar ist, aber nicht, wenn es durch 100 teilbar ist, es sei denn, es ist auch durch 400 teilbar. Zum Beispiel ist 2000 ein Schaltjahr, während 1900 kein Schaltjahr ist.\n",
    "\n",
    "* Wenn durch 4 teilbar => Schaltjahr\n",
    "* Wenn durch 4 und 100 teilbar => Kein Schaltjahr\n",
    "* Wenn durch 4 und 100 und 400 teilbar => Schaltjahr\n",
    "\n",
    "Ziel ist es ein mit input() eingegebener wert zu berechnen ob dieser ein Schaltjahr ist oder nicht.\n",
    "Bspw: Eingabe = 2000\n",
    "\n",
    "Ausgabe = 'Das Jahr 2000 ist ein Schaltjahr.'"
   ]
  },
  {
   "cell_type": "code",
   "execution_count": null,
   "id": "44c885f9",
   "metadata": {},
   "outputs": [],
   "source": [
    "jahreszahl = int(input(\"Bitte gib eine Jahreszahl ein: \"))\n",
    "\n",
    "# Ohne Verschachtelung:\n",
    "if jahreszahl % 4 == 0 and (jahreszahl % 100 != 0 or jahreszahl % 400 == 0):\n",
    "    print(f\"{jahreszahl} ist ein Schaltjahr.\")\n",
    "else:\n",
    "    print(f\"{jahreszahl} ist kein Schaltjahr.\")\n",
    "\n",
    "\n",
    "# Mit Verschachtelung:\n",
    "if jahreszahl % 4 == 0:\n",
    "    if jahreszahl % 100 == 0:\n",
    "        if jahreszahl % 400 == 0:\n",
    "            print(f\"{jahreszahl} ist ein Schaltjahr.\")\n",
    "        else:\n",
    "            print(f\"{jahreszahl} ist kein Schaltjahr.\")\n",
    "    else:\n",
    "        print(f\"{jahreszahl} ist ein Schaltjahr.\")\n",
    "else:\n",
    "    print(f\"{jahreszahl} ist kein Schaltjahr.\")"
   ]
  },
  {
   "cell_type": "markdown",
   "id": "7fc87be4",
   "metadata": {},
   "source": [
    "## Schleifen"
   ]
  },
  {
   "cell_type": "markdown",
   "id": "78e528b7",
   "metadata": {},
   "source": [
    "### While"
   ]
  },
  {
   "cell_type": "code",
   "execution_count": null,
   "id": "2c80b82c",
   "metadata": {},
   "outputs": [],
   "source": [
    "# while bedingung:\n",
    "#     code teil\n",
    "\n",
    "#While schleife mit Zaehler als bedingung\n",
    "zaehler = 0\n",
    "while zaehler < 100:\n",
    "    print('Hallo',zaehler)\n",
    "    zaehler += 1\n",
    "\n",
    "#Schleife mit break als bedingung\n",
    "while True:\n",
    "    zaehler+=1\n",
    "    print('Zaehler:',zaehler)\n",
    "    if zaehler >= 200:\n",
    "        print('Schleife wird jetzt beendet!')\n",
    "        break\n",
    "\n",
    "print('Ausserhalb der schleife')"
   ]
  },
  {
   "cell_type": "code",
   "execution_count": null,
   "id": "ff6a9f5b",
   "metadata": {},
   "outputs": [],
   "source": [
    "gueltige_eingabe = False\n",
    "\n",
    "while not gueltige_eingabe:\n",
    "\n",
    "    pin = input('Geben Sie bitte Ihr pin ein: ')\n",
    "\n",
    "    if len(pin)==4 and pin.isdigit():\n",
    "        gueltige_eingabe = True\n",
    "        print('Gueltige Eingabe.')\n",
    "        continue\n",
    "\n",
    "    print('Ungueltige eingabe. Ein pin besteht aus 4 Zahlen.')"
   ]
  },
  {
   "cell_type": "markdown",
   "id": "57b3b15a",
   "metadata": {},
   "source": [
    "Aufgabe 1:\n",
    "Erstelle eine Schleife mit die Summe von 1 bis 15 inklusiv.\n",
    "\n",
    "Aufgabe 2:\n",
    "Der Benutzer soll eine Eingabe eingeben mit folgende eigenschaften. Der String muss mit ein B starten und muss der laenge 10 sein. Wenn das nicht der fall ist, dann soll der Benutzer nochmal aufgefordert werden ein wert einzugeben.\n",
    "\n",
    "Aufgabe 3:\n",
    "Ein benutzer erstellt ein neuen Passwort fuer sein konto. Dieser neue Passwort muss 10 Zeichen lang sein. Es muss auch mind. 1 sonderzeichen enthalten. Wenn dies nicht der Fall dann soll ausgegeben was er tun soll um sein passwort zu verbessern und erneut gefragt werden."
   ]
  },
  {
   "cell_type": "markdown",
   "id": "057acfd6",
   "metadata": {},
   "source": [
    "Aufgabe1"
   ]
  },
  {
   "cell_type": "code",
   "execution_count": null,
   "id": "822f1c82",
   "metadata": {},
   "outputs": [],
   "source": [
    "summe = 0\n",
    "zaehler = 1\n",
    "\n",
    "while zaehler<=15:\n",
    "    #print('Zwischen summe:',summe)\n",
    "    print(f'Aktuelle summe {summe} + {zaehler} = {summe+zaehler}')\n",
    "    summe += zaehler\n",
    "    zaehler += 1"
   ]
  },
  {
   "cell_type": "markdown",
   "id": "1beabdf2",
   "metadata": {},
   "source": [
    "Aufgabe 2"
   ]
  },
  {
   "cell_type": "code",
   "execution_count": null,
   "id": "130e117d",
   "metadata": {},
   "outputs": [],
   "source": [
    "gueltige_eingabe = False\n",
    "\n",
    "while not gueltige_eingabe:\n",
    "    eingabe = input('Geben Sie das Bestellcode ein:')\n",
    "    if eingabe.startswith('B') and len(eingabe) == 10:\n",
    "        print('Gueltige eingabe!')\n",
    "        gueltige_eingabe = True\n",
    "        continue\n",
    "    print('Ungueltige Eingabe. Es muss mit B starten und 10 Zeichen lang sein.')"
   ]
  },
  {
   "cell_type": "markdown",
   "id": "ca4c3173",
   "metadata": {},
   "source": [
    "Aufgabe 3"
   ]
  },
  {
   "cell_type": "code",
   "execution_count": null,
   "id": "bbb2ff3e",
   "metadata": {},
   "outputs": [],
   "source": [
    "gueltiges_passwort = False\n",
    "\n",
    "while not gueltiges_passwort:\n",
    "    neuer_passwort = input('Geben Sie ihr gewuenschtes Passwort ein:')\n",
    "\n",
    "    if len(neuer_passwort) < 10:\n",
    "        print('Dein passwort ist zu kurz, versuchen Sie es bitte nochmal.')\n",
    "        continue\n",
    "    if neuer_passwort.isalnum():\n",
    "        print('Dein passwort enthaelt keine sonderzeichen. Versuchen Sie es bitte nochmal.')\n",
    "        continue\n",
    "\n",
    "    print('Dein neuer Passwort wird jetzt gesetzt.')\n",
    "    gueltiges_passwort = True"
   ]
  },
  {
   "cell_type": "code",
   "execution_count": null,
   "id": "c6b6c808",
   "metadata": {},
   "outputs": [],
   "source": [
    "gueltiges_passwort = False\n",
    "while not gueltiges_passwort:\n",
    "    eingabe = input(\"bitte geben sie ihr passwort ein:\" )\n",
    "    if len(eingabe) >=10 and not eingabe.isalnum():\n",
    "        gueltiges_passwort = True\n",
    "        print(\"passwort ist gultig\")\n",
    "        continue\n",
    "    else:\n",
    "        print(\"ungultiges passwort, bitte erneut eingeben\")\n",
    " "
   ]
  },
  {
   "cell_type": "code",
   "execution_count": null,
   "id": "55e77f11",
   "metadata": {},
   "outputs": [],
   "source": [
    "resultat = ''\n",
    "\n",
    "resultat += 'f'"
   ]
  },
  {
   "cell_type": "markdown",
   "id": "afb1a30d",
   "metadata": {},
   "source": [
    "HA Waehrungsrechner"
   ]
  },
  {
   "cell_type": "code",
   "execution_count": null,
   "id": "078f8335",
   "metadata": {},
   "outputs": [],
   "source": [
    "print('============================================================')\n",
    "print('Waehrungsrechner')\n",
    "print('============================================================')\n",
    "\n",
    "gueltige_waehrung = False\n",
    "gueltige_betrag = False\n",
    "\n",
    "waehrungs_liste = ['YEN', 'USD', 'GBP', 'BC']\n",
    "\n",
    "while not gueltige_waehrung:\n",
    "    waehrung = input(f'Geben Sie bitte eins der folgenden Waehrungen ein: {waehrungs_liste}').upper()\n",
    "    if waehrung in waehrungs_liste:\n",
    "        gueltige_waehrung = True\n",
    "    \n",
    "while not gueltige_betrag:\n",
    "    try:\n",
    "        betrag = int(input('Geben Sie bitte ein Betrag ein:'))\n",
    "    except ValueError:\n",
    "         print('Ungueltiger Datentyp. Bitte nur zahlen eingeben!')\n",
    "         continue\n",
    "\n",
    "    if betrag!=0:\n",
    "            gueltige_betrag = True\n",
    "\n",
    "match waehrung:\n",
    "    case 'YEN':\n",
    "          wechselkurs = 166.5\n",
    "    case 'USD':\n",
    "          wechselkurs = 1.22\n",
    "    case 'GBP':\n",
    "          wechselkurs = 0.86\n",
    "    case 'BC':\n",
    "          wechselkurs = 0.000033\n",
    "    case _:\n",
    "          print('Ungueltiger Vorgang. Es wird abgebrochen.')\n",
    "          wechselkurs = 0\n",
    "\n",
    "\n",
    "print(f'Sie haben folgenden Betrag eingegeben: {betrag}.\\nWie berechnen dein neuen Betrag in {waehrung}.')\n",
    "print(f'Sie bekommen nun: {betrag * wechselkurs} {waehrung}.')\n",
    "print('============================================================')"
   ]
  },
  {
   "cell_type": "markdown",
   "id": "196f2ea3",
   "metadata": {},
   "source": [
    "HA Zufallswortgenerieren"
   ]
  },
  {
   "cell_type": "code",
   "execution_count": null,
   "id": "7eb99e1e",
   "metadata": {},
   "outputs": [],
   "source": [
    "import random\n",
    "\n",
    "print('==============================================')\n",
    "print('Zufallswortgenerator')\n",
    "print('==============================================')\n",
    "\n",
    "zufallswort = ''\n",
    "zaehler = 0\n",
    "\n",
    "while zaehler<20:\n",
    "#zufallswort = zufallswort + str(randint(97,122))\n",
    "    if random.randint(0,1) == 0:\n",
    "        zufallswort += chr(random.randint(97,122))\n",
    "    else:\n",
    "        zufallswort += chr(random.randint(65,90))\n",
    "    #Grossbuchstabe von 65-90\n",
    "    #klein von 97-122\n",
    "    zaehler += 1\n",
    "\n",
    "print(zufallswort)\n",
    "print('==============================================')"
   ]
  },
  {
   "cell_type": "code",
   "execution_count": null,
   "id": "bf3452dd",
   "metadata": {},
   "outputs": [],
   "source": [
    "meine_liste = [123,45,24,253,True,'asdf',2345]\n",
    "#Indizes        0  1   2  3   4      5    6\n",
    "#Gesamt laenge dieser liste = 7\n",
    "print(meine_liste[5])\n",
    "\n",
    "meine_liste[5] = 'Cool.'\n",
    "\n",
    "print(meine_liste)\n",
    "\n",
    "meine_liste.reverse()\n",
    "\n",
    "print(meine_liste)\n",
    "\n",
    "meine_liste.append('Python ist cool')\n",
    "\n",
    "print(meine_liste)"
   ]
  },
  {
   "cell_type": "code",
   "execution_count": null,
   "id": "7448f8d5",
   "metadata": {},
   "outputs": [],
   "source": [
    "meine_liste.insert(23,9999)\n",
    "\n",
    "print(meine_liste)"
   ]
  },
  {
   "cell_type": "code",
   "execution_count": null,
   "id": "e4b76558",
   "metadata": {},
   "outputs": [],
   "source": [
    "meine_liste.insert(4,True)\n",
    "\n",
    "print(meine_liste)"
   ]
  },
  {
   "cell_type": "code",
   "execution_count": null,
   "id": "803f0420",
   "metadata": {},
   "outputs": [],
   "source": [
    "print(list(set(meine_liste)))"
   ]
  },
  {
   "cell_type": "code",
   "execution_count": null,
   "id": "d67ac889",
   "metadata": {},
   "outputs": [],
   "source": [
    "meine_liste.remove('Python ist cool')"
   ]
  },
  {
   "cell_type": "code",
   "execution_count": null,
   "id": "bbc90e22",
   "metadata": {},
   "outputs": [],
   "source": [
    "print(meine_liste)"
   ]
  },
  {
   "cell_type": "code",
   "execution_count": null,
   "id": "6a0a0de3",
   "metadata": {},
   "outputs": [],
   "source": [
    "meine_liste.append(2345)\n",
    "\n",
    "print(meine_liste)"
   ]
  },
  {
   "cell_type": "code",
   "execution_count": null,
   "id": "b45472d2",
   "metadata": {},
   "outputs": [],
   "source": [
    "meine_liste.remove(2345)"
   ]
  },
  {
   "cell_type": "code",
   "execution_count": null,
   "id": "893c7972",
   "metadata": {},
   "outputs": [],
   "source": [
    "print(meine_liste)"
   ]
  },
  {
   "cell_type": "code",
   "execution_count": null,
   "id": "ad0c9994",
   "metadata": {},
   "outputs": [],
   "source": [
    "text = 'asdfasdf'\n",
    "list(text)"
   ]
  },
  {
   "cell_type": "markdown",
   "id": "533f74d2",
   "metadata": {},
   "source": [
    "Wir moechten eine Einkaufsliste programmieren.\n",
    "\n",
    "In diese Liste speichern wir all Produkte die wir einkaufen moechten.\n",
    "In diese Aufgabe geht es darum eine Liste zu erstellen und diese dann mit Benutzer input() zu befuellen.\n",
    "\n",
    "Start:\n",
    "einkaufs_liste = []\n",
    "\n",
    "Zum einfuegen von Werte:\n",
    "einkaufs_liste.append(wert)\n",
    "\n",
    "Mit append Methode die benutzer Eingabe zur liste hinzufuegen.\n",
    "Die Schleife soll so lange laufen bis der benutzer als eingabe das Wert 'Fertig' eingegeben hat."
   ]
  },
  {
   "cell_type": "code",
   "execution_count": null,
   "id": "018815b2",
   "metadata": {},
   "outputs": [],
   "source": [
    "print('Einkaufslise erstellen:')\n",
    "\n",
    "einkaufs_liste = []\n",
    "\n",
    "while True:\n",
    "    eingabe = input('Geben Sie ihr produkt bitte ein: (\\'Fertig\\' um zu stoppen.)').capitalize()\n",
    "\n",
    "    if eingabe == 'Fertig':\n",
    "        break\n",
    "    else:\n",
    "        einkaufs_liste.append(eingabe)\n",
    "\n",
    "print(einkaufs_liste)"
   ]
  },
  {
   "cell_type": "code",
   "execution_count": null,
   "id": "0d426d40",
   "metadata": {},
   "outputs": [],
   "source": [
    "schul_noten = [89,76,95,65,67,36,90]\n",
    "\n",
    "summe = 0\n",
    "\n",
    "for note in schul_noten:\n",
    "    print(\"Aktuelle Note die wir betrachten:\",note)\n",
    "    summe += note\n",
    "\n",
    "print('Das durchschnitt ist: ',summe/len(schul_noten))"
   ]
  },
  {
   "cell_type": "code",
   "execution_count": null,
   "id": "dc487cac",
   "metadata": {},
   "outputs": [],
   "source": [
    "#range(0,20,3) => [0,3,6,9,12,15,18]\n",
    "for zahl in range(0,20,3):\n",
    "    print(zahl)"
   ]
  },
  {
   "cell_type": "code",
   "execution_count": null,
   "id": "5f11271a",
   "metadata": {},
   "outputs": [],
   "source": [
    "summe = 0\n",
    "\n",
    "for index in range(0,len(schul_noten)):\n",
    "    print(\"Aktuelle Note die wir betrachten:\",schul_noten[index])\n",
    "    summe += schul_noten[index]\n",
    "\n",
    "print('Das durchschnitt ist: ',summe/len(schul_noten))"
   ]
  },
  {
   "cell_type": "code",
   "execution_count": null,
   "id": "120c9e2c",
   "metadata": {},
   "outputs": [],
   "source": [
    "eine_liste = ['Bob','Jessica','James']\n",
    "print(eine_liste)\n",
    "eine_liste.pop()\n",
    "print(eine_liste)"
   ]
  },
  {
   "cell_type": "code",
   "execution_count": null,
   "id": "270340c1",
   "metadata": {},
   "outputs": [],
   "source": [
    "coordinaten = [[1,2],[3,7],[9,8],[3,96,4,6,[1,2]]]\n",
    "#                0     1     2       3\n",
    "#               0,1   0,1   0,1   0,1, 2,3,  4 \n",
    "#                                           0,1\n",
    "#coordinaten[2] ist das element an der stelle 2 unserer liste\n",
    "#coordinaten[2][1] ist das element an der stelle 1 von unser element an der stelle 2.\n",
    "coordinaten[3][4][0]"
   ]
  },
  {
   "cell_type": "code",
   "execution_count": null,
   "id": "8c81b84e",
   "metadata": {},
   "outputs": [],
   "source": [
    "zweiD_liste = [[1,2],[3,7],[9,8]]\n",
    "\n",
    "for liste in zweiD_liste:\n",
    "    #print(liste)\n",
    "    for zahl in liste:\n",
    "        print(zahl)"
   ]
  },
  {
   "cell_type": "markdown",
   "id": "9e08d7b9",
   "metadata": {},
   "source": [
    "C# Array erstellen:\n",
    "int[] zahlen = new int[10];\n",
    "2D Array\n",
    "int[3][5]"
   ]
  },
  {
   "cell_type": "markdown",
   "id": "99fb80bc",
   "metadata": {},
   "source": [
    "Uebung 1 Summe der Zahlen:\n",
    "\n",
    "Schreibe ein Programm, das den Benutzer auffordert, 5 Zahlen einzugeben.\n",
    "Speichere diese in einer Liste.\n",
    "Verwende dann eine for-Schleife, um die Summe aller Zahlen zu berechnen und auszugeben.\n",
    "\n",
    "Uebung 2 Wortlängen:\n",
    "\n",
    "Schreibe ein Programm, das den Benutzer auffordert, 5 Wörter einzugeben.\n",
    "Speichere diese in einer Liste.\n",
    "Verwende eine for-Schleife, um jedes Wort zusammen mit seiner Länge auszugeben.\n",
    "Ausgabenstil:\n",
    "```python\n",
    "print('Dein wort war: {wort}. Es hat eine laenge von: {laenge}')\n",
    "```"
   ]
  },
  {
   "cell_type": "code",
   "execution_count": null,
   "id": "86a9fafc",
   "metadata": {},
   "outputs": [],
   "source": [
    "#Uebung 1:\n",
    "meine_zahlen = []\n",
    "for zahl in range(0,5):\n",
    "    meine_zahlen.append(int(input(f'Geben Sie die {zahl+1}. ein: ')))\n",
    "\n",
    "summe = 0\n",
    "for zahl in meine_zahlen:\n",
    "    print(f'Aktuelle Summe: {summe} + {zahl} = {summe+zahl}.')\n",
    "    summe += zahl\n",
    "\n",
    "print('Die gesamt summe betraegt:',summe)"
   ]
  },
  {
   "cell_type": "code",
   "execution_count": null,
   "id": "1657aaf8",
   "metadata": {},
   "outputs": [],
   "source": [
    "#Uebung 2:\n",
    "meine_woerter = []\n",
    "for zahl in range(0,5):\n",
    "    meine_woerter.append(input(f'Geben Sie das {zahl+1}. Wort ein: '))\n",
    "\n",
    "for wort in meine_woerter:\n",
    "    print(f'Dein wort war: {wort}. Es hat eine laenge von: {len(wort)}')"
   ]
  },
  {
   "cell_type": "markdown",
   "id": "bdeeb439",
   "metadata": {},
   "source": [
    "HA Notenverwaltung\n",
    "1. Frage die Benutzerin, wie viele Schüler es gibt.\n",
    "2. Lasse sie für jeden Schüler einen Namen und eine Note (zwischen 1 und 6) eingeben.\n",
    "   1. Speichere die Namen in einer Liste namen.\n",
    "   2. Speichere die Noten in einer Liste noten.\n",
    "3. Verwende eine for-Schleife, um:\n",
    "   1. alle Schüler mit Namen und Note auszugeben.\n",
    "   2. die Durchschnittsnote der Klasse zu berechnen.\n",
    "   3. die beste Note und den dazugehörigen Schüler anzuzeigen.\n",
    "   4. die schlechteste Note und den dazugehörigen Schüler anzuzeigen."
   ]
  },
  {
   "cell_type": "code",
   "execution_count": null,
   "id": "3dc36400",
   "metadata": {},
   "outputs": [],
   "source": [
    "print('Notenverwaltungsprogramm')\n",
    "\n",
    "namen = []\n",
    "noten = []\n",
    "\n",
    "try:\n",
    "    anzahl_schueler = int(input('Wie viele Schueler gibt es?'))\n",
    "\n",
    "    for zaehler in range(0,anzahl_schueler):\n",
    "        name = input('Name von Schueler:')\n",
    "        note = float(input(f'Note von {name}: '))\n",
    "        namen.append(name)\n",
    "        noten.append(note)\n",
    "except ValueError:\n",
    "    print('Ungueltige eingabe.')\n",
    "    quit()"
   ]
  },
  {
   "cell_type": "code",
   "execution_count": null,
   "id": "9d503a89",
   "metadata": {},
   "outputs": [],
   "source": [
    "beste_studenten = []\n",
    "schlechteste_studenten = []\n",
    "#indizes die mit 0 anfangen.\n",
    "#range(0,anzahl_schueler)\n",
    "#Weil die obere grenze von die methode range() ist exklusiv\n",
    "#bspw: anzahl_schueler = 6\n",
    "#range(0,6) => 0,1,2,3,4,5\n",
    "schlechteste_note = max(noten)\n",
    "beste_note = min(noten)\n",
    "for index in range(0,anzahl_schueler):\n",
    "    print(f'{namen[index]} -> {noten[index]}')\n",
    "    \n",
    "    if noten[index] == beste_note:\n",
    "        beste_studenten.append(namen[index])\n",
    "\n",
    "    if noten[index] == schlechteste_note:\n",
    "        schlechteste_studenten.append(namen[index])\n",
    "\n",
    "print(f'Durchschnittsnote: {sum(noten)/anzahl_schueler:.1f}'.format())\n",
    "print(f'Beste Note: {beste_studenten} mit {beste_note}')\n",
    "print(f'Schlechtste Note: {schlechteste_studenten} mit {schlechteste_note}')"
   ]
  },
  {
   "cell_type": "markdown",
   "id": "44ea651b",
   "metadata": {},
   "source": [
    "HA Rollenspiel\n",
    "\n",
    "1. Sie müssen die while-Anweisung als äußere Spielschleife verwenden.\n",
    "2. Der Held bzw. die Heldin und das Monster beginnen mit 10 Gesundheitspunkten\n",
    "   1. Eine variable held und monster erstellen, beide gleich 10.\n",
    "3. Alle Angriffe haben einen Wert zwischen 1 und 10. Diese sollen zuffaellig generiert werden.\n",
    "   1. randomint(1,10)\n",
    "4. Der Held bzw. die Heldin greift zuerst an.\n",
    "5. Geben Sie die Integritätsmenge, die das Monster verloren hat, und seine verbleibende Integrität aus.\n",
    "6. Wenn die Integrität des Monsters größer als 0 ist, kann es den Helden angreifen.\n",
    "7. Geben Sie die Integritätsmenge, die der Held verloren hat, und seine verbleibende Integrität aus.\n",
    "8. Führen Sie diese Abfolge von Angriffen fort, bis entweder die Integrität des Monsters oder die des Helden null oder weniger ist.\n",
    "9. Geben Sie den Sieger aus."
   ]
  },
  {
   "cell_type": "code",
   "execution_count": null,
   "id": "fc1b5cec",
   "metadata": {},
   "outputs": [],
   "source": [
    "import random\n",
    "\n",
    "monster = 10\n",
    "heldin = 10\n",
    "\n",
    "while monster > 0 and heldin > 0:\n",
    "    angriff = random.randint(1,10)\n",
    "    monster -= angriff\n",
    "    print(f'Die Heldin greift an! Monster verliert {angriff} Integritaetspunkte und hat nur {monster} uebrig.')\n",
    "    if monster <= 0:\n",
    "        sieger = 'Heldin'\n",
    "        continue\n",
    "\n",
    "    angriff = random.randint(1,10)\n",
    "    heldin -= angriff\n",
    "    print(f'Der Monster greift an! Heldin verliert {angriff} Integritaetspunkte und hat nur {heldin} uebrig.')\n",
    "    if heldin <= 0:\n",
    "        sieger = 'Monster'\n",
    "        continue\n",
    "\n",
    "print('Sieger:',sieger)"
   ]
  },
  {
   "cell_type": "markdown",
   "id": "135e1b83",
   "metadata": {},
   "source": [
    "Dictionaries"
   ]
  },
  {
   "cell_type": "code",
   "execution_count": null,
   "id": "9c1f443a",
   "metadata": {},
   "outputs": [],
   "source": [
    "auto = {\n",
    "    'Marke':'Toyota',\n",
    "    'Modell':'Yaris',\n",
    "    'Max_Geschwindigkeit':180,\n",
    "    'Besuchte_orte':['Spanien','Deutschland','Italien'],\n",
    "}\n",
    "\n",
    "#Ausgeben:\n",
    "print(auto['Max_Geschwindigkeit'])\n",
    "\n",
    "#Wert hinzufuegen:\n",
    "auto['Farbe'] = 'Rot'\n",
    "\n",
    "#Schluesselwert aendern:\n",
    "auto['Farbe'] = 'Gold'\n",
    "\n",
    "print(auto['Besuchte_orte'])"
   ]
  },
  {
   "cell_type": "code",
   "execution_count": null,
   "id": "90fb3679",
   "metadata": {},
   "outputs": [],
   "source": [
    "#Mit nur auto -> Zugriff auf schluessel\n",
    "for schluessel in auto:\n",
    "    print(schluessel)\n",
    "\n",
    "#Methode items() gibt uns ein set den wir ausgeben koennen als key, value paare.\n",
    "for key, value in auto.items():\n",
    "    print(f'Key: {key} - Wert: {value}')"
   ]
  },
  {
   "cell_type": "code",
   "execution_count": null,
   "id": "fe529521",
   "metadata": {},
   "outputs": [],
   "source": [
    "auto.keys()"
   ]
  },
  {
   "cell_type": "code",
   "execution_count": null,
   "id": "edb27851",
   "metadata": {},
   "outputs": [],
   "source": [
    "#Dictionaries in Dictionaries\n",
    "daten = {\n",
    "    'Nicolas':{\n",
    "        'benutzername':'nick12',\n",
    "        'passwort' : 'passWorT'\n",
    "    },\n",
    "    'Kalle':{\n",
    "        'benutzername':'calilicous',\n",
    "        'passwort' : 'dieSonne1'\n",
    "    },\n",
    "    'Maryam':{\n",
    "        'benutzername':'RickyMartin',\n",
    "        'passwort' : '93845'\n",
    "    }\n",
    "}\n",
    "\n",
    "daten['Nicolas']['benutzername']"
   ]
  },
  {
   "cell_type": "code",
   "execution_count": null,
   "id": "93329f6c",
   "metadata": {},
   "outputs": [],
   "source": [
    "telefonbuch = {\n",
    "    'Alex':'081612727387',\n",
    "    'Angi':'081612727337',\n",
    "    'Anna':'081612727221'\n",
    "}\n",
    "\n",
    "name = input('Wem moechten Sie anrufen?')\n",
    "\n",
    "if name in telefonbuch:\n",
    "    print('Die nummer lautet:', telefonbuch[name])\n",
    "else:\n",
    "    print('Kein solcher Kontakt vorhanden.')"
   ]
  },
  {
   "cell_type": "markdown",
   "id": "8ff458fb",
   "metadata": {},
   "source": [
    "Wir haben ein Kunden dictionary. In diesen Dictionary haben wir schon folgende Kunden: Siemens:'081612727387', BMW:'081612727337', Volkswagen:'081612727221', Kistenpfennig:'081612727992'.\n",
    "\n",
    "1. Neuer Kunde hinzufuegen.\n",
    "2. Kunde anrufen. (Telefonnummer ausgeben)\n",
    "\n",
    "Dieser Menue moechten wir jetzt programmieren.\n",
    "Wenn der benutzer als Wahl eingabe die '1' eingibt => soll der benutzer aufgefordert werden einen neuen Kundennammen einzugeben und eine telefonnummer die in unser dictionary gespeichert werden sollen.\n",
    "\n",
    "Eingabe 2: Telefonnumer von ein bestimmten Kunden ausgeben. Der benutzer muss daher den Kunde selber waehlen.\n",
    "\n",
    "Alle andere eingabe: ausgeben ungueltige eingabe."
   ]
  },
  {
   "cell_type": "code",
   "execution_count": null,
   "id": "14180da2",
   "metadata": {},
   "outputs": [],
   "source": [
    "kunden = {\n",
    "    'siemens':'081612727387',\n",
    "    'bmw':'081612727337',\n",
    "    'volkswagen':'081612727221',\n",
    "    'kistenpfennig':'081612727992'\n",
    "}\n",
    "\n",
    "print(kunden.values())"
   ]
  },
  {
   "cell_type": "code",
   "execution_count": null,
   "id": "d5e1997c",
   "metadata": {},
   "outputs": [],
   "source": [
    "kunden = {\n",
    "    'siemens':'081612727387',\n",
    "    'bmw':'081612727337',\n",
    "    'volkswagen':'081612727221',\n",
    "    'kistenpfennig':'081612727992'\n",
    "}\n",
    "\n",
    "print('Wilkommen zu unser Kunde software. Was kann ich fuer Sie tun?')\n",
    "\n",
    "while True:\n",
    "    print('1. Neuer Kunde hinzufuegen.\\n2. Kunde anrufen.\\n3. Kunde liste sehen\\n4. Kunde loeschen\\n5. Programm beenden')\n",
    "    eingabe = input()\n",
    "\n",
    "    match eingabe:\n",
    "        case '1':\n",
    "            print('Sie moechten ein neuen Kunde erstellen.')\n",
    "            neuer_kunde_name = input('Geben Sie bitte den Namen vom Kunde ein:').lower()\n",
    "            if neuer_kunde_name not in kunden:\n",
    "                neuer_kunde_nummer = input('Geben Sie die Nummer von diesen Kunde bitte ein:')\n",
    "                kunden[neuer_kunde_name] = neuer_kunde_nummer\n",
    "                print('Kunde erfolgreich gespeichert.')\n",
    "            else:\n",
    "                print('Dieser Kunde ist schon vorhanden.')\n",
    "        case '2':\n",
    "            print('Sie moechten die Telefonnummer von ein Kunde einsehen.')\n",
    "            kunde = input('Geben Sie bitte den Namen vom Kunde ein:').lower()\n",
    "            if kunde in kunden:\n",
    "                print('Kundentelefonnummer:',kunden[kunde])\n",
    "            else:\n",
    "                print('Dieser Kunde ist nicht vorhanden.')\n",
    "        case '3':\n",
    "            print('Hier sind alle Kunden und Telefonnummern.')\n",
    "            for key, value in kunden.items():\n",
    "                print(f\"Kunde: {key} - Telefonnummer: {value}\")\n",
    "        case '4':\n",
    "            print('Sie moechten ein Kunde loeschen.')\n",
    "            kunde = input('Geben Sie bitte den Namen vom Kunde ein:').lower()\n",
    "            if kunde in kunden:\n",
    "                kunden.pop(kunde)\n",
    "                print(f'{kunde} erfolgreich entfernt.')\n",
    "            else:\n",
    "                print('Dieser Kunde ist nicht vorhanden.')\n",
    "        case '5':\n",
    "            break\n",
    "        case _:\n",
    "            print('Option ungueltig. Nur zahlen 1,2,3,4 oder 5.')\n",
    "    input()"
   ]
  },
  {
   "cell_type": "code",
   "execution_count": null,
   "id": "0e8199e8",
   "metadata": {},
   "outputs": [],
   "source": [
    "text = \"Hallo\"\n",
    "number_letter = {}\n",
    "\n",
    "for buchstabe in text:\n",
    "    if buchstabe not in number_letter:\n",
    "        number_letter[buchstabe] = 1\n",
    "    else:\n",
    "        number_letter[buchstabe] += 1"
   ]
  },
  {
   "cell_type": "markdown",
   "id": "454bfaa9",
   "metadata": {},
   "source": [
    "HA Loesung Einkaufsliste mit Preisen"
   ]
  },
  {
   "cell_type": "code",
   "execution_count": null,
   "id": "a9af4a4b",
   "metadata": {},
   "outputs": [],
   "source": [
    "produkte = {\n",
    "    'Apfel':0.5,\n",
    "    'Banane':0.8,\n",
    "    'Milch':1.2,\n",
    "    'Semmel':0.60,\n",
    "    'Pizzastange':1.60,\n",
    "    'Vanillestange':1.45\n",
    "}\n",
    "\n",
    "print('Verfuegbare Produke:',produkte.keys())\n",
    "gesamtkosten = 0\n",
    "\n",
    "while True:\n",
    "    eingabe = input('Produkt eingeben (oder \\'Ende\\' zum Beenden:)')\n",
    "    if eingabe == 'Ende':\n",
    "        break\n",
    "    elif eingabe in produkte:\n",
    "        gesamtkosten += produkte[eingabe]\n",
    "    elif eingabe == '65+':\n",
    "        print('Was moechten Sie machen? 1. Schalter freischalten oder 2. Neues Produkt hinzufuegen:')\n",
    "        admin_eingabe = input()\n",
    "        match admin_eingabe:\n",
    "            case '1':\n",
    "                print('Schalter ist freigeschaltet worden')\n",
    "                continue\n",
    "    else:\n",
    "        print(eingabe,'ist nicht im Sortiment')\n",
    "\n",
    "print(f'Gesamtkosten: {gesamtkosten:.2f}')"
   ]
  },
  {
   "cell_type": "markdown",
   "id": "cb988c79",
   "metadata": {},
   "source": [
    "HA Haeufigkeit der Buchstaben zaehlen"
   ]
  },
  {
   "cell_type": "code",
   "execution_count": null,
   "id": "45567c87",
   "metadata": {},
   "outputs": [],
   "source": [
    "text = input('Geben ein Text ein:')\n",
    "\n",
    "buch_menge = {\n",
    "    #buchstbe:menge\n",
    "}\n",
    "\n",
    "for buchstabe in text:\n",
    "    if buchstabe not in buch_menge.keys():\n",
    "        buch_menge[buchstabe] = 1\n",
    "    else:\n",
    "        buch_menge[buchstabe] += 1\n",
    "\n",
    "print(buch_menge)"
   ]
  },
  {
   "cell_type": "code",
   "execution_count": null,
   "id": "c08d1eba",
   "metadata": {},
   "outputs": [],
   "source": [
    "sequenzen = {\n",
    "    #Key:   #Value\n",
    "    \"AUG\": 'Methionin',\n",
    "    \"UUU\": 'Phenylalanin',\n",
    "    \"UUC\": 'Phenylalanin',\n",
    "    \"UUA\": 'Leucin',\n",
    "    \"UUG\": 'Leucin',  \n",
    "    \"UCU\": 'Serin',\n",
    "    \"UCC\": 'Serin',\n",
    "    \"UCA\": 'Serin',\n",
    "    \"UCG\": 'Serin',\n",
    "    \"UAU\": 'Tyrosin',\n",
    "    \"UAC\": 'Tyrosin',  \n",
    "    \"UGU\": 'Cystein',\n",
    "    \"UGC\": 'Cystein',  \n",
    "    \"UGG\": 'Tryptophan',\n",
    "    \"UAA\": 'STOP',\n",
    "    \"UAG\": 'STOP',\n",
    "    \"UGA\": 'STOP',    \n",
    "}\n",
    "\n",
    "RNA = \"AUGUUUUCUAUG\"\n",
    "#RNA = input(\"Geben Sie eine RNA-Sequenz ein: \")  # Eingabeaufforderung für die RNA-Sequenz\n",
    "\n",
    "for i in range(0, len(RNA), 3): # Wiederholt die schleife alle 3 Chars in der RNA-Sequenz\n",
    "    codon = RNA[i:i+3]  # String-Slicing verwendet schneidet einen Teilstring aus der RNA\n",
    "    if \"STOP\" == sequenzen[codon]:\n",
    "       break  # Beendet die Schleife, wenn ein STOP-Codon gefunden wird\n",
    "    elif codon in sequenzen: # Überprüft, ob der codon in der sequenzen-Dictionary vorhanden ist\n",
    "        print(f\"{codon} = {sequenzen[codon]}\") # Gibt den codon (key) und die zugehörige Aminosäure (Value) aus    \n",
    "    else:\n",
    "        print(f\"{codon} = Unbekannt\")"
   ]
  },
  {
   "cell_type": "code",
   "execution_count": null,
   "id": "5a25d588",
   "metadata": {},
   "outputs": [],
   "source": [
    "codon_protein = {\n",
    "    \"AUG\": \"Methionin\",\n",
    "    \"UUU\": \"Phenylalanin\",\n",
    "    \"UUC\": \"Phenylalanin\",\n",
    "    \"UUA\": \"Leucin\",\n",
    "    \"UUG\": \"Leucin\",\n",
    "    \"UCU\": \"Serin\",\n",
    "    \"UCC\": \"Serin\",\n",
    "    \"UCA\": \"Serin\",\n",
    "    \"UCG\": \"Serin\",\n",
    "    \"UAU\": \"Tyrosin\",\n",
    "    \"UAC\": \"Tyrosin\",\n",
    "    \"UGU\": \"Cystein\",\n",
    "    \"UGC\": \"Cystein\",\n",
    "    \"UGG\": \"Tryptophan\",\n",
    "    \"UAA\": \"STOP\",\n",
    "    \"UAG\": \"STOP\",\n",
    "    \"UGA\": \"STOP\"\n",
    "}\n",
    "   \n",
    "rna_sequenz = input(\"Gib eine RNA-Sequenz ein: \").strip().upper()\n",
    "def rna_zu_protein(rna_sequenz: str):\n",
    "    protein = []\n",
    "    #time complexity nicht O(n^2) sondern O(2n) \n",
    "    codons = [rna_sequenz[i:i+3] for i in range(0, len(rna_sequenz), 3)]\n",
    "    for codon in codons:\n",
    "        amino_saeure = codon_protein.get(codon)\n",
    "        if amino_saeure == \"STOP\":  # Abbruch bei STOP-Codon\n",
    "            break\n",
    "        elif amino_saeure in codon_protein.values():  # nur bekannte Codons übersetzen\n",
    "            protein.append(amino_saeure)\n",
    "    return protein\n",
    " \n",
    "print(rna_zu_protein(rna_sequenz))"
   ]
  },
  {
   "cell_type": "code",
   "execution_count": null,
   "id": "31dd1d90",
   "metadata": {},
   "outputs": [],
   "source": [
    "def rna_zu_protein(rna):\n",
    "    codon_tabelle = {\n",
    "        \"AUG\": \"Methionin\",\n",
    "        \"UUU\": \"Phenylalanin\", \"UUC\": \"Phenylalanin\",\n",
    "        \"UUA\": \"Leucin\", \"UUG\": \"Leucin\",\n",
    "        \"UCU\": \"Serin\", \"UCC\": \"Serin\", \"UCA\": \"Serin\", \"UCG\": \"Serin\",\n",
    "        \"UAU\": \"Tyrosin\", \"UAC\": \"Tyrosin\",\n",
    "        \"UGU\": \"Cystein\", \"UGC\": \"Cystein\",\n",
    "        \"UGG\": \"Tryptophan\",\n",
    "        \"UAA\": \"STOP\", \"UAG\": \"STOP\", \"UGA\": \"STOP\"\n",
    "    }\n",
    "#O(n^1/3) time complexity\n",
    "    proteine = []\n",
    "    # RNA in Dreiergruppen zerlegen\n",
    "    for i in range(0, len(rna), 3):\n",
    "        codon = rna[i:i+3]\n",
    "        if codon in codon_tabelle:\n",
    "            protein = codon_tabelle[codon]\n",
    "            if protein == \"STOP\":\n",
    "                break\n",
    "            proteine.append(protein)\n",
    " \n",
    "    return proteine\n",
    " \n",
    " \n",
    "# Hier wird das Programm gestartet\n",
    "rna_seq = input(\"Geben Sie eine RNA-Sequenz ein: \")\n",
    "protein_seq = rna_zu_protein(rna_seq)\n",
    "print(\"Die entsprechende Proteinsequenz ist:\", protein_seq)"
   ]
  },
  {
   "cell_type": "markdown",
   "id": "8ff091ad",
   "metadata": {},
   "source": [
    "## Tupeln"
   ]
  },
  {
   "cell_type": "code",
   "execution_count": null,
   "id": "82d88190",
   "metadata": {},
   "outputs": [],
   "source": [
    "benutzer = [(\"bob123\",'pass1'),()]\n",
    "\n",
    "#Runde klammern sind eigentlich tupeln\n",
    "print()\n",
    "\n",
    "def summe(zahl1,zahl2):\n",
    "    return zahl1+zahl2\n",
    "\n",
    "summe(43,8)\n",
    "summe(12,20)"
   ]
  },
  {
   "cell_type": "markdown",
   "id": "bbdc45f9",
   "metadata": {},
   "source": [
    "Einloggen Beispiel\n",
    "do{\n",
    "    benutzername = input('Geben Sie Ihr benutzername ein: )\n",
    "    passwort = input('Geben Sie Ihr passwort ein: )\n",
    "}while(not (benutzername == richtiges_benutzer und passwort == richtiges_passwort)  )\n",
    "1-unendlich\n",
    "\n",
    "\n",
    "benutzername = ''\n",
    "passwort = ''\n",
    "while not (benutzername == richtiges_benutzer und passwort == richtiges_passwort):\n",
    "    benutzername = input('Geben Sie Ihr benutzername ein: )\n",
    "    passwort = input('Geben Sie Ihr passwort ein: )\n",
    "0-unendlich"
   ]
  },
  {
   "cell_type": "markdown",
   "id": "e0fd8e58",
   "metadata": {},
   "source": [
    "## HA Blackjack"
   ]
  },
  {
   "cell_type": "code",
   "execution_count": null,
   "id": "8419bd16",
   "metadata": {},
   "outputs": [],
   "source": [
    "def punktzahl_berechnen(karten_liste):\n",
    "    karten_werte = {\n",
    "        'bube' : 10,\n",
    "        'dame' : 10,\n",
    "        'koenig' : 10,\n",
    "        'ass' : 11\n",
    "    }\n",
    "\n",
    "    punkte = 0\n",
    "    for karte in karten_liste:\n",
    "        if type(karte) == str:\n",
    "            punkte += karten_werte[karte]\n",
    "        else:\n",
    "            punkte += karte\n",
    "            \n",
    "    return punkte\n",
    "    "
   ]
  },
  {
   "cell_type": "code",
   "execution_count": null,
   "id": "74cc0a32",
   "metadata": {},
   "outputs": [],
   "source": [
    "import random\n",
    "\n",
    "def blackjack_spielen():\n",
    "    spielstappel = [2,3,4,5,6,7,8,9,10,'bube','dame','koenig','ass']*4\n",
    "\n",
    "    spieler_karten = [random.choice(spielstappel), random.choice(spielstappel)]\n",
    "    dealer_karten = [random.choice(spielstappel), random.choice(spielstappel)]\n",
    "\n",
    "    print('Meine Karten sind: ',spieler_karten)\n",
    "    print('Dealer Karte:',dealer_karten[0])\n",
    "\n",
    "    #Spieler Schleife\n",
    "    while True:\n",
    "        eingabe = input('Moechten Sie ein \"Hit\" oder \"Stand\"?')\n",
    "        if eingabe == \"Hit\":\n",
    "            print('Sie haben Hit ausgewaehlt.')\n",
    "            spieler_karten.append(random.choice(spielstappel))\n",
    "            print(spieler_karten)\n",
    "        elif eingabe == \"Stand\":\n",
    "            print('Sie haben Stand ausgewaehlt.')\n",
    "            break\n",
    "        else:\n",
    "            print('Das haben wir nicht verstanden. Bitte nur Hit oder Stand eingeben!')\n",
    "            continue\n",
    "\n",
    "    spieler_punkte = punktzahl_berechnen(spieler_karten)\n",
    "\n",
    "    if spieler_punkte>21:\n",
    "        print('Sie haben verloren.')\n",
    "        return\n",
    "    \n",
    "    dealer_punkte = punktzahl_berechnen(dealer_karten)\n",
    "\n",
    "    print(\"Dealer Karten:\",dealer_karten)\n",
    "\n",
    "    #Dealer Schleife\n",
    "    while dealer_punkte<spieler_punkte:\n",
    "        neue_karte = random.choice(spielstappel)\n",
    "        dealer_karten.append(neue_karte)\n",
    "        print(\"Dealer Karten:\",dealer_karten)\n",
    "        dealer_punkte = punktzahl_berechnen(dealer_karten)\n",
    "\n",
    "    if dealer_punkte>21 or spieler_punkte>dealer_punkte:\n",
    "        print('Der Dealer hat verloren! Wir haben gewonnen!')\n",
    "    elif dealer_punkte==spieler_punkte:\n",
    "        print('Unentschieden!')\n",
    "    else:\n",
    "        print('Der Dealer hat gewonnen...')\n",
    "\n",
    "    return"
   ]
  },
  {
   "cell_type": "code",
   "execution_count": null,
   "id": "f94d4f96",
   "metadata": {},
   "outputs": [],
   "source": [
    "blackjack_spielen()"
   ]
  },
  {
   "cell_type": "markdown",
   "id": "cddad224",
   "metadata": {},
   "source": [
    "Parameter: Sind die platzhalter variablen in die definition der Methode. def print(values)\n",
    "Argumente: Sind echte Werte die wir die Funktion geben. Bspw. print('Hallo')"
   ]
  },
  {
   "cell_type": "code",
   "execution_count": null,
   "id": "8ae528ff",
   "metadata": {},
   "outputs": [],
   "source": [
    "def meine_erste_funktion(vorname:str, nachname:str):\n",
    "    print('Hallo')\n",
    "    print(f'Meine name ist: {vorname} {nachname}')\n",
    "    return\n",
    "\n",
    "meine_erste_funktion(\"Nicolas\",\"Arevalo\")"
   ]
  },
  {
   "cell_type": "code",
   "execution_count": null,
   "id": "3930d510",
   "metadata": {},
   "outputs": [],
   "source": [
    "def summe(values):\n",
    "    \"\"\"\n",
    "    Wir berechnen die Summe von mehrere Werte.\n",
    "\n",
    "    Args:\n",
    "        values (int/float): Eine Liste von Zahlen.\n",
    "\n",
    "    Returns:\n",
    "        int/float: Die Summe aller Zahlen.\n",
    "    \n",
    "    Raises:\n",
    "        ValueError: Eingegebener Typ ist nicht vom typ int oder float.\n",
    "    \"\"\"\n",
    "    summe = 0\n",
    "    #Wir iterieren durch alle Werte und summieren diese.\n",
    "    for value in values:\n",
    "        summe += value\n",
    "    print(summe)\n",
    "    return summe\n",
    "\n",
    "def durchschnitt(values):\n",
    "    \"\"\"\n",
    "    Berechnet das Durchschnitt von eine Liste von Werte.\n",
    "\n",
    "    Parameters\n",
    "    ----------\n",
    "    values : int/float\n",
    "        Eine Liste von Zahlen.\n",
    "\n",
    "    Returns\n",
    "    -------\n",
    "    float\n",
    "        Das durchschnitt von alle values.\n",
    "\n",
    "    Raises\n",
    "    ------\n",
    "    DivideByZeroError\n",
    "        Passiert wenn eine leere Liste eingegeben wird.\n",
    "    \"\"\"\n",
    "    return summe(values)/len(values)\n",
    "\n",
    "schnitt = durchschnitt([43,45,34,43,45,567,576,5,242,42,5,4,46])\n",
    "\n",
    "print(schnitt)\n",
    "\n",
    "print(durchschnitt([1,2,3,4,5]))"
   ]
  },
  {
   "cell_type": "code",
   "execution_count": null,
   "id": "823e6649",
   "metadata": {},
   "outputs": [],
   "source": [
    "def begruessung():\n",
    "    print('Wilkommen!')\n",
    "\n",
    "begruessung()"
   ]
  },
  {
   "cell_type": "markdown",
   "id": "4ef52dea",
   "metadata": {},
   "source": [
    "Aufgabe 1:\n",
    "Findet eure Loesung zu die Einkaufsliste Aufgabe. Konvertiere es in eine Methode.\n",
    "\n",
    "Aufgabe 2:\n",
    "Definiere eine neue Methode die wir fuer unser Blackjack spiel verwenden sollten.\n",
    "\n",
    "Aufgabe 3:\n",
    "Definiere eine neue Methode wo wir die Punktzahl von Karten berechnen. Diese Methode soll eine liste von Karten (Spieler_karten) als Parameter bekommen. Es soll dann anhand von ein dictionary: \n",
    "\n",
    "karten_werte = {\n",
    "    'bube' : 10,\n",
    "    'dame' : 10,\n",
    "    'koenig' : 10,\n",
    "    'ass' : 11\n",
    "}\n",
    "\n",
    "Berechnen, wie viele Punkte in diese liste von Karten drin sind.\n",
    "\n",
    "Bspw: ['bube',3,8] => punkte_berechnen(['bube',3,8]) => return 21"
   ]
  },
  {
   "cell_type": "code",
   "execution_count": null,
   "id": "979b73f6",
   "metadata": {},
   "outputs": [],
   "source": [
    "def einkaufsliste_erstellen():\n",
    "    \"\"\"\n",
    "    Diese Funktion erstellt eine Einkaufsliste, die vom Benutzer befuellt werden muss.\n",
    "\n",
    "    Returns:\n",
    "        list: Eine Liste mit produkte.\n",
    "\n",
    "    Raises:\n",
    "        KeyboardInterruptError: Benutzer hat esc taste gedrueckt statt quit einzutippen.\n",
    "    \"\"\"\n",
    "\n",
    "    einkaufliste = []\n",
    "    eingabe = ''\n",
    "\n",
    "    while eingabe != 'quit':\n",
    "        eingabe = input('Was moechten Sie einkaufen? (quit zum beenden) ')\n",
    "        if eingabe != 'quit':\n",
    "            einkaufliste.append(eingabe)\n",
    "\n",
    "    print('Ihre Einkaufsliste: ', einkaufliste)\n",
    "    return einkaufliste"
   ]
  },
  {
   "cell_type": "code",
   "execution_count": null,
   "id": "c3f86b9e",
   "metadata": {},
   "outputs": [],
   "source": [
    "def einkaufsliste_gesamtkosten_berechnen(einkaufsliste):\n",
    "    \"\"\"\n",
    "    Wir vergleichen die Produkte in der einkaufsliste mit die Produkte die in unser Supermarkt vorhanden sind.\n",
    "    Falls diese vorhanden sind, dann erhoehen wir den zu zahlenden Betrag.\n",
    "\n",
    "    Args:\n",
    "        einkaufsliste (str): Sind alle gewuenschte produkte.\n",
    "\n",
    "    Returns:\n",
    "        float: Die gesamtkosten.\n",
    "    \"\"\"\n",
    "\n",
    "    \n",
    "    produkte = {\n",
    "        \"Banane\" : 1.15,\n",
    "        \"Apfel\" : 0.85,\n",
    "        \"Brott\" : 1.80,\n",
    "        'Milch' : 1.10,\n",
    "        \"Eier\" : 3.40,\n",
    "        'Pasta' : 2.80,\n",
    "        'Schnitzel' : 1.60\n",
    "    }\n",
    "\n",
    "    gesamtkosten = 0\n",
    "\n",
    "    for produkt in einkaufsliste:\n",
    "        if produkt in produkte:\n",
    "            gesamtkosten += produkte[produkt]\n",
    "            print('Produkt:',produkt)\n",
    "            print(\"Preis:\",produkte[produkt])\n",
    "        else:\n",
    "            print(f'Dieses Produkt: {produkt} wird nicht in diesen Supermarkt verkauft.')\n",
    "\n",
    "    print('Deine Einkaufsliste kostet insgesamt:', gesamtkosten)\n",
    "    return gesamtkosten\n"
   ]
  },
  {
   "cell_type": "code",
   "execution_count": null,
   "id": "49c2ee1d",
   "metadata": {},
   "outputs": [],
   "source": [
    "def rechnung_erstellen():\n",
    "    return einkaufsliste_gesamtkosten_berechnen(einkaufsliste_erstellen())"
   ]
  },
  {
   "cell_type": "code",
   "execution_count": null,
   "id": "40dd5d3e",
   "metadata": {},
   "outputs": [],
   "source": [
    "nicolas_einkaufen_rechnung = rechnung_erstellen()"
   ]
  },
  {
   "cell_type": "markdown",
   "id": "09c0be8e",
   "metadata": {},
   "source": [
    "HA Collatz"
   ]
  },
  {
   "cell_type": "code",
   "execution_count": null,
   "id": "b09baeaf",
   "metadata": {},
   "outputs": [],
   "source": [
    "def collatz(n:int):\n",
    "    '''\n",
    "    Collatz ist eine funktionsweise um eine beliebige Zahl umzurechnen, damit wir eine 1 bekommen.\n",
    "\n",
    "    Args:\n",
    "        n (int): Eine Zahl die umgerechnet werden soll.\n",
    "\n",
    "    Returns:\n",
    "        (int): Die anzahl an Schritte fuer diese Berechnung.\n",
    "    '''\n",
    "    schritte = 0\n",
    "    print('Start Wert',n)\n",
    "    while n!=1:\n",
    "        if n%2==0:\n",
    "            #n = n/2\n",
    "            n /= 2\n",
    "        else:\n",
    "            n = 3*n+1\n",
    "        schritte += 1\n",
    "        print('Neuer n Wert:',n)\n",
    "    print('Es hat {0} viele Schritte gebraucht um auf die 1 zu kommen.'.format(schritte))\n",
    "    return schritte"
   ]
  },
  {
   "cell_type": "code",
   "execution_count": null,
   "id": "b81eb463",
   "metadata": {},
   "outputs": [],
   "source": [
    "collatz(12)"
   ]
  },
  {
   "cell_type": "markdown",
   "id": "05f5588e",
   "metadata": {},
   "source": [
    "HA Telefonnummer extrahieren"
   ]
  },
  {
   "cell_type": "code",
   "execution_count": null,
   "id": "61af62e2",
   "metadata": {},
   "outputs": [],
   "source": [
    "def sonderzeichen_entfernen(text:str):\n",
    "    resultat = ''\n",
    "    for zeichen in text:\n",
    "        if zeichen.isdigit():\n",
    "            resultat += zeichen\n",
    "    return resultat"
   ]
  },
  {
   "cell_type": "code",
   "execution_count": null,
   "id": "5fa369fc",
   "metadata": {},
   "outputs": [],
   "source": [
    "def vorwahl_entfernen(text:str):\n",
    "    '''\n",
    "    \n",
    "    '''\n",
    "    if len(text)==11 and text[0]=='1':\n",
    "        return text[1:]\n",
    "    elif len(text)==10:\n",
    "        return text\n",
    "    else:\n",
    "        print('Fehler: Zu viele Zahlen in dieses String.')\n",
    "        raise ValueError"
   ]
  },
  {
   "cell_type": "code",
   "execution_count": null,
   "id": "02e6403e",
   "metadata": {},
   "outputs": [],
   "source": [
    "def telefonnummer_extrahieren_v2(text:str):\n",
    "    #Zahlen Extrahieren\n",
    "    resultat = ''\n",
    "    for zeichen in text:\n",
    "        if zeichen.isdigit():\n",
    "            resultat += zeichen\n",
    "\n",
    "    #Vorwahl Entfernen\n",
    "    if len(resultat)==11 and resultat[0]=='1':\n",
    "        return resultat[1:]\n",
    "    elif len(resultat)==10:\n",
    "        return resultat\n",
    "    else:\n",
    "        print('Fehler: Zu viele Zahlen in dieses String.')\n",
    "        raise ValueError"
   ]
  },
  {
   "cell_type": "code",
   "execution_count": null,
   "id": "26fd8987",
   "metadata": {},
   "outputs": [],
   "source": [
    "def telefonnummer_extrahieren(text:str):\n",
    "    return vorwahl_entfernen(sonderzeichen_entfernen(text))"
   ]
  },
  {
   "cell_type": "code",
   "execution_count": null,
   "id": "b0477ed7",
   "metadata": {},
   "outputs": [],
   "source": [
    "telefonnummer_extrahieren_v2('1+f#$%!*$ASfasfasd613.995.0253')"
   ]
  },
  {
   "cell_type": "markdown",
   "id": "f105ed2e",
   "metadata": {},
   "source": [
    "HA Pascals Triangle"
   ]
  },
  {
   "cell_type": "code",
   "execution_count": null,
   "id": "f119c73d",
   "metadata": {},
   "outputs": [],
   "source": [
    "#5! => 5*4*3*2\n",
    "def fac(eingabe_zahl:int):\n",
    "    resultat = eingabe_zahl\n",
    "    if eingabe_zahl==0:\n",
    "        return 1\n",
    "    for zahl in range(1,eingabe_zahl):\n",
    "        #eingabe_zahl=5 => 2,3,4\n",
    "        resultat *= zahl\n",
    "        #print(\"Res:\",resultat,'Zahl:',zahl)\n",
    "    return resultat"
   ]
  },
  {
   "cell_type": "code",
   "execution_count": null,
   "id": "432edb38",
   "metadata": {},
   "outputs": [],
   "source": [
    "#n!/(r!*(n-r)!)\n",
    "def binomial_coeffizient(n:int,r:int):\n",
    "    return int(fac(n)/(fac(r)*fac(n-r)))\n",
    "\n",
    "#n=3, r=1\n"
   ]
  },
  {
   "cell_type": "code",
   "execution_count": 87,
   "id": "00b172f5",
   "metadata": {},
   "outputs": [
    {
     "name": "stdout",
     "output_type": "stream",
     "text": [
      "            1 \n",
      "           1 1 \n",
      "          1 2 1 \n",
      "         1 3 3 1 \n",
      "        1 4 6 4 1 \n",
      "       1 5 10 10 5 1 \n",
      "      1 6 15 20 15 6 1 \n",
      "     1 7 21 35 35 21 7 1 \n",
      "    1 8 28 56 70 56 28 8 1 \n",
      "   1 9 36 84 126 126 84 36 9 1 \n",
      "  1 10 45 120 210 252 210 120 45 10 1 \n",
      " 1 11 55 165 330 462 462 330 165 55 11 1 \n",
      "1 12 66 220 495 792 924 792 495 220 66 12 1 \n"
     ]
    }
   ],
   "source": [
    "def pascal_triangle(laenge):\n",
    "    for n in range(0,laenge+1):\n",
    "        print(' '*(laenge-n),end='')\n",
    "        for r in range(0,n+1):\n",
    "            print(binomial_coeffizient(n,r),end=' ')\n",
    "        print()\n",
    "\n",
    "pascal_triangle(12)"
   ]
  },
  {
   "cell_type": "code",
   "execution_count": null,
   "id": "68ed2898",
   "metadata": {},
   "outputs": [
    {
     "name": "stdout",
     "output_type": "stream",
     "text": [
      "25932960\n"
     ]
    }
   ],
   "source": [
    "#ARGS\n",
    "def produkt(*zahlen):\n",
    "    resultat = 1\n",
    "    for zahl in zahlen:\n",
    "        resultat *= zahl\n",
    "    return resultat\n",
    "\n",
    "print(produkt(3,5,2,9,4,6,2,87,23))"
   ]
  },
  {
   "cell_type": "code",
   "execution_count": 93,
   "id": "5ebe804b",
   "metadata": {},
   "outputs": [
    {
     "name": "stdout",
     "output_type": "stream",
     "text": [
      "Schueler: Hannes Note: 1\n",
      "Schueler: Maryam Note: 1\n",
      "Schueler: Nicolas Note: 3\n",
      "Schueler: Saba Note: 1\n",
      "Schueler: Rene Note: 1\n",
      "Durchschnittsnote: 1.4\n"
     ]
    }
   ],
   "source": [
    "#KWARGS\n",
    "def durchschnittsnote_berechnen(**schueler_noten):\n",
    "    summe = 0\n",
    "    for key, value in schueler_noten.items():\n",
    "        print('Schueler:',key,'Note:',value)\n",
    "        summe += value\n",
    "    print('Durchschnittsnote:',summe/len(schueler_noten))\n",
    "\n",
    "durchschnittsnote_berechnen(Hannes=1,Maryam=1,Nicolas=3,Saba=1,Rene=1)"
   ]
  },
  {
   "cell_type": "code",
   "execution_count": null,
   "id": "c0a7a1fb",
   "metadata": {},
   "outputs": [
    {
     "name": "stdout",
     "output_type": "stream",
     "text": [
      "342 567 234 76 23 76 31 76\n"
     ]
    }
   ],
   "source": [
    "def kosten_berechnen(*rest_kosten,elektro,heizung):\n",
    "    return elektro+heizung+sum(rest_kosten)\n",
    "\n",
    "kosten_berechnen(4,7,5,7,6,3,elektro=32,heizung=43)"
   ]
  },
  {
   "cell_type": "markdown",
   "id": "6ec41983",
   "metadata": {},
   "source": [
    "## Default Werte\n",
    "\n",
    "* Default Werte definieren wir als parameter mit: param = wert"
   ]
  },
  {
   "cell_type": "code",
   "execution_count": 105,
   "id": "d7b34360",
   "metadata": {},
   "outputs": [
    {
     "name": "stdout",
     "output_type": "stream",
     "text": [
      "Samantha Gracey\n",
      "Bob-5-True-*\n"
     ]
    }
   ],
   "source": [
    "def begruessung(vorname,nachname='Schmidt'):\n",
    "    print(vorname,nachname)\n",
    "\n",
    "begruessung('Samantha',nachname='Gracey')\n",
    "\n",
    "def print2(*values,trenner=' ',ende='\\n'):\n",
    "    for wert in values:\n",
    "        print(wert,sep='',end='')\n",
    "        print(trenner,sep='',end='')\n",
    "    print(ende)\n",
    "\n",
    "print2('Bob',5,True,trenner='-',ende='*')"
   ]
  },
  {
   "cell_type": "markdown",
   "id": "b4df947a",
   "metadata": {},
   "source": [
    "Aufgabe 1:\n",
    "Gegeben beliebig viele Vornamen, geben wir alle Werte in unterschiedliche Zeilen auf die Konsole aus."
   ]
  },
  {
   "cell_type": "code",
   "execution_count": 109,
   "id": "0d5ceb4e",
   "metadata": {},
   "outputs": [
    {
     "name": "stdout",
     "output_type": "stream",
     "text": [
      "Nicolas\n",
      "John\n",
      "Cena\n"
     ]
    }
   ],
   "source": [
    "def vornamen_ausgeben(*vornamen):\n",
    "    for wert in vornamen:\n",
    "        print(wert)\n",
    "\n",
    "vornamen_ausgeben('Nicolas','John','Cena')"
   ]
  },
  {
   "cell_type": "markdown",
   "id": "0201cb49",
   "metadata": {},
   "source": [
    "Aufgabe 2 Warenkorbrechner:\n",
    "\n",
    "Wir duerfen beliebig viele produkt in unser Warenkorb abspeichern.\n",
    "Wir moechten den gesamtbetrag berechnen. Hier ist auch wichtig wir haben auf alle produkt eine standard Mehrwertsteuer von 19%. \n",
    "Wenn ich aus der Schweiz komme, dann zahle ich bspw nur 10%."
   ]
  },
  {
   "cell_type": "code",
   "execution_count": null,
   "id": "a7e97512",
   "metadata": {},
   "outputs": [
    {
     "data": {
      "text/plain": [
       "378.27000000000004"
      ]
     },
     "execution_count": 1,
     "metadata": {},
     "output_type": "execute_result"
    }
   ],
   "source": [
    "def warenkorbrechner(*args, mwst=19):\n",
    "    summe = 0\n",
    "    for produkt_preis in args:\n",
    "        summe += produkt_preis\n",
    "\n",
    "    # steuer_betrag = summe * (mwst/100)\n",
    "\n",
    "    # gesamtbetrag = summe + steuer_betrag\n",
    "    \n",
    "    mwst_multiplikator = 1+(mwst/100)\n",
    "\n",
    "    gesamtbetrag = summe * mwst_multiplikator\n",
    "\n",
    "    return gesamtbetrag\n",
    "\n",
    "warenkorbrechner(43,45,32,65,76,32,3,5,56,87,23)"
   ]
  },
  {
   "cell_type": "code",
   "execution_count": 5,
   "id": "4717f23f",
   "metadata": {},
   "outputs": [
    {
     "name": "stdout",
     "output_type": "stream",
     "text": [
      "Produkt: laptop mit preis: 1200\n",
      "Aktuelle Summe: 1200\n",
      "Produkt: tisch mit preis: 150\n",
      "Aktuelle Summe: 1350\n",
      "Produkt: bilschirm mit preis: 300\n",
      "Aktuelle Summe: 1650\n",
      "Produkt: maus mit preis: 15\n",
      "Aktuelle Summe: 1665\n",
      "Produkt: tastatur mit preis: 20\n",
      "Aktuelle Summe: 1685\n",
      "Gesamtbetrag nach Steuern: 1853.5000000000002\n"
     ]
    },
    {
     "data": {
      "text/plain": [
       "1853.5000000000002"
      ]
     },
     "execution_count": 5,
     "metadata": {},
     "output_type": "execute_result"
    }
   ],
   "source": [
    "def warenkorbrechner_produkte(mwst=19,**kwargs):\n",
    "    summe = 0\n",
    "    for key,value in kwargs.items():\n",
    "        print(f\"Produkt: {key} mit preis: {value}\")\n",
    "        summe += value\n",
    "        print(\"Aktuelle Summe:\",summe)\n",
    "\n",
    "    # steuer_betrag = summe * (mwst/100)\n",
    "\n",
    "    # gesamtbetrag = summe + steuer_betrag\n",
    "    \n",
    "    mwst_multiplikator = 1 + (mwst/100)\n",
    "\n",
    "    gesamtbetrag = summe * mwst_multiplikator\n",
    "\n",
    "    print(\"Gesamtbetrag nach Steuern:\",gesamtbetrag)\n",
    "    return gesamtbetrag\n",
    "\n",
    "warenkorbrechner_produkte(mwst=10,laptop=1200,tisch=150,bilschirm=300,maus=15,tastatur=20)"
   ]
  },
  {
   "cell_type": "markdown",
   "id": "3ee55ef5",
   "metadata": {},
   "source": [
    "Aufgabe3 : Temperatur-Umrechner\n",
    "\n",
    "Szenario:\n",
    "\n",
    "Du sollst eine Funktion schreiben, die Temperaturen von Celsius in Fahrenheit oder Kelvin umwandeln kann.\n",
    "\n",
    "Aufgabe: Temperatur Umrechner\n",
    "\n",
    "Schreibe eine Funktion:\n",
    "```python\n",
    "def convert_temperature(value, to=\"fahrenheit\"):\n",
    "    \"\"\"\n",
    "    Wandelt eine Temperatur von Celsius in Fahrenheit oder Kelvin um.\n",
    "    \"\"\"\n",
    "```\n",
    "\n",
    "Anforderungen\n",
    "\n",
    "1. Der Parameter value ist die Temperatur in Celsius (float oder int).\n",
    "\n",
    "2. Der Parameter to hat einen Standardwert \"fahrenheit\".\n",
    "\t* Wenn to=\"fahrenheit\": rechne Celsius → Fahrenheit (Formel: F = C * 9/5 + 32)\n",
    "\t* Wenn to=\"kelvin\": rechne Celsius → Kelvin (Formel: K = C + 273.15)\n",
    "\t* Wenn ein anderer Wert übergeben wird, gib \"Ungültige Einheit\" zurück.\n",
    "\n",
    "3. Die Funktion soll das Ergebnis zurückgeben."
   ]
  },
  {
   "cell_type": "code",
   "execution_count": null,
   "id": "5a3fbf64",
   "metadata": {},
   "outputs": [
    {
     "name": "stdout",
     "output_type": "stream",
     "text": [
      "328.15\n"
     ]
    }
   ],
   "source": [
    "def convert_temperature(value, to=\"fahrenheit\"):\n",
    "    \"\"\"\n",
    "    Wandelt eine Temperatur von Celsius in Fahrenheit oder Kelvin um.\n",
    "    \"\"\"\n",
    "\n",
    "    if to=='fahrenheit':\n",
    "        temp = value * 9/5 + 32\n",
    "    elif to =='kelvin':\n",
    "        temp = value + 273.15\n",
    "    else:\n",
    "        print('Ungueltige Einheit')\n",
    "        return\n",
    "    \n",
    "    return temp\n",
    "\n",
    "print(convert_temperature(55,to='kelvin'))\n"
   ]
  },
  {
   "cell_type": "code",
   "execution_count": 1,
   "id": "4491c267",
   "metadata": {},
   "outputs": [
    {
     "name": "stdout",
     "output_type": "stream",
     "text": [
      "celsius to kelvin ist: 257.15\n",
      "None\n"
     ]
    }
   ],
   "source": [
    "def convert_temperature(value, to=\"fahrenheit\"):\n",
    "    \"\"\"\n",
    "      Wandelt eine Temperatur von Celsius in Fahrenheit oder Kelvin um.\n",
    " \n",
    "    \"\"\"\n",
    "    if to == \"fahrenheit\":\n",
    "        print(\"celsius to fahrenheit ist:\", value *9/5+32)\n",
    "    if to == \"kelvin\":\n",
    "        print(\"celsius to kelvin ist:\" , value+237.15)\n",
    "    else:\n",
    "        print(\"Ungültige Einheit\")\n",
    " \n",
    "print(convert_temperature(20,to='kelvin'))\n",
    " "
   ]
  },
  {
   "cell_type": "markdown",
   "id": "45b512d6",
   "metadata": {},
   "source": [
    "HA Roemische Zahlen"
   ]
  },
  {
   "cell_type": "markdown",
   "id": "e99254c3",
   "metadata": {},
   "source": [
    "Pseudocode:\n",
    "\n",
    "PROZEDUR to_roman(zahl:n)\n",
    "\n",
    "    WENN n<1 and n>3999\n",
    "        RETURN\n",
    "    ENDEWENN\n",
    "\n",
    "    dict:zeichen_mapping := {\n",
    "        1000 : M\n",
    "        500 : D\n",
    "        100 : C\n",
    "        50 : L\n",
    "        10 : X\n",
    "        5 : V\n",
    "        1 : I \n",
    "    }\n",
    "\n",
    "    string:resultat := \"\"\n",
    "\n",
    "    FÜR key IN zeichen_mapping.keys()\n",
    "        SOLANGE n >= key\n",
    "            resultat += zeichen_mapping[key]\n",
    "            n -= key\n",
    "        ENDESOLANGE\n",
    "    ENDEFÜR\n",
    "\n",
    "    GIB AUS resultat\n",
    "    RETURN resultat\n",
    "\n",
    "ENDEPROZEDUR"
   ]
  },
  {
   "cell_type": "markdown",
   "id": "7e04bbd7",
   "metadata": {},
   "source": [
    "Programmcode:"
   ]
  },
  {
   "cell_type": "code",
   "execution_count": null,
   "id": "89694b17",
   "metadata": {},
   "outputs": [],
   "source": [
    "def to_roman(n):\n",
    "\n",
    "    if n<1 or n>3999:\n",
    "        print('Ungueltige Eingabe. Die grenzen sind 1<n<3999.')\n",
    "        return\n",
    "\n",
    "    zeichen_mapping = {\n",
    "            1000 : 'M',\n",
    "            500 : 'D',\n",
    "            100 : 'C',\n",
    "            50 : 'L',\n",
    "            10 : 'X',\n",
    "            5 : 'V',\n",
    "            1 : 'I'\n",
    "    }\n",
    "    \n",
    "    print(f\"Deine Zahl als Roemische Zahl {n} = \", end='')\n",
    "    resultat = ''\n",
    "    for key in zeichen_mapping.keys():\n",
    "        while n >= key:\n",
    "            resultat += zeichen_mapping[key]\n",
    "            n -= key\n",
    "\n",
    "    print(resultat)\n",
    "    return resultat"
   ]
  },
  {
   "cell_type": "code",
   "execution_count": null,
   "id": "66b23b39",
   "metadata": {},
   "outputs": [
    {
     "name": "stdout",
     "output_type": "stream",
     "text": [
      "Deine Zahl als Roemische Zahl 35 = XXXV\n"
     ]
    },
    {
     "data": {
      "text/plain": [
       "'XXXV'"
      ]
     },
     "execution_count": 10,
     "metadata": {},
     "output_type": "execute_result"
    }
   ],
   "source": [
    "import roemischeZahlen\n",
    "\n",
    "roemischeZahlen.to_roman(35)"
   ]
  },
  {
   "cell_type": "code",
   "execution_count": 11,
   "id": "acb7fad6",
   "metadata": {},
   "outputs": [],
   "source": [
    "import pandas\n",
    "\n",
    "df_cafe = pandas.read_csv('CafeAufgabe/cafe_orders.csv')"
   ]
  },
  {
   "cell_type": "code",
   "execution_count": 12,
   "id": "d7a1ed1d",
   "metadata": {},
   "outputs": [
    {
     "data": {
      "application/vnd.microsoft.datawrangler.viewer.v0+json": {
       "columns": [
        {
         "name": "index",
         "rawType": "int64",
         "type": "integer"
        },
        {
         "name": "order_id",
         "rawType": "int64",
         "type": "integer"
        },
        {
         "name": "customer_name",
         "rawType": "object",
         "type": "string"
        },
        {
         "name": "product_name",
         "rawType": "object",
         "type": "string"
        },
        {
         "name": "quantity",
         "rawType": "int64",
         "type": "integer"
        },
        {
         "name": "unit_price",
         "rawType": "float64",
         "type": "float"
        },
        {
         "name": "status",
         "rawType": "object",
         "type": "string"
        }
       ],
       "ref": "3f3793bc-5e9e-42cb-ac65-5556ed7d5e6c",
       "rows": [
        [
         "0",
         "1001",
         "Ulla",
         "Cappuccino",
         "1",
         "3.2",
         "paid"
        ],
        [
         "1",
         "1001",
         "Ulla",
         "Hot Chocolate",
         "1",
         "3.0",
         "paid"
        ],
        [
         "2",
         "1001",
         "Ulla",
         "Americano",
         "4",
         "2.8",
         "paid"
        ],
        [
         "3",
         "1002",
         "Bob",
         "Cappuccino",
         "1",
         "3.2",
         "paid"
        ],
        [
         "4",
         "1002",
         "Bob",
         "Tea",
         "2",
         "2.0",
         "paid"
        ],
        [
         "5",
         "1003",
         "Wiebke",
         "Cappuccino",
         "1",
         "3.2",
         "paid"
        ],
        [
         "6",
         "1003",
         "Wiebke",
         "Bagel",
         "2",
         "2.4",
         "paid"
        ],
        [
         "7",
         "1003",
         "Wiebke",
         "Mocha",
         "4",
         "3.8",
         "paid"
        ],
        [
         "8",
         "1003",
         "Wiebke",
         "Muffin",
         "3",
         "2.5",
         "paid"
        ],
        [
         "9",
         "1004",
         "Henry",
         "Espresso",
         "1",
         "2.2",
         "paid"
        ],
        [
         "10",
         "1004",
         "Henry",
         "Hot Chocolate",
         "3",
         "3.0",
         "paid"
        ],
        [
         "11",
         "1004",
         "Henry",
         "Muffin",
         "3",
         "2.5",
         "paid"
        ],
        [
         "12",
         "1005",
         "Tom",
         "Bagel",
         "1",
         "2.4",
         "paid"
        ],
        [
         "13",
         "1006",
         "Max",
         "Hot Chocolate",
         "1",
         "3.0",
         "paid"
        ],
        [
         "14",
         "1006",
         "Max",
         "Croissant",
         "1",
         "2.8",
         "paid"
        ],
        [
         "15",
         "1006",
         "Max",
         "Cappuccino",
         "2",
         "3.2",
         "paid"
        ],
        [
         "16",
         "1007",
         "Yann",
         "Cappuccino",
         "1",
         "3.2",
         "paid"
        ],
        [
         "17",
         "1008",
         "Max",
         "Americano",
         "2",
         "2.8",
         "paid"
        ],
        [
         "18",
         "1008",
         "Max",
         "Croissant",
         "3",
         "2.8",
         "paid"
        ],
        [
         "19",
         "1008",
         "Max",
         "Tea",
         "1",
         "2.0",
         "paid"
        ]
       ],
       "shape": {
        "columns": 6,
        "rows": 20
       }
      },
      "text/html": [
       "<div>\n",
       "<style scoped>\n",
       "    .dataframe tbody tr th:only-of-type {\n",
       "        vertical-align: middle;\n",
       "    }\n",
       "\n",
       "    .dataframe tbody tr th {\n",
       "        vertical-align: top;\n",
       "    }\n",
       "\n",
       "    .dataframe thead th {\n",
       "        text-align: right;\n",
       "    }\n",
       "</style>\n",
       "<table border=\"1\" class=\"dataframe\">\n",
       "  <thead>\n",
       "    <tr style=\"text-align: right;\">\n",
       "      <th></th>\n",
       "      <th>order_id</th>\n",
       "      <th>customer_name</th>\n",
       "      <th>product_name</th>\n",
       "      <th>quantity</th>\n",
       "      <th>unit_price</th>\n",
       "      <th>status</th>\n",
       "    </tr>\n",
       "  </thead>\n",
       "  <tbody>\n",
       "    <tr>\n",
       "      <th>0</th>\n",
       "      <td>1001</td>\n",
       "      <td>Ulla</td>\n",
       "      <td>Cappuccino</td>\n",
       "      <td>1</td>\n",
       "      <td>3.2</td>\n",
       "      <td>paid</td>\n",
       "    </tr>\n",
       "    <tr>\n",
       "      <th>1</th>\n",
       "      <td>1001</td>\n",
       "      <td>Ulla</td>\n",
       "      <td>Hot Chocolate</td>\n",
       "      <td>1</td>\n",
       "      <td>3.0</td>\n",
       "      <td>paid</td>\n",
       "    </tr>\n",
       "    <tr>\n",
       "      <th>2</th>\n",
       "      <td>1001</td>\n",
       "      <td>Ulla</td>\n",
       "      <td>Americano</td>\n",
       "      <td>4</td>\n",
       "      <td>2.8</td>\n",
       "      <td>paid</td>\n",
       "    </tr>\n",
       "    <tr>\n",
       "      <th>3</th>\n",
       "      <td>1002</td>\n",
       "      <td>Bob</td>\n",
       "      <td>Cappuccino</td>\n",
       "      <td>1</td>\n",
       "      <td>3.2</td>\n",
       "      <td>paid</td>\n",
       "    </tr>\n",
       "    <tr>\n",
       "      <th>4</th>\n",
       "      <td>1002</td>\n",
       "      <td>Bob</td>\n",
       "      <td>Tea</td>\n",
       "      <td>2</td>\n",
       "      <td>2.0</td>\n",
       "      <td>paid</td>\n",
       "    </tr>\n",
       "    <tr>\n",
       "      <th>5</th>\n",
       "      <td>1003</td>\n",
       "      <td>Wiebke</td>\n",
       "      <td>Cappuccino</td>\n",
       "      <td>1</td>\n",
       "      <td>3.2</td>\n",
       "      <td>paid</td>\n",
       "    </tr>\n",
       "    <tr>\n",
       "      <th>6</th>\n",
       "      <td>1003</td>\n",
       "      <td>Wiebke</td>\n",
       "      <td>Bagel</td>\n",
       "      <td>2</td>\n",
       "      <td>2.4</td>\n",
       "      <td>paid</td>\n",
       "    </tr>\n",
       "    <tr>\n",
       "      <th>7</th>\n",
       "      <td>1003</td>\n",
       "      <td>Wiebke</td>\n",
       "      <td>Mocha</td>\n",
       "      <td>4</td>\n",
       "      <td>3.8</td>\n",
       "      <td>paid</td>\n",
       "    </tr>\n",
       "    <tr>\n",
       "      <th>8</th>\n",
       "      <td>1003</td>\n",
       "      <td>Wiebke</td>\n",
       "      <td>Muffin</td>\n",
       "      <td>3</td>\n",
       "      <td>2.5</td>\n",
       "      <td>paid</td>\n",
       "    </tr>\n",
       "    <tr>\n",
       "      <th>9</th>\n",
       "      <td>1004</td>\n",
       "      <td>Henry</td>\n",
       "      <td>Espresso</td>\n",
       "      <td>1</td>\n",
       "      <td>2.2</td>\n",
       "      <td>paid</td>\n",
       "    </tr>\n",
       "    <tr>\n",
       "      <th>10</th>\n",
       "      <td>1004</td>\n",
       "      <td>Henry</td>\n",
       "      <td>Hot Chocolate</td>\n",
       "      <td>3</td>\n",
       "      <td>3.0</td>\n",
       "      <td>paid</td>\n",
       "    </tr>\n",
       "    <tr>\n",
       "      <th>11</th>\n",
       "      <td>1004</td>\n",
       "      <td>Henry</td>\n",
       "      <td>Muffin</td>\n",
       "      <td>3</td>\n",
       "      <td>2.5</td>\n",
       "      <td>paid</td>\n",
       "    </tr>\n",
       "    <tr>\n",
       "      <th>12</th>\n",
       "      <td>1005</td>\n",
       "      <td>Tom</td>\n",
       "      <td>Bagel</td>\n",
       "      <td>1</td>\n",
       "      <td>2.4</td>\n",
       "      <td>paid</td>\n",
       "    </tr>\n",
       "    <tr>\n",
       "      <th>13</th>\n",
       "      <td>1006</td>\n",
       "      <td>Max</td>\n",
       "      <td>Hot Chocolate</td>\n",
       "      <td>1</td>\n",
       "      <td>3.0</td>\n",
       "      <td>paid</td>\n",
       "    </tr>\n",
       "    <tr>\n",
       "      <th>14</th>\n",
       "      <td>1006</td>\n",
       "      <td>Max</td>\n",
       "      <td>Croissant</td>\n",
       "      <td>1</td>\n",
       "      <td>2.8</td>\n",
       "      <td>paid</td>\n",
       "    </tr>\n",
       "    <tr>\n",
       "      <th>15</th>\n",
       "      <td>1006</td>\n",
       "      <td>Max</td>\n",
       "      <td>Cappuccino</td>\n",
       "      <td>2</td>\n",
       "      <td>3.2</td>\n",
       "      <td>paid</td>\n",
       "    </tr>\n",
       "    <tr>\n",
       "      <th>16</th>\n",
       "      <td>1007</td>\n",
       "      <td>Yann</td>\n",
       "      <td>Cappuccino</td>\n",
       "      <td>1</td>\n",
       "      <td>3.2</td>\n",
       "      <td>paid</td>\n",
       "    </tr>\n",
       "    <tr>\n",
       "      <th>17</th>\n",
       "      <td>1008</td>\n",
       "      <td>Max</td>\n",
       "      <td>Americano</td>\n",
       "      <td>2</td>\n",
       "      <td>2.8</td>\n",
       "      <td>paid</td>\n",
       "    </tr>\n",
       "    <tr>\n",
       "      <th>18</th>\n",
       "      <td>1008</td>\n",
       "      <td>Max</td>\n",
       "      <td>Croissant</td>\n",
       "      <td>3</td>\n",
       "      <td>2.8</td>\n",
       "      <td>paid</td>\n",
       "    </tr>\n",
       "    <tr>\n",
       "      <th>19</th>\n",
       "      <td>1008</td>\n",
       "      <td>Max</td>\n",
       "      <td>Tea</td>\n",
       "      <td>1</td>\n",
       "      <td>2.0</td>\n",
       "      <td>paid</td>\n",
       "    </tr>\n",
       "  </tbody>\n",
       "</table>\n",
       "</div>"
      ],
      "text/plain": [
       "    order_id customer_name   product_name  quantity  unit_price status\n",
       "0       1001          Ulla     Cappuccino         1         3.2   paid\n",
       "1       1001          Ulla  Hot Chocolate         1         3.0   paid\n",
       "2       1001          Ulla      Americano         4         2.8   paid\n",
       "3       1002           Bob     Cappuccino         1         3.2   paid\n",
       "4       1002           Bob            Tea         2         2.0   paid\n",
       "5       1003        Wiebke     Cappuccino         1         3.2   paid\n",
       "6       1003        Wiebke          Bagel         2         2.4   paid\n",
       "7       1003        Wiebke          Mocha         4         3.8   paid\n",
       "8       1003        Wiebke         Muffin         3         2.5   paid\n",
       "9       1004         Henry       Espresso         1         2.2   paid\n",
       "10      1004         Henry  Hot Chocolate         3         3.0   paid\n",
       "11      1004         Henry         Muffin         3         2.5   paid\n",
       "12      1005           Tom          Bagel         1         2.4   paid\n",
       "13      1006           Max  Hot Chocolate         1         3.0   paid\n",
       "14      1006           Max      Croissant         1         2.8   paid\n",
       "15      1006           Max     Cappuccino         2         3.2   paid\n",
       "16      1007          Yann     Cappuccino         1         3.2   paid\n",
       "17      1008           Max      Americano         2         2.8   paid\n",
       "18      1008           Max      Croissant         3         2.8   paid\n",
       "19      1008           Max            Tea         1         2.0   paid"
      ]
     },
     "execution_count": 12,
     "metadata": {},
     "output_type": "execute_result"
    }
   ],
   "source": [
    "df_cafe.head(20)"
   ]
  }
 ],
 "metadata": {
  "kernelspec": {
   "display_name": "Python 3",
   "language": "python",
   "name": "python3"
  },
  "language_info": {
   "codemirror_mode": {
    "name": "ipython",
    "version": 3
   },
   "file_extension": ".py",
   "mimetype": "text/x-python",
   "name": "python",
   "nbconvert_exporter": "python",
   "pygments_lexer": "ipython3",
   "version": "3.12.6"
  }
 },
 "nbformat": 4,
 "nbformat_minor": 5
}
