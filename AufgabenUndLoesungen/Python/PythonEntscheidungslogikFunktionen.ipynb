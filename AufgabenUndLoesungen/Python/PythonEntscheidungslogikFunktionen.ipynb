{
 "cells": [
  {
   "cell_type": "markdown",
   "id": "60c47442",
   "metadata": {},
   "source": [
    "## Entscheidungslogik"
   ]
  },
  {
   "cell_type": "code",
   "execution_count": null,
   "id": "49c8bc05",
   "metadata": {},
   "outputs": [
    {
     "name": "stdout",
     "output_type": "stream",
     "text": [
      "Kontotyp ungueltig.\n"
     ]
    }
   ],
   "source": [
    "kontotyp = input(\"Was fuer ein Bankkonto hast du?\")\n",
    "\n",
    "if kontotyp == 'Debitkonto':\n",
    "    print('Sie haben ein Debitkonto, der Kontostand darf nicht unter 0!')\n",
    "elif kontotyp == 'Girokonto':\n",
    "    print('Das ist ein Girokonto. Viel spass!')\n",
    "elif kontotyp == 'Kreditkonto':\n",
    "    print('Der Kontostand darf unter 0 sein. Sie muessen jedoch interest von 0.5% darauf zahlen.')\n",
    "else:\n",
    "    print('Kontotyp ungueltig.')"
   ]
  },
  {
   "cell_type": "markdown",
   "id": "b2cb1611",
   "metadata": {},
   "source": [
    "if muss mindestens einmal vorkommen in ein if-block\n",
    "\n",
    "elif darf so oft wie wir moechten definiert werden. 0 bis unendlich oft.\n",
    "\n",
    "else darf maximal 1 mal vorkommen. 0 oder 1 mal."
   ]
  },
  {
   "cell_type": "code",
   "execution_count": null,
   "id": "c8d92630",
   "metadata": {},
   "outputs": [
    {
     "name": "stdout",
     "output_type": "stream",
     "text": [
      "Sehr hohe oder niedrige Temperaturen\n",
      "Saison besteht aus eine Zeichenkette\n"
     ]
    }
   ],
   "source": [
    "saison = input('Geben Sie die Saison ein:')\n",
    "\n",
    "if saison == 'Herbst':\n",
    "    print('Es ist aktuell Herbst')\n",
    "elif saison == 'Winter':\n",
    "    print('Es ist aktuell Winter')\n",
    "\n",
    "if saison == 'Herbst' or saison == 'Fruehling':\n",
    "    print('Die regnerische Monate')\n",
    "else:\n",
    "    print('Sehr hohe oder niedrige Temperaturen')\n",
    "\n",
    "if type(saison) == str:\n",
    "    print('Saison besteht aus eine Zeichenkette')"
   ]
  },
  {
   "cell_type": "code",
   "execution_count": null,
   "id": "58daee2c",
   "metadata": {},
   "outputs": [
    {
     "name": "stdout",
     "output_type": "stream",
     "text": [
      "Validen Bezeichner\n",
      "Bestellung gueltig!\n"
     ]
    }
   ],
   "source": [
    "bestellung1 = input()\n",
    "bestellung2 = 'B10242'\n",
    "bestellung3 = 'B10243'\n",
    "\n",
    "\n",
    "if bestellung2[0:5]=='B1024':\n",
    "    print('Validen Bezeichner')\n",
    "    if len(bestellung2) == 6:\n",
    "        print('Bestellung gueltig!')\n"
   ]
  },
  {
   "cell_type": "code",
   "execution_count": null,
   "id": "ef915f6c",
   "metadata": {},
   "outputs": [
    {
     "data": {
      "text/plain": [
       "'!'"
      ]
     },
     "execution_count": 25,
     "metadata": {},
     "output_type": "execute_result"
    }
   ],
   "source": [
    "#saison = Hallo!\n",
    "#Indizes  012345\n",
    "#NegInd-  654321\n",
    "\n",
    "\n",
    "saison[-2:] == 'r!'"
   ]
  },
  {
   "cell_type": "markdown",
   "id": "babe0fe1",
   "metadata": {},
   "source": [
    "Aufgabe 1 Strings und Bedingungen.\n",
    "\n",
    "* Bestimme ob ein string der als input eingegeben wird\n",
    "* mit einem \".\" endet oder mit \"r!\".\n",
    "* Gebe True aus.\n",
    "* Zusaetzlich bestimme auch ob der string mit \"Hallo\" anfaengt.\n",
    "* Gebe True aus.\n",
    "* Wenn kein fall stimmen wuerde, gebe False aus.\n",
    "* Hinweis: ihr habt slices und indizes!\n",
    "* Hinweis2: Man darf negative Zahlen als index eingeben."
   ]
  },
  {
   "cell_type": "code",
   "execution_count": null,
   "id": "6a20b738",
   "metadata": {},
   "outputs": [
    {
     "name": "stdout",
     "output_type": "stream",
     "text": [
      "Ende Korrekt: True\n",
      "Start Korrket: True\n"
     ]
    }
   ],
   "source": [
    "eingabe = input(\"Geben Sie etwas ein: \")\n",
    "\n",
    "if eingabe[-1] == '.' or eingabe[-2:] == 'r!' or eingabe[0:5] == 'Hallo':\n",
    "    print('True')\n",
    "else:\n",
    "    print('Falsch')"
   ]
  },
  {
   "cell_type": "code",
   "execution_count": null,
   "id": "2546cf3a",
   "metadata": {},
   "outputs": [],
   "source": [
    "x1 = input(\"Gib ein Name x1 ein: \")\n",
    "if x1[-1] == \".\" or x1[-2:] == \"r!\":\n",
    "    print(\"treu\")\n",
    "elif x1[:5] == \"Hallo\":\n",
    "    print(\"Treu\")\n",
    "else:\n",
    "    print(\"false\")"
   ]
  },
  {
   "cell_type": "markdown",
   "id": "d25ac778",
   "metadata": {},
   "source": [
    "## Aufgabe 2 \n",
    "\n",
    "Beginnen Sie mit den Folgenden Code:"
   ]
  },
  {
   "cell_type": "code",
   "execution_count": null,
   "id": "f83b2a93",
   "metadata": {},
   "outputs": [
    {
     "name": "stdout",
     "output_type": "stream",
     "text": [
      "11\n"
     ]
    }
   ],
   "source": [
    "from random import *\n",
    "\n",
    "#import random\n",
    "daysUntilExpiration = randint(0,12)\n",
    "discountPercentage = 0\n",
    "\n",
    "print(daysUntilExpiration)"
   ]
  },
  {
   "cell_type": "markdown",
   "id": "fa71fd40",
   "metadata": {},
   "source": [
    "Wir programmieren jetzt mehrere Geschäftsregeln.\n",
    "\n",
    "1. Ihr Code sollte nur eine Meldung anzeigen.\n",
    "2. Wenn das Abonnement des Benutzers bzw. der Benutzerin in zehn Tagen oder weniger abläuft, zeigen Sie die folgende Meldung an:\n",
    "\tYour subscription will expire soon. Renew now!\n",
    "3. Wenn das Abonnement des Benutzers bzw. der Benutzerin in fünf Tagen oder weniger abläuft, zeigen Sie die folgenden Meldungen an:\n",
    "\tYour subscription expires in _ days.\n",
    "\tRenew now and save 10%!\n",
    "4. Wenn das Abonnement des Benutzers bzw. der Benutzerin in einem Tag abläuft, zeigen Sie die folgenden Meldungen an:\n",
    "\tYour subscription expires within a day!\n",
    "\tRenew now and save 20%!\n",
    "5. Wenn das Abonnement des Benutzers bzw. der Benutzerin abgelaufen ist, zeigen Sie die folgende Meldung an:\n",
    "\tYour subscription has expired.\n",
    "6. Wenn das Abonnement des Benutzers nicht in zehn Tagen oder weniger abläuft, zeigen Sie nichts an."
   ]
  },
  {
   "cell_type": "code",
   "execution_count": 71,
   "id": "5206db8d",
   "metadata": {},
   "outputs": [
    {
     "name": "stdout",
     "output_type": "stream",
     "text": [
      "0\n",
      "Your subscription has expired\n"
     ]
    }
   ],
   "source": [
    "from random import *\n",
    "\n",
    "#import random\n",
    "daysUntilExpiration = randint(0,12)\n",
    "discountPercentage = 0\n",
    "\n",
    "print(daysUntilExpiration)\n",
    "\n",
    "if daysUntilExpiration <= 0:\n",
    "    print('Your subscription has expired')\n",
    "elif daysUntilExpiration == 1:\n",
    "    print('Your subscription expires within a day!\\nRenew now and save 20%')\n",
    "    discountPercentage = 20\n",
    "elif daysUntilExpiration <= 5:\n",
    "    print(f'Your subscription expires in {daysUntilExpiration} days.\\n Renew now and save 10%')\n",
    "    discountPercentage = 10\n",
    "elif daysUntilExpiration <= 10:\n",
    "    print('Your subscription will expire soon. Renew now!')\n"
   ]
  },
  {
   "cell_type": "code",
   "execution_count": null,
   "id": "19e12238",
   "metadata": {},
   "outputs": [
    {
     "name": "stdout",
     "output_type": "stream",
     "text": [
      "Else fall\n"
     ]
    }
   ],
   "source": [
    "daysUntilExpiration = 53\n",
    "\n",
    "match daysUntilExpiration:\n",
    "    case 0:\n",
    "        print('Fall 0')\n",
    "    case 1:\n",
    "        print('Fall 1')\n",
    "    case _:\n",
    "        print(\"Else fall\")\n",
    "\n",
    "match daysUntilExpiration:\n",
    "    case 0:\n",
    "        print('')"
   ]
  },
  {
   "cell_type": "code",
   "execution_count": null,
   "id": "d32dea2e",
   "metadata": {},
   "outputs": [
    {
     "name": "stdout",
     "output_type": "stream",
     "text": [
      "Ungueltige eingabe\n"
     ]
    }
   ],
   "source": [
    "day_of_week = input('Welcher Tag ist es?')\n",
    "\n",
    "match day_of_week:\n",
    "    case 'Montag':\n",
    "        print('Heute startet die Arbeitswoche.')\n",
    "    case 'Dienstag':\n",
    "        print('Heute muss ich einkaufen gehen.')\n",
    "    case _:\n",
    "        print('Ungueltige eingabe')\n",
    "\n",
    "# if day_of_week == 'Montag':\n",
    "#     print()\n",
    "# elif day_of_week == 'Dienstag'"
   ]
  },
  {
   "cell_type": "markdown",
   "id": "8fc7ba6b",
   "metadata": {},
   "source": [
    "## HA Wuerfelspiel"
   ]
  },
  {
   "cell_type": "code",
   "execution_count": null,
   "id": "894a60c8",
   "metadata": {},
   "outputs": [
    {
     "name": "stdout",
     "output_type": "stream",
     "text": [
      "Summe der Wuerfel: 6 + 6 + 5 = 17\n",
      "Sie bekommen ein bonus von: 2\n",
      "Sie haben das Spiel mit 19 Punkte gewonnen!\n"
     ]
    }
   ],
   "source": [
    "from random import randint\n",
    "\n",
    "w1 = 6\n",
    "w2 = 6\n",
    "w3 = 5\n",
    "\n",
    "summe = w1+w2+w3\n",
    "\n",
    "bonuspunkte = 0\n",
    "\n",
    "if w1==w2==w3:\n",
    "    bonuspunkte = 6\n",
    "elif w1==w2 or w1==w3 or w2==w3:\n",
    "    bonuspunkte = 2\n",
    "\n",
    "print('Summe der Wuerfel: {0} + {1} + {2} = {3}'.format(w1,w2,w3,summe))\n",
    "\n",
    "summe += bonuspunkte\n",
    "\n",
    "if bonuspunkte > 0:\n",
    "    print('Sie bekommen ein bonus von:', bonuspunkte)"
   ]
  },
  {
   "cell_type": "code",
   "execution_count": null,
   "id": "1dfa131a",
   "metadata": {},
   "outputs": [
    {
     "name": "stdout",
     "output_type": "stream",
     "text": [
      "Sie haben das Spiel mit 19 Punkte gewonnen!\n",
      "Sie haben ein Auto gewonnen!\n"
     ]
    }
   ],
   "source": [
    "if summe >= 16:\n",
    "    preis = 'ein Auto'\n",
    "elif summe >= 10:\n",
    "    preis = 'neuen Laptop'\n",
    "elif summe == 7:\n",
    "    preis = 'eine Reise'\n",
    "else:\n",
    "    preis = 'ein Kätzchen'\n",
    "\n",
    "print(f'Sie haben das Spiel mit {summe} Punkte gewonnen!\\nSie haben {preis} gewonnen!')"
   ]
  },
  {
   "cell_type": "code",
   "execution_count": null,
   "id": "54bc8b29",
   "metadata": {},
   "outputs": [],
   "source": [
    "# 'admin' in 'administrator'\n",
    "\n",
    "# __contains()__:\n",
    "# 'administrator'.find('admin') != -1"
   ]
  },
  {
   "cell_type": "markdown",
   "id": "9144bfc5",
   "metadata": {},
   "source": [
    "Beginnen Sie mit den Folgenden Code:\n",
    "permission = input()\n",
    "level = 55\n",
    "\n",
    "Wir programmieren jetzt mehrere Geschäftsregeln.\n",
    "Wenn der Benutzer ein Administrator mit einer höheren Ebene als 55 ist, geben Sie die folgende Meldung aus:\n",
    "\tWelcome, Super Admin user.\n",
    "\n",
    "Wenn der Benutzer ein Administrator mit einer Ebene von 55 oder darunter ist, geben Sie die folgende Meldung aus:\n",
    "\tWelcome, Admin user.\n",
    "\n",
    "Wenn der Benutzer ein Manager mit einer Ebene von 20 oder höher ist, geben Sie die folgende Meldung aus:\n",
    "\tContact an Admin for access.\n",
    "\n",
    "Wenn der Benutzer ein Manager mit einer niedrigeren Ebene als 20 ist, geben Sie die folgende Meldung aus:\n",
    "\tYou do not have sufficient privileges.\n",
    "\t\n",
    "Wenn der Benutzer kein Administrator oder Manager ist, geben Sie die folgende Meldung aus:\n",
    "\tYou do not have sufficient privileges.\n",
    "\n",
    "Code soll ein bisschen Robust sein. D.h. Wenn der benutzer mAnaGer so schreiben wuerde, dann soll es auch stimmen.\n",
    "Zusaetzlich soll es akzeptiert werden wenn der benutzer Administrator!. Hinweis finden...\n"
   ]
  },
  {
   "cell_type": "code",
   "execution_count": null,
   "id": "30f5d8d1",
   "metadata": {},
   "outputs": [
    {
     "name": "stdout",
     "output_type": "stream",
     "text": [
      "Hier duerfen Sie sich einloggen. Geben Sie Ihr permission an:\n",
      "Welcome Admin user!\n"
     ]
    }
   ],
   "source": [
    "print('Hier duerfen Sie sich einloggen. Geben Sie Ihr permission an:')\n",
    "permission = input().lower()\n",
    "level = 55\n",
    "\n",
    "if permission.find('admin') != -1:\n",
    "    if level > 55:\n",
    "        print('Welcome super Admin user!')\n",
    "    else:\n",
    "        print('Welcome Admin user!')\n",
    "elif 'manager' in permission and level >= 20:\n",
    "    print('Contact an Admin for access')\n",
    "else:\n",
    "    print(\"You do not have sufficient privileges.\")"
   ]
  },
  {
   "cell_type": "markdown",
   "id": "3d0b3169",
   "metadata": {},
   "source": [
    "Ein Jahr ist ein Schaltjahr, wenn es durch 4 teilbar ist, aber nicht, wenn es durch 100 teilbar ist, es sei denn, es ist auch durch 400 teilbar. Zum Beispiel ist 2000 ein Schaltjahr, während 1900 kein Schaltjahr ist.\n",
    "\n",
    "* Wenn durch 4 teilbar => Schaltjahr\n",
    "* Wenn durch 4 und 100 teilbar => Kein Schaltjahr\n",
    "* Wenn durch 4 und 100 und 400 teilbar => Schaltjahr\n",
    "\n",
    "Ziel ist es ein mit input() eingegebener wert zu berechnen ob dieser ein Schaltjahr ist oder nicht.\n",
    "Bspw: Eingabe = 2000\n",
    "\n",
    "Ausgabe = 'Das Jahr 2000 ist ein Schaltjahr.'"
   ]
  },
  {
   "cell_type": "code",
   "execution_count": null,
   "id": "44c885f9",
   "metadata": {},
   "outputs": [],
   "source": [
    "jahreszahl = int(input(\"Bitte gib eine Jahreszahl ein: \"))\n",
    "\n",
    "# Ohne Verschachtelung:\n",
    "if jahreszahl % 4 == 0 and (jahreszahl % 100 != 0 or jahreszahl % 400 == 0):\n",
    "    print(f\"{jahreszahl} ist ein Schaltjahr.\")\n",
    "else:\n",
    "    print(f\"{jahreszahl} ist kein Schaltjahr.\")\n",
    "\n",
    "\n",
    "# Mit Verschachtelung:\n",
    "if jahreszahl % 4 == 0:\n",
    "    if jahreszahl % 100 == 0:\n",
    "        if jahreszahl % 400 == 0:\n",
    "            print(f\"{jahreszahl} ist ein Schaltjahr.\")\n",
    "        else:\n",
    "            print(f\"{jahreszahl} ist kein Schaltjahr.\")\n",
    "    else:\n",
    "        print(f\"{jahreszahl} ist ein Schaltjahr.\")\n",
    "else:\n",
    "    print(f\"{jahreszahl} ist kein Schaltjahr.\")"
   ]
  },
  {
   "cell_type": "markdown",
   "id": "7fc87be4",
   "metadata": {},
   "source": [
    "## Schleifen"
   ]
  },
  {
   "cell_type": "markdown",
   "id": "78e528b7",
   "metadata": {},
   "source": [
    "### While"
   ]
  },
  {
   "cell_type": "code",
   "execution_count": null,
   "id": "2c80b82c",
   "metadata": {},
   "outputs": [
    {
     "name": "stdout",
     "output_type": "stream",
     "text": [
      "Hallo 0\n",
      "Hallo 1\n",
      "Hallo 2\n",
      "Hallo 3\n",
      "Hallo 4\n",
      "Hallo 5\n",
      "Hallo 6\n",
      "Hallo 7\n",
      "Hallo 8\n",
      "Hallo 9\n",
      "Hallo 10\n",
      "Hallo 11\n",
      "Hallo 12\n",
      "Hallo 13\n",
      "Hallo 14\n",
      "Hallo 15\n",
      "Hallo 16\n",
      "Hallo 17\n",
      "Hallo 18\n",
      "Hallo 19\n",
      "Hallo 20\n",
      "Hallo 21\n",
      "Hallo 22\n",
      "Hallo 23\n",
      "Hallo 24\n",
      "Hallo 25\n",
      "Hallo 26\n",
      "Hallo 27\n",
      "Hallo 28\n",
      "Hallo 29\n",
      "Hallo 30\n",
      "Hallo 31\n",
      "Hallo 32\n",
      "Hallo 33\n",
      "Hallo 34\n",
      "Hallo 35\n",
      "Hallo 36\n",
      "Hallo 37\n",
      "Hallo 38\n",
      "Hallo 39\n",
      "Hallo 40\n",
      "Hallo 41\n",
      "Hallo 42\n",
      "Hallo 43\n",
      "Hallo 44\n",
      "Hallo 45\n",
      "Hallo 46\n",
      "Hallo 47\n",
      "Hallo 48\n",
      "Hallo 49\n",
      "Hallo 50\n",
      "Hallo 51\n",
      "Hallo 52\n",
      "Hallo 53\n",
      "Hallo 54\n",
      "Hallo 55\n",
      "Hallo 56\n",
      "Hallo 57\n",
      "Hallo 58\n",
      "Hallo 59\n",
      "Hallo 60\n",
      "Hallo 61\n",
      "Hallo 62\n",
      "Hallo 63\n",
      "Hallo 64\n",
      "Hallo 65\n",
      "Hallo 66\n",
      "Hallo 67\n",
      "Hallo 68\n",
      "Hallo 69\n",
      "Hallo 70\n",
      "Hallo 71\n",
      "Hallo 72\n",
      "Hallo 73\n",
      "Hallo 74\n",
      "Hallo 75\n",
      "Hallo 76\n",
      "Hallo 77\n",
      "Hallo 78\n",
      "Hallo 79\n",
      "Hallo 80\n",
      "Hallo 81\n",
      "Hallo 82\n",
      "Hallo 83\n",
      "Hallo 84\n",
      "Hallo 85\n",
      "Hallo 86\n",
      "Hallo 87\n",
      "Hallo 88\n",
      "Hallo 89\n",
      "Hallo 90\n",
      "Hallo 91\n",
      "Hallo 92\n",
      "Hallo 93\n",
      "Hallo 94\n",
      "Hallo 95\n",
      "Hallo 96\n",
      "Hallo 97\n",
      "Hallo 98\n",
      "Hallo 99\n",
      "Zaehler: 101\n",
      "Zaehler: 102\n",
      "Zaehler: 103\n",
      "Zaehler: 104\n",
      "Zaehler: 105\n",
      "Zaehler: 106\n",
      "Zaehler: 107\n",
      "Zaehler: 108\n",
      "Zaehler: 109\n",
      "Zaehler: 110\n",
      "Zaehler: 111\n",
      "Zaehler: 112\n",
      "Zaehler: 113\n",
      "Zaehler: 114\n",
      "Zaehler: 115\n",
      "Zaehler: 116\n",
      "Zaehler: 117\n",
      "Zaehler: 118\n",
      "Zaehler: 119\n",
      "Zaehler: 120\n",
      "Zaehler: 121\n",
      "Zaehler: 122\n",
      "Zaehler: 123\n",
      "Zaehler: 124\n",
      "Zaehler: 125\n",
      "Zaehler: 126\n",
      "Zaehler: 127\n",
      "Zaehler: 128\n",
      "Zaehler: 129\n",
      "Zaehler: 130\n",
      "Zaehler: 131\n",
      "Zaehler: 132\n",
      "Zaehler: 133\n",
      "Zaehler: 134\n",
      "Zaehler: 135\n",
      "Zaehler: 136\n",
      "Zaehler: 137\n",
      "Zaehler: 138\n",
      "Zaehler: 139\n",
      "Zaehler: 140\n",
      "Zaehler: 141\n",
      "Zaehler: 142\n",
      "Zaehler: 143\n",
      "Zaehler: 144\n",
      "Zaehler: 145\n",
      "Zaehler: 146\n",
      "Zaehler: 147\n",
      "Zaehler: 148\n",
      "Zaehler: 149\n",
      "Zaehler: 150\n",
      "Zaehler: 151\n",
      "Zaehler: 152\n",
      "Zaehler: 153\n",
      "Zaehler: 154\n",
      "Zaehler: 155\n",
      "Zaehler: 156\n",
      "Zaehler: 157\n",
      "Zaehler: 158\n",
      "Zaehler: 159\n",
      "Zaehler: 160\n",
      "Zaehler: 161\n",
      "Zaehler: 162\n",
      "Zaehler: 163\n",
      "Zaehler: 164\n",
      "Zaehler: 165\n",
      "Zaehler: 166\n",
      "Zaehler: 167\n",
      "Zaehler: 168\n",
      "Zaehler: 169\n",
      "Zaehler: 170\n",
      "Zaehler: 171\n",
      "Zaehler: 172\n",
      "Zaehler: 173\n",
      "Zaehler: 174\n",
      "Zaehler: 175\n",
      "Zaehler: 176\n",
      "Zaehler: 177\n",
      "Zaehler: 178\n",
      "Zaehler: 179\n",
      "Zaehler: 180\n",
      "Zaehler: 181\n",
      "Zaehler: 182\n",
      "Zaehler: 183\n",
      "Zaehler: 184\n",
      "Zaehler: 185\n",
      "Zaehler: 186\n",
      "Zaehler: 187\n",
      "Zaehler: 188\n",
      "Zaehler: 189\n",
      "Zaehler: 190\n",
      "Zaehler: 191\n",
      "Zaehler: 192\n",
      "Zaehler: 193\n",
      "Zaehler: 194\n",
      "Zaehler: 195\n",
      "Zaehler: 196\n",
      "Zaehler: 197\n",
      "Zaehler: 198\n",
      "Zaehler: 199\n",
      "Zaehler: 200\n",
      "Schleife wird jetzt beendet!\n",
      "Ausserhalb der schleife\n"
     ]
    }
   ],
   "source": [
    "# while bedingung:\n",
    "#     code teil\n",
    "\n",
    "#While schleife mit Zaehler als bedingung\n",
    "zaehler = 0\n",
    "while zaehler < 100:\n",
    "    print('Hallo',zaehler)\n",
    "    zaehler += 1\n",
    "\n",
    "#Schleife mit break als bedingung\n",
    "while True:\n",
    "    zaehler+=1\n",
    "    print('Zaehler:',zaehler)\n",
    "    if zaehler >= 200:\n",
    "        print('Schleife wird jetzt beendet!')\n",
    "        break\n",
    "\n",
    "print('Ausserhalb der schleife')"
   ]
  },
  {
   "cell_type": "code",
   "execution_count": null,
   "id": "ff6a9f5b",
   "metadata": {},
   "outputs": [
    {
     "name": "stdout",
     "output_type": "stream",
     "text": [
      "Ungueltige eingabe. Ein pin besteht aus 4 Zahlen.\n",
      "Gueltige Eingabe.\n",
      "Ungueltige eingabe. Ein pin besteht aus 4 Zahlen.\n"
     ]
    }
   ],
   "source": [
    "gueltige_eingabe = False\n",
    "\n",
    "while not gueltige_eingabe:\n",
    "\n",
    "    pin = input('Geben Sie bitte Ihr pin ein: ')\n",
    "\n",
    "    if len(pin)==4 and pin.isdigit():\n",
    "        gueltige_eingabe = True\n",
    "        print('Gueltige Eingabe.')\n",
    "        continue\n",
    "\n",
    "    print('Ungueltige eingabe. Ein pin besteht aus 4 Zahlen.')"
   ]
  },
  {
   "cell_type": "markdown",
   "id": "57b3b15a",
   "metadata": {},
   "source": [
    "Aufgabe 1:\n",
    "Erstelle eine Schleife mit die Summe von 1 bis 15 inklusiv.\n",
    "\n",
    "Aufgabe 2:\n",
    "Der Benutzer soll eine Eingabe eingeben mit folgende eigenschaften. Der String muss mit ein B starten und muss der laenge 10 sein. Wenn das nicht der fall ist, dann soll der Benutzer nochmal aufgefordert werden ein wert einzugeben.\n",
    "\n",
    "Aufgabe 3:\n",
    "Ein benutzer erstellt ein neuen Passwort fuer sein konto. Dieser neue Passwort muss 10 Zeichen lang sein. Es muss auch mind. 1 sonderzeichen enthalten. Wenn dies nicht der Fall dann soll ausgegeben was er tun soll um sein passwort zu verbessern und erneut gefragt werden."
   ]
  },
  {
   "cell_type": "markdown",
   "id": "057acfd6",
   "metadata": {},
   "source": [
    "Aufgabe1"
   ]
  },
  {
   "cell_type": "code",
   "execution_count": 50,
   "id": "822f1c82",
   "metadata": {},
   "outputs": [
    {
     "name": "stdout",
     "output_type": "stream",
     "text": [
      "Aktuelle summe 0 + 1 = 1\n",
      "Aktuelle summe 1 + 2 = 3\n",
      "Aktuelle summe 3 + 3 = 6\n",
      "Aktuelle summe 6 + 4 = 10\n",
      "Aktuelle summe 10 + 5 = 15\n",
      "Aktuelle summe 15 + 6 = 21\n",
      "Aktuelle summe 21 + 7 = 28\n",
      "Aktuelle summe 28 + 8 = 36\n",
      "Aktuelle summe 36 + 9 = 45\n",
      "Aktuelle summe 45 + 10 = 55\n",
      "Aktuelle summe 55 + 11 = 66\n",
      "Aktuelle summe 66 + 12 = 78\n",
      "Aktuelle summe 78 + 13 = 91\n",
      "Aktuelle summe 91 + 14 = 105\n",
      "Aktuelle summe 105 + 15 = 120\n"
     ]
    }
   ],
   "source": [
    "summe = 0\n",
    "zaehler = 1\n",
    "\n",
    "while zaehler<=15:\n",
    "    #print('Zwischen summe:',summe)\n",
    "    print(f'Aktuelle summe {summe} + {zaehler} = {summe+zaehler}')\n",
    "    summe += zaehler\n",
    "    zaehler += 1"
   ]
  },
  {
   "cell_type": "markdown",
   "id": "1beabdf2",
   "metadata": {},
   "source": [
    "Aufgabe 2"
   ]
  },
  {
   "cell_type": "code",
   "execution_count": 52,
   "id": "130e117d",
   "metadata": {},
   "outputs": [
    {
     "name": "stdout",
     "output_type": "stream",
     "text": [
      "Ungueltige Eingabe. Es muss mit B starten und 10 Zeichen lang sein.\n",
      "Ungueltige Eingabe. Es muss mit B starten und 10 Zeichen lang sein.\n",
      "Ungueltige Eingabe. Es muss mit B starten und 10 Zeichen lang sein.\n",
      "Ungueltige Eingabe. Es muss mit B starten und 10 Zeichen lang sein.\n",
      "Ungueltige Eingabe. Es muss mit B starten und 10 Zeichen lang sein.\n",
      "Ungueltige Eingabe. Es muss mit B starten und 10 Zeichen lang sein.\n",
      "Ungueltige Eingabe. Es muss mit B starten und 10 Zeichen lang sein.\n",
      "Ungueltige Eingabe. Es muss mit B starten und 10 Zeichen lang sein.\n",
      "Gueltige eingabe!\n"
     ]
    }
   ],
   "source": [
    "gueltige_eingabe = False\n",
    "\n",
    "while not gueltige_eingabe:\n",
    "    eingabe = input('Geben Sie das Bestellcode ein:')\n",
    "    if eingabe.startswith('B') and len(eingabe) == 10:\n",
    "        print('Gueltige eingabe!')\n",
    "        gueltige_eingabe = True\n",
    "        continue\n",
    "    print('Ungueltige Eingabe. Es muss mit B starten und 10 Zeichen lang sein.')"
   ]
  },
  {
   "cell_type": "markdown",
   "id": "ca4c3173",
   "metadata": {},
   "source": [
    "Aufgabe 3"
   ]
  },
  {
   "cell_type": "code",
   "execution_count": null,
   "id": "bbb2ff3e",
   "metadata": {},
   "outputs": [
    {
     "name": "stdout",
     "output_type": "stream",
     "text": [
      "Dein passwort ist zu kurz, versuchen Sie es bitte nochmal.\n",
      "Dein passwort enthaelt keine sonderzeichen. Versuchen Sie es bitte nochmal.\n",
      "Dein passwort enthaelt keine sonderzeichen. Versuchen Sie es bitte nochmal.\n",
      "Dein passwort ist zu kurz, versuchen Sie es bitte nochmal.\n",
      "Dein passwort enthaelt keine sonderzeichen. Versuchen Sie es bitte nochmal.\n",
      "Dein neuer Passwort wird jetzt gesetzt.\n"
     ]
    }
   ],
   "source": [
    "gueltiges_passwort = False\n",
    "\n",
    "while not gueltiges_passwort:\n",
    "    neuer_passwort = input('Geben Sie ihr gewuenschtes Passwort ein:')\n",
    "\n",
    "    if len(neuer_passwort) < 10:\n",
    "        print('Dein passwort ist zu kurz, versuchen Sie es bitte nochmal.')\n",
    "        continue\n",
    "    if neuer_passwort.isalnum():\n",
    "        print('Dein passwort enthaelt keine sonderzeichen. Versuchen Sie es bitte nochmal.')\n",
    "        continue\n",
    "\n",
    "    print('Dein neuer Passwort wird jetzt gesetzt.')\n",
    "    gueltiges_passwort = True"
   ]
  },
  {
   "cell_type": "code",
   "execution_count": 57,
   "id": "c6b6c808",
   "metadata": {},
   "outputs": [
    {
     "name": "stdout",
     "output_type": "stream",
     "text": [
      "ungultiges passwort, bitte erneut eingeben\n",
      "ungultiges passwort, bitte erneut eingeben\n",
      "passwort ist gultig\n"
     ]
    }
   ],
   "source": [
    "gueltiges_passwort = False\n",
    "while not gueltiges_passwort:\n",
    "    eingabe = input(\"bitte geben sie ihr passwort ein:\" )\n",
    "    if len(eingabe) >=10 and not eingabe.isalnum():\n",
    "        gueltiges_passwort = True\n",
    "        print(\"passwort ist gultig\")\n",
    "        continue\n",
    "    else:\n",
    "        print(\"ungultiges passwort, bitte erneut eingeben\")\n",
    " "
   ]
  },
  {
   "cell_type": "code",
   "execution_count": null,
   "id": "55e77f11",
   "metadata": {},
   "outputs": [],
   "source": [
    "resultat = ''\n",
    "\n",
    "resultat += 'f'"
   ]
  },
  {
   "cell_type": "markdown",
   "id": "afb1a30d",
   "metadata": {},
   "source": [
    "HA Waehrungsrechner"
   ]
  },
  {
   "cell_type": "code",
   "execution_count": 3,
   "id": "078f8335",
   "metadata": {},
   "outputs": [
    {
     "name": "stdout",
     "output_type": "stream",
     "text": [
      "============================================================\n",
      "Waehrungsrechner\n",
      "============================================================\n",
      "Sie haben folgenden Betrag eingegeben: 2000.\n",
      "Wie berechnen dein neuen Betrag in BC.\n",
      "Sie bekommen nun: 0.066 BC.\n",
      "============================================================\n"
     ]
    }
   ],
   "source": [
    "print('============================================================')\n",
    "print('Waehrungsrechner')\n",
    "print('============================================================')\n",
    "\n",
    "gueltige_waehrung = False\n",
    "gueltige_betrag = False\n",
    "\n",
    "waehrungs_liste = ['YEN', 'USD', 'GBP', 'BC']\n",
    "\n",
    "while not gueltige_waehrung:\n",
    "    waehrung = input(f'Geben Sie bitte eins der folgenden Waehrungen ein: {waehrungs_liste}').upper()\n",
    "    if waehrung in waehrungs_liste:\n",
    "        gueltige_waehrung = True\n",
    "    \n",
    "while not gueltige_betrag:\n",
    "    try:\n",
    "        betrag = int(input('Geben Sie bitte ein Betrag ein:'))\n",
    "    except ValueError:\n",
    "         print('Ungueltiger Datentyp. Bitte nur zahlen eingeben!')\n",
    "         continue\n",
    "\n",
    "    if betrag!=0:\n",
    "            gueltige_betrag = True\n",
    "\n",
    "match waehrung:\n",
    "    case 'YEN':\n",
    "          wechselkurs = 166.5\n",
    "    case 'USD':\n",
    "          wechselkurs = 1.22\n",
    "    case 'GBP':\n",
    "          wechselkurs = 0.86\n",
    "    case 'BC':\n",
    "          wechselkurs = 0.000033\n",
    "    case _:\n",
    "          print('Ungueltiger Vorgang. Es wird abgebrochen.')\n",
    "          wechselkurs = 0\n",
    "\n",
    "\n",
    "print(f'Sie haben folgenden Betrag eingegeben: {betrag}.\\nWie berechnen dein neuen Betrag in {waehrung}.')\n",
    "print(f'Sie bekommen nun: {betrag * wechselkurs} {waehrung}.')\n",
    "print('============================================================')"
   ]
  },
  {
   "cell_type": "markdown",
   "id": "196f2ea3",
   "metadata": {},
   "source": [
    "HA Zufallswortgenerieren"
   ]
  },
  {
   "cell_type": "code",
   "execution_count": 48,
   "id": "7eb99e1e",
   "metadata": {},
   "outputs": [
    {
     "name": "stdout",
     "output_type": "stream",
     "text": [
      "==============================================\n",
      "Zufallswortgenerator\n",
      "==============================================\n",
      "dFDTNdrdLhqCJSqpTutK\n",
      "==============================================\n"
     ]
    }
   ],
   "source": [
    "import random\n",
    "\n",
    "print('==============================================')\n",
    "print('Zufallswortgenerator')\n",
    "print('==============================================')\n",
    "\n",
    "zufallswort = ''\n",
    "zaehler = 0\n",
    "\n",
    "while zaehler<20:\n",
    "#zufallswort = zufallswort + str(randint(97,122))\n",
    "    if random.randint(0,1) == 0:\n",
    "        zufallswort += chr(random.randint(97,122))\n",
    "    else:\n",
    "        zufallswort += chr(random.randint(65,90))\n",
    "    #Grossbuchstabe von 65-90\n",
    "    #klein von 97-122\n",
    "    zaehler += 1\n",
    "\n",
    "print(zufallswort)\n",
    "print('==============================================')"
   ]
  },
  {
   "cell_type": "code",
   "execution_count": 61,
   "id": "bf3452dd",
   "metadata": {},
   "outputs": [
    {
     "name": "stdout",
     "output_type": "stream",
     "text": [
      "asdf\n",
      "[123, 45, 24, 253, True, 'Cool.', 2345]\n",
      "[2345, 'Cool.', True, 253, 24, 45, 123]\n",
      "[2345, 'Cool.', True, 253, 24, 45, 123, 'Python ist cool']\n"
     ]
    }
   ],
   "source": [
    "meine_liste = [123,45,24,253,True,'asdf',2345]\n",
    "#Indizes        0  1   2  3   4      5    6\n",
    "#Gesamt laenge dieser liste = 7\n",
    "print(meine_liste[5])\n",
    "\n",
    "meine_liste[5] = 'Cool.'\n",
    "\n",
    "print(meine_liste)\n",
    "\n",
    "meine_liste.reverse()\n",
    "\n",
    "print(meine_liste)\n",
    "\n",
    "meine_liste.append('Python ist cool')\n",
    "\n",
    "print(meine_liste)"
   ]
  },
  {
   "cell_type": "code",
   "execution_count": 63,
   "id": "7448f8d5",
   "metadata": {},
   "outputs": [
    {
     "name": "stdout",
     "output_type": "stream",
     "text": [
      "[2345, 9999, 'Cool.', True, 253, 24, 45, 123, 'Python ist cool', 9999]\n"
     ]
    }
   ],
   "source": [
    "meine_liste.insert(23,9999)\n",
    "\n",
    "print(meine_liste)"
   ]
  },
  {
   "cell_type": "code",
   "execution_count": 65,
   "id": "e4b76558",
   "metadata": {},
   "outputs": [
    {
     "name": "stdout",
     "output_type": "stream",
     "text": [
      "['Die Sonne scheint', 2345, 9999, 'Cool.', True, True, 253, 24, 45, 123, 'Python ist cool', 9999]\n"
     ]
    }
   ],
   "source": [
    "meine_liste.insert(4,True)\n",
    "\n",
    "print(meine_liste)"
   ]
  },
  {
   "cell_type": "code",
   "execution_count": null,
   "id": "803f0420",
   "metadata": {},
   "outputs": [
    {
     "name": "stdout",
     "output_type": "stream",
     "text": [
      "[True, 'Python ist cool', 2345, 45, 9999, 'Die Sonne scheint', 24, 123, 'Cool.', 253]\n"
     ]
    }
   ],
   "source": [
    "print(list(set(meine_liste)))"
   ]
  },
  {
   "cell_type": "code",
   "execution_count": 68,
   "id": "d67ac889",
   "metadata": {},
   "outputs": [],
   "source": [
    "meine_liste.remove('Python ist cool')"
   ]
  },
  {
   "cell_type": "code",
   "execution_count": 69,
   "id": "bbc90e22",
   "metadata": {},
   "outputs": [
    {
     "name": "stdout",
     "output_type": "stream",
     "text": [
      "['Die Sonne scheint', 2345, 9999, 'Cool.', True, True, 253, 24, 45, 123, 9999]\n"
     ]
    }
   ],
   "source": [
    "print(meine_liste)"
   ]
  },
  {
   "cell_type": "code",
   "execution_count": 70,
   "id": "6a0a0de3",
   "metadata": {},
   "outputs": [
    {
     "name": "stdout",
     "output_type": "stream",
     "text": [
      "['Die Sonne scheint', 2345, 9999, 'Cool.', True, True, 253, 24, 45, 123, 9999, 2345]\n"
     ]
    }
   ],
   "source": [
    "meine_liste.append(2345)\n",
    "\n",
    "print(meine_liste)"
   ]
  },
  {
   "cell_type": "code",
   "execution_count": null,
   "id": "b45472d2",
   "metadata": {},
   "outputs": [
    {
     "ename": "ValueError",
     "evalue": "list.remove(x): x not in list",
     "output_type": "error",
     "traceback": [
      "\u001b[1;31m---------------------------------------------------------------------------\u001b[0m",
      "\u001b[1;31mValueError\u001b[0m                                Traceback (most recent call last)",
      "Cell \u001b[1;32mIn[73], line 1\u001b[0m\n\u001b[1;32m----> 1\u001b[0m \u001b[43mmeine_liste\u001b[49m\u001b[38;5;241;43m.\u001b[39;49m\u001b[43mremove\u001b[49m\u001b[43m(\u001b[49m\u001b[38;5;241;43m123456787654323456\u001b[39;49m\u001b[43m)\u001b[49m\n",
      "\u001b[1;31mValueError\u001b[0m: list.remove(x): x not in list"
     ]
    }
   ],
   "source": [
    "meine_liste.remove(2345)"
   ]
  },
  {
   "cell_type": "code",
   "execution_count": 72,
   "id": "893c7972",
   "metadata": {},
   "outputs": [
    {
     "name": "stdout",
     "output_type": "stream",
     "text": [
      "['Die Sonne scheint', 9999, 'Cool.', True, True, 253, 24, 45, 123, 9999, 2345]\n"
     ]
    }
   ],
   "source": [
    "print(meine_liste)"
   ]
  },
  {
   "cell_type": "code",
   "execution_count": 74,
   "id": "ad0c9994",
   "metadata": {},
   "outputs": [
    {
     "data": {
      "text/plain": [
       "['a', 's', 'd', 'f', 'a', 's', 'd', 'f']"
      ]
     },
     "execution_count": 74,
     "metadata": {},
     "output_type": "execute_result"
    }
   ],
   "source": [
    "text = 'asdfasdf'\n",
    "list(text)"
   ]
  }
 ],
 "metadata": {
  "kernelspec": {
   "display_name": "Python 3",
   "language": "python",
   "name": "python3"
  },
  "language_info": {
   "codemirror_mode": {
    "name": "ipython",
    "version": 3
   },
   "file_extension": ".py",
   "mimetype": "text/x-python",
   "name": "python",
   "nbconvert_exporter": "python",
   "pygments_lexer": "ipython3",
   "version": "3.12.6"
  }
 },
 "nbformat": 4,
 "nbformat_minor": 5
}
