{
 "cells": [
  {
   "cell_type": "markdown",
   "id": "60c47442",
   "metadata": {},
   "source": [
    "## Entscheidungslogik"
   ]
  },
  {
   "cell_type": "code",
   "execution_count": 3,
   "id": "49c8bc05",
   "metadata": {},
   "outputs": [
    {
     "name": "stdout",
     "output_type": "stream",
     "text": [
      "Kontotyp ungueltig.\n"
     ]
    }
   ],
   "source": [
    "kontotyp = input(\"Was fuer ein Bankkonto hast du?\")\n",
    "\n",
    "if kontotyp == 'Debitkonto':\n",
    "    print('Sie haben ein Debitkonto, der Kontostand darf nicht unter 0!')\n",
    "elif kontotyp == 'Girokonto':\n",
    "    print('Das ist ein Girokonto. Viel spass!')\n",
    "elif kontotyp == 'Kreditkonto':\n",
    "    print('Der Kontostand darf unter 0 sein. Sie muessen jedoch interest von 0.5% darauf zahlen.')\n",
    "else:\n",
    "    print('Kontotyp ungueltig.')"
   ]
  },
  {
   "cell_type": "markdown",
   "id": "b2cb1611",
   "metadata": {},
   "source": [
    "if muss mindestens einmal vorkommen in ein if-block\n",
    "\n",
    "elif darf so oft wie wir moechten definiert werden. 0 bis unendlich oft.\n",
    "\n",
    "else darf maximal 1 mal vorkommen. 0 oder 1 mal."
   ]
  },
  {
   "cell_type": "code",
   "execution_count": null,
   "id": "c8d92630",
   "metadata": {},
   "outputs": [
    {
     "name": "stdout",
     "output_type": "stream",
     "text": [
      "Sehr hohe oder niedrige Temperaturen\n",
      "Saison besteht aus eine Zeichenkette\n"
     ]
    }
   ],
   "source": [
    "saison = input('Geben Sie die Saison ein:')\n",
    "\n",
    "if saison == 'Herbst':\n",
    "    print('Es ist aktuell Herbst')\n",
    "elif saison == 'Winter':\n",
    "    print('Es ist aktuell Winter')\n",
    "\n",
    "if saison == 'Herbst' or saison == 'Fruehling':\n",
    "    print('Die regnerische Monate')\n",
    "else:\n",
    "    print('Sehr hohe oder niedrige Temperaturen')\n",
    "\n",
    "if type(saison) == str:\n",
    "    print('Saison besteht aus eine Zeichenkette')"
   ]
  },
  {
   "cell_type": "code",
   "execution_count": null,
   "id": "58daee2c",
   "metadata": {},
   "outputs": [
    {
     "name": "stdout",
     "output_type": "stream",
     "text": [
      "Validen Bezeichner\n",
      "Bestellung gueltig!\n"
     ]
    }
   ],
   "source": [
    "bestellung1 = input()\n",
    "bestellung2 = 'B10242'\n",
    "bestellung3 = 'B10243'\n",
    "\n",
    "\n",
    "if bestellung2[0:5]=='B1024':\n",
    "    print('Validen Bezeichner')\n",
    "    if len(bestellung2) == 6:\n",
    "        print('Bestellung gueltig!')\n"
   ]
  },
  {
   "cell_type": "code",
   "execution_count": null,
   "id": "ef915f6c",
   "metadata": {},
   "outputs": [
    {
     "data": {
      "text/plain": [
       "'!'"
      ]
     },
     "execution_count": 25,
     "metadata": {},
     "output_type": "execute_result"
    }
   ],
   "source": [
    "#saison = Hallo!\n",
    "#Indizes  012345\n",
    "#NegInd-  654321\n",
    "\n",
    "\n",
    "saison[-2:] == 'r!'"
   ]
  },
  {
   "cell_type": "markdown",
   "id": "babe0fe1",
   "metadata": {},
   "source": [
    "Aufgabe 1 Strings und Bedingungen.\n",
    "\n",
    "* Bestimme ob ein string der als input eingegeben wird\n",
    "* mit einem \".\" endet oder mit \"r!\".\n",
    "* Gebe True aus.\n",
    "* Zusaetzlich bestimme auch ob der string mit \"Hallo\" anfaengt.\n",
    "* Gebe True aus.\n",
    "* Wenn kein fall stimmen wuerde, gebe False aus.\n",
    "* Hinweis: ihr habt slices und indizes!\n",
    "* Hinweis2: Man darf negative Zahlen als index eingeben."
   ]
  },
  {
   "cell_type": "code",
   "execution_count": null,
   "id": "6a20b738",
   "metadata": {},
   "outputs": [
    {
     "name": "stdout",
     "output_type": "stream",
     "text": [
      "Ende Korrekt: True\n",
      "Start Korrket: True\n"
     ]
    }
   ],
   "source": [
    "eingabe = input(\"Geben Sie etwas ein: \")\n",
    "\n",
    "if eingabe[-1] == '.' or eingabe[-2:] == 'r!':\n",
    "    print('Ende Korrekt: True')\n",
    "else:\n",
    "    print('Ende Korrket: Falsch')\n",
    "\n",
    "if eingabe[0:5] == 'Hallo':\n",
    "    print('Start Korrket: True')\n",
    "else:\n",
    "    print('Start Korrket: Falsch')"
   ]
  }
 ],
 "metadata": {
  "kernelspec": {
   "display_name": "Python 3",
   "language": "python",
   "name": "python3"
  },
  "language_info": {
   "codemirror_mode": {
    "name": "ipython",
    "version": 3
   },
   "file_extension": ".py",
   "mimetype": "text/x-python",
   "name": "python",
   "nbconvert_exporter": "python",
   "pygments_lexer": "ipython3",
   "version": "3.12.6"
  }
 },
 "nbformat": 4,
 "nbformat_minor": 5
}
