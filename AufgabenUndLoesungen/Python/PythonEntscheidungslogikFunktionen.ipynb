{
 "cells": [
  {
   "cell_type": "markdown",
   "id": "60c47442",
   "metadata": {},
   "source": [
    "## Entscheidungslogik"
   ]
  },
  {
   "cell_type": "code",
   "execution_count": null,
   "id": "49c8bc05",
   "metadata": {},
   "outputs": [],
   "source": []
  }
 ],
 "metadata": {
  "kernelspec": {
   "display_name": "Python 3",
   "language": "python",
   "name": "python3"
  },
  "language_info": {
   "name": "python",
   "version": "3.12.6"
  }
 },
 "nbformat": 4,
 "nbformat_minor": 5
}
