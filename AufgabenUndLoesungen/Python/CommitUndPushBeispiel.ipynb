{
 "cells": [
  {
   "cell_type": "markdown",
   "id": "1e5c067e",
   "metadata": {},
   "source": [
    "# Howdy"
   ]
  },
  {
   "cell_type": "code",
   "execution_count": 1,
   "id": "1214c9e7",
   "metadata": {},
   "outputs": [
    {
     "name": "stdout",
     "output_type": "stream",
     "text": [
      "Howdy\n"
     ]
    }
   ],
   "source": [
    "print('Howdy')"
   ]
  }
 ],
 "metadata": {
  "kernelspec": {
   "display_name": "Python 3",
   "language": "python",
   "name": "python3"
  },
  "language_info": {
   "codemirror_mode": {
    "name": "ipython",
    "version": 3
   },
   "file_extension": ".py",
   "mimetype": "text/x-python",
   "name": "python",
   "nbconvert_exporter": "python",
   "pygments_lexer": "ipython3",
   "version": "3.12.6"
  }
 },
 "nbformat": 4,
 "nbformat_minor": 5
}
