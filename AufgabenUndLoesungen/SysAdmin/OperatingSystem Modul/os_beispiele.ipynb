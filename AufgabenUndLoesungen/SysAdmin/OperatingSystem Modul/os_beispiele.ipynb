{
 "cells": [
  {
   "cell_type": "markdown",
   "id": "78692627",
   "metadata": {},
   "source": [
    "## OS Erste Befehle Beispiele"
   ]
  },
  {
   "cell_type": "code",
   "execution_count": 7,
   "id": "9d794f04",
   "metadata": {},
   "outputs": [
    {
     "name": "stdout",
     "output_type": "stream",
     "text": [
      "Benutzer:  nicoa\n",
      "System:  uname_result(system='Windows', node='LAPTOP-9O70Q1FG', release='11', version='10.0.26100', machine='AMD64')\n",
      "Umgebungsvariable PATH:  c:\\Python312;c:\\Users\\nicoa\\AppData\\Roaming\\Python\\Python312\\Scripts;c:\\Users\\nicoa\\AppData\\Local\\Programs\\cursor\\resources\\app\\bin;C:\\Python312\\Scripts\\;C:\\Python312\\;C:\\Python27;C:\\Program Files\\Common Files\\Oracle\\Java\\javapath;C:\\Program Files (x86)\\Common Files\\Oracle\\Java\\javapath;C:\\Windows\\system32;C:\\Windows;C:\\Windows\\System32\\Wbem;C:\\Windows\\System32\\WindowsPowerShell\\v1.0\\;C:\\Windows\\System32\\OpenSSH\\;C:\\Program Files (x86)\\NVIDIA Corporation\\PhysX\\Common;C:\\WINDOWS\\system32;C:\\WINDOWS;C:\\WINDOWS\\System32\\Wbem;C:\\WINDOWS\\System32\\WindowsPowerShell\\v1.0\\;C:\\WINDOWS\\System32\\OpenSSH\\;C:\\Program Files\\Git\\cmd;C:\\ProgramData\\chocolatey\\bin;C:\\Program Files\\OpenJDK\\openjdk-11.0.13_8\\bin;C:\\Program Files\\dotnet\\;C:\\Program Files\\Microsoft SQL Server\\Client SDK\\ODBC\\170\\Tools\\Binn\\;C:\\Program Files\\NVIDIA Corporation\\NVIDIA app\\NvDLISR;C:\\;C:\\WINDOWS\\system32;C:\\WINDOWS;C:\\WINDOWS\\System32\\Wbem;C:\\WINDOWS\\System32\\WindowsPowerShell\\v1.0\\;C:\\WINDOWS\\System32\\OpenSSH\\;C:\\Program Files\\Microsoft SQL Server\\150\\Tools\\Binn\\;C:\\xampp\\php;;C:\\Program Files\\nodejs\\;C:\\Program Files\\Docker\\Docker\\resources\\bin;C:\\Program Files (x86)\\Microsoft SQL Server\\160\\Tools\\Binn\\;C:\\Program Files\\Microsoft SQL Server\\160\\Tools\\Binn\\;C:\\Program Files\\Microsoft SQL Server\\160\\DTS\\Binn\\;C:\\Program Files (x86)\\Windows Kits\\10\\Windows Performance Toolkit\\;C:\\Users\\nicoa\\AppData\\Local\\Microsoft\\WindowsApps;C:\\Users\\nicoa\\AppData\\Local\\GitHubDesktop\\bin;C:\\Exercism;C:\\Program Files\\JetBrains\\IntelliJ IDEA Community Edition 2021.3\\bin;;C:\\Users\\nicoa\\.dotnet\\tools;C:\\Python27;C:\\Users\\nicoa\\AppData\\Roaming\\npm;C:\\Users\\nicoa\\AppData\\Local\\Programs\\mongosh\\;C:\\Users\\nicoa\\AppData\\Local\\Programs\\Microsoft VS Code\\bin;c:\\Users\\nicoa\\AppData\\Local\\Programs\\cursor\\resources\\app\\bin;C:\\Python312\\Scripts\\;C:\\Python312\\;C:\\Python27;C:\\Program Files\\Common Files\\Oracle\\Java\\javapath;C:\\Program Files (x86)\\Common Files\\Oracle\\Java\\javapath;C:\\Windows\\system32;C:\\Windows;C:\\Windows\\System32\\Wbem;C:\\Windows\\System32\\WindowsPowerShell\\v1.0\\;C:\\Windows\\System32\\OpenSSH\\;C:\\Program Files (x86)\\NVIDIA Corporation\\PhysX\\Common;C:\\WINDOWS\\system32;C:\\WINDOWS;C:\\WINDOWS\\System32\\Wbem;C:\\WINDOWS\\System32\\WindowsPowerShell\\v1.0\\;C:\\WINDOWS\\System32\\OpenSSH\\;C:\\Program Files\\Git\\cmd;C:\\ProgramData\\chocolatey\\bin;C:\\Program Files\\OpenJDK\\openjdk-11.0.13_8\\bin;C:\\Program Files\\dotnet\\;C:\\Program Files\\Microsoft SQL Server\\Client SDK\\ODBC\\170\\Tools\\Binn\\;C:\\Program Files\\NVIDIA Corporation\\NVIDIA app\\NvDLISR;C:\\;C:\\WINDOWS\\system32;C:\\WINDOWS;C:\\WINDOWS\\System32\\Wbem;C:\\WINDOWS\\System32\\WindowsPowerShell\\v1.0\\;C:\\WINDOWS\\System32\\OpenSSH\\;C:\\Program Files\\Microsoft SQL Server\\150\\Tools\\Binn\\;C:\\xampp\\php;;C:\\Program Files\\nodejs\\;C:\\Program Files\\Docker\\Docker\\resources\\bin;C:\\Program Files (x86)\\Microsoft SQL Server\\160\\Tools\\Binn\\;C:\\Program Files\\Microsoft SQL Server\\160\\Tools\\Binn\\;C:\\Program Files\\Microsoft SQL Server\\160\\DTS\\Binn\\;C:\\Program Files (x86)\\Windows Kits\\10\\Windows Performance Toolkit\\;C:\\Users\\nicoa\\AppData\\Local\\Microsoft\\WindowsApps;C:\\Users\\nicoa\\AppData\\Local\\GitHubDesktop\\bin;C:\\Exercism;C:\\Program Files\\JetBrains\\IntelliJ IDEA Community Edition 2021.3\\bin;;C:\\Users\\nicoa\\.dotnet\\tools;C:\\Python27;C:\\Users\\nicoa\\AppData\\Roaming\\npm;C:\\Users\\nicoa\\AppData\\Local\\Programs\\mongosh\\;C:\\Users\\nicoa\\AppData\\Local\\Programs\\Microsoft VS Code\\bin\n",
      "Benutzergruppen: LAPTOP-9O70Q1FG\\nicoa\n"
     ]
    }
   ],
   "source": [
    "import os\n",
    "import platform\n",
    "import win32api\n",
    "\n",
    "#Benutzername\n",
    "print('Benutzer: ',os.getlogin())\n",
    "\n",
    "#OS-Informationen\n",
    "print('System: ', platform.uname())\n",
    "\n",
    "#Umgebungsvariablen\n",
    "print('Umgebungsvariable PATH: ', os.getenv('PATH'))\n",
    "\n",
    "#Gruppeninformationen\n",
    "user = os.getlogin()\n",
    "groups = win32api.GetUserNameEx(win32api.NameSamCompatible)\n",
    "print('Benutzergruppen:', groups)"
   ]
  },
  {
   "cell_type": "code",
   "execution_count": null,
   "id": "e164d4e1",
   "metadata": {},
   "outputs": [
    {
     "name": "stdout",
     "output_type": "stream",
     "text": [
      "Verzeichnis Files existiert schon\n"
     ]
    },
    {
     "data": {
      "text/plain": [
       "['Aktivitaetsdiagramme',\n",
       " 'Flussdiagramme',\n",
       " 'Ganttdiagramme',\n",
       " 'Pseudocode',\n",
       " 'Python',\n",
       " 'Struktogramme',\n",
       " 'UserStoryUndUseCase']"
      ]
     },
     "execution_count": 12,
     "metadata": {},
     "output_type": "execute_result"
    }
   ],
   "source": [
    "#Bekommt aktuelles arbeitsverzeichnis\n",
    "os.getcwd()\n",
    "\n",
    "#In unser aktueller arbeitsverzeichnis wird ein Verzeichnis mit den namen Files erstellt.\n",
    "try:   \n",
    "    os.mkdir('./Files')\n",
    "except FileExistsError:\n",
    "    print('Verzeichnis Files existiert schon')"
   ]
  },
  {
   "cell_type": "code",
   "execution_count": null,
   "id": "9843da58",
   "metadata": {},
   "outputs": [],
   "source": [
    "os.chdir('C:/Users/nicoa/Desktop/TQ5Juli')"
   ]
  },
  {
   "cell_type": "code",
   "execution_count": 21,
   "id": "984c6859",
   "metadata": {},
   "outputs": [
    {
     "data": {
      "text/plain": [
       "'C:\\\\Users\\\\nicoa\\\\Desktop\\\\TQ5Juli'"
      ]
     },
     "execution_count": 21,
     "metadata": {},
     "output_type": "execute_result"
    }
   ],
   "source": [
    "os.getcwd()"
   ]
  },
  {
   "cell_type": "code",
   "execution_count": 23,
   "id": "0d4150a1",
   "metadata": {},
   "outputs": [
    {
     "data": {
      "text/plain": [
       "['.git',\n",
       " '.gitignore',\n",
       " '.venv',\n",
       " '.vscode',\n",
       " 'Aufgabe1_2025-08-18.py',\n",
       " 'AufgabenUndLoesungen',\n",
       " 'PythonErsteModule24Juli',\n",
       " 'Wiki',\n",
       " '__pycache__']"
      ]
     },
     "execution_count": 23,
     "metadata": {},
     "output_type": "execute_result"
    }
   ],
   "source": [
    "os.listdir()"
   ]
  },
  {
   "cell_type": "code",
   "execution_count": null,
   "id": "6a9b6c12",
   "metadata": {},
   "outputs": [],
   "source": [
    "#Wechselt in das Verzeichnis mit den namen ordnerName\n",
    "os.chdir('ordnerName')\n",
    "\n",
    "#Listet alle Dateien und Verzeichnisse im aktuellen Verzeichnis auf\n",
    "os.listdir()\n",
    "\n",
    "#Aktuelles Arbeitsverzeichnis\n",
    "os.getcwd()\n",
    "\n",
    "#Löscht das Verzeichnis mit den namen ordnerName\n",
    "os.rmdir('ordnerName')\n",
    "\n",
    "#Erstellt ein Verzeichnis mit den namen ordnerName\n",
    "os.mkdir('ordnerName')\n",
    "\n",
    "#Aktuellen Benutzer\n",
    "os.getlogin()"
   ]
  },
  {
   "cell_type": "markdown",
   "id": "8beae239",
   "metadata": {},
   "source": [
    "Aufgabe 1:"
   ]
  },
  {
   "cell_type": "code",
   "execution_count": 26,
   "id": "db1ff898",
   "metadata": {},
   "outputs": [
    {
     "name": "stdout",
     "output_type": "stream",
     "text": [
      "Aktuelles Arbeitsverzeichnis: C:\\Users\\nicoa\\Desktop\\TQ5Juli\n"
     ]
    }
   ],
   "source": [
    "aktuelles_verzeichnis = os.getcwd()\n",
    " \n",
    "print(\"Aktuelles Arbeitsverzeichnis:\", aktuelles_verzeichnis)"
   ]
  },
  {
   "cell_type": "markdown",
   "id": "7177f566",
   "metadata": {},
   "source": [
    "Aufgabe 2:"
   ]
  },
  {
   "cell_type": "code",
   "execution_count": null,
   "id": "6e756398",
   "metadata": {},
   "outputs": [
    {
     "name": "stdout",
     "output_type": "stream",
     "text": [
      "Ordner '4_september' wurde erstellt.\n",
      "Ordner '4_september' wurde gelöscht.\n"
     ]
    }
   ],
   "source": [
    "\n",
    "\n",
    "ordner_name = \"4_september\"\n",
    " \n",
    "try:\n",
    "    os.mkdir(ordner_name)\n",
    "    print(f\"Ordner '{ordner_name}' wurde erstellt.\")\n",
    "except FileExistsError:\n",
    "    print(f\"Ordner '{ordner_name}' existiert bereits.\")\n",
    " \n",
    "os.rmdir(ordner_name)\n",
    "print(f\"Ordner '{ordner_name}' wurde gelöscht.\")"
   ]
  },
  {
   "cell_type": "markdown",
   "id": "d0279fc8",
   "metadata": {},
   "source": [
    "Aufgabe 3:"
   ]
  },
  {
   "cell_type": "code",
   "execution_count": 24,
   "id": "fe609d05",
   "metadata": {},
   "outputs": [
    {
     "name": "stdout",
     "output_type": "stream",
     "text": [
      "Aktuell angemeldeter Benutzer: nicoa\n"
     ]
    }
   ],
   "source": [
    "benutzer = os.getlogin()\n",
    " \n",
    "print(\"Aktuell angemeldeter Benutzer:\", benutzer)"
   ]
  }
 ],
 "metadata": {
  "kernelspec": {
   "display_name": "Python 3",
   "language": "python",
   "name": "python3"
  },
  "language_info": {
   "codemirror_mode": {
    "name": "ipython",
    "version": 3
   },
   "file_extension": ".py",
   "mimetype": "text/x-python",
   "name": "python",
   "nbconvert_exporter": "python",
   "pygments_lexer": "ipython3",
   "version": "3.12.6"
  }
 },
 "nbformat": 4,
 "nbformat_minor": 5
}
