{
 "cells": [
  {
   "cell_type": "code",
   "execution_count": null,
   "id": "56595362",
   "metadata": {},
   "outputs": [],
   "source": [
    "import subprocess as subp\n",
    "import os"
   ]
  },
  {
   "cell_type": "code",
   "execution_count": null,
   "id": "1ee92747",
   "metadata": {},
   "outputs": [],
   "source": [
    "\n",
    "#os.system => fuehre ein Befehl in die Shell aus\n",
    "#subprocess.run => fuehre ein Befehl in die Shell aus\n",
    "subp.run(['net', 'user', 'bob', 'smith', '/add'], shell=True)\n",
    "\n",
    "os.system('net user bob smith /add')"
   ]
  },
  {
   "cell_type": "code",
   "execution_count": null,
   "id": "a7fa0111",
   "metadata": {},
   "outputs": [],
   "source": [
    "os.system('python --version')\n",
    "subp.run(['python', '--version'])"
   ]
  },
  {
   "cell_type": "markdown",
   "id": "3f088968",
   "metadata": {},
   "source": [
    "## Benutzer erstellen"
   ]
  },
  {
   "cell_type": "code",
   "execution_count": null,
   "id": "8eb62d43",
   "metadata": {},
   "outputs": [],
   "source": [
    "import subprocess\n",
    "\n",
    "def new_user():\n",
    "    confirm = \"N\"\n",
    "    while confirm != \"Y\":\n",
    "        username = input(\"Gib den Namen des hinzuzufügenden Benutzers ein: \")\n",
    "        print(f\"Den Benutzernamen '{username}' verwenden? (Y/N)\")\n",
    "        confirm = input().upper()\n",
    "    try:\n",
    "          # 'Passwort123' is just a placeholder, set a real password\n",
    "          subprocess.run([\"net\", \"user\", username, \"Passwort123\", \"/add\"], check=True, shell=True)\n",
    "          print(f\"Benutzer '{username}' wurde erfolgreich angelegt.\")\n",
    "    except subprocess.CalledProcessError:\n",
    "          print(\"Fehler beim Anlegen des Benutzers. Vielleicht existiert er schon oder es fehlen Rechte.\")\n",
    "\n",
    "if __name__ == \"__main__\":\n",
    "    new_user()"
   ]
  },
  {
   "cell_type": "markdown",
   "id": "363b59ec",
   "metadata": {},
   "source": [
    "## Benutzer entfernen"
   ]
  },
  {
   "cell_type": "code",
   "execution_count": null,
   "id": "b0eacbc0",
   "metadata": {},
   "outputs": [],
   "source": [
    "def del_user():\n",
    "    confirm = \"N\"\n",
    "    while confirm != \"Y\":\n",
    "        username = input(\"Gib den Namen des zu löschenden Benutzers ein: \")\n",
    "        print(f\"Den Benutzernamen '{username}' verwenden? (Y/N)\")\n",
    "        confirm = input().upper()\n",
    "    subprocess.run([\"net\",\"user\"])\n",
    "    try:\n",
    "          # 'Passwort123' is just a placeholder, set a real password\n",
    "          subprocess.run([\"net\", \"user\", username, \"/delete\"], check=True, shell=True)\n",
    "          print(f\"Benutzer '{username}' wurde erfolgreich gelöscht.\")\n",
    "    except subprocess.CalledProcessError:\n",
    "          print(\"Fehler beim Loeschen des Benutzers. Vielleicht existiert er schon oder es fehlen Rechte.\")\n",
    "\n",
    "if __name__ == \"__main__\":\n",
    "    del_user()"
   ]
  },
  {
   "cell_type": "markdown",
   "id": "16a9701a",
   "metadata": {},
   "source": [
    "## Benutzer zu Gruppen Hinzufuegen Linux Variante"
   ]
  },
  {
   "cell_type": "code",
   "execution_count": null,
   "id": "a2ec4601",
   "metadata": {},
   "outputs": [],
   "source": [
    "import subprocess\n",
    "\n",
    "def benutzer_zur_gruppe_hinzufuegen():\n",
    "    benutzername = input(\"Gib den Namen des Benutzers ein, den du zu einer Gruppe hinzufügen möchtest: \")\n",
    "    output = subprocess.Popen('groups', stdout=subprocess.PIPE).communicate()[0]\n",
    "\n",
    "    print(\"Gib eine Liste von Gruppen ein, zu denen der Benutzer hinzugefügt werden soll\")\n",
    "    print(\"Die Liste sollte durch Leerzeichen getrennt sein, z. B.:\\r\\n gruppe1 gruppe2 gruppe3\")\n",
    "    print(\"Verfügbare Gruppen sind:\\r\\n \" + output.decode())\n",
    "\n",
    "    ausgewaehlteGruppen = str(input(\"Groups: \"))\n",
    "\n",
    "    output = output.split(\" \")\n",
    "\n",
    "    #Vor Split:  \"gruppe1 gruppe2 gruppe3\"\n",
    "    #Nach Split: [\"gruppe1\", \"gruppe2\", \"gruppe3\"]\n",
    "    ausgewaehlteGruppen = ausgewaehlteGruppen.split(\" \")\n",
    "\n",
    "    print(\"Hinzufügen zu:\")\n",
    "    gefunden = True\n",
    "    gruppenString = \"\"\n",
    "    for grp in ausgewaehlteGruppen:\n",
    "        for vorhandeneGruppe in output:\n",
    "            if grp == vorhandeneGruppe:\n",
    "                gefunden = True\n",
    "                print(\"- Vorhandene Gruppe: \" + grp)\n",
    "                gruppenString = gruppenString + grp + \",\"\n",
    "        if gefunden == False:\n",
    "            print(\"- Neue Gruppe: \" + grp)\n",
    "            gruppenString = gruppenString + grp + \",\"\n",
    "        else:\n",
    "            gefunden = False\n",
    "    gruppenString = gruppenString[:-1] + \" \"\n",
    "    bestaetigung = \"\"\n",
    "    while bestaetigung != \"Y\" and bestaetigung != \"N\":\n",
    "        print(\"Benutzer '\" + benutzername + \"' zu diesen Gruppen hinzufügen? (Y/N)\")\n",
    "        bestaetigung = input().upper()\n",
    "    if bestaetigung == \"N\":\n",
    "        print(\"Benutzer '\" + benutzername + \"' wurde nicht hinzugefügt\")\n",
    "    elif bestaetigung == \"Y\":\n",
    "        os.system(\"sudo usermod -aG \" + gruppenString + benutzername)\n",
    "        #subprocess.run([\"newgrp\", gruppenString + benutzername])\n",
    "        print(\"Benutzer '\" + benutzername + \"' wurde hinzugefügt\")\n"
   ]
  },
  {
   "cell_type": "markdown",
   "id": "8b9dcc4d",
   "metadata": {},
   "source": [
    "## Benutzer zu Gruppe hinzufuegen Windows Variante"
   ]
  },
  {
   "cell_type": "code",
   "execution_count": null,
   "id": "477e5039",
   "metadata": {},
   "outputs": [],
   "source": [
    "import subprocess\n",
    "def benutzer_zur_gruppe_hinzufuegen():\n",
    "    # Benutzername abfragen\n",
    "    benutzername = input(\"Gib den Namen des Benutzers ein, den du zu einer Gruppe hinzufügen möchtest: \")\n",
    "    # PowerShell-Befehl zum Abrufen aller lokalen Gruppen\n",
    "    get_groups_command = \"Get-LocalGroup | Select-Object -ExpandProperty Name\"\n",
    "    result = subprocess.run([\"powershell\", \"-Command\", get_groups_command], capture_output=True, text=True)\n",
    "    output = result.stdout.strip().splitlines()  # Liste der vorhandenen Gruppen\n",
    "    # Gruppenliste vom Benutzer abfragen\n",
    "    print(\"Gib eine Liste von Gruppen ein, zu denen der Benutzer hinzugefügt werden soll\")\n",
    "    print(\"Die Liste sollte durch Leerzeichen getrennt sein, z. B.: gruppe1 gruppe2 gruppe3\")\n",
    "    print(\"Verfügbare Gruppen sind:\\n\" + \"\\n\".join(output))\n",
    "    ausgewaehlteGruppen = input(\"Gruppen: \").split()\n",
    "    print(\"Hinzufügen zu:\")\n",
    "    gruppenString = \"\"\n",
    "    for grp in ausgewaehlteGruppen:\n",
    "        if grp in output:\n",
    "            print(\"- Vorhandene Gruppe: \" + grp)\n",
    "        else:\n",
    "            print(\"- Neue Gruppe: \" + grp)\n",
    "        gruppenString += grp + \" \"\n",
    "    # Bestätigung abfragen\n",
    "    bestaetigung = \"\"\n",
    "    while bestaetigung != \"Y\" and bestaetigung != \"N\":\n",
    "        print(f\"Benutzer '{benutzername}' zu diesen Gruppen hinzufügen? (Y/N)\")\n",
    "        bestaetigung = input().upper()\n",
    "    if bestaetigung == \"N\":\n",
    "        print(f\"Benutzer '{benutzername}' wurde nicht hinzugefügt\")\n",
    "    elif bestaetigung == \"Y\":\n",
    "        # Benutzer zu jeder Gruppe hinzufügen\n",
    "        for grp in ausgewaehlteGruppen:\n",
    "            add_command = f\"Add-LocalGroupMember -Group '{grp}' -Member '{benutzername}'\"\n",
    "            subprocess.run([\"powershell\", \"-Command\", add_command], shell=True)\n",
    "        print(f\"Benutzer '{benutzername}' wurde hinzugefügt\")"
   ]
  }
 ],
 "metadata": {
  "kernelspec": {
   "display_name": "Python 3",
   "language": "python",
   "name": "python3"
  },
  "language_info": {
   "codemirror_mode": {
    "name": "ipython",
    "version": 3
   },
   "file_extension": ".py",
   "mimetype": "text/x-python",
   "name": "python",
   "nbconvert_exporter": "python",
   "pygments_lexer": "ipython3",
   "version": "3.12.6"
  }
 },
 "nbformat": 4,
 "nbformat_minor": 5
}
