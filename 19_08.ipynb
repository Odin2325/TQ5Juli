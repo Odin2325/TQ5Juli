{
 "cells": [
  {
   "cell_type": "code",
   "execution_count": null,
   "id": "a6bf3b92",
   "metadata": {},
   "outputs": [],
   "source": [
    "Jahr = 1999\n",
    "\n",
    "\n",
    "if (Jahr % 4 == 0 and Jahr % 100 != 0) or (Jahr % 400 == 0):\n",
    "    print(\"Das Jahr \", Jahr,\" ist ein Schaltjahr\")\n",
    "\n",
    "else:\n",
    "    print(\"Das Jahr \", Jahr,\" ist kein Schaltjahr\")"
   ]
  }
 ],
 "metadata": {
  "kernelspec": {
   "display_name": "Python 3",
   "language": "python",
   "name": "python3"
  },
  "language_info": {
   "name": "python",
   "version": "3.13.5"
  }
 },
 "nbformat": 4,
 "nbformat_minor": 5
}
