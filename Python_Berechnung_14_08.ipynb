{
 "cells": [
  {
   "cell_type": "code",
   "execution_count": 15,
   "id": "0ea7a37e",
   "metadata": {},
   "outputs": [
    {
     "name": "stdout",
     "output_type": "stream",
     "text": [
      "Fläche (A1): 85.0\n",
      "Distanz mit 6,4 (d): 5.220153254455275\n",
      "Distanz mit 54,4 (d): 53.02122216622322\n"
     ]
    }
   ],
   "source": [
    "# Berechnungen\n",
    "\n",
    "h = 10 \n",
    "b = 17 \n",
    "\n",
    "\n",
    "A1 = 0.5 * b * h\n",
    "\n",
    "\n",
    "print(\"Fläche (A1):\", A1)\n",
    "\n",
    "\n",
    "\n",
    "import math\n",
    "\n",
    "\n",
    "x1, y1 = 1, 2.5  \n",
    "x2, y2 = 6, 4    \n",
    "\n",
    "\n",
    "d = math.sqrt((x1 - x2)**2 + (y1 - y2)**2)\n",
    "\n",
    "\n",
    "print(\"Distanz mit 6,4 (d):\", d)\n",
    "\n",
    "x1, y1 = 1, 2.5  \n",
    "x2, y2 = 54, 4    \n",
    "\n",
    "\n",
    "d = math.sqrt((x1 - x2)**2 + (y1 - y2)**2)\n",
    "\n",
    "\n",
    "print(\"Distanz mit 54,4 (d):\", d)\n",
    "\n"
   ]
  },
  {
   "cell_type": "code",
   "execution_count": 20,
   "id": "99ab8598",
   "metadata": {},
   "outputs": [
    {
     "name": "stdout",
     "output_type": "stream",
     "text": [
      "----------------------------\n",
      "ZinseszinsBerechnung\n",
      "----------------------------\n",
      "Wir starten mit 3.000€ als Start-Kapital über 35 Jahre mit einem Zinsatz von 3,5%\n",
      "----------------------------\n",
      "Endkapital: 9668.077236463741\n"
     ]
    }
   ],
   "source": [
    "\n",
    "K0 = 3000   \n",
    "p = 3.4    \n",
    "n = 35     \n",
    "\n",
    "Kn = K0 * (1 + p/100)**n\n",
    "print(\"----------------------------\")\n",
    "print(\"ZinseszinsBerechnung\")\n",
    "print(\"----------------------------\")\n",
    "print(\"Wir starten mit 3.000€ als Start-Kapital über 35 Jahre mit einem Zinsatz von 3,5%\")\n",
    "print(\"----------------------------\")\n",
    "\n",
    "\n",
    "print(\"Endkapital:\", Kn)\n"
   ]
  },
  {
   "cell_type": "code",
   "execution_count": 25,
   "id": "82c8face",
   "metadata": {},
   "outputs": [
    {
     "name": "stdout",
     "output_type": "stream",
     "text": [
      "----------------------------\n",
      "ZinseszinsBerechnung\n",
      "----------------------------\n",
      "Wir starten mit  100000.0  als Start-Kapital über  50  Jahre mit einem Zinsatz von 3,5%\n",
      "----------------------------\n",
      "Endkapital: 532141.2652620265\n"
     ]
    }
   ],
   "source": [
    "\n",
    "K0 = float(input(\"Anfangskapital eingeben: \"))\n",
    "p = 3.4    \n",
    "n = int(input(\"Laufzeit eingeben: \"))\n",
    "\n",
    "Kn = K0 * (1 + p/100)**n\n",
    "print(\"----------------------------\")\n",
    "print(\"ZinseszinsBerechnung\")\n",
    "print(\"----------------------------\")\n",
    "print(\"Wir starten mit \", K0, \" als Start-Kapital über \", n,\" Jahre mit einem Zinsatz von 3,5%\")\n",
    "print(\"----------------------------\")\n",
    "\n",
    "\n",
    "print(\"Endkapital:\", Kn)\n"
   ]
  },
  {
   "cell_type": "code",
   "execution_count": null,
   "id": "0de2b434",
   "metadata": {},
   "outputs": [],
   "source": []
  }
 ],
 "metadata": {
  "kernelspec": {
   "display_name": "Python 3",
   "language": "python",
   "name": "python3"
  },
  "language_info": {
   "codemirror_mode": {
    "name": "ipython",
    "version": 3
   },
   "file_extension": ".py",
   "mimetype": "text/x-python",
   "name": "python",
   "nbconvert_exporter": "python",
   "pygments_lexer": "ipython3",
   "version": "3.11.9"
  }
 },
 "nbformat": 4,
 "nbformat_minor": 5
}
