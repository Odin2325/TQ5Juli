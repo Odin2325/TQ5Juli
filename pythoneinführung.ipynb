{
 "cells": [
  {
   "cell_type": "markdown",
   "id": "d59fdf1d",
   "metadata": {},
   "source": [
    "# Python Einfürung\n",
    "## Unterrtitel\n",
    "### kleiner"
   ]
  },
  {
   "cell_type": "code",
   "execution_count": 4,
   "id": "36b2abf0",
   "metadata": {},
   "outputs": [
    {
     "name": "stdout",
     "output_type": "stream",
     "text": [
      "Hallo, Welt!\n"
     ]
    }
   ],
   "source": [
    "# Diese Methode schreibt \"HAllo, Welt\" in die Konsole.\n",
    "print(\"Hallo, Welt!\")"
   ]
  },
  {
   "cell_type": "markdown",
   "id": "96842e88",
   "metadata": {},
   "source": [
    "# Variablen"
   ]
  },
  {
   "cell_type": "code",
   "execution_count": 6,
   "id": "a6ade5dd",
   "metadata": {},
   "outputs": [],
   "source": [
    "# Vairable\n",
    "alter = 25\n",
    "name = 'Nicolas'"
   ]
  },
  {
   "cell_type": "code",
   "execution_count": 7,
   "id": "dfd3acf0",
   "metadata": {},
   "outputs": [
    {
     "name": "stdout",
     "output_type": "stream",
     "text": [
      "Nicolas\n"
     ]
    }
   ],
   "source": [
    "print(name)"
   ]
  }
 ],
 "metadata": {
  "kernelspec": {
   "display_name": "Python 3",
   "language": "python",
   "name": "python3"
  },
  "language_info": {
   "codemirror_mode": {
    "name": "ipython",
    "version": 3
   },
   "file_extension": ".py",
   "mimetype": "text/x-python",
   "name": "python",
   "nbconvert_exporter": "python",
   "pygments_lexer": "ipython3",
   "version": "3.13.5"
  }
 },
 "nbformat": 4,
 "nbformat_minor": 5
}
