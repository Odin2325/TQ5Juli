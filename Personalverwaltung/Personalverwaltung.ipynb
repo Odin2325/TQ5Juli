{
 "cells": [
  {
   "cell_type": "markdown",
   "id": "20e1bfc6",
   "metadata": {},
   "source": [
    "Aufgabenstellung: Konsolenprogramm zur Personaldatenverwaltung mit\n",
    "Datenbankanbindung\n",
    "Ziel:\n",
    "Entwickeln Sie ein Konsolenprogramm zur Erfassung und Verwaltung von\n",
    "Personaldaten. Die Daten sollen über die Konsole eingegeben und in einer Datenbank\n",
    "gespeichert sowie wieder ausgelesen werden können."
   ]
  },
  {
   "cell_type": "markdown",
   "id": "7518c8bc",
   "metadata": {},
   "source": [
    "Funktionale Anforderungen:\n",
    "1. Datenerfassung über die Konsole:\n",
    "o Das Programm soll den Benutzer auffordern, folgende Daten einzugeben:\n",
    "▪ Vorname\n",
    "▪ Nachname\n",
    "▪ Geburtsdatum (Format: TT.MM.JJJJ)\n",
    "▪ Anschrift\n",
    "▪ Körpergröße (in cm)\n",
    "▪ Augenfarbe"
   ]
  },
  {
   "cell_type": "code",
   "execution_count": null,
   "id": "b0bfc214",
   "metadata": {},
   "outputs": [],
   "source": [
    "import datetime\n",
    "import sqlite3\n",
    "\n",
    "\n",
    "DB_NAME = \"personen.db\"\n",
    " \n",
    "# --- Datenbank einrichten ---\n",
    "def init_db():\n",
    "    conn = sqlite3.connect(DB_NAME)\n",
    "    cursor = conn.cursor()\n",
    "    cursor.execute(\"\"\"\n",
    "        CREATE TABLE IF NOT EXISTS personen (\n",
    "            id INTEGER PRIMARY KEY AUTOINCREMENT,\n",
    "            vorname TEXT NOT NULL,\n",
    "            nachname TEXT NOT NULL,\n",
    "            geburtsdatum TEXT NOT NULL,\n",
    "            anschrift TEXT NOT NULL,\n",
    "            koerpergroesse INTEGER NOT NULL,\n",
    "            augenfarbe TEXT NOT NULL\n",
    "        )\n",
    "    \"\"\")\n",
    "    conn.commit()\n",
    "    conn.close()"
   ]
  },
  {
   "cell_type": "code",
   "execution_count": 21,
   "id": "5fdca7aa",
   "metadata": {},
   "outputs": [],
   "source": [
    "personal = []"
   ]
  },
  {
   "cell_type": "code",
   "execution_count": 22,
   "id": "0565c034",
   "metadata": {},
   "outputs": [],
   "source": [
    "def mitarbeiter_erfassen():\n",
    "    mitarbeiter_anlegen = {}\n",
    "    mitarbeiter_anlegen[\"vorname\"] = input(\"Vorname: \")\n",
    "    mitarbeiter_anlegen[\"nachname\"] = input(\"Nachname: \")   \n",
    "    mitarbeiter_anlegen[\"geburtsdatum\"] = input(\"Geburtsdatum (YYYY-MM-DD): \")\n",
    "    mitarbeiter_anlegen[\"anschrift\"] = input(\"Anschrift: \")\n",
    "    mitarbeiter_anlegen[\"koerpergroesse\"] = int(input(\"Körpergröße (in cm): \"))\n",
    "    mitarbeiter_anlegen[\"augenfarbe\"] = input(\"Augenfarbe: \")\n",
    "    personal.append(mitarbeiter_anlegen)"
   ]
  },
  {
   "cell_type": "code",
   "execution_count": 30,
   "id": "ea5bcaab",
   "metadata": {},
   "outputs": [
    {
     "name": "stdout",
     "output_type": "stream",
     "text": [
      "Vorname: a, Nachname: b, Geburtsdatum: 1990-05-08, Anschrift: c, Körpergröße: 123 cm, Augenfarbe: d\n",
      "Vorname: z, Nachname: u, Geburtsdatum: 1234-12-12, Anschrift: i, Körpergröße: 123 cm, Augenfarbe: op\n"
     ]
    }
   ],
   "source": [
    "for person in personal:\n",
    "    print(f\"Vorname: {person['vorname']}, Nachname: {person['nachname']}, Geburtsdatum: {person['geburtsdatum']}, Anschrift: {person['anschrift']}, Körpergröße: {person['koerpergroesse']} cm, Augenfarbe: {person['augenfarbe']}\")"
   ]
  },
  {
   "cell_type": "code",
   "execution_count": 26,
   "id": "11df1e9a",
   "metadata": {},
   "outputs": [],
   "source": [
    "mitarbeiter_erfassen()"
   ]
  },
  {
   "cell_type": "code",
   "execution_count": 34,
   "id": "988e2bf4",
   "metadata": {},
   "outputs": [],
   "source": [
    "def start_menue():\n",
    "    while True:\n",
    "        print(\"\\n---///------- Menü -------///---\")\n",
    "        print(\"      1. Neuen Mitarbeiter anlegen\")\n",
    "        print(\"      2. Alle Mitarbeiter anzeigen\")\n",
    "        print(\"      3. System beenden\")\n",
    "        wahl = input(\"Bitte wählen Sie eine Option (1-3): \")\n",
    "\n",
    "        if wahl == '1':\n",
    "            mitarbeiter_erfassen()\n",
    "        elif wahl == '2':\n",
    "            for person in personal:\n",
    "                print(f\"Vorname: {person['vorname']}, Nachname: {person['nachname']}, Geburtsdatum: {person['geburtsdatum']}, Anschrift: {person['anschrift']}, Körpergröße: {person['koerpergroesse']} cm, Augenfarbe: {person['augenfarbe']}\")\n",
    "        elif wahl == '3':\n",
    "            print(\"System wird beendet.\")\n",
    "            break"
   ]
  },
  {
   "cell_type": "code",
   "execution_count": 35,
   "id": "4e1558e9",
   "metadata": {},
   "outputs": [
    {
     "name": "stdout",
     "output_type": "stream",
     "text": [
      "\n",
      "---///------- Menü -------///---\n",
      "      1. Neuen Mitarbeiter anlegen\n",
      "      2. Alle Mitarbeiter anzeigen\n",
      "      3. System beenden\n",
      "Vorname: a, Nachname: b, Geburtsdatum: 1990-05-08, Anschrift: c, Körpergröße: 123 cm, Augenfarbe: d\n",
      "Vorname: z, Nachname: u, Geburtsdatum: 1234-12-12, Anschrift: i, Körpergröße: 123 cm, Augenfarbe: op\n",
      "\n",
      "---///------- Menü -------///---\n",
      "      1. Neuen Mitarbeiter anlegen\n",
      "      2. Alle Mitarbeiter anzeigen\n",
      "      3. System beenden\n",
      "System wird beendet.\n"
     ]
    }
   ],
   "source": [
    "start_menue()"
   ]
  }
 ],
 "metadata": {
  "kernelspec": {
   "display_name": "Python 3",
   "language": "python",
   "name": "python3"
  },
  "language_info": {
   "codemirror_mode": {
    "name": "ipython",
    "version": 3
   },
   "file_extension": ".py",
   "mimetype": "text/x-python",
   "name": "python",
   "nbconvert_exporter": "python",
   "pygments_lexer": "ipython3",
   "version": "3.13.5"
  }
 },
 "nbformat": 4,
 "nbformat_minor": 5
}
