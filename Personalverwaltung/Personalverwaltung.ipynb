{
 "cells": [
  {
   "cell_type": "markdown",
   "id": "20e1bfc6",
   "metadata": {},
   "source": [
    "Aufgabenstellung: Konsolenprogramm zur Personaldatenverwaltung mit\n",
    "Datenbankanbindung\n",
    "Ziel:\n",
    "Entwickeln Sie ein Konsolenprogramm zur Erfassung und Verwaltung von\n",
    "Personaldaten. Die Daten sollen über die Konsole eingegeben und in einer Datenbank\n",
    "gespeichert sowie wieder ausgelesen werden können."
   ]
  },
  {
   "cell_type": "markdown",
   "id": "7518c8bc",
   "metadata": {},
   "source": [
    "Funktionale Anforderungen:\n",
    "1. Datenerfassung über die Konsole:\n",
    "o Das Programm soll den Benutzer auffordern, folgende Daten einzugeben:\n",
    "▪ Vorname\n",
    "▪ Nachname\n",
    "▪ Geburtsdatum (Format: TT.MM.JJJJ)\n",
    "▪ Anschrift\n",
    "▪ Körpergröße (in cm)\n",
    "▪ Augenfarbe"
   ]
  },
  {
   "cell_type": "code",
   "execution_count": null,
   "id": "b0bfc214",
   "metadata": {},
   "outputs": [],
   "source": [
    "import datetime\n",
    "import sqlite3\n",
    "\n",
    "\n",
    "DB_NAME = \"personen.db\"\n",
    " \n",
    "# --- Datenbank einrichten ---\n",
    "def init_db():\n",
    "    conn = sqlite3.connect(DB_NAME)\n",
    "    cursor = conn.cursor()\n",
    "    cursor.execute(\"\"\"\n",
    "        CREATE TABLE IF NOT EXISTS personen (\n",
    "            id INTEGER PRIMARY KEY AUTOINCREMENT,\n",
    "            vorname TEXT NOT NULL,\n",
    "            nachname TEXT NOT NULL,\n",
    "            geburtsdatum TEXT NOT NULL,\n",
    "            anschrift TEXT NOT NULL,\n",
    "            koerpergroesse INTEGER NOT NULL,\n",
    "            augenfarbe TEXT NOT NULL\n",
    "        )\n",
    "    \"\"\")\n",
    "    conn.commit()\n",
    "    conn.close()"
   ]
  },
  {
   "cell_type": "code",
   "execution_count": 21,
   "id": "5fdca7aa",
   "metadata": {},
   "outputs": [],
   "source": [
    "personal = []"
   ]
  },
  {
   "cell_type": "code",
   "execution_count": 22,
   "id": "0565c034",
   "metadata": {},
   "outputs": [],
   "source": [
    "def mitarbeiter_erfassen():\n",
    "    mitarbeiter_anlegen = {}\n",
    "    mitarbeiter_anlegen[\"vorname\"] = input(\"Vorname: \")\n",
    "    mitarbeiter_anlegen[\"nachname\"] = input(\"Nachname: \")   \n",
    "    mitarbeiter_anlegen[\"geburtsdatum\"] = input(\"Geburtsdatum (YYYY-MM-DD): \")\n",
    "    mitarbeiter_anlegen[\"anschrift\"] = input(\"Anschrift: \")\n",
    "    mitarbeiter_anlegen[\"koerpergroesse\"] = int(input(\"Körpergröße (in cm): \"))\n",
    "    mitarbeiter_anlegen[\"augenfarbe\"] = input(\"Augenfarbe: \")\n",
    "    personal.append(mitarbeiter_anlegen)"
   ]
  },
  {
   "cell_type": "code",
   "execution_count": 27,
   "id": "ea5bcaab",
   "metadata": {},
   "outputs": [
    {
     "name": "stdout",
     "output_type": "stream",
     "text": [
      "[{'vorname': 'a', 'nachname': 'b', 'geburtsdatum': '1990-05-08', 'anschrift': 'c', 'koerpergroesse': 123, 'augenfarbe': 'd'}, {'vorname': 'z', 'nachname': 'u', 'geburtsdatum': '1234-12-12', 'anschrift': 'i', 'koerpergroesse': 123, 'augenfarbe': 'op'}]\n"
     ]
    }
   ],
   "source": [
    "print(personal)"
   ]
  },
  {
   "cell_type": "code",
   "execution_count": 26,
   "id": "11df1e9a",
   "metadata": {},
   "outputs": [],
   "source": [
    "mitarbeiter_erfassen()"
   ]
  }
 ],
 "metadata": {
  "kernelspec": {
   "display_name": "Python 3",
   "language": "python",
   "name": "python3"
  },
  "language_info": {
   "codemirror_mode": {
    "name": "ipython",
    "version": 3
   },
   "file_extension": ".py",
   "mimetype": "text/x-python",
   "name": "python",
   "nbconvert_exporter": "python",
   "pygments_lexer": "ipython3",
   "version": "3.13.5"
  }
 },
 "nbformat": 4,
 "nbformat_minor": 5
}
