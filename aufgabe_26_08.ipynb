{
 "cells": [
  {
   "cell_type": "code",
   "execution_count": null,
   "id": "1773fa64",
   "metadata": {},
   "outputs": [],
   "source": [
    "\n",
    "land = input(\"Aus welchem Land kommst du? (DE/CH): \")\n",
    "\n",
    "steuer_satz = 0.19  \n",
    "if land.upper() == \"CH\":\n",
    "    steuer_satz = 0.10  \n",
    "\n",
    "warenkorb = []\n",
    "\n",
    "while True:\n",
    "    name = input(\"Produkt eingeben oder fertig zum beenden: \")\n",
    "    if name == \"fertig\":\n",
    "        break\n",
    "    preis = float(input(\"Preis in €: \"))\n",
    "    warenkorb.append(preis)\n",
    "\n",
    "netto = sum(warenkorb)\n",
    "steuer = netto * steuer_satz\n",
    "brutto = netto + steuer\n",
    "\n",
    "\n",
    "print(f\"Netto:  {netto} €\")\n",
    "print(f\"Brutto: {brutto} €\")\n",
    "print(f\"Steuer: {steuer} €\")\n",
    "\n"
   ]
  }
 ],
 "metadata": {
  "language_info": {
   "name": "python"
  }
 },
 "nbformat": 4,
 "nbformat_minor": 5
}
