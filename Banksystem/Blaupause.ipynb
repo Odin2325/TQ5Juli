{
 "cells": [
  {
   "cell_type": "markdown",
   "id": "e33798a9",
   "metadata": {},
   "source": [
    "# KundenKlasse"
   ]
  },
  {
   "cell_type": "code",
   "execution_count": 1,
   "id": "a7d8911a",
   "metadata": {},
   "outputs": [],
   "source": [
    "import datetime\n",
    "import random\n",
    "#from Bankkontodatei import Bankkontoklasse as Bankkonto\n",
    "#from Bankdatei import Bankklasse as Bank\n",
    "\n",
    "class Kundenklasse:\n",
    "    def __init__(self, vorname, nachname, geburtsdatum, adresse, telefonnummer, email, geschlecht):\n",
    "        self.vorname = vorname\n",
    "        self.nachname = nachname\n",
    "        self.geburtsdatum = datetime.datetime.strptime(geburtsdatum, \"%d.%m.%Y\").date()\n",
    "        self.alter = self.alter_berechnen()\n",
    "        self.kundennummer = self.kundennummer_generator()\n",
    "        self.adresse = adresse\n",
    "        self.telefonnummer = telefonnummer\n",
    "        self.email = email\n",
    "        self.name = vorname + \" \" + nachname\n",
    "        self.geschlecht = geschlecht\n",
    "\n",
    "    def kundennummer_generator(self):\n",
    "        kundennummer = \"\".join([str(random.randint(0, 9)) for _ in range(10)])\n",
    "        print(f\"Generierte Kundennummer: {kundennummer}\")\n",
    "        return kundennummer\n",
    "\n",
    "    def alter_berechnen(self):\n",
    "        heute = datetime.date.today()\n",
    "        alter = heute.year - self.geburtsdatum.year\n",
    "        # Prüfe, ob der Geburtstag in diesem Jahr schon war\n",
    "        if (heute.month, heute.day) < (self.geburtsdatum.month, self.geburtsdatum.day):\n",
    "            alter -= 1\n",
    "        return alter\n",
    "\n",
    "    def Kundendetails(self):\n",
    "        print(f\"Name: {self.name}\\nAlter {self.alter}\\nAdresse: {self.adresse}\\nTelefonnummer: {self.telefonnummer}\\nE-Mail: {self.email}\\nGeschlecht: {self.geschlecht}\")\n",
    "\n",
    "\n",
    "# kunde1 = Kundenklasse(\"Anna\", \"Schmidt\", \"15.05.1990\", \"Beispielweg 5, 12345 Berlin\", \"0171-1234567\", \"anna.schmidt@email.com\", \"weiblich\")\n"
   ]
  },
  {
   "cell_type": "markdown",
   "id": "38f2c66b",
   "metadata": {},
   "source": [
    "# BankkontoKlasse"
   ]
  },
  {
   "cell_type": "code",
   "execution_count": 2,
   "id": "5a4f7fef",
   "metadata": {},
   "outputs": [],
   "source": [
    "import datetime\n",
    "import random\n",
    "from random import randint\n",
    "#from Kundendatei import Kundenklasse as Kunde\n",
    "#from Bankdatei import Bankklasse as Bank\n",
    "\n",
    "class Bankkontoklasse:\n",
    "    def __init__(self, kontonummer, inhaber, bank_objekt, saldo=0):\n",
    "        self.kontonummer = kontonummer \n",
    "        self.inhaber = inhaber\n",
    "        self.bank = bank_objekt \n",
    "        self.iban = f\"DE65 {self.bank.BLZ}{self.kontonummer}\" # IBAN generieren\n",
    "        self.pin = self.pin_generator()\n",
    "        self.saldo = saldo\n",
    "        self.dispo = 500.00\n",
    "        self.transaktionshistorie = []\n",
    "\n",
    "    @staticmethod # Methode als statisch deklarieren\n",
    "    def pin_generator():\n",
    "        neuer_pin = \"\".join([str(randint(0, 9)) for _ in range(4)])\n",
    "        return neuer_pin\n",
    "    \n",
    "    def einzahlen(self,betrag):\n",
    "        self.saldo += betrag\n",
    "        self.transaktionshistorie.append((\"Einzahlung:\" ,betrag,self.saldo))\n",
    "        print(f\"Neuer Kontostand nach Einzahlung: {self.saldo}\")\n",
    "\n",
    "    def abheben(self,betrag):\n",
    "        if betrag > self.saldo + self.dispo:\n",
    "            print(\"Nicht genug Guthaben auf dem Konto\")\n",
    "        else:\n",
    "            self.saldo -= betrag\n",
    "            self.transaktionshistorie.append((\"Abhebung:\" ,betrag,self.saldo)) \n",
    "            print(f\"Neuer Kontostand nach Abhebung: {self.saldo}\")\n",
    "\n",
    "    def konto_details(self):\n",
    "        print(\"-\" * 30)\n",
    "        print(f\"\\nIBAN: {self.iban}\\nInhaber: {self.inhaber}\\nSaldo: {self.saldo}\")\n",
    "    \n",
    "    def guthaben_details(self):\n",
    "        print(f\"Saldo: {self.saldo}\\nDispo: {self.dispo}\")   \n",
    "\n",
    "    def Transaktionen(self):\n",
    "        print(\"Transaktionshistorie:\")\n",
    "        for eintrag in self.transaktionshistorie:\n",
    "            print(eintrag)\n",
    "\n",
    "#kunde1 = Kunde(\"Paul\", \"Atreides\", \"01.01.2000\", \"Wüstenplanet Arrakis\", \"0123456789\", \"PA@so.wa\")\n",
    "\n",
    "#konto1 = Bankkontoklasse(\"40050012\",kunde1.Kundendetails,1200.00)\n",
    "#konto2 = Bankkonto(\"40050013\",\"Leto II\",2500.00))\n"
   ]
  },
  {
   "cell_type": "markdown",
   "id": "7167a020",
   "metadata": {},
   "source": [
    "# Tagesgeldkonto vererbung von Bankkonto\n",
    "\n",
    "class Tagesgeldkonto(Bankkonto):\n",
    "    def __init__(self, kontoinhaber, kontonummer, betrag_limit):\n",
    "        super().__init__(kontoinhaber, kontonummer,500)\n",
    "        self.betrag_limit = betrag_limit\n",
    "\n",
    "    def auszahlen(self, betrag):\n",
    "        if betrag>self.betrag_limit:\n",
    "            return False\n",
    "        super().auszahlen(betrag)"
   ]
  },
  {
   "cell_type": "code",
   "execution_count": 3,
   "id": "e70389b4",
   "metadata": {},
   "outputs": [],
   "source": [
    "class Tagesgeldkonto(Bankkontoklasse):\n",
    "    def __init__(self, kontonummer, inhaber, bank_objekt, saldo=0, betrag_limit=1000.00):\n",
    "        super().__init__(kontonummer, inhaber, bank_objekt, saldo, 1000.00)\n",
    "        self.betrag_limit = betrag_limit\n",
    "\n",
    "    def abheben(self, betrag):\n",
    "        if betrag > self.betrag_limit:\n",
    "            print(f\"Abhebebetrag überschreitet das Limit von {self.betrag_limit}\")\n",
    "        else:\n",
    "            super().abheben(betrag)  \n",
    "         "
   ]
  },
  {
   "cell_type": "markdown",
   "id": "bbe4d108",
   "metadata": {},
   "source": [
    "# BankKlasse"
   ]
  },
  {
   "cell_type": "code",
   "execution_count": 4,
   "id": "1c27dfea",
   "metadata": {},
   "outputs": [],
   "source": [
    "import datetime\n",
    "import random\n",
    "#from Kundendatei import Kundenklasse as Kunde\n",
    "#from Bankkontodatei import Bankkontoklasse as Bankkonto\n",
    "\n",
    "class Bankklasse:\n",
    "    def __init__(self, name, leiter, adresse, region):\n",
    "        self.name = name\n",
    "        self.leiter = leiter\n",
    "        self.adresse = adresse\n",
    "        self.region = region\n",
    "        self.bankkonten = 0\n",
    "        self.BLZ = \"08051990\"\n",
    "        self.kunden_liste = []\n",
    "        self.konten_liste = []\n",
    "\n",
    "    def kontonummer_generieren(self):\n",
    "        while True:\n",
    "            kontonummer = \"\".join([str(random.randint(0, 9)) for _ in range(10)])\n",
    "            if not any(konto.kontonummer == kontonummer for konto in self.konten_liste):\n",
    "                print(f\"Generierte Kontonummer: {kontonummer}\")\n",
    "                return kontonummer\n",
    "\n",
    "    def konto_erstellen(self, inhaber, saldo = 0):\n",
    "        kontonummer = self.kontonummer_generieren()\n",
    "        neues_konto = Bankkontoklasse(kontonummer, inhaber, self, saldo)\n",
    "        self.konten_liste.append(neues_konto)\n",
    "        self.kunden_liste.append(inhaber)\n",
    "        self.bankkonten += 1\n",
    "        print(f\"Neues Konto erstellt für {inhaber.name} mit Kontonummer {kontonummer}\")\n",
    "        return neues_konto\n",
    "    \n",
    "    def Überweissung(self, von_kontonummer, zu_kontonummer, betrag):\n",
    "        konto_von = next((konto for konto in self.konten_liste \n",
    "                          if konto.kontonummer == von_kontonummer), \n",
    "                          None)\n",
    "        konto_zu = next((konto for konto in self.konten_liste \n",
    "                         if konto.kontonummer == zu_kontonummer), \n",
    "                         None)\n",
    "        \n",
    "        if not konto_von:\n",
    "            print(f\"Konto mit Kontonummer {von_kontonummer} nicht gefunden.\")\n",
    "            return False\n",
    "        if not konto_zu:\n",
    "            print(f\"Konto mit Kontonummer {zu_kontonummer} nicht gefunden.\")\n",
    "            return False\n",
    "        if betrag > konto_von.saldo + konto_von.dispo:\n",
    "            print(\"Nicht genug Guthaben für die Überweisung.\")\n",
    "            return False\n",
    "        \n",
    "        konto_von.abheben(betrag)\n",
    "        konto_zu.einzahlen(betrag)\n",
    "        print(f\"Überweisung von {betrag} von Konto {von_kontonummer} zu Konto {zu_kontonummer} erfolgreich.\")\n",
    "        return True\n",
    "\n",
    "    def konto_löschen(self, kontonummer):\n",
    "        for konto in self.konten_liste:\n",
    "            if konto.kontonummer == kontonummer:\n",
    "                self.konten_liste.remove(konto)\n",
    "                self.bankkonten -= 1\n",
    "                print(f\"Konto mit Kontonummer {kontonummer} wurde gelöscht.\")\n",
    "                return True\n",
    "        print(f\"Konto mit Kontonummer {kontonummer} nicht gefunden.\")\n",
    "        return False\n",
    "    \n",
    "    def bank_details(self):\n",
    "        print(f\"Bankname: {self.name}\\nLeiter: {self.leiter}\\nAdresse: {self.adresse}\\nRegion: {self.region}\\nAnzahl Konten: {self.bankkonten}\")    \n",
    "    \n",
    "    \n"
   ]
  },
  {
   "cell_type": "markdown",
   "id": "2a965fe4",
   "metadata": {},
   "source": [
    "Verbleibende Aufgaben in die Bank Klasse:\n",
    "\n",
    "1. Bank details ausgeben. Hier sollen keine Informationen ausgegeben werden. Nur quasi Werbung information bspw. Wie viele kontos hat die Bank, wie viele kunden hat die Bank, name der Bank, hauptstandort und land. bank_details() -> str. ca. 10 \n",
    "2. kontos infos ausgeben. kunden infos ausgeben. Zwei unterschiedliche Methoden. ca. 30\n",
    "\n",
    "3. Transaktion methode. Hier muss zuerst die Klasse Bankkonto erweitert werden mit eine Methode die folgende Signatur (erste Zeile einer Methode) hat.\n",
    "   1. def(self,anderen_konto:bankkonto,betrag): -> True/False\n",
    "4. Zweitens muesste fuer eine Transaktion eine Methode in Bank geschrieben werden, wo wir die Kontos mit einander verknuepfen wenn beide Kontos in self.kontos ueberhaupt existieren.\n",
    "   1. def(self,von_konto,zu_konto,betrag): -> True/False"
   ]
  },
  {
   "cell_type": "code",
   "execution_count": 5,
   "id": "58b82033",
   "metadata": {},
   "outputs": [
    {
     "name": "stdout",
     "output_type": "stream",
     "text": [
      "Generierte Kundennummer: 7350935793\n",
      "Generierte Kontonummer: 8556367502\n",
      "Neues Konto erstellt für Anna Schmidt mit Kontonummer 8556367502\n"
     ]
    }
   ],
   "source": [
    "meine_bank = Bankklasse(\"Commerzbank\", \"CEO\", \"Zentrum 1\", \"DE-SH-SL/FL\")\n",
    "\n",
    "kunde1 = Kundenklasse(\"Anna\", \"Schmidt\", \"15.05.1990\", \"Beispielweg 5, 12345 Berlin\", \"0171-1234567\", \"anna.schmidt@email.com\", \"weiblich\")\n",
    "\n",
    "konto1 = meine_bank.konto_erstellen(inhaber=kunde1, saldo=500.00)\n",
    "\n",
    "#meine_bank.bank_details()"
   ]
  },
  {
   "cell_type": "code",
   "execution_count": 6,
   "id": "a70baca0",
   "metadata": {},
   "outputs": [
    {
     "name": "stdout",
     "output_type": "stream",
     "text": [
      "Generierte Kundennummer: 4794095031\n",
      "Generierte Kontonummer: 0846246883\n",
      "Neues Konto erstellt für Jack Muster mit Kontonummer 0846246883\n"
     ]
    }
   ],
   "source": [
    "kunde2 = Kundenklasse(\"Jack\", \"Muster\", \"05.12.1990\", \"Musterweg 5, 12345 Köln\", \"0171-1234567\", \"Jack.Muster@email.com\", \"Mänlich\")\n",
    "\n",
    "konto2 = meine_bank.konto_erstellen(inhaber=kunde2, saldo=500.00)"
   ]
  },
  {
   "cell_type": "code",
   "execution_count": 18,
   "id": "4ce2159b",
   "metadata": {},
   "outputs": [
    {
     "name": "stdout",
     "output_type": "stream",
     "text": [
      "\n",
      "Der Pin von Konto 1 ist: 8702\n",
      "Der Pin von Konto 2 ist: 5451\n"
     ]
    }
   ],
   "source": [
    "print(f\"\\nDer Pin von Konto 1 ist: {konto1.pin}\")\n",
    "print(f\"Der Pin von Konto 2 ist: {konto2.pin}\")"
   ]
  },
  {
   "cell_type": "code",
   "execution_count": 8,
   "id": "fa71b6a4",
   "metadata": {},
   "outputs": [
    {
     "name": "stdout",
     "output_type": "stream",
     "text": [
      "------------------------------\n",
      "\n",
      "IBAN: DE65 080519908556367502\n",
      "Inhaber: <__main__.Kundenklasse object at 0x0000020C152EC1A0>\n",
      "Saldo: 500.0\n",
      "------------------------------\n",
      "\n",
      "IBAN: DE65 080519900846246883\n",
      "Inhaber: <__main__.Kundenklasse object at 0x0000020C15103890>\n",
      "Saldo: 500.0\n"
     ]
    }
   ],
   "source": [
    "Bankkontoklasse.konto_details(konto1)\n",
    "Bankkontoklasse.konto_details(konto2)\n"
   ]
  },
  {
   "cell_type": "code",
   "execution_count": 9,
   "id": "b881d8c4",
   "metadata": {},
   "outputs": [
    {
     "name": "stdout",
     "output_type": "stream",
     "text": [
      "Neuer Kontostand nach Abhebung: 300.0\n",
      "Neuer Kontostand nach Einzahlung: 700.0\n",
      "Überweisung von 200 von Konto 8556367502 zu Konto 0846246883 erfolgreich.\n"
     ]
    },
    {
     "data": {
      "text/plain": [
       "True"
      ]
     },
     "execution_count": 9,
     "metadata": {},
     "output_type": "execute_result"
    }
   ],
   "source": [
    "Bankklasse.Überweissung(meine_bank, konto1.kontonummer, konto2.kontonummer, 200)"
   ]
  },
  {
   "cell_type": "code",
   "execution_count": 17,
   "id": "983f4218",
   "metadata": {},
   "outputs": [
    {
     "name": "stdout",
     "output_type": "stream",
     "text": [
      "--- Kundenliste ---\n",
      "Name: Anna Schmidt, Kundennummer: 7350935793\n",
      "Name: Jack Muster, Kundennummer: 4794095031\n",
      "\n",
      "--- Kontenliste ---\n",
      "Kontonummer: 8556367502, Inhaber: Anna Schmidt, Saldo: 300.0\n",
      "Kontonummer: 0846246883, Inhaber: Jack Muster, Saldo: 700.0\n"
     ]
    }
   ],
   "source": [
    "print(\"--- Kundenliste ---\")\n",
    "for kunde in meine_bank.kunden_liste:\n",
    "    print(f\"Name: {kunde.name}, Kundennummer: {kunde.kundennummer}\")\n",
    "\n",
    "print(\"\\n--- Kontenliste ---\")\n",
    "for konto in meine_bank.konten_liste:\n",
    "    print(f\"Kontonummer: {konto.kontonummer}, Inhaber: {konto.inhaber.name}, Saldo: {konto.saldo}\")"
   ]
  },
  {
   "cell_type": "markdown",
   "id": "7267e6ea",
   "metadata": {},
   "source": [
    "## Bank Menue aufgabe:\n",
    "* Start Menue definieren: Hier darf der Benutzer einen Kunden werden, sich einloggen oder das Bank System beenden.\n",
    "  * Kunde anlegen: Nach anlegen wird der Kunde automatisch schon eingelogt. D.h. Zum naechsten Menue weitergeleitet.\n",
    "  * Einloggen: anhand von vorname, nachname, adresse Kunde suchen. Wenn gefunden zum naechsten Menue weiterleiten. Ansonsten Wieder zum Start Menue zurueck.\n",
    "  * System beenden.\n",
    "* Nach Start Menue, haben wir ein Kunden Menue. Hier darf der Kunde seine persoenliche Daten ausgeben lassen oder auch einen Konto erstellen.\n",
    "  * Details ausgeben\n",
    "  * Bankkonto erstellen\n",
    "  * Zurueck zum Start Menue.\n",
    "* Nachdem ein Konto erstellt wird, dann kommt einen Konto Menue wo der Benutzer auswaehlen darf ob er einzahlen, auszahlen, ueberweisung, kontoauszug oder kontodetails sehen will.\n",
    "  * einzahlen\n",
    "  * auszahlen\n",
    "  * ueberweisung\n",
    "  * kontoauszug\n",
    "  * kontodetails\n",
    "  * Zurueck zum Kunde Menue\n",
    "  * Wenn eine operation vorbei ist, dann kehren wir zurueck zu unser Konto Menue. Von hier duerfen wir weitere optionen auswaehlen."
   ]
  },
  {
   "cell_type": "code",
   "execution_count": null,
   "id": "c0aae4f6",
   "metadata": {},
   "outputs": [],
   "source": [
    "def start_menue():\n",
    "    while True:\n",
    "        print(\"\\n---///--- Start Menü ---///---\")\n",
    "        print(\"      1. Kunde werden\")\n",
    "        print(\"      2. Einloggen\")\n",
    "        print(\"      3. System beenden\")\n",
    "        wahl = input(\"Bitte wählen Sie eine Option (1-3): \")\n",
    "\n",
    "        if wahl == \"1\":\n",
    "            print(\"\\nOption 'Kunde werden' gewählt.\")\n",
    "            neuer_kunde = Kundenklasse(\n",
    "                vorname=input(\"Vorname: \"),\n",
    "                nachname=input(\"Nachname: \"),\n",
    "                geburtsdatum=input(\"Geburtsdatum (TT.MM.JJJJ): \"),\n",
    "                adresse=input(\"Adresse: \"),\n",
    "                telefonnummer=input(\"Telefonnummer: \"),\n",
    "                email=input(\"E-Mail: \"),\n",
    "                geschlecht=input(\"Geschlecht: \")\n",
    "            )\n",
    "            neues_konto = meine_bank.konto_erstellen(inhaber=neuer_kunde, saldo=0.00)\n",
    "            kunden_menue(neuer_kunde, neues_konto)\n",
    "            \n",
    "        elif wahl == \"2\":\n",
    "            print(\"\\nOption 'Einloggen' gewählt.\")\n",
    "            kundennummer = input(\"Bitte geben Sie Ihre Kundennummer ein: \")\n",
    "            \n",
    "            # Kunden suchen\n",
    "            gefundener_kunde = None\n",
    "            for kunde in meine_bank.kunden_liste:\n",
    "                if kunde.kundennummer == kundennummer:\n",
    "                    gefundener_kunde = kunde\n",
    "                    break\n",
    "            \n",
    "            if gefundener_kunde:\n",
    "                print(f\"Willkommen zurück, {gefundener_kunde.name}!\")\n",
    "                enter_pin = input(\"Bitte geben Sie Ihre PIN ein: \")\n",
    "                \n",
    "                # Das Konto des Kunden finden, um die PIN zu überprüfen\n",
    "                konto = None\n",
    "                for k in meine_bank.konten_liste:\n",
    "                    if k.inhaber.kundennummer == kundennummer:\n",
    "                        konto = k\n",
    "                        break\n",
    "                \n",
    "                if konto and enter_pin == konto.pin:\n",
    "                    print(\"Erfolgreich eingeloggt!\")\n",
    "                    # Wichtig: Hier rufen wir das Kundenmenü auf und übergeben das Kundenobjekt\n",
    "                    kunden_menue(gefundener_kunde, konto)\n",
    "                    \n",
    "                else:\n",
    "                    print(\"Falsche PIN oder kein Konto gefunden. Bitte versuchen Sie es erneut.\")\n",
    "            else:\n",
    "                print(\"Kundennummer nicht gefunden. Bitte versuchen Sie es erneut.\")\n",
    "                \n",
    "        elif wahl == \"3\":\n",
    "            print(\"\\nDas Banksystem wird beendet.\")\n",
    "            break\n",
    "        else:\n",
    "            print(\"\\nUngültige Eingabe, bitte versuchen Sie es erneut.\")\n"
   ]
  },
  {
   "cell_type": "code",
   "execution_count": null,
   "id": "5827a75e",
   "metadata": {},
   "outputs": [],
   "source": [
    "def kunden_menue(kunde, konto):\n",
    "    while True:\n",
    "        print(\"\\n---///--- Wilkommen im Kunden Menü. ---///---\")\n",
    "        print(\"         1. Kundendetails anzeigen\")\n",
    "        print(\"         2. Konto erstellen\")\n",
    "        print(\"         3. Konto löschen\")\n",
    "        print(\"         4. Konto Menü\")\n",
    "        print(\"         5. Abmelden\")\n",
    "        wahl = input(\"Bitte wählen Sie eine Option (1-5): \") \n",
    "        if wahl == \"1\":\n",
    "            print(\"\\nOption 'Kundendetails anzeigen' gewählt.\")\n",
    "            kunde.Kundendetails()            \n",
    "            \n",
    "        elif wahl == \"2\":\n",
    "            print(\"\\nOption 'Konto erstellen' gewählt.\")\n",
    "            neues_konto = meine_bank.konto_erstellen(inhaber=kunde, saldo=0.00)\n",
    "            print(f\"Ein neues Konto mit der Nummer {neues_konto.kontonummer} wurde erstellt!\")\n",
    "\n",
    "        elif wahl == \"3\":\n",
    "            print(\"\\nOption 'Konto löschen' gewählt.\")\n",
    "            kontonummer = input(\"Bitte geben Sie die Kontonummer ein, die Sie löschen möchten: \")\n",
    "            meine_bank.konto_löschen(kontonummer)\n",
    "            \n",
    "        elif wahl == \"4\":\n",
    "            print(\"\\nOption 'Konto Menü' gewählt.\")\n",
    "            konto_menue(konto)\n",
    "            break\n",
    "\n",
    "        elif wahl == \"5\":\n",
    "            print(\"\\nSie werden abgemeldet und zum Start Menü zurückgeleitet.\")\n",
    "            break\n",
    "        else:\n",
    "            print(\"\\nUngültige Eingabe, bitte versuchen Sie es erneut.\")\n"
   ]
  },
  {
   "cell_type": "code",
   "execution_count": null,
   "id": "fc6708af",
   "metadata": {},
   "outputs": [],
   "source": [
    "def konto_menue(konto):\n",
    "    while True:\n",
    "        print(\"\\n---///--- Wilkommen im Konto Menü. ---///---\")\n",
    "        print(\"                 1. Auszahlung\")\n",
    "        print(\"                 2. Einzahlen\")\n",
    "        print(\"                 3. Überweisung\")\n",
    "        print(\"                 4. Kontoauszug\")\n",
    "        print(\"                 5. Kontodetails\")\n",
    "        print(\"                 6. Kunden Menü\")\n",
    "        print(\"                 7. Abmelden\")\n",
    "        wahl = input(\"Bitte wählen Sie eine Option (1-8): \")\n",
    "        if wahl == \"1\":\n",
    "            print(\"\\nOption 'Auszahlung' gewählt.\")\n",
    "            \n",
    "            pass\n",
    "        elif wahl == \"2\":\n",
    "            print(\"\\nOption 'Einzahlen' gewählt.\")\n",
    "            pass\n",
    "        elif wahl == \"3\":\n",
    "            print(\"\\nOption 'Überweisung' gewählt.\")\n",
    "            pass\n",
    "        elif wahl == \"4\":\n",
    "            print(\"\\nOption 'Kontoauszug' gewählt.\")\n",
    "            pass\n",
    "        elif wahl == \"5\":\n",
    "            print(\"\\nOption 'Kontodetails' gewählt.\")\n",
    "            pass\n",
    "        elif wahl == \"6\":\n",
    "            print(\"\\nSie werden zum Kunden Menü zurückgeleitet.\")\n",
    "            kunden_menue()\n",
    "            break\n",
    "        elif wahl == \"7\":\n",
    "            print(\"\\nSie werden abgemeldet und zum Start Menü zurückgeleitet.\")\n",
    "            start_menue()\n",
    "            break\n",
    "        else:\n",
    "            print(\"\\nUngültige Eingabe, bitte versuchen Sie es erneut.\")"
   ]
  },
  {
   "cell_type": "markdown",
   "id": "b3eef7ab",
   "metadata": {},
   "source": [
    "Name: Anna Schmidt, Kundennummer: 7350935793\n",
    "Name: Jack Muster, Kundennummer: 4794095031\n",
    "\n",
    "Der Pin von Konto 1 ist: 8702\n",
    "Der Pin von Konto 2 ist: 5451"
   ]
  },
  {
   "cell_type": "code",
   "execution_count": 20,
   "id": "87f69117",
   "metadata": {},
   "outputs": [
    {
     "name": "stdout",
     "output_type": "stream",
     "text": [
      "\n",
      "---///--- Start Menü ---///---\n",
      "      1. Kunde werden\n",
      "      2. Einloggen\n",
      "      3. System beenden\n",
      "\n",
      "Option 'Einloggen' gewählt.\n",
      "Willkommen zurück, Jack Muster!\n",
      "Erfolgreich eingeloggt!\n"
     ]
    },
    {
     "ename": "TypeError",
     "evalue": "kunden_menue() takes 0 positional arguments but 2 were given",
     "output_type": "error",
     "traceback": [
      "\u001b[31m---------------------------------------------------------------------------\u001b[39m",
      "\u001b[31mTypeError\u001b[39m                                 Traceback (most recent call last)",
      "\u001b[36mCell\u001b[39m\u001b[36m \u001b[39m\u001b[32mIn[20]\u001b[39m\u001b[32m, line 2\u001b[39m\n\u001b[32m      1\u001b[39m \u001b[38;5;66;03m# Starte das Menü\u001b[39;00m\n\u001b[32m----> \u001b[39m\u001b[32m2\u001b[39m \u001b[43mstart_menue\u001b[49m\u001b[43m(\u001b[49m\u001b[43m)\u001b[49m\n",
      "\u001b[36mCell\u001b[39m\u001b[36m \u001b[39m\u001b[32mIn[16]\u001b[39m\u001b[32m, line 49\u001b[39m, in \u001b[36mstart_menue\u001b[39m\u001b[34m()\u001b[39m\n\u001b[32m     47\u001b[39m     \u001b[38;5;28mprint\u001b[39m(\u001b[33m\"\u001b[39m\u001b[33mErfolgreich eingeloggt!\u001b[39m\u001b[33m\"\u001b[39m)\n\u001b[32m     48\u001b[39m     \u001b[38;5;66;03m# Wichtig: Hier rufen wir das Kundenmenü auf und übergeben das Kundenobjekt\u001b[39;00m\n\u001b[32m---> \u001b[39m\u001b[32m49\u001b[39m     \u001b[43mkunden_menue\u001b[49m\u001b[43m(\u001b[49m\u001b[43mgefundener_kunde\u001b[49m\u001b[43m,\u001b[49m\u001b[43m \u001b[49m\u001b[43mkonto\u001b[49m\u001b[43m)\u001b[49m\n\u001b[32m     51\u001b[39m \u001b[38;5;28;01melse\u001b[39;00m:\n\u001b[32m     52\u001b[39m     \u001b[38;5;28mprint\u001b[39m(\u001b[33m\"\u001b[39m\u001b[33mFalsche PIN oder kein Konto gefunden. Bitte versuchen Sie es erneut.\u001b[39m\u001b[33m\"\u001b[39m)\n",
      "\u001b[31mTypeError\u001b[39m: kunden_menue() takes 0 positional arguments but 2 were given"
     ]
    }
   ],
   "source": [
    "# Starte das Menü\n",
    "start_menue()"
   ]
  }
 ],
 "metadata": {
  "kernelspec": {
   "display_name": "Python 3",
   "language": "python",
   "name": "python3"
  },
  "language_info": {
   "codemirror_mode": {
    "name": "ipython",
    "version": 3
   },
   "file_extension": ".py",
   "mimetype": "text/x-python",
   "name": "python",
   "nbconvert_exporter": "python",
   "pygments_lexer": "ipython3",
   "version": "3.13.5"
  }
 },
 "nbformat": 4,
 "nbformat_minor": 5
}
