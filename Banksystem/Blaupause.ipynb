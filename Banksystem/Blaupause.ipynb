{
 "cells": [
  {
   "cell_type": "markdown",
   "id": "38f2c66b",
   "metadata": {},
   "source": [
    "# BankkontoKlasse"
   ]
  },
  {
   "cell_type": "code",
   "execution_count": null,
   "id": "5a4f7fef",
   "metadata": {},
   "outputs": [],
   "source": [
    "import datetime\n",
    "import random\n",
    "from random import randint\n",
    "#from Kundendatei import Kundenklasse as Kunde\n",
    "#from Bankdatei import Bankklasse as Bank\n",
    "\n",
    "class Bankkontoklasse:\n",
    "    def __init__(self, kontonummer, inhaber, bank_objekt, saldo=0):\n",
    "        self.kontonummer = kontonummer \n",
    "        self.inhaber = inhaber\n",
    "        self.bank = bank_objekt \n",
    "        self.iban = f\"DE65 {self.bank.BLZ}{self.kontonummer}\" # IBAN generieren\n",
    "        self.pin = self.pin_generator() \n",
    "        self.saldo = saldo\n",
    "        self.dispo = 500.00\n",
    "        self.transaktionshistorie = []\n",
    "\n",
    "    @staticmethod # Methode als statisch deklarieren\n",
    "    def pin_generator():\n",
    "        neuer_pin = \"\".join([str(randint(0, 9)) for _ in range(4)])\n",
    "        return neuer_pin\n",
    "    \n",
    "    def einzahlen(self,betrag):\n",
    "        self.saldo += betrag\n",
    "        self.transaktionshistorie.append((\"Einzahlung:\" ,betrag,self.saldo))\n",
    "        print(f\"Neuer Kontostand nach Einzahlung: {self.saldo}\")\n",
    "\n",
    "    def abheben(self,betrag):\n",
    "        if betrag > self.saldo + self.dispo:\n",
    "            print(\"Nicht genug Guthaben auf dem Konto\")\n",
    "        else:\n",
    "            self.saldo -= betrag\n",
    "            self.transaktionshistorie.append((\"Abhebung:\" ,betrag,self.saldo)) \n",
    "            print(f\"Neuer Kontostand nach Abhebung: {self.saldo}\")\n",
    "\n",
    "    def konto_details(self):\n",
    "        print(\"-\" * 30)\n",
    "        print(f\"\\nKontonummer: {self.kontonummer}\\nInhaber: {self.inhaber}\\nSaldo: {self.saldo}\")\n",
    "    \n",
    "    def guthaben_details(self):\n",
    "        print(f\"Saldo: {self.saldo}\\nDispo: {self.dispo}\")   \n",
    "\n",
    "    def Transaktionen(self):\n",
    "        print(\"Transaktionshistorie:\")\n",
    "        for eintrag in self.transaktionshistorie:\n",
    "            print(eintrag)\n",
    "\n",
    "#kunde1 = Kunde(\"Paul\", \"Atreides\", \"01.01.2000\", \"Wüstenplanet Arrakis\", \"0123456789\", \"PA@so.wa\")\n",
    "\n",
    "#konto1 = Bankkontoklasse(\"40050012\",kunde1.Kundendetails,1200.00)\n",
    "#konto2 = Bankkonto(\"40050013\",\"Leto II\",2500.00))\n"
   ]
  },
  {
   "cell_type": "markdown",
   "id": "e33798a9",
   "metadata": {},
   "source": [
    "# KundenKlasse"
   ]
  },
  {
   "cell_type": "code",
   "execution_count": 20,
   "id": "a7d8911a",
   "metadata": {},
   "outputs": [
    {
     "name": "stdout",
     "output_type": "stream",
     "text": [
      "Generierte Kundennummer: 1959177580\n"
     ]
    }
   ],
   "source": [
    "import datetime\n",
    "import random\n",
    "#from Bankkontodatei import Bankkontoklasse as Bankkonto\n",
    "#from Bankdatei import Bankklasse as Bank\n",
    "\n",
    "class Kundenklasse:\n",
    "    def __init__(self, vorname, nachname, geburtsdatum, adresse, telefonnummer, email):\n",
    "        self.vorname = vorname\n",
    "        self.nachname = nachname\n",
    "        self.geburtsdatum = datetime.datetime.strptime(geburtsdatum, \"%d.%m.%Y\").date()\n",
    "        self.alter = self.alter_berechnen()\n",
    "        self.kundennummer = self.kundennummer_generator()\n",
    "        self.adresse = adresse\n",
    "        self.telefonnummer = telefonnummer\n",
    "        self.email = email\n",
    "        self.name = vorname + \" \" + nachname\n",
    "        self.geschlecht = None\n",
    "\n",
    "    def kundennummer_generator(self):\n",
    "        kundennummer = \"\".join([str(random.randint(0, 9)) for _ in range(10)])\n",
    "        print(f\"Generierte Kundennummer: {kundennummer}\")\n",
    "        return kundennummer\n",
    "\n",
    "    def alter_berechnen(self):\n",
    "        heute = datetime.date.today()\n",
    "        alter = heute.year - self.geburtsdatum.year\n",
    "        # Prüfe, ob der Geburtstag in diesem Jahr schon war\n",
    "        if (heute.month, heute.day) < (self.geburtsdatum.month, self.geburtsdatum.day):\n",
    "            alter -= 1\n",
    "        return alter\n",
    "\n",
    "    def Kundendetails(self):\n",
    "        print(f\"Name: {self.name}\\n Alter {self.alter}\\nAdresse: {self.adresse}\\nTelefonnummer: {self.telefonnummer}\\n E-Mail: {self.email}\\n Geschlecht: {self.geschlecht}\")\n",
    "\n",
    "# Kundenobjekt erstellen\n",
    "kunde1 = Kundenklasse(\"Anna\", \"Schmidt\", \"15.05.1990\", \"Beispielweg 5, 12345 Berlin\", \"0171-1234567\", \"anna.schmidt@email.com\")"
   ]
  },
  {
   "cell_type": "markdown",
   "id": "bbe4d108",
   "metadata": {},
   "source": [
    "# BankKlasse"
   ]
  },
  {
   "cell_type": "code",
   "execution_count": 21,
   "id": "1c27dfea",
   "metadata": {},
   "outputs": [
    {
     "ename": "TypeError",
     "evalue": "Bankklasse.konto_erstellen() missing 1 required positional argument: 'kontonummer'",
     "output_type": "error",
     "traceback": [
      "\u001b[31m---------------------------------------------------------------------------\u001b[39m",
      "\u001b[31mTypeError\u001b[39m                                 Traceback (most recent call last)",
      "\u001b[36mCell\u001b[39m\u001b[36m \u001b[39m\u001b[32mIn[21]\u001b[39m\u001b[32m, line 44\u001b[39m\n\u001b[32m     41\u001b[39m \u001b[38;5;66;03m# Bankobjekt erstellen\u001b[39;00m\n\u001b[32m     42\u001b[39m meine_bank = Bankklasse(\u001b[33m\"\u001b[39m\u001b[33mCommerzbank\u001b[39m\u001b[33m\"\u001b[39m, \u001b[33m\"\u001b[39m\u001b[33mCEO\u001b[39m\u001b[33m\"\u001b[39m, \u001b[33m\"\u001b[39m\u001b[33mZentrum 1\u001b[39m\u001b[33m\"\u001b[39m, \u001b[33m\"\u001b[39m\u001b[33mDE-SH-SL/FL\u001b[39m\u001b[33m\"\u001b[39m)\n\u001b[32m---> \u001b[39m\u001b[32m44\u001b[39m konto1 = \u001b[43mmeine_bank\u001b[49m\u001b[43m.\u001b[49m\u001b[43mkonto_erstellen\u001b[49m\u001b[43m(\u001b[49m\u001b[43minhaber\u001b[49m\u001b[43m=\u001b[49m\u001b[43mkunde1\u001b[49m\u001b[43m,\u001b[49m\u001b[43m \u001b[49m\u001b[43msaldo\u001b[49m\u001b[43m=\u001b[49m\u001b[32;43m500.00\u001b[39;49m\u001b[43m)\u001b[49m\n",
      "\u001b[31mTypeError\u001b[39m: Bankklasse.konto_erstellen() missing 1 required positional argument: 'kontonummer'"
     ]
    }
   ],
   "source": [
    "import datetime\n",
    "import random\n",
    "#from Kundendatei import Kundenklasse as Kunde\n",
    "#from Bankkontodatei import Bankkontoklasse as Bankkonto\n",
    "\n",
    "class Bankklasse:\n",
    "    def __init__(self, name, leiter, adresse, region):\n",
    "        self.name = name\n",
    "        self.leiter = leiter\n",
    "        self.adresse = adresse\n",
    "        self.region = region\n",
    "        self.bankkonten = 0\n",
    "        self.BLZ = \"08051990\"\n",
    "        self.kunden_liste = []\n",
    "        self.konten_liste = []\n",
    "\n",
    "    def konto_erstellen(self, kontonummer, inhaber:Kundenklasse, saldo = 0):\n",
    "        kontonummer = \"\".join([str(random.randint(0, 9)) for _ in range(10)])\n",
    "        neues_konto = Bankkontoklasse(kontonummer, inhaber, saldo)\n",
    "        self.konten_liste.append(neues_konto)\n",
    "        self.kunden_liste.append(inhaber)\n",
    "        self.bankkonten += 1\n",
    "        print(f\"Neues Konto erstellt für {inhaber.name} mit Kontonummer {kontonummer}\")\n",
    "        return neues_konto\n",
    "\n",
    "    def konto_löschen(self, kontonummer):\n",
    "        for konto in self.konten_liste:\n",
    "            if konto.kontonummer == kontonummer:\n",
    "                self.konten_liste.remove(konto)\n",
    "                self.bankkonten -= 1\n",
    "                print(f\"Konto mit Kontonummer {kontonummer} wurde gelöscht.\")\n",
    "                return True\n",
    "        print(f\"Konto mit Kontonummer {kontonummer} nicht gefunden.\")\n",
    "        return False\n",
    "    \n",
    "    def bank_details(self):\n",
    "        print(f\"Bankname: {self.name}\\nLeiter: {self.leiter}\\nAdresse: {self.adresse}\\nRegion: {self.region}\\nAnzahl Konten: {self.bankkonten}\")    \n",
    "    \n",
    "    \n",
    "\n",
    "# Bankobjekt erstellen\n",
    "meine_bank = Bankklasse(\"Commerzbank\", \"CEO\", \"Zentrum 1\", \"DE-SH-SL/FL\")\n",
    "\n",
    "konto1 = meine_bank.konto_erstellen(inhaber=kunde1, saldo=500.00)"
   ]
  }
 ],
 "metadata": {
  "kernelspec": {
   "display_name": "Python 3",
   "language": "python",
   "name": "python3"
  },
  "language_info": {
   "codemirror_mode": {
    "name": "ipython",
    "version": 3
   },
   "file_extension": ".py",
   "mimetype": "text/x-python",
   "name": "python",
   "nbconvert_exporter": "python",
   "pygments_lexer": "ipython3",
   "version": "3.13.5"
  }
 },
 "nbformat": 4,
 "nbformat_minor": 5
}
