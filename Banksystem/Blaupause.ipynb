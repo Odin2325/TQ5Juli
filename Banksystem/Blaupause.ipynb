{
 "cells": [
  {
   "cell_type": "markdown",
   "id": "e33798a9",
   "metadata": {},
   "source": [
    "# KundenKlasse"
   ]
  },
  {
   "cell_type": "code",
   "execution_count": null,
   "id": "a7d8911a",
   "metadata": {},
   "outputs": [],
   "source": [
    "import datetime\n",
    "import random\n",
    "#from Bankkontodatei import Bankkontoklasse as Bankkonto\n",
    "#from Bankdatei import Bankklasse as Bank\n",
    "\n",
    "class Kundenklasse:\n",
    "    def __init__(self, vorname, nachname, geburtsdatum, adresse, telefonnummer, email, geschlecht):\n",
    "        self.vorname = vorname\n",
    "        self.nachname = nachname\n",
    "        self.geburtsdatum = datetime.datetime.strptime(geburtsdatum, \"%d.%m.%Y\").date()\n",
    "        self.alter = self.alter_berechnen()\n",
    "        self.kundennummer = self.kundennummer_generator()\n",
    "        self.adresse = adresse\n",
    "        self.telefonnummer = telefonnummer\n",
    "        self.email = email\n",
    "        self.name = vorname + \" \" + nachname\n",
    "        self.geschlecht = geschlecht\n",
    "\n",
    "    def kundennummer_generator(self):\n",
    "        kundennummer = \"\".join([str(random.randint(0, 9)) for _ in range(10)])\n",
    "        print(f\"Generierte Kundennummer: {kundennummer}\")\n",
    "        return kundennummer\n",
    "\n",
    "    def alter_berechnen(self):\n",
    "        heute = datetime.date.today()\n",
    "        alter = heute.year - self.geburtsdatum.year\n",
    "        # Prüfe, ob der Geburtstag in diesem Jahr schon war\n",
    "        if (heute.month, heute.day) < (self.geburtsdatum.month, self.geburtsdatum.day):\n",
    "            alter -= 1\n",
    "        return alter\n",
    "\n",
    "    def Kundendetails(self):\n",
    "        print(f\"Name: {self.name}\\nAlter {self.alter}\\nAdresse: {self.adresse}\\nTelefonnummer: {self.telefonnummer}\\nE-Mail: {self.email}\\nGeschlecht: {self.geschlecht}\")\n",
    "\n",
    "\n",
    "# kunde1 = Kundenklasse(\"Anna\", \"Schmidt\", \"15.05.1990\", \"Beispielweg 5, 12345 Berlin\", \"0171-1234567\", \"anna.schmidt@email.com\", \"weiblich\")\n"
   ]
  },
  {
   "cell_type": "markdown",
   "id": "38f2c66b",
   "metadata": {},
   "source": [
    "# BankkontoKlasse"
   ]
  },
  {
   "cell_type": "code",
   "execution_count": null,
   "id": "5a4f7fef",
   "metadata": {},
   "outputs": [],
   "source": [
    "import datetime\n",
    "import random\n",
    "from random import randint\n",
    "#from Kundendatei import Kundenklasse as Kunde\n",
    "#from Bankdatei import Bankklasse as Bank\n",
    "\n",
    "class Bankkontoklasse:\n",
    "    def __init__(self, kontonummer, inhaber, bank_objekt, saldo=0):\n",
    "        self.kontonummer = kontonummer \n",
    "        self.inhaber = inhaber\n",
    "        self.bank = bank_objekt \n",
    "        self.iban = f\"DE65 {self.bank.BLZ}{self.kontonummer}\" # IBAN generieren\n",
    "        self.pin = self.pin_generator()\n",
    "        self.saldo = saldo\n",
    "        self.dispo = 500.00\n",
    "        self.transaktionshistorie = []\n",
    "\n",
    "    @staticmethod # Methode als statisch deklarieren\n",
    "    def pin_generator():\n",
    "        neuer_pin = \"\".join([str(randint(0, 9)) for _ in range(4)])\n",
    "        return neuer_pin\n",
    "    \n",
    "    def einzahlen(self,betrag):\n",
    "        self.saldo += betrag\n",
    "        self.transaktionshistorie.append((\"Einzahlung:\" ,betrag,self.saldo))\n",
    "        print(f\"Neuer Kontostand nach Einzahlung: {self.saldo}\")\n",
    "\n",
    "    def abheben(self,betrag):\n",
    "        if betrag > self.saldo + self.dispo:\n",
    "            print(\"Nicht genug Guthaben auf dem Konto\")\n",
    "        else:\n",
    "            self.saldo -= betrag\n",
    "            self.transaktionshistorie.append((\"Abhebung:\" ,betrag,self.saldo)) \n",
    "            print(f\"Neuer Kontostand nach Abhebung: {self.saldo}\")\n",
    "\n",
    "    def konto_details(self):\n",
    "        print(\"-\" * 30)\n",
    "        print(f\"\\nKontonummer: {self.kontonummer}\\nInhaber: {self.inhaber}\\nSaldo: {self.saldo}\")\n",
    "    \n",
    "    def guthaben_details(self):\n",
    "        print(f\"Saldo: {self.saldo}\\nDispo: {self.dispo}\")   \n",
    "\n",
    "    def Transaktionen(self):\n",
    "        print(\"Transaktionshistorie:\")\n",
    "        for eintrag in self.transaktionshistorie:\n",
    "            print(eintrag)\n",
    "\n",
    "#kunde1 = Kunde(\"Paul\", \"Atreides\", \"01.01.2000\", \"Wüstenplanet Arrakis\", \"0123456789\", \"PA@so.wa\")\n",
    "\n",
    "#konto1 = Bankkontoklasse(\"40050012\",kunde1.Kundendetails,1200.00)\n",
    "#konto2 = Bankkonto(\"40050013\",\"Leto II\",2500.00))\n"
   ]
  },
  {
   "cell_type": "markdown",
   "id": "bbe4d108",
   "metadata": {},
   "source": [
    "# BankKlasse"
   ]
  },
  {
   "cell_type": "code",
   "execution_count": null,
   "id": "1c27dfea",
   "metadata": {},
   "outputs": [],
   "source": [
    "import datetime\n",
    "import random\n",
    "#from Kundendatei import Kundenklasse as Kunde\n",
    "#from Bankkontodatei import Bankkontoklasse as Bankkonto\n",
    "\n",
    "class Bankklasse:\n",
    "    def __init__(self, name, leiter, adresse, region):\n",
    "        self.name = name\n",
    "        self.leiter = leiter\n",
    "        self.adresse = adresse\n",
    "        self.region = region\n",
    "        self.bankkonten = 0\n",
    "        self.BLZ = \"08051990\"\n",
    "        self.kunden_liste = []\n",
    "        self.konten_liste = []\n",
    "\n",
    "    def kontonummer_generieren(self):\n",
    "        while True:\n",
    "            kontonummer = \"\".join([str(random.randint(0, 9)) for _ in range(10)])\n",
    "            if not any(konto.kontonummer == kontonummer for konto in self.konten_liste):\n",
    "                print(f\"Generierte Kontonummer: {kontonummer}\")\n",
    "                return kontonummer\n",
    "\n",
    "    def konto_erstellen(self, inhaber, saldo = 0):\n",
    "        kontonummer = self.kontonummer_generieren()\n",
    "        neues_konto = Bankkontoklasse(kontonummer, inhaber, self, saldo)\n",
    "        self.konten_liste.append(neues_konto)\n",
    "        self.kunden_liste.append(inhaber)\n",
    "        self.bankkonten += 1\n",
    "        print(f\"Neues Konto erstellt für {inhaber.name} mit Kontonummer {kontonummer}\")\n",
    "        return neues_konto\n",
    "\n",
    "    def konto_löschen(self, kontonummer):\n",
    "        for konto in self.konten_liste:\n",
    "            if konto.kontonummer == kontonummer:\n",
    "                self.konten_liste.remove(konto)\n",
    "                self.bankkonten -= 1\n",
    "                print(f\"Konto mit Kontonummer {kontonummer} wurde gelöscht.\")\n",
    "                return True\n",
    "        print(f\"Konto mit Kontonummer {kontonummer} nicht gefunden.\")\n",
    "        return False\n",
    "    \n",
    "    def bank_details(self):\n",
    "        print(f\"Bankname: {self.name}\\nLeiter: {self.leiter}\\nAdresse: {self.adresse}\\nRegion: {self.region}\\nAnzahl Konten: {self.bankkonten}\")    \n",
    "    \n",
    "\n"
   ]
  },
  {
   "cell_type": "markdown",
   "id": "2a965fe4",
   "metadata": {},
   "source": [
    "Verbleibende Aufgaben in die Bank Klasse:\n",
    "\n",
    "1. Bank details ausgeben. Hier sollen keine Informationen ausgegeben werden. Nur quasi Werbung information bspw. Wie viele kontos hat die Bank, wie viele kunden hat die Bank, name der Bank, hauptstandort und land. bank_details() -> str. ca. 10 \n",
    "2. kontos infos ausgeben. kunden infos ausgeben. Zwei unterschiedliche Methoden. ca. 30\n",
    "\n",
    "3. Transaktion methode. Hier muss zuerst die Klasse Bankkonto erweitert werden mit eine Methode die folgende Signatur (erste Zeile einer Methode) hat.\n",
    "   1. def(self,anderen_konto:bankkonto,betrag): -> True/False\n",
    "4. Zweitens muesste fuer eine Transaktion eine Methode in Bank geschrieben werden, wo wir die Kontos mit einander verknuepfen wenn beide Kontos in self.kontos ueberhaupt existieren.\n",
    "   1. def(self,von_konto,zu_konto,betrag): -> True/False"
   ]
  },
  {
   "cell_type": "code",
   "execution_count": null,
   "id": "58b82033",
   "metadata": {},
   "outputs": [],
   "source": [
    "meine_bank = Bankklasse(\"Commerzbank\", \"CEO\", \"Zentrum 1\", \"DE-SH-SL/FL\")\n",
    "\n",
    "kunde1 = Kundenklasse(\"Anna\", \"Schmidt\", \"15.05.1990\", \"Beispielweg 5, 12345 Berlin\", \"0171-1234567\", \"anna.schmidt@email.com\", \"weiblich\")\n",
    "\n",
    "konto1 = meine_bank.konto_erstellen(inhaber=kunde1, saldo=500.00)\n",
    "\n",
    "#meine_bank.bank_details()"
   ]
  },
  {
   "cell_type": "code",
   "execution_count": null,
   "id": "fa71b6a4",
   "metadata": {},
   "outputs": [],
   "source": [
    "print(\"Kundenliste:\", meine_bank.kunden_liste)\n",
    "\n",
    "print(\"Kontenliste:\", meine_bank.konten_liste)\n"
   ]
  },
  {
   "cell_type": "code",
   "execution_count": null,
   "id": "983f4218",
   "metadata": {},
   "outputs": [],
   "source": [
    "print(\"--- Kundenliste ---\")\n",
    "for kunde in meine_bank.kunden_liste:\n",
    "    print(f\"Name: {kunde.name}, Kundennummer: {kunde.kundennummer}\")\n",
    "\n",
    "print(\"\\n--- Kontenliste ---\")\n",
    "for konto in meine_bank.konten_liste:\n",
    "    print(f\"Kontonummer: {konto.kontonummer}, Inhaber: {konto.inhaber.name}, Saldo: {konto.saldo}\")"
   ]
  }
 ],
 "metadata": {
  "kernelspec": {
   "display_name": "Python 3",
   "language": "python",
   "name": "python3"
  },
  "language_info": {
   "codemirror_mode": {
    "name": "ipython",
    "version": 3
   },
   "file_extension": ".py",
   "mimetype": "text/x-python",
   "name": "python",
   "nbconvert_exporter": "python",
   "pygments_lexer": "ipython3",
   "version": "3.13.5"
  }
 },
 "nbformat": 4,
 "nbformat_minor": 5
}
