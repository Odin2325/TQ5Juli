{
 "cells": [
  {
   "cell_type": "markdown",
   "id": "6dcfdb9f",
   "metadata": {},
   "source": [
    "## Aufgabenstellung: Konsolenprogramm zur Personaldatenverwaltung mit Datenbankanbindung\n",
    "\n",
    "**Ziel:** Entwickeln Sie ein Konsolenprogramm zur Erfassung und Verwaltung von Personaldaten. Die Daten sollen über die Konsole eingegeben und in einer Datenbank gespeichert sowie wieder ausgelesen werden können."
   ]
  },
  {
   "cell_type": "markdown",
   "id": "d4758bfa",
   "metadata": {},
   "source": [
    "### Funktionale Anforderungen:\n",
    "1. Datenerfassung über die Konsole:\n",
    "    * Das Programm soll den Benutzer auffordern, folgende Daten einzugeben:\n",
    "        * Vorname\n",
    "        * Nachname\n",
    "        * Geburtsdatum (Format: TT.MM.JJJJ)\n",
    "        * Anschrift\n",
    "        * Körpergröße (in cm)\n",
    "        * Augenfarbe"
   ]
  },
  {
   "cell_type": "code",
   "execution_count": null,
   "id": "02f6bfc0",
   "metadata": {},
   "outputs": [],
   "source": []
  },
  {
   "cell_type": "markdown",
   "id": "a9929e93",
   "metadata": {},
   "source": [
    "2. Datenbankanbindung:\n",
    "    * Die Daten sollen in einer relationalen Datenbank gespeichert werden (z. B. SQLite)\n",
    "        * Die Datenbank soll eine Tabelle personen enthalten mit folgenden Spalten:\n",
    "        * id (Primärschlüssel, automatisch)\n",
    "        * vorname\n",
    "        * nachname\n",
    "        * geburtsdatum\n",
    "        * anschrift\n",
    "        * koerpergroesse\n",
    "        * augenfarbe"
   ]
  },
  {
   "cell_type": "code",
   "execution_count": null,
   "id": "00df50f0",
   "metadata": {},
   "outputs": [],
   "source": []
  },
  {
   "cell_type": "markdown",
   "id": "d9840d5c",
   "metadata": {},
   "source": [
    "3. Funktionen des Programms:\n",
    "    *   Datensatz hinzufügen: Benutzer gibt die Daten ein, und sie werden gespeichert.\n",
    "    * Alle Datensätze anzeigen: Alle gespeicherten Personen werden tabellarisch ausgegeben.\n",
    "    * Programmmenü: Das Programm zeigt ein Menü mit Optionen:\n",
    "        * 1 – Neue Person hinzufügen\n",
    "        * 2 – Alle Personen anzeigen\n",
    "        * 3 – Beenden"
   ]
  },
  {
   "cell_type": "code",
   "execution_count": null,
   "id": "e529c360",
   "metadata": {},
   "outputs": [],
   "source": []
  },
  {
   "cell_type": "markdown",
   "id": "3a5fdc6b",
   "metadata": {},
   "source": [
    "4. Validierung:\n",
    "    * Körpergröße muss eine positive Zahl sein.\n",
    "    * Geburtsdatum darf nicht in der Zukunft liegen.\n",
    "    * Alle Felder müssen ausgefüllt sein."
   ]
  },
  {
   "cell_type": "code",
   "execution_count": null,
   "id": "c8c40006",
   "metadata": {},
   "outputs": [],
   "source": []
  },
  {
   "cell_type": "markdown",
   "id": "700ee74d",
   "metadata": {},
   "source": [
    "### Technische Anforderungen:\n",
    "* Programmiersprache: Python\n",
    "* Datenbank: SQLite\n",
    "* Die Datenbankdatei soll beim ersten Start automatisch erstellt werden, falls sie nicht existiert.\n",
    "* Die Daten sollen sicher und strukturiert gespeichert werden."
   ]
  }
 ],
 "metadata": {
  "language_info": {
   "name": "python"
  }
 },
 "nbformat": 4,
 "nbformat_minor": 5
}
