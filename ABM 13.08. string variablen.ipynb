{
 "cells": [
  {
   "cell_type": "markdown",
   "id": "21075bf9",
   "metadata": {},
   "source": [
    "Aufgabe 1 Strings:\n",
    "\n",
    "Erstellt eine Variable mit einen Text. Ihr solltet euren wunsch in 2 unterschiedliche Zeilen ausgeben. Beide Aufgaben lösen.\n",
    "\n",
    "V1: Mit ein normalen String\n",
    "V2: Mit ein docstring"
   ]
  },
  {
   "cell_type": "code",
   "execution_count": null,
   "id": "da561fc4",
   "metadata": {},
   "outputs": [],
   "source": [
    "V1 = \"Habe es nicht wirklich verstanden.\\naber Gemini hat es mir kurz erklärt.\"\n",
    "\n",
    "print(V1)\n",
    "\n",
    "V2 = \"\"\" Das hier ist\n",
    "         irgendwie kommisch              aber mal schauen\n",
    "      \n",
    "         wann man es braucht.\"\"\"\n",
    "\n",
    "print(V2)"
   ]
  },
  {
   "cell_type": "markdown",
   "id": "c299bcf1",
   "metadata": {},
   "source": [
    "Aufgabe String Indizes und Slices\n",
    " \n",
    "Mit input() bekommen wir eine Benutzer eingabe.\n",
    "Wir moechten daher 3 Werte einlesen.\n",
    "Erster Wert fuer die Variable vorname.\n",
    "Zweiter Wert fuer die Variable nachname.\n",
    "Dritter Wert fuer die Variable alter.\n",
    " \n",
    "Unsere Aufgabe besteht aus folgendes. Die Drei variablen sollen in eine resultat variable drin sein.\n",
    " \n",
    "Dannach moechten wir das Wert an der Stelle index=10 ausgeben.\n",
    " \n",
    "Letztens wollen wir das Slice von index 16 bis ende ausgeben."
   ]
  },
  {
   "cell_type": "code",
   "execution_count": null,
   "id": "d35548f3",
   "metadata": {},
   "outputs": [],
   "source": [
    "\n",
    "# variablen für Benutzereingaben\n",
    "# Wir definieren Variablen, die später die Eingaben des Benutzers speichern werden.\n",
    "# Diese Variablen sind zunächst leer oder auf 0 gesetzt.\n",
    "# Sie werden später mit den Eingaben des Benutzers gefüllt.\n",
    "vorname = \"\"\n",
    "nachname = \"\"\n",
    "alter = 0\n",
    "# Eingabeaufforderungen für den Benutzer\n",
    "# Diese Variablen werden später verwendet, um die Benutzereingaben zu speichern\n",
    "# und können in der Anwendung weiterverarbeitet werden.\n",
    "vorname = input(\"Gib deinen Vornamen ein: \")\n",
    "nachname = input(\"Gib deinen Nachnamen ein: \")\n",
    "alter = int(input(\"Gib dein Alter ein: \"))\n",
    "\n",
    "# Erstellung der Ergebnis-Variable\n",
    "# Wir kombinieren die Variablen zu einem String und fügen Leerzeichen und einen Punkt hinzu.\n",
    "# Das Alter muss noch in einen String umgewandelt werden (str(alter)),\n",
    "# da alle Teile eines Strings sein müssen, um sie zu verbinden.\n",
    "person = vorname + \" \" + nachname + \" \" + str(alter) + \".\"\n",
    "\n",
    "# Ausgabe des Werts an Index 10 (10te Position des Strings \"person\")\n",
    "print(\"Der Wert an Index 10 ist:\", person[10])\n",
    "\n",
    "# Ausgabe des Slices von Index 16 bis zum Ende (16te Position bis zum Ende des Strings \"person\")\n",
    "print(\"Das Slice von Index 16 bis zum Ende ist:\", person[16:])"
   ]
  }
 ],
 "metadata": {
  "kernelspec": {
   "display_name": "Python 3",
   "language": "python",
   "name": "python3"
  },
  "language_info": {
   "codemirror_mode": {
    "name": "ipython",
    "version": 3
   },
   "file_extension": ".py",
   "mimetype": "text/x-python",
   "name": "python",
   "nbconvert_exporter": "python",
   "pygments_lexer": "ipython3",
   "version": "3.13.5"
  }
 },
 "nbformat": 4,
 "nbformat_minor": 5
}
