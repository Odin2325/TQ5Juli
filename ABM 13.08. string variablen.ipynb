{
 "cells": [
  {
   "cell_type": "markdown",
   "id": "21075bf9",
   "metadata": {},
   "source": [
    "Aufgabe 1 Strings:\n",
    "\n",
    "Erstellt eine Variable mit einen Text. Ihr solltet euren wunsch in 2 unterschiedliche Zeilen ausgeben. Beide Aufgaben lösen.\n",
    "\n",
    "V1: Mit ein normalen String\n",
    "V2: Mit ein docstring"
   ]
  },
  {
   "cell_type": "code",
   "execution_count": null,
   "id": "da561fc4",
   "metadata": {},
   "outputs": [],
   "source": [
    "V1 = \"Habe es nicht wirklich verstanden.\\naber Gemini hat es mir kurz erklärt.\"\n",
    "\n",
    "print(V1)\n",
    "\n",
    "V2 = \"\"\" Das hier ist\n",
    "         irgendwie kommisch              aber mal schauen\n",
    "      \n",
    "         wann man es braucht.\"\"\"\n",
    "\n",
    "print(V2)"
   ]
  }
 ],
 "metadata": {
  "kernelspec": {
   "display_name": "Python 3",
   "language": "python",
   "name": "python3"
  },
  "language_info": {
   "codemirror_mode": {
    "name": "ipython",
    "version": 3
   },
   "file_extension": ".py",
   "mimetype": "text/x-python",
   "name": "python",
   "nbconvert_exporter": "python",
   "pygments_lexer": "ipython3",
   "version": "3.13.5"
  }
 },
 "nbformat": 4,
 "nbformat_minor": 5
}
