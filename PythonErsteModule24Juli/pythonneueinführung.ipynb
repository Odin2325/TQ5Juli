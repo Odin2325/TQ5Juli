{
 "cells": [
  {
   "cell_type": "code",
   "execution_count": null,
   "id": "d8766392",
   "metadata": {},
   "outputs": [
    {
     "ename": "IndentationError",
     "evalue": "unindent does not match any outer indentation level (<string>, line 34)",
     "output_type": "error",
     "traceback": [
      "  \u001b[36mFile \u001b[39m\u001b[32m<string>:34\u001b[39m\n\u001b[31m    \u001b[39m\u001b[31m\"\"\" gesamtkosten += preis\u001b[39m\n                              ^\n\u001b[31mIndentationError\u001b[39m\u001b[31m:\u001b[39m unindent does not match any outer indentation level\n"
     ]
    }
   ],
   "source": [
    "einkaufliste = {\n",
    "    \"apfel\" : 0.5,\n",
    "    \"banane\":0.8,\n",
    "    \"milch\":1.2\n",
    "                \n",
    "                }\n",
    "\n",
    "gesamtkosten = 0\n",
    "while True:\n",
    "    produkt = input(\"Neues Produkt eingeben (oder 'ende'): \").lower()\n",
    "\n",
    "    if produkt == 'ende': \n",
    "\n",
    "        break\n",
    "    preis_str = input(f\"preis für {produkt} eingeben:\")\n",
    "    try:\n",
    "         preis = float(preis_str.replace(\",\", \".\"))\n",
    "    except ValueError:\n",
    "        print(\"ungültige eingabe! bitte zahl eingeben\")\n",
    "        continue    \n",
    "\n",
    "\n",
    "    if produkt in einkaufliste:   \n",
    "        print(f\"{produkt} ist schon vorhanden mit Preis {einkaufliste[produkt]} \")\n",
    "\n",
    "        \n",
    "        einkaufliste[produkt] += preis\n",
    "              \n",
    "\n",
    "    else:                         \n",
    "    \n",
    "      einkaufliste[produkt] = preis\n",
    "        \n",
    "      print(f\"{produkt} wurde mit Preis {preis}  gespeichert.\")\n",
    "    gesamtkosten += preis\n",
    "    print(f\"aktuelle gesamtkosten: {gesamtkosten: .2f} euro\")\n",
    " \n",
    "\n",
    "        \n",
    "            \n",
    "\n",
    "   \n",
    "\n",
    "\n",
    "\n",
    "    \n",
    "\n",
    "\n"
   ]
  },
  {
   "cell_type": "markdown",
   "id": "2afef534",
   "metadata": {},
   "source": []
  },
  {
   "cell_type": "code",
   "execution_count": null,
   "id": "aae3899c",
   "metadata": {},
   "outputs": [],
   "source": [
    "text = \"\"\n",
    "anzahl = {}\n",
    "for buchstabe in text:\n",
    "    if buchstabe in anzahl:\n",
    "        anzahl[buchstabe]+= 1\n",
    "        print(f\"der buchstabe sind {anzahl[buchstabe]}\")\n",
    "    else:\n",
    "        anzahl[buchstabe] = 1\n",
    "print(f\"der buchstabe sind {anzahl[buchstabe]}\")\n",
    "        \n",
    "\n"
   ]
  },
  {
   "cell_type": "code",
   "execution_count": 42,
   "id": "ee9c0397",
   "metadata": {},
   "outputs": [
    {
     "name": "stdout",
     "output_type": "stream",
     "text": [
      "['Phenylalanin', 'Leucin']\n"
     ]
    }
   ],
   "source": [
    "codon_protein = {\n",
    "    \"AUG\": \"Methionin\",\n",
    "    \"UUU\": \"Phenylalanin\",\n",
    "    \"UUC\": \"Phenylalanin\",\n",
    "    \"UUA\": \"Leucin\",\n",
    "    \"UUG\": \"Leucin\",\n",
    "    \"UCU\": \"Serin\",\n",
    "    \"UCC\": \"Serin\",\n",
    "    \"UCA\": \"Serin\",\n",
    "    \"UCG\": \"Serin\",\n",
    "    \"UAU\": \"Tyrosin\",\n",
    "    \"UAC\": \"Tyrosin\",\n",
    "    \"UGU\": \"Cystein\",\n",
    "    \"UGC\": \"Cystein\",\n",
    "    \"UGG\": \"Tryptophan\",\n",
    "    \"UAA\": \"STOP\",\n",
    "    \"UAG\": \"STOP\",\n",
    "    \"UGA\": \"STOP\"\n",
    "}\n",
    "    \n",
    "rna_sequenz = input(\"Gib eine RNA-Sequenz ein: \").strip().upper() \n",
    "def rna_zu_protein(rna_sequenz: str):\n",
    "    protein = []\n",
    "    codons = [rna_sequenz[i:i+3] for i in range(0, len(rna_sequenz), 3)]\n",
    "    for codon in codons:\n",
    "            \n",
    "        amino_saeure = codon_protein.get(codon)\n",
    "        if amino_saeure == \"STOP\":  # Abbruch bei STOP-Codon\n",
    "            break\n",
    "        elif amino_saeure in codon_protein.values():  # nur bekannte Codons übersetzen\n",
    "            protein.append(amino_saeure)\n",
    "    return protein\n",
    "\n",
    "print(rna_zu_protein(rna_sequenz))\n",
    "\n",
    "\n",
    "\n"
   ]
  },
  {
   "cell_type": "code",
   "execution_count": 41,
   "id": "91004468",
   "metadata": {},
   "outputs": [
    {
     "name": "stdout",
     "output_type": "stream",
     "text": [
      "['Methionin', 'Phenylalanin', 'Serin']\n"
     ]
    }
   ],
   "source": [
    "codon_protein = {\n",
    "    \"AUG\": \"Methionin\",\n",
    "    \"UUU\": \"Phenylalanin\",\n",
    "    \"UUC\": \"Phenylalanin\",\n",
    "    \"UUA\": \"Leucin\",\n",
    "    \"UUG\": \"Leucin\",\n",
    "    \"UCU\": \"Serin\",\n",
    "    \"UCC\": \"Serin\",\n",
    "    \"UCA\": \"Serin\",\n",
    "    \"UCG\": \"Serin\",\n",
    "    \"UAU\": \"Tyrosin\",\n",
    "    \"UAC\": \"Tyrosin\",\n",
    "    \"UGU\": \"Cystein\",\n",
    "    \"UGC\": \"Cystein\",\n",
    "    \"UGG\": \"Tryptophan\",\n",
    "    \"UAA\": \"STOP\",\n",
    "    \"UAG\": \"STOP\",\n",
    "    \"UGA\": \"STOP\"\n",
    "}\n",
    "\n",
    "\n",
    "rna = \"AUGUUUUCUUAAAUG\"\n",
    "protein = []\n",
    "\n",
    "for i in range(0,len(rna),3):\n",
    "    codon = rna[i:i+3]\n",
    "    if codon in codon_protein:\n",
    "        if codon_protein[codon] == \"STOP\":\n",
    "                  break\n",
    "        protein.append(codon_protein[codon])\n",
    "print(protein)        \n"
   ]
  },
  {
   "cell_type": "code",
   "execution_count": null,
   "id": "6da2637e",
   "metadata": {},
   "outputs": [
    {
     "name": "stdout",
     "output_type": "stream",
     "text": [
      "spieler karten: [5, 6] => 0\n",
      "dealer karten: ['ass', 'bube'] => 0\n",
      "keine weitree karte ziehen: [5, 6] 0\n",
      "neue karte: 5\n",
      "dealer karten: ['ass', 'bube'] => 5\n",
      "\n",
      " ---entstand---\n",
      "spieler: [5, 6] 0\n",
      "dealer : ['ass', 'bube'] 5\n",
      "Dealer gewinnt!\n"
     ]
    }
   ],
   "source": [
    "import random\n",
    "karten = [2,3,4,5,6,7,8,9,10,\"bube\",\"dame\",\"könig\",\"ass\"]\n",
    "karten_bild = {\n",
    "    \"bube\": 10,\n",
    "    \"dame\":10,\n",
    "      \"könig\":10,\n",
    "      \"ass\":11\n",
    "\n",
    "}\n",
    "spieler = [random.choice(karten),random.choice(karten)]\n",
    "\n",
    "dealer = [random.choice(karten),random.choice(karten)]\n",
    "\n",
    "spieler_gesamtpunkte = 0\n",
    "dealer_gesamtpunkte = 0\n",
    "gesamtpunkte = 0\n",
    "\n",
    "\n",
    "for i in spieler:\n",
    "    if i in karten_bild:\n",
    "        gesamtpunkte += karten_bild[i]\n",
    "        \n",
    "        \n",
    "    \n",
    "    else:\n",
    "        gesamtpunkte+=i\n",
    "print(\"spieler karten:\" , spieler,\"=>\",spieler_gesamtpunkte)\n",
    "\n",
    "\n",
    "dealer_gesamtpunkte = 0\n",
    "for i in dealer:\n",
    "    if i in karten_bild:\n",
    "        gesamtpunkte += karten_bild[i]\n",
    "    else:\n",
    "        gesamtpunkte+=i\n",
    "print(\"dealer karten:\" , dealer,\"=>\",dealer_gesamtpunkte)\n",
    "aktion = input(\"Hit oder Stand? \").lower()\n",
    "if aktion == \"hit\":\n",
    "    neue_karte = random.choice(karten)\n",
    "    spieler.append(neue_karte)\n",
    "    if neue_karte in karten_bild:\n",
    "        spieler_gesamtpunkte+=karten_bild[neue_karte]\n",
    "    else:\n",
    "        spieler_gesamtpunkte+=neue_karte\n",
    "        print(\"neue karte:\",neue_karte)\n",
    "        print(\"spieler karten:\" , spieler,\"=>\",spieler_gesamtpunkte)\n",
    "else:\n",
    "    print(\"keine weitree karte ziehen:\", spieler, spieler_gesamtpunkte)\n",
    "if spieler_gesamtpunkte >= 21 and dealer_gesamtpunkte < 17:\n",
    "    print(\"spieler verloren:\", spieler,spieler_gesamtpunkte)\n",
    "    neue_karte = random.choice(karten)\n",
    "    dealer.append(neue_karte)\n",
    "if neue_karte in karten_bild:\n",
    "        dealer_gesamtpunkte+=karten_bild[neue_karte]\n",
    "else:\n",
    "        dealer_gesamtpunkte+=neue_karte\n",
    "        print(\"neue karte:\",neue_karte)\n",
    "        print(\"dealer karten:\" , dealer,\"=>\",dealer_gesamtpunkte)\n",
    "        \n",
    "print(\"\\n ---entstand---\") \n",
    "print(\"spieler:\" , spieler, spieler_gesamtpunkte) \n",
    "print(\"dealer :\" ,dealer , dealer_gesamtpunkte)\n",
    "\n",
    "if spieler_gesamtpunkte > 21:\n",
    "        print(\"Spieler hat über 21! Verloren!\")\n",
    "elif dealer_gesamtpunkte> 21 or spieler_gesamtpunkte > dealer_gesamtpunkte:\n",
    "        print(\"Spieler gewinnt!\")\n",
    "elif dealer_gesamtpunkte > spieler_gesamtpunkte:\n",
    "        print(\"Dealer gewinnt!\")\n",
    "\n",
    "        \n",
    "else:\n",
    "        print(\"Unentschieden!\")\n",
    "\n",
    "\n",
    "\n",
    "\n",
    "\n",
    "\n",
    "\n",
    "    \n",
    "\n",
    "\n",
    "        \n",
    "            \n",
    "\n",
    "\n",
    "\n",
    "\n",
    "        \n",
    "\n",
    "    \n",
    "\n",
    "\n"
   ]
  },
  {
   "cell_type": "code",
   "execution_count": 1,
   "id": "2acd1ce3",
   "metadata": {},
   "outputs": [
    {
     "name": "stdout",
     "output_type": "stream",
     "text": [
      "ll\n"
     ]
    }
   ],
   "source": [
    "eingabe = input(\"bitte buchstabe geben:\")\n",
    "for satz in eingabe:\n",
    "    satz+=satz\n",
    "    if eingabe == \"Quit\":\n",
    "        break\n",
    "    else:\n",
    "        continue\n",
    "print(satz)\n",
    "\n"
   ]
  },
  {
   "cell_type": "code",
   "execution_count": 5,
   "id": "69d4a8c5",
   "metadata": {},
   "outputs": [
    {
     "name": "stdout",
     "output_type": "stream",
     "text": [
      "--start--\n",
      "sie haben wort spiel eingegeben.\n",
      "sie haben wort sonne eingegeben.\n",
      "--vorbei--\n"
     ]
    }
   ],
   "source": [
    "print(\"--start--\")\n",
    "while True:\n",
    "    eingabe = input(\"bitte ein wort eingeben:\").lower()\n",
    "\n",
    "    if eingabe == \"quit\":\n",
    "        break\n",
    "    else:\n",
    "    \n",
    "      print(f\"sie haben wort {eingabe} eingegeben.\")\n",
    "print(\"--vorbei--\")    "
   ]
  },
  {
   "cell_type": "code",
   "execution_count": null,
   "id": "69b71d5a",
   "metadata": {},
   "outputs": [],
   "source": []
  },
  {
   "cell_type": "code",
   "execution_count": null,
   "id": "bc3b73d2",
   "metadata": {},
   "outputs": [
    {
     "name": "stdout",
     "output_type": "stream",
     "text": [
      "--start--\n",
      "Sie haben das Wort quit eingegeben.\n"
     ]
    }
   ],
   "source": [
    "print(\"--start--\")\n",
    "eingabe = input(\"bitte ein wort eingeben:\").lower()\n",
    "while eingabe!= \"Quit\":\n",
    "    print(f\"Sie haben das Wort {eingabe} eingegeben.\")\n",
    "    eingabe = input(\"bitte ein wort eingeben:\").lower()\n",
    "\n",
    "print(\"--vorbei--\")  "
   ]
  },
  {
   "cell_type": "code",
   "execution_count": 6,
   "id": "8d138909",
   "metadata": {},
   "outputs": [
    {
     "name": "stdout",
     "output_type": "stream",
     "text": [
      "Ooooooh so knapp\n",
      "schon nah, probier nochmal\n",
      "  Wow, sehr schlecht!\n",
      "Gewonnen!!! Sie haben 4 Versuche gebraucht!\n"
     ]
    }
   ],
   "source": [
    "import random\n",
    "\n",
    "zufallzahl = random.randint(1,20)\n",
    "zähler = 0\n",
    "while True:\n",
    "     eingabe =int(input(\"Raten sie zahl!\"))\n",
    "     zähler+=1\n",
    "     if eingabe == 9:\n",
    "        print(f\"Gewonnen!!! Sie haben {zähler} Versuche gebraucht!\") \n",
    "        break\n",
    "     \n",
    "     else:\n",
    "          \n",
    "      if eingabe == 3 or eingabe == 4 or eingabe == 5:\n",
    "         print (\"Ooooooh so knapp\")\n",
    "      elif eingabe == 6 or eingabe == 7 or eingabe == 8 or eingabe == 10:\n",
    "         print(\"schon nah, probier nochmal\")\n",
    "      elif eingabe > 11:\n",
    "         print(\" Wow, sehr schlecht!\" )   \n",
    "\n",
    "\n",
    "    \n",
    "   \n",
    "\n"
   ]
  },
  {
   "cell_type": "code",
   "execution_count": null,
   "id": "0979d895",
   "metadata": {},
   "outputs": [
    {
     "name": "stdout",
     "output_type": "stream",
     "text": [
      "---- while Beispiel ----\n",
      "--Vorbei--\n"
     ]
    }
   ],
   "source": [
    "print(\"---- while Beispiel ----\")\n",
    "eingabe = input(\"Bitte Wort eingeben: \").lower()\n",
    "\n",
    "while eingabe != \"Quit\":\n",
    "    print(f\"Sie haben das Wort {eingabe} eingegeben.\")\n",
    "    eingabe = input(\"Bitte Wort eingeben: \").lower()\n",
    "\n",
    "print(\"--Vorbei--\")\n"
   ]
  },
  {
   "cell_type": "code",
   "execution_count": 5,
   "id": "286d9f57",
   "metadata": {},
   "outputs": [
    {
     "name": "stdout",
     "output_type": "stream",
     "text": [
      "die zahlen sind :[1, 2, 1, 2, 3, 4, 5, 6, 7, 8]\n",
      "39\n"
     ]
    }
   ],
   "source": [
    "zahlen=[]\n",
    "\n",
    "\n",
    "summe = 0\n",
    "for i in range(10):\n",
    "    eingabe = int(input(\"bitte geben sie 10 zahlen ein\"))\n",
    "    \n",
    "    zahlen.append(eingabe)\n",
    "    \n",
    "    summe+=eingabe\n",
    "  \n",
    "print(f\"die zahlen sind :{zahlen}\")\n",
    "print(summe)\n",
    "        "
   ]
  },
  {
   "cell_type": "code",
   "execution_count": 13,
   "id": "8159da33",
   "metadata": {},
   "outputs": [
    {
     "name": "stdout",
     "output_type": "stream",
     "text": [
      "1 hoch 3 = 1\n",
      "2 hoch 3 = 8\n",
      "3 hoch 3 = 27\n",
      "4 hoch 3 = 64\n",
      "5 hoch 3 = 125\n",
      "6 hoch 3 = 216\n"
     ]
    }
   ],
   "source": [
    "import math\n",
    "kubus = 0\n",
    "\n",
    "for i in range(1,7):\n",
    "    eingabe = int(input(\"bitte zahl eingeben:\"))\n",
    "    kubus = math.pow(i,3)\n",
    "    print(f\"{i} hoch 3 = {int(kubus)}\")\n"
   ]
  },
  {
   "cell_type": "code",
   "execution_count": null,
   "id": "c8aa1c46",
   "metadata": {},
   "outputs": [
    {
     "name": "stdout",
     "output_type": "stream",
     "text": [
      "\n",
      "*\n",
      "**\n",
      "***\n",
      "****\n"
     ]
    }
   ],
   "source": [
    "\n",
    "sterne = \"\"\n",
    "for i in range(1,5):\n",
    "    sterne = \"\"\n",
    "    i = i*\"*\"\n",
    "    print(i)\n"
   ]
  },
  {
   "cell_type": "code",
   "execution_count": null,
   "id": "6e203a15",
   "metadata": {},
   "outputs": [],
   "source": []
  },
  {
   "cell_type": "markdown",
   "id": "ab6a4b75",
   "metadata": {},
   "source": []
  },
  {
   "cell_type": "code",
   "execution_count": 3,
   "id": "c5c978a6",
   "metadata": {},
   "outputs": [
    {
     "name": "stdout",
     "output_type": "stream",
     "text": [
      "spieler karten: ['könig', 'ass'] => 21\n",
      "dealer karten: ['bube', 10] => 20\n",
      "neue karte: 3\n",
      "spieler karten: ['könig', 'ass', 3] => 24\n",
      "\n",
      "--- Endstand ---\n",
      "Spieler: ['könig', 'ass', 3] => 24\n",
      "Dealer : ['bube', 10] => 20\n",
      "Spieler hat über 21! Verloren!\n"
     ]
    }
   ],
   "source": [
    "import random\n",
    "\n",
    "karten = [2, 3, 4, 5, 6, 7, 8, 9, 10, \"bube\", \"dame\", \"könig\", \"ass\"]*4\n",
    "karten_bild = {\n",
    "    \"bube\": 10,\n",
    "    \"dame\": 10,\n",
    "    \"könig\": 10,\n",
    "    \"ass\": 11\n",
    "}\n",
    "# beispil: der spieler hat eine karte(7,\"ass\") und dealer hat karte(\"bube\",4)\n",
    "spieler=[random.choice(karten), random.choice(karten)]\n",
    "dealer=[random.choice(karten), random.choice(karten)]\n",
    "#functio\n",
    "def punkte_berchne(hand):\n",
    "    punkte = 0   #startpunktzahl\n",
    "    for k in hand:#gehe jede Karte in der Hand durch\n",
    "        match k:#prüft den Typ der Karte (match schaut sich die Karte an und entscheidet, zu welchem case sie passt.)\n",
    "            case \"bube\"| \"dame\"| \"könig\"| \"ass\":#wenn die Karte eine Bildkarte ist\n",
    "                punkte +=karten_bild[k]#addiere den Wert aus dem Dictionary\n",
    "            case _:  #für alle anderen Karten (Zahlenkarten)\n",
    "                punkte+=k #addiere einfach die Zahl\n",
    "    return punkte\n",
    "spieler_gesamtpunkte=punkte_berchne(spieler)\n",
    "dealer_gesamtpunkte=punkte_berchne(dealer)\n",
    "\n",
    "print(\"spieler karten:\",spieler,\"=>\",spieler_gesamtpunkte)  \n",
    "print(\"dealer karten:\",dealer,\"=>\",dealer_gesamtpunkte)\n",
    "\n",
    "aktion = input(\"hit oder stand? \").lower()\n",
    "match aktion:\n",
    "    case \"hit\":\n",
    "        neue_karte = random.choice(karten)\n",
    "        spieler.append(neue_karte)\n",
    "        match neue_karte:\n",
    "            case \"bube\"|\"dame\"|\"könig\"|\"ass\":\n",
    "                spieler_gesamtpunkte=karten_bild[neue_karte]\n",
    "            case _:\n",
    "                 spieler_gesamtpunkte+=neue_karte\n",
    "        print(\"neue karte:\", neue_karte)\n",
    "        print(\"spieler karten:\", spieler, \"=>\", spieler_gesamtpunkte)\n",
    "    case \"stand\":\n",
    "        print(\"keine weitere karte gezogen:\", spieler, \"=>\", spieler_gesamtpunkte)\n",
    "    case _:\n",
    "         print(\"Ungültige Eingabe. Keine Aktion durchgeführt.\")\n",
    "\n",
    "\n",
    "print(\"\\n--- Endstand ---\")\n",
    "print(\"Spieler:\", spieler, \"=>\", spieler_gesamtpunkte)\n",
    "print(\"Dealer :\", dealer, \"=>\", dealer_gesamtpunkte)\n",
    "\n",
    "match True:\n",
    "    case _ if spieler_gesamtpunkte > 21:\n",
    "        print(\"Spieler hat über 21! Verloren!\")\n",
    "    case _ if dealer_gesamtpunkte > 21 or spieler_gesamtpunkte > dealer_gesamtpunkte:\n",
    "        print(\"Spieler gewinnt!\")\n",
    "    case _ if dealer_gesamtpunkte > spieler_gesamtpunkte:\n",
    "        print(\"Dealer gewinnt!\")\n",
    "    case _:\n",
    "        print(\"Unentschieden!\")\n",
    "\n",
    "\n",
    "\n",
    "\n",
    "\n",
    "\n",
    "                \n",
    "\n"
   ]
  },
  {
   "cell_type": "code",
   "execution_count": 2,
   "id": "fe14b4f0",
   "metadata": {},
   "outputs": [
    {
     "ename": "TypeError",
     "evalue": "unsupported operand type(s) for +=: 'int' and 'str'",
     "output_type": "error",
     "traceback": [
      "\u001b[31m---------------------------------------------------------------------------\u001b[39m",
      "\u001b[31mTypeError\u001b[39m                                 Traceback (most recent call last)",
      "\u001b[36mCell\u001b[39m\u001b[36m \u001b[39m\u001b[32mIn[2]\u001b[39m\u001b[32m, line 7\u001b[39m\n\u001b[32m      4\u001b[39m         summe += value\n\u001b[32m      5\u001b[39m     \u001b[38;5;28mprint\u001b[39m(\u001b[33m'\u001b[39m\u001b[33mSumme:\u001b[39m\u001b[33m'\u001b[39m,summe)\n\u001b[32m----> \u001b[39m\u001b[32m7\u001b[39m \u001b[43msumme\u001b[49m\u001b[43m(\u001b[49m\u001b[33;43m\"\u001b[39;49m\u001b[33;43mhello\u001b[39;49m\u001b[33;43m\"\u001b[39;49m\u001b[43m)\u001b[49m\n",
      "\u001b[36mCell\u001b[39m\u001b[36m \u001b[39m\u001b[32mIn[2]\u001b[39m\u001b[32m, line 4\u001b[39m, in \u001b[36msumme\u001b[39m\u001b[34m(values)\u001b[39m\n\u001b[32m      2\u001b[39m summe = \u001b[32m0\u001b[39m\n\u001b[32m      3\u001b[39m \u001b[38;5;28;01mfor\u001b[39;00m value \u001b[38;5;129;01min\u001b[39;00m values:\n\u001b[32m----> \u001b[39m\u001b[32m4\u001b[39m     \u001b[43msumme\u001b[49m\u001b[43m \u001b[49m\u001b[43m+\u001b[49m\u001b[43m=\u001b[49m\u001b[43m \u001b[49m\u001b[43mvalue\u001b[49m\n\u001b[32m      5\u001b[39m \u001b[38;5;28mprint\u001b[39m(\u001b[33m'\u001b[39m\u001b[33mSumme:\u001b[39m\u001b[33m'\u001b[39m,summe)\n",
      "\u001b[31mTypeError\u001b[39m: unsupported operand type(s) for +=: 'int' and 'str'"
     ]
    }
   ],
   "source": [
    "def summe(values):\n",
    "    summe = 0\n",
    "    for value in values:\n",
    "        summe += value\n",
    "    print('Summe:',summe)\n",
    "\n",
    "summe(\"hello\")"
   ]
  },
  {
   "cell_type": "code",
   "execution_count": 6,
   "id": "eaaf3da5",
   "metadata": {},
   "outputs": [
    {
     "ename": "TypeError",
     "evalue": "einkaufliste_eingeben() takes 1 positional argument but 3 were given",
     "output_type": "error",
     "traceback": [
      "\u001b[31m---------------------------------------------------------------------------\u001b[39m",
      "\u001b[31mTypeError\u001b[39m                                 Traceback (most recent call last)",
      "\u001b[36mCell\u001b[39m\u001b[36m \u001b[39m\u001b[32mIn[6]\u001b[39m\u001b[32m, line 24\u001b[39m\n\u001b[32m     22\u001b[39m     \u001b[38;5;28mprint\u001b[39m(einkaufliste) \n\u001b[32m     23\u001b[39m     \u001b[38;5;28;01mreturn\u001b[39;00m einkaufliste \n\u001b[32m---> \u001b[39m\u001b[32m24\u001b[39m \u001b[43meinkaufliste_eingeben\u001b[49m\u001b[43m(\u001b[49m\u001b[33;43m\"\u001b[39;49m\u001b[33;43mapfel\u001b[39;49m\u001b[33;43m\"\u001b[39;49m\u001b[43m,\u001b[49m\u001b[43m \u001b[49m\u001b[33;43m\"\u001b[39;49m\u001b[33;43mbanane\u001b[39;49m\u001b[33;43m\"\u001b[39;49m\u001b[43m,\u001b[49m\u001b[33;43m\"\u001b[39;49m\u001b[33;43mmilch\u001b[39;49m\u001b[33;43m\"\u001b[39;49m\u001b[43m)\u001b[49m\n",
      "\u001b[31mTypeError\u001b[39m: einkaufliste_eingeben() takes 1 positional argument but 3 were given"
     ]
    }
   ],
   "source": [
    "def einkaufliste_eingeben(eingabe):\n",
    "    \"\"\"\n",
    "     produkte in list hinfügen\n",
    "\n",
    "\n",
    "     Parameters\n",
    "    ----------\n",
    "    eingabe : str\n",
    "        Eine Liste von string.\n",
    "\n",
    "    Returns\n",
    "    -------\n",
    "    str\n",
    "        Das liste von produkte    \n",
    "\n",
    "    \"\"\"\n",
    "    einkaufliste = []\n",
    "    while eingabe != \"quit\":\n",
    "          eingabe=input(\"was möchten sie einkaufen:\").lower()\n",
    "          if eingabe != \"quit\":\n",
    "            einkaufliste.append(eingabe)\n",
    "    print(einkaufliste) \n",
    "    return einkaufliste \n",
    "einkaufliste_eingeben(\"apfel\", \"banane\",\"milch\")\n",
    "\n",
    "\n",
    "\n",
    "\n",
    "  \n",
    "    "
   ]
  },
  {
   "cell_type": "code",
   "execution_count": 13,
   "id": "423c46fe",
   "metadata": {},
   "outputs": [
    {
     "name": "stdout",
     "output_type": "stream",
     "text": [
      "['apfel', 'banane', 'milch']\n"
     ]
    }
   ],
   "source": [
    "def einkaufliste_eingeben(produkte):\n",
    "    \"\"\"\n",
    "    Produkte in Liste hinzufügen\n",
    "    \"\"\"\n",
    "    einkaufliste = list(produkte)\n",
    "    print(einkaufliste)\n",
    "    \n",
    "\n",
    "\n",
    "# Aufruf mit mehreren Argumenten\n",
    "einkaufliste_eingeben([\"apfel\", \"banane\", \"milch\"])\n"
   ]
  },
  {
   "cell_type": "code",
   "execution_count": null,
   "id": "8ad09f65",
   "metadata": {},
   "outputs": [
    {
     "name": "stdout",
     "output_type": "stream",
     "text": [
      "meine karte sind: [2, 'bube']\n",
      "dealerkarte : 3\n",
      "sie haben hit ausgewält\n",
      "[2, 'bube', 'bube']\n",
      "sie haben stand ausgewält\n",
      "sie haben verloren\n",
      "dealer karten: [3, 'bube']\n",
      "Dealer Karten: [3, 'bube', 7]\n"
     ]
    },
    {
     "ename": "KeyError",
     "evalue": "7",
     "output_type": "error",
     "traceback": [
      "\u001b[31m---------------------------------------------------------------------------\u001b[39m",
      "\u001b[31mKeyError\u001b[39m                                  Traceback (most recent call last)",
      "\u001b[36mCell\u001b[39m\u001b[36m \u001b[39m\u001b[32mIn[4]\u001b[39m\u001b[32m, line 61\u001b[39m\n\u001b[32m     59\u001b[39m \u001b[38;5;28mprint\u001b[39m(\u001b[33m\"\u001b[39m\u001b[33mDealer Karten:\u001b[39m\u001b[33m\"\u001b[39m,dealer_karten)\n\u001b[32m     60\u001b[39m \u001b[38;5;28;01mif\u001b[39;00m \u001b[38;5;28mtype\u001b[39m(dealer_karte)==\u001b[38;5;28mstr\u001b[39m:\n\u001b[32m---> \u001b[39m\u001b[32m61\u001b[39m  dealer_punkte+=\u001b[43mkarten_werte\u001b[49m\u001b[43m[\u001b[49m\u001b[43mneue_karte\u001b[49m\u001b[43m]\u001b[49m  \n\u001b[32m     62\u001b[39m \u001b[38;5;28;01melse\u001b[39;00m:\n\u001b[32m     63\u001b[39m  dealer_punkte+=neue_karte \n",
      "\u001b[31mKeyError\u001b[39m: 7"
     ]
    },
    {
     "ename": "",
     "evalue": "",
     "output_type": "error",
     "traceback": [
      "\u001b[1;31mThe Kernel crashed while executing code in the current cell or a previous cell. \n",
      "\u001b[1;31mPlease review the code in the cell(s) to identify a possible cause of the failure. \n",
      "\u001b[1;31mClick <a href='https://aka.ms/vscodeJupyterKernelCrash'>here</a> for more info. \n",
      "\u001b[1;31mView Jupyter <a href='command:jupyter.viewOutput'>log</a> for further details."
     ]
    }
   ],
   "source": [
    "import random\n",
    "spielkarten = [2,3,4,5,7,8,9,10, 'bube','dame','könig','ass']*4\n",
    "\n",
    "karten_werte={\n",
    "      \"bube\": 10,\n",
    "    \"dame\": 10,\n",
    "\n",
    "    \"könig\": 10,\n",
    "    \"ass\": 11\n",
    "\n",
    "}\n",
    "\n",
    "spieler_karten=[random.choice(spielkarten),random.choice(spielkarten)]\n",
    "dealer_karten=[random.choice(spielkarten),random.choice(spielkarten)]\n",
    "\n",
    "print('meine karte sind:',spieler_karten)\n",
    "print ('dealerkarte :',dealer_karten[0])\n",
    "\n",
    "\n",
    "while True:\n",
    "  eingabe= input(\"bitte hit oder stand eingeben\").lower()\n",
    "  if eingabe =='hit':\n",
    "    print('sie haben hit ausgewält')\n",
    "    spieler_karten.append(random.choice(spielkarten))\n",
    "\n",
    "    print(spieler_karten)\n",
    "    \n",
    "  elif eingabe=='stand':\n",
    "    print('sie haben stand ausgewält')\n",
    "    break\n",
    "\n",
    "  else:\n",
    "    print('wir haben nicht verstanden,bitte nur hit oder stand ein geben')\n",
    "    continue \n",
    "spieler_punkte=0\n",
    "for spieler_karte in spieler_karten:\n",
    "  if type(spieler_karte)==str:\n",
    "    spieler_punkte+=karten_werte[spieler_karte]  \n",
    "  else:\n",
    "    spieler_punkte+=spieler_karte\n",
    "\n",
    "if spieler_punkte >21:\n",
    "  print(\"sie haben verloren\") \n",
    "  quit() \n",
    "\n",
    "\n",
    "dealer_punkte=0\n",
    "for dealer_karte in dealer_karten:\n",
    "  if type(dealer_karte)==str:\n",
    "    dealer_punkte+=karten_werte[dealer_karte]  \n",
    "  else:\n",
    "    dealer_punkte+=dealer_karte \n",
    "print(\"dealer karten:\",dealer_karten)\n",
    "#dealerschleife    \n",
    "\n",
    "while dealer_punkte<spieler_punkte:\n",
    "    neue_karte=random.choice(spielkarten)\n",
    "    dealer_karten.append(neue_karte)\n",
    "    print(\"Dealer Karten:\",dealer_karten)\n",
    "    if type(dealer_karte)==str:\n",
    "     dealer_punkte+=karten_werte[neue_karte]  \n",
    "    else:\n",
    "     dealer_punkte+=neue_karte \n",
    "\n",
    "    if dealer_punkte>21 or spieler_punkte>dealer_punkte:\n",
    "      print(\"dealer hat verloren\")\n",
    "    elif dealer_punkte==spieler_punkte:\n",
    "      print(\"unteschieden\") \n",
    "    else:\n",
    "      print(\"dealer gewonnen\")  \n",
    "\n",
    "     \n",
    "\n",
    "\n",
    "\n"
   ]
  },
  {
   "cell_type": "code",
   "execution_count": null,
   "id": "dfd0bf5f",
   "metadata": {},
   "outputs": [],
   "source": [
    "def func(vorname='sarah', nachname):\n",
    "    print(vorname,nachname)\n",
    "func()    "
   ]
  },
  {
   "cell_type": "code",
   "execution_count": null,
   "id": "3fd6aa1e",
   "metadata": {},
   "outputs": [
    {
     "name": "stdout",
     "output_type": "stream",
     "text": [
      "produkte apfel preis 3\n",
      "produkte milch preis 2\n",
      "produkte banane preis 2\n",
      "produkte birne preis 1\n",
      "gesamtbetrag: 8.72\n",
      "durchschnitt 9.504800000000001\n",
      "durchschnitt 0.8720000000000001\n"
     ]
    }
   ],
   "source": [
    "def gesamt_betrag(steuer=0.19,steuer1=0.1,**produkte_prise,):\n",
    "    summe=0\n",
    "    for key, value in produkte_prise.items():\n",
    "        print(\"produkte\", key, \"preis\", value)\n",
    "       \n",
    "        summe+=value\n",
    "\n",
    "    print('gesamtbetrag:',summe)\n",
    "    print('durchschnitt',round(summe * (1 + steuer), 2))\n",
    "    print('durchschnitt', round(summe * steuer, 2))\n",
    "    \n",
    "\n",
    "gesamt_betrag(apfel=3,milch=2,banane=2,birne=1)    \n",
    "       \n",
    "  "
   ]
  },
  {
   "cell_type": "code",
   "execution_count": 13,
   "id": "6fd92e44",
   "metadata": {},
   "outputs": [
    {
     "name": "stdout",
     "output_type": "stream",
     "text": [
      "95.0\n"
     ]
    }
   ],
   "source": [
    "def convert_temperature(value, to=\"fahrenheit\"):\n",
    "    \"\"\"\n",
    "      Wandelt eine Temperatur von Celsius in Fahrenheit oder Kelvin um.\n",
    "\n",
    "    \"\"\"\n",
    "    if to == \"fahrenheit\":\n",
    "        fahrenheit= value*9/5+32\n",
    "        return fahrenheit\n",
    "    if to == \"kelvin\":\n",
    "        kelvin=value+237.15\n",
    "        return kelvin\n",
    "    else:\n",
    "       return  'ungültige einheit'\n",
    "\n",
    "print(convert_temperature(35,to='fahrenheit'))           \n"
   ]
  },
  {
   "cell_type": "code",
   "execution_count": null,
   "id": "7cbb6257",
   "metadata": {},
   "outputs": [
    {
     "name": "stdout",
     "output_type": "stream",
     "text": [
      "nicht gültige aufgabe\n",
      "None\n"
     ]
    }
   ],
   "source": [
    "def collatz_conjecture(n):\n",
    "    schrite=0\n",
    "    if n/2==0:\n",
    "        return n\n",
    "    elif n/2==1:\n",
    "        3*n+1\n",
    "        \n",
    "        return n \n",
    "    else:\n",
    "        print(\"nicht gültige aufgabe\")\n",
    "(collatz_conjecture(12))\n",
    "\n",
    "\n",
    "\n",
    " \n"
   ]
  },
  {
   "cell_type": "code",
   "execution_count": 11,
   "id": "b1b60b3a",
   "metadata": {},
   "outputs": [
    {
     "name": "stdout",
     "output_type": "stream",
     "text": [
      "6\n",
      "22\n"
     ]
    }
   ],
   "source": [
    "def collatz_schritt(n):\n",
    "    if n % 2 == 0:       # gerade\n",
    "        return n // 2\n",
    "    else:                # ungerade\n",
    "        return 3 * n + 1\n",
    "\n",
    "# Beispiele:\n",
    "print(collatz_schritt(12))  # 12 ist gerade -> 6\n",
    "print(collatz_schritt(7))   # 7 ist ungerade -> 22\n"
   ]
  },
  {
   "cell_type": "code",
   "execution_count": 13,
   "id": "ffaa7840",
   "metadata": {},
   "outputs": [
    {
     "name": "stdout",
     "output_type": "stream",
     "text": [
      "10\n",
      "5\n",
      "16\n",
      "8\n",
      "4\n",
      "2\n",
      "1\n",
      "Schritte: 7\n"
     ]
    }
   ],
   "source": [
    "def collatz_conjecture(n):\n",
    "    schrite = 0\n",
    "    while n != 1:\n",
    "        if n % 2 == 0:       # gerade\n",
    "            n = n // 2\n",
    "        else:                # ungerade\n",
    "            n = 3 * n + 1\n",
    "        schrite += 1\n",
    "        print(n)             # Verlauf anzeigen\n",
    "    return schrite\n",
    "\n",
    "# Test\n",
    "print(\"Schritte:\", collatz_conjecture(20))\n"
   ]
  },
  {
   "cell_type": "code",
   "execution_count": null,
   "id": "26d32903",
   "metadata": {},
   "outputs": [],
   "source": []
  },
  {
   "cell_type": "code",
   "execution_count": 22,
   "id": "5bd4c71b",
   "metadata": {},
   "outputs": [
    {
     "name": "stdout",
     "output_type": "stream",
     "text": [
      "6139950253\n",
      "6139950253\n",
      "6139950253\n"
     ]
    }
   ],
   "source": [
    "def telefon_nummer(nur_ziffer):\n",
    "    nummer=\"(613)-995-0253\"\n",
    "    nur_ziffer=\"\"\n",
    "   \n",
    "    for zeichen in nummer:\n",
    "        if zeichen.isdigit():\n",
    "            nur_ziffer+=zeichen\n",
    "    return nur_ziffer\n",
    "    if nur_ziffer.startswith(\"1\"):\n",
    "        nur_ziffer = nur_ziffer[1:]\n",
    "    return nur_ziffer\n",
    "        \n",
    "\n",
    "print(telefon_nummer(\"613-995-0253\"))\n",
    "print(telefon_nummer(\" 613.995.0253\"))\n",
    "print(telefon_nummer(\"+1 (613)-995-0253\"))\n"
   ]
  },
  {
   "cell_type": "markdown",
   "id": "20c0168f",
   "metadata": {},
   "source": [
    "PROZEDURE ToRoman(n)\n",
    "ganz\n",
    "\n",
    "\n",
    " solange (wert,symbol)                      \n",
    "\n",
    "\n"
   ]
  },
  {
   "cell_type": "code",
   "execution_count": 1,
   "id": "2595894c",
   "metadata": {},
   "outputs": [
    {
     "name": "stdout",
     "output_type": "stream",
     "text": [
      "die römischzahl ist: VI\n"
     ]
    }
   ],
   "source": [
    "symbole = [\n",
    "    (1000, \"M\"), (900, \"CM\"), (500, \"D\"), (400, \"CD\"),\n",
    "    (100, \"C\"), (90, \"XC\"), (50, \"L\"), (40, \"XL\"),\n",
    "    (10, \"X\"), (9, \"IX\"), (5, \"V\"), (4, \"IV\"), (1, \"I\")\n",
    "]\n",
    "\n",
    "def to_roman(n):\n",
    "    roman=\"\"\n",
    "    for wert, symbol in symbole:\n",
    "        if n>wert:\n",
    "            roman+=symbol\n",
    "            n-=wert\n",
    "    return(roman) \n",
    "zahl=int(input(\"geben sie bitte zahl zwischen 1 und 3999 :\")) \n",
    "print(\"die römischzahl ist:\", to_roman(zahl))      \n",
    "\n",
    "\n",
    "\n",
    "    "
   ]
  },
  {
   "cell_type": "markdown",
   "id": "f303002f",
   "metadata": {},
   "source": [
    "PROZEDUR ToRoman(n)\n",
    "    // n ist die Zahl, die umgewandelt werden soll\n",
    "  zeichenkette Roman := \"\"  Z  // Ergebnisvariable\n",
    "\n",
    "    // Liste der römischen Symbole und Werte, vom größten zum kleinsten\n",
    "    Liste Symbole := [(1000,\"M\"), (900,\"CM\"), (500,\"D\"), (400,\"CD\"),\n",
    "                       (100,\"C\"), (90,\"XC\"), (50,\"L\"), (40,\"XL\"),\n",
    "                       (10,\"X\"), (9,\"IX\"), (5,\"V\"), (4,\"IV\"), (1,\"I\")]\n",
    "\n",
    "    FÜR jedes (Wert, Symbol) IN Symbole:\n",
    "        SOLANGE n >= Wert:\n",
    "            Roman := Roman + Symbol\n",
    "            n := n - Wert\n",
    "\n",
    "    AUSGABE \"Die römische Zahl ist:\", Roman\n",
    "ENDPROZEDUR\n"
   ]
  },
  {
   "cell_type": "markdown",
   "id": "6ea17e3e",
   "metadata": {},
   "source": [
    "OOP"
   ]
  },
  {
   "cell_type": "code",
   "execution_count": 9,
   "id": "b411595a",
   "metadata": {},
   "outputs": [
    {
     "name": "stdout",
     "output_type": "stream",
     "text": [
      "bankdetail:\n",
      " kontoinhab=saba\n",
      " kontonummer = 34527799\n",
      " startguthaben =53\n",
      " wärung = EUR\n",
      " bankname=sparkasse\n"
     ]
    }
   ],
   "source": [
    "class Bankkonto:\n",
    "    def __init__(self,kontoinhaber,kontonummer,startguthaben=0):\n",
    "        self.kontoinhaber = kontoinhaber\n",
    "        self.kontonummer = kontonummer\n",
    "        self.startguthaben = startguthaben\n",
    "        self.Währung ='EUR'\n",
    "        self.bankname ='sparkasse'\n",
    "\n",
    "    def bank_detail(self):\n",
    "        print(f\"bankdetail:\\n kontoinhab={self.kontoinhaber}\\n kontonummer = {self.kontonummer}\\n startguthaben ={self.startguthaben}\\n wärung = {self.Währung}\\n bankname={self.bankname}\")   \n",
    "\n",
    "\n",
    "mein_konto = Bankkonto('saba',34527799,53) \n",
    "mein_konto.bank_detail()       "
   ]
  },
  {
   "cell_type": "code",
   "execution_count": 11,
   "id": "314357db",
   "metadata": {},
   "outputs": [
    {
     "data": {
      "text/plain": [
       "2.0"
      ]
     },
     "execution_count": 11,
     "metadata": {},
     "output_type": "execute_result"
    }
   ],
   "source": [
    "class Rechner:\n",
    "    def summe(*values):\n",
    "        return sum(values)\n",
    "    \n",
    "    def teilen(zahl,denominator):\n",
    "        return zahl/denominator\n",
    "    \n",
    "Rechner.summe(23,5,54,24,4243,45,56)\n",
    "Rechner.teilen(12,6)"
   ]
  },
  {
   "cell_type": "code",
   "execution_count": 11,
   "id": "ac796af3",
   "metadata": {},
   "outputs": [
    {
     "ename": "SyntaxError",
     "evalue": "invalid syntax (2306882386.py, line 1)",
     "output_type": "error",
     "traceback": [
      "  \u001b[36mCell\u001b[39m\u001b[36m \u001b[39m\u001b[32mIn[11]\u001b[39m\u001b[32m, line 1\u001b[39m\n\u001b[31m    \u001b[39m\u001b[31mAufgabe 1: Auto klasse erstellen. Hier muessen wir selber eigenschaften im Konstruktor definieren. Stellt fest, dass die eigenschaft aktuelle_geschwindigkeit auch existiert. Andere notwendige attribute: geparkt und angeschaltet.\u001b[39m\n            ^\n\u001b[31mSyntaxError\u001b[39m\u001b[31m:\u001b[39m invalid syntax\n"
     ]
    }
   ],
   "source": [
    "Aufgabe 1: Auto klasse erstellen. Hier muessen wir selber eigenschaften im Konstruktor definieren. Stellt fest, dass die eigenschaft aktuelle_geschwindigkeit auch existiert. Andere notwendige attribute: geparkt und angeschaltet. \n",
    "\n",
    "Schneller fahren duerfen wir nur, wenn das auto nicht geparkt ist und angeschaltet ist.\n",
    "schneller_fahren(grenze) => Diese Methode soll die aktuelle geschwindigkeit erhoehen jeweils um 5 und dieser Wert soll immer ausgegeben werden auf die konsole. Es soll die geschwindigkeit bis zu eine grenze erhoehen.\n",
    "    \n",
    "\n",
    "\n",
    "\n",
    "mein_auto = Auto('rot', 'Bmw')\n",
    "mein_auto.bremsen()          # Methode aufrufen\n",
    "print(mein_auto.notbremse_aktiv)\n",
    "        \n",
    "\n",
    "          \n",
    "\n",
    "\n",
    "\n"
   ]
  },
  {
   "cell_type": "markdown",
   "id": "bf71fbf9",
   "metadata": {},
   "source": []
  },
  {
   "cell_type": "code",
   "execution_count": null,
   "id": "3d7ab733",
   "metadata": {},
   "outputs": [],
   "source": [
    "class Auto:\n",
    "    def __init__(self,farbe,model):\n",
    "        self.farbe = farbe\n",
    "        self.model = model\n",
    "        self.notbremse_aktiv = True\n",
    "        self.ausgeschaltet = True\n",
    "        self.aktuelle_geschwindigkeit = 0\n",
    "\n",
    "\n",
    "    \n",
    "    def bremsen(self, notbremse_aktiv=False):\n",
    "        self.notbremse_aktiv = notbremse_aktiv\n",
    "    def bremsen(self, notbremse_aktiv=True):\n",
    "        self.notbremse_aktiv = notbremse_aktiv\n",
    "        def schneller_fahren(self,aktuelle_geschwindigkeit=0,grenze=0):\n",
    "            self.aktuelle_geschwindigkeit=aktuelle_geschwindigkeit\n",
    "            if self.aktuelle_geschwindigkeit < grenze:\n",
    "                aktuelle_geschwindigkeit+=5\n",
    "\n",
    "\n",
    "    \n",
    "    def schalten(self, ausgeschaltet=True):\n",
    "        self.ausgeschaltet = ausgeschaltet\n",
    "        \n",
    "        def schneller_fahren(self,aktuelle_geschwindigkeit=0,grenze=0):\n",
    "            self.aktuelle_geschwindigkeit=aktuelle_geschwindigkeit\n",
    "            if self.aktuelle_geschwindigkeit < grenze:\n",
    "                aktuelle_geschwindigkeit+=5\n",
    "\n",
    "    def schalten(self, ausgeschaltet=False):\n",
    "        self.ausgeschaltet = ausgeschaltet                   "
   ]
  },
  {
   "cell_type": "code",
   "execution_count": 15,
   "id": "0af751ff",
   "metadata": {},
   "outputs": [
    {
     "name": "stdout",
     "output_type": "stream",
     "text": [
      "Auto ist eingeschaltet.\n",
      "Auto ist nicht geparkt.\n",
      "Aktuelle Geschwindigkeit: 5\n",
      "Aktuelle Geschwindigkeit: 10\n",
      "Aktuelle Geschwindigkeit: 15\n",
      "Aktuelle Geschwindigkeit: 20\n",
      "Aktuelle Geschwindigkeit: 25\n",
      "Aktuelle Geschwindigkeit: 30\n",
      "Auto hat gebremst. Geschwindigkeit = 0\n"
     ]
    }
   ],
   "source": [
    "class Auto:\n",
    "    def __init__(self, farbe, model):\n",
    "        self.farbe = farbe\n",
    "        self.model = model\n",
    "        self.geparkt = True\n",
    "        self.angeschaltet = False\n",
    "        self.aktuelle_geschwindigkeit = 0\n",
    "\n",
    "    def schalten(self, anschalten=True):\n",
    "        \"\"\"Auto ein- oder ausschalten\"\"\"\n",
    "        self.angeschaltet = anschalten\n",
    "        if self.angeschaltet:\n",
    "            print(\"Auto ist eingeschaltet.\")\n",
    "        else:\n",
    "            print(\"Auto ist ausgeschaltet.\")\n",
    "\n",
    "    def parken(self,parken=True):\n",
    "        \"\"\"Auto parken oder ausparken\"\"\"\n",
    "        self.geparkt = parken\n",
    "        if self.geparkt:\n",
    "            print(\"Auto ist geparkt.\")\n",
    "        else:\n",
    "            print(\"Auto ist nicht geparkt.\")\n",
    "\n",
    "    def schneller_fahren(self, grenze):\n",
    "        \"\"\"Auto fährt nur schneller, wenn es nicht geparkt ist und eingeschaltet ist\"\"\"\n",
    "        if not self.geparkt and self.angeschaltet:\n",
    "            while self.aktuelle_geschwindigkeit < grenze:\n",
    "                self.aktuelle_geschwindigkeit += 5\n",
    "                print(\"Aktuelle Geschwindigkeit:\", self.aktuelle_geschwindigkeit)\n",
    "        else:\n",
    "            print(\"Auto kann nicht fahren (entweder geparkt oder ausgeschaltet).\")\n",
    "\n",
    "    def bremsen(self):\n",
    "        self.aktuelle_geschwindigkeit = 0\n",
    "        print(\"Auto hat gebremst. Geschwindigkeit = 0\")\n",
    "mein_auto = Auto(\"rot\", \"BMW\")\n",
    "\n",
    "mein_auto.schalten(True)      # Auto einschalten\n",
    "mein_auto.parken(False)       # Auto ausparken\n",
    "mein_auto.schneller_fahren(30) # fährt 0 → 5 → 10 → ... → 30\n",
    "mein_auto.bremsen()"
   ]
  }
 ],
 "metadata": {
  "kernelspec": {
   "display_name": "Python 3",
   "language": "python",
   "name": "python3"
  },
  "language_info": {
   "codemirror_mode": {
    "name": "ipython",
    "version": 3
   },
   "file_extension": ".py",
   "mimetype": "text/x-python",
   "name": "python",
   "nbconvert_exporter": "python",
   "pygments_lexer": "ipython3",
   "version": "3.13.5"
  }
 },
 "nbformat": 4,
 "nbformat_minor": 5
}
