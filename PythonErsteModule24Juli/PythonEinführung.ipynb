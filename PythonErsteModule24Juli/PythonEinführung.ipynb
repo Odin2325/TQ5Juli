{
 "cells": [
  {
   "cell_type": "markdown",
   "id": "25232fda",
   "metadata": {},
   "source": [
    "# Python Einführung"
   ]
  },
  {
   "cell_type": "markdown",
   "id": "a0e78128",
   "metadata": {},
   "source": [
    "## Print und Kommentare"
   ]
  },
  {
   "cell_type": "code",
   "execution_count": 20,
   "id": "66fa1c7b",
   "metadata": {},
   "outputs": [
    {
     "name": "stdout",
     "output_type": "stream",
     "text": [
      "Hallo, Welt!\n"
     ]
    }
   ],
   "source": [
    "# Diese Methode schreibt \"Hallo, Welt!\" in die Konsole.\n",
    "print(\"Hallo, Welt!\")"
   ]
  },
  {
   "cell_type": "markdown",
   "id": "b1e1a4a9",
   "metadata": {},
   "source": [
    "## Variablen"
   ]
  },
  {
   "cell_type": "code",
   "execution_count": null,
   "id": "3048764e",
   "metadata": {},
   "outputs": [],
   "source": [
    "# Variablen in Python sind Behälter für Daten.\n",
    "alter = 25\n",
    "name = 'Nicolas'"
   ]
  },
  {
   "cell_type": "code",
   "execution_count": null,
   "id": "5aab2517",
   "metadata": {},
   "outputs": [],
   "source": [
    "print(alter)\n",
    "print(name)"
   ]
  },
  {
   "cell_type": "markdown",
   "id": "c8116bbc",
   "metadata": {},
   "source": [
    "## IF ELIF ELSE"
   ]
  },
  {
   "cell_type": "code",
   "execution_count": null,
   "id": "42199a2f",
   "metadata": {},
   "outputs": [],
   "source": [
    "taste = input(\"Drücke eine Taste\")\n",
    "\n",
    "# Bei Fallunterscheidung müssen wir mit *if* anfangen.\n",
    "# Es kann, muss jedoch nicht mit *selse* beendet werden.\n",
    "# Es darf auch mehrere *elif* geben, 0 bis unendlich viele Bedingungen.\n",
    "\n",
    "if taste == '1':\n",
    "    print('Pepsi')\n",
    "elif taste == '2':\n",
    "    print('7UP')\n",
    "elif taste == '3':\n",
    "    print('Cola')\n",
    "else:\n",
    "    print('Sie bekommen Ihr Geld zurück!')\n",
    "\n",
    "print('ausserhalb der if-else Abfrage')"
   ]
  },
  {
   "cell_type": "markdown",
   "id": "7bf73692",
   "metadata": {},
   "source": [
    "## FOR"
   ]
  },
  {
   "cell_type": "code",
   "execution_count": 11,
   "id": "092e39a9",
   "metadata": {},
   "outputs": [
    {
     "name": "stdout",
     "output_type": "stream",
     "text": [
      "1\n",
      "2\n",
      "3\n"
     ]
    }
   ],
   "source": [
    "for zahl in range(1,4):\n",
    "    print(zahl)"
   ]
  },
  {
   "cell_type": "markdown",
   "id": "a3d6ef4c",
   "metadata": {},
   "source": [
    "## WHILE"
   ]
  },
  {
   "cell_type": "code",
   "execution_count": 14,
   "id": "1abc90e9",
   "metadata": {},
   "outputs": [
    {
     "name": "stdout",
     "output_type": "stream",
     "text": [
      "Ihre Einkaufsliste:  ['quitten']\n"
     ]
    }
   ],
   "source": [
    "einkaufliste = []\n",
    "eingabe = ''\n",
    "\n",
    "while eingabe != 'quit':\n",
    "    eingabe = input('Was möchten Sie einkaufen? (quit zum beenden) ')\n",
    "    if eingabe != 'quit':\n",
    "        einkaufliste.append(eingabe)\n",
    "        # 0 durchlauf []\n",
    "        # 1 durchlauf ['apfel']\n",
    "        # 2 durchlauf ['apfel', 'brot']\n",
    "        # usw.\n",
    "\n",
    "print('Ihre Einkaufsliste: ', einkaufliste)"
   ]
  },
  {
   "cell_type": "markdown",
   "id": "16a67171",
   "metadata": {},
   "source": [
    "## Modulo"
   ]
  },
  {
   "cell_type": "code",
   "execution_count": 16,
   "id": "b256c767",
   "metadata": {},
   "outputs": [
    {
     "name": "stdout",
     "output_type": "stream",
     "text": [
      "0\n"
     ]
    }
   ],
   "source": [
    "print(43742 % 2)"
   ]
  }
 ],
 "metadata": {
  "kernelspec": {
   "display_name": "Python 3",
   "language": "python",
   "name": "python3"
  },
  "language_info": {
   "codemirror_mode": {
    "name": "ipython",
    "version": 3
   },
   "file_extension": ".py",
   "mimetype": "text/x-python",
   "name": "python",
   "nbconvert_exporter": "python",
   "pygments_lexer": "ipython3",
   "version": "3.13.5"
  }
 },
 "nbformat": 4,
 "nbformat_minor": 5
}
