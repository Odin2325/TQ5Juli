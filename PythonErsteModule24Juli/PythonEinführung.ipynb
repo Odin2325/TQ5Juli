{
 "cells": [
  {
   "cell_type": "markdown",
   "id": "9d39fa08",
   "metadata": {},
   "source": [
    "# Python Einführung"
   ]
  },
  {
   "cell_type": "markdown",
   "id": "0694569a",
   "metadata": {},
   "source": [
    "## Print und Kommentare"
   ]
  },
  {
   "cell_type": "code",
   "execution_count": 5,
   "id": "15685e29",
   "metadata": {},
   "outputs": [
    {
     "name": "stdout",
     "output_type": "stream",
     "text": [
      "Hallo, Welt!\n"
     ]
    }
   ],
   "source": [
    "# Diese Methode schreibt \"Hallo, Welt!\" in die Konsole.\n",
    "print(\"Hallo, Welt!\")"
   ]
  },
  {
   "cell_type": "markdown",
   "id": "8808f3bf",
   "metadata": {},
   "source": [
    "## Variablen"
   ]
  },
  {
   "cell_type": "code",
   "execution_count": 6,
   "id": "ef79a4cd",
   "metadata": {},
   "outputs": [],
   "source": [
    "# Variablen in Python\n",
    "alter = 25\n",
    "name = 'Nicolas'"
   ]
  },
  {
   "cell_type": "code",
   "execution_count": 7,
   "id": "17636c88",
   "metadata": {},
   "outputs": [
    {
     "name": "stdout",
     "output_type": "stream",
     "text": [
      "25\n"
     ]
    }
   ],
   "source": [
    "print(alter)"
   ]
  },
  {
   "cell_type": "markdown",
   "id": "84bb97ad",
   "metadata": {},
   "source": [
    "## IF ELIF ELSE"
   ]
  },
  {
   "cell_type": "code",
   "execution_count": null,
   "id": "a58fcec8",
   "metadata": {},
   "outputs": [],
   "source": [
    "taste = input(\"Drücke eine Taste\")\n",
    "\n",
    "# Bei fallunterscheidung muessen wir mit *if* anfangen\n",
    "# Es kann, muss jedoch nicht mit *else* beendet werden\n",
    "# Es darf auch mehrere *elif* geben, 0 bis unendlich viele *elif* bedingungen\n",
    "\n",
    "\n",
    "if taste == '1':\n",
    "    print('Pepsi')\n",
    "elif taste == '2':\n",
    "    print('7UP')\n",
    "elif taste == '3':\n",
    "    print('Cola')\n",
    "else:\n",
    "    print('Sie bekomme ihr geld zurück!')\n",
    "\n",
    "print('ausserhalb der if-else Abfrage')"
   ]
  },
  {
   "cell_type": "markdown",
   "id": "ecd7b0ff",
   "metadata": {},
   "source": [
    "## FOR"
   ]
  },
  {
   "cell_type": "code",
   "execution_count": 2,
   "id": "09b2d6cb",
   "metadata": {},
   "outputs": [
    {
     "name": "stdout",
     "output_type": "stream",
     "text": [
      "1\n",
      "2\n",
      "3\n"
     ]
    }
   ],
   "source": [
    "for zahl in range(1,4):\n",
    "    print(zahl)"
   ]
  },
  {
   "cell_type": "markdown",
   "id": "f6e911fc",
   "metadata": {},
   "source": [
    "## WHILE"
   ]
  },
  {
   "cell_type": "code",
   "execution_count": 7,
   "id": "2969bfe8",
   "metadata": {},
   "outputs": [
    {
     "name": "stdout",
     "output_type": "stream",
     "text": [
      "Ihre Einkaufsliste:  ['', '', '']\n"
     ]
    }
   ],
   "source": [
    "einkaufliste = []\n",
    "eingabe = ''\n",
    "\n",
    "while eingabe != 'quit':\n",
    "    eingabe = input('Was moechten Sie einkaufen? (quit zum beenden) ')\n",
    "    if eingabe != 'quit':\n",
    "        einkaufliste.append(eingabe)\n",
    "        # 0 durchlauf []\n",
    "        # 1 durchlauf ['apfel']\n",
    "        # 2 durchlauf ['apfel', 'brot']\n",
    "        # usw.\n",
    "\n",
    "print('Ihre Einkaufsliste: ', einkaufliste)"
   ]
  },
  {
   "cell_type": "markdown",
   "id": "cc2e0ae1",
   "metadata": {},
   "source": [
    "Modulo"
   ]
  },
  {
   "cell_type": "code",
   "execution_count": null,
   "id": "1bf1758a",
   "metadata": {},
   "outputs": [
    {
     "name": "stdout",
     "output_type": "stream",
     "text": [
      "0\n"
     ]
    }
   ],
   "source": [
    "print(43742 % 2)"
   ]
  },
  {
   "cell_type": "markdown",
   "id": "3d7b412a",
   "metadata": {},
   "source": [
    "## Modules"
   ]
  },
  {
   "cell_type": "code",
   "execution_count": 3,
   "id": "5b262fb5",
   "metadata": {},
   "outputs": [
    {
     "name": "stdout",
     "output_type": "stream",
     "text": [
      "3.141592653589793\n",
      "4.0\n"
     ]
    }
   ],
   "source": [
    "import math\n",
    "\n",
    "print(math.pi)\n",
    "\n",
    "print(math.sqrt(16))"
   ]
  }
 ],
 "metadata": {
  "kernelspec": {
   "display_name": "Python 3",
   "language": "python",
   "name": "python3"
  },
  "language_info": {
   "codemirror_mode": {
    "name": "ipython",
    "version": 3
   },
   "file_extension": ".py",
   "mimetype": "text/x-python",
   "name": "python",
   "nbconvert_exporter": "python",
   "pygments_lexer": "ipython3",
   "version": "3.12.6"
  }
 },
 "nbformat": 4,
 "nbformat_minor": 5
}
