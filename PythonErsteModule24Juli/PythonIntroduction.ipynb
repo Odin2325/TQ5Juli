{
 "cells": [
  {
   "cell_type": "markdown",
   "id": "977c15c6",
   "metadata": {},
   "source": [
    "# Python Einführung"
   ]
  },
  {
   "cell_type": "code",
   "execution_count": null,
   "id": "41c60f72",
   "metadata": {},
   "outputs": [
    {
     "name": "stdout",
     "output_type": "stream",
     "text": [
      "Hallo Welt!\n"
     ]
    }
   ],
   "source": [
    "# Diese Methode schreibt \"Hallo Welt!\" in die Konsole.\n",
    "print('Hallo Welt!')"
   ]
  },
  {
   "cell_type": "markdown",
   "id": "1aa458bd",
   "metadata": {},
   "source": [
    "## Variablen"
   ]
  },
  {
   "cell_type": "code",
   "execution_count": null,
   "id": "9703da53",
   "metadata": {},
   "outputs": [
    {
     "name": "stdout",
     "output_type": "stream",
     "text": [
      "Nicolas ,  25\n"
     ]
    }
   ],
   "source": [
    "# Variablen in Python.\n",
    "alter = 25\n",
    "name = 'Nicolas'"
   ]
  },
  {
   "cell_type": "code",
   "execution_count": 10,
   "id": "8fbb89d6",
   "metadata": {},
   "outputs": [
    {
     "name": "stdout",
     "output_type": "stream",
     "text": [
      "25\n"
     ]
    }
   ],
   "source": [
    "print(alter)"
   ]
  }
 ],
 "metadata": {
  "kernelspec": {
   "display_name": "Python 3",
   "language": "python",
   "name": "python3"
  },
  "language_info": {
   "codemirror_mode": {
    "name": "ipython",
    "version": 3
   },
   "file_extension": ".py",
   "mimetype": "text/x-python",
   "name": "python",
   "nbconvert_exporter": "python",
   "pygments_lexer": "ipython3",
   "version": "3.13.5"
  }
 },
 "nbformat": 4,
 "nbformat_minor": 5
}
