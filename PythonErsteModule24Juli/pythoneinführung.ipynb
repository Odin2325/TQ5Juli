{
 "cells": [
  {
   "cell_type": "code",
   "execution_count": 8,
   "id": "e62a792f",
   "metadata": {},
   "outputs": [
    {
     "name": "stdout",
     "output_type": "stream",
     "text": [
      "saba\n",
      "farhan\n",
      "43\n",
      "Mein name ist: saba farhan.\n",
      "Ich bin 43 Jahre alt .\n",
      "aba farhan.\n",
      "Ich bin 43 Jahre alt .\n"
     ]
    }
   ],
   "source": [
    "vorname = input(\"bitte vorname eingeben:\")\n",
    "print(vorname)\n",
    "\n",
    "nachname = input(\"bitte nachname eingeben:\")\n",
    "print(nachname)\n",
    "\n",
    "alter = input(\"bitte alter eingeben:\")\n",
    "print(alter)\n",
    "\n",
    "\n",
    "formattierte_ausgabe = f\"Mein name ist: {vorname} {nachname}.\\nIch bin {alter} Jahre alt .\"\n",
    "print(formattierte_ausgabe)\n",
    "\n",
    "\n",
    "\n",
    "print(formattierte_ausgabe[16: ])\n",
    "\n",
    " "
   ]
  },
  {
   "cell_type": "code",
   "execution_count": 10,
   "id": "5e5a3857",
   "metadata": {},
   "outputs": [
    {
     "name": "stdout",
     "output_type": "stream",
     "text": [
      "Porsche\n",
      "wasser\n",
      "rennfahren\n",
      "wenn nur Porsche wasser als kraftstoff verwenden könnte,um rennfahren auszuüben.Dann wäre ich zufriededn!\n",
      "ur Porsche\n"
     ]
    }
   ],
   "source": [
    "Lieblingsauto = input(\"bitte lieblingsauto eingeben:\")\n",
    "print(Lieblingsauto)\n",
    "Lieblingsgetränke = input(\"bitte lieblingsgetränke eingeben:\")\n",
    "print(Lieblingsgetränke)\n",
    "Lieblingssport = input(\"bitte lieblingssport eingeben:\")\n",
    "print(Lieblingssport)\n",
    "\n",
    "formattierte_ausgabe2 = f\"wenn nur {Lieblingsauto} {Lieblingsgetränke} als kraftstoff verwenden könnte,um {Lieblingssport} auszuüben.Dann wäre ich zufriededn!\"\n",
    "print(formattierte_ausgabe2)\n",
    "\n",
    "print(formattierte_ausgabe2[6:16])"
   ]
  }
 ],
 "metadata": {
  "language_info": {
   "name": "python"
  }
 },
 "nbformat": 4,
 "nbformat_minor": 5
}
