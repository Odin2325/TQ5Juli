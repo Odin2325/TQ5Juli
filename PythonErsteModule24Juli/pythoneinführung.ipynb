{
 "cells": [
  {
   "cell_type": "code",
   "execution_count": null,
   "id": "e62a792f",
   "metadata": {},
   "outputs": [],
   "source": [
    "vorname = \"bitte vorname eingeben:\"\n",
    "print(vorname)\n",
    "\n",
    "nachname = \"bitte nachname eingeben:\"\n",
    "print(nachname)\n",
    "\n",
    "alter = \"bitte alter eingeben:\"\n",
    "print(alter)\n",
    "\n"
   ]
  }
 ],
 "metadata": {
  "language_info": {
   "name": "python"
  }
 },
 "nbformat": 4,
 "nbformat_minor": 5
}
