{
 "cells": [
  {
   "cell_type": "code",
   "execution_count": 8,
   "id": "e62a792f",
   "metadata": {},
   "outputs": [
    {
     "name": "stdout",
     "output_type": "stream",
     "text": [
      "saba\n",
      "saba\n",
      "43\n",
      "Mein name ist: saba saba.\n",
      "Ich bin 43 Jahre alt .\n",
      "aba saba.\n",
      "Ich bin 43 Jahre alt .\n"
     ]
    }
   ],
   "source": [
    "vorname = input(\"bitte vorname eingeben:\")\n",
    "print(vorname)\n",
    "\n",
    "nachname = input(\"bitte nachname eingeben:\")\n",
    "print(nachname)\n",
    "\n",
    "alter = input(\"bitte alter eingeben:\")\n",
    "print(alter)\n",
    "\n",
    "\n",
    "formattierte_ausgabe = f\"Mein name ist: {vorname} {nachname}.\\nIch bin {alter} Jahre alt .\"\n",
    "print(formattierte_ausgabe)\n",
    "\n",
    "\n",
    "\n",
    "print(formattierte_ausgabe[16: ])\n",
    "\n",
    " "
   ]
  },
  {
   "cell_type": "code",
   "execution_count": 9,
   "id": "5e5a3857",
   "metadata": {},
   "outputs": [
    {
     "name": "stdout",
     "output_type": "stream",
     "text": [
      "auto\n",
      "sd\n",
      "sghdg\n",
      "wenn nur auto sd als kraftstoff verwenden könnte,um sghdg auszuüben.Dann wäre ich zufriededn!\n",
      "ur auto sd\n"
     ]
    }
   ],
   "source": [
    "Lieblingsauto = input(\"bitte lieblingsauto eingeben:\")\n",
    "print(Lieblingsauto)\n",
    "Lieblingsgetränke = input(\"bitte lieblingsgetränke eingeben:\")\n",
    "print(Lieblingsgetränke)\n",
    "Lieblingssport = input(\"bitte lieblingssport eingeben:\")\n",
    "print(Lieblingssport)\n",
    "\n",
    "formattierte_ausgabe2 = f\"wenn nur {Lieblingsauto} {Lieblingsgetränke} als kraftstoff verwenden könnte,um {Lieblingssport} auszuüben.Dann wäre ich zufriededn!\"\n",
    "print(formattierte_ausgabe2)\n",
    "\n",
    "print(formattierte_ausgabe2[6:16])"
   ]
  },
  {
   "cell_type": "code",
   "execution_count": 10,
   "id": "760aa356",
   "metadata": {},
   "outputs": [
    {
     "name": "stdout",
     "output_type": "stream",
     "text": [
      "jkljdjdw#\n",
      "\n"
     ]
    },
    {
     "ename": "ValueError",
     "evalue": "could not convert string to float: 'jkljdjdw#'",
     "output_type": "error",
     "traceback": [
      "\u001b[31m---------------------------------------------------------------------------\u001b[39m",
      "\u001b[31mValueError\u001b[39m                                Traceback (most recent call last)",
      "\u001b[36mCell\u001b[39m\u001b[36m \u001b[39m\u001b[32mIn[10]\u001b[39m\u001b[32m, line 5\u001b[39m\n\u001b[32m      3\u001b[39m b = \u001b[38;5;28minput\u001b[39m(\u001b[33m\"\u001b[39m\u001b[33mbitte bereit eingeben  (in cm): \u001b[39m\u001b[33m\"\u001b[39m)\n\u001b[32m      4\u001b[39m \u001b[38;5;28mprint\u001b[39m(b)\n\u001b[32m----> \u001b[39m\u001b[32m5\u001b[39m Fläche_resultate = \u001b[33mf\u001b[39m\u001b[33m\"\u001b[39m\u001b[33mdie fläche beträgt :\u001b[39m\u001b[38;5;132;01m{\u001b[39;00m\u001b[38;5;28;43mfloat\u001b[39;49m\u001b[43m(\u001b[49m\u001b[43mh\u001b[49m\u001b[43m)\u001b[49m\u001b[38;5;250m \u001b[39m*\u001b[38;5;250m \u001b[39m\u001b[38;5;28mfloat\u001b[39m(b)\u001b[38;5;250m \u001b[39m/\u001b[38;5;250m \u001b[39m\u001b[32m2\u001b[39m\u001b[38;5;132;01m}\u001b[39;00m\u001b[33m cm²\u001b[39m\u001b[33m\"\u001b[39m\n\u001b[32m      6\u001b[39m \u001b[38;5;28mprint\u001b[39m(Fläche_resultate)\n",
      "\u001b[31mValueError\u001b[39m: could not convert string to float: 'jkljdjdw#'"
     ]
    }
   ],
   "source": [
    "h = input(\"bitte hoch eingeben (in cm): \")\n",
    "print(h)\n",
    "b = input(\"bitte bereit eingeben  (in cm): \")\n",
    "print(b)\n",
    "Fläche_resultate = f\"die fläche beträgt :{float(h) * float(b) / 2} cm²\"\n",
    "print(Fläche_resultate)"
   ]
  },
  {
   "cell_type": "markdown",
   "id": "f2f9a1ad",
   "metadata": {},
   "source": [
    "import math \n",
    "\n",
    "x1 = 2\n",
    "x2 = 8\n",
    "y1 = 54\n",
    "y2 = 4\n",
    "\n",
    "r = (x1 - x2)² + (y1-y2)²\n",
    "\n",
    "d = math.sqrt(r)\n",
    "print(d)\n"
   ]
  },
  {
   "cell_type": "code",
   "execution_count": 13,
   "id": "fb68da7b",
   "metadata": {},
   "outputs": [
    {
     "name": "stdout",
     "output_type": "stream",
     "text": [
      "der Endkapital beträgt: 9668.08 Euro\n"
     ]
    }
   ],
   "source": [
    "k0 = 3000\n",
    "p = 3.4\n",
    "n = 35\n",
    "\n",
    "k1 = k0 * (1 + p / 100) ** n\n",
    "print(f\"der Endkapital beträgt: {k1:.2f} Euro\")\n"
   ]
  },
  {
   "cell_type": "code",
   "execution_count": 12,
   "id": "eba41517",
   "metadata": {},
   "outputs": [
    {
     "name": "stdout",
     "output_type": "stream",
     "text": [
      "52.15361924162119\n"
     ]
    }
   ],
   "source": [
    "import math\n",
    "x1= 2\n",
    "x2= 54\n",
    "y1= 8\n",
    "y2= 4\n",
    "r = (x1-x2)**2 + (y1-y2)**2\n",
    "d = math.sqrt(r)\n",
    "\n",
    "print(d)"
   ]
  },
  {
   "cell_type": "markdown",
   "id": "e8a112aa",
   "metadata": {},
   "source": [
    "import math\n",
    "x1= 2\n",
    "x2= 54\n",
    "y1= 8\n",
    "y2= 4\n",
    "r = (x1-x2)² + (y1-y2)²\n",
    "d = math.sqrt(r)\n",
    "\n",
    "print(d)\n",
    "\n"
   ]
  }
 ],
 "metadata": {
  "kernelspec": {
   "display_name": "Python 3",
   "language": "python",
   "name": "python3"
  },
  "language_info": {
   "codemirror_mode": {
    "name": "ipython",
    "version": 3
   },
   "file_extension": ".py",
   "mimetype": "text/x-python",
   "name": "python",
   "nbconvert_exporter": "python",
   "pygments_lexer": "ipython3",
   "version": "3.13.5"
  }
 },
 "nbformat": 4,
 "nbformat_minor": 5
}
