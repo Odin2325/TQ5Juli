{
 "cells": [
  {
   "cell_type": "code",
   "execution_count": null,
   "id": "b9caeaa9",
   "metadata": {},
   "outputs": [],
   "source": [
    "Kunde = {\n",
    "    SIEMENS: '081612727387',\n",
    "    BMW: '081612727337',\n",
    "    Volkswagen: '081612727221',\n",
    "    Kistenpfennig: '081612727992'\n",
    "}"
   ]
  }
 ],
 "metadata": {
  "language_info": {
   "name": "python"
  }
 },
 "nbformat": 4,
 "nbformat_minor": 5
}
