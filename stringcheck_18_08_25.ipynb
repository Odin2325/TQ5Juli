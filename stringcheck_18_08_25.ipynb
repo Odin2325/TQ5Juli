{
 "cells": [
  {
   "cell_type": "code",
   "execution_count": null,
   "id": "50a208ab",
   "metadata": {},
   "outputs": [
    {
     "name": "stdout",
     "output_type": "stream",
     "text": [
      "True\n",
      "True\n",
      "True\n",
      "False\n"
     ]
    }
   ],
   "source": [
    "def string_function(zeichenkette):\n",
    "    if zeichenkette[0:5] == \"Hallo\": #beginnend mit der Zeichenkette Hallo\n",
    "        return True\n",
    "    elif zeichenkette[-1] == \".\":  #letztes zeichen soll ein Punkt sein\n",
    "        return True\n",
    "    elif zeichenkette[-2:] == \"r!\":  # letzten 2 zeichen soll r!\n",
    "        return True\n",
    "    else:\n",
    "        return False\n",
    "\n"
   ]
  }
 ],
 "metadata": {
  "kernelspec": {
   "display_name": "Python 3",
   "language": "python",
   "name": "python3"
  },
  "language_info": {
   "codemirror_mode": {
    "name": "ipython",
    "version": 3
   },
   "file_extension": ".py",
   "mimetype": "text/x-python",
   "name": "python",
   "nbconvert_exporter": "python",
   "pygments_lexer": "ipython3",
   "version": "3.11.9"
  }
 },
 "nbformat": 4,
 "nbformat_minor": 5
}
