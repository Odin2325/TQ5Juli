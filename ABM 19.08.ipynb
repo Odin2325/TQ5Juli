{
 "cells": [
  {
   "cell_type": "markdown",
   "id": "0c111cae",
   "metadata": {},
   "source": [
    "Beginnen Sie mit den Folgenden Code:\n",
    "permission = input()\n",
    "level = 55\n",
    " \n",
    "Wir programmieren jetzt mehrere Geschäftsregeln.\n",
    "Wenn der Benutzer ein Administrator mit einer höheren Ebene als 55 ist, geben Sie die folgende Meldung aus:\n",
    "\tWelcome, Super Admin user.\n",
    "Wenn der Benutzer ein Administrator mit einer Ebene von 55 oder darunter ist, geben Sie die folgende Meldung aus:\n",
    "\tWelcome, Admin user.\n",
    "Wenn der Benutzer ein Manager mit einer Ebene von 20 oder höher ist, geben Sie die folgende Meldung aus:\n",
    "\tContact an Admin for access.\n",
    "Wenn der Benutzer ein Manager mit einer niedrigeren Ebene als 20 ist, geben Sie die folgende Meldung aus:\n",
    "\tYou do not have sufficient privileges.\n",
    "Wenn der Benutzer kein Administrator oder Manager ist, geben Sie die folgende Meldung aus:\n",
    "\tYou do not have sufficient privileges.\n",
    " \n",
    "Code soll ein bisschen Robust sein. D.h. Wenn der benutzer mAnaGer so schreiben wuerde, dann soll es auch stimmen.\n",
    "Zusaetzlich soll es akzeptiert werden wenn der benutzer Administrator!. Hinweis finden..."
   ]
  },
  {
   "cell_type": "code",
   "execution_count": null,
   "id": "7a82c59a",
   "metadata": {},
   "outputs": [],
   "source": [
    "permission = input()\n",
    "level = 55\n",
    "\n",
    "checkin = permission.lower()\n",
    "\n",
    "if \"administrator\" in checkin:\n",
    "    if level > 55:\n",
    "        print(\"Welcome, Super Admin user.\")\n",
    "    else:\n",
    "        print(\"Welcome, Admin user.\")\n",
    "elif \"manager\" in checkin:\n",
    "    if level >= 20:\n",
    "        print(\"Contact an Admin for access.\")\n",
    "    else:\n",
    "        print(\"You do not have sufficient privileges.\")\n",
    "else:\n",
    "    print(\"You do not have sufficient privileges.\")"
   ]
  },
  {
   "cell_type": "code",
   "execution_count": null,
   "id": "40d7adc6",
   "metadata": {},
   "outputs": [],
   "source": [
    "while True:\n",
    "    permission = input(\"Geben Sie die Berechtigung ein: \")\n",
    "    checkin = permission.lower()\n",
    "\n",
    "    level = None\n",
    "    while level is None:\n",
    "        level_input = input(\"Geben Sie das Level ein (nur Zahlen): \")\n",
    "        try:\n",
    "            level = int(level_input)\n",
    "        except ValueError:\n",
    "            print(\"Ungültige Eingabe für das Level. Bitte geben Sie nur eine Zahl ein.\")\n",
    "    \n",
    "    if \"administrator\" in checkin or \"manager\" in checkin:\n",
    "        if \"administrator\" in checkin:\n",
    "            if level > 55:\n",
    "                print(\"Welcome, Super Admin user.\")\n",
    "            else:\n",
    "                print(\"Welcome, Admin user.\")\n",
    "        elif \"manager\" in checkin:\n",
    "            if level >= 20:\n",
    "                print(\"Contact an Admin for access.\")\n",
    "            else:\n",
    "                print(\"You do not have sufficient privileges.\")\n",
    "        break\n",
    "    else:\n",
    "        print(\"Ungültige Berechtigung. Bitte erneut eingeben.\")"
   ]
  },
  {
   "cell_type": "markdown",
   "id": "ad3bf502",
   "metadata": {},
   "source": [
    "Ein Jahr ist ein Schaltjahr, wenn es durch 4 teilbar ist, aber nicht, wenn es durch 100 teilbar ist, es sei denn, es ist auch durch 400 teilbar. Zum Beispiel ist 2000 ein Schaltjahr, während 1900 kein Schaltjahr ist.\n",
    " \n",
    "* Wenn durch 4 teilbar => Schaltjahr\n",
    "* Wenn durch 4 und 100 teilbar => Kein Schaltjahr\n",
    "* Wenn durch 4 und 100 und 400 teilbar => Schaltjahr\n",
    " \n",
    "Ziel ist es ein mit input() eingegebener wert zu berechnen ob dieser ein Schaltjahr ist oder nicht.\n",
    "Bspw: Eingabe = 2000\n",
    " \n",
    "Ausgabe = 'Das Jahr 2000 ist ein Schaltjahr.'"
   ]
  },
  {
   "cell_type": "code",
   "execution_count": null,
   "id": "b0a3eee1",
   "metadata": {},
   "outputs": [],
   "source": [
    "year = int(input(\"Geben Sie ein Jahr ein: \"))   \n",
    "\n",
    "if (year % 4 == 0 and year % 100 != 0) or (year % 400 == 0):\n",
    "    print(f\"{year} ist ein Schaltjahr.\")    \n",
    "else:\n",
    "    print(f\"{year} ist kein Schaltjahr.\")"
   ]
  },
  {
   "cell_type": "markdown",
   "id": "2d34e6bc",
   "metadata": {},
   "source": [
    "Aufgabe 1:\n",
    "Erstelle eine Schleife mit die Summe von 1 bis 15 inklusiv.\n",
    " \n",
    "Aufgabe 2:\n",
    "Der Benutzer soll eine Eingabe eingeben mit folgende eigenschaften. Der String muss mit ein B starten und muss der laenge 10 sein. Wenn das nicht der fall ist, dann soll der Benutzer nochmal aufgefordert werden ein wert einzugeben.\n",
    " \n",
    "Aufgabe 3:\n",
    "Ein benutzer erstellt ein neuen Passwort fuer sein konto. Dieser neue Passwort muss 10 Zeichen lang sein. Es muss auch mind. 1 sonderzeichen enthalten. Wenn dies nicht der Fall dann soll ausgegeben was er tun soll um sein passwort zu verbessern und erneut gefragt werden."
   ]
  },
  {
   "cell_type": "code",
   "execution_count": null,
   "id": "40b8c910",
   "metadata": {},
   "outputs": [],
   "source": [
    "zaehler = 0\n",
    "summe = 0\n",
    "\n",
    "while zaehler < 16:\n",
    "    summe += zaehler\n",
    "    zaehler += 1\n",
    "print(\"Die Summe der Zahlen von 0 bis 15 ist:\", summe)\n",
    "\n",
    "\n",
    "\n",
    "while True:\n",
    "    user_input = input(\"Geben Sie einen String ein, der mit 'B' beginnt und 10 Zeichen lang ist: \")\n",
    "    if user_input.startswith('B') and len(user_input) == 10:\n",
    "        print(\"Eingabe akzeptiert:\", user_input)\n",
    "        break\n",
    "    else:\n",
    "        print(\"Ungültige Eingabe. Der String muss mit 'B' beginnen und genau 10 Zeichen lang sein. Bitte erneut versuchen.\")    \n",
    "\n",
    "\n",
    "while True:\n",
    "    password = input(\"Erstellen Sie ein neues Passwort (mindestens 10 Zeichen, mindestens 1 Sonderzeichen): \")  \n",
    "    if len(password) >= 10 and any(char in \"!@#$%^&*()-_=+[]{}|;:',.<>?/\" for char in password):\n",
    "        print(\"Passwort erfolgreich erstellt.\")\n",
    "        break\n",
    "    else:\n",
    "        print(\"Ungültiges Passwort. Stellen Sie sicher, dass es mindestens 10 Zeichen lang ist und mindestens 1 Sonderzeichen enthält. Bitte erneut versuchen.\")\n",
    "\n",
    "\n",
    "\n"
   ]
  }
 ],
 "metadata": {
  "kernelspec": {
   "display_name": "Python 3",
   "language": "python",
   "name": "python3"
  },
  "language_info": {
   "codemirror_mode": {
    "name": "ipython",
    "version": 3
   },
   "file_extension": ".py",
   "mimetype": "text/x-python",
   "name": "python",
   "nbconvert_exporter": "python",
   "pygments_lexer": "ipython3",
   "version": "3.13.5"
  }
 },
 "nbformat": 4,
 "nbformat_minor": 5
}
