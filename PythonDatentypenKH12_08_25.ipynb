{
 "cells": [
  {
   "cell_type": "markdown",
   "id": "7ab79f40",
   "metadata": {},
   "source": [
    "# Datentypen in Python"
   ]
  },
  {
   "cell_type": "markdown",
   "id": "8dee1ddf",
   "metadata": {},
   "source": [
    "## Text Type:"
   ]
  },
  {
   "cell_type": "code",
   "execution_count": null,
   "id": "7ae65490",
   "metadata": {},
   "outputs": [],
   "source": [
    "# \"string\" - eine Zeichenkette\n",
    "# Verwendung: Text, Wörter, Sätze (alles aus Buchstaben und Zahlen bestehende)\n",
    "# Beispiel:\n",
    "\n",
    "name = 'Alice'\n",
    "greeting = 'Hallo Welt!'"
   ]
  },
  {
   "cell_type": "markdown",
   "id": "d6d233fa",
   "metadata": {},
   "source": [
    "## Numeric Types:"
   ]
  },
  {
   "cell_type": "code",
   "execution_count": null,
   "id": "32738673",
   "metadata": {},
   "outputs": [],
   "source": [
    "# \"integer\" - ganze Zahlen\n",
    "# Verwendung: ganze Zahlen ohne Komma\n",
    "# Beispiel:\n",
    "\n",
    "age = 25\n",
    "temperature = -3"
   ]
  },
  {
   "cell_type": "code",
   "execution_count": null,
   "id": "416c4096",
   "metadata": {},
   "outputs": [],
   "source": [
    "# \"float\" - Kommazahlen\n",
    "# Verwendung: Zahlen mit Dezimalpunkt (kein wirkliches Komma in Python verwenden!)\n",
    "# Beispiel:\n",
    "\n",
    "price = 19.99\n",
    "pi = 3.14159"
   ]
  },
  {
   "cell_type": "code",
   "execution_count": null,
   "id": "11107254",
   "metadata": {},
   "outputs": [],
   "source": [
    "# \"complex\" - Komplexe Zahlen\n",
    "# Verwendung: Mathe/Physik, eher selten im Alltag\n",
    "# Beispiel:\n",
    "\n",
    "z = 3 + 4j #3 ist der reale Teil, 4j ist der imaginäre Teil"
   ]
  },
  {
   "cell_type": "markdown",
   "id": "17a99380",
   "metadata": {},
   "source": [
    "## Sequence Types:"
   ]
  },
  {
   "cell_type": "code",
   "execution_count": null,
   "id": "a2c70467",
   "metadata": {},
   "outputs": [],
   "source": [
    "# \"list\" - veränderbare Liste\n",
    "# Verwendung: eine Aufzählung an Werten, welche verändert werden können\n",
    "# Beispiel:\n",
    "\n",
    "fruits = [\"Apfel\", \"Banane\", \"Kirsche\"]\n",
    "fruits[1] = \"Birne\" # ändert Wert 1 zu \"Birne\" -> fruits = [\"Apfel\", \"Birne\", \"Kirsche\"]"
   ]
  },
  {
   "cell_type": "code",
   "execution_count": null,
   "id": "89a544c9",
   "metadata": {},
   "outputs": [],
   "source": [
    "# \"tuple\" - unveränderbare Liste\n",
    "# Verwendung: eine Aufzählung an Werten, welche nicht verändert werden können\n",
    "# Beispiel:\n",
    "\n",
    "coordinates = (10, 20)"
   ]
  },
  {
   "cell_type": "code",
   "execution_count": null,
   "id": "60ee50c9",
   "metadata": {},
   "outputs": [],
   "source": [
    "# \"range\" - Zahlenbereich\n",
    "# Verwendung: eine Sequenz von Zahlen (wird oft in Schleifen verwendet)\n",
    "# Beispiel:\n",
    "\n",
    "for i in range(5):\n",
    "    print(i) # Gibt 0, 1, 2, 3, 4 aus"
   ]
  },
  {
   "cell_type": "markdown",
   "id": "bd4466f4",
   "metadata": {},
   "source": [
    "## Mapping Type:"
   ]
  },
  {
   "cell_type": "code",
   "execution_count": null,
   "id": "9101cd26",
   "metadata": {},
   "outputs": [],
   "source": [
    "# \"dict\" - Wörterbuch\n",
    "# Verwendung: Speichert Daten als Schlüssel-Wert-Paare\n",
    "# Beispiel:\n",
    "\n",
    "person = {\"name\": \"Bob\", \"age\": 30}\n",
    "print(person[\"name\"])  # Gibt \"Bob\" aus"
   ]
  },
  {
   "cell_type": "markdown",
   "id": "1daec68c",
   "metadata": {},
   "source": [
    "## Set Types:"
   ]
  },
  {
   "cell_type": "code",
   "execution_count": null,
   "id": "cc67c61b",
   "metadata": {},
   "outputs": [],
   "source": [
    "# \"set\" - Eine Menge\n",
    "# Verwendung: eine Sammlung von einzigartigen Werten, ohne Duplikate und ohne feste Reihenfolge\n",
    "# Beispiel:\n",
    "\n",
    "colors = {\"rot\", \"grün\", \"blau\", \"rot\"}\n",
    "print(colors) # Gibt {\"rot\", \"grün\", \"blau\"} aus, da \"rot\" nur einmal gezählt wird"
   ]
  },
  {
   "cell_type": "code",
   "execution_count": null,
   "id": "c07fbc24",
   "metadata": {},
   "outputs": [],
   "source": [
    "# \"frozenset\" - Eine unveränderliche Menge\n",
    "# Verwendung: eine Sammlung von einzigartigen Werten, die nicht verändert werden kann\n",
    "# Beispiel:\n",
    "\n",
    "frozen_colors = frozenset({\"rot\", \"grün\", \"blau\"})\n",
    "print(frozen_colors) # Gibt frozenset({\"rot\", \"grün\", \"blau\"}) aus"
   ]
  },
  {
   "cell_type": "markdown",
   "id": "7f31da2a",
   "metadata": {},
   "source": [
    "## Boolean Type:"
   ]
  },
  {
   "cell_type": "code",
   "execution_count": null,
   "id": "330face1",
   "metadata": {},
   "outputs": [],
   "source": [
    "# \"boolean\" - Wahrheitswert\n",
    "# Verwendung: wenn nur zwei Zustände benötigt werden (wahr oder falsch)\n",
    "# Beispiel:\n",
    "\n",
    "is_sunny = True\n",
    "is_raining = False"
   ]
  },
  {
   "cell_type": "markdown",
   "id": "5f8a013a",
   "metadata": {},
   "source": [
    "## Binary Types:"
   ]
  },
  {
   "cell_type": "code",
   "execution_count": null,
   "id": "7b566617",
   "metadata": {},
   "outputs": [],
   "source": [
    "# \"bytes\" - unveränderbare Folge von Bytes (rohe Daten)\n",
    "# Verwendung: wenn Daten in binärer Form benötigt werden z.B. für Dateien, Bilder oder Netzwerkdaten\n",
    "# Beispiel:\n",
    "\n",
    "data = b\"Hallo\" # b vor dem Anführungszeichen macht es zu Bytes\n",
    "print(data[0])  # Gibt 72 aus, was dem ASCII-Wert von 'H' entspricht"
   ]
  },
  {
   "cell_type": "code",
   "execution_count": null,
   "id": "d4587c59",
   "metadata": {},
   "outputs": [],
   "source": [
    "# \"bytearray\" - veränderbare Folge von Bytes\n",
    "# Verwendung: ähnlich wie \"bytes\", aber veränderbar\n",
    "# Beispiel:\n",
    "\n",
    "ba = bytearray(b\"Hallo\")\n",
    "ba[0] = 77 # Ändert 'H' (72) zu 'M' (77)\n",
    "print(ba) # Gibt bytearray(b'Mallo') aus"
   ]
  },
  {
   "cell_type": "code",
   "execution_count": null,
   "id": "4004878c",
   "metadata": {},
   "outputs": [],
   "source": [
    "# \"memoryview\" - eine Ansicht auf Binärdaten\n",
    "# Verwendung: ermöglicht den Zugriff auf Daten in einem \"bytes\" oder \"bytearray\" ohne Kopieren.\n",
    "# Beispiel:\n",
    "\n",
    "mv = memoryview(b\"Hallo\")\n",
    "print(mv[1])  # Gibt 97 aus, was dem ASCII-Wert von 'a' entspricht"
   ]
  },
  {
   "cell_type": "markdown",
   "id": "4f1585cc",
   "metadata": {},
   "source": [
    "## None Type:"
   ]
  },
  {
   "cell_type": "code",
   "execution_count": null,
   "id": "f492e1c7",
   "metadata": {},
   "outputs": [],
   "source": [
    "# \"NoneType\" - kein Wert\n",
    "# Verwendung: wenn eine Variable keinen Wert hat oder leer ist (ist NICHT dasselbe wie 0 oder \"\")\n",
    "# Beispiel:\n",
    "\n",
    "result = None #Platzhalter, weil das Ergebnis noch nicht berechnet wurde\n",
    "\n",
    "def find_user(username):\n",
    "    if username == \"Alice\":\n",
    "        return \"Gefunden\"\n",
    "    else:\n",
    "        return None # kein Ergebnis\n",
    "\n",
    "print(find_user(\"Bob\")) # Gibt None aus, weil \"Bob\" nicht gefunden wurde"
   ]
  }
 ],
 "metadata": {
  "language_info": {
   "name": "python"
  }
 },
 "nbformat": 4,
 "nbformat_minor": 5
}
