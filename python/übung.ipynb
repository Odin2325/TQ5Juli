{
 "cells": [
  {
   "cell_type": "markdown",
   "id": "b9d0e42f",
   "metadata": {},
   "source": [
    "# Würfel\n",
    "\n",
    "Programmierspiel mit 3 Würfel Regeln\n",
    "1.\n",
    "Mit „fromrandomimport*“ und dann randint(1,7) Methode simulieren wir den Wurf von drei sechsseitigen Würfeln.\n",
    "2.\n",
    "Wir werten die gewürfelten Werte aus, um die Punktzahl zu berechnen.\n",
    "3.\n",
    "Die Ausgabe der Summe soll so aussehen:\n",
    "1.\n",
    "Wurf: 4 + 5 + 2 = 11\n",
    "4.\n",
    "Wenn die Augenzahl auf zwei Würfeln identisch ist, erhalten wir zwei Bonuspunkte für einen Zweierpasch.\n",
    "5.\n",
    "Wenn die Augenzahl auf allen drei Würfeln identisch ist, erhalten wir sechs Bonuspunkte für einen Dreierpasch.\n",
    "6.\n",
    "Wenn wir Bonuspunkte bekommen, dann sollen wir nicht nur unsere Summe um den Wert erhöht, sondern wir sollen auch ausgeben, dass wir den Bonus bekommen.\n",
    "7.\n",
    "Wenn die Summe der Augenzahlen der drei Würfel und aller Bonuspunkte mindestens 15 ist, gewinnen wir das Spiel. Andernfalls verlieren wir."
   ]
  },
  {
   "cell_type": "code",
   "execution_count": null,
   "id": "e93e49b7",
   "metadata": {},
   "outputs": [
    {
     "name": "stdout",
     "output_type": "stream",
     "text": [
      "Die Würfel zeigen 6, 3 und 1. Die Summe ist 10.\n",
      "Du hast verloren!\n"
     ]
    }
   ],
   "source": [
    "from random import randint as randiert\n",
    "wuerfel1 = randiert(1,6)\n",
    "wuerfel2 =  randiert(1,6)\n",
    "wuerfel3 = randiert(1,6) \n",
    "summe = wuerfel1 + wuerfel2 + wuerfel3\n",
    "print(f\"Die Würfel zeigen {wuerfel1}, {wuerfel2} und {wuerfel3}.\")\n",
    "if wuerfel1 == wuerfel2 == wuerfel3:\n",
    "    Bounuspunkte = 6\n",
    "    print(\"Dreierpasch\")\n",
    "elif wuerfel1 == wuerfel2 or wuerfel1 == wuerfel3 or wuerfel2 == wuerfel3:\n",
    "        Bounuspunkte = 2\n",
    "        print(\"Zweierpasch\")    \n",
    "if summe >=15:\n",
    "    print(\"Du hast gewonnen!\")\n",
    "else:\n",
    "    print(\"Du hast verloren!\")\n"
   ]
  },
  {
   "cell_type": "markdown",
   "id": "f481b817",
   "metadata": {},
   "source": [
    "# Geschachtelter Entscheidungslogik mit if, elseifund else\n",
    "Die Boni sollten nicht aufeinander Summiert werden.\n",
    "•\n",
    "Durch die Schachtelung können wir Codeblöcke innerhalb von Codeblöcken platzieren. In diesem Fall schachteln wir eine if-und else-Kombination (die Überprüfung auf Zweierpasche) in einer anderen if-Anweisung (die Überprüfung auf Dreierpasche), um zu verhindern, dass beide als Bonus berechnet werden.\n",
    "•\n",
    "Wir ändern das Spiel so, dass es nicht mehr nur um Sieg oder Niederlage geht, sondern für jedes Ergebnis fiktive Preise vergeben werden, damit es noch mehr Spaß macht. Wir können vier Preise anbieten. Der Spieler sollte jedoch nur einen Preis gewinnen:\n",
    "•\n",
    "Wenn die Punktzahl des Spielers mehr als oder gleich 16 ist, gewinnt er ein neues Auto.\n",
    "•\n",
    "Wenn die Punktzahl des Spielers mehr als oder gleich 10 ist, gewinnt er einen neuen Laptop.\n",
    "•\n",
    "Wenn der Spieler genau 7 erzielt, gewinnt er eine Reise.\n",
    "•\n",
    "Andernfalls gewinnt der Spieler ein Kätzchen."
   ]
  },
  {
   "cell_type": "code",
   "execution_count": 31,
   "id": "2827a199",
   "metadata": {},
   "outputs": [
    {
     "name": "stdout",
     "output_type": "stream",
     "text": [
      "Die Würfel zeigen 2, 5 und 6.\n",
      "Du hast einen neuene Laptop gewonnen!\n"
     ]
    }
   ],
   "source": [
    "from random import randint as randiert\n",
    "wuerfel1 = randiert(1,6)\n",
    "wuerfel2 =  randiert(1,6)\n",
    "wuerfel3 = randiert(1,6) \n",
    "summe = wuerfel1 + wuerfel2 + wuerfel3\n",
    "print(f\"Die Würfel zeigen {wuerfel1}, {wuerfel2} und {wuerfel3}.\")\n",
    "if wuerfel1 == wuerfel2 == wuerfel3:\n",
    "    Bounuspunkte = 6\n",
    "    print(\"Dreierpasch, Bounuspunkte:6\")\n",
    "elif wuerfel1 == wuerfel2 or wuerfel1 == wuerfel3 or wuerfel2 == wuerfel3:\n",
    "        Bounuspunkte = 2\n",
    "        print(\"Zweierpasch, Bounuspunkte:2\")\n",
    "gesammtpunkte = summe + Bounuspunkte\n",
    "if gesammtpunkte == 7:\n",
    "    print(\"du hast eine Reise gewonnen!\")\n",
    "elif gesammtpunkte >= 10:\n",
    "    print(\"Du hast einen neuene Laptop gewonnen!\")\n",
    "elif gesammtpunkte >= 16:\n",
    "    print(\"Du hast ein neues Auto gewonnen!\")\n",
    "else:\n",
    "    print(\"Du hast ein Kätzchengewonnen!\")"
   ]
  }
 ],
 "metadata": {
  "kernelspec": {
   "display_name": "Python 3",
   "language": "python",
   "name": "python3"
  },
  "language_info": {
   "codemirror_mode": {
    "name": "ipython",
    "version": 3
   },
   "file_extension": ".py",
   "mimetype": "text/x-python",
   "name": "python",
   "nbconvert_exporter": "python",
   "pygments_lexer": "ipython3",
   "version": "3.13.5"
  }
 },
 "nbformat": 4,
 "nbformat_minor": 5
}
