{
 "cells": [
  {
   "cell_type": "markdown",
   "id": "a1465aa6",
   "metadata": {},
   "source": [
    "Wir programmieren jetzt mehrere Geschäftsregeln.\n",
    " \n",
    "1. Ihr Code sollte nur eine Meldung anzeigen.\n",
    "2. Wenn das Abonnement des Benutzers bzw. der Benutzerin in zehn Tagen oder weniger abläuft, zeigen Sie die folgende Meldung an:\n",
    "    Your subscription will expire soon. Renew now!\n",
    "3. Wenn das Abonnement des Benutzers bzw. der Benutzerin in fünf Tagen oder weniger abläuft, zeigen Sie die folgenden Meldungen an:\n",
    "    Your subscription expires in _ days.\n",
    "    Renew now and save 10%!\n",
    "4. Wenn das Abonnement des Benutzers bzw. der Benutzerin in einem Tag abläuft, zeigen Sie die folgenden Meldungen an:\n",
    "    Your subscription expires within a day!\n",
    "    Renew now and save 20%!\n",
    "5. Wenn das Abonnement des Benutzers bzw. der Benutzerin abgelaufen ist, zeigen Sie die folgende Meldung an:\n",
    "    Your subscription has expired.\n",
    "6. Wenn das Abonnement des Benutzers nicht in zehn Tagen oder weniger abläuft, zeigen Sie nichts an."
   ]
  },
  {
   "cell_type": "code",
   "execution_count": null,
   "id": "c918e303",
   "metadata": {},
   "outputs": [],
   "source": [
    "Abonnement = int(input(\"Abonnement: \"))\n",
    "\n",
    "if Abonnement <0:\n",
    "        print(\"Your subscription has expired\")\n",
    "elif Abonnement <=1:\n",
    "            print(\"Your subscription expires within a day!Renew now and save 20%!\")\n",
    "elif Abonnement <=5:\n",
    "        print(\"Your subscription expires in {Abonnement} days. Renew now and save 10%!\")\n",
    "elif Abonnement <=10:\n",
    "     print(\"Your subscription will expire soon. Renew now!\")\n",
    "else:\n",
    "        print (\"Keine Meldung\")"
   ]
  }
 ],
 "metadata": {
  "kernelspec": {
   "display_name": "Python 3",
   "language": "python",
   "name": "python3"
  },
  "language_info": {
   "codemirror_mode": {
    "name": "ipython",
    "version": 3
   },
   "file_extension": ".py",
   "mimetype": "text/x-python",
   "name": "python",
   "nbconvert_exporter": "python",
   "pygments_lexer": "ipython3",
   "version": "3.13.5"
  }
 },
 "nbformat": 4,
 "nbformat_minor": 5
}
