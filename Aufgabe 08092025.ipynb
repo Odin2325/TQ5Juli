{
 "cells": [
  {
   "cell_type": "code",
   "execution_count": 108,
   "id": "01be78b6",
   "metadata": {},
   "outputs": [
    {
     "name": "stdout",
     "output_type": "stream",
     "text": [
      "Fahrenheit ist :  54.014\n"
     ]
    }
   ],
   "source": [
    "# 1 Temperaturumrechner\n",
    "\n",
    "celsius = float(input(\"geben Sie die Celsius ein : \"))\n",
    "fahrenheit = celsius * 9/5 +32\n",
    "print(\"Fahrenheit ist : \", fahrenheit)\n"
   ]
  },
  {
   "cell_type": "code",
   "execution_count": null,
   "id": "61680d2a",
   "metadata": {},
   "outputs": [
    {
     "name": "stdout",
     "output_type": "stream",
     "text": [
      "Fahrenheit ist : 54.014\n"
     ]
    }
   ],
   "source": [
    "# 1 bis\n",
    "def Temperaturumrechner(celsius: float):\n",
    "    return celsius * 9/5 +32\n",
    "    \n",
    "# Aufruf\n",
    "celsius = float(input(\"geben Sie die Celsius ein : \"))\n",
    "print(f\"Fahrenheit ist : {Temperaturumrechner(celsius)}\")"
   ]
  },
  {
   "cell_type": "code",
   "execution_count": null,
   "id": "10fc7211",
   "metadata": {},
   "outputs": [
    {
     "name": "stdout",
     "output_type": "stream",
     "text": [
      "die Note ist : 5\n"
     ]
    }
   ],
   "source": [
    "# 2 Notenbewertung\n",
    "\n",
    "punktzahl = float(input(\"geben Sie die Punktzahl ein : \"))\n",
    "if punktzahl >= 90 and punktzahl < 100 :\n",
    "    print(\"die Note ist : 1\")\n",
    "elif punktzahl >= 80 and punktzahl < 90 :\n",
    "    print(\"die Note ist : 2\")\n",
    "elif punktzahl >= 70 and punktzahl < 80 :\n",
    "    print(\"die Note ist : 3\")\n",
    "elif punktzahl >= 60 and punktzahl < 70 :\n",
    "    print(\"die Note ist : 4\")\n",
    "elif punktzahl >= 50 and punktzahl < 60 :\n",
    "    print(\"die Note ist : 5\")\n",
    "elif punktzahl < 50:\n",
    "    print(\"die Note ist : 6\")\n",
    "else :\n",
    "    print(\"Geben Sie ein Punktzahl zwichen 0 und 100! und Hinweis: Schreiben Sie ein Punkt statt ein Komma\")\n"
   ]
  },
  {
   "cell_type": "code",
   "execution_count": null,
   "id": "fb136aac",
   "metadata": {},
   "outputs": [
    {
     "name": "stdout",
     "output_type": "stream",
     "text": [
      "Note ist : 5\n"
     ]
    }
   ],
   "source": [
    "# 2 bis\n",
    "\n",
    "def Notenbewerung(punktzahl : float):\n",
    "    if punktzahl >= 90 and punktzahl < 100 :\n",
    "        return 1\n",
    "    elif punktzahl >= 80 and punktzahl < 90 :\n",
    "        return 2\n",
    "    elif punktzahl >= 70 and punktzahl < 80 :\n",
    "        return 3\n",
    "    elif punktzahl >= 60 and punktzahl < 70 :\n",
    "        return 4\n",
    "    elif punktzahl >= 50 and punktzahl < 60 :\n",
    "        return 5\n",
    "    else :\n",
    "        return 6\n",
    "\n",
    "# Aufruf\n",
    "punktzahl = float(input(\"geben Sie ein Punktzahl ein : \"))\n",
    "print(f\"Note ist : {Notenbewerung(punktzahl)}\")"
   ]
  },
  {
   "cell_type": "code",
   "execution_count": 111,
   "id": "f94ff6d1",
   "metadata": {},
   "outputs": [
    {
     "name": "stdout",
     "output_type": "stream",
     "text": [
      "die Zahl ist grade\n"
     ]
    }
   ],
   "source": [
    "# 4 gerade or ungerade Zahl\n",
    "\n",
    "zahl = int(input(\"geben Sie eine ganze Zahl ein : \"))\n",
    "if zahl % 2 ==0 :\n",
    "    print(\"die Zahl ist grade\")\n",
    "elif zahl % 2 !=0 :\n",
    "    print(\"die Zahl ist ungerade\")\n",
    "else :\n",
    "    print(\" Geben Sie bitte eine ganze Zahl ein!\")"
   ]
  },
  {
   "cell_type": "code",
   "execution_count": 113,
   "id": "ed6e74fc",
   "metadata": {},
   "outputs": [
    {
     "name": "stdout",
     "output_type": "stream",
     "text": [
      "die Zahl ist : ungerade\n"
     ]
    }
   ],
   "source": [
    "# 4 bis\n",
    "\n",
    "def Gerade_ungerade(zahl : int):\n",
    "    return \"gerade\" if zahl % 2 == 0 else \"ungerade\"\n",
    "\n",
    "# Aufruf\n",
    "zahl = int(input(\"geben Sie ein Zahl ein : \"))\n",
    "print(f\"die Zahl ist : {Gerade_ungerade(zahl)}\")"
   ]
  },
  {
   "cell_type": "code",
   "execution_count": null,
   "id": "c1f8ad0c",
   "metadata": {},
   "outputs": [],
   "source": [
    "# 6 \n",
    "\n",
    "for _ in range (1,101) :\n",
    "    print(_)\n"
   ]
  },
  {
   "cell_type": "code",
   "execution_count": null,
   "id": "445c072c",
   "metadata": {},
   "outputs": [
    {
     "ename": "IndentationError",
     "evalue": "expected an indented block after function definition on line 3 (995394735.py, line 5)",
     "output_type": "error",
     "traceback": [
      "  \u001b[36mCell\u001b[39m\u001b[36m \u001b[39m\u001b[32mIn[88]\u001b[39m\u001b[32m, line 5\u001b[39m\n\u001b[31m    \u001b[39m\u001b[31mprint list(range(1,101))\u001b[39m\n    ^\n\u001b[31mIndentationError\u001b[39m\u001b[31m:\u001b[39m expected an indented block after function definition on line 3\n"
     ]
    }
   ],
   "source": [
    "# 6 bis\n",
    "\n",
    "def Zahlen_1_100(list):\n",
    "\n",
    "    return list(range(1,101))\n",
    "\n",
    "# Aufruf\n"
   ]
  },
  {
   "cell_type": "code",
   "execution_count": null,
   "id": "cdcd1c97",
   "metadata": {},
   "outputs": [],
   "source": [
    "for i in range (1,11) :\n",
    "    for j in range (1,11) :\n",
    "        print(\"{}*{}={}\".format(i,j,i*j))\n"
   ]
  },
  {
   "cell_type": "code",
   "execution_count": null,
   "id": "e778ed48",
   "metadata": {},
   "outputs": [
    {
     "name": "stdout",
     "output_type": "stream",
     "text": [
      "summe von alle Zahlen ist :  308.0\n"
     ]
    }
   ],
   "source": [
    "# 8 ZahlenSumme berechnen\n",
    "summe = 0\n",
    "zahl = float(input(\"geben Sie eine Zahl ein : \"))\n",
    "summe += zahl\n",
    "while zahl != 0 :\n",
    "    zahl = float(input(\"geben Sie noch eine Zahl ein oder 0 für Exit: \"))\n",
    "    summe += zahl\n",
    "print (\"summe von alle Zahlen ist : \",summe)\n",
    "\n"
   ]
  },
  {
   "cell_type": "code",
   "execution_count": 4,
   "id": "f7d8953b",
   "metadata": {},
   "outputs": [
    {
     "name": "stdout",
     "output_type": "stream",
     "text": [
      "33 keine primzahl\n"
     ]
    }
   ],
   "source": [
    "# 9 primzahlprüfung\n",
    "\n",
    "zahl = int(input(\"geben Sie eine Zahl  ein : \"))\n",
    "x = False\n",
    "\n",
    "if zahl == 1 or zahl< 1:\n",
    "        print(zahl,\"keine primzahl\")\n",
    "elif zahl > 1:\n",
    "    for i in range (2,zahl):\n",
    "        if zahl % i ==0:\n",
    "              x = True\n",
    "              break\n",
    "    if x:    \n",
    "        print(zahl,\"keine primzahl\")\n",
    "    else :\n",
    "        print(zahl,\" ist primzahl\")"
   ]
  },
  {
   "cell_type": "code",
   "execution_count": null,
   "id": "6d132039",
   "metadata": {},
   "outputs": [
    {
     "name": "stdout",
     "output_type": "stream",
     "text": [
      "falsch\n"
     ]
    }
   ],
   "source": [
    "# 10 Passwortprüfung\n",
    "\n",
    "def Passwort( pin:list, code:int=123):\n",
    "    for _ in range (0,4):\n",
    "        if pin == code:\n",
    "            return \"richtig\"\n",
    "        else:\n",
    "            return\"falsch\"\n",
    "        \n",
    "\n",
    "# Aufruf test\n",
    "# pin = (input(\"geben Sie pin ein : \"))\n",
    "# print(Passwort(pin,123))\n",
    "\n",
    "\n",
    "    \n"
   ]
  }
 ],
 "metadata": {
  "kernelspec": {
   "display_name": "Python 3",
   "language": "python",
   "name": "python3"
  },
  "language_info": {
   "codemirror_mode": {
    "name": "ipython",
    "version": 3
   },
   "file_extension": ".py",
   "mimetype": "text/x-python",
   "name": "python",
   "nbconvert_exporter": "python",
   "pygments_lexer": "ipython3",
   "version": "3.13.5"
  }
 },
 "nbformat": 4,
 "nbformat_minor": 5
}
