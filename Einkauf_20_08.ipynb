{
 "cells": [
  {
   "cell_type": "code",
   "execution_count": 2,
   "id": "1c97e47c",
   "metadata": {},
   "outputs": [
    {
     "name": "stdout",
     "output_type": "stream",
     "text": [
      "Dein Einkauf für heute:  ['Apfel']\n"
     ]
    }
   ],
   "source": [
    "einkaufsliste = []\n",
    "\n",
    "while True:\n",
    "    produkt = input(\"Bitte Produkt eingeben (oder 'Fertig' zum Beenden): \")\n",
    "    if produkt == \"Fertig\":\n",
    "        break\n",
    "    einkaufsliste.append(produkt)\n",
    "\n",
    "print(\"Dein Einkauf für heute: \", einkaufsliste)"
   ]
  },
  {
   "cell_type": "code",
   "execution_count": null,
   "id": "870351d8",
   "metadata": {},
   "outputs": [],
   "source": []
  }
 ],
 "metadata": {
  "kernelspec": {
   "display_name": "Python 3",
   "language": "python",
   "name": "python3"
  },
  "language_info": {
   "codemirror_mode": {
    "name": "ipython",
    "version": 3
   },
   "file_extension": ".py",
   "mimetype": "text/x-python",
   "name": "python",
   "nbconvert_exporter": "python",
   "pygments_lexer": "ipython3",
   "version": "3.13.5"
  }
 },
 "nbformat": 4,
 "nbformat_minor": 5
}
