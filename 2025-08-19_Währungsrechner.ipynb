{
 "cells": [
  {
   "cell_type": "code",
   "execution_count": null,
   "id": "97235c81",
   "metadata": {},
   "outputs": [
    {
     "name": "stdout",
     "output_type": "stream",
     "text": [
      "2.0 Euro = 1.72 GBP\n"
     ]
    }
   ],
   "source": [
    "# if/elif/else, case-sensitive:\n",
    "waehrung = input(\"Bitte geben Sie die Währung ein (GBP, YEN, USD, BC): \")\n",
    "betrag = float(input(\"Bitte geben Sie den Betrag in Euro ein: \"))\n",
    "\n",
    "def waehrungsrechner(waehrung: str, betrag: float):\n",
    "    if waehrung == \"GBP\":\n",
    "        return betrag * 0.86\n",
    "    elif waehrung == \"YEN\":\n",
    "        return betrag * 166.50\n",
    "    elif waehrung == \"USD\":\n",
    "        return betrag * 1.22\n",
    "    elif waehrung == \"BC\":\n",
    "        return betrag * 0.000033\n",
    "    else:\n",
    "        return None\n",
    "\n",
    "ergebnis = waehrungsrechner(waehrung, betrag)\n",
    "print(f\"{betrag} Euro = {ergebnis} {waehrung}\")"
   ]
  },
  {
   "cell_type": "code",
   "execution_count": null,
   "id": "658542b4",
   "metadata": {},
   "outputs": [],
   "source": [
    "# switch-case, case-sensitive:\n",
    "waehrung = input(\"Bitte geben Sie die Währung ein (GBP, YEN, USD, BC): \")\n",
    "betrag = float(input(\"Bitte geben Sie den Betrag in Euro ein: \"))\n",
    "\n",
    "def waehrungsrechner(waehrung: str, betrag: float):\n",
    "    conversion = {\n",
    "        \"GBP\": 0.86,\n",
    "        \"YEN\": 166.50,\n",
    "        \"USD\": 1.22,\n",
    "        \"BC\": 0.000033\n",
    "    }\n",
    "    return betrag * conversion[waehrung]\n",
    "\n",
    "ergebnis = waehrungsrechner(waehrung, betrag)\n",
    "print(f\"{betrag} Euro = {ergebnis} {waehrung}\")"
   ]
  },
  {
   "cell_type": "code",
   "execution_count": null,
   "id": "d4da2804",
   "metadata": {},
   "outputs": [],
   "source": [
    "# if/elif/else, case-insensitive:\n",
    "waehrung = input(\"Bitte geben Sie die Währung ein (GBP, YEN, USD, BC): \").upper()\n",
    "betrag = float(input(\"Bitte geben Sie den Betrag in Euro ein: \"))\n",
    "\n",
    "def waehrungsrechner(waehrung: str, betrag: float):    \n",
    "    if waehrung == \"GBP\":\n",
    "        return betrag * 0.86\n",
    "    elif waehrung == \"YEN\":\n",
    "        return betrag * 166.50\n",
    "    elif waehrung == \"USD\":\n",
    "        return betrag * 1.22\n",
    "    elif waehrung == \"BC\":\n",
    "        return betrag * 0.000033\n",
    "    else:\n",
    "        return None\n",
    "\n",
    "ergebnis = waehrungsrechner(waehrung, betrag)\n",
    "print(f\"{betrag} Euro = {ergebnis} {waehrung}\")"
   ]
  },
  {
   "cell_type": "code",
   "execution_count": null,
   "id": "8cfa24bf",
   "metadata": {},
   "outputs": [],
   "source": [
    "# switch-case, case-insensitive:\n",
    "waehrung = input(\"Bitte geben Sie die Währung ein (GBP, YEN, USD, BC): \").upper()\n",
    "betrag = float(input(\"Bitte geben Sie den Betrag in Euro ein: \"))\n",
    "\n",
    "def waehrungsrechner(waehrung: str, betrag: float):\n",
    "    conversion = {\n",
    "        \"GBP\": 0.86,\n",
    "        \"YEN\": 166.50,\n",
    "        \"USD\": 1.22,\n",
    "        \"BC\": 0.000033\n",
    "    }\n",
    "    return betrag * conversion[waehrung]\n",
    "\n",
    "ergebnis = waehrungsrechner(waehrung, betrag)\n",
    "print(f\"{betrag} Euro = {ergebnis} {waehrung}\")"
   ]
  },
  {
   "cell_type": "code",
   "execution_count": null,
   "id": "ee5f0823",
   "metadata": {},
   "outputs": [],
   "source": [
    "# if/elif/else, case-insensitive with input validation:\n",
    "def waehrungsrechner():\n",
    "    while True:\n",
    "        waehrung = input(\"Bitte gewünschte Währung eingeben (GBP, YEN, USD, BC): \").upper()\n",
    "        if waehrung in [\"GBP\", \"YEN\", \"USD\", \"BC\"]:\n",
    "            break\n",
    "        print(\"Ungültige Eingabe, bitte erneut versuchen.\")\n",
    "\n",
    "    while True:\n",
    "        betrag_eingabe = input(\"Bitte Betrag in Euro eingeben: \")\n",
    "        try:\n",
    "            betrag = float(betrag_eingabe)\n",
    "            break\n",
    "        except ValueError:\n",
    "            print(\"Ungültige Zahl, bitte erneut versuchen.\")\n",
    "\n",
    "    if waehrung == \"GBP\":\n",
    "        print(f\"{betrag} EUR = {betrag * 0.86} GBP\")\n",
    "    elif waehrung == \"YEN\":\n",
    "        print(f\"{betrag} EUR = {betrag * 166.50} YEN\")\n",
    "    elif waehrung == \"USD\":\n",
    "        print(f\"{betrag} EUR = {betrag * 1.22} USD\")\n",
    "    elif waehrung == \"BC\":\n",
    "        print(f\"{betrag} EUR = {betrag * 0.000033} BC\")\n",
    "\n",
    "waehrungsrechner()"
   ]
  },
  {
   "cell_type": "code",
   "execution_count": null,
   "id": "b79f142d",
   "metadata": {},
   "outputs": [],
   "source": [
    "# switch-case, case-insensitive with input validation:\n",
    "def waehrungsrechner():\n",
    "    conversion = {\n",
    "        \"GBP\": 0.86,\n",
    "        \"YEN\": 166.50,\n",
    "        \"USD\": 1.22,\n",
    "        \"BC\": 0.000033\n",
    "    }\n",
    "\n",
    "    while True:\n",
    "        waehrung = input(\"Bitte gewünschte Währung eingeben (GBP, YEN, USD, BC): \").upper()\n",
    "        if waehrung in conversion:\n",
    "            break\n",
    "        print(\"Ungültige Eingabe, bitte erneut versuchen.\")\n",
    "\n",
    "    while True:\n",
    "        betrag_eingabe = input(\"Bitte Betrag in Euro eingeben: \")\n",
    "        try:\n",
    "            betrag = float(betrag_eingabe)\n",
    "            break\n",
    "        except ValueError:\n",
    "            print(\"Ungültige Zahl, bitte erneut versuchen.\")\n",
    "\n",
    "    print(f\"{betrag} EUR = {betrag * conversion[waehrung]} {waehrung}\")\n",
    "\n",
    "waehrungsrechner()"
   ]
  }
 ],
 "metadata": {
  "kernelspec": {
   "display_name": "Python 3",
   "language": "python",
   "name": "python3"
  },
  "language_info": {
   "codemirror_mode": {
    "name": "ipython",
    "version": 3
   },
   "file_extension": ".py",
   "mimetype": "text/x-python",
   "name": "python",
   "nbconvert_exporter": "python",
   "pygments_lexer": "ipython3",
   "version": "3.13.5"
  }
 },
 "nbformat": 4,
 "nbformat_minor": 5
}
