{
 "cells": [
  {
   "cell_type": "markdown",
   "id": "54284456",
   "metadata": {},
   "source": [
    "# HA 1 \n",
    "* IfElse/Switch Uebung: \n",
    "* Hier werden wir einen Währungsrechner programmieren. \n",
    "* Wir bekommen einen String als parameter, entweder YEN, USD, BC oder GBP (Pound = Pound sterling in unsere Uebung). \n",
    "* Wir konvertieren von Euro auf die andere Währungen. \n",
    "* Wir haben auch einen zweiten parameter und zwar der Betrag in Euro. \n",
    "* Sie muessen dann der Betrag auf die gewuenschte Währung konvertieren. \n",
    "* zB 10 Euro zu Pound wäre: 10 * 0.86 (Wechselkurs/Conversion rate)\n",
    "\n",
    "\n",
    "Die Wechselkurs/Conversion rate sind:  \n",
    "* GBP = 0.86 * Euro, YEN = 166.50 * Euro, USD = 1.22 * Euro, BC = 0.000033 * Euro. \n",
    "* Die neue Menge soll dann auf die Konsole ausgegeben werden. \n",
    "* Sie können davon ausgehen, dass der String immer richtig geschrieben wird. \n",
    "\n",
    "\n",
    "Challenge: Akzeptiere eine eingabe die nicht case sensitiv ist. \n",
    "* D.h.zB.yen und auch YEN wird akzeptiert. YeN \n",
    "* Hinweis: Methode upper() oder lower() von die strings.\n",
    "\n",
    "Mega Challenge: der user kann alles eingeben auch strings die keinen Sinn machen oder keine Währung sind. \n",
    "* Änder den program so um, so dass bei falscher Eingabe erneut nach eine Eingabe gefragt wird. \n"
   ]
  },
  {
   "cell_type": "code",
   "execution_count": 4,
   "id": "d83ca072",
   "metadata": {},
   "outputs": [
    {
     "name": "stdout",
     "output_type": "stream",
     "text": [
      "============================================================\n",
      "Waehrungsrechner\n",
      "============================================================\n",
      "Sie haben folgenden Betrag eingegeben: 1000.\n",
      "Wie berechnen dein neuen Betrag in GBP.\n",
      "Sie bekommen nun: 860.0 GBP.\n",
      "============================================================\n"
     ]
    }
   ],
   "source": [
    "print('============================================================')\n",
    "print('Waehrungsrechner')\n",
    "print('============================================================')\n",
    "\n",
    "gueltige_waehrung = False\n",
    "gueltige_betrag = False\n",
    "\n",
    "while not gueltige_waehrung:\n",
    "    waehrung = input('Geben Sie bitte eins der folgenden Waehrungen ein: (YEN, USD, GBP, BC)').upper()\n",
    "    if waehrung == 'YEN' or waehrung == 'USD' or waehrung == 'GBP' or waehrung == 'BC':\n",
    "        gueltige_waehrung = True\n",
    "    \n",
    "while not gueltige_betrag:\n",
    "    betrag = int(input('Geben Sie bitte ein Betrag ein:'))\n",
    "    if betrag!=0:\n",
    "            gueltige_betrag = True\n",
    "\n",
    "match waehrung:\n",
    "    case 'YEN':\n",
    "          wechselkurs = 166.5\n",
    "    case 'USD':\n",
    "          wechselkurs = 1.22\n",
    "    case 'GBP':\n",
    "          wechselkurs = 0.86\n",
    "    case 'BC':\n",
    "          wechselkurs = 0.000033\n",
    "    case _:\n",
    "          print('Ungueltiger Vorgang. Es wird abgebrochen.')\n",
    "          wechselkurs = 0\n",
    "\n",
    "\n",
    "print(f'Sie haben folgenden Betrag eingegeben: {betrag}.\\nWie berechnen dein neuen Betrag in {waehrung}.')\n",
    "print(f'Sie bekommen nun: {betrag * wechselkurs} {waehrung}.')\n",
    "print('============================================================')"
   ]
  },
  {
   "cell_type": "code",
   "execution_count": 7,
   "id": "2eee847f",
   "metadata": {},
   "outputs": [
    {
     "name": "stdout",
     "output_type": "stream",
     "text": [
      "Waehrungsrechner\n",
      "============================================================\n",
      "Sie haben folgenden Betrag eingegeben: 1000.\n",
      "Wie berechnen dein neuen Betrag in YEN.\n",
      "Sie bekommen nun: 166500.0 YEN.\n",
      "============================================================\n"
     ]
    }
   ],
   "source": [
    "# Mit try except\n",
    "print('Waehrungsrechner')\n",
    "print('============================================================')\n",
    "\n",
    "gueltige_waehrung = False\n",
    "gueltige_betrag = False\n",
    "\n",
    "while not gueltige_waehrung:\n",
    "    waehrung = input('Geben Sie bitte eins der folgenden Waehrungen ein: (YEN, USD, GBP, BC)').upper()\n",
    "    if waehrung == 'YEN' or waehrung == 'USD' or waehrung == 'GBP' or waehrung == 'BC':\n",
    "        gueltige_waehrung = True\n",
    "    \n",
    "while not gueltige_betrag:\n",
    "    try:\n",
    "        betrag = int(input('Geben Sie bitte ein Betrag ein:'))\n",
    "    except ValueError:\n",
    "         print('Ungueltiger Datentyp. Bitte nur zahlen eingeben!')\n",
    "         continue\n",
    "\n",
    "    if betrag!=0:\n",
    "            gueltige_betrag = True\n",
    "\n",
    "match waehrung:\n",
    "    case 'YEN':\n",
    "          wechselkurs = 166.5\n",
    "    case 'USD':\n",
    "          wechselkurs = 1.22\n",
    "    case 'GBP':\n",
    "          wechselkurs = 0.86\n",
    "    case 'BC':\n",
    "          wechselkurs = 0.000033\n",
    "    case _:\n",
    "          print('Ungueltiger Vorgang. Es wird abgebrochen.')\n",
    "          wechselkurs = 0\n",
    "\n",
    "\n",
    "print(f'Sie haben folgenden Betrag eingegeben: {betrag}.\\nWie berechnen dein neuen Betrag in {waehrung}.')\n",
    "print(f'Sie bekommen nun: {betrag * wechselkurs} {waehrung}.')\n",
    "print('============================================================')\n"
   ]
  },
  {
   "cell_type": "code",
   "execution_count": 8,
   "id": "32d2a65b",
   "metadata": {},
   "outputs": [
    {
     "name": "stdout",
     "output_type": "stream",
     "text": [
      "============================================================\n",
      "Waehrungsrechner\n",
      "============================================================\n",
      "Sie haben folgenden Betrag eingegeben: 1000.\n",
      "Wie berechnen dein neuen Betrag in BC.\n",
      "Sie bekommen nun: 0.033 BC.\n",
      "============================================================\n"
     ]
    }
   ],
   "source": [
    "# listen variante\n",
    "print('============================================================')\n",
    "print('Waehrungsrechner')\n",
    "print('============================================================')\n",
    "\n",
    "gueltige_waehrung = False\n",
    "gueltige_betrag = False\n",
    "\n",
    "waehrungs_liste = ['YEN', 'USD', 'GBP', 'BC']\n",
    "\n",
    "while not gueltige_waehrung:\n",
    "    waehrung = input(f'Geben Sie bitte eins der folgenden Waehrungen ein: {waehrungs_liste}').upper()\n",
    "    if waehrung in waehrungs_liste:\n",
    "        gueltige_waehrung = True\n",
    "    \n",
    "while not gueltige_betrag:\n",
    "    try:\n",
    "        betrag = int(input('Geben Sie bitte ein Betrag ein:'))\n",
    "    except ValueError:\n",
    "         print('Ungueltiger Datentyp. Bitte nur zahlen eingeben!')\n",
    "         continue\n",
    "\n",
    "    if betrag!=0:\n",
    "            gueltige_betrag = True\n",
    "\n",
    "match waehrung:\n",
    "    case 'YEN':\n",
    "          wechselkurs = 166.5\n",
    "    case 'USD':\n",
    "          wechselkurs = 1.22\n",
    "    case 'GBP':\n",
    "          wechselkurs = 0.86\n",
    "    case 'BC':\n",
    "          wechselkurs = 0.000033\n",
    "    case _:\n",
    "          print('Ungueltiger Vorgang. Es wird abgebrochen.')\n",
    "          wechselkurs = 0\n",
    "\n",
    "\n",
    "print(f'Sie haben folgenden Betrag eingegeben: {betrag}.\\nWie berechnen dein neuen Betrag in {waehrung}.')\n",
    "print(f'Sie bekommen nun: {betrag * wechselkurs} {waehrung}.')\n",
    "print('============================================================')\n",
    " "
   ]
  },
  {
   "cell_type": "markdown",
   "id": "911df53e",
   "metadata": {},
   "source": [
    "# HA 2\n",
    " * Loops/Array Uebung:\n",
    " * Befülle es mit random zeichen werte die aber nur kleine buchstaben sind.\n",
    " * Konkateniere alle zeichen um einen Wort der laenge 20 zu erzeugen und gebe es aus.\n",
    " * Hinweis: Wir können zufällige Zahlen mit randomint(min,max) bekommen. \n",
    " * Wir wissen, dass zeichen von ints erzeugt werden können wegen die ASCII tabelle.\n",
    " * z.B. ‚a‘= str(97)\n",
    " * Schreibt in google ASCII tabelle rein\n",
    " * Sie können einen Random Wert mit einer minimale und maximale größe bekommen.\n",
    " * Challenge: Es dürfen auch groß buchstaben mit in unserem resultat string rein aber keine sonderzeichen.\n",
    "* Alle Zeichen sollen zuffaelig eingeordnet werden in unser resultat.\n",
    " "
   ]
  },
  {
   "cell_type": "code",
   "execution_count": 9,
   "id": "2b412cba",
   "metadata": {},
   "outputs": [
    {
     "name": "stdout",
     "output_type": "stream",
     "text": [
      "==============================================\n",
      "Zufallswortgenerator\n",
      "==============================================\n",
      "PMDvapaDZLRrrYdKNeak\n",
      "==============================================\n"
     ]
    }
   ],
   "source": [
    "import random\n",
    "\n",
    "print('==============================================')\n",
    "print('Zufallswortgenerator')\n",
    "print('==============================================')\n",
    "\n",
    "zufallswort = ''\n",
    "zaehler = 0\n",
    "\n",
    "while zaehler<20:\n",
    "#zufallswort = zufallswort + str(randint(97,122))\n",
    "    if random.randint(0,1) == 0:\n",
    "        zufallswort += chr(random.randint(97,122))\n",
    "    else:\n",
    "        zufallswort += chr(random.randint(65,90))\n",
    "    #Grossbuchstabe von 65-90\n",
    "    #klein von 97-122\n",
    "    zaehler += 1\n",
    "\n",
    "print(zufallswort)\n",
    "print('==============================================')"
   ]
  },
  {
   "cell_type": "markdown",
   "id": "e9028e88",
   "metadata": {},
   "source": [
    "# Einkaufsliste\n",
    "Wir moechten eine Einkaufsliste programmieren.\n",
    " \n",
    "* In diese Liste speichern wir all Produkte die wir einkaufen moechten.\n",
    "\n",
    "* In diese Aufgabe geht es darum eine Liste zu erstellen und diese dann mit Benutzer input() zu befuellen.\n",
    " \n",
    "Start:\n",
    "* einkaufs_liste = []\n",
    " \n",
    "* Mit append Methode die benutzer Eingabe zur liste hinzufuegen.\n",
    "* Die Schleife soll so lange laufen bis der benutzer als eingabe das Wert 'Fertig' eingegeben hat."
   ]
  },
  {
   "cell_type": "code",
   "execution_count": 20,
   "id": "eb31a5fe",
   "metadata": {},
   "outputs": [
    {
     "name": "stdout",
     "output_type": "stream",
     "text": [
      "Einkaufsliste\n",
      "==============================================\n",
      "Gib deine Produkte ein (Tippe 'Fertig', um die Eingabe zu beenden):\n",
      "\n",
      "Deine Einkaufsliste:\n",
      "1. Milch\n",
      "2. Reis\n",
      "3. Äpfel\n",
      "4. Marmalade\n",
      "==============================================\n"
     ]
    }
   ],
   "source": [
    "print('Einkaufsliste')\n",
    "print('==============================================')\n",
    "einkaufs_liste = []\n",
    "\n",
    "print(\"Gib deine Produkte ein (Tippe 'Fertig', um die Eingabe zu beenden):\")\n",
    "\n",
    "while True:\n",
    "    produkt = input(\"Produkt: \")\n",
    "\n",
    "    if produkt.lower() == \"fertig\":  \n",
    "        break\n",
    "    else:\n",
    "        einkaufs_liste.append(produkt)\n",
    "\n",
    "print(\"\\nDeine Einkaufsliste:\")\n",
    "for index, item in enumerate(einkaufs_liste, start=1):\n",
    "    print(f\"{index}. {item}\")\n",
    "print('==============================================')\n",
    "\n"
   ]
  },
  {
   "cell_type": "code",
   "execution_count": 21,
   "id": "96533e92",
   "metadata": {},
   "outputs": [
    {
     "name": "stdout",
     "output_type": "stream",
     "text": [
      "Einkaufslise erstellen:\n",
      "['Banana', 'Mich', 'Brot']\n"
     ]
    }
   ],
   "source": [
    "# Müsterlösung\n",
    "print('Einkaufslise erstellen:')\n",
    "\n",
    "einkaufs_liste = []\n",
    "\n",
    "while True:\n",
    "    eingabe = input('Geben Sie ihr produkt bitte ein: (\\'Fertig\\' um zu stoppen.)').capitalize()\n",
    "\n",
    "    if eingabe == 'Fertig':\n",
    "        break\n",
    "    else:\n",
    "        einkaufs_liste.append(eingabe)\n",
    "\n",
    "print(einkaufs_liste)"
   ]
  },
  {
   "cell_type": "markdown",
   "id": "33c5ad79",
   "metadata": {},
   "source": [
    "# Uebung 1 Summe der Zahlen:\n",
    "\n",
    "* Schreibe ein Programm, das den Benutzer auffordert, 5 Zahlen einzugeben.\n",
    "* Speichere diese in einer Liste.\n",
    "* Verwende dann eine for-Schleife, um die Summe aller Zahlen zu berechnen und auszugeben.\n",
    "\n"
   ]
  },
  {
   "cell_type": "code",
   "execution_count": 25,
   "id": "2df37ee4",
   "metadata": {},
   "outputs": [
    {
     "name": "stdout",
     "output_type": "stream",
     "text": [
      "Summe der Zahlen\n",
      "==============================================\n",
      "Geben Sie 5 Zahlen ein:\n",
      "Die eingegebenen Zahlen sind: [1.2, 2.0, 3.0, 5.2, 6.5]\n",
      "Die Summe der eingegebenen Zahlen ist: 17.9\n",
      "==============================================\n"
     ]
    }
   ],
   "source": [
    "print(\"Summe der Zahlen\")\n",
    "print('==============================================')\n",
    "zahlen_liste = []\n",
    "print(\"Geben Sie 5 Zahlen ein:\")\n",
    "for i in range(1, 6):\n",
    "    zahl = float(input(f\"Zahl {i}: \"))\n",
    "    zahlen_liste.append(zahl) \n",
    "print(f\"Die eingegebenen Zahlen sind: {zahlen_liste}\")  \n",
    "summe = sum(zahlen_liste)\n",
    "print(f\"Die Summe der eingegebenen Zahlen ist: {summe}\")\n",
    "print('==============================================')\n",
    "\n",
    "\n",
    "    \n"
   ]
  },
  {
   "cell_type": "code",
   "execution_count": 33,
   "id": "5974c14b",
   "metadata": {},
   "outputs": [
    {
     "name": "stdout",
     "output_type": "stream",
     "text": [
      "Aktuelle Summe: 0 + 1 = 1.\n",
      "Aktuelle Summe: 1 + 2 = 3.\n",
      "Aktuelle Summe: 3 + 3 = 6.\n",
      "Aktuelle Summe: 6 + 4 = 10.\n",
      "Aktuelle Summe: 10 + 5 = 15.\n",
      "Die gesamt summe betraegt: 15\n"
     ]
    }
   ],
   "source": [
    "# Müsterlösung\n",
    "#Uebung 1:\n",
    "meine_zahlen = []\n",
    "for zahl in range(0,5):\n",
    "    meine_zahlen.append(int(input(f'Geben Sie die {zahl+1}. ein: ')))\n",
    "\n",
    "summe = 0\n",
    "for zahl in meine_zahlen:\n",
    "    print(f'Aktuelle Summe: {summe} + {zahl} = {summe+zahl}.')\n",
    "    summe += zahl\n",
    "\n",
    "print('Die gesamt summe betraegt:',summe)"
   ]
  },
  {
   "cell_type": "markdown",
   "id": "8924de86",
   "metadata": {},
   "source": [
    "# Uebung 2 Wortlängen:\n",
    "\n",
    "* Schreibe ein Programm, das den Benutzer auffordert, 5 Wörter einzugeben.\n",
    "* Speichere diese in einer Liste.\n",
    "* Verwende eine for-Schleife, um jedes Wort zusammen mit seiner Länge auszugeben.\n",
    "\n",
    "Ausgabenstil:\n",
    "```python\n",
    "print('Dein wort war: {wort}. Es hat eine laenge von: {laenge}')\n",
    "```"
   ]
  },
  {
   "cell_type": "code",
   "execution_count": 31,
   "id": "b2c4e0d8",
   "metadata": {},
   "outputs": [
    {
     "name": "stdout",
     "output_type": "stream",
     "text": [
      "Wortlaengen Uebung\n",
      "==============================================\n",
      "Ausgewälte Woerter:\n",
      "Dein wort war: Hallo. Diese wort hat eine laenge von: 5\n",
      "Dein wort war: mein. Diese wort hat eine laenge von: 4\n",
      "Dein wort war: name. Diese wort hat eine laenge von: 4\n",
      "Dein wort war: ist. Diese wort hat eine laenge von: 3\n",
      "Dein wort war: Maryam. Diese wort hat eine laenge von: 6\n",
      "==============================================\n"
     ]
    }
   ],
   "source": [
    "print('Wortlaengen Uebung')\n",
    "print('==============================================')\n",
    "wort_liste = []\n",
    "print(\"Ausgewaehlte Woerter:\")\n",
    "for i in range(1, 6):\n",
    "    wort = input(f\"Wort {i}: \")\n",
    "    wort_liste.append(wort)     \n",
    "for wort in wort_liste:\n",
    "    laenge = len(wort)\n",
    "    print(f'Dein wort war: {wort}. Diese wort hat eine laenge von: {laenge}')\n",
    "print('==============================================')\n"
   ]
  },
  {
   "cell_type": "code",
   "execution_count": 32,
   "id": "9ae1c8b2",
   "metadata": {},
   "outputs": [
    {
     "name": "stdout",
     "output_type": "stream",
     "text": [
      "Dein wort war: Hallo. Es hat eine laenge von: 5\n",
      "Dein wort war: mein. Es hat eine laenge von: 4\n",
      "Dein wort war: name. Es hat eine laenge von: 4\n",
      "Dein wort war: ist. Es hat eine laenge von: 3\n",
      "Dein wort war: maryam. Es hat eine laenge von: 6\n"
     ]
    }
   ],
   "source": [
    "# Müsterlösung\n",
    "#Uebung 2:\n",
    "meine_woerter = []\n",
    "for zahl in range(0,5):\n",
    "    meine_woerter.append(input(f'Geben Sie das {zahl+1}. Wort ein: '))\n",
    "\n",
    "for wort in meine_woerter:\n",
    "    print(f'Dein wort war: {wort}. Es hat eine laenge von: {len(wort)}')"
   ]
  },
  {
   "cell_type": "markdown",
   "id": "892aafaf",
   "metadata": {},
   "source": [
    "# Aufgabe 1 Notenverwaltung für eine Klasse: \n",
    "\n",
    "Szenario: \n",
    "\n",
    "Eine Lehrerin möchte die Noten ihrer Schüler speichern und auswerten.\n",
    "* Du sollst ein kleines Programm schreiben, das ihr dabei hilft. \n",
    "\n",
    "#  Aufgabe: \n",
    "\n",
    "1. Frage die Benutzerin, wie viele Schüler es gibt. \n",
    "\n",
    "2. Lasse sie für jeden Schüler einen Namen und eine Note (zwischen 1 und 6) eingeben. \n",
    "\n",
    "a. Speichere die Namen in einer Liste namen. \n",
    "\n",
    "b. Speichere die Noten in einer Liste noten. \n",
    "\n",
    "3. Verwende eine for-Schleife, um: \n",
    "\n",
    "a. alle Schüler mit Namen und Note auszugeben. \n",
    "\n",
    "b. die Durchschnittsnote der Klasse zu berechnen. \n",
    "\n",
    "c. die beste Note und den dazugehörigen Schüler anzuzeigen. \n",
    "\n",
    "d. die schlechteste Note und den dazugehörigen Schüler anzuzeigen."
   ]
  },
  {
   "cell_type": "code",
   "execution_count": 45,
   "id": "0f231276",
   "metadata": {},
   "outputs": [
    {
     "name": "stdout",
     "output_type": "stream",
     "text": [
      "Notenverwaltung\n",
      "==============================================\n",
      "\n",
      "Alle Schueler:\n",
      "jh -> 1.0\n",
      "lk -> 4.0\n",
      "iu -> 2.0\n",
      "hj -> 3.0\n",
      "==============================================\n",
      "Beste Note: jh mit 1.0\n",
      "==============================================\n",
      "Schlechteste Note: lk mit 4.0\n",
      "==============================================\n",
      "Durchschnittsnote: 2.50\n",
      "==============================================\n"
     ]
    }
   ],
   "source": [
    "print(\"Notenverwaltung\")\n",
    "print('==============================================')\n",
    "\n",
    "Anzahl = int(input('Wie viele Schueler gibt es? '))\n",
    "namen = []  \n",
    "noten = []\n",
    "for zahl in range(Anzahl):\n",
    "    name = input(f'Geben Sie den Namen des {zahl+1}. Schuelers ein: ')\n",
    "    note = float(input(f'Geben Sie die Note des {zahl+1}. Schuelers ein: '))\n",
    "    while note < 1 or note > 6:\n",
    "        print(\"Bitte geben Sie eine Note zwischen 1 und 6 ein.\")\n",
    "        note = float(input(f'Geben Sie die Note des {zahl+1}. Schuelers ein: '))        \n",
    "    namen.append(name)\n",
    "    noten.append(note)\n",
    "print(\"\\nAlle Schueler:\")\n",
    "for i in range(Anzahl):\n",
    "    print(f'{namen[i]} -> {noten[i]}')\n",
    "\n",
    "print('==============================================')\n",
    "\n",
    "beste_note = min(noten)\n",
    "beste_schueler = [namen[i] for i, note in enumerate(noten) if note == beste_note]\n",
    "for s in beste_schueler:\n",
    "    print(f\"Beste Note: {s} mit {beste_note}\")\n",
    "\n",
    "print('==============================================')\n",
    "schlechteste_note = max(noten)\n",
    "schlechteste_schueler = [namen[i] for i, note in enumerate(noten) if note == schlechteste_note]\n",
    "for s in schlechteste_schueler:\n",
    "    print(f\"Schlechteste Note: {s} mit {schlechteste_note}\")\n",
    "\n",
    "print('==============================================')\n",
    "\n",
    "durchschnitt = sum(noten) / len(noten)\n",
    "print(f\"Durchschnittsnote: {durchschnitt:.2f}\")\n",
    "\n",
    "print('==============================================')\n"
   ]
  },
  {
   "cell_type": "markdown",
   "id": "2c5e9d3f",
   "metadata": {},
   "source": [
    "# Aufgabe 2 Rollenspielchen: \n",
    "* In einigen Rollenspielen kämpfen die Figuren der Spieler*innen gegen nicht von Spieler*innen gesteuerte Figuren, die in der Regel die Monster oder Schurken sind. \n",
    "\n",
    "* Manchmal besteht ein Kampf darin, dass jede Figur mithilfe von Würfeln einen Zufallswert generiert, der dann vom Gesundheitswert des Gegners abgezogen wird.\n",
    "* Sobald die Gesundheit einer Figur null erreicht, stirbt die Figur, oder sie verliert das Spiel. \n",
    "* In dieser Aufgabe bringen wir diese Interaktion auf den Punkt. Ein Held und ein Monster beginnen mit dem gleichen Integritätspunktestand.\n",
    "*  Wenn die Heldin oder der Held am Zug ist, generiert sie bzw. er einen Zufallswert, der vom Gesundheitswert des Monsters *abgezogen wird.\n",
    "* Wenn der Gesundheitswert des Monsters größer als null ist, kommt es an die Reihe und greift den Helden bzw. die Heldin an.\n",
    "* Solange sowohl der Held bzw. die Heldin als auch das Monster über Gesundheitswerte größer als null verfügen, wird der Kampf fortgesetzt. \n",
    "\n",
    "\n",
    "Programmieraufgabe:\n",
    "* Schreiben von Code zum Implementieren der Spielregeln Hier sind die Regeln für das Kampfspiel, das Sie in Ihrem Codeprojekt implementieren sollen: \n",
    "1. Sie müssen die while-Anweisung als äußere Spielschleife verwenden. \n",
    "2. Der Held bzw. die Heldin und das Monster beginnen mit 10 Gesundheitspunkten. \n",
    "a. Eine variable held und monster erstellen, beide gleich 10. \n",
    "3. Alle Angriffe haben einen Wert zwischen 1 und 10. Diese sollen zuffaellig generiert werden.  \n",
    "a. randomint(1,10) \n",
    "4. Der Held bzw. die Heldin greift zuerst an."
   ]
  },
  {
   "cell_type": "code",
   "execution_count": 66,
   "id": "673b2bc4",
   "metadata": {},
   "outputs": [
    {
     "name": "stdout",
     "output_type": "stream",
     "text": [
      "Rollenspiel: Held gegen Monster\n",
      "================================\n",
      "Held greift an und macht 8 Schaden. Monster hat jetzt 2 Lebenspunkte.\n",
      "Monster greift an und macht 2 Schaden. Held hat jetzt 8 Lebenspunkte.\n",
      "Held greift an und macht 5 Schaden. Monster hat jetzt 0 Lebenspunkte.\n",
      "Das Monster wurde besiegt!\n",
      "Ende der Runde 1.\n",
      "================================\n"
     ]
    }
   ],
   "source": [
    "import random\n",
    "\n",
    "print(\"Rollenspiel: Held gegen Monster\")\n",
    "print(\"================================\")\n",
    "held = 10\n",
    "monster = 10\n",
    "runde = 1\n",
    "while held > 0 and monster > 0:\n",
    "    schaden = random.randint(1, 10)\n",
    "    monster -= schaden\n",
    "    print(f\"Held greift an und macht {schaden} Schaden. Monster hat jetzt {max(monster,0)} Lebenspunkte.\")\n",
    "\n",
    "    if monster <= 0:\n",
    "        print(\"Das Monster wurde besiegt!\")\n",
    "        break\n",
    "    schaden = random.randint(1, 10)\n",
    "    held -= schaden\n",
    "    print(f\"Monster greift an und macht {schaden} Schaden. Held hat jetzt {max(held,0)} Lebenspunkte.\")\n",
    "    if held <= 0:\n",
    "        print(\"Der Held wurde besiegt!\")\n",
    "        break\n",
    "print(f\"Ende der Runde {runde}.\")\n",
    "print(\"================================\")\n",
    "\n"
   ]
  }
 ],
 "metadata": {
  "kernelspec": {
   "display_name": "Python 3",
   "language": "python",
   "name": "python3"
  },
  "language_info": {
   "codemirror_mode": {
    "name": "ipython",
    "version": 3
   },
   "file_extension": ".py",
   "mimetype": "text/x-python",
   "name": "python",
   "nbconvert_exporter": "python",
   "pygments_lexer": "ipython3",
   "version": "3.13.5"
  }
 },
 "nbformat": 4,
 "nbformat_minor": 5
}
