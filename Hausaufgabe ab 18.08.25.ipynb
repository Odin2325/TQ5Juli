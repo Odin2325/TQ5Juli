{
 "cells": [
  {
   "cell_type": "markdown",
   "id": "54284456",
   "metadata": {},
   "source": [
    "# HA 1 \n",
    "* IfElse/Switch Uebung: \n",
    "* Hier werden wir einen Währungsrechner programmieren. \n",
    "* Wir bekommen einen String als parameter, entweder YEN, USD, BC oder GBP (Pound = Pound sterling in unsere Uebung). \n",
    "* Wir konvertieren von Euro auf die andere Währungen. \n",
    "* Wir haben auch einen zweiten parameter und zwar der Betrag in Euro. \n",
    "* Sie muessen dann der Betrag auf die gewuenschte Währung konvertieren. \n",
    "* zB 10 Euro zu Pound wäre: 10 * 0.86 (Wechselkurs/Conversion rate)\n",
    "\n",
    "\n",
    "Die Wechselkurs/Conversion rate sind:  \n",
    "* GBP = 0.86 * Euro, YEN = 166.50 * Euro, USD = 1.22 * Euro, BC = 0.000033 * Euro. \n",
    "* Die neue Menge soll dann auf die Konsole ausgegeben werden. \n",
    "* Sie können davon ausgehen, dass der String immer richtig geschrieben wird. \n",
    "\n",
    "\n",
    "Challenge: Akzeptiere eine eingabe die nicht case sensitiv ist. \n",
    "* D.h.zB.yen und auch YEN wird akzeptiert. YeN \n",
    "* Hinweis: Methode upper() oder lower() von die strings.\n",
    "\n",
    "Mega Challenge: der user kann alles eingeben auch strings die keinen Sinn machen oder keine Währung sind. \n",
    "* Änder den program so um, so dass bei falscher Eingabe erneut nach eine Eingabe gefragt wird. \n"
   ]
  },
  {
   "cell_type": "code",
   "execution_count": 4,
   "id": "d83ca072",
   "metadata": {},
   "outputs": [
    {
     "name": "stdout",
     "output_type": "stream",
     "text": [
      "============================================================\n",
      "Waehrungsrechner\n",
      "============================================================\n",
      "Sie haben folgenden Betrag eingegeben: 1000.\n",
      "Wie berechnen dein neuen Betrag in GBP.\n",
      "Sie bekommen nun: 860.0 GBP.\n",
      "============================================================\n"
     ]
    }
   ],
   "source": [
    "print('============================================================')\n",
    "print('Waehrungsrechner')\n",
    "print('============================================================')\n",
    "\n",
    "gueltige_waehrung = False\n",
    "gueltige_betrag = False\n",
    "\n",
    "while not gueltige_waehrung:\n",
    "    waehrung = input('Geben Sie bitte eins der folgenden Waehrungen ein: (YEN, USD, GBP, BC)').upper()\n",
    "    if waehrung == 'YEN' or waehrung == 'USD' or waehrung == 'GBP' or waehrung == 'BC':\n",
    "        gueltige_waehrung = True\n",
    "    \n",
    "while not gueltige_betrag:\n",
    "    betrag = int(input('Geben Sie bitte ein Betrag ein:'))\n",
    "    if betrag!=0:\n",
    "            gueltige_betrag = True\n",
    "\n",
    "match waehrung:\n",
    "    case 'YEN':\n",
    "          wechselkurs = 166.5\n",
    "    case 'USD':\n",
    "          wechselkurs = 1.22\n",
    "    case 'GBP':\n",
    "          wechselkurs = 0.86\n",
    "    case 'BC':\n",
    "          wechselkurs = 0.000033\n",
    "    case _:\n",
    "          print('Ungueltiger Vorgang. Es wird abgebrochen.')\n",
    "          wechselkurs = 0\n",
    "\n",
    "\n",
    "print(f'Sie haben folgenden Betrag eingegeben: {betrag}.\\nWie berechnen dein neuen Betrag in {waehrung}.')\n",
    "print(f'Sie bekommen nun: {betrag * wechselkurs} {waehrung}.')\n",
    "print('============================================================')"
   ]
  },
  {
   "cell_type": "code",
   "execution_count": 7,
   "id": "2eee847f",
   "metadata": {},
   "outputs": [
    {
     "name": "stdout",
     "output_type": "stream",
     "text": [
      "Waehrungsrechner\n",
      "============================================================\n",
      "Sie haben folgenden Betrag eingegeben: 1000.\n",
      "Wie berechnen dein neuen Betrag in YEN.\n",
      "Sie bekommen nun: 166500.0 YEN.\n",
      "============================================================\n"
     ]
    }
   ],
   "source": [
    "# Mit try except\n",
    "print('Waehrungsrechner')\n",
    "print('============================================================')\n",
    "\n",
    "gueltige_waehrung = False\n",
    "gueltige_betrag = False\n",
    "\n",
    "while not gueltige_waehrung:\n",
    "    waehrung = input('Geben Sie bitte eins der folgenden Waehrungen ein: (YEN, USD, GBP, BC)').upper()\n",
    "    if waehrung == 'YEN' or waehrung == 'USD' or waehrung == 'GBP' or waehrung == 'BC':\n",
    "        gueltige_waehrung = True\n",
    "    \n",
    "while not gueltige_betrag:\n",
    "    try:\n",
    "        betrag = int(input('Geben Sie bitte ein Betrag ein:'))\n",
    "    except ValueError:\n",
    "         print('Ungueltiger Datentyp. Bitte nur zahlen eingeben!')\n",
    "         continue\n",
    "\n",
    "    if betrag!=0:\n",
    "            gueltige_betrag = True\n",
    "\n",
    "match waehrung:\n",
    "    case 'YEN':\n",
    "          wechselkurs = 166.5\n",
    "    case 'USD':\n",
    "          wechselkurs = 1.22\n",
    "    case 'GBP':\n",
    "          wechselkurs = 0.86\n",
    "    case 'BC':\n",
    "          wechselkurs = 0.000033\n",
    "    case _:\n",
    "          print('Ungueltiger Vorgang. Es wird abgebrochen.')\n",
    "          wechselkurs = 0\n",
    "\n",
    "\n",
    "print(f'Sie haben folgenden Betrag eingegeben: {betrag}.\\nWie berechnen dein neuen Betrag in {waehrung}.')\n",
    "print(f'Sie bekommen nun: {betrag * wechselkurs} {waehrung}.')\n",
    "print('============================================================')\n"
   ]
  },
  {
   "cell_type": "code",
   "execution_count": 8,
   "id": "32d2a65b",
   "metadata": {},
   "outputs": [
    {
     "name": "stdout",
     "output_type": "stream",
     "text": [
      "============================================================\n",
      "Waehrungsrechner\n",
      "============================================================\n",
      "Sie haben folgenden Betrag eingegeben: 1000.\n",
      "Wie berechnen dein neuen Betrag in BC.\n",
      "Sie bekommen nun: 0.033 BC.\n",
      "============================================================\n"
     ]
    }
   ],
   "source": [
    "# listen variante\n",
    "print('============================================================')\n",
    "print('Waehrungsrechner')\n",
    "print('============================================================')\n",
    "\n",
    "gueltige_waehrung = False\n",
    "gueltige_betrag = False\n",
    "\n",
    "waehrungs_liste = ['YEN', 'USD', 'GBP', 'BC']\n",
    "\n",
    "while not gueltige_waehrung:\n",
    "    waehrung = input(f'Geben Sie bitte eins der folgenden Waehrungen ein: {waehrungs_liste}').upper()\n",
    "    if waehrung in waehrungs_liste:\n",
    "        gueltige_waehrung = True\n",
    "    \n",
    "while not gueltige_betrag:\n",
    "    try:\n",
    "        betrag = int(input('Geben Sie bitte ein Betrag ein:'))\n",
    "    except ValueError:\n",
    "         print('Ungueltiger Datentyp. Bitte nur zahlen eingeben!')\n",
    "         continue\n",
    "\n",
    "    if betrag!=0:\n",
    "            gueltige_betrag = True\n",
    "\n",
    "match waehrung:\n",
    "    case 'YEN':\n",
    "          wechselkurs = 166.5\n",
    "    case 'USD':\n",
    "          wechselkurs = 1.22\n",
    "    case 'GBP':\n",
    "          wechselkurs = 0.86\n",
    "    case 'BC':\n",
    "          wechselkurs = 0.000033\n",
    "    case _:\n",
    "          print('Ungueltiger Vorgang. Es wird abgebrochen.')\n",
    "          wechselkurs = 0\n",
    "\n",
    "\n",
    "print(f'Sie haben folgenden Betrag eingegeben: {betrag}.\\nWie berechnen dein neuen Betrag in {waehrung}.')\n",
    "print(f'Sie bekommen nun: {betrag * wechselkurs} {waehrung}.')\n",
    "print('============================================================')\n",
    " "
   ]
  },
  {
   "cell_type": "markdown",
   "id": "911df53e",
   "metadata": {},
   "source": [
    "# HA 2\n",
    " * Loops/Array Uebung:\n",
    " * Befülle es mit random zeichen werte die aber nur kleine buchstaben sind.\n",
    " * Konkateniere alle zeichen um einen Wort der laenge 20 zu erzeugen und gebe es aus.\n",
    " * Hinweis: Wir können zufällige Zahlen mit randomint(min,max) bekommen. \n",
    " * Wir wissen, dass zeichen von ints erzeugt werden können wegen die ASCII tabelle.\n",
    " * z.B. ‚a‘= str(97)\n",
    " * Schreibt in google ASCII tabelle rein\n",
    " * Sie können einen Random Wert mit einer minimale und maximale größe bekommen.\n",
    " * Challenge: Es dürfen auch groß buchstaben mit in unserem resultat string rein aber keine sonderzeichen.\n",
    "* Alle Zeichen sollen zuffaelig eingeordnet werden in unser resultat.\n",
    " "
   ]
  },
  {
   "cell_type": "code",
   "execution_count": 9,
   "id": "2b412cba",
   "metadata": {},
   "outputs": [
    {
     "name": "stdout",
     "output_type": "stream",
     "text": [
      "==============================================\n",
      "Zufallswortgenerator\n",
      "==============================================\n",
      "PMDvapaDZLRrrYdKNeak\n",
      "==============================================\n"
     ]
    }
   ],
   "source": [
    "import random\n",
    "\n",
    "print('==============================================')\n",
    "print('Zufallswortgenerator')\n",
    "print('==============================================')\n",
    "\n",
    "zufallswort = ''\n",
    "zaehler = 0\n",
    "\n",
    "while zaehler<20:\n",
    "#zufallswort = zufallswort + str(randint(97,122))\n",
    "    if random.randint(0,1) == 0:\n",
    "        zufallswort += chr(random.randint(97,122))\n",
    "    else:\n",
    "        zufallswort += chr(random.randint(65,90))\n",
    "    #Grossbuchstabe von 65-90\n",
    "    #klein von 97-122\n",
    "    zaehler += 1\n",
    "\n",
    "print(zufallswort)\n",
    "print('==============================================')"
   ]
  },
  {
   "cell_type": "markdown",
   "id": "e9028e88",
   "metadata": {},
   "source": [
    "# Einkaufsliste\n",
    "Wir moechten eine Einkaufsliste programmieren.\n",
    " \n",
    "* In diese Liste speichern wir all Produkte die wir einkaufen moechten.\n",
    "\n",
    "* In diese Aufgabe geht es darum eine Liste zu erstellen und diese dann mit Benutzer input() zu befuellen.\n",
    " \n",
    "Start:\n",
    "* einkaufs_liste = []\n",
    " \n",
    "* Mit append Methode die benutzer Eingabe zur liste hinzufuegen.\n",
    "* Die Schleife soll so lange laufen bis der benutzer als eingabe das Wert 'Fertig' eingegeben hat."
   ]
  },
  {
   "cell_type": "code",
   "execution_count": 20,
   "id": "eb31a5fe",
   "metadata": {},
   "outputs": [
    {
     "name": "stdout",
     "output_type": "stream",
     "text": [
      "Einkaufsliste\n",
      "==============================================\n",
      "Gib deine Produkte ein (Tippe 'Fertig', um die Eingabe zu beenden):\n",
      "\n",
      "Deine Einkaufsliste:\n",
      "1. Milch\n",
      "2. Reis\n",
      "3. Äpfel\n",
      "4. Marmalade\n",
      "==============================================\n"
     ]
    }
   ],
   "source": [
    "print('Einkaufsliste')\n",
    "print('==============================================')\n",
    "einkaufs_liste = []\n",
    "\n",
    "print(\"Gib deine Produkte ein (Tippe 'Fertig', um die Eingabe zu beenden):\")\n",
    "\n",
    "while True:\n",
    "    produkt = input(\"Produkt: \")\n",
    "\n",
    "    if produkt.lower() == \"fertig\":  \n",
    "        break\n",
    "    else:\n",
    "        einkaufs_liste.append(produkt)\n",
    "\n",
    "print(\"\\nDeine Einkaufsliste:\")\n",
    "for index, item in enumerate(einkaufs_liste, start=1):\n",
    "    print(f\"{index}. {item}\")\n",
    "print('==============================================')\n",
    "\n"
   ]
  },
  {
   "cell_type": "code",
   "execution_count": 21,
   "id": "96533e92",
   "metadata": {},
   "outputs": [
    {
     "name": "stdout",
     "output_type": "stream",
     "text": [
      "Einkaufslise erstellen:\n",
      "['Banana', 'Mich', 'Brot']\n"
     ]
    }
   ],
   "source": [
    "# Müsterlösung\n",
    "print('Einkaufslise erstellen:')\n",
    "\n",
    "einkaufs_liste = []\n",
    "\n",
    "while True:\n",
    "    eingabe = input('Geben Sie ihr produkt bitte ein: (\\'Fertig\\' um zu stoppen.)').capitalize()\n",
    "\n",
    "    if eingabe == 'Fertig':\n",
    "        break\n",
    "    else:\n",
    "        einkaufs_liste.append(eingabe)\n",
    "\n",
    "print(einkaufs_liste)"
   ]
  },
  {
   "cell_type": "markdown",
   "id": "33c5ad79",
   "metadata": {},
   "source": [
    "# Uebung 1 Summe der Zahlen:\n",
    "\n",
    "* Schreibe ein Programm, das den Benutzer auffordert, 5 Zahlen einzugeben.\n",
    "* Speichere diese in einer Liste.\n",
    "* Verwende dann eine for-Schleife, um die Summe aller Zahlen zu berechnen und auszugeben.\n",
    "\n"
   ]
  },
  {
   "cell_type": "code",
   "execution_count": 25,
   "id": "2df37ee4",
   "metadata": {},
   "outputs": [
    {
     "name": "stdout",
     "output_type": "stream",
     "text": [
      "Summe der Zahlen\n",
      "==============================================\n",
      "Geben Sie 5 Zahlen ein:\n",
      "Die eingegebenen Zahlen sind: [1.2, 2.0, 3.0, 5.2, 6.5]\n",
      "Die Summe der eingegebenen Zahlen ist: 17.9\n",
      "==============================================\n"
     ]
    }
   ],
   "source": [
    "print(\"Summe der Zahlen\")\n",
    "print('==============================================')\n",
    "zahlen_liste = []\n",
    "print(\"Geben Sie 5 Zahlen ein:\")\n",
    "for i in range(1, 6):\n",
    "    zahl = float(input(f\"Zahl {i}: \"))\n",
    "    zahlen_liste.append(zahl) \n",
    "print(f\"Die eingegebenen Zahlen sind: {zahlen_liste}\")  \n",
    "summe = sum(zahlen_liste)\n",
    "print(f\"Die Summe der eingegebenen Zahlen ist: {summe}\")\n",
    "print('==============================================')\n",
    "\n",
    "\n",
    "    \n"
   ]
  },
  {
   "cell_type": "code",
   "execution_count": 33,
   "id": "5974c14b",
   "metadata": {},
   "outputs": [
    {
     "name": "stdout",
     "output_type": "stream",
     "text": [
      "Aktuelle Summe: 0 + 1 = 1.\n",
      "Aktuelle Summe: 1 + 2 = 3.\n",
      "Aktuelle Summe: 3 + 3 = 6.\n",
      "Aktuelle Summe: 6 + 4 = 10.\n",
      "Aktuelle Summe: 10 + 5 = 15.\n",
      "Die gesamt summe betraegt: 15\n"
     ]
    }
   ],
   "source": [
    "# Müsterlösung\n",
    "#Uebung 1:\n",
    "meine_zahlen = []\n",
    "for zahl in range(0,5):\n",
    "    meine_zahlen.append(int(input(f'Geben Sie die {zahl+1}. ein: ')))\n",
    "\n",
    "summe = 0\n",
    "for zahl in meine_zahlen:\n",
    "    print(f'Aktuelle Summe: {summe} + {zahl} = {summe+zahl}.')\n",
    "    summe += zahl\n",
    "\n",
    "print('Die gesamt summe betraegt:',summe)"
   ]
  },
  {
   "cell_type": "markdown",
   "id": "8924de86",
   "metadata": {},
   "source": [
    "# Uebung 2 Wortlängen:\n",
    "\n",
    "* Schreibe ein Programm, das den Benutzer auffordert, 5 Wörter einzugeben.\n",
    "* Speichere diese in einer Liste.\n",
    "* Verwende eine for-Schleife, um jedes Wort zusammen mit seiner Länge auszugeben.\n",
    "\n",
    "Ausgabenstil:\n",
    "```python\n",
    "print('Dein wort war: {wort}. Es hat eine laenge von: {laenge}')\n",
    "```"
   ]
  },
  {
   "cell_type": "code",
   "execution_count": 31,
   "id": "b2c4e0d8",
   "metadata": {},
   "outputs": [
    {
     "name": "stdout",
     "output_type": "stream",
     "text": [
      "Wortlaengen Uebung\n",
      "==============================================\n",
      "Ausgewälte Woerter:\n",
      "Dein wort war: Hallo. Diese wort hat eine laenge von: 5\n",
      "Dein wort war: mein. Diese wort hat eine laenge von: 4\n",
      "Dein wort war: name. Diese wort hat eine laenge von: 4\n",
      "Dein wort war: ist. Diese wort hat eine laenge von: 3\n",
      "Dein wort war: Maryam. Diese wort hat eine laenge von: 6\n",
      "==============================================\n"
     ]
    }
   ],
   "source": [
    "print('Wortlaengen Uebung')\n",
    "print('==============================================')\n",
    "wort_liste = []\n",
    "print(\"Ausgewaehlte Woerter:\")\n",
    "for i in range(1, 6):\n",
    "    wort = input(f\"Wort {i}: \")\n",
    "    wort_liste.append(wort)     \n",
    "for wort in wort_liste:\n",
    "    laenge = len(wort)\n",
    "    print(f'Dein wort war: {wort}. Diese wort hat eine laenge von: {laenge}')\n",
    "print('==============================================')\n"
   ]
  },
  {
   "cell_type": "code",
   "execution_count": 32,
   "id": "9ae1c8b2",
   "metadata": {},
   "outputs": [
    {
     "name": "stdout",
     "output_type": "stream",
     "text": [
      "Dein wort war: Hallo. Es hat eine laenge von: 5\n",
      "Dein wort war: mein. Es hat eine laenge von: 4\n",
      "Dein wort war: name. Es hat eine laenge von: 4\n",
      "Dein wort war: ist. Es hat eine laenge von: 3\n",
      "Dein wort war: maryam. Es hat eine laenge von: 6\n"
     ]
    }
   ],
   "source": [
    "# Müsterlösung\n",
    "#Uebung 2:\n",
    "meine_woerter = []\n",
    "for zahl in range(0,5):\n",
    "    meine_woerter.append(input(f'Geben Sie das {zahl+1}. Wort ein: '))\n",
    "\n",
    "for wort in meine_woerter:\n",
    "    print(f'Dein wort war: {wort}. Es hat eine laenge von: {len(wort)}')"
   ]
  },
  {
   "cell_type": "markdown",
   "id": "892aafaf",
   "metadata": {},
   "source": [
    "# Aufgabe 1 Notenverwaltung für eine Klasse: \n",
    "\n",
    "Szenario: \n",
    "\n",
    "Eine Lehrerin möchte die Noten ihrer Schüler speichern und auswerten.\n",
    "* Du sollst ein kleines Programm schreiben, das ihr dabei hilft. \n",
    "\n",
    "#  Aufgabe: \n",
    "\n",
    "1. Frage die Benutzerin, wie viele Schüler es gibt. \n",
    "\n",
    "2. Lasse sie für jeden Schüler einen Namen und eine Note (zwischen 1 und 6) eingeben. \n",
    "\n",
    "a. Speichere die Namen in einer Liste namen. \n",
    "\n",
    "b. Speichere die Noten in einer Liste noten. \n",
    "\n",
    "3. Verwende eine for-Schleife, um: \n",
    "\n",
    "a. alle Schüler mit Namen und Note auszugeben. \n",
    "\n",
    "b. die Durchschnittsnote der Klasse zu berechnen. \n",
    "\n",
    "c. die beste Note und den dazugehörigen Schüler anzuzeigen. \n",
    "\n",
    "d. die schlechteste Note und den dazugehörigen Schüler anzuzeigen."
   ]
  },
  {
   "cell_type": "code",
   "execution_count": 71,
   "id": "0f231276",
   "metadata": {},
   "outputs": [
    {
     "name": "stdout",
     "output_type": "stream",
     "text": [
      "Notenverwaltung\n",
      "==============================================\n",
      "\n",
      "Alle Schueler:\n",
      "kim -> 1.0\n",
      "lora -> 3.0\n",
      "==============================================\n",
      "Beste Note: kim mit 1.0\n",
      "==============================================\n",
      "Schlechteste Note: lora mit 3.0\n",
      "==============================================\n",
      "Durchschnittsnote: 2.00\n",
      "==============================================\n"
     ]
    }
   ],
   "source": [
    "print(\"Notenverwaltung\")\n",
    "print('==============================================')\n",
    "\n",
    "Anzahl = int(input('Wie viele Schueler gibt es? '))\n",
    "namen = []  \n",
    "noten = []\n",
    "for zahl in range(Anzahl):\n",
    "    name = input(f'Geben Sie den Namen des {zahl+1}. Schuelers ein: ')\n",
    "    note = float(input(f'Geben Sie die Note des {zahl+1}. Schuelers ein: '))\n",
    "    while note < 1 or note > 6:\n",
    "        print(\"Bitte geben Sie eine Note zwischen 1 und 6 ein.\")\n",
    "        note = float(input(f'Geben Sie die Note des {zahl+1}. Schuelers ein: '))        \n",
    "    namen.append(name)\n",
    "    noten.append(note)\n",
    "print(\"\\nAlle Schueler:\")\n",
    "for i in range(Anzahl):\n",
    "    print(f'{namen[i]} -> {noten[i]}')\n",
    "\n",
    "print('==============================================')\n",
    "\n",
    "beste_note = min(noten)\n",
    "beste_schueler = [namen[i] for i, note in enumerate(noten) if note == beste_note]\n",
    "for s in beste_schueler:\n",
    "    print(f\"Beste Note: {s} mit {beste_note}\")\n",
    "\n",
    "print('==============================================')\n",
    "schlechteste_note = max(noten)\n",
    "schlechteste_schueler = [namen[i] for i, note in enumerate(noten) if note == schlechteste_note]\n",
    "for s in schlechteste_schueler:\n",
    "    print(f\"Schlechteste Note: {s} mit {schlechteste_note}\")\n",
    "\n",
    "print('==============================================')\n",
    "\n",
    "durchschnitt = sum(noten) / (Anzahl)\n",
    "print(f\"Durchschnittsnote: {durchschnitt:.2f}\")\n",
    "\n",
    "print('==============================================')\n"
   ]
  },
  {
   "cell_type": "code",
   "execution_count": 72,
   "id": "c8459a36",
   "metadata": {},
   "outputs": [
    {
     "name": "stdout",
     "output_type": "stream",
     "text": [
      "Notenverwaltungsprogramm\n",
      "han -> 2.0\n",
      "max -> 3.0\n",
      "jan -> 1.0\n",
      "rima -> 1.0\n",
      "Durchschnittsnote: 1.75\n",
      "Beste Note: ['jan', 'rima'] mit 1.0\n",
      "Schlechtste Note: ['max'] mit 3.0\n"
     ]
    }
   ],
   "source": [
    "# Müsterlösung\n",
    "\n",
    "print('Notenverwaltungsprogramm')\n",
    "\n",
    "namen = []\n",
    "noten = []\n",
    "\n",
    "try:\n",
    "    anzahl_schueler = int(input('Wie viele Schueler gibt es?'))\n",
    "\n",
    "    for zaehler in range(0,anzahl_schueler):\n",
    "        name = input('Name von Schueler:')\n",
    "        note = float(input(f'Note von {name}: '))\n",
    "        namen.append(name)\n",
    "        noten.append(note)\n",
    "except ValueError:\n",
    "    print('Ungueltige eingabe.')\n",
    "    quit()\n",
    "\n",
    "beste_studenten = []\n",
    "schlechteste_studenten = []\n",
    "#indizes die mit 0 anfangen.\n",
    "#range(0,anzahl_schueler)\n",
    "#Weil die obere grenze von die methode range() ist exklusiv\n",
    "#bspw: anzahl_schueler = 6\n",
    "#range(0,6) => 0,1,2,3,4,5\n",
    "schlechteste_note = max(noten)\n",
    "beste_note = min(noten)\n",
    "for index in range(0,anzahl_schueler):\n",
    "    print(f'{namen[index]} -> {noten[index]}')\n",
    "    \n",
    "    if noten[index] == beste_note:\n",
    "        beste_studenten.append(namen[index])\n",
    "\n",
    "    if noten[index] == schlechteste_note:\n",
    "        schlechteste_studenten.append(namen[index])\n",
    "\n",
    "print('Durchschnittsnote: {0}'.format(sum(noten)/anzahl_schueler))\n",
    "print(f'Beste Note: {beste_studenten} mit {beste_note}')\n",
    "print(f'Schlechtste Note: {schlechteste_studenten} mit {schlechteste_note}')"
   ]
  },
  {
   "cell_type": "code",
   "execution_count": 83,
   "id": "f79512a6",
   "metadata": {},
   "outputs": [
    {
     "name": "stdout",
     "output_type": "stream",
     "text": [
      "Durchschnittsnote: 1.8\n"
     ]
    }
   ],
   "source": [
    "# durchschnittsberechnung\n",
    "print(f'Durchschnittsnote: {sum(noten)/anzahl_schueler:.1f}'.format())"
   ]
  },
  {
   "cell_type": "markdown",
   "id": "2c5e9d3f",
   "metadata": {},
   "source": [
    "# Aufgabe 2 Rollenspielchen: \n",
    "* In einigen Rollenspielen kämpfen die Figuren der Spieler*innen gegen nicht von Spieler*innen gesteuerte Figuren, die in der Regel die Monster oder Schurken sind. \n",
    "\n",
    "* Manchmal besteht ein Kampf darin, dass jede Figur mithilfe von Würfeln einen Zufallswert generiert, der dann vom Gesundheitswert des Gegners abgezogen wird.\n",
    "* Sobald die Gesundheit einer Figur null erreicht, stirbt die Figur, oder sie verliert das Spiel. \n",
    "* In dieser Aufgabe bringen wir diese Interaktion auf den Punkt. Ein Held und ein Monster beginnen mit dem gleichen Integritätspunktestand.\n",
    "*  Wenn die Heldin oder der Held am Zug ist, generiert sie bzw. er einen Zufallswert, der vom Gesundheitswert des Monsters *abgezogen wird.\n",
    "* Wenn der Gesundheitswert des Monsters größer als null ist, kommt es an die Reihe und greift den Helden bzw. die Heldin an.\n",
    "* Solange sowohl der Held bzw. die Heldin als auch das Monster über Gesundheitswerte größer als null verfügen, wird der Kampf fortgesetzt. \n",
    "\n",
    "\n",
    "Programmieraufgabe:\n",
    "* Schreiben von Code zum Implementieren der Spielregeln Hier sind die Regeln für das Kampfspiel, das Sie in Ihrem Codeprojekt implementieren sollen: \n",
    "1. Sie müssen die while-Anweisung als äußere Spielschleife verwenden. \n",
    "2. Der Held bzw. die Heldin und das Monster beginnen mit 10 Gesundheitspunkten. \n",
    "a. Eine variable held und monster erstellen, beide gleich 10. \n",
    "3. Alle Angriffe haben einen Wert zwischen 1 und 10. Diese sollen zuffaellig generiert werden.  \n",
    "a. randomint(1,10) \n",
    "4. Der Held bzw. die Heldin greift zuerst an."
   ]
  },
  {
   "cell_type": "code",
   "execution_count": 69,
   "id": "673b2bc4",
   "metadata": {},
   "outputs": [
    {
     "name": "stdout",
     "output_type": "stream",
     "text": [
      "Rollenspiel: Held gegen Monster\n",
      "================================\n",
      "Held greift an und macht 1 Schaden. Monster hat jetzt 9 Lebenspunkte.\n",
      "Monster greift an und macht 5 Schaden. Held hat jetzt 5 Lebenspunkte.\n",
      "Held greift an und macht 4 Schaden. Monster hat jetzt 5 Lebenspunkte.\n",
      "Monster greift an und macht 7 Schaden. Held hat jetzt 0 Lebenspunkte.\n",
      "Der Held wurde besiegt!\n",
      "Ende der Runde 1.\n",
      "================================\n"
     ]
    }
   ],
   "source": [
    "import random\n",
    "\n",
    "print(\"Rollenspiel: Held gegen Monster\")\n",
    "print(\"================================\")\n",
    "held = 10\n",
    "monster = 10\n",
    "runde = 1\n",
    "while held > 0 and monster > 0:\n",
    "    schaden = random.randint(1, 10)\n",
    "    monster -= schaden\n",
    "    print(f\"Held greift an und macht {schaden} Schaden. Monster hat jetzt {max(monster,0)} Lebenspunkte.\")\n",
    "\n",
    "    if monster <= 0:\n",
    "        print(\"Das Monster wurde besiegt!\")\n",
    "        break\n",
    "    schaden = random.randint(1, 10)\n",
    "    held -= schaden\n",
    "    print(f\"Monster greift an und macht {schaden} Schaden. Held hat jetzt {max(held,0)} Lebenspunkte.\")\n",
    "    if held <= 0:\n",
    "        print(\"Der Held wurde besiegt!\")\n",
    "        break\n",
    "print(f\"Ende der Runde {runde}.\")\n",
    "print(\"================================\")\n",
    "\n"
   ]
  },
  {
   "cell_type": "code",
   "execution_count": 82,
   "id": "3b66e900",
   "metadata": {},
   "outputs": [
    {
     "name": "stdout",
     "output_type": "stream",
     "text": [
      "Die Heldin greift an! Monster verliert 1 Integritaetspunkte und hat nur 9 uebrig.\n",
      "Die Monster greift an! Heldin verliert 3 Integritaetspunkte und hat nur 7 uebrig.\n",
      "Die Heldin greift an! Monster verliert 1 Integritaetspunkte und hat nur 8 uebrig.\n",
      "Die Monster greift an! Heldin verliert 7 Integritaetspunkte und hat nur 0 uebrig.\n",
      "Sieger: Monster\n"
     ]
    }
   ],
   "source": [
    "# müsterlösung\n",
    "import random\n",
    "\n",
    "monster = 10\n",
    "heldin = 10\n",
    "\n",
    "while monster > 0 and heldin > 0:\n",
    "    angriff = random.randint(1,10)\n",
    "    monster -= angriff\n",
    "    print(f'Die Heldin greift an! Monster verliert {angriff} Integritaetspunkte und hat nur {monster} uebrig.')\n",
    "    if monster <= 0:\n",
    "        sieger = 'Heldin'\n",
    "        continue\n",
    "\n",
    "    angriff = random.randint(1,10)\n",
    "    heldin -= angriff\n",
    "    print(f'Die Monster greift an! Heldin verliert {angriff} Integritaetspunkte und hat nur {heldin} uebrig.')\n",
    "    if heldin <= 0:\n",
    "        sieger = 'Monster'\n",
    "        continue\n",
    "\n",
    "print('Sieger:',sieger)"
   ]
  },
  {
   "cell_type": "markdown",
   "id": "8280a091",
   "metadata": {},
   "source": [
    "# DICTIONARY\n",
    " Wir haben ein Kunden dictionary. In diesen Dictionary haben wir schon folgende Kunden:\n",
    " \n",
    "  Siemens:'081612727387', BMW:'081612727337', Volkswagen:'081612727221', Kistenpfennig:'081612727992'.\n",
    "\n",
    "1. Neuer Kunde hinzufuegen.\n",
    "2. Kunde anrufen. (Telefonnummer ausgeben)\n",
    "\n",
    "Dieser Menue moechten wir jetzt programmieren.\n",
    "Wenn der benutzer als Wahl eingabe die '1' eingibt => soll der benutzer aufgefordert werden einen neuen Kundennammen einzugeben und eine telefonnummer die in unser dictionary gespeichert werden sollen.\n",
    "\n",
    "Eingabe 2: Telefonnumer von ein bestimmten Kunden ausgeben. Der benutzer muss daher den Kunde selber waehlen."
   ]
  },
  {
   "cell_type": "code",
   "execution_count": null,
   "id": "93543f01",
   "metadata": {},
   "outputs": [],
   "source": [
    "kunden = {\n",
    "    'siemens':'081612727387',\n",
    "    'bmw':'081612727337',\n",
    "    'volkswagen':'081612727221',\n",
    "    'kistenpfennig':'081612727992'\n",
    "}\n",
    "\n",
    "print('Wilkommen zu unser Kunde software. Was kann ich fuer Sie tun?')\n",
    "\n",
    "while True:\n",
    "    print('1. Neuer Kunde hinzufuegen.\\n2. Kunde anrufen.\\n3. Kunde liste sehen\\n4. Kunde loeschen\\n5. Programm beenden')\n",
    "    eingabe = input()\n",
    "\n",
    "    match eingabe:\n",
    "        case '1':\n",
    "            print('Sie moechten ein neuen Kunde erstellen.')\n",
    "            neuer_kunde_name = input('Geben Sie bitte den Namen vom Kunde ein:').lower()\n",
    "            if neuer_kunde_name not in kunden:\n",
    "                neuer_kunde_nummer = input('Geben Sie die Nummer von diesen Kunde bitte ein:')\n",
    "                kunden[neuer_kunde_name] = neuer_kunde_nummer\n",
    "                print('Kunde erfolgreich gespeichert.')\n",
    "            else:\n",
    "                print('Dieser Kunde ist schon vorhanden.')\n",
    "        case '2':\n",
    "            print('Sie moechten die Telefonnummer von ein Kunde einsehen.')\n",
    "            kunde = input('Geben Sie bitte den Namen vom Kunde ein:').lower()\n",
    "            if kunde in kunden:\n",
    "                print('Kundentelefonnummer:',kunden[kunde])\n",
    "            else:\n",
    "                print('Dieser Kunde ist nicht vorhanden.')\n",
    "        case '3':\n",
    "            print('Hier sind alle Kunden und Telefonnummern.')\n",
    "            for key, value in kunden.items():\n",
    "                print(f\"Kunde: {key} - Telefonnummer: {value}\")\n",
    "        case '4':\n",
    "            print('Sie moechten ein Kunde loeschen.')\n",
    "            kunde = input('Geben Sie bitte den Namen vom Kunde ein:').lower()\n",
    "            if kunde in kunden:\n",
    "                kunden.pop(kunde)\n",
    "                print(f'{kunde} erfolgreich entfernt.')\n",
    "            else:\n",
    "                print('Dieser Kunde ist nicht vorhanden.')\n",
    "        case '5':\n",
    "            break\n",
    "        case _:\n",
    "            print('Option ungueltig. Nur zahlen 1,2,3,4 oder 5.')\n",
    "    input()"
   ]
  },
  {
   "cell_type": "markdown",
   "id": "1f82b1c2",
   "metadata": {},
   "source": [
    "# Aufgabe Einkaufsliste mit Preisen: \n",
    "\n",
    "Erstelle ein Dictionary mit einigen Produkten und ihren Preisen (z. B. \"Apfel\": 0.5, \"Banane\": \n",
    "0.8, \"Milch\": 1.2). \n",
    "\n",
    "* Lasse den Benutzer nacheinander Produkte eingeben, die er kaufen möchte. \n",
    "* Wenn das Produkt existiert, addiere den Preis zum Gesamtkostenbetrag. \n",
    "* Wenn das Produkt nicht existiert, gib eine Meldung aus. \n",
    "* Der Benutzer kann mit \"Ende\" die Eingabe beenden. \n",
    "* Gib am Ende die Gesamtkosten aus. \n",
    "\n",
    "Beispiel ausfuehrung: \n",
    "\n",
    "* Produkt eingeben (oder 'Ende' zum Beenden): Apfel \n",
    "* Produkt eingeben (oder 'Ende' zum Beenden): Milch \n",
    "* Produkt eingeben (oder 'Ende' zum Beenden): Schokolade \n",
    "* Schokolade ist nicht im Sortiment. \n",
    "* Produkt eingeben (oder 'Ende' zum Beenden): Ende \n",
    "* Gesamtkosten: 1.7 € "
   ]
  },
  {
   "cell_type": "code",
   "execution_count": 87,
   "id": "48871e4b",
   "metadata": {},
   "outputs": [
    {
     "name": "stdout",
     "output_type": "stream",
     "text": [
      "Einkaufsliste mit Preisen:\n",
      "==============================================\n",
      "Reis ist nicht im Sortiment.\n",
      "Banane hinzugefügt. Preis: 0.8 €\n",
      "Käse hinzugefügt. Preis: 2.0 €\n",
      "Brot hinzugefügt. Preis: 1.5 €\n",
      "Gesamtkosten: 4.30 €\n",
      "==============================================\n"
     ]
    }
   ],
   "source": [
    "print(\"Einkaufsliste mit Preisen:\")\n",
    "print('==============================================')\n",
    "produkte = {\n",
    "    \"Apfel\": 0.5,   \n",
    "    \"Banane\": 0.8,\n",
    "    \"Milch\": 1.2,\n",
    "    \"Brot\": 1.5,\n",
    "    \"Käse\": 2.0\n",
    "}\n",
    "gesamtkosten = 0.0\n",
    "while True:\n",
    "    produkt = input(\"Produkt eingeben (oder 'Ende' zum Beenden): \").capitalize()\n",
    "    \n",
    "    if produkt == 'Ende':\n",
    "        break\n",
    "    elif produkt in produkte:\n",
    "        gesamtkosten += produkte[produkt]\n",
    "        print(f\"{produkt} hinzugefügt. Preis: {produkte[produkt]} €\")\n",
    "    else:\n",
    "        print(f\"{produkt} ist nicht im Sortiment.\")\n",
    "print(f\"Gesamtkosten: {gesamtkosten:.2f} €\")\n",
    "\n",
    "print('==============================================')"
   ]
  },
  {
   "cell_type": "markdown",
   "id": "7fd38704",
   "metadata": {},
   "source": [
    "# Aufgabe Haeufigkeit der Buchstaben zaehlen \n",
    "\n",
    "* Lasse den Benutzer einen Text eingeben. \n",
    "* Zähle mit einem Dictionary, wie oft jeder Buchstabe vorkommt (Groß- undKleinschreibung ignorieren).\n",
    "* Hinweis: Jeder buchstabe den wir einlesen durch eine schleife kann zu ein dictionary hinzugefuegt werden mit den wert: anzahl."
   ]
  },
  {
   "cell_type": "code",
   "execution_count": 91,
   "id": "d81d07a4",
   "metadata": {},
   "outputs": [
    {
     "name": "stdout",
     "output_type": "stream",
     "text": [
      "Häufigkeit der Buchstaben zählen:\n",
      "==============================================\n",
      "\n",
      "Dein Satz:\n",
      "guten morgen!\n",
      "Häufigkeit der Buchstaben:\n",
      "g-> 2\n",
      "u-> 1\n",
      "t-> 1\n",
      "e-> 2\n",
      "n-> 2\n",
      "m-> 1\n",
      "o-> 1\n",
      "r-> 1\n",
      "==============================================\n"
     ]
    }
   ],
   "source": [
    "print(\"Häufigkeit der Buchstaben zählen:\")\n",
    "print('==============================================')\n",
    "text = input(\"Geben Sie einen Text ein: \").lower()\n",
    "print(\"\\nDein Satz:\")\n",
    "print(text)\n",
    "buchstaben_haeufigkeit = {}\n",
    "for buchstabe in text:\n",
    "    if buchstabe.isalpha(): \n",
    "        if buchstabe in buchstaben_haeufigkeit:\n",
    "            buchstaben_haeufigkeit[buchstabe] += 1\n",
    "        else:\n",
    "            buchstaben_haeufigkeit[buchstabe] = 1\n",
    "print(\"Häufigkeit der Buchstaben:\")\n",
    "for buchstabe, haeufigkeit in buchstaben_haeufigkeit.items():\n",
    "    print(f\"{buchstabe}-> {haeufigkeit}\")\n",
    "print('==============================================')\n"
   ]
  },
  {
   "cell_type": "markdown",
   "id": "d5943f2d",
   "metadata": {},
   "source": [
    "# Aufgabe Blachjack\n",
    "Schreibe ein C#-Programm, das eine vereinfachte Version des Kartenspiels Blackjack\n",
    "simuliert. \n",
    "Spielregeln\n",
    "• Der Spieler und der Dealer erhalten jeweils zwei zufällige Karten mit folgenden \n",
    "Werten: \n",
    "o Zahlenkarten (2-10) haben ihren jeweiligen Wert.\n",
    "o Bildkarten (Bube, Dame, König) zählen als 10.\n",
    "o Ein Ass zählt immer als 11.\n",
    "• Der Spieler sieht beide eigenen Karten und eine der Karten des Dealers.\n",
    "• Der Spieler kann entscheiden: \n",
    "o \"Hit\" (eine weitere Karte ziehen) oder\n",
    "o \"Stand\" (keine weitere Karte ziehen).\n",
    "• Falls der Spieler mehr als 21 Punkte erreicht, verliert er sofort.\n",
    "• Der Dealer zieht automatisch eine weitere Karte, falls seine Punktzahl unter 17 liegt.\n",
    "• Danach wird verglichen: \n",
    "o Falls der Spieler über 21 Punkte hat, verliert er.\n",
    "o Falls der Dealer über 21 Punkte hat oder der Spieler mehr Punkte als der \n",
    "Dealer hat, gewinnt der Spieler.\n",
    "o Falls der Dealer mehr Punkte hat, gewinnt der Dealer.\n",
    "o Falls beide gleich viele Punkte haben, gibt es ein Unentschieden.\n",
    "Hinweise zur Umsetzung\n",
    "• Verwende die Klasse Random, um die Kartenwerte zufällig zu generieren.\n",
    "• Nutze Console.WriteLine(), um die Kartenwerte und Spielerentscheidungen \n",
    "auszugeben.\n",
    "• Lies die Entscheidung des Spielers mit Console.ReadLine() ein.\n",
    "• Verwende if-Bedingungen, um die Spielregeln umzusetzen.\n",
    "Beispielausgabe\n",
    "Du hast: 8 und 10 (Gesamt: 18) \n",
    "Der Dealer zeigt: 7 (eine Karte ist verdeckt) \n",
    "Möchtest du eine weitere Karte ziehen? (h/s): h \n",
    "Du hast eine 3 gezogen. Dein neuer Gesamtwert: 21 \n",
    "Der Dealer zieht eine 5. Der Dealer hat jetzt 12. \n",
    "Dein Gesamtwert: 21, Dealer Gesamtwert: 12\n",
    "Gewonnen"
   ]
  },
  {
   "cell_type": "code",
   "execution_count": null,
   "id": "72c43aca",
   "metadata": {},
   "outputs": [],
   "source": [
    "import random\n",
    "\n",
    "spielstappel = [2,3,4,5,6,7,8,9,10,'bube','dame','koenig','ass']*4\n",
    "\n",
    "karten_werte = {\n",
    "    'bube' : 10,\n",
    "    'dame' : 10,\n",
    "    'koenig' : 10,\n",
    "    'ass' : 11\n",
    "}\n",
    "\n",
    "spieler_karten = [random.choice(spielstappel), random.choice(spielstappel)]\n",
    "dealer_karten = [random.choice(spielstappel), random.choice(spielstappel)]\n",
    "\n",
    "print('Meine Karten sind: ',spieler_karten)\n",
    "print('Dealer Karte:',dealer_karten[0])\n",
    "\n",
    "\n",
    "#Spieler Schleife\n",
    "while True:\n",
    "    eingabe = input('Moechten Sie ein \"Hit\" oder \"Stand\"?')\n",
    "    if eingabe == \"Hit\":\n",
    "        print('Sie haben Hit ausgewaehlt.')\n",
    "        spieler_karten.append(random.choice(spielstappel))\n",
    "        print(spieler_karten)\n",
    "    elif eingabe == \"Stand\":\n",
    "        print('Sie haben Stand ausgewaehlt.')\n",
    "        break\n",
    "    else:\n",
    "        print('Das haben wir nicht verstanden. Bitte nur Hit oder Stand eingeben!')\n",
    "        continue\n",
    "\n",
    "spieler_punkte = 0\n",
    "for spieler_karte in spieler_karten:\n",
    "    if type(spieler_karte) == str:\n",
    "        spieler_punkte += karten_werte[spieler_karte]\n",
    "    else:\n",
    "        spieler_punkte += spieler_karte\n",
    "\n",
    "if spieler_punkte>21:\n",
    "    print('Sie haben verloren.')\n",
    "else:\n",
    "    dealer_punkte = 0\n",
    "    for dealer_karte in dealer_karten:\n",
    "        if type(dealer_karte) == str:\n",
    "            dealer_punkte += karten_werte[dealer_karte]\n",
    "        else:\n",
    "            dealer_punkte += dealer_karte\n",
    "\n",
    "    print(\"Dealer Karten:\",dealer_karten)\n",
    "\n",
    "    #Dealer Schleife\n",
    "    while dealer_punkte<spieler_punkte:\n",
    "        neue_karte = random.choice(spielstappel)\n",
    "        dealer_karten.append(neue_karte)\n",
    "        print(\"Dealer Karten:\",dealer_karten)\n",
    "        if type(neue_karte) == str:\n",
    "            dealer_punkte += karten_werte[neue_karte]\n",
    "        else:\n",
    "            dealer_punkte += neue_karte\n",
    "\n",
    "    if dealer_punkte>21 or spieler_punkte>dealer_punkte:\n",
    "        print('Der Dealer hat verloren! Wir haben gewonnen!')\n",
    "    elif dealer_punkte==spieler_punkte:\n",
    "        print('Unentschieden!')\n",
    "    else:\n",
    "        print('Der Dealer hat gewonnen...')"
   ]
  },
  {
   "cell_type": "markdown",
   "id": "94997bd1",
   "metadata": {},
   "source": [
    "# Aufgabe 1: \n",
    "* Finde eure Loesung zu die Einkaufliste Aufgabe. \n",
    "\n",
    "* Konvertiere es in eine Methode.\n"
   ]
  },
  {
   "cell_type": "code",
   "execution_count": null,
   "id": "e9cdba68",
   "metadata": {},
   "outputs": [],
   "source": [
    "# Einkaufsliste Aufgabe\n",
    "print(\"Einkaufsliste mit Preisen:\")\n",
    "print('==============================================')\n",
    "produkte = {\n",
    "    \"Apfel\": 0.5,   \n",
    "    \"Banane\": 0.8,\n",
    "    \"Milch\": 1.2,\n",
    "    \"Brot\": 1.5,\n",
    "    \"Käse\": 2.0\n",
    "}\n",
    "gesamtkosten = 0.0\n",
    "while True:\n",
    "    produkt = input(\"Produkt eingeben (oder 'Ende' zum Beenden): \").capitalize()\n",
    "    \n",
    "    if produkt == 'Ende':\n",
    "        break\n",
    "    elif produkt in produkte:\n",
    "        gesamtkosten += produkte[produkt]\n",
    "        print(f\"{produkt} hinzugefügt. Preis: {produkte[produkt]} €\")\n",
    "    else:\n",
    "        print(f\"{produkt} ist nicht im Sortiment.\")\n",
    "print(f\"Gesamtkosten: {gesamtkosten:.2f} €\")\n",
    "\n",
    "print('==============================================')"
   ]
  },
  {
   "cell_type": "code",
   "execution_count": 13,
   "id": "a32c98e4",
   "metadata": {},
   "outputs": [],
   "source": [
    "def einkaufsliste_erstellen():\n",
    "    \"\"\"\n",
    "    Diese Funktion erstellt eine Einkaufsliste, die vom Benutzer befuellt werden muss.\n",
    "\n",
    "    Returns:\n",
    "        list: Eine Liste mit produkte.\n",
    "\n",
    "    Raises:\n",
    "        KeyboardInterruptError: Benutzer hat esc taste gedrueckt statt quit einzutippen.\n",
    "    \"\"\"\n",
    "\n",
    "    einkaufliste = []\n",
    "    eingabe = ''\n",
    "\n",
    "    while eingabe != 'quit':\n",
    "        eingabe = input('Was moechten Sie einkaufen? (quit zum beenden) ')\n",
    "        if eingabe != 'quit':\n",
    "            einkaufliste.append(eingabe)\n",
    "\n",
    "    print('Ihre Einkaufsliste: ', einkaufliste)\n",
    "    return einkaufliste"
   ]
  },
  {
   "cell_type": "code",
   "execution_count": 14,
   "id": "e3810da2",
   "metadata": {},
   "outputs": [
    {
     "name": "stdout",
     "output_type": "stream",
     "text": [
      "Ihre Einkaufsliste:  ['Milch', 'Eier', 'Apfel', 'Ende']\n"
     ]
    },
    {
     "data": {
      "text/plain": [
       "['Milch', 'Eier', 'Apfel', 'Ende']"
      ]
     },
     "execution_count": 14,
     "metadata": {},
     "output_type": "execute_result"
    }
   ],
   "source": [
    "einkaufsliste_erstellen()"
   ]
  },
  {
   "cell_type": "code",
   "execution_count": 15,
   "id": "2e240fd5",
   "metadata": {},
   "outputs": [],
   "source": [
    "def einkaufsliste_gesamtkosten_berechnen(einkaufsliste):\n",
    "    \"\"\"\n",
    "    Wir vergleichen die Produkte in der einkaufsliste mit die Produkte die in unser Supermarkt vorhanden sind.\n",
    "    Falls diese vorhanden sind, dann erhoehen wir den zu zahlenden Betrag.\n",
    "\n",
    "    Args:\n",
    "        einkaufsliste (str): Sind alle gewuenschte produkte.\n",
    "\n",
    "    Returns:\n",
    "        float: Die gesamtkosten.\n",
    "    \"\"\"\n",
    "\n",
    "    \n",
    "    produkte = {\n",
    "        \"Banane\" : 1.15,\n",
    "        \"Apfel\" : 0.85,\n",
    "        \"Brott\" : 1.80,\n",
    "        'Milch' : 1.10,\n",
    "        \"Eier\" : 3.40,\n",
    "        'Pasta' : 2.80,\n",
    "        'Schnitzel' : 1.60\n",
    "    }\n",
    "\n",
    "    gesamtkosten = 0\n",
    "\n",
    "    for produkt in einkaufsliste:\n",
    "        if produkt in produkte:\n",
    "            gesamtkosten += produkte[produkt]\n",
    "            print('Produkt:',produkt)\n",
    "            print(\"Preis:\",produkte[produkt])\n",
    "        else:\n",
    "            print(f'Dieses Produkt: {produkt} wird nicht in diesen Supermarkt verkauft.')\n",
    "\n",
    "    print('Deine Einkaufsliste kostet insgesamt:', gesamtkosten)\n",
    "    return gesamtkosten\n",
    " "
   ]
  },
  {
   "cell_type": "code",
   "execution_count": 19,
   "id": "aff07009",
   "metadata": {},
   "outputs": [
    {
     "name": "stdout",
     "output_type": "stream",
     "text": [
      "Ihre Einkaufsliste:  ['Milch', 'Pasta', 'Milch']\n",
      "Produkt: Milch\n",
      "Preis: 1.1\n",
      "Produkt: Pasta\n",
      "Preis: 2.8\n",
      "Produkt: Milch\n",
      "Preis: 1.1\n",
      "Deine Einkaufsliste kostet insgesamt: 5.0\n"
     ]
    },
    {
     "data": {
      "text/plain": [
       "5.0"
      ]
     },
     "execution_count": 19,
     "metadata": {},
     "output_type": "execute_result"
    }
   ],
   "source": [
    "einkaufsliste_gesamtkosten_berechnen(einkaufsliste_erstellen())"
   ]
  },
  {
   "cell_type": "markdown",
   "id": "123e4ae6",
   "metadata": {},
   "source": [
    "# Aufgabe 1: *\n",
    "Gegeben beliebig viele Vornamen, geben wir alle Werte in unterschiedliche Zeilen auf die Konsole aus."
   ]
  },
  {
   "cell_type": "code",
   "execution_count": 22,
   "id": "35ff84b8",
   "metadata": {},
   "outputs": [],
   "source": [
    "def vorname_ausgeben(*vornamen):\n",
    "    \"\"\"\n",
    "    Diese Methode gibt alle Vornamen in unterschiedliche Zeilen aus.\n",
    "\n",
    "    Args:\n",
    "        *vornamen (str): Beliebig viele Vornamen.\n",
    "    \"\"\"\n",
    "\n",
    "    for wert in vornamen:\n",
    "        print(wert)\n",
    "        \n",
    "    vorname_ausgeben('Max','Moritz','Anna','Julia','Tom')"
   ]
  },
  {
   "cell_type": "markdown",
   "id": "19f13588",
   "metadata": {},
   "source": [
    "# Aufgabe 2 Warenkorbrechner:\n",
    "Wir duerfen beliebig viele produkt in unser Warenkorb abspeichern.\n",
    "Wir moechten den gesamtbetrag berechnen. Hier ist auch wichtig wir haben auf alle produkt eine standard Mehrwertsteuer von 19%.\n",
    "Wenn ich aus der Schweiz komme, dann zahle ich bspw nur 10%."
   ]
  },
  {
   "cell_type": "code",
   "execution_count": 34,
   "id": "63847916",
   "metadata": {},
   "outputs": [
    {
     "name": "stdout",
     "output_type": "stream",
     "text": [
      "\n",
      "Warenkorb\n",
      "Apfel: 0.50 €\n",
      "Milch: 1.20 €\n",
      "Brot: 1.80 €\n",
      "Mehrwertsteuer: 19%\n",
      "Gesamtbetrag inkl. MwSt: 4.16 €\n",
      "==============================================================\n",
      "Einkauf in der Schweiz:\n",
      "\n",
      "Warenkorb\n",
      "Käse: 3.50 €\n",
      "Wein: 10.00 €\n",
      "Mehrwertsteuer: 10%\n",
      "Gesamtbetrag inkl. MwSt: 14.85 €\n"
     ]
    }
   ],
   "source": [
    "\n",
    "def gesamtkosten(*produkte, mehrwertsteuer=19):\n",
    "    \"\"\"\n",
    "    Berechnet die Gesamtkosten plus Mehrwertsteuer.\n",
    "\n",
    "    *produkte: beliebig Produktname und Preis als Tupel\n",
    "    mehrwertsteuer: Standard 19%, für Schweiz z.B. 10%\n",
    "    \"\"\"\n",
    "    gesamt = 0\n",
    "    print(\"\\nWarenkorb\")\n",
    "    for name, preis in produkte:\n",
    "        print(f\"{name}: {preis:.2f} €\")\n",
    "        gesamt += preis + (preis * mehrwertsteuer / 100)\n",
    "\n",
    "    print(f\"Mehrwertsteuer: {mehrwertsteuer}%\")\n",
    "    print(f\"Gesamtbetrag inkl. MwSt: {gesamt:.2f} €\")\n",
    "    return gesamt\n",
    "\n",
    "\n",
    "gesamtbetrag = gesamtkosten(\n",
    "    (\"Apfel\", 0.5),\n",
    "    (\"Milch\", 1.2),\n",
    "    (\"Brot\", 1.8)\n",
    ")\n",
    "print(\"==============================================================\")\n",
    "\n",
    "print(\"Einkauf in der Schweiz:\")\n",
    "gesamtbetrag_schweiz = gesamtkosten(\n",
    "    (\"Käse\", 3.5),\n",
    "    (\"Wein\", 10.0),\n",
    "    mehrwertsteuer=10\n",
    ")\n"
   ]
  },
  {
   "cell_type": "code",
   "execution_count": 35,
   "id": "1851406d",
   "metadata": {},
   "outputs": [
    {
     "data": {
      "text/plain": [
       "555.73"
      ]
     },
     "execution_count": 35,
     "metadata": {},
     "output_type": "execute_result"
    }
   ],
   "source": [
    "# müsterlösung\n",
    "def warenkorbrechner(*args, mwst=19):\n",
    "    summe = 0\n",
    "    for produkt_preis in args:\n",
    "        summe += produkt_preis\n",
    "\n",
    "    # steuer_betrag = summe * (mwst/100)\n",
    "\n",
    "    # gesamtbetrag = summe + steuer_betrag\n",
    "    \n",
    "    mwst_multiplikator = 1+(mwst/100)\n",
    "\n",
    "    gesamtbetrag = summe * mwst_multiplikator\n",
    "\n",
    "    return gesamtbetrag\n",
    "\n",
    "warenkorbrechner(43,45,32,65,76,32,3,5,56,87,23)"
   ]
  },
  {
   "cell_type": "code",
   "execution_count": 36,
   "id": "d19d80a5",
   "metadata": {},
   "outputs": [
    {
     "name": "stdout",
     "output_type": "stream",
     "text": [
      "Produkt: laptop mit preis: 1200\n",
      "Aktuelle Summe: 1200\n",
      "Produkt: tisch mit preis: 150\n",
      "Aktuelle Summe: 1350\n",
      "Produkt: bilschirm mit preis: 300\n",
      "Aktuelle Summe: 1650\n",
      "Produkt: maus mit preis: 15\n",
      "Aktuelle Summe: 1665\n",
      "Produkt: tastatur mit preis: 20\n",
      "Aktuelle Summe: 1685\n",
      "Gesamtbetrag nach Steuern: 1853.5000000000002\n"
     ]
    },
    {
     "data": {
      "text/plain": [
       "1853.5000000000002"
      ]
     },
     "execution_count": 36,
     "metadata": {},
     "output_type": "execute_result"
    }
   ],
   "source": [
    "# müsterlösung \n",
    "def warenkorbrechner_produkte(mwst=19,**kwargs):\n",
    "    summe = 0\n",
    "    for key,value in kwargs.items():\n",
    "        print(f\"Produkt: {key} mit preis: {value}\")\n",
    "        summe += value\n",
    "        print(\"Aktuelle Summe:\",summe)\n",
    "\n",
    "    # steuer_betrag = summe * (mwst/100)\n",
    "\n",
    "    # gesamtbetrag = summe + steuer_betrag\n",
    "    \n",
    "    mwst_multiplikator = 1 + (mwst/100)\n",
    "\n",
    "    gesamtbetrag = summe * mwst_multiplikator\n",
    "\n",
    "    print(\"Gesamtbetrag nach Steuern:\",gesamtbetrag)\n",
    "    return gesamtbetrag\n",
    "\n",
    "warenkorbrechner_produkte(mwst=10,laptop=1200,tisch=150,bilschirm=300,maus=15,tastatur=20)"
   ]
  },
  {
   "cell_type": "markdown",
   "id": "500c170f",
   "metadata": {},
   "source": [
    "# Aufgabe3 : Temperatur-Umrechner\n",
    "\n",
    "Szenario:\n",
    "\n",
    "Du sollst eine Funktion schreiben, die Temperaturen von Celsius in Fahrenheit oder Kelvin umwandeln kann.\n",
    "\n",
    "Aufgabe: Temperatur Umrechner\n",
    "\n",
    "Schreibe eine Funktion:\n",
    "\n",
    "def convert_temperature(value, to=\"fahrenheit\"):\n",
    "    \"\"\"\n",
    "    Wandelt eine Temperatur von Celsius in Fahrenheit oder Kelvin um.\n",
    "    \"\"\"\n",
    "\n",
    "Anforderungen\n",
    "\n",
    "1. Der Parameter value ist die Temperatur in Celsius (float oder int).\n",
    "\n",
    "2. Der Parameter to hat einen Standardwert \"fahrenheit\".\n",
    " * Wenn to=\"fahrenheit\": rechne Celsius → Fahrenheit (Formel: F = C * 9/5 + 32)\n",
    " * Wenn to=\"kelvin\": rechne Celsius → Kelvin (Formel: K = C + 273.15)\n",
    " * Wenn ein anderer Wert übergeben wird, gib \"Ungültige Einheit\" zurück.\n",
    "\n",
    "3. Die Funktion soll das Ergebnis zurückgeben."
   ]
  },
  {
   "cell_type": "code",
   "execution_count": 38,
   "id": "bf4cd9d0",
   "metadata": {},
   "outputs": [],
   "source": [
    "def convert_temperature(value, to=\"fahrenheit\"):\n",
    "    \"\"\"\n",
    "    wandelt eine Temperatur von Celsius in Fahrenheit kelvin um.\n",
    "    \"\"\"\n",
    "    if to == \"fahrenheit\":\n",
    "        return (value * 9/5) + 32\n",
    "    elif to == \"kelvin\":\n",
    "        temp = value + 273.15\n",
    "    else:\n",
    "        print(\"Ungueltige Einheit\")\n",
    "        return\n",
    "    return temp\n",
    "\n",
    "    print(convert_temperature(55,to='kelvin'))"
   ]
  },
  {
   "cell_type": "markdown",
   "id": "8923941d",
   "metadata": {},
   "source": [
    "# Aufgabe: Zahlen in Römische Zahlen umwandeln\n",
    "Schreibe erstmal pseudocode, dann Struktogramm erstellen vom pseudocode, dann in programmcode umsetzten.\n",
    "\n",
    "Schreibe eine Funktion, die normale Zahlen in **Römische Zahlen**\n",
    "umwandelt.\n",
    "\n",
    "Die Römer waren ein kluges Volk. Sie erfanden Beton, gerade Straßen und sogar Bikinis.\\\n",
    "Eine Sache, die sie jedoch nie entdeckten, war die Zahl **Null**. Das machte es etwas schwieriger, lange Chroniken zu schreiben und zu datieren. Dennoch wird das von ihnen entwickelte Zahlensystem bis heute verwendet. Zum Beispiel nutzt die BBC römische Zahlen, um ihre Programme zu datieren.\n",
    "\n",
    "Die Römer schrieben Zahlen mit den Buchstaben:\n",
    "\n",
    "-   **I, V, X, L, C, D, M**\n",
    "\n",
    "Beispiele:\n",
    "\n",
    "     1  => I\n",
    "    10  => X\n",
    "     7  => VII\n",
    "\n",
    "Die größte Zahl, die mit diesem System dargestellt wird, ist **3.999**.\n",
    "\n",
    "Laut Wikipedia schreibt man moderne römische Zahlen, indem man jede\n",
    "Ziffer einzeln von links nach rechts ausdrückt und Nullen dabei\n",
    "überspringt.\n",
    "\n",
    "Beispiele:\n",
    "\n",
    "-   **1990** in römischen Zahlen = **MCMXC**\\\n",
    "    (1000 = M, 900 = CM, 90 = XC)\n",
    "\n",
    "-   **2008** in römischen Zahlen = **MMVIII**\\\n",
    "    (2000 = MM, 8 = VIII)\n",
    "\n",
    "    ## Deine Aufgabe\n",
    "\n",
    "Schreibe in **Python** eine Funktion `to_roman(n: int) -> str`, die eine\n",
    "Zahl `n` (1 ≤ n ≤ 3999) in eine römische Zahl umwandelt.\n",
    "\n",
    "Beispielaufrufe:\n",
    "\n",
    "``` python\n",
    "print(to_roman(1))     # I\n",
    "print(to_roman(7))     # VII\n",
    "print(to_roman(1990))  # MCMXC\n",
    "print(to_roman(2008))  # MMVIII\n",
    "```"
   ]
  },
  {
   "cell_type": "markdown",
   "id": "aa155473",
   "metadata": {},
   "source": [
    "# Aufgabe: Erstelle eine Klasse Bankkonto mit alle fuer euch sinnvolle eigenschaften.\n",
    "\n",
    "Ueberlege euch welche eigenschaft sollten hartcodiert werden und welche soll beim erstellen des Kontos eingegeben werden.\n",
    "\n",
    "Dann details methode schreiben, wo alle informationen ausgegeben werden."
   ]
  },
  {
   "cell_type": "code",
   "execution_count": 57,
   "id": "01820815",
   "metadata": {},
   "outputs": [
    {
     "name": "stdout",
     "output_type": "stream",
     "text": [
      "Kontostand:\n",
      "---------------------------\n",
      "Bank: Volksbank\n",
      "Inhaber: Maryam Rostami\n",
      "Kontonummer: DE123456789\n",
      "Kontostand: 1000 EUR\n",
      "---------------------------\n"
     ]
    }
   ],
   "source": [
    "class Bankkonto:\n",
    "    \n",
    "    bankname = \"Volksbank\"\n",
    "    waehrung = \"EUR\"\n",
    "\n",
    "    def __init__(self, kontoinhaber, kontonummer, anfangsbestand=0):\n",
    "        \n",
    "        self.kontoinhaber = kontoinhaber\n",
    "        self.kontonummer = kontonummer\n",
    "        self.kontostand = anfangsbestand\n",
    "\n",
    "    def details(self):\n",
    "        print(\"Kontostand:\")\n",
    "        print(\"---------------------------\")\n",
    "        print(f\"Bank: {Bankkonto.bankname}\")\n",
    "        print(f\"Inhaber: {self.kontoinhaber}\")\n",
    "        print(f\"Kontonummer: {self.kontonummer}\")\n",
    "        print(f\"Kontostand: {self.kontostand} {Bankkonto.waehrung}\")\n",
    "        print(\"---------------------------\")\n",
    "\n",
    "konto1 = Bankkonto(\"Maryam Rostami\", \"DE123456789\", 1000)\n",
    "konto1.details()\n"
   ]
  },
  {
   "cell_type": "code",
   "execution_count": null,
   "id": "4c112de9",
   "metadata": {},
   "outputs": [],
   "source": [
    "\n",
    "# müsterlösung\n",
    "class Bankkonto:\n",
    "    def __init__(self, kontoinhaber, adresse, startguthaben=0):\n",
    "        self.kontoinhaber = kontoinhaber\n",
    "        self.adresse = adresse\n",
    "        self.kontostand = startguthaben\n",
    "        self.bank = 'Deutsche Bank'\n",
    "        self.region = 'Bayern'\n",
    "        self.kontonummer = 'DE12346789012'\n",
    "\n",
    "    def details(self):\n",
    "        print('Konto Details')\n",
    "        print('=======================================')\n",
    "        print(f'Kontoinhaber: {self.kontoinhaber}\\nAdresse: {self.adresse}')\n",
    "        print(f'Bank: {self.bank}\\nRegion: {self.region}')\n",
    "        print(f'Kontonummer: {self.kontonummer}\\nKontostand: {self.kontostand}')\n",
    "        print('=======================================')\n"
   ]
  },
  {
   "cell_type": "markdown",
   "id": "f15a33d6",
   "metadata": {},
   "source": [
    "# Aufgabe 1: Auto klasse erstellen.\n",
    "\n",
    "* Hier muessen wir selber eigenschaften im Konstruktor definieren. \n",
    "* Stellt fest, dass die eigenschaft aktuelle_geschwindigkeit auch existiert.\n",
    "* Andere notwendige attribute: geparkt und angeschaltet. \n",
    "\n",
    "1. Schneller fahren duerfen wir nur, wenn das auto nicht geparkt ist und angeschaltet ist.\n",
    "2. schneller_fahren(grenze) => Diese Methode soll die aktuelle geschwindigkeit erhoehen jeweils um 5 und dieser Wert soll immer ausgegeben werden auf die konsole. Es soll die geschwindigkeit bis zu eine grenze erhoehen.\n",
    "3. bremsen(grenze) => Diese Methode soll die aktuelle geschwindigkeit verringern jeweils um 5 und dieser Wert soll immer ausgegeben werden auf die konsole. Es soll die geschwindigkeit bis zu eine grenze verringern. Wichtig: Darf nicht unter 0.\n",
    "4. Hinweis: Eine funktion jeweils schreiben fuer anschalten und parken."
   ]
  },
  {
   "cell_type": "code",
   "execution_count": null,
   "id": "6a759a44",
   "metadata": {},
   "outputs": [],
   "source": [
    "class Auto:\n",
    "    def __init__(self,farbe,model):\n",
    "        self.farbe = farbe\n",
    "        self.model = model\n",
    "        self.geparkt = True\n",
    "        self.ausgeschaltet = True\n",
    "        self.aktuelle_geschwindigkeit = 0"
   ]
  },
  {
   "cell_type": "code",
   "execution_count": null,
   "id": "8653b002",
   "metadata": {},
   "outputs": [],
   "source": [
    "class Auto:\n",
    "    def __init__(self,farbe,model):\n",
    "        self.farbe = farbe\n",
    "        self.model = model\n",
    "        self.notbremse_aktiv = True\n",
    "        self.ausgeschaltet = True\n",
    "        self.aktuelle_geschwindigkeit = 0"
   ]
  },
  {
   "cell_type": "code",
   "execution_count": 66,
   "id": "f679edf5",
   "metadata": {},
   "outputs": [],
   "source": [
    "# 1. Schneller fahren duerfen wir nur, wenn das auto nicht geparkt ist und angeschaltet ist.\n",
    "\n",
    "class Auto:\n",
    "    def __init__(self,farbe,model):\n",
    "        self.farbe = farbe\n",
    "        self.model = model\n",
    "        self.notbremse_aktiv = True\n",
    "        self.ausgeschaltet = True\n",
    "        self.aktuelle_geschwindigkeit = 0\n",
    "\n",
    "    def notbremse_deaktivieren(self):\n",
    "        self.notbremse_aktiv = False\n",
    "    def notbremse_aktivieren(self):\n",
    "        self.notbremse_aktiv = True"
   ]
  },
  {
   "cell_type": "code",
   "execution_count": null,
   "id": "3ef971a5",
   "metadata": {},
   "outputs": [],
   "source": [
    "class Auto:\n",
    "    def __init__(self, farbe, model):\n",
    "        self.farbe = farbe\n",
    "        self.model = model\n",
    "        self.geparkt = True\n",
    "        self.ausgeschaltet = True\n",
    "        self.aktuelle_geschwindigkeit = 0\n",
    "        self.notbremse_aktiv = True\n",
    "\n",
    "    # Notbremse Methoden\n",
    "    def notbremse_deaktivieren(self):\n",
    "        self.notbremse_aktiv = False\n",
    "\n",
    "    def notbremse_aktivieren(self):\n",
    "        self.notbremse_aktiv = True\n",
    "\n",
    "    # Auto anschalten\n",
    "    def anschalten(self):\n",
    "        if self.ausgeschaltet:\n",
    "            self.ausgeschaltet = False\n",
    "            print(f\"{self.model} ist jetzt angeschaltet.\")\n",
    "        else:\n",
    "            print(f\"{self.model} ist bereits an.\")\n",
    "\n",
    "    # Auto parken\n",
    "    def parken(self):\n",
    "        if self.aktuelle_geschwindigkeit == 0:\n",
    "            self.geparkt = True\n",
    "            print(f\"{self.model} ist jetzt geparkt.\")\n",
    "        else:\n",
    "            print(\"Zum Parken muss die Geschwindigkeit 0 sein!\")\n",
    "\n",
    "    # Geschwindigkeit erhöhen\n",
    "    def schneller_fahren(self, grenze):\n",
    "        if self.ausgeschaltet:\n",
    "            print(\"Das Auto ist ausgeschaltet! Bitte zuerst anschalten.\")\n",
    "            return\n",
    "        if self.geparkt:\n",
    "            print(\"Das Auto ist geparkt! Bitte zuerst losfahren.\")\n",
    "            return\n",
    "\n",
    "        while self.aktuelle_geschwindigkeit < grenze:\n",
    "            self.aktuelle_geschwindigkeit += 5\n",
    "            print(f\"Aktuelle Geschwindigkeit: {self.aktuelle_geschwindigkeit} km/h\")\n",
    "\n",
    "    # Geschwindigkeit verringern\n",
    "    def bremsen(self, grenze):\n",
    "        if grenze < 0:\n",
    "            grenze = 0  # darf nicht unter 0\n",
    "        while self.aktuelle_geschwindigkeit > grenze:\n",
    "            self.aktuelle_geschwindigkeit -= 5\n",
    "            if self.aktuelle_geschwindigkeit < 0:\n",
    "                self.aktuelle_geschwindigkeit = 0\n",
    "            print(f\"Aktuelle Geschwindigkeit: {self.aktuelle_geschwindigkeit} km/h\")\n"
   ]
  },
  {
   "cell_type": "markdown",
   "id": "99ea7a95",
   "metadata": {},
   "source": []
  },
  {
   "cell_type": "markdown",
   "id": "87505d4c",
   "metadata": {},
   "source": [
    "## Bank Menue aufgabe:\n",
    "* Start Menue definieren: Hier darf der Benutzer einen Kunden werden, sich einloggen oder das Bank System beenden.\n",
    "  * Kunde anlegen: Nach anlegen wird der Kunde automatisch schon eingelogt. D.h. Zum naechsten Menue weitergeleitet.\n",
    "  * Einloggen: anhand von vorname, nachname, adresse Kunde suchen. Wenn gefunden zum naechsten Menue weiterleiten. Ansonsten Wieder zum Start Menue zurueck.\n",
    "  * System beenden.\n",
    "* Nach Start Menue, haben wir ein Kunden Menue. Hier darf der Kunde seine persoenliche Daten ausgeben lassen oder auch einen Konto erstellen.\n",
    "  * Details ausgeben\n",
    "  * Bankkonto erstellen\n",
    "  * Zurueck zum Start Menue.\n",
    "* Nachdem ein Konto erstellt wird, dann kommt einen Konto Menue wo der Benutzer auswaehlen darf ob er einzahlen, auszahlen, ueberweisung, kontoauszug oder kontodetails sehen will.\n",
    "  * einzahlen\n",
    "  * auszahlen\n",
    "  * ueberweisung\n",
    "  * kontoauszug\n",
    "  * kontodetails\n",
    "  * Zurueck zum Kunde Menue\n",
    "  * Wenn eine operation vorbei ist, dann kehren wir zurueck zu unser Konto Menue. Von hier duerfen wir weitere optionen auswaehlen."
   ]
  },
  {
   "cell_type": "code",
   "execution_count": null,
   "id": "b9794f50",
   "metadata": {},
   "outputs": [],
   "source": [
    "# Kunde_Klase\n",
    "class Kunde:\n",
    "    def __init__(self, vorname, nachname, adresse, telefonnummer, email, alter):\n",
    "        # Speichert alle persönlichen Daten des Kunden\n",
    "        self.vorname = vorname\n",
    "        self.nachname = nachname\n",
    "        self.adresse = adresse\n",
    "        self.telefonnummer = telefonnummer\n",
    "        self.email = email\n",
    "        self.alter = alter\n",
    "        # Jeder Kunde kann mehrere Konten haben\n",
    "        self.konten = []\n"
   ]
  },
  {
   "cell_type": "markdown",
   "id": "defc1abd",
   "metadata": {},
   "source": [
    "Erklärung:\n",
    "\n",
    "Ich brauche eine Klasse Kunde, um alle Informationen eines Kunden zu speichern.\n",
    "\n",
    "Jedes Kundenobjekt hat seinen Namen, Adresse, Telefonnummer, Email, Alter und eine Liste von Konten."
   ]
  },
  {
   "cell_type": "code",
   "execution_count": null,
   "id": "621da06d",
   "metadata": {},
   "outputs": [],
   "source": [
    "#Schritt 2: Konto-Klasse\n",
    "class Konto:\n",
    "    def __init__(self, kontonummer, besitzer):\n",
    "        # Kontonummer und Besitzer werden beim Erstellen angegeben\n",
    "        self.kontonummer = kontonummer\n",
    "        self.besitzer = besitzer\n",
    "        self.kontostand = 0\n",
    "        # Transaktionen speichern jede Ein- oder Auszahlung\n",
    "        self.transaktionen = []\n"
   ]
  },
  {
   "cell_type": "code",
   "execution_count": null,
   "id": "2921dda8",
   "metadata": {},
   "outputs": [],
   "source": [
    "Erklärung:\n",
    "\n",
    "Jedes Konto hat eine Kontonummer, einen Besitzer (ein Kunde) und einen Kontostand.\n",
    "\n",
    "Die Liste transaktionen wird verwendet, um spätere Kontoauszüge anzuzeigen."
   ]
  },
  {
   "cell_type": "code",
   "execution_count": null,
   "id": "c97d18fc",
   "metadata": {},
   "outputs": [],
   "source": [
    "class Bank:\n",
    "    def __init__(self, name, hauptstandort, region, land):\n",
    "        self.name = name\n",
    "        self.hauptstandort = hauptstandort\n",
    "        self.region = region\n",
    "        self.land = land\n",
    "        # Liste aller Kunden in der Bank\n",
    "        self.kunden = []\n",
    "        # Liste aller Konten\n",
    "        self.kontos = []\n"
   ]
  },
  {
   "cell_type": "markdown",
   "id": "e74156b6",
   "metadata": {},
   "source": [
    "Erklärung:\n",
    "\n",
    "Bank ist die Hauptklasse, die alles verwaltet.\n",
    "\n",
    "Ich speichere die Bankdaten, alle Kunden und alle Konten."
   ]
  },
  {
   "cell_type": "code",
   "execution_count": null,
   "id": "6ea0dcb7",
   "metadata": {},
   "outputs": [],
   "source": [
    "# Schritt 4: Prüfen, ob Kunde existiert\n",
    "    def kunde_schon_existiert(self, vorname, nachname, adresse):\n",
    "        for kunde in self.kunden:\n",
    "            if kunde.vorname == vorname and kunde.nachname == nachname and kunde.adresse == adresse:\n",
    "                return (True, kunde)\n",
    "        return (False, None)\n"
   ]
  },
  {
   "cell_type": "markdown",
   "id": "7a2531d4",
   "metadata": {},
   "source": [
    "Erklärung:\n",
    "\n",
    "Bevor wir einen Kunden erstellen, prüfe ich, ob er schon existiert.\n",
    "\n",
    "Ich gebe ein Tupel zurück: (True/False, Kunde), damit ich später den Kunden direkt verwenden kann."
   ]
  },
  {
   "cell_type": "code",
   "execution_count": null,
   "id": "522c88e9",
   "metadata": {},
   "outputs": [],
   "source": [
    "# Schritt 5: Kunden erstellen\n",
    "\n",
    "    def kunde_erstellen(self, vorname, nachname, adresse, telefonnummer, email, alter):\n",
    "        exists, _ = self.kunde_schon_existiert(vorname, nachname, adresse)\n",
    "        if not exists:\n",
    "            neuer_kunde = Kunde(vorname, nachname, adresse, telefonnummer, email, alter)\n",
    "            self.kunden.append(neuer_kunde)\n",
    "            print(\"Kunde erfolgreich erstellt.\")\n",
    "            return neuer_kunde\n",
    "        else:\n",
    "            print(\"Kunde existiert schon.\")\n",
    "            return None\n"
   ]
  },
  {
   "cell_type": "markdown",
   "id": "cb1c4deb",
   "metadata": {},
   "source": [
    "Erklärung:\n",
    "\n",
    "Ich erstelle nur einen Kunden, wenn er noch nicht existiert.\n",
    "\n",
    "Ich speichere den Kunden in der Liste self.kunden.\n",
    "\n",
    "Rückgabe: das Kundenobjekt, damit wir es später direkt verwenden können."
   ]
  },
  {
   "cell_type": "code",
   "execution_count": null,
   "id": "215b3e0c",
   "metadata": {},
   "outputs": [],
   "source": [
    "   # Schritt 6: Start-Menü\n",
    "    def start_menu(self):\n",
    "        while True:\n",
    "            print(\"\\n--- Start Menü ---\")\n",
    "            print(\"1. Neuer Kunde werden\")\n",
    "            print(\"2. Einloggen\")\n",
    "            print(\"3. System beenden\")\n",
    "            auswahl = input(\"Bitte wählen Sie (1-3): \")\n",
    "\n",
    "            if auswahl == \"1\":\n",
    "                self.kunde_anlegen()\n",
    "            elif auswahl == \"2\":\n",
    "                self.kunde_einloggen()\n",
    "            elif auswahl == \"3\":\n",
    "                print(\"System beendet.\")\n",
    "                exit()\n",
    "            else:\n",
    "                print(\"Ungültige Eingabe. Bitte erneut versuchen.\")\n"
   ]
  },
  {
   "cell_type": "markdown",
   "id": "a0f5680c",
   "metadata": {},
   "source": [
    "Erklärung:\n",
    "\n",
    "Das Hauptmenü für die Bank.\n",
    "\n",
    "while True sorgt dafür, dass das Menü immer wieder angezeigt wird, bis der Benutzer das Programm beendet."
   ]
  },
  {
   "cell_type": "code",
   "execution_count": null,
   "id": "730f9a84",
   "metadata": {},
   "outputs": [],
   "source": [
    "    # Schritt 7: Kunden anlegen\n",
    "    def kunde_anlegen(self):\n",
    "        print(\"\\n=== Neuen Kunden anlegen ===\")\n",
    "        vorname = input(\"Vorname: \")\n",
    "        nachname = input(\"Nachname: \")\n",
    "        adresse = input(\"Adresse: \")\n",
    "        email = input(\"Email: \")\n",
    "        telefonnummer = input(\"Telefonnummer: \")\n",
    "        alter = input(\"Alter: \")\n",
    "\n",
    "        kunde = self.kunde_erstellen(vorname, nachname, adresse, telefonnummer, email, alter)\n",
    "        if kunde:\n",
    "            print(f\"Kunde {kunde.vorname} {kunde.nachname} wurde erfolgreich angelegt!\")\n",
    "            self.kunden_menue(kunde)\n",
    "        else:\n",
    "            print(\"Kunde konnte nicht angelegt werden.\")\n"
   ]
  },
  {
   "cell_type": "markdown",
   "id": "4d2059ce",
   "metadata": {},
   "source": [
    "Erklärung:\n",
    "\n",
    "Ich frage alle persönlichen Daten ab.\n",
    "\n",
    "Danach rufe ich kunde_erstellen auf.\n",
    "\n",
    "Bei Erfolg leite ich den Kunden direkt ins Kunden-Menü weiter."
   ]
  },
  {
   "cell_type": "code",
   "execution_count": null,
   "id": "64446c8a",
   "metadata": {},
   "outputs": [],
   "source": [
    "    # Schritt 8: Kunden-Menü\n",
    "    def kunden_menue(self, kunde):\n",
    "        while True:\n",
    "            print(f\"\\n=== Kunden-Menü für {kunde.vorname} {kunde.nachname} ===\")\n",
    "            print(\"1. Persönliche Details anzeigen\")\n",
    "            print(\"2. Konto erstellen\")\n",
    "            print(\"3. Zurück zum Start-Menü\")\n",
    "            auswahl = input(\"Bitte wählen (1-3): \")\n",
    "\n",
    "            if auswahl == \"1\":\n",
    "                print(f\"Name: {kunde.vorname} {kunde.nachname}\")\n",
    "                print(f\"Adresse: {kunde.adresse}\")\n",
    "                print(f\"Telefon: {kunde.telefonnummer}\")\n",
    "                print(f\"Email: {kunde.email}\")\n",
    "                print(f\"Alter: {kunde.alter}\")\n",
    "            elif auswahl == \"2\":\n",
    "                kontonummer = len(self.kontos) + 1\n",
    "                konto = Konto(kontonummer, kunde)\n",
    "                kunde.konten.append(konto)\n",
    "                self.kontos.append(konto)\n",
    "                print(f\"Konto {konto.kontonummer} erstellt!\")\n",
    "                self.konto_menue(konto)\n",
    "            elif auswahl == \"3\":\n",
    "                break\n",
    "            else:\n",
    "                print(\"Ungültige Eingabe.\")\n",
    "\n"
   ]
  },
  {
   "cell_type": "markdown",
   "id": "a57809cb",
   "metadata": {},
   "source": [
    "Erklärung:\n",
    "\n",
    "Hier kann der Kunde Details sehen oder ein Konto erstellen.\n",
    "\n",
    "Nach der Erstellung eines Kontos geht der Benutzer direkt ins Konto-Menü."
   ]
  },
  {
   "cell_type": "code",
   "execution_count": null,
   "id": "c3e5958e",
   "metadata": {},
   "outputs": [],
   "source": [
    "# Schritt 9: Konto-Menü\n",
    "    def konto_menue(self, konto):\n",
    "        while True:\n",
    "            print(f\"\\n=== Konto-Menü für {konto.besitzer.vorname} {konto.besitzer.nachname} ===\")\n",
    "            print(f\"Konto: {konto.kontonummer}, Stand: {konto.kontostand} €\")\n",
    "            print(\"1. Einzahlen\")\n",
    "            print(\"2. Auszahlen\")\n",
    "            print(\"3. Kontoauszug\")\n",
    "            print(\"4. Kontodetails\")\n",
    "            print(\"5. Zurück zum Kunden-Menü\")\n",
    "            auswahl = input(\"Bitte wählen (1-5): \")\n",
    "\n",
    "            if auswahl == \"1\":\n",
    "                betrag = float(input(\"Betrag einzahlen: \"))\n",
    "                konto.kontostand += betrag\n",
    "                konto.transaktionen.append(f\"Einzahlung: +{betrag} €\")\n",
    "            elif auswahl == \"2\":\n",
    "                betrag = float(input(\"Betrag auszahlen: \"))\n",
    "                if konto.kontostand >= betrag:\n",
    "                    konto.kontostand -= betrag\n",
    "                    konto.transaktionen.append(f\"Auszahlung: -{betrag} €\")\n",
    "                else:\n",
    "                    print(\"Nicht genug Guthaben.\")\n",
    "            elif auswahl == \"3\":\n",
    "                for t in konto.transaktionen:\n",
    "                    print(t)\n",
    "            elif auswahl == \"4\":\n",
    "                print(f\"Konto: {konto.kontonummer}, Stand: {konto.kontostand} €\")\n",
    "            elif auswahl == \"5\":\n",
    "                break\n",
    "            else:\n",
    "                print(\"Ungültige Eingabe.\")\n"
   ]
  },
  {
   "cell_type": "markdown",
   "id": "d1dcf91e",
   "metadata": {},
   "source": [
    "\n",
    "Erklärung:\n",
    "\n",
    "Alle Kontofunktionen werden hier durchgeführt: Einzahlen, Auszahlen, Kontoauszug.\n",
    "\n",
    "Schleife sorgt dafür, dass der Kunde mehrere Aktionen durchführen kann, ohne zurück ins Kunden-Menü zu gehen."
   ]
  },
  {
   "cell_type": "code",
   "execution_count": null,
   "id": "19e597c8",
   "metadata": {},
   "outputs": [],
   "source": [
    "# Schritt 10: Programm starten\n",
    "meine_bank = Bank(\"MeineBank\", \"Berlin\", \"Berlin\", \"Deutschland\")\n",
    "meine_bank.start_menu()\n"
   ]
  },
  {
   "cell_type": "markdown",
   "id": "aa86fbe8",
   "metadata": {},
   "source": [
    "Erklärung:\n",
    "\n",
    "Ich erstelle ein Bank-Objekt.\n",
    "\n",
    "Dann starte ich das Programm mit start_menu()."
   ]
  }
 ],
 "metadata": {
  "kernelspec": {
   "display_name": "Python 3",
   "language": "python",
   "name": "python3"
  },
  "language_info": {
   "codemirror_mode": {
    "name": "ipython",
    "version": 3
   },
   "file_extension": ".py",
   "mimetype": "text/x-python",
   "name": "python",
   "nbconvert_exporter": "python",
   "pygments_lexer": "ipython3",
   "version": "3.13.5"
  }
 },
 "nbformat": 4,
 "nbformat_minor": 5
}
