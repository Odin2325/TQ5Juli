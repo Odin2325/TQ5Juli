{
 "cells": [
  {
   "cell_type": "code",
   "execution_count": 12,
   "id": "941bb3d3",
   "metadata": {},
   "outputs": [
    {
     "name": "stdout",
     "output_type": "stream",
     "text": [
      "Das Jahr  1999  ist kein Schaltjahr\n"
     ]
    }
   ],
   "source": [
    "Jahr = 1999\n",
    "\n",
    "\n",
    "if (Jahr % 4 == 0 and Jahr % 100 != 0) or (Jahr % 400 == 0):\n",
    "    print(\"Das Jahr \", Jahr,\" ist ein Schaltjahr\")\n",
    "\n",
    "else:\n",
    "    print(\"Das Jahr \", Jahr,\" ist kein Schaltjahr\")"
   ]
  },
  {
   "cell_type": "code",
   "execution_count": null,
   "id": "650207db",
   "metadata": {},
   "outputs": [],
   "source": []
  }
 ],
 "metadata": {
  "kernelspec": {
   "display_name": "Python 3",
   "language": "python",
   "name": "python3"
  },
  "language_info": {
   "codemirror_mode": {
    "name": "ipython",
    "version": 3
   },
   "file_extension": ".py",
   "mimetype": "text/x-python",
   "name": "python",
   "nbconvert_exporter": "python",
   "pygments_lexer": "ipython3",
   "version": "3.11.9"
  }
 },
 "nbformat": 4,
 "nbformat_minor": 5
}
