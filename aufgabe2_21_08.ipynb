{
 "cells": [
  {
   "cell_type": "markdown",
   "id": "80b7ab14",
   "metadata": {},
   "source": [
    "Wir haben ein Kunden dictionary. In diesen Dictionary haben wir schon folgende Kunden: Siemens:'081612727387', BMW:'081612727337', Volkswagen:'081612727221', Kistenpfennig:'081612727992'.\n",
    "\n",
    "1. Neuer Kunde hinzufuegen.\n",
    "2. Kunde anrufen. (Telefonnummer ausgeben)\n",
    "\n",
    "Dieser Menue moechten wir jetzt programmieren.\n",
    "Wenn der benutzer als Wahl eingabe die '1' eingibt => soll der benutzer aufgefordert werden einen neuen Kundennammen einzugeben und eine telefonnummer die in unser dictionary gespeichert werden sollen.\n",
    "\n",
    "Eingabe 2: Telefonnumer von ein bestimmten Kunden ausgeben. Der benutzer muss daher den Kunde selber waehlen.\n",
    "\n",
    "\n",
    "Alle andere eingabe: ausgeben ungueltige eingabe."
   ]
  },
  {
   "cell_type": "code",
   "execution_count": 1,
   "id": "98b2e861",
   "metadata": {},
   "outputs": [
    {
     "name": "stdout",
     "output_type": "stream",
     "text": [
      "Auswahlmenü\n",
      "1: Neuen Kunden hinzufügen\n",
      "Kunde anrufen (Telefonnummer ausgeben)\n",
      "Kunde '' mit der Nummer hinzugefügt \n"
     ]
    }
   ],
   "source": [
    "kunden = {\n",
    "    \"Siemens\": \"081612727387\",\n",
    "    \"BMW\": \"081612727337\",\n",
    "    \"Volkswagen\": \"081612727221\",\n",
    "    \"Kistenpfennig\": \"081612727992\"\n",
    "}\n",
    "\n",
    "print(\"Auswahlmenü\")\n",
    "print(\"1: Neuen Kunden hinzufügen\")\n",
    "print(\"Kunde anrufen (Telefonnummer ausgeben)\")\n",
    "\n",
    "wahl = input(\"Bitte treffen Sie Ihre Wahl\")\n",
    "\n",
    "if wahl == \"1\":\n",
    "    name = input(\"Bitte Namen eingeben\")\n",
    "    nummer = input(\"Bitte Telefonnumer eingeben\")\n",
    "    kunden[name] = nummer\n",
    "    print(f\"Kunde '{name}' mit der Nummer{nummer} hinzugefügt \")\n",
    "\n",
    "elif wahl == \"2\":\n",
    "    name = input(\"Bitte Namen eingeben: \")\n",
    "    if name in kunden:\n",
    "        print(f\"Die Telefonnummer von {name} ist: {kunden[name]}\")  # gibt passendes schlüsselpaar aus\n",
    "    else:\n",
    "        print(\"Kunde nicht gefunden.\")\n",
    "\n",
    "    \n",
    "else:\n",
    "    print(\"Ungültige Eingabe!\")\n",
    "\n"
   ]
  }
 ],
 "metadata": {
  "kernelspec": {
   "display_name": "Python 3",
   "language": "python",
   "name": "python3"
  },
  "language_info": {
   "codemirror_mode": {
    "name": "ipython",
    "version": 3
   },
   "file_extension": ".py",
   "mimetype": "text/x-python",
   "name": "python",
   "nbconvert_exporter": "python",
   "pygments_lexer": "ipython3",
   "version": "3.13.5"
  }
 },
 "nbformat": 4,
 "nbformat_minor": 5
}
