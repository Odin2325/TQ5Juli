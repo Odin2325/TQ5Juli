{
 "cells": [
  {
   "cell_type": "markdown",
   "id": "675fff6e",
   "metadata": {},
   "source": [
    "## Bank Menü Aufgabe"
   ]
  },
  {
   "cell_type": "code",
   "execution_count": 13,
   "id": "a8b91b38",
   "metadata": {},
   "outputs": [],
   "source": [
    "# Startmenü Grundlagen\n",
    "\n",
    "from __future__ import annotations                                                     # damit Typennotationen wie \"List[Transaction]\" funktionieren.\n",
    "from dataclasses import dataclass, field                                               # für die transactions-Liste\n",
    "from typing import List, Dict, Optional, Tuple                                         # für besser lesbaren Code\n",
    "from datetime import datetime                                                          # hinterlässt Zeitstempel bei den Transaktionen\n",
    "import itertools                                                                       # automatischer Zähler für Kontonummer und Kundennummer\n",
    "\n",
    "@dataclass\n",
    "class Transaction:\n",
    "    timestamp: datetime\n",
    "    type: str                                                                          # \"Einzahlung\", \"Auszahlung, \"Überweisung\"\n",
    "    amount: float\n",
    "    description: str\n",
    "    balance_after: float\n",
    "\n",
    "@dataclass\n",
    "class Customer:\n",
    "    id: int\n",
    "    vorname: str\n",
    "    nachname: str\n",
    "    adresse: str\n",
    "\n",
    "@dataclass\n",
    "class Account:\n",
    "   account_number: int\n",
    "   owner_id: int\n",
    "   balance: float\n",
    "   transactions: List[Transaction] = field(default_factory=list)\n",
    "\n",
    "   def add_transaction(self, type_: str, amount: float, description: str = \"\") -> None:\n",
    "      self.balance = round(self.balance, 2)\n",
    "      t = Transaction(\n",
    "         timestamp=datetime.now(),\n",
    "         type=type_,\n",
    "         amount=round(amount, 2),\n",
    "         description=description,\n",
    "         balance_after=round(self.balance, 2),\n",
    "      )\n",
    "      self.transactions.append(t)\n",
    "\n",
    "def prompt_choice(prompt: str, options: Dict[str, str]) -> str:\n",
    "    while True:\n",
    "        print(\"\\n\" + prompt)\n",
    "        for k, desc in options.items():\n",
    "            print(f\" [{k}] {desc}\")\n",
    "        choice = input(\"> \").strip().lower()\n",
    "        if choice in options:\n",
    "            return choice\n",
    "        print(\"Ungültige Eingabe. Bitte erneut versuchen.\")\n",
    "\n",
    "def prompt_float(prompt: str, min_value: Optional[float] = None) -> float:\n",
    "    while True:\n",
    "        raw = input(prompt).strip().replace(\",\", \".\")\n",
    "        try:\n",
    "            value = float(raw)\n",
    "            if min_value is not None and value < min_value:\n",
    "                print(f\"Wert muss >= {min_value} sein.\")\n",
    "                continue\n",
    "            return round(value, 2)\n",
    "        except ValueError:\n",
    "            print(\"Bitte gültige Zahl eingeben.\")\n",
    "\n",
    "def prompt_nonempty(prompt: str)-> str:\n",
    "    while True:\n",
    "        s = input(prompt).strip()\n",
    "        if s:\n",
    "            return s\n",
    "        print(\"Eingabe darf nicht leer sein.\")"
   ]
  },
  {
   "cell_type": "code",
   "execution_count": 14,
   "id": "7f12b48d",
   "metadata": {},
   "outputs": [],
   "source": [
    "# Banksystem für Kunden- & Kontoverwaltung\n",
    "\n",
    "import itertools                                                                       # für automatische Zähler\n",
    "from typing import Dict, Optional, List\n",
    "\n",
    "class BankSystem:\n",
    "    def __init__(self):\n",
    "        self._customer_id_counter = itertools.count(1)                                 # Zähler für Kundennummer\n",
    "        self._account_no_counter = itertools.count(100001)                             # Zähler für Kontonummer    \n",
    "        self.customers: Dict[int, Customer] = {}\n",
    "        self.accounts: Dict[int, Account] = {}\n",
    "        self.customer_index: Dict[tuple[str, str, str,], int] = {}                     # Index für den Login (Vorname, Nachname, Adresse) -> customer_id\n",
    "\n",
    "    # Kunden anlegen\n",
    "    def create_customer(self, vorname: str, nachname: str, adresse: str) -> Customer:\n",
    "        key = (vorname.strip().lower(), nachname.strip().lower(), adresse.strip().lower())\n",
    "        if key in self.customer_index:\n",
    "            cid = self.customer_index[key]\n",
    "            return self.customers[cid]\n",
    "        cid = next(self._customer_id_counter)\n",
    "        customer = Customer(id=cid, vorname=vorname.strip(), nachname=nachname.strip(), adresse=adresse.strip())\n",
    "        self.customers[cid] = customer\n",
    "        self.customer_index[key] = cid\n",
    "        return customer\n",
    "    \n",
    "    # Login-Vorgang\n",
    "    def find_customer(self, vorname: str, nachname: str, adresse: str) -> Optional[Customer]:\n",
    "        key = (vorname.strip().lower(), nachname.strip().lower(), adresse.strip().lower())\n",
    "        cid = self.customer_index.get(key)\n",
    "        return self.customers.get(cid) if cid else None\n",
    "    \n",
    "    # Anlegen eines Kundenkontos\n",
    "    def create_account(self, customer_id: int) -> Account:\n",
    "        acc_no = next(self._account_no_counter)\n",
    "        acc = Account(account_number=acc_no, owner_id=customer_id, balance=0.0)\n",
    "        self.accounts[acc_no] = acc\n",
    "        return acc\n",
    "\n",
    "    # gibt Liste aller Konten eines Kunden aus \n",
    "    def get_customer_accounts(self, customer_id: int) -> List[Account]:\n",
    "        return [a for a in self.accounts.values() if a.owner_id == customer_id]\n",
    "    \n",
    "    # Findet Konto anhand von Kontonummer\n",
    "    def get_account(self, account_number: int) -> Optional[Account]:\n",
    "        return self.accounts.get(account_number)"
   ]
  },
  {
   "cell_type": "code",
   "execution_count": 15,
   "id": "4645ce7a",
   "metadata": {},
   "outputs": [],
   "source": [
    "# Kundenmenü\n",
    "\n",
    "def customer_menu(customer: Customer, bank: BankSystem):\n",
    "    while True:\n",
    "        choice = prompt_choice(\n",
    "            f\" === KUNDEN-MENÜ (eingeloggt: {customer.vorname} {customer.nachname}) ===\",\n",
    "            {\n",
    "                \"1\": \"Details ausgeben\",\n",
    "                \"2\": \"Bankkonto eröffnen\",\n",
    "                \"3\": \"Zurück zum Start\"\n",
    "            }\n",
    "        )\n",
    "\n",
    "        if choice == \"1\":\n",
    "            print(f\"\\nKundendetails:\\n ID: {customer.id}\\n Name: {customer.vorname} {customer.nachname}\\n Adresse: {customer.adresse}\")\n",
    "            accounts = bank.get_customer_accounts(customer.id)\n",
    "            if accounts:\n",
    "                print(\"  Konten:\", \", \".join(str(a.account_number) for a in accounts))\n",
    "            else:\n",
    "                print(\"  Konten: (noch keine)\")\n",
    "\n",
    "        elif choice == \"2\":\n",
    "            accounts = bank.create_account(customer.id)\n",
    "            print(f\"\\nNeues Konto erstellt. Kontonummer: {accounts.account_number}\")\n",
    "\n",
    "        elif choice == \"3\":\n",
    "            print(\"\\nZurück zum Startmenü.\")\n",
    "            break"
   ]
  },
  {
   "cell_type": "code",
   "execution_count": 16,
   "id": "588dd2df",
   "metadata": {},
   "outputs": [],
   "source": [
    "# Kontomenü\n",
    "\n",
    "def account_menu(account: Account, bank: BankSystem):\n",
    "    while True:\n",
    "        choice = prompt_choice(\n",
    "            f\"=== KONTO-MENÜ (Konto {account.account_number}) ===\",\n",
    "            {\n",
    "                \"1\": \"Einzahlen\",\n",
    "                \"2\": \"Auszahlen\",\n",
    "                \"3\": \"Überweisung\",\n",
    "                \"4\": \"Kontoauszug\",\n",
    "                \"5\": \"Kontodetails\",\n",
    "                \"z\": \"Zurück zum Kundenmenü\"\n",
    "            }\n",
    "        )\n",
    "\n",
    "        if choice == \"1\":\n",
    "            amount = prompt_float(\"Betrag einzahlen: \", min_value=0.01)\n",
    "            account.balance += amount\n",
    "            account.add_transaction(\"Einzahlung\", amount, \"Einzahlung\")\n",
    "            print(f\"{amount} € eingezahlt. Neuer Kontostand: {account.balance} €\")\n",
    "\n",
    "        elif choice == \"2\":\n",
    "            amount = prompt_float(\"Betrag auszahlen: \", min_value=0.01)\n",
    "            if amount > account.balance:\n",
    "                print(\"Fehler: Nicht genügend Guthaben.\")\n",
    "            else:\n",
    "                account.balance -= amount\n",
    "                account.add_transaction(\"Auszahlung\", amount, \"Auszahlung\")\n",
    "                print(f\"{amount} € ausgezahlt. Neuer Kontostand: {account.balance} €\")\n",
    "\n",
    "        elif choice == \"3\":\n",
    "            target_no = int(prompt_nonempty(\"Empfängerkontonummer: \"))\n",
    "            target_account = bank.get_account(target_no)\n",
    "            if not target_account:\n",
    "                print(\"Fehler: Empfängerkonto nicht gefunden.\")\n",
    "                continue\n",
    "            amount = prompt_float(\"Betrag überweisen: \", min_value=0.01)\n",
    "            if amount > account.balance:\n",
    "                print(\"Fehler: Nicht genügend Guthaben.\")\n",
    "                continue\n",
    "            account.balance -= amount\n",
    "            account.add_transaction(\"Überweisung\", amount, f\"Überwiesen an {target_no}\")\n",
    "            target_account.balance += amount\n",
    "            target_account.add_transaction(\"Überweisung\", amount, f\"Überwiesen von {account.account_number}\")\n",
    "            print(f\"{amount} @ an Konto {target_no} überwiesen. Neuer Kontostand: {account.balance} €\")\n",
    "\n",
    "        elif choice == \"4\":\n",
    "            if not account.transactions:\n",
    "                print(\"Keine Transaktionen vorhanden.\")\n",
    "            else:\n",
    "                print(\"\\n--- Kontoauszug ---\")\n",
    "                for t in account.transactions:\n",
    "                    print(f\"{t.timestamp.strftime('%Y-%m-%d %H:%M:%S')} | {t.type} | {t.amount} € | {t.description} | Saldo: {t.balance_after} €\")\n",
    "                print(\"-------------------\")\n",
    "\n",
    "        elif choice == \"5\":\n",
    "            print(f\"\\nKontonummer: {account.account_number}\\nKontostand: {account.balance} €\\nBesitzer-ID: {account.owner_id}\")\n",
    "\n",
    "        elif choice == \"z\":\n",
    "            print(\"Zurück zum Kundenmenü.\")\n",
    "            break"
   ]
  },
  {
   "cell_type": "code",
   "execution_count": 17,
   "id": "119d0b60",
   "metadata": {},
   "outputs": [],
   "source": [
    "# Hauptprogramm\n",
    "\n",
    "def start_menu(bank: BankSystem):\n",
    "    while True:\n",
    "        choice = prompt_choice(\n",
    "            \"--- STARTMENÜ ---\",\n",
    "            {\n",
    "                \"1\": \"Kunde werden\",\n",
    "                \"2\": \"Einloggen\",\n",
    "                \"3\": \"System beenden\"\n",
    "            }\n",
    "        )\n",
    "\n",
    "        if choice == \"1\":\n",
    "            vorname = prompt_nonempty(\"Vorname: \")\n",
    "            nachname = prompt_nonempty(\"Nachname: \")\n",
    "            adresse = prompt_nonempty(\"Adresse: \")\n",
    "            kunde = bank.create_customer(vorname, nachname, adresse)\n",
    "            print(f\"\\nKunde {kunde.vorname} {kunde.nachname} angelegt und eingeloggt.\")\n",
    "            customer_menu(kunde, bank)\n",
    "        \n",
    "        elif choice == \"2\":\n",
    "            vorname = prompt_nonempty(\"Vorname: \")\n",
    "            nachname = prompt_nonempty(\"Nachname: \")\n",
    "            adresse = prompt_nonempty(\"Adresse: \")\n",
    "            kunde = bank.find_customer(vorname, nachname, adresse)\n",
    "            if kunde:\n",
    "                print(f\"\\nWillkommen zurück, {kunde.vorname} {kunde.nachname}!\")\n",
    "                customer_menu(kunde, bank)\n",
    "            else:\n",
    "                print(\"Kunde nicht gefunden. Bitte erneut versuchen.\")\n",
    "        \n",
    "        elif choice == \"3\":\n",
    "            print(\"System wird beendet.\")\n",
    "            break"
   ]
  },
  {
   "cell_type": "markdown",
   "id": "11c4a3c0",
   "metadata": {},
   "source": [
    "## Funktions-Tests"
   ]
  },
  {
   "cell_type": "code",
   "execution_count": 18,
   "id": "39b25f8c",
   "metadata": {},
   "outputs": [
    {
     "name": "stdout",
     "output_type": "stream",
     "text": [
      "Bank-System initialisiert.\n"
     ]
    }
   ],
   "source": [
    "# Bank System initialisieren\n",
    "\n",
    "bank = BankSystem()\n",
    "print(\"Bank-System initialisiert.\")"
   ]
  },
  {
   "cell_type": "code",
   "execution_count": 19,
   "id": "9920fded",
   "metadata": {},
   "outputs": [
    {
     "name": "stdout",
     "output_type": "stream",
     "text": [
      "Kunden angelegt:\n",
      "Customer(id=1, vorname='Clara', nachname='Test', adresse='Musterstraße 3')\n",
      "Customer(id=2, vorname='Max', nachname='Muster', adresse='Beispielweg 5')\n",
      "\n",
      "Aktueller Kunden-Index:\n",
      "{('clara', 'test', 'musterstraße 3'): 1, ('max', 'muster', 'beispielweg 5'): 2}\n"
     ]
    }
   ],
   "source": [
    "# Kunden anlegen\n",
    "\n",
    "kunde1 = bank.create_customer(\"Clara\", \"Test\", \"Musterstraße 3\")\n",
    "kunde2 = bank.create_customer(\"Max\", \"Muster\", \"Beispielweg 5\")\n",
    "\n",
    "print(\"Kunden angelegt:\")\n",
    "print(kunde1)\n",
    "print(kunde2)\n",
    "\n",
    "# Kunden-Index ausgeben\n",
    "print(\"\\nAktueller Kunden-Index:\")\n",
    "print(bank.customer_index)"
   ]
  },
  {
   "cell_type": "code",
   "execution_count": 20,
   "id": "95b2c7d3",
   "metadata": {},
   "outputs": [
    {
     "name": "stdout",
     "output_type": "stream",
     "text": [
      "Login-Ergebnisse:\n",
      "Clara: Customer(id=1, vorname='Clara', nachname='Test', adresse='Musterstraße 3')\n",
      "Max: Customer(id=2, vorname='Max', nachname='Muster', adresse='Beispielweg 5')\n",
      "Nicht vorhanden: None\n"
     ]
    }
   ],
   "source": [
    "# Kunden Login testen\n",
    "\n",
    "login1 = bank.find_customer(\"Clara\", \"Test\", \"Musterstraße 3\")\n",
    "login2 = bank.find_customer(\"Max\", \"Muster\", \"Beispielweg 5\")\n",
    "login3 = bank.find_customer(\"Nicht\", \"Existiert\", \"Keine Adresse\")\n",
    "\n",
    "print(\"Login-Ergebnisse:\")\n",
    "print(\"Clara:\", login1)\n",
    "print(\"Max:\", login2)\n",
    "print(\"Nicht vorhanden:\", login3)"
   ]
  },
  {
   "cell_type": "code",
   "execution_count": 21,
   "id": "a52551bd",
   "metadata": {},
   "outputs": [
    {
     "name": "stdout",
     "output_type": "stream",
     "text": [
      "Konto von Clara: 100001\n",
      "Konto von Max: 100002\n"
     ]
    }
   ],
   "source": [
    "# Konten erstellen\n",
    "\n",
    "konto1 = bank.create_account(kunde1.id)\n",
    "konto2 = bank.create_account(kunde2.id)\n",
    "\n",
    "print(f\"Konto von Clara: {konto1.account_number}\")\n",
    "print(f\"Konto von Max: {konto2.account_number}\")"
   ]
  },
  {
   "cell_type": "code",
   "execution_count": 22,
   "id": "0d03ce8b",
   "metadata": {},
   "outputs": [
    {
     "name": "stdout",
     "output_type": "stream",
     "text": [
      "Claras Kontostand: 500.0 €\n",
      "Max' Kontostand: 300.0 €\n",
      "Claras Kontostand nach Auszahlung: 400.0 €\n"
     ]
    }
   ],
   "source": [
    "# Einzahlen und Auszahlen testen\n",
    "\n",
    "konto1.balance += 500.0\n",
    "konto1.add_transaction(\"Einzahlung\", 500.0, \"Startguthaben\")\n",
    "konto2.balance += 300.0\n",
    "konto2.add_transaction(\"Einzahlung\", 300.0, \"Startguthaben\")\n",
    "\n",
    "print(f\"Claras Kontostand: {konto1.balance} €\")\n",
    "print(f\"Max' Kontostand: {konto2.balance} €\")\n",
    "\n",
    "\n",
    "\n",
    "betrag = 100\n",
    "if betrag <= konto1.balance:\n",
    "    konto1.balance -= betrag\n",
    "    konto1.add_transaction(\"Auszahlung\", betrag, \"Testauszahlung\")\n",
    "\n",
    "print(f\"Claras Kontostand nach Auszahlung: {konto1.balance} €\")"
   ]
  },
  {
   "cell_type": "code",
   "execution_count": 23,
   "id": "f1bb5a74",
   "metadata": {},
   "outputs": [
    {
     "name": "stdout",
     "output_type": "stream",
     "text": [
      "Claras Kontostand: 200.0 €\n",
      "Max Kontostand: 500.0 €\n"
     ]
    }
   ],
   "source": [
    "# Überweisung testen\n",
    "\n",
    "betrag = 200\n",
    "if betrag <= konto1.balance:\n",
    "    konto1.balance -= betrag\n",
    "    konto1.add_transaction(\"Überweisung\", betrag, f\"Überweisung an {konto2.account_number}\")\n",
    "\n",
    "    konto2.balance += betrag\n",
    "    konto2.add_transaction(\"Überweisung\", betrag, f\"Überweisung von {konto1.account_number}\")\n",
    "\n",
    "print(f\"Claras Kontostand: {konto1.balance} €\")\n",
    "print(f\"Max Kontostand: {konto2.balance} €\")"
   ]
  },
  {
   "cell_type": "code",
   "execution_count": 24,
   "id": "cbb09444",
   "metadata": {},
   "outputs": [
    {
     "name": "stdout",
     "output_type": "stream",
     "text": [
      "\n",
      "--- Kontoauszug Konto 100001 ---\n",
      "2025-09-02 14:22:59 | Einzahlung | 500.0 € | Startguthaben | Saldo: 500.0 €\n",
      "2025-09-02 14:22:59 | Auszahlung | 100 € | Testauszahlung | Saldo: 400.0 €\n",
      "2025-09-02 14:22:59 | Überweisung | 200 € | Überweisung an 100002 | Saldo: 200.0 €\n",
      "-------------------\n",
      "\n",
      "--- Kontoauszug Konto 100002 ---\n",
      "2025-09-02 14:22:59 | Einzahlung | 300.0 € | Startguthaben | Saldo: 300.0 €\n",
      "2025-09-02 14:22:59 | Überweisung | 200 € | Überweisung von 100001 | Saldo: 500.0 €\n",
      "-------------------\n"
     ]
    }
   ],
   "source": [
    "# Kontoauszug anzeigen\n",
    "\n",
    "def show_transactions(account: Account):\n",
    "    print(f\"\\n--- Kontoauszug Konto {account.account_number} ---\")\n",
    "    for t in account.transactions:\n",
    "        print(f\"{t.timestamp.strftime('%Y-%m-%d %H:%M:%S')} | {t.type} | {t.amount} € | {t.description} | Saldo: {t.balance_after} €\")\n",
    "    print(\"-------------------\")\n",
    "\n",
    "show_transactions(konto1)\n",
    "show_transactions(konto2)"
   ]
  }
 ],
 "metadata": {
  "kernelspec": {
   "display_name": "Python 3",
   "language": "python",
   "name": "python3"
  },
  "language_info": {
   "codemirror_mode": {
    "name": "ipython",
    "version": 3
   },
   "file_extension": ".py",
   "mimetype": "text/x-python",
   "name": "python",
   "nbconvert_exporter": "python",
   "pygments_lexer": "ipython3",
   "version": "3.13.5"
  }
 },
 "nbformat": 4,
 "nbformat_minor": 5
}
