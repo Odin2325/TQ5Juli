{
 "cells": [
  {
   "cell_type": "markdown",
   "id": "b9066c4f",
   "metadata": {},
   "source": [
    "# 🖥️ Python `subprocess` Modul Übungen (Systemadministrator Simulation)\n",
    "\n",
    "## Einfache Aufgaben\n",
    "\n",
    "  \n",
    "  "
   ]
  },
  {
   "cell_type": "markdown",
   "id": "f1f18211",
   "metadata": {},
   "source": [
    "### 1. Aktuelles Verzeichnis überprüfen\n",
    "- Schreibe ein Programm, dass das aktuelle Arbeitsverzeichnis ausgibt.  \n",
    "- Wechsle anschließend in ein Verzeichnis namens `logs` (erstelle es, falls es nicht existiert).  \n",
    "- Gib danach erneut das aktuelle Arbeitsverzeichnis aus, um die Änderung zu prüfen."
   ]
  },
  {
   "cell_type": "code",
   "execution_count": 1,
   "id": "3c8fc05f",
   "metadata": {},
   "outputs": [
    {
     "name": "stdout",
     "output_type": "stream",
     "text": [
      "Aktuelles Arbeitsverzeichnis: c:\\Users\\mytq\\Documents\\GitHub\\TQ5Juli\n",
      "Verzeichnis 'logs' wurde erstellt.\n",
      "Neues Arbeitsverzeichnis: c:\\Users\\mytq\\Documents\\GitHub\\TQ5Juli\\logs\n"
     ]
    }
   ],
   "source": [
    "import os\n",
    "\n",
    "# 1. Aktuelles Verzeichnis ausgeben\n",
    "print(\"Aktuelles Arbeitsverzeichnis:\", os.getcwd())\n",
    "\n",
    "# 2. Zielverzeichnis definieren\n",
    "logs_dir = \"logs\"\n",
    "\n",
    "# 3. Verzeichnis 'logs' erstellen, falls es nicht existiert\n",
    "if not os.path.exists(logs_dir):\n",
    "    os.mkdir(logs_dir)\n",
    "    print(f\"Verzeichnis '{logs_dir}' wurde erstellt.\")\n",
    "else:\n",
    "    print(f\"Verzeichnis '{logs_dir}' existiert bereits.\")\n",
    "\n",
    "# 4. In das 'logs'-Verzeichnis wechseln\n",
    "os.chdir(logs_dir)\n",
    "\n",
    "# 5. Neues Arbeitsverzeichnis ausgeben\n",
    "print(\"Neues Arbeitsverzeichnis:\", os.getcwd())\n",
    "\n",
    "\n",
    "import os\n",
    "with open(\"test1.txt\", \"w\") as f:\n",
    "    f.write(\"Hallo Welt\")\n",
    "\n",
    "os.mkdir(\"subfolder\") if not os.path.exists(\"subfolder\")else None\n"
   ]
  },
  {
   "cell_type": "markdown",
   "id": "54373062",
   "metadata": {},
   "source": [
    "### 2. Dateien und Ordner auflisten\n",
    "- Erstelle ein Skript, das alle Dateien und Verzeichnisse im aktuellen Ordner auflistet.  \n",
    "- Gib sie in zwei Gruppen aus: **Dateien** und **Ordner**."
   ]
  },
  {
   "cell_type": "code",
   "execution_count": 6,
   "id": "25eafa46",
   "metadata": {},
   "outputs": [
    {
     "name": "stdout",
     "output_type": "stream",
     "text": [
      "Arbeitsverzeichnis: c:\\Users\\mytq\\Documents\\GitHub\\TQ5Juli\\logs\\logs\\logs\n",
      "\n",
      " Ordner:\n",
      "  - subfolder\n",
      "\n",
      " Dateien:\n",
      "  - test1.txt\n"
     ]
    }
   ],
   "source": [
    "import os\n",
    "\n",
    "# Aktuelles Arbeitsverzeichnis\n",
    "current_dir = os.getcwd()\n",
    "print(\"Arbeitsverzeichnis:\", current_dir)\n",
    "\n",
    "# auflisten\n",
    "entries = os.listdir(current_dir)\n",
    "\n",
    "# Dateien und Ordner trennen\n",
    "files = [e for e in entries if os.path.isfile(os.path.join(current_dir, e))]\n",
    "folders = [e for e in entries if os.path.isdir(os.path.join(current_dir, e))]\n",
    "\n",
    "\n",
    "print(\"\\n Ordner:\")\n",
    "for folder in folders:\n",
    "    print(\"  -\", folder)\n",
    "\n",
    "print(\"\\n Dateien:\")\n",
    "for file in files:\n",
    "    print(\"  -\", file)\n"
   ]
  },
  {
   "cell_type": "markdown",
   "id": "6aee1132",
   "metadata": {},
   "source": [
    "### 3. Datei überprüfen\n",
    "- Frage den Benutzer nach einem Dateinamen.  \n",
    "- Prüfe, ob diese Datei im aktuellen Ordner existiert.  \n",
    "- Gib `\"Gefunden\"` oder `\"Nicht gefunden\"` aus."
   ]
  },
  {
   "cell_type": "code",
   "execution_count": 14,
   "id": "40c74006",
   "metadata": {},
   "outputs": [
    {
     "name": "stdout",
     "output_type": "stream",
     "text": [
      "Gefunden\n"
     ]
    }
   ],
   "source": [
    "import os\n",
    "\n",
    "# Benutzer nach Dateiname fragen\n",
    "filename = input(\"Bitte Dateiname eingeben: \")\n",
    "\n",
    "# Prüfen, ob die Datei im aktuellen Verzeichnis existiert\n",
    "if os.path.isfile(filename):\n",
    "    print(\"Gefunden\")\n",
    "else:\n",
    "    print(\"Nicht gefunden\")\n"
   ]
  },
  {
   "cell_type": "markdown",
   "id": "1834f982",
   "metadata": {},
   "source": [
    "Mittlere Aufgaben\n",
    "\n",
    "### 4. Simulation: Temporäre Dateien löschen\n",
    "- Lege in einem Ordner `temp` mehrere Testdateien an (z. B. `file1.tmp`, `file2.tmp`, `notes.txt`).  \n",
    "- Schreibe ein Skript, das alle Dateien mit der Endung `.tmp` löscht.  \n",
    "- Gib aus, welche Dateien gelöscht wurden.\n"
   ]
  },
  {
   "cell_type": "code",
   "execution_count": 2,
   "id": "5bd34e16",
   "metadata": {},
   "outputs": [
    {
     "name": "stdout",
     "output_type": "stream",
     "text": [
      "Testdateien angelegt: file1.tmp, file2.tmp, notes.txt\n",
      "Gelöschte Dateien: file1.tmp, file2.tmp\n"
     ]
    }
   ],
   "source": [
    "import os\n",
    "\n",
    "# 1. Temp-Ordner erstellen, falls nicht vorhanden\n",
    "temp_dir = \"temp\"\n",
    "os.makedirs(temp_dir, exist_ok=True)\n",
    "\n",
    "# 2. Testdateien im Temp-Ordner anlegen\n",
    "test_files = [\"file1.tmp\", \"file2.tmp\", \"notes.txt\"]\n",
    "for f in test_files:\n",
    "    file_path = os.path.join(temp_dir, f)\n",
    "    if not os.path.exists(file_path):\n",
    "        with open(file_path, \"w\") as file:\n",
    "            file.write(\"Testinhalt\")  # Dummy-Inhalt\n",
    "print(\"Testdateien angelegt:\", \", \".join(test_files))\n",
    "\n",
    "# 3. Alle Dateien im Temp-Ordner durchgehen\n",
    "deleted_files = []\n",
    "for file_name in os.listdir(temp_dir):\n",
    "    if file_name.endswith(\".tmp\"):\n",
    "        os.remove(os.path.join(temp_dir, file_name))\n",
    "        deleted_files.append(file_name)\n",
    "\n",
    "# 4. Ergebnis ausgeben\n",
    "if deleted_files:\n",
    "    print(\"Gelöschte Dateien:\", \", \".join(deleted_files))\n",
    "else:\n",
    "    print(\"Keine .tmp-Dateien gefunden.\")\n"
   ]
  },
  {
   "cell_type": "markdown",
   "id": "210ca3fe",
   "metadata": {},
   "source": [
    "### 5. Simulation: Logrotation\n",
    "- Angenommen, es gibt eine Log-Datei `system.log`.  \n",
    "- Schreibe ein Skript, das sie in `system.log.old` umbenennt.  \n",
    "- Erstelle anschließend eine neue leere Datei `system.log`.  \n",
    "- Dies simuliert eine typische Log-Rotation."
   ]
  },
  {
   "cell_type": "code",
   "execution_count": 4,
   "id": "8b6b08dc",
   "metadata": {},
   "outputs": [
    {
     "name": "stdout",
     "output_type": "stream",
     "text": [
      "system.log wurde umbenannt in system.log.old\n",
      "Neue leere system.log wurde erstellt.\n"
     ]
    }
   ],
   "source": [
    "import os\n",
    "\n",
    "# 1. Dateinamen definieren\n",
    "log_file = \"system.log\"\n",
    "old_log_file = \"system.log.old\"\n",
    "\n",
    "# 2. Prüfen, ob system.log existiert\n",
    "if os.path.exists(log_file):\n",
    "    # Falls eine alte Version schon existiert, vorher löschen\n",
    "    if os.path.exists(old_log_file):\n",
    "        os.remove(old_log_file)\n",
    "        print(f\"{old_log_file} wurde entfernt.\")\n",
    "    \n",
    "    # system.log umbenennen -> system.log.old\n",
    "    os.rename(log_file, old_log_file)\n",
    "    print(f\"{log_file} wurde umbenannt in {old_log_file}\")\n",
    "else:\n",
    "    print(f\"{log_file} existiert noch nicht, keine Umbenennung nötig.\")\n",
    "\n",
    "# 3. Neue leere system.log anlegen\n",
    "with open(log_file, \"w\") as f:\n",
    "    pass\n",
    "print(f\"Neue leere {log_file} wurde erstellt.\")\n"
   ]
  },
  {
   "cell_type": "markdown",
   "id": "e9b6e4a3",
   "metadata": {},
   "source": [
    "### 6. Verzeichnisbericht\n",
    "- Schreibe ein Skript, das:  \n",
    "  1. Den Benutzer nach einem Verzeichnispfad fragt.  \n",
    "  2. Die **Gesamtanzahl der Dateien** und **Unterordner** darin ausgibt.  \n",
    "  3. Die **5 größten Dateien** (nach Dateigröße) auflistet.\n"
   ]
  },
  {
   "cell_type": "code",
   "execution_count": null,
   "id": "a3e9ebaa",
   "metadata": {},
   "outputs": [],
   "source": []
  },
  {
   "cell_type": "markdown",
   "id": "bcc979a0",
   "metadata": {},
   "source": [
    "### 7. Umgebungsvariablen bearbeiten\n",
    "- Schreibe ein Skript, das:  \n",
    "  - Den aktuellen Wert der Umgebungsvariablen `PATH` ausgibt.  \n",
    "  - Einen zusätzlichen (fiktiven) Pfad (`C:/fake/bin` oder `/usr/local/fake/bin`) anhängt.  \n",
    "  - Den aktualisierten Wert erneut ausgibt.\n"
   ]
  },
  {
   "cell_type": "code",
   "execution_count": null,
   "id": "1fea2af6",
   "metadata": {},
   "outputs": [],
   "source": []
  },
  {
   "cell_type": "markdown",
   "id": "b76831d5",
   "metadata": {},
   "source": [
    "### 8. Einfaches Backup-Skript\n",
    "- Frage den Benutzer nach einem Verzeichnisnamen (z. B. `meinedaten`).  \n",
    "- Erstelle eine Kopie dieses Verzeichnisses mit dem Namen `meinedaten_backup`.  \n",
    "- Achte darauf, dass die Ordnerstruktur und Dateien mitkopiert werden.\n"
   ]
  },
  {
   "cell_type": "code",
   "execution_count": null,
   "id": "51233248",
   "metadata": {},
   "outputs": [],
   "source": []
  },
  {
   "cell_type": "markdown",
   "id": "333a393f",
   "metadata": {},
   "source": [
    "## Bonusaufgabe: Installierte Programme auslesen\n",
    "\n",
    "### 9. Installierte Anwendungen auflisten\n",
    "- Schreibe ein Python-Skript, das alle installierten Programme auf dem Computer in einer Datei speichert.  \n",
    "- Das Skript soll erkennen, auf welchem Betriebssystem es läuft:  \n",
    "  - **Windows:** Befehl `wmic product get name`  \n",
    "  - **Linux (Debian/Ubuntu):** Befehl `dpkg --get-selections`  \n",
    "  - **macOS (Homebrew):** Befehl `brew list`  \n",
    "- Das Ergebnis soll in die Datei `installed_apps.txt` geschrieben werden.  \n",
    "- Gib eine Bestätigungsmeldung aus:  \n",
    "  ```\n",
    "  Installierte Anwendungen wurden in installed_apps.txt gespeichert\n",
    "  ```\n"
   ]
  },
  {
   "cell_type": "code",
   "execution_count": null,
   "id": "be7f83aa",
   "metadata": {},
   "outputs": [],
   "source": []
  }
 ],
 "metadata": {
  "kernelspec": {
   "display_name": "Python 3",
   "language": "python",
   "name": "python3"
  },
  "language_info": {
   "codemirror_mode": {
    "name": "ipython",
    "version": 3
   },
   "file_extension": ".py",
   "mimetype": "text/x-python",
   "name": "python",
   "nbconvert_exporter": "python",
   "pygments_lexer": "ipython3",
   "version": "3.13.5"
  }
 },
 "nbformat": 4,
 "nbformat_minor": 5
}
