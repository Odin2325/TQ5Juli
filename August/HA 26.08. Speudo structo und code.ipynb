{
 "cells": [
  {
   "cell_type": "markdown",
   "id": "7a4e29cd",
   "metadata": {},
   "source": [
    "Aufgabe: Zahlen in Römische Zahlen umwandeln,\n",
    "Schreibe erstmal pseudocode, dann Struktogramm erstellen vom pseudocode, dann in programmcode umsetzten.\n",
    "\n",
    "Schreibe eine Funktion, die normale Zahlen in Römische Zahlen\n",
    "umwandelt.\n",
    "\n",
    "Die Römer waren ein kluges Volk. Sie erfanden Beton, gerade Straßen und sogar Bikinis.\\\n",
    "Eine Sache, die sie jedoch nie entdeckten, war die Zahl Null. Das machte es etwas schwieriger, lange Chroniken zu schreiben und zu datieren. Dennoch wird das von ihnen entwickelte Zahlensystem bis heute verwendet. Zum Beispiel nutzt die BBC römische Zahlen, um ihre Programme zu datieren.\n",
    "\n",
    "Die Römer schrieben Zahlen mit den Buchstaben:\n",
    "\n",
    "I, V, X, L, C, D, M,\n",
    "\n",
    "Beispiele:\n",
    "\n",
    "     1  => I\n",
    "    10  => X\n",
    "     7  => VII\n",
    "\n",
    "Die größte Zahl, die mit diesem System dargestellt wird, ist 3.999.\n",
    "\n",
    "Laut Wikipedia schreibt man moderne römische Zahlen, indem man jede\n",
    "Ziffer einzeln von links nach rechts ausdrückt und Nullen dabei\n",
    "überspringt.\n",
    "\n",
    "Beispiele:\n",
    "\n",
    "1990 in römischen Zahlen = MCMXC\\(1000 = M, 900 = CM, 90 = XC),\n",
    "\n",
    "2008 in römischen Zahlen = MMVIII\\(2000 = MM, 8 = VIII),\n",
    "\n",
    "------------------------------------------------------------------------\n",
    "\n",
    "Deine Aufgabe,\n",
    "Schreibe in Python eine Funktion to_roman(n: int) -> str, die eine\n",
    "Zahl n (1 ≤ n ≤ 3999) in eine römische Zahl umwandelt.\n",
    "\n",
    "Beispielaufrufe:\n",
    "\n",
    "``` python\n",
    "print(to_roman(1))     # I\n",
    "print(to_roman(7))     # VII\n",
    "print(to_roman(1990))  # MCMXC\n",
    "print(to_roman(2008))  # MMVIII"
   ]
  },
  {
   "cell_type": "code",
   "execution_count": 4,
   "id": "ae11ff98",
   "metadata": {},
   "outputs": [
    {
     "name": "stdout",
     "output_type": "stream",
     "text": [
      "Die römische Darstellung ist: MCMXCIX\n"
     ]
    }
   ],
   "source": [
    "nummerischeZahlen = [1000, 900, 500, 400, 100, 90, 50, 40, 10, 9, 5, 4, 1]\n",
    "romischeZahlen = ['M', 'CM', 'D', 'CD', 'C', 'XC', 'L', 'XL', 'X', 'IX', 'V', 'IV', 'I']\n",
    "\n",
    "zahl = int(input(\"Geben Sie eine Zahl von 1 bis 3999 ein: \"))\n",
    "\n",
    "def ergebnis(zahl):\n",
    "    if not (1 <= zahl <= 3999):\n",
    "        return \"Ungültige Zahl. Bitte geben Sie eine Zahl zwischen 1 und 3999 ein.\"\n",
    "    \n",
    "    ergebnis = \"\"\n",
    "    for i in range(len(nummerischeZahlen)):\n",
    "        while zahl >= nummerischeZahlen[i]:\n",
    "            ergebnis += romischeZahlen[i]\n",
    "            zahl -= nummerischeZahlen[i]\n",
    "    return ergebnis\n",
    "\n",
    "print(f\"Die römische Darstellung ist: {ergebnis(zahl)}\")"
   ]
  }
 ],
 "metadata": {
  "kernelspec": {
   "display_name": "Python 3",
   "language": "python",
   "name": "python3"
  },
  "language_info": {
   "codemirror_mode": {
    "name": "ipython",
    "version": 3
   },
   "file_extension": ".py",
   "mimetype": "text/x-python",
   "name": "python",
   "nbconvert_exporter": "python",
   "pygments_lexer": "ipython3",
   "version": "3.13.5"
  }
 },
 "nbformat": 4,
 "nbformat_minor": 5
}
