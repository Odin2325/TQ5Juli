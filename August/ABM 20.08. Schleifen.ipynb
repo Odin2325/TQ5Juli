{
 "cells": [
  {
   "cell_type": "markdown",
   "id": "a9fe5993",
   "metadata": {},
   "source": [
    "Wir moechten eine Einkaufsliste programmieren.\n",
    " \n",
    "In diese Liste speichern wir all Produkte die wir einkaufen moechten.\n",
    "In diese Aufgabe geht es darum eine Liste zu erstellen und diese dann mit Benutzer input() zu befuellen.\n",
    " \n",
    "Start:\n",
    "einkaufs_liste = []\n",
    " \n",
    "Mit append Methode die benutzer Eingabe zur liste hinzufuegen.\n",
    "Die Schleife soll so lange laufen bis der benutzer als eingabe das Wert 'Fertig' eingegeben hat."
   ]
  },
  {
   "cell_type": "code",
   "execution_count": null,
   "id": "566569f8",
   "metadata": {},
   "outputs": [],
   "source": [
    "einkaufs_liste = []\n",
    "\n",
    "while True:\n",
    "    einkaufs_liste.append(input(\"Was möchtest du kaufen? (oder 'Fertig' zum Beenden) \")).capitalize()\n",
    "    if einkaufs_liste[-1].lower() == 'fertig':\n",
    "        einkaufs_liste.pop()  \n",
    "        break\n",
    "    print(f\"Du hast '{einkaufs_liste[-1]}' zur Liste hinzugefügt.\")\n",
    "#print(\"Deine Einkaufsliste:\" + \", \".join(einkaufs_liste))\n",
    "print(\"\\nDeine Einkaufsliste:\")\n",
    "for artikel in einkaufs_liste:\n",
    "    print(f\"- {artikel}\")"
   ]
  },
  {
   "cell_type": "code",
   "execution_count": null,
   "id": "265e5603",
   "metadata": {},
   "outputs": [],
   "source": [
    "print('Einkaufslise erstellen:')\n",
    "\n",
    "einkaufs_liste = []\n",
    "\n",
    "while True:\n",
    "    eingabe = input('Geben Sie ihr produkt bitte ein: (\\'Fertig\\' um zu stoppen.)').capitalize()\n",
    "\n",
    "    if eingabe == 'Fertig':\n",
    "        break\n",
    "    else:\n",
    "        einkaufs_liste.append(eingabe)\n",
    "\n",
    "print(einkaufs_liste)"
   ]
  },
  {
   "cell_type": "markdown",
   "id": "bd5ee0d0",
   "metadata": {},
   "source": [
    "Uebung 1 Summe der Zahlen:\n",
    "\n",
    "Schreibe ein Programm, das den Benutzer auffordert, 5 Zahlen einzugeben.\n",
    "Speichere diese in einer Liste.\n",
    "Verwende dann eine for-Schleife, um die Summe aller Zahlen zu berechnen und auszugeben.\n",
    "\n",
    "Uebung 2 Wortlängen:\n",
    "\n",
    "Schreibe ein Programm, das den Benutzer auffordert, 5 Wörter einzugeben.\n",
    "Speichere diese in einer Liste.\n",
    "Verwende eine for-Schleife, um jedes Wort zusammen mit seiner Länge auszugeben.\n",
    "Ausgabenstil:\n",
    "```python\n",
    "print('Dein wort war: {wort}. Es hat eine laenge von: {laenge}')\n",
    "```"
   ]
  },
  {
   "cell_type": "code",
   "execution_count": null,
   "id": "cfd0d155",
   "metadata": {},
   "outputs": [
    {
     "name": "stdout",
     "output_type": "stream",
     "text": [
      "Die Summe der eingegebenen Zahlen ist: 15\n"
     ]
    }
   ],
   "source": [
    "zahlenliste = []\n",
    "\n",
    "summe = 0\n",
    "\n",
    "zaehler = 0\n",
    "\n",
    "while zaehler < 5: \n",
    "    zahlenliste.append(input(\"Geben Sie die 5 Zahlen an : \"))\n",
    "    zaehler += 1\n",
    "\n",
    "for zahl in zahlenliste:\n",
    "        summe += int(zahl)\n",
    "\n",
    "print(f\"Die Summe der eingegebenen Zahlen ist: {summe}\")   "
   ]
  },
  {
   "cell_type": "code",
   "execution_count": null,
   "id": "cb6bc50b",
   "metadata": {},
   "outputs": [
    {
     "name": "stdout",
     "output_type": "stream",
     "text": [
      "Das Wort ist: Hallo. Es hat eine laenge von: 5 Zeichen.\n",
      "Das Wort ist: Du. Es hat eine laenge von: 2 Zeichen.\n",
      "Das Wort ist: Stinkst. Es hat eine laenge von: 7 Zeichen.\n",
      "Das Wort ist: Nach. Es hat eine laenge von: 4 Zeichen.\n",
      "Das Wort ist: Fisch. Es hat eine laenge von: 5 Zeichen.\n"
     ]
    }
   ],
   "source": [
    "wortliste = []\n",
    "\n",
    "zaehler = 0\n",
    "\n",
    "while zaehler < 5:\n",
    "    wortliste.append(input(\"Geben Sie ein Wort ein: \").capitalize().strip())\n",
    "    zaehler += 1\n",
    "\n",
    "for wort in wortliste:\n",
    "    print(f\"Das Wort ist: {wort}. Es hat eine laenge von: {len(wort)} Zeichen.\")"
   ]
  },
  {
   "cell_type": "code",
   "execution_count": null,
   "id": "309c04b0",
   "metadata": {},
   "outputs": [],
   "source": [
    "#Uebung 1:\n",
    "meine_zahlen = []\n",
    "for zahl in range(0,5):\n",
    "    meine_zahlen.append(int(input(f'Geben Sie die {zahl+1}. ein: ')))\n",
    "\n",
    "summe = 0\n",
    "for zahl in meine_zahlen:\n",
    "    print(f'Aktuelle Summe: {summe} + {zahl} = {summe+zahl}.')\n",
    "    summe += zahl\n",
    "\n",
    "print('Die gesamt summe betraegt:',summe)"
   ]
  },
  {
   "cell_type": "code",
   "execution_count": null,
   "id": "ca08726b",
   "metadata": {},
   "outputs": [],
   "source": [
    "#Uebung 2:\n",
    "meine_woerter = []\n",
    "for zahl in range(0,5):\n",
    "    meine_woerter.append(input(f'Geben Sie das {zahl+1}. Wort ein: '))\n",
    "\n",
    "for wort in meine_woerter:\n",
    "    print(f'Dein wort war: {wort}. Es hat eine laenge von: {len(wort)}')"
   ]
  }
 ],
 "metadata": {
  "kernelspec": {
   "display_name": "Python 3",
   "language": "python",
   "name": "python3"
  },
  "language_info": {
   "codemirror_mode": {
    "name": "ipython",
    "version": 3
   },
   "file_extension": ".py",
   "mimetype": "text/x-python",
   "name": "python",
   "nbconvert_exporter": "python",
   "pygments_lexer": "ipython3",
   "version": "3.13.5"
  }
 },
 "nbformat": 4,
 "nbformat_minor": 5
}
