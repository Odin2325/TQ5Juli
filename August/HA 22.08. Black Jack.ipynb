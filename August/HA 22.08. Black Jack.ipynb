{
 "cells": [
  {
   "cell_type": "markdown",
   "id": "7743556f",
   "metadata": {},
   "source": [
    "Aufgabe\n",
    "\n",
    "Schreibe ein C#-Programm, das eine vereinfachte Version des Kartenspiels Blackjack\n",
    "simuliert.\n",
    "\n",
    "Spielregeln\n",
    "\n",
    "• Der Spieler und der Dealer erhalten jeweils zwei zufällige Karten mit folgenden\n",
    "\n",
    "Werten:\n",
    "o Zahlenkarten (2-10) haben ihren jeweiligen Wert.\n",
    "o Bildkarten (Bube, Dame, König) zählen als 10.\n",
    "o Ein Ass zählt immer als 11.\n",
    "• Der Spieler sieht beide eigenen Karten und eine der Karten des Dealers.\n",
    "• Der Spieler kann entscheiden:\n",
    "o \"Hit\" (eine weitere Karte ziehen) oder\n",
    "o \"Stand\" (keine weitere Karte ziehen).\n",
    "• Falls der Spieler mehr als 21 Punkte erreicht, verliert er sofort.\n",
    "• Der Dealer zieht automatisch eine weitere Karte, falls seine Punktzahl unter 17 liegt.\n",
    "• Danach wird verglichen:\n",
    "o Falls der Spieler über 21 Punkte hat, verliert er.\n",
    "o Falls der Dealer über 21 Punkte hat oder der Spieler mehr Punkte als der\n",
    "Dealer hat, gewinnt der Spieler.\n",
    "o Falls der Dealer mehr Punkte hat, gewinnt der Dealer.\n",
    "o Falls beide gleich viele Punkte haben, gibt es ein Unentschieden.\n",
    "\n",
    "Hinweise zur Umsetzung\n",
    "\n",
    "• Verwende die Klasse Random, um die Kartenwerte zufällig zu generieren.\n",
    "• Nutze Console.WriteLine(), um die Kartenwerte und Spielerentscheidungen\n",
    "auszugeben.\n",
    "• Lies die Entscheidung des Spielers mit Console.ReadLine() ein.\n",
    "• Verwende if-Bedingungen, um die Spielregeln umzusetzen."
   ]
  },
  {
   "cell_type": "code",
   "execution_count": null,
   "id": "c1014444",
   "metadata": {},
   "outputs": [
    {
     "name": "stdout",
     "output_type": "stream",
     "text": [
      "Spieler hat die Karten: 2 und 2\n",
      "Dealer hat die Karten: 4\n"
     ]
    }
   ],
   "source": [
    "import random\n",
    "\n",
    "# Erstellen des Decks:\n",
    "# 4x die Werte 2-9\n",
    "# 16x der Wert 10 (4x Zehn, 4x Bube, 4x Dame, 4x König)\n",
    "# 4x der Wert 11 (Ass)\n",
    "deck = [2, 3, 4, 5, 6, 7, 8, 9] * 4 + [10] * 16 + [11] * 4\n",
    "\n",
    "# Mischen des Decks\n",
    "random.shuffle(deck)\n",
    "\n",
    "# Austeilen der Karten\n",
    "spielerkarte1 = deck.pop()\n",
    "spielerkarte2 = deck.pop()\n",
    "\n",
    "dealerkarte1 = deck.pop()\n",
    "dealerkarte2 = deck.pop()\n",
    "\n",
    "print(f\"Spieler hat die Karten: {spielerkarte1} und {spielerkarte2}\")\n",
    "print(f\"Dealer hat die Karten: {dealerkarte1}\")\n",
    "\n",
    "input(\"1 für hit und 2 für Stand\")\n"
   ]
  }
 ],
 "metadata": {
  "kernelspec": {
   "display_name": "Python 3",
   "language": "python",
   "name": "python3"
  },
  "language_info": {
   "codemirror_mode": {
    "name": "ipython",
    "version": 3
   },
   "file_extension": ".py",
   "mimetype": "text/x-python",
   "name": "python",
   "nbconvert_exporter": "python",
   "pygments_lexer": "ipython3",
   "version": "3.13.5"
  }
 },
 "nbformat": 4,
 "nbformat_minor": 5
}
