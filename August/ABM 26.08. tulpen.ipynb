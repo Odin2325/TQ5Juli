{
 "cells": [
  {
   "cell_type": "markdown",
   "id": "e0580a92",
   "metadata": {},
   "source": [
    "Aufgabe 1:\n",
    "Gegeben beliebig viele Vornamen, geben wir alle Werte in unterschiedliche Zeilen auf die Konsole aus."
   ]
  },
  {
   "cell_type": "code",
   "execution_count": null,
   "id": "20d188bf",
   "metadata": {},
   "outputs": [
    {
     "name": "stdout",
     "output_type": "stream",
     "text": [
      "Max\n",
      "Erika\n",
      "Hans\n"
     ]
    }
   ],
   "source": [
    "def vorname_ausgeben(*vorname):\n",
    "    for name in vorname:\n",
    "        print(name)\n",
    "\n",
    "vorname_ausgeben(\"Max\", \"Erika\", \"Hans\")"
   ]
  },
  {
   "cell_type": "markdown",
   "id": "d5f90d33",
   "metadata": {},
   "source": [
    "Aufgabe 2 Warenkorbrechner:\n",
    "Wir duerfen beliebig viele produkt in unser Warenkorb abspeichern.\n",
    "Wir moechten den gesamtbetrag berechnen. Hier ist auch wichtig, dass wir auf allen produkt eine standard Mehrwertsteuer von 19% haben.\n",
    "Wenn ich aus der Schweiz komme, dann zahle ich nur 10% Mehrwertsteuer."
   ]
  },
  {
   "cell_type": "code",
   "execution_count": 3,
   "id": "1152ed90",
   "metadata": {},
   "outputs": [],
   "source": [
    "def warenkorpprodukte(**produkte):\n",
    "    for produkt in produkte:\n",
    "        print(produkt)"
   ]
  },
  {
   "cell_type": "code",
   "execution_count": 4,
   "id": "fdaafde8",
   "metadata": {},
   "outputs": [],
   "source": [
    "def produkt_preis(**produkte):\n",
    "    gesamtpreis = 0\n",
    "    for preis in produkte.values():\n",
    "        gesamtpreis += preis\n",
    "    return gesamtpreis"
   ]
  },
  {
   "cell_type": "code",
   "execution_count": 5,
   "id": "4f52c80e",
   "metadata": {},
   "outputs": [],
   "source": [
    "def steuer_berechnen(betrag, land='DE'):\n",
    "    if land == 'CH':\n",
    "        return betrag * 0.10\n",
    "    else:\n",
    "        return betrag * 0.19"
   ]
  },
  {
   "cell_type": "code",
   "execution_count": 6,
   "id": "944449d8",
   "metadata": {},
   "outputs": [
    {
     "name": "stdout",
     "output_type": "stream",
     "text": [
      "apfel\n",
      "birne\n",
      "banane\n",
      "Gesamtpreis ohne Steuer: 4.5\n",
      "Steuerbetrag: 0.45\n",
      "Gesamtpreis mit Steuer: 4.95\n"
     ]
    }
   ],
   "source": [
    "warenkorpprodukte(apfel=1.20, birne=2.50, banane=0.80)\n",
    "gesamt = produkt_preis(apfel=1.20, birne=2.50, banane=0.80)\n",
    "print(f\"Gesamtpreis ohne Steuer: {gesamt}\")   \n",
    "steuer = steuer_berechnen(gesamt, land='CH')\n",
    "print(f\"Steuerbetrag: {steuer}\")\n",
    "print(f\"Gesamtpreis mit Steuer: {gesamt + steuer}\")\n"
   ]
  },
  {
   "cell_type": "markdown",
   "id": "ec2278ec",
   "metadata": {},
   "source": [
    "Aufgabe3 : Temperatur-Umrechner\n",
    "\n",
    "Szenario:\n",
    "\n",
    "Du sollst eine Funktion schreiben, die Temperaturen von Celsius in Fahrenheit oder Kelvin umwandeln kann.\n",
    "\n",
    "Aufgabe: Temperatur Umrechner\n",
    "\n",
    "Schreibe eine Funktion:\n",
    "```python\n",
    "def convert_temperature(value, to=\"fahrenheit\"):\n",
    "    \"\"\"\n",
    "    Wandelt eine Temperatur von Celsius in Fahrenheit oder Kelvin um.\n",
    "    \"\"\"\n",
    "```\n",
    "\n",
    "Anforderungen\n",
    "\n",
    "1. Der Parameter value ist die Temperatur in Celsius (float oder int).\n",
    "\n",
    "2. Der Parameter to hat einen Standardwert \"fahrenheit\".\n",
    " * Wenn to=\"fahrenheit\": rechne Celsius → Fahrenheit (Formel: F = C * 9/5 + 32)\n",
    " * Wenn to=\"kelvin\": rechne Celsius → Kelvin (Formel: K = C + 273.15)\n",
    " * Wenn ein anderer Wert übergeben wird, gib \"Ungültige Einheit\" zurück.\n",
    "\n",
    "3. Die Funktion soll das Ergebnis zurückgeben."
   ]
  },
  {
   "cell_type": "code",
   "execution_count": 38,
   "id": "752865f7",
   "metadata": {},
   "outputs": [],
   "source": [
    "def convert_temperature(value, to=\"fahrenheit\"):\n",
    "    \"\"\"\n",
    "    Wandelt eine Temperatur von Celsius in Fahrenheit oder Kelvin um.\n",
    "    \"\"\"\n",
    "    if to == \"fahrenheit\":\n",
    "        return (value * 9 / 5) + 32\n",
    "    elif to == \"kelvin\":\n",
    "        return value + 273.15\n",
    "    else:\n",
    "        raise ValueError(\"Ungültiges Einheit. Verwenden Sie 'fahrenheit' oder 'kelvin'.\")   "
   ]
  },
  {
   "cell_type": "code",
   "execution_count": 44,
   "id": "eb2908db",
   "metadata": {},
   "outputs": [
    {
     "data": {
      "text/plain": [
       "77.0"
      ]
     },
     "execution_count": 44,
     "metadata": {},
     "output_type": "execute_result"
    }
   ],
   "source": [
    "convert_temperature(25, to=\"fahrenheit\")"
   ]
  }
 ],
 "metadata": {
  "kernelspec": {
   "display_name": "Python 3",
   "language": "python",
   "name": "python3"
  },
  "language_info": {
   "codemirror_mode": {
    "name": "ipython",
    "version": 3
   },
   "file_extension": ".py",
   "mimetype": "text/x-python",
   "name": "python",
   "nbconvert_exporter": "python",
   "pygments_lexer": "ipython3",
   "version": "3.13.5"
  }
 },
 "nbformat": 4,
 "nbformat_minor": 5
}
