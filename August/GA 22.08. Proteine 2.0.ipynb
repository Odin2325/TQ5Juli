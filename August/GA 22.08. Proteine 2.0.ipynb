{
<<<<<<< HEAD
 "cells": [
  {
   "cell_type": "markdown",
   "id": "51929886",
   "metadata": {},
   "source": [
    "Übersetzen von RNA-Sequenzen in Proteine.\n",
    "RNA kann in drei Nukleotidsequenzen, die Codons, zerlegt und dann wie folgt in\n",
    "ein Polypeptid übersetzt werden:\n",
    "RNA: \"AUGUUUUCU\" => wird übersetzt in\n",
    "Codons: \"AUG\", \"UUU\", \"UCU\" => die zu einem Polypeptid mit der folgenden\n",
    "Sequenz werden => Protein: \"Methionin\", \"Phenylalanin\", \"Serin\"\n",
    "Es gibt 64 Codons, die wiederum 20 Aminosäuren entsprechen; alle\n",
    "Codon-Sequenzen und die daraus resultierenden Aminosäuren sind jedoch für\n",
    "diese Übung nicht wichtig. Wenn es für ein Codon funktioniert, sollte das\n",
    "Programm auch für alle anderen Codons funktionieren. Es steht Ihnen jedoch frei,\n",
    "die Liste in der Testsuite zu erweitern, um alle Codons einzubeziehen.\n",
    "Es gibt auch drei terminierende Codons (auch als \"STOP\"-Codons bekannt); wenn\n",
    "eines dieser Codons (vom Ribosom) angetroffen wird, endet die gesamte\n",
    "Übersetzung und das Protein wird abgebrochen.\n",
    "Alle nachfolgenden Codons werden ignoriert, etwa so:\n",
    "RNA: \"AUGUUUUCUUAAAUG\" =>\n",
    "Codons: \"AUG\", \"UUU\", \"UCU\", \"UAA\", \"AUG\" =>\n",
    "Protein: \"Methionin\", \"Phenylalanin\", \"Serin\"\n",
    "Beachten Sie, dass das Stoppcodon \"UAA\" die Übersetzung beendet und das letzte\n",
    "Methionin nicht in die Proteinsequenz übersetzt wird.\n",
    "Nachstehend sind die Codons und die daraus resultierenden Aminosäuren\n",
    "aufgeführt, die für die Übung benötigt werden:\n",
    "Codon Protein\n",
    "AUG Methionin\n",
    "UUU, UUC Phenylalanin\n",
    "UUA, UUG Leucin\n",
    "UCU, UCC, UCA, UCG Serin\n",
    "UAU, UAC Tyrosin\n",
    "UGU, UGC Cystein\n",
    "UGG Tryptophan\n",
    "UAA, UAG, UGA STOP"
   ]
  },
  {
   "cell_type": "code",
   "execution_count": null,
   "id": "f9edc8f7",
   "metadata": {},
   "outputs": [
    {
     "name": "stdout",
     "output_type": "stream",
     "text": [
      "AUG = Methionin\n",
      "UUU = Phenylalanin\n",
      "UCU = Serin\n",
      "UAA = STOP\n",
      "AUG = Methionin\n"
     ]
    }
   ],
   "source": [
    "#5.\n",
    "\n",
    "sequenzen = {\n",
    "    #Key:   #Value\n",
    "    \"AUG\": 'Methionin',\n",
    "    \"UUU\": 'Phenylalanin',\n",
    "    \"UUC\": 'Phenylalanin',\n",
    "    \"UUA\": 'Leucin',\n",
    "    \"UUG\": 'Leucin',  \n",
    "    \"UCU\": 'Serin',\n",
    "    \"UCC\": 'Serin',\n",
    "    \"UCA\": 'Serin',\n",
    "    \"UCG\": 'Serin',\n",
    "    \"UAU\": 'Tyrosin',\n",
    "    \"UAC\": 'Tyrosin',   \n",
    "    \"UGU\": 'Cystein',\n",
    "    \"UGC\": 'Cystein',   \n",
    "    \"UGG\": 'Tryptophan',\n",
    "    \"UAA\": 'STOP',\n",
    "    \"UAG\": 'STOP',\n",
    "    \"UGA\": 'STOP',    \n",
    "}\n",
    "\n",
    "RNA = \"AUGUUUUCUUAAAUG\"\n",
    "\n",
    "\n",
    "for i in range(0, len(RNA), 3): # Wiederholt die schleife alle 3 Chars in der RNA-Sequenz\n",
    "    codon = RNA[i:i+3]  # String-Slicing verwendet schneidet einen Teilstring aus der RNA\n",
    "    if codon in sequenzen: # Überprüft, ob der codon in der sequenzen-Dictionary vorhanden ist\n",
    "        print(f\"{codon} = {sequenzen[codon]}\") # Gibt den codon (key) und die zugehörige Aminosäure (Value) aus\n",
    "    else:\n",
    "        print(f\"{codon} = Unbekannt\")\n",
    "\n",
    "#print(f\"{len(RNA) % 3 == 0:'Die RNA-Sequenz ist teilbar durch 3'}\")"
   ]
  }
 ],
=======
 "cells": [],
>>>>>>> 90d1f1a186e1c65057bcb83f667d21b65c3bda9e
 "metadata": {
  "kernelspec": {
   "display_name": "Python 3",
   "language": "python",
   "name": "python3"
  },
  "language_info": {
   "codemirror_mode": {
    "name": "ipython",
    "version": 3
   },
   "file_extension": ".py",
   "mimetype": "text/x-python",
   "name": "python",
   "nbconvert_exporter": "python",
   "pygments_lexer": "ipython3",
   "version": "3.13.5"
  }
 },
 "nbformat": 4,
 "nbformat_minor": 5
}
