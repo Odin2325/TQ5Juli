{
 "cells": [
  {
   "cell_type": "code",
   "execution_count": 11,
   "id": "4a9361c6",
   "metadata": {},
   "outputs": [
    {
     "name": "stdout",
     "output_type": "stream",
     "text": [
      "AUG = Methionin\n",
      "UUU = Phenylalanin\n",
      "UCU = Serin\n",
      "AUG = Methionin\n"
     ]
    }
   ],
   "source": [
    "#5.\n",
    " \n",
    "sequenzen = {\n",
    "    #Key:   #Value\n",
    "    \"AUG\": 'Methionin',\n",
    "    \"UUU\": 'Phenylalanin',\n",
    "    \"UUC\": 'Phenylalanin',\n",
    "    \"UUA\": 'Leucin',\n",
    "    \"UUG\": 'Leucin',  \n",
    "    \"UCU\": 'Serin',\n",
    "    \"UCC\": 'Serin',\n",
    "    \"UCA\": 'Serin',\n",
    "    \"UCG\": 'Serin',\n",
    "    \"UAU\": 'Tyrosin',\n",
    "    \"UAC\": 'Tyrosin',  \n",
    "    \"UGU\": 'Cystein',\n",
    "    \"UGC\": 'Cystein',  \n",
    "    \"UGG\": 'Tryptophan',\n",
    "    \"UAA\": 'STOP',\n",
    "    \"UAG\": 'STOP',\n",
    "    \"UGA\": 'STOP',    \n",
    "}\n",
    " \n",
    "RNA = \"AUGUUUUCUAUG\"\n",
    "#RNA = input(\"Geben Sie eine RNA-Sequenz ein: \")  # Eingabeaufforderung für die RNA-Sequenz\n",
    " \n",
    "for i in range(0, len(RNA), 3): # Wiederholt die schleife alle 3 Chars in der RNA-Sequenz\n",
    "    codon = RNA[i:i+3]  # String-Slicing verwendet schneidet einen Teilstring aus der RNA\n",
    "    if \"STOP\" == sequenzen[codon]:\n",
    "       break  # Beendet die Schleife, wenn ein STOP-Codon gefunden wird\n",
    "    elif codon in sequenzen: # Überprüft, ob der codon in der sequenzen-Dictionary vorhanden ist\n",
    "        print(f\"{codon} = {sequenzen[codon]}\") # Gibt den codon (key) und die zugehörige Aminosäure (Value) aus    \n",
    "    else:\n",
    "        print(f\"{codon} = Unbekannt\")"
   ]
  }
 ],
 "metadata": {
  "kernelspec": {
   "display_name": "Python 3",
   "language": "python",
   "name": "python3"
  },
  "language_info": {
   "codemirror_mode": {
    "name": "ipython",
    "version": 3
   },
   "file_extension": ".py",
   "mimetype": "text/x-python",
   "name": "python",
   "nbconvert_exporter": "python",
   "pygments_lexer": "ipython3",
   "version": "3.13.5"
  }
 },
 "nbformat": 4,
 "nbformat_minor": 5
}
