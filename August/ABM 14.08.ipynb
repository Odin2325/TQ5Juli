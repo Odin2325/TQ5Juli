{
 "cells": [
  {
   "cell_type": "markdown",
   "id": "6387d29f",
   "metadata": {},
   "source": [
    "# Fläche eines Driecks\n",
    "# A=1/2bh\n",
    "# Wir haben ein Drieck mit h = 10 und b = 17"
   ]
  },
  {
   "cell_type": "code",
   "execution_count": 5,
   "id": "92525f32",
   "metadata": {},
   "outputs": [
    {
     "name": "stdout",
     "output_type": "stream",
     "text": [
      "Die Fläche des Dreiecks beträgt: 85.0\n",
      "Die Fläche des Dreiecks beträgt: 85.0\n"
     ]
    }
   ],
   "source": [
    "höhe = 10\n",
    "breite = 17\n",
    "\n",
    "def berechne_flaeche(hoehe, breite):\n",
    "    return hoehe * breite   \n",
    "\n",
    "print(\"Die Fläche des Dreiecks beträgt:\", berechne_flaeche(höhe, breite)/2)\n",
    "# Dieses Skript berechnet die Fläche eines Dreiecks und gibt das Ergebnis aus.\n",
    "# Es verwendet eine Funktion, um die Fläche zu berechnen und gibt das Ergebnis in der Konsole aus.  \n",
    "\n",
    "drieckfläche = (höhe * breite)/2\n",
    "# Das Skript berechnet die Fläche eines Dreiecks mit gegebener Höhe und Breite.\n",
    "# Die Fläche wird in der Konsole ausgegeben.\n",
    "print(\"Die Fläche des Dreiecks beträgt:\",drieckfläche)\n"
   ]
  },
  {
   "cell_type": "markdown",
   "id": "841b3dcc",
   "metadata": {},
   "source": []
  },
  {
   "cell_type": "code",
   "execution_count": 7,
   "id": "86972d12",
   "metadata": {},
   "outputs": [
    {
     "name": "stdout",
     "output_type": "stream",
     "text": [
      "3.0\n",
      "Der Abstand zwischen den Punkten ist: 52.15361924162119\n"
     ]
    }
   ],
   "source": [
    "x1 = 2\n",
    "x2 = 54\n",
    "y1 = 8\n",
    "y2 = 4\n",
    "\n",
    "import math\n",
    "\n",
    "wurzel_neun = math.sqrt(9)\n",
    "\n",
    "print(wurzel_neun)\n",
    "\n",
    "def berechne_abstand(x1, y1, x2, y2):\n",
    "    return ((x1 - x2) ** 2 + (y1 - y2) ** 2)\n",
    "\n",
    "print(\"Der Abstand zwischen den Punkten ist:\", math.sqrt(berechne_abstand(x1, y1, x2, y2)))\n",
    "# Dieses Skript berechnet den Abstand zwischen zwei Punkten in einem 2D-Koordinatensystem.\n",
    "# Es verwendet die mathematische Formel für den Abstand und gibt das Ergebnis in der Konsole aus.\n",
    "# Die Funktion berechne_abstand nimmt die Koordinaten der beiden Punkte als Parameter und gibt den Abstand zurück.\n"
   ]
  },
  {
   "cell_type": "code",
   "execution_count": 6,
   "id": "27cce835",
   "metadata": {},
   "outputs": [
    {
     "name": "stdout",
     "output_type": "stream",
     "text": [
      "Der Abstand zwischen den Punkten ist: 52.15361924162119\n"
     ]
    }
   ],
   "source": [
    "import math\n",
    "\n",
    "def berechne_abstand(x1, y1, x2, y2):\n",
    "    # Die Summe der quadrierten Differenzen wird in Klammern gesetzt\n",
    "    summe_quadrate = ((x2 - x1) ** 2 + (y2 - y1) ** 2)\n",
    "    # math.sqrt wird auf die summe_quadrate angewendet\n",
    "    abstand = math.sqrt(summe_quadrate)\n",
    "    return abstand\n",
    "\n",
    "# Beispielaufruf mit deinen Werten\n",
    "x1 = 2\n",
    "x2 = 54\n",
    "y1 = 8\n",
    "y2 = 4\n",
    "\n",
    "ergebnis = berechne_abstand(x1, y1, x2, y2)\n",
    "print(f\"Der Abstand zwischen den Punkten ist: {ergebnis}\") "
   ]
  },
  {
   "cell_type": "markdown",
   "id": "5e402f9c",
   "metadata": {},
   "source": [
    "# Mathe Aufgabe Zinsezins\n",
    "\n",
    "# Kn = K0 * (1+P/100)**n\n",
    "\n",
    "# Aufgabe berechne 3000Euro auf 35Jahre denn zinsezins"
   ]
  },
  {
   "cell_type": "code",
   "execution_count": 16,
   "id": "3098e245",
   "metadata": {},
   "outputs": [
    {
     "name": "stdout",
     "output_type": "stream",
     "text": [
      "Das Endkapital nach 35 Jahren beträgt: 9668.077236463741\n"
     ]
    }
   ],
   "source": [
    "\n",
    "anfangskapital = int(input(\"Gib das Anfangskapital ein: \"))\n",
    "zinssatz = float(input(\"Gib den Zinssatz in Prozent ein: \"))\n",
    "laufzeit = int(input(\"Gib die Laufzeit in Jahren ein: \"))\n",
    "\n",
    "endkapital = anfangskapital * (1 + zinssatz / 100) ** laufzeit\n",
    "print(\"Das Endkapital nach\", laufzeit, \"Jahren beträgt:\", endkapital)       "
   ]
  }
 ],
 "metadata": {
  "kernelspec": {
   "display_name": "Python 3",
   "language": "python",
   "name": "python3"
  },
  "language_info": {
   "codemirror_mode": {
    "name": "ipython",
    "version": 3
   },
   "file_extension": ".py",
   "mimetype": "text/x-python",
   "name": "python",
   "nbconvert_exporter": "python",
   "pygments_lexer": "ipython3",
   "version": "3.13.5"
  }
 },
 "nbformat": 4,
 "nbformat_minor": 5
}
