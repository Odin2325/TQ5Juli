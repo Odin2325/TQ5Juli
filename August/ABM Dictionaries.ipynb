{
 "cells": [
  {
   "cell_type": "markdown",
   "id": "4718d9b0",
   "metadata": {},
   "source": [
    "# Dictionaries"
   ]
  },
  {
   "cell_type": "code",
   "execution_count": 1,
   "id": "43c24318",
   "metadata": {},
   "outputs": [
    {
     "name": "stdout",
     "output_type": "stream",
     "text": [
      "180\n",
      "['Spanien', 'Deutschland', 'Italien']\n"
     ]
    }
   ],
   "source": [
    "\n",
    "\n",
    "auto = {\n",
    "    'Marke':'Toyota',\n",
    "    'Modell':'Yaris',\n",
    "    'Max_Geschwindigkeit':180,\n",
    "    'Besuchte_orte':['Spanien','Deutschland','Italien'],\n",
    "}\n",
    "\n",
    "#Ausgeben:\n",
    "print(auto['Max_Geschwindigkeit'])\n",
    "\n",
    "#Wert hinzufuegen:\n",
    "auto['Farbe'] = 'Rot'\n",
    "\n",
    "#Schluesselwert aendern:\n",
    "auto['Farbe'] = 'Gold'\n",
    "\n",
    "print(auto['Besuchte_orte'])\n",
    "\n"
   ]
  },
  {
   "cell_type": "code",
   "execution_count": 2,
   "id": "4a689220",
   "metadata": {},
   "outputs": [
    {
     "name": "stdout",
     "output_type": "stream",
     "text": [
      "Marke\n",
      "Modell\n",
      "Max_Geschwindigkeit\n",
      "Besuchte_orte\n",
      "Farbe\n",
      "Key: Marke - Wert: Toyota\n",
      "Key: Modell - Wert: Yaris\n",
      "Key: Max_Geschwindigkeit - Wert: 180\n",
      "Key: Besuchte_orte - Wert: ['Spanien', 'Deutschland', 'Italien']\n",
      "Key: Farbe - Wert: Gold\n"
     ]
    }
   ],
   "source": [
    "#Mit nur auto -> Zugriff auf schluessel\n",
    "for schluessel in auto:\n",
    "    print(schluessel)\n",
    "\n",
    "#Methode items() gibt uns ein set den wir ausgeben koennen als key, value paare.\n",
    "for key, value in auto.items():\n",
    "    print(f'Key: {key} - Wert: {value}')"
   ]
  },
  {
   "cell_type": "code",
   "execution_count": 3,
   "id": "fc3a3617",
   "metadata": {},
   "outputs": [
    {
     "data": {
      "text/plain": [
       "dict_keys(['Marke', 'Modell', 'Max_Geschwindigkeit', 'Besuchte_orte', 'Farbe'])"
      ]
     },
     "execution_count": 3,
     "metadata": {},
     "output_type": "execute_result"
    }
   ],
   "source": [
    "\n",
    "\n",
    "auto.keys()\n",
    "\n"
   ]
  },
  {
   "cell_type": "code",
   "execution_count": null,
   "id": "a0f559eb",
   "metadata": {},
   "outputs": [],
   "source": [
    "#Dictionaries in Dictionaries\n",
    "daten = {\n",
    "    'Nicolas':{\n",
    "        'benutzername':'nick12',\n",
    "        'passwort' : 'passWorT'\n",
    "    },\n",
    "    'Kalle':{\n",
    "        'benutzername':'calilicous',\n",
    "        'passwort' : 'dieSonne1'\n",
    "    },\n",
    "    'Maryam':{\n",
    "        'benutzername':'RickyMartin',\n",
    "        'passwort' : '93845'\n",
    "    }\n",
    "}\n",
    "\n",
    "daten['Nicolas']['benutzername']"
   ]
  },
  {
   "cell_type": "code",
   "execution_count": null,
   "id": "45d53ba1",
   "metadata": {},
   "outputs": [],
   "source": [
    "telefonbuch = {\n",
    "    'Alex':'081612727387',\n",
    "    'Angi':'081612727337',\n",
    "    'Anna':'081612727221'\n",
    "}\n",
    "\n",
    "name = input('Wem moechten Sie anrufen?')\n",
    "\n",
    "if name in telefonbuch:\n",
    "    print('Die nummer lautet:', telefonbuch[name])\n",
    "else:\n",
    "    print('Kein solcher Kontakt vorhanden.')"
   ]
  },
  {
   "cell_type": "markdown",
   "id": "97e0de34",
   "metadata": {},
   "source": [
    "\n",
    "\n",
    "Wir haben ein Kunden dictionary. In diesen Dictionary haben wir schon folgende Kunden: Siemens:'081612727387', BMW:'081612727337', Volkswagen:'081612727221', Kistenpfennig:'081612727992'.\n",
    "\n",
    "    Neuer Kunde hinzufuegen.\n",
    "    Kunde anrufen. (Telefonnummer ausgeben)\n",
    "\n",
    "Dieser Menue moechten wir jetzt programmieren. Wenn der benutzer als Wahl eingabe die '1' eingibt => soll der benutzer aufgefordert werden einen neuen Kundennammen einzugeben und eine telefonnummer die in unser dictionary gespeichert werden sollen.\n",
    "\n",
    "Eingabe 2: Telefonnumer von ein bestimmten Kunden ausgeben. Der benutzer muss daher den Kunde selber waehlen.\n",
    "\n",
    "Alle andere eingabe: ausgeben ungueltige eingabe.\n"
   ]
  },
  {
   "cell_type": "code",
   "execution_count": null,
   "id": "ab0205ee",
   "metadata": {},
   "outputs": [
    {
     "name": "stdout",
     "output_type": "stream",
     "text": [
      "Herzlich willkommen im Kunden-Management-System!\n",
      "1. Neuen Kunden hinzufügen\n",
      "2. Telefonnummer eines Kunden abrufen\n",
      "Ungültige Eingabe. Bitte wählen Sie 1 oder 2.\n"
     ]
    }
   ],
   "source": [
    "kunden = {\n",
    "    'Siemens': '081612727387',\n",
    "    'BMW': '081612727337',\n",
    "    'Volkswagen': '081612727221',\n",
    "    'Kistenpfennig': '081612727992'\n",
    "}\n",
    "\n",
    "print(\"Herzlich willkommen im Kunden-Management-System!\")\n",
    "print(\"1. Neuen Kunden hinzufügen\")\n",
    "print(\"2. Telefonnummer eines Kunden abrufen\")\n",
    "\n",
    "wahl = input(\"Geben Sie Ihre Wahl ein (1 oder 2): \")\n",
    "\n",
    "if wahl == '1':\n",
    "    kundenname = input(\"Geben Sie den Namen des neuen Kunden ein: \")\n",
    "    telefonnummer = input(\"Geben Sie die Telefonnummer ein: \")\n",
    "    kunden[kundenname] = telefonnummer\n",
    "    print(f\"Kunde '{kundenname}' mit Telefonnummer '{telefonnummer}' wurde hinzugefügt.\")\n",
    "    print(\"Aktuelle Kundenliste:\")\n",
    "    print(kunden)\n",
    "\n",
    "elif wahl == '2':\n",
    "    kundenname = input(\"Von welchem Kunden möchten Sie die Telefonnummer abrufen? \")\n",
    "    if kundenname in kunden:\n",
    "        telefonnummer = kunden[kundenname]\n",
    "        print(f\"Die Telefonnummer von '{kundenname}' lautet: {telefonnummer}\")\n",
    "    else:\n",
    "        print(f\"Kunde '{kundenname}' wurde nicht gefunden.\")\n",
    "\n",
    "else:\n",
    "    print(\"Ungültige Eingabe. Bitte erneut versuchen\")"
   ]
  }
 ],
 "metadata": {
  "kernelspec": {
   "display_name": "Python 3",
   "language": "python",
   "name": "python3"
  },
  "language_info": {
   "codemirror_mode": {
    "name": "ipython",
    "version": 3
   },
   "file_extension": ".py",
   "mimetype": "text/x-python",
   "name": "python",
   "nbconvert_exporter": "python",
   "pygments_lexer": "ipython3",
   "version": "3.13.5"
  }
 },
 "nbformat": 4,
 "nbformat_minor": 5
}
