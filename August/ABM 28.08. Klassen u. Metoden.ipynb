{
 "cells": [
  {
   "cell_type": "markdown",
   "id": "d45d057b",
   "metadata": {},
   "source": [
    "Aufgabe Bankkonto:\n",
    "Wir haben schon das grundgeruest von ein Bankkonto.\n",
    "Wir moechten diese Klasse erweitern um eine einzahlungs methode und eine auszahlungs methode zu haben.\n",
    "Einzahlen duerfen wir so viel wie wir wollen.\n",
    "Auszahlen duerfen wir nur maximal so viel wie im Konto drin steht. D.h. Kontostand darf nicht negativ werden!"
   ]
  },
  {
   "cell_type": "code",
   "execution_count": 59,
   "id": "4c23ba5f",
   "metadata": {},
   "outputs": [],
   "source": [
    "class Bankkonto:\n",
    "    def __init__(self,kontonummer,inhaber,saldo = 0):\n",
    "        self.kontonummer = kontonummer\n",
    "        self.inhaber = inhaber\n",
    "        self.saldo = saldo\n",
    "        self.dispo = 500.00\n",
    "        self.zinsen = 0.15\n",
    "        self.bank = \"Commerzbank\"\n",
    "        self.region = \"Flensburg\"\n",
    "        self.transaktionshistorie = []\n",
    "    \n",
    "\n",
    "    def einzahlen(self,betrag):\n",
    "        self.saldo += betrag\n",
    "        self.transaktionshistorie.append((\"Einzahlung:\" ,betrag,self.saldo))\n",
    "        print(f\"Neuer Kontostand nach Einzahlung: {self.saldo}\")\n",
    "\n",
    "    def abheben(self,betrag):\n",
    "        if betrag > self.saldo + self.dispo:\n",
    "            print(\"Nicht genug Guthaben auf dem Konto\")\n",
    "        else:\n",
    "            self.saldo -= betrag\n",
    "            self.transaktionshistorie.append((\"Abhebung:\" ,betrag,self.saldo)) \n",
    "            print(f\"Neuer Kontostand nach Abhebung: {self.saldo}\")\n",
    "\n",
    "    def konto_details(self):\n",
    "        print(f\"Kontonummer: {self.kontonummer}\\nInhaber: {self.inhaber}\\nSaldo: {self.saldo}\")\n",
    "    \n",
    "    def guthaben_details(self):\n",
    "        print(f\"Saldo: {self.saldo}\\nDispo: {self.dispo}\")   \n",
    "\n",
    "    def Transaktionen(self):\n",
    "        print(\"Transaktionshistorie:\")\n",
    "        for eintrag in self.transaktionshistorie:\n",
    "            print(eintrag)\n",
    "\n",
    "\n",
    "\n",
    "konto1 = Bankkonto(\"40050012\",\"Gottimperator\",1200.00)\n",
    "konto2 = Bankkonto(\"40050013\",\"Leto II\",2500.00)"
   ]
  },
  {
   "cell_type": "code",
   "execution_count": null,
   "id": "2e2841b3",
   "metadata": {},
   "outputs": [
    {
     "name": "stdout",
     "output_type": "stream",
     "text": [
      "Neuer Kontostand nach Einzahlung: 2200.0\n"
     ]
    }
   ],
   "source": [
    "\n",
    "konto1.einzahlen(float(input(\"Geben Sie den Betrag ein, den Sie einzahlen möchten: \")))"
   ]
  },
  {
   "cell_type": "code",
   "execution_count": null,
   "id": "51aa388a",
   "metadata": {},
   "outputs": [],
   "source": [
    "konto1.abheben(float(input(\"Geben Sie den Betrag ein, den Sie abheben möchten: \")))"
   ]
  },
  {
   "cell_type": "code",
   "execution_count": 62,
   "id": "4f546b85",
   "metadata": {},
   "outputs": [
    {
     "name": "stdout",
     "output_type": "stream",
     "text": [
      "Neuer Kontostand nach Einzahlung: 2100.0\n"
     ]
    }
   ],
   "source": [
    "konto1.einzahlen(300)"
   ]
  },
  {
   "cell_type": "code",
   "execution_count": 67,
   "id": "8cfc4358",
   "metadata": {},
   "outputs": [
    {
     "name": "stdout",
     "output_type": "stream",
     "text": [
      "Neuer Kontostand nach Abhebung: 1100.0\n"
     ]
    }
   ],
   "source": [
    "konto1.abheben(200)"
   ]
  },
  {
   "cell_type": "code",
   "execution_count": 69,
   "id": "d78a2e52",
   "metadata": {},
   "outputs": [
    {
     "name": "stdout",
     "output_type": "stream",
     "text": [
      "Transaktionshistorie:\n",
      "('Einzahlung:', 300, 1500.0)\n",
      "('Einzahlung:', 300, 1800.0)\n",
      "('Einzahlung:', 300, 2100.0)\n",
      "('Abhebung:', 200, 1900.0)\n",
      "('Abhebung:', 200, 1700.0)\n",
      "('Abhebung:', 200, 1500.0)\n",
      "('Abhebung:', 200, 1300.0)\n",
      "('Abhebung:', 200, 1100.0)\n"
     ]
    }
   ],
   "source": [
    "konto1.Transaktionen()"
   ]
  },
  {
   "cell_type": "code",
   "execution_count": 71,
   "id": "368705b6",
   "metadata": {},
   "outputs": [
    {
     "name": "stdout",
     "output_type": "stream",
     "text": [
      "Kontonummer: 40050013\n",
      "Inhaber: Leto II\n",
      "Saldo: 2500.0\n"
     ]
    }
   ],
   "source": [
    "konto2.konto_details()"
   ]
  },
  {
   "cell_type": "markdown",
   "id": "fc23cd6f",
   "metadata": {},
   "source": [
    "Aufgabe Kunde erstellen:\n",
    "Wir moechten jetzt die Klasse Kunde erstellen. Hier sollen alle notwendige Kunde informationen abgespeichert werden.\n",
    "\n",
    "Diese Klasse soll nur die Methode details_ausgeben haben.\n",
    "\n",
    "Beispielsvariablen:\n",
    "* vorname\n",
    "* nachname\n",
    "* adresse\n",
    "* telefonnummer"
   ]
  },
  {
   "cell_type": "code",
   "execution_count": null,
   "id": "f4e1e6f3",
   "metadata": {},
   "outputs": [],
   "source": [
    "import datetime\n",
    "\n",
    "class Kunde:\n",
    "    def __init__(self, vorname, nachname, geburtsdatum, adresse, telefonnummer, email):\n",
    "        self.vorname = vorname\n",
    "        self.nachname = nachname\n",
    "        self.geburtsdatum = geburtsdatum\n",
    "        self.alter = self.alter_berechnen()\n",
    "        self.adresse = adresse\n",
    "        self.telefonnummer = telefonnummer\n",
    "        self.email = email\n",
    "        self.name = vorname + \" \" + nachname\n",
    "        self.geschlecht = None\n",
    "\n",
    "\n",
    "    def alter_berechnen(self):\n",
    "        heute = datetime.date.today()\n",
    "        alter = heute.year - self.geburtsdatum.year\n",
    "        # Prüfe, ob der Geburtstag in diesem Jahr schon war\n",
    "        if (heute.month, heute.day) < (self.geburtsdatum.month, self.geburtsdatum.day):\n",
    "            alter -= 1\n",
    "        return alter\n",
    "\n",
    "    def Kundendetails(self):\n",
    "        print(f\"Name: {self.name}\\n Alter {self.alter}\\nAdresse: {self.adresse}\\nTelefonnummer: {self.telefonnummer}\\n E-Mail: {self.email}\\n Geschlecht: {self.geschlecht}\")"
   ]
  },
  {
   "cell_type": "markdown",
   "id": "844e561f",
   "metadata": {},
   "source": [
    "Aufgabe: \n",
    "Erstellt ein Klassendiagramm zu unsere Klassen Bankkonto und Kunde. Erstellt auch zusaetzlich im Klassendigramm die Klasse Bank.\n",
    "Ihr solltet selber ueberlegen was die verbindungen zwischen diese 3 Klassen sein sollen. Und welche attribute und methoden wo gehoeren."
   ]
  },
  {
   "cell_type": "markdown",
   "id": "06d211c6",
   "metadata": {},
   "source": [
    "Aufgabe 1: Basierend auf unser Klassendiagramm erstelle die Klasse Bank mit die angegebenen Attribute. Schreib noch keine Methoden!!!\n",
    "Mit Konstruktor\n",
    "Teil 2: \n",
    "Die Klasse Bankkonto und Kunde muessen wie in das Klassendiagramm aussehen. D.h. wenn wir eine variable in Bank haben und nicht mehr in Bankkonto dann soll es auch so im code sein."
   ]
  },
  {
   "cell_type": "code",
   "execution_count": null,
   "id": "8c5179dd",
   "metadata": {},
   "outputs": [],
   "source": [
    "###+ Name: String+ Leiter: String+ Adresse: String+ Region: String+ Bankkonten: Int+ Kunden_Liste: List+ Konten_Liste: List\n",
    "\n",
    "class Bank:\n",
    "    def __init__(self, name, leiter, adresse, region):\n",
    "        self.name = name\n",
    "        self.leiter = leiter\n",
    "        self.adresse = adresse\n",
    "        self.region = region\n",
    "        self.bankkonten = 0\n",
    "        self.kunden_liste = []\n",
    "        self.konten_liste = []\n",
    "\n",
    "    def konto_erstellen(self, kontonummer, inhaber:Kunde, saldo = 0):\n",
    "        neues_konto = Bankkonto(kontonummer, inhaber, saldo)\n",
    "        self.konten_liste.append(neues_konto)\n",
    "        self.bankkonten += 1\n",
    "        print(f\"Neues Konto erstellt für {inhaber.name} mit Kontonummer {kontonummer}\")\n",
    "        return neues_konto\n",
    "\n",
    "    def konto_löschen(self, kontonummer):\n",
    "        for konto in self.konten_liste:\n",
    "            if konto.kontonummer == kontonummer:\n",
    "                self.konten_liste.remove(konto)\n",
    "                self.bankkonten -= 1\n",
    "                print(f\"Konto mit Kontonummer {kontonummer} wurde gelöscht.\")\n",
    "                return True\n",
    "        print(f\"Konto mit Kontonummer {kontonummer} nicht gefunden.\")\n",
    "        return False\n",
    "\n",
    "    def kundennummer_generator(self):\n",
    "        import random\n",
    "        kundennummer = ''.join([str(random.randint(0, 9)) for _ in range(10)])\n",
    "        print(f\"Generierte Kundennummer: {kundennummer}\")\n",
    "        return kundennummer\n",
    "\n",
    "    def bank_details(self):\n",
    "        print(f\"Bankname: {self.name}\\n Leiter: {self.leiter}\\n Adresse: {self.adresse}\\n Region: {self.region}\\n Anzahl der Bankkonten: {self.bankkonten}\")    \n",
    "\n",
    "    def kunde_hinzufügen(self, vorname, nachname, geburtsdatum, adresse, telefonnummer, email):\n",
    "        neuer_kunde = Kunde(vorname, nachname, geburtsdatum, adresse, telefonnummer, email)\n",
    "        self.kunden_liste.append(neuer_kunde)\n",
    "        print(f\"Neuer Kunde hinzugefügt: {neuer_kunde.name}\")\n",
    "        return neuer_kunde\n",
    "    \n",
    "    def kunden_löschen(self, name):\n",
    "        for kunde in self.kunden_liste:\n",
    "            if kunde.name == name:\n",
    "                self.kunden_liste.remove(kunde)\n",
    "                print(f\"Kunde {name} wurde gelöscht.\")\n",
    "                return True\n",
    "        print(f\"Kunde {name} nicht gefunden.\")\n",
    "        return False\n",
    "    \n",
    "    def kontos_anzeigen(self):\n",
    "        print(\"Liste der Konten:\")\n",
    "        for konto in self.konten_liste:\n",
    "            print(f\"Kontonummer: {konto.kontonummer}, Inhaber: {konto.inhaber.name}, Saldo: {konto.saldo}\")\n",
    "    \n",
    "    def kunden_anzeigen(self):\n",
    "        print(\"Liste der Kunden:\")\n",
    "        for kunde in self.kunden_liste:\n",
    "            print(f\"Name: {kunde.name}, Alter: {kunde.alter}, Adresse: {kunde.adresse}, Telefonnummer: {kunde.telefonnummer}, E-Mail: {kunde.email}\")\n",
    "    \n",
    "\n",
    "    \n"
   ]
  }
 ],
 "metadata": {
  "kernelspec": {
   "display_name": "Python 3",
   "language": "python",
   "name": "python3"
  },
  "language_info": {
   "codemirror_mode": {
    "name": "ipython",
    "version": 3
   },
   "file_extension": ".py",
   "mimetype": "text/x-python",
   "name": "python",
   "nbconvert_exporter": "python",
   "pygments_lexer": "ipython3",
   "version": "3.13.5"
  }
 },
 "nbformat": 4,
 "nbformat_minor": 5
}
