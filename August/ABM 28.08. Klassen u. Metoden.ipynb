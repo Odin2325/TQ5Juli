{
 "cells": [
  {
   "cell_type": "markdown",
   "id": "d45d057b",
   "metadata": {},
   "source": [
    "Aufgabe Bankkonto:\n",
    "Wir haben schon das grundgeruest von ein Bankkonto.\n",
    "Wir moechten diese Klasse erweitern um eine einzahlungs methode und eine auszahlungs methode zu haben.\n",
    "Einzahlen duerfen wir so viel wie wir wollen.\n",
    "Auszahlen duerfen wir nur maximal so viel wie im Konto drin steht. D.h. Kontostand darf nicht negativ werden!"
   ]
  },
  {
   "cell_type": "code",
   "execution_count": 59,
   "id": "4c23ba5f",
   "metadata": {},
   "outputs": [],
   "source": [
    "class Bankkonto:\n",
    "    def __init__(self,kontonummer,inhaber,saldo = 0):\n",
    "        self.kontonummer = kontonummer\n",
    "        self.inhaber = inhaber\n",
    "        self.saldo = saldo\n",
    "        self.dispo = 500.00\n",
    "        self.zinsen = 0.15\n",
    "        self.bank = \"Commerzbank\"\n",
    "        self.region = \"Flensburg\"\n",
    "        self.transaktionshistorie = []\n",
    "    \n",
    "\n",
    "    def einzahlen(self,betrag):\n",
    "        self.saldo += betrag\n",
    "        self.transaktionshistorie.append((\"Einzahlung:\" ,betrag,self.saldo))\n",
    "        print(f\"Neuer Kontostand nach Einzahlung: {self.saldo}\")\n",
    "\n",
    "    def abheben(self,betrag):\n",
    "        if betrag > self.saldo + self.dispo:\n",
    "            print(\"Nicht genug Guthaben auf dem Konto\")\n",
    "        else:\n",
    "            self.saldo -= betrag\n",
    "            self.transaktionshistorie.append((\"Abhebung:\" ,betrag,self.saldo)) \n",
    "            print(f\"Neuer Kontostand nach Abhebung: {self.saldo}\")\n",
    "\n",
    "    def konto_details(self):\n",
    "        print(f\"Kontonummer: {self.kontonummer}\\nInhaber: {self.inhaber}\\nSaldo: {self.saldo}\")\n",
    "    \n",
    "    def guthaben_details(self):\n",
    "        print(f\"Saldo: {self.saldo}\\nDispo: {self.dispo}\")   \n",
    "\n",
    "    def Transaktionen(self):\n",
    "        print(\"Transaktionshistorie:\")\n",
    "        for eintrag in self.transaktionshistorie:\n",
    "            print(eintrag)\n",
    "\n",
    "\n",
    "\n",
    "konto1 = Bankkonto(\"40050012\",\"Gottimperator\",1200.00)\n",
    "konto2 = Bankkonto(\"40050013\",\"Leto II\",2500.00)"
   ]
  },
  {
   "cell_type": "code",
   "execution_count": null,
   "id": "2e2841b3",
   "metadata": {},
   "outputs": [
    {
     "name": "stdout",
     "output_type": "stream",
     "text": [
      "Neuer Kontostand nach Einzahlung: 2200.0\n"
     ]
    }
   ],
   "source": [
    "\n",
    "konto1.einzahlen(float(input(\"Geben Sie den Betrag ein, den Sie einzahlen möchten: \")))"
   ]
  },
  {
   "cell_type": "code",
   "execution_count": null,
   "id": "51aa388a",
   "metadata": {},
   "outputs": [],
   "source": [
    "konto1.abheben(float(input(\"Geben Sie den Betrag ein, den Sie abheben möchten: \")))"
   ]
  },
  {
   "cell_type": "code",
   "execution_count": 62,
   "id": "4f546b85",
   "metadata": {},
   "outputs": [
    {
     "name": "stdout",
     "output_type": "stream",
     "text": [
      "Neuer Kontostand nach Einzahlung: 2100.0\n"
     ]
    }
   ],
   "source": [
    "konto1.einzahlen(300)"
   ]
  },
  {
   "cell_type": "code",
   "execution_count": 67,
   "id": "8cfc4358",
   "metadata": {},
   "outputs": [
    {
     "name": "stdout",
     "output_type": "stream",
     "text": [
      "Neuer Kontostand nach Abhebung: 1100.0\n"
     ]
    }
   ],
   "source": [
    "konto1.abheben(200)"
   ]
  },
  {
   "cell_type": "code",
   "execution_count": 69,
   "id": "d78a2e52",
   "metadata": {},
   "outputs": [
    {
     "name": "stdout",
     "output_type": "stream",
     "text": [
      "Transaktionshistorie:\n",
      "('Einzahlung:', 300, 1500.0)\n",
      "('Einzahlung:', 300, 1800.0)\n",
      "('Einzahlung:', 300, 2100.0)\n",
      "('Abhebung:', 200, 1900.0)\n",
      "('Abhebung:', 200, 1700.0)\n",
      "('Abhebung:', 200, 1500.0)\n",
      "('Abhebung:', 200, 1300.0)\n",
      "('Abhebung:', 200, 1100.0)\n"
     ]
    }
   ],
   "source": [
    "konto1.Transaktionen()"
   ]
  },
  {
   "cell_type": "code",
   "execution_count": 71,
   "id": "368705b6",
   "metadata": {},
   "outputs": [
    {
     "name": "stdout",
     "output_type": "stream",
     "text": [
      "Kontonummer: 40050013\n",
      "Inhaber: Leto II\n",
      "Saldo: 2500.0\n"
     ]
    }
   ],
   "source": [
    "konto2.konto_details()"
   ]
  },
  {
   "cell_type": "markdown",
   "id": "fc23cd6f",
   "metadata": {},
   "source": []
  },
  {
   "cell_type": "code",
   "execution_count": null,
   "id": "f4e1e6f3",
   "metadata": {},
   "outputs": [],
   "source": [
    "class Kunde:\n",
    "    def __init__(self, name, adresse, telefonnummer):\n",
    "        self.name = name\n",
    "        self.adresse = adresse\n",
    "        self.telefonnummer = telefonnummer\n",
    "        self.email = \"\"\n",
    "        self.konten = []\n",
    "\n",
    "\n",
    "    def Kundendetails(self):\n",
    "        print(f\"Name: {self.name}\\nAdresse: {self.adresse}\\nTelefonnummer: {self.telefonnummer}\")"
   ]
  }
 ],
 "metadata": {
  "kernelspec": {
   "display_name": "Python 3",
   "language": "python",
   "name": "python3"
  },
  "language_info": {
   "codemirror_mode": {
    "name": "ipython",
    "version": 3
   },
   "file_extension": ".py",
   "mimetype": "text/x-python",
   "name": "python",
   "nbconvert_exporter": "python",
   "pygments_lexer": "ipython3",
   "version": "3.13.5"
  }
 },
 "nbformat": 4,
 "nbformat_minor": 5
}
