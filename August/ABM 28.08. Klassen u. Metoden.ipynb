{
 "cells": [
  {
   "cell_type": "markdown",
   "id": "d45d057b",
   "metadata": {},
   "source": [
    "Aufgabe Bankkonto:\n",
    "Wir haben schon das grundgeruest von ein Bankkonto.\n",
    "Wir moechten diese Klasse erweitern um eine einzahlungs methode und eine auszahlungs methode zu haben.\n",
    "Einzahlen duerfen wir so viel wie wir wollen.\n",
    "Auszahlen duerfen wir nur maximal so viel wie im Konto drin steht. D.h. Kontostand darf nicht negativ werden!"
   ]
  },
  {
   "cell_type": "code",
   "execution_count": null,
   "id": "4c23ba5f",
   "metadata": {},
   "outputs": [],
   "source": [
    "class Bankkonto:\n",
    "    def __init__(self,kontonummer,inhaber,saldo):\n",
    "        self.kontonummer = \"40050012\"\n",
    "        self.inhaber = \"Gottimperator\"\n",
    "        self.saldo = 1200\n",
    "        self.dispo = 500\n",
    "        self.zinsen = 0.15\n",
    "        self.bank = \"Commerzbank\"\n",
    "        self.region = \"Flensburg\"\n",
    "        self.kontonummer = \"DE6500400500123456789\"\n",
    "\n",
    "    def einzahlen(self,betrag):\n",
    "        self.saldo += betrag\n",
    "        print(f\"Neuer Kontostand nach Einzahlung: {self.saldo}\")\n",
    "\n",
    "    def abheben(self,betrag):\n",
    "        if betrag > self.saldo + self.dispo:\n",
    "            print(\"Nicht genug Guthaben auf dem Konto\")\n",
    "        else:\n",
    "            self.saldo -= betrag\n",
    "            print(f\"Neuer Kontostand nach Abhebung: {self.saldo}\")\n",
    "\n",
    "    def konto_details(self):\n",
    "        print(f\"Kontonummer: {self.kontonummer}\\nInhaber: {self.inhaber}\\nSaldo: {self.saldo}\")"
   ]
  }
 ],
 "metadata": {
  "language_info": {
   "name": "python"
  }
 },
 "nbformat": 4,
 "nbformat_minor": 5
}
