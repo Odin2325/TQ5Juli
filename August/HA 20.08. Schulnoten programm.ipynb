{
 "cells": [
  {
   "cell_type": "markdown",
   "id": "e2d76fc5",
   "metadata": {},
   "source": [
    "Aufgabe 1 Notenverwaltung für eine Klasse:\n",
    "Szenario:\n",
    "Eine Lehrerin möchte die Noten ihrer Schüler speichern und auswerten. Du sollst ein kleines\n",
    "Programm schreiben, das ihr dabei hilft.\n",
    "Aufgabe:\n",
    "1. Frage die Benutzerin, wie viele Schüler es gibt.\n",
    "2. Lasse sie für jeden Schüler einen Namen und eine Note (zwischen 1 und 6) eingeben.\n",
    "a. Speichere die Namen in einer Liste namen.\n",
    "b. Speichere die Noten in einer Liste noten.\n",
    "3. Verwende eine for-Schleife, um:\n",
    "a. alle Schüler mit Namen und Note auszugeben.\n",
    "b. die Durchschnittsnote der Klasse zu berechnen.\n",
    "c. die beste Note und den dazugehörigen Schüler anzuzeigen.\n",
    "d. die schlechteste Note und den dazugehörigen Schüler anzuzeigen.\n",
    "Beispiel ein/ausgaben\n",
    "Wie viele Schüler gibt es? 4\n",
    "Name von Schüler 1: Anna\n",
    "Note von Anna: 2\n",
    "Name von Schüler 2: Ben\n",
    "Note von Ben: 3\n",
    "Name von Schüler 3: Clara\n",
    "Note von Clara: 1\n",
    "Name von Schüler 4: David\n",
    "Note von David: 4\n",
    "Alle Schüler:\n",
    "Anna -> 2\n",
    "Ben -> 3\n",
    "Clara -> 1\n",
    "David -> 4\n",
    "Durchschnittsnote: 2.5\n",
    "Beste Note: Clara mit 1\n",
    "Schlechteste Note: David mit 4"
   ]
  },
  {
   "cell_type": "code",
   "execution_count": null,
   "id": "ffd7b1ff",
   "metadata": {},
   "outputs": [],
   "source": [
    "schueleranzahl = 0\n",
    "schueleranzahl = int(input(\"Geben Sie die Anzahl der Schüler ein: \")) \n",
    "schuelernamen = []\n",
    "schuelernoten = []\n",
    "\n",
    "for anzahl in range(schueleranzahl):\n",
    "    schuelernamen.append(input(\"Geben Sie den Namen des Schülers ein: \").capitalize().strip())\n",
    "    schuelernoten.append(float(input(f\"Geben Sie die Note für Schüler {schuelernamen[0]} ein: \")))\n",
    "\n",
    "for i, (schueler, note) in enumerate(zip(schuelernamen, schuelernoten)):\n",
    "    print(f\"Name von Schüler {i+1}: {schueler},\\nNote von {schueler}: {note:.1f}\")\n",
    "summe = sum(schuelernoten)\n",
    "durchschnitt = summe / schueleranzahl\n",
    "print(f\"Die Durchschnittsnote der Klasse beträgt: {durchschnitt}.\")\n",
    "\n",
    "print(f\"Beste Note: {schuelernamen[schuelernoten.index(min(schuelernoten))]} mit {min(schuelernoten)}.\")\n",
    "\n",
    "print(f\"Schlechteste Note: {schuelernamen[schuelernoten.index(max(schuelernoten))]} mit {max(schuelernoten)}.\")"
   ]
  }
 ],
 "metadata": {
  "kernelspec": {
   "display_name": "Python 3",
   "language": "python",
   "name": "python3"
  },
  "language_info": {
   "codemirror_mode": {
    "name": "ipython",
    "version": 3
   },
   "file_extension": ".py",
   "mimetype": "text/x-python",
   "name": "python",
   "nbconvert_exporter": "python",
   "pygments_lexer": "ipython3",
   "version": "3.13.5"
  }
 },
 "nbformat": 4,
 "nbformat_minor": 5
}
