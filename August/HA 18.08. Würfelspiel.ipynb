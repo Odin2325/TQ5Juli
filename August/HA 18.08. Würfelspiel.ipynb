{
 "cells": [
  {
   "cell_type": "markdown",
   "id": "0f51a1b9",
   "metadata": {},
   "source": [
    "1. Mit „from random import *“ und dann randint(1,7) Methode simulieren wir den Wurf\n",
    "von drei sechsseitigen Würfeln.\n",
    "2. Wir werten die gewürfelten Werte aus, um die Punktzahl zu berechnen.\n",
    "3. Die Ausgabe der Summe soll so aussehen:\n",
    "1. Wurf: 4 + 5 + 2 = 11\n",
    "4. Wenn die Augenzahl auf zwei Würfeln identisch ist, erhalten wir zwei Bonuspunkte für\n",
    "einen Zweierpasch.\n",
    "5. Wenn die Augenzahl auf allen drei Würfeln identisch ist, erhalten wir sechs\n",
    "Bonuspunkte für einen Dreierpasch.\n",
    "6. Wenn wir Bonuspunkte bekommen, dann sollen wir nicht nur unsere Summe um den\n",
    "Wert erhöht, sondern wir sollen auch ausgeben, dass wir den Bonus bekommen.\n",
    "7. Wenn die Summe der Augenzahlen der drei Würfel und aller Bonuspunkte mindestens\n",
    "15 ist, gewinnen wir das Spiel. Andernfalls verlieren wir."
   ]
  },
  {
   "cell_type": "code",
   "execution_count": 15,
   "id": "d384db25",
   "metadata": {},
   "outputs": [
    {
     "name": "stdout",
     "output_type": "stream",
     "text": [
      "2 + 1 + 4 = 7\n",
      "keine Bonuspunkte!\n",
      "Endstand: 7\n",
      "Leider verloren, versuchen Sie es noch einmal!\n"
     ]
    }
   ],
   "source": [
    "from random import *\n",
    "\n",
    "throw1 = randint(1, 6)\n",
    "throw2 = randint(1, 6)\n",
    "throw3 = randint(1, 6)  \n",
    "\n",
    "score = throw1 + throw2 + throw3\n",
    "\n",
    "print(str(throw1) + \" + \" + str(throw2) + \" + \" + str(throw3) + \" = \" + str(score))\n",
    "\n",
    "if throw1 == throw2 or throw2 == throw3 or throw1 == throw3:\n",
    "    print(\"zwei Bonuspunkte für einen Zweierpasch!\")\n",
    "    score += 2\n",
    "elif throw1 == throw2 == throw3:\n",
    "    print(\"sechs Bonuspunkte für einen Dreierpasch!\")\n",
    "    score += 6\n",
    "else:\n",
    "    print(\"keine Bonuspunkte!\")\n",
    "\n",
    "print(\"Endstand: \" + str(score)) \n",
    "\n",
    "if score >= 15:\n",
    "    print(\"Herzlichen Glückwunsch, Sie haben gewonnen!\")\n",
    "else:\n",
    "    print(\"Leider verloren, versuchen Sie es noch einmal!\")"
   ]
  },
  {
   "cell_type": "markdown",
   "id": "578bb4ba",
   "metadata": {},
   "source": [
    "Geschachtelter Entscheidungslogik mit if,\n",
    "else if und else\n",
    "• Die Boni sollten nicht aufeinander Summiert werden.\n",
    "• Durch die Schachtelung können wir Codeblöcke innerhalb von Codeblöcken platzieren. In\n",
    "diesem Fall schachteln wir eine if- und else-Kombination (die Überprüfung auf\n",
    "Zweierpasche) in einer anderen if-Anweisung (die Überprüfung auf Dreierpasche), um zu\n",
    "verhindern, dass beide als Bonus berechnet werden.\n",
    "• Wir ändern das Spiel so, dass es nicht mehr nur um Sieg oder Niederlage geht, sondern\n",
    "für jedes Ergebnis fiktive Preise vergeben werden, damit es noch mehr Spaß macht. Wir\n",
    "können vier Preise anbieten. Der Spieler sollte jedoch nur einen Preis gewinnen:\n",
    "• Wenn die Punktzahl des Spielers mehr als oder gleich 16 ist, gewinnt er ein neues Auto.\n",
    "• Wenn die Punktzahl des Spielers mehr als oder gleich 10 ist, gewinnt er einen neuen Laptop.\n",
    "• Wenn der Spieler genau 7 erzielt, gewinnt er eine Reise.\n",
    "• Andernfalls gewinnt der Spieler ein Kätzchen."
   ]
  },
  {
   "cell_type": "code",
   "execution_count": 66,
   "id": "2bc84d34",
   "metadata": {},
   "outputs": [
    {
     "name": "stdout",
     "output_type": "stream",
     "text": [
      "1 + 2 + 2 = 5\n",
      "zwei Bonuspunkte für einen Zweierpasch!\n",
      "Endstand: 7\n",
      "Herzlichen Glückwunsch, Sie haben eine Reise gewonnen!\n"
     ]
    }
   ],
   "source": [
    "from random import *\n",
    "\n",
    "throw1 = randint(1, 6)\n",
    "throw2 = randint(1, 6)\n",
    "throw3 = randint(1, 6)  \n",
    "\n",
    "score = throw1 + throw2 + throw3\n",
    "\n",
    "print(str(throw1) + \" + \" + str(throw2) + \" + \" + str(throw3) + \" = \" + str(score))\n",
    "\n",
    "if  throw1 == throw2 == throw3:\n",
    "    print(\"sechs Bonuspunkte für einen Dreierpasch!\")\n",
    "    score += 6\n",
    "elif throw1 == throw2 or throw2 == throw3 or throw1 == throw3:\n",
    "    print(\"zwei Bonuspunkte für einen Zweierpasch!\")\n",
    "    score += 2\n",
    "else:\n",
    "    print(\"keine Bonuspunkte!\")\n",
    "\n",
    "print(\"Endstand: \" + str(score)) \n",
    "\n",
    "if score >= 16:\n",
    "    print(\"Herzlichen Glückwunsch, Sie haben ein neues Auto gewonnen!\")\n",
    "elif score >= 10 and score < 16: \n",
    "    print(\"Herzlichen Glückwunsch, Sie haben ein neuen Laptop gewonnen!\")\n",
    "elif score == 7:\n",
    "    print(\"Herzlichen Glückwunsch, Sie haben eine Reise gewonnen!\")\n",
    "else:\n",
    "    print(\"Herzlichen Glückwunsch, Sie haben ein Kätzchen gewonnen!\")"
   ]
  }
 ],
 "metadata": {
  "kernelspec": {
   "display_name": "Python 3",
   "language": "python",
   "name": "python3"
  },
  "language_info": {
   "codemirror_mode": {
    "name": "ipython",
    "version": 3
   },
   "file_extension": ".py",
   "mimetype": "text/x-python",
   "name": "python",
   "nbconvert_exporter": "python",
   "pygments_lexer": "ipython3",
   "version": "3.13.5"
  }
 },
 "nbformat": 4,
 "nbformat_minor": 5
}
