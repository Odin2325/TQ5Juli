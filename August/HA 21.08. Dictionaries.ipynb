{
 "cells": [
  {
   "cell_type": "markdown",
   "id": "da963231",
   "metadata": {},
   "source": [
    "Aufgabe Einkaufsliste mit Preisen:\n",
    "Erstelle ein Dictionary mit einigen Produkten und ihren Preisen (z. B. \"Apfel\": 0.5, \"Banane\":\n",
    "0.8, \"Milch\": 1.2).\n",
    "• Lasse den Benutzer nacheinander Produkte eingeben, die er kaufen möchte.\n",
    "• Wenn das Produkt existiert, addiere den Preis zum Gesamtkostenbetrag.\n",
    "• Wenn das Produkt nicht existiert, gib eine Meldung aus.\n",
    "• Der Benutzer kann mit \"Ende\" die Eingabe beenden.\n",
    "• Gib am Ende die Gesamtkosten aus.\n",
    "Beispiel ausfuehrung:\n",
    "Produkt eingeben (oder 'Ende' zum Beenden): Apfel\n",
    "Produkt eingeben (oder 'Ende' zum Beenden): Milch\n",
    "Produkt eingeben (oder 'Ende' zum Beenden): Schokolade\n",
    "Schokolade ist nicht im Sortiment.\n",
    "Produkt eingeben (oder 'Ende' zum Beenden): Ende\n",
    "Gesamtkosten: 1.7 €"
   ]
  },
  {
   "cell_type": "code",
   "execution_count": 12,
   "id": "f2d1ce09",
   "metadata": {},
   "outputs": [
    {
     "name": "stdout",
     "output_type": "stream",
     "text": [
      "Produkte im Sortiment:\n",
      "Apfel, 0,5€ \n",
      "Banane, 0,8€\n",
      "Milch, 1.2€\n",
      "Geben Sie 'Ende' ein, um die Eingabe zu beenden.\n",
      "Apfel ist nicht im Sortiment.\n",
      "Milch ist nicht im Sortiment.\n",
      "Gesamtkosten: 0.00 Euro\n"
     ]
    }
   ],
   "source": [
    "produkte = {\n",
    "    'Apfel': '0.50',\n",
    "    'Banane': '0.80',\n",
    "    'Milch': '1.20'\n",
    "    },\n",
    "\n",
    "gesamtpreis = 0.0\n",
    "\n",
    "print(\"Produkte im Sortiment:\\nApfel, 0,5€ \\nBanane, 0,8€\\nMilch, 1.2€\\nGeben Sie 'Ende' ein, um die Eingabe zu beenden.\")\n",
    "\n",
    "while True:  \n",
    "\n",
    "    produkt = input(\"Produkt eingeben: \").capitalize().strip()\n",
    "\n",
    "    if produkt == 'Ende':\n",
    "        print(f\"Gesamtkosten: {gesamtpreis:.2f} Euro\")\n",
    "        break\n",
    "    elif produkt in produkte:\n",
    "        preis = float(produkte[produkt])\n",
    "        gesamtpreis += preis\n",
    "    else:\n",
    "        print(f\"{produkt} ist nicht im Sortiment.\")\n",
    "\n"
   ]
  }
 ],
 "metadata": {
  "kernelspec": {
   "display_name": "Python 3",
   "language": "python",
   "name": "python3"
  },
  "language_info": {
   "codemirror_mode": {
    "name": "ipython",
    "version": 3
   },
   "file_extension": ".py",
   "mimetype": "text/x-python",
   "name": "python",
   "nbconvert_exporter": "python",
   "pygments_lexer": "ipython3",
   "version": "3.13.5"
  }
 },
 "nbformat": 4,
 "nbformat_minor": 5
}
