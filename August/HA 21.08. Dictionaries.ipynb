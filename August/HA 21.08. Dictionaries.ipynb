{
 "cells": [
  {
   "cell_type": "markdown",
   "id": "da963231",
   "metadata": {},
   "source": [
    "Aufgabe Einkaufsliste mit Preisen:\n",
    "Erstelle ein Dictionary mit einigen Produkten und ihren Preisen (z. B. \"Apfel\": 0.5, \"Banane\":\n",
    "0.8, \"Milch\": 1.2).\n",
    "• Lasse den Benutzer nacheinander Produkte eingeben, die er kaufen möchte.\n",
    "• Wenn das Produkt existiert, addiere den Preis zum Gesamtkostenbetrag.\n",
    "• Wenn das Produkt nicht existiert, gib eine Meldung aus.\n",
    "• Der Benutzer kann mit \"Ende\" die Eingabe beenden.\n",
    "• Gib am Ende die Gesamtkosten aus.\n",
    "Beispiel ausfuehrung:\n",
    "Produkt eingeben (oder 'Ende' zum Beenden): Apfel\n",
    "Produkt eingeben (oder 'Ende' zum Beenden): Milch\n",
    "Produkt eingeben (oder 'Ende' zum Beenden): Schokolade\n",
    "Schokolade ist nicht im Sortiment.\n",
    "Produkt eingeben (oder 'Ende' zum Beenden): Ende\n",
    "Gesamtkosten: 1.7 €"
   ]
  },
  {
   "cell_type": "code",
   "execution_count": 9,
   "id": "f2d1ce09",
   "metadata": {},
   "outputs": [
    {
     "name": "stdout",
     "output_type": "stream",
     "text": [
      "Produkt eingeben (oder 'Ende' zum Beenden):\n",
      "Produkt eingeben (oder 'Ende' zum Beenden): Apfel\n",
      "Produkt eingeben (oder 'Ende' zum Beenden): Milch\n",
      "\n",
      "\n",
      "Gesamtkosten: 1.70 Euro\n"
     ]
    }
   ],
   "source": [
    "produkte = {\n",
    "    'Apfel': '0.50',\n",
    "    'Banane': '0.80',\n",
    "    'Milch': '1.20'\n",
    "    }\n",
    "\n",
    "gesamtpreis = 0.0\n",
    "\n",
    "print(f\"Produkt eingeben (oder 'Ende' zum Beenden):\")\n",
    "\n",
    "while True:  \n",
    "\n",
    "    produkt = input(\"Produkt eingeben: \").capitalize().strip()\n",
    "\n",
    "    if produkt == 'Ende':\n",
    "        print(f\"\\n\\nGesamtkosten: {gesamtpreis:.2f} Euro\")\n",
    "        break\n",
    "    elif produkt in produkte:\n",
    "        preis = float(produkte[produkt])\n",
    "        gesamtpreis += preis\n",
    "        print(f\"Produkt eingeben (oder 'Ende' zum Beenden): {produkt}\")\n",
    "    else:\n",
    "        print(f\"{produkt} ist nicht im Sortiment.\")\n",
    "\n"
   ]
  },
  {
   "cell_type": "markdown",
   "id": "fa061a76",
   "metadata": {},
   "source": [
    "Aufgabe Haeufigkeit der Buchstaben zaehlen\n",
    "• Lasse den Benutzer einen Text eingeben.\n",
    "• Zähle mit einem Dictionary, wie oft jeder Buchstabe vorkommt (Groß- und\n",
    "Kleinschreibung ignorieren).\n",
    "• Hinweis: Jeder buchstabe den wir einlesen durch eine schleife kann zu ein dictionary\n",
    "hinzugefuegt werden mit den wert: anzahl."
   ]
  },
  {
   "cell_type": "code",
   "execution_count": 14,
   "id": "fec8f548",
   "metadata": {},
   "outputs": [
    {
     "name": "stdout",
     "output_type": "stream",
     "text": [
      "{'g': 5, 'k': 4, 'd': 3, 'r': 2, 'e': 1}\n"
     ]
    }
   ],
   "source": [
    "text = input(\"Gib einen Text ein: \").lower()\n",
    "number_letter = {}\n",
    "\n",
    "for char in text:\n",
    "    if char in number_letter:\n",
    "        number_letter[char] += 1\n",
    "    else:\n",
    "        number_letter[char] = 1\n",
    "print(number_letter)"
   ]
  }
 ],
 "metadata": {
  "kernelspec": {
   "display_name": "Python 3",
   "language": "python",
   "name": "python3"
  },
  "language_info": {
   "codemirror_mode": {
    "name": "ipython",
    "version": 3
   },
   "file_extension": ".py",
   "mimetype": "text/x-python",
   "name": "python",
   "nbconvert_exporter": "python",
   "pygments_lexer": "ipython3",
   "version": "3.13.5"
  }
 },
 "nbformat": 4,
 "nbformat_minor": 5
}
