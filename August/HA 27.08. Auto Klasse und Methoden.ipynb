{
 "cells": [
  {
   "cell_type": "markdown",
   "id": "b8506f3b",
   "metadata": {},
   "source": [
    "Aufgabe 1: Auto klasse erstellen. Hier muessen wir selber eigenschaften im Konstruktor definieren. Stellt fest, dass die eigenschaft aktuelle_geschwindigkeit auch existiert. Andere notwendige attribute: geparkt und angeschaltet. \n",
    "\n",
    "1. Schneller fahren duerfen wir nur, wenn das auto nicht geparkt ist und angeschaltet ist.\n",
    "2. schneller_fahren(grenze) => Diese Methode soll die aktuelle geschwindigkeit erhoehen jeweils um 5 und dieser Wert soll immer ausgegeben werden auf die konsole. Es soll die geschwindigkeit bis zu eine grenze erhoehen.\n",
    "3. bremsen(grenze) => Diese Methode soll die aktuelle geschwindigkeit verringern jeweils um 5 und dieser Wert soll immer ausgegeben werden auf die konsole. Es soll die geschwindigkeit bis zu eine grenze verringern. Wichtig: Darf nicht unter 0.\n",
    "4. Hinweis: Eine funktion jeweils schreiben fuer anschalten und parken."
   ]
  },
  {
   "cell_type": "code",
   "execution_count": null,
   "id": "633be27c",
   "metadata": {},
   "outputs": [],
   "source": [
    "class Auto:\n",
    "\n",
    "    #Konstruktor\n",
    "    def __init__(self,farbe,preis):\n",
    "        self.preis = preis\n",
    "        self.farbe = farbe\n",
    "        self.karosserie = \"coupé\"\n",
    "        self.modelle = \"B4\"\n",
    "        self.anzahl_tuere = 2\n",
    "        self.reiffen_marke = \"Continental\"\n",
    "        self.marke = \"Alpina\"\n",
    "        self.treibstoff = \"Benzin\"\n",
    "        self.hubraum = 2994\n",
    "        self.leistung = 462\n",
    "        self.kraftstoffverbrauch = 10.5\n",
    "        self.max_geschwindigkeit = 250\n",
    "        self.EZ = 2017\n",
    "        self.aktuelle_geschwindigkeit = 0\n",
    "        self.geparkt = True\n",
    "        self.motor_laeuft = False\n",
    "\n",
    "    def motor_starten(self):\n",
    "        if not self.motor_laeuft and self.geparkt:\n",
    "            self.motor_laeuft = True\n",
    "            self.geparkt = False\n",
    "            print(\"Der Motor laeuft jetzt\")\n",
    "        else:\n",
    "            print(\"Der Motor laeuft schon\")\n",
    "    \n",
    "    def beschleunigen(self):\n",
    "        if self.motor_laeuft and not self.geparkt and self.aktuelle_geschwindigkeit < self.max_geschwindigkeit:\n",
    "            self.aktuelle_geschwindigkeit + 5\n",
    "            print(f'Die aktuelle Geschwindigkeit ist {self.aktuelle_geschwindigkeit} km/h')\n",
    "        else:\n",
    "            print(\"Das Auto muss erst losfahren\")\n",
    "    \n",
    "    def bremsen(self):\n",
    "        if self.aktuelle_geschwindigkeit >= 5:\n",
    "            self.aktuelle_geschwindigkeit - 5\n",
    "            print(f'Die aktuelle Geschwindigkeit ist {self.aktuelle_geschwindigkeit} km/h')\n",
    "        else:\n",
    "            print(\"Das Auto steht schon\")\n",
    "    \n",
    "    def parken(self):\n",
    "        if not self.geparkt and self.aktuelle_geschwindigkeit == 0:\n",
    "            self.geparkt = True\n",
    "            self.motor_laeuft = False\n",
    "            print(\"Das Auto ist jetzt geparkt\")\n",
    "        else:\n",
    "            print(\"Das Auto muss erst anhalten um zu parken\") "
   ]
  }
 ],
 "metadata": {
  "language_info": {
   "name": "python"
  }
 },
 "nbformat": 4,
 "nbformat_minor": 5
}
