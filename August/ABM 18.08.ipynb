{
 "cells": [
  {
   "cell_type": "code",
   "execution_count": null,
   "id": "51b8d5d6",
   "metadata": {},
   "outputs": [],
   "source": [
    "kontotyp = input(\"Was fuer ein Bankkonto hast du?\")\n",
    "\n",
    "if kontotyp == 'Debitkonto':\n",
    "    print('Sie haben ein Debitkonto, der Kontostand darf nicht unter 0!')\n",
    "elif kontotyp == 'Girokonto':\n",
    "    print('Das ist ein Girokonto. Viel spass!')\n",
    "elif kontotyp == 'Kreditkonto':\n",
    "    print('Der Kontostand darf unter 0 sein. Sie muessen jedoch interest von 0.5% darauf zahlen.')\n",
    "else:\n",
    "    print('Kontotyp ungueltig.')"
   ]
  },
  {
   "cell_type": "markdown",
   "id": "1fab657b",
   "metadata": {},
   "source": [
    "\n",
    "\n",
    "if muss mindestens einmal vorkommen in ein if-block\n",
    "\n",
    "elif darf so oft wie wir moechten definiert werden. 0 bis unendlich oft.\n",
    "\n",
    "else darf maximal 1 mal vorkommen. 0 oder 1 mal.\n"
   ]
  },
  {
   "cell_type": "code",
   "execution_count": null,
   "id": "89f359b7",
   "metadata": {},
   "outputs": [],
   "source": [
    "saison = input('Geben Sie die Saison ein:')\n",
    "\n",
    "if saison == 'Herbst':\n",
    "    print('Es ist aktuell Herbst')\n",
    "elif saison == 'Winter':\n",
    "    print('Es ist aktuell Winter')\n",
    "\n",
    "if saison == 'Herbst' or saison == 'Fruehling':\n",
    "    print('Die regnerische Monate')\n",
    "else:\n",
    "    print('Sehr hohe oder niedrige Temperaturen')\n",
    "\n",
    "if type(saison) == str:\n",
    "    print('Saison besteht aus eine Zeichenkette')"
   ]
  },
  {
   "cell_type": "code",
   "execution_count": null,
   "id": "66c50389",
   "metadata": {},
   "outputs": [],
   "source": [
    "#saison = Hallo!\n",
    "#Indizes  012345\n",
    "#NegInd-  654321\n",
    "\n",
    "\n",
    "saison[-2:] == 'r!'"
   ]
  },
  {
   "cell_type": "code",
   "execution_count": 12,
   "id": "af6ebca7",
   "metadata": {},
   "outputs": [
    {
     "name": "stdout",
     "output_type": "stream",
     "text": [
      "Validen Bezeichner\n",
      "Bestellung gueltig!\n"
     ]
    }
   ],
   "source": [
    "bestellung1 = input()\n",
    "bestellung2 = 'B10242'\n",
    "bestellung3 = 'B10243'\n",
    "\n",
    "\n",
    "if bestellung2[0:5]=='B1024':\n",
    "    print('Validen Bezeichner')\n",
    "    if len(bestellung2) == 6:\n",
    "        print('Bestellung gueltig!')"
   ]
  },
  {
   "cell_type": "markdown",
   "id": "97cad78b",
   "metadata": {},
   "source": [
    "Aufgabe 1 Strings und Bedingungen.\n",
    " \n",
    "* Bestimme ob ein string der als input eingegeben wird\n",
    "* mit einem \".\" endet oder mit \"r!\".\n",
    "* Gebe True aus.\n",
    "* Zusaetzlich bestimme auch ob der string mit \"Hallo\" anfaengt.\n",
    "* Gebe True aus.\n",
    "* Wenn kein fall stimmen wuerde, gebe False aus.\n",
    "* Hinweis: ihr habt slices und indizes!\n",
    "* Hinweis2: Man darf negative Zahlen als index eingeben."
   ]
  },
  {
   "cell_type": "code",
   "execution_count": 22,
   "id": "7ad248cb",
   "metadata": {},
   "outputs": [
    {
     "name": "stdout",
     "output_type": "stream",
     "text": [
      "True1\n"
     ]
    }
   ],
   "source": [
    "input1 = input('Geben Sie etwas ein!: ')\n",
    "if input1[-1] == '.' or input1[-2:] == 'r!':\n",
    "    print('True1')\n",
    "elif input1[:5] == 'Hallo':\n",
    "    print('True2')   \n",
    "else:\n",
    "    print('False')"
   ]
  },
  {
   "cell_type": "code",
   "execution_count": null,
   "id": "b85e87fd",
   "metadata": {},
   "outputs": [],
   "source": [
    "eingabe = input(\"Geben Sie etwas ein: \")\n",
    "\n",
    "if eingabe[-1] == '.' or eingabe[-2:] == 'r!':\n",
    "    print('Ende Korrekt: True')\n",
    "else:\n",
    "    print('Ende Korrket: Falsch')\n",
    "\n",
    "if eingabe[0:5] == 'Hallo':\n",
    "    print('Start Korrket: True')\n",
    "else:\n",
    "    print('Start Korrket: Falsch')"
   ]
  },
  {
   "cell_type": "markdown",
   "id": "35985a85",
   "metadata": {},
   "source": [
    "\n",
    "\n",
    "Wir programmieren jetzt mehrere Geschäftsregeln.\n",
    "\n",
    "    Ihr Code sollte nur eine Meldung anzeigen.\n",
    "    Wenn das Abonnement des Benutzers bzw. der Benutzerin in zehn Tagen oder weniger abläuft, zeigen Sie die folgende Meldung an: Your subscription will expire soon. Renew now!\n",
    "    Wenn das Abonnement des Benutzers bzw. der Benutzerin in fünf Tagen oder weniger abläuft, zeigen Sie die folgenden Meldungen an: Your subscription expires in _ days. Renew now and save 10%!\n",
    "    Wenn das Abonnement des Benutzers bzw. der Benutzerin in einem Tag abläuft, zeigen Sie die folgenden Meldungen an: Your subscription expires within a day! Renew now and save 20%!\n",
    "    Wenn das Abonnement des Benutzers bzw. der Benutzerin abgelaufen ist, zeigen Sie die folgende Meldung an: Your subscription has expired.\n",
    "    Wenn das Abonnement des Benutzers nicht in zehn Tagen oder weniger abläuft, zeigen Sie nichts an.\n",
    "\n"
   ]
  },
  {
   "cell_type": "code",
   "execution_count": null,
   "id": "d0858f10",
   "metadata": {},
   "outputs": [
    {
     "name": "stdout",
     "output_type": "stream",
     "text": [
      "Your subscription expires within a day! Renew now and save 20%!\n",
      "1\n",
      "Your discount is 20%\n"
     ]
    }
   ],
   "source": [
    "from random import *\n",
    "daysUntilExpiration = randint(0,12)\n",
    "discountPercentage = 0\n",
    "\n",
    "if daysUntilExpiration < 1:\n",
    "    print(\"Your subscription has expired.\")\n",
    "    discountPercentage = 10\n",
    "elif daysUntilExpiration == 1:\n",
    "     print(\"Your subscription expires within a day! Renew now and save 20%!\")\n",
    "     discountPercentage = 20\n",
    "elif daysUntilExpiration <= 5:\n",
    "    print (\"Your subscription expires in \" + str(daysUntilExpiration) + \" days. Renew now and save 10%!\")\n",
    "    discountPercentage = 10\n",
    "elif daysUntilExpiration <= 10:\n",
    "     print(\"Your subscription will expire soon.\")\n",
    "\n",
    "print(daysUntilExpiration)\n",
    "print(\"Your discount is \" + str(discountPercentage) + \"%\")"
   ]
  },
  {
   "cell_type": "code",
   "execution_count": null,
   "id": "55b30b8e",
   "metadata": {},
   "outputs": [],
   "source": []
  }
 ],
 "metadata": {
  "kernelspec": {
   "display_name": "Python 3",
   "language": "python",
   "name": "python3"
  },
  "language_info": {
   "codemirror_mode": {
    "name": "ipython",
    "version": 3
   },
   "file_extension": ".py",
   "mimetype": "text/x-python",
   "name": "python",
   "nbconvert_exporter": "python",
   "pygments_lexer": "ipython3",
   "version": "3.13.5"
  }
 },
 "nbformat": 4,
 "nbformat_minor": 5
}
