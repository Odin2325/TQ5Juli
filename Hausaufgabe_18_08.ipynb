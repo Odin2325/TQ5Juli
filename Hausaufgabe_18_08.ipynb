{
 "cells": [
  {
   "cell_type": "code",
   "execution_count": 48,
   "id": "5fe2f9f0",
   "metadata": {},
   "outputs": [
    {
     "name": "stdout",
     "output_type": "stream",
     "text": [
      "Wurf: 2 + 2 + 2 = 6\n",
      "Dreierpasch --> 6 Bonuspunkte\n",
      "Zweierpasch --> 2 Bonuspunkte\n",
      "Gesamtpunkte: 14\n",
      "Sie haben Verloren...\n"
     ]
    }
   ],
   "source": [
    "from random import randint\n",
    "\n",
    "dice1 = randint(1, 6)\n",
    "dice2 = randint(1, 6)\n",
    "dice3 = randint(1, 6)\n",
    "\n",
    "summe = dice1 + dice2 + dice3\n",
    "\n",
    "print(\"Wurf:\", dice1, \"+\", dice2, \"+\", dice3, \"=\", summe)\n",
    "\n",
    "bonus = 0\n",
    "if dice1 == dice2 == dice3:\n",
    "    bonus = bonus + 6\n",
    "    print(\"Dreierpasch --> 6 Bonuspunkte\")\n",
    "if dice1 == dice2 or dice1 == dice3 or dice2 == dice3:\n",
    "    bonus = bonus + 2\n",
    "    print(\"Zweierpasch --> 2 Bonuspunkte\")\n",
    "\n",
    "gesamt = summe + bonus\n",
    "print(\"Gesamtpunkte:\", gesamt)\n",
    "\n",
    "if gesamt >= 15:\n",
    "    print(\"Wir haben einen Gewinner!!!\")\n",
    "else:\n",
    "    print(\"Sie haben Verloren...\")\n"
   ]
  },
  {
   "cell_type": "code",
   "execution_count": null,
   "id": "216138ba",
   "metadata": {},
   "outputs": [],
   "source": [
    "from random import randint\n",
    "\n",
    "dice1 = randint(1, 6)\n",
    "dice2 = randint(1, 6)\n",
    "dice3 = randint(1, 6)\n",
    "\n",
    "summe = dice1 + dice2 + dice3\n",
    "print(\"Wurf:\", dice1, \"+\", dice2, \"+\", dice3, \"=\", summe)\n",
    "\n",
    "bonus = 0\n",
    "if dice1 == dice2 and dice2 == dice3:\n",
    "    bonus = 6\n",
    "    print(\"Dreierpasch! 6 Bonuspunkte\")\n",
    "elif dice1 == dice2 or dice1 == dice3 or dice2 == dice3:\n",
    "    bonus = 2\n",
    "    print(\"Zweierpasch! 2 Bonuspunkte\")\n",
    "\n",
    "gesamt = summe + bonus\n",
    "print(\"Gesamtpunkte:\", gesamt)\n",
    "\n",
    "if gesamt >= 16:\n",
    "    print(\"Sie haben ein Auto gewonnen!!!\")\n",
    "elif gesamt >= 10:\n",
    "    print(\"Sie haben ein Laptop gewonnen!!!\")\n",
    "elif gesamt == 7:\n",
    "    print(\"Sie haben eine Reise gewonnen!!!\")\n",
    "else:\n",
    "    print(\"Sie haben eine Katze gewonnen!!!\")\n"
   ]
  }
 ],
 "metadata": {
  "kernelspec": {
   "display_name": "Python 3",
   "language": "python",
   "name": "python3"
  },
  "language_info": {
   "codemirror_mode": {
    "name": "ipython",
    "version": 3
   },
   "file_extension": ".py",
   "mimetype": "text/x-python",
   "name": "python",
   "nbconvert_exporter": "python",
   "pygments_lexer": "ipython3",
   "version": "3.11.9"
  }
 },
 "nbformat": 4,
 "nbformat_minor": 5
}
