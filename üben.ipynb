{
 "cells": [
  {
   "cell_type": "markdown",
   "id": "a3cd097d",
   "metadata": {},
   "source": [
    "Flache Dreiecks"
   ]
  },
  {
   "cell_type": "code",
   "execution_count": 6,
   "id": "9117de84",
   "metadata": {},
   "outputs": [
    {
     "name": "stdout",
     "output_type": "stream",
     "text": [
      "===============================================\n",
      "Berechne eine Fläche eines Dreiecks\n",
      "===============================================\n",
      "\n",
      "Die Fläche des Dreiecks beträgt: 85.0\n",
      "===============================================\n",
      "Berechnung abgeschlossen.\n"
     ]
    }
   ],
   "source": [
    "# A = 0.5 * H * B\n",
    "print(\"===============================================\")\n",
    "print(\"Berechne eine Fläche eines Dreiecks\")\n",
    "print(\"===============================================\\n\")\n",
    "\n",
    "# Höhe und Basis in einer Zeile eingeben, getrennt durch Leerzeichen\n",
    "height, base = map(int, input(\"Gib Höhe und Basis ein (z. B. 10 17): \").split())\n",
    "\n",
    "area = 0.5 * height * base\n",
    "\n",
    "print(\"Die Fläche des Dreiecks beträgt:\", area)\n",
    "print(\"===============================================\")\n",
    "print(\"Berechnung abgeschlossen.\")\n"
   ]
  },
  {
   "cell_type": "code",
   "execution_count": 5,
   "id": "2e9aa513",
   "metadata": {},
   "outputs": [
    {
     "name": "stdout",
     "output_type": "stream",
     "text": [
      "Die Fläche des Dreiecks beträgt: 85.0\n"
     ]
    }
   ],
   "source": [
    "height = 10\n",
    "base   = 17\n",
    "area   = 0.5 * height * base\n",
    "print(\"Die Fläche des Dreiecks beträgt:\", area)\n"
   ]
  },
  {
   "cell_type": "code",
   "execution_count": 10,
   "id": "a01cb6d2",
   "metadata": {},
   "outputs": [
    {
     "name": "stdout",
     "output_type": "stream",
     "text": [
      "===============================================\n",
      "Berechne eine Fläche eines Dreiecks\n",
      "===============================================\n",
      "\n",
      "Die Fläche des Dreiecks beträgt: 85.0\n",
      "Mit eine hoehe von 10 und ein base von 17, hast du eine Flaeche von 85.0\n",
      "\n",
      "===============================================\n",
      "Berechnung abgeschlossen.\n"
     ]
    }
   ],
   "source": [
    "#A = 0.5 * H * B\n",
    "print(\"===============================================\")\n",
    "print(\"Berechne eine Fläche eines Dreiecks\")    \n",
    "print(\"===============================================\\n\")\n",
    "# Höhe und Basis in einer Zeile eingeben, getrennt durch Leerzeichen\n",
    "height = int(input(\"Geben Sie die hoehe des Dreiecks ein: \"))\n",
    "base = int(input(\"Geben Sie die base des Dreiecks ein: \"))\n",
    "area = 0.5 * height * base\n",
    "print(\"Die Fläche des Dreiecks beträgt:\", area)\n",
    "print(f'Mit eine hoehe von {height} und ein base von {base}, hast du eine Flaeche von {area}\\n')\n",
    "print(\"===============================================\")\n",
    "print(\"Berechnung abgeschlossen.\")"
   ]
  },
  {
   "cell_type": "code",
   "execution_count": 13,
   "id": "d28e4096",
   "metadata": {},
   "outputs": [
    {
     "name": "stdout",
     "output_type": "stream",
     "text": [
      "===========================================\n",
      "3.0\n",
      "===========================================\n"
     ]
    }
   ],
   "source": [
    "import math\n",
    "print('===========================================')\n",
    "\n",
    "wurzel_neun = math.sqrt(9)\n",
    "\n",
    "print(wurzel_neun)\n",
    "print('===========================================')"
   ]
  },
  {
   "cell_type": "markdown",
   "id": "e6b53619",
   "metadata": {},
   "source": [
    "# Distanz zwischen zwei Punkten"
   ]
  },
  {
   "cell_type": "code",
   "execution_count": 16,
   "id": "604cba6e",
   "metadata": {},
   "outputs": [
    {
     "name": "stdout",
     "output_type": "stream",
     "text": [
      "===========================================\n",
      "Distanz zwischen zwei Punkten\n",
      "===========================================\n",
      "Die Distanz zwischen den Punkten (2.0, 8.0) und (54.0, 4.0) beträgt: 52.15361924162119\n",
      "===========================================\n",
      "Berechnung abgeschlossen.\n",
      "===========================================\n"
     ]
    }
   ],
   "source": [
    "print(\"===========================================\")\n",
    "print(\"Distanz zwischen zwei Punkten\")\n",
    "print(\"===========================================\")\n",
    "import math\n",
    "x1 = float(input(\"Gib die x-Koordinate des ersten Punktes ein: \"))\n",
    "y1 = float(input(\"Gib die y-Koordinate des ersten Punktes ein: \"))\n",
    "x2 = float(input(\"Gib die x-Koordinate des zweiten Punktes ein: \"))\n",
    "y2 = float(input(\"Gib die y-Koordinate des zweiten Punktes ein: \"))\n",
    "distanz = math.sqrt((x2 - x1) ** 2 + (y2 - y1) ** 2)\n",
    "print(f\"Die Distanz zwischen den Punkten ({x1}, {y1}) und ({x2}, {y2}) beträgt: {distanz}\")\n",
    "print(\"===========================================\")            \n",
    "print(\"Berechnung abgeschlossen.\")\n",
    "print(\"===========================================\")\n"
   ]
  },
  {
   "cell_type": "markdown",
   "id": "8f115fcf",
   "metadata": {},
   "source": [
    "# Zinseszins"
   ]
  },
  {
   "cell_type": "code",
   "execution_count": 21,
   "id": "c73c6fd4",
   "metadata": {},
   "outputs": [
    {
     "name": "stdout",
     "output_type": "stream",
     "text": [
      "===========================================\n",
      "Zinseszins\n",
      "===========================================\n",
      "Der Endbetrag nach 35 Jahren beträgt: 9668.08\n",
      "===========================================\n",
      "Berechnung abgeschlossen.\n",
      "===========================================\n"
     ]
    }
   ],
   "source": [
    "print('===========================================')\n",
    "print(\"Zinseszins\")\n",
    "print('===========================================')\n",
    "import math\n",
    "initial_investment = float(input(\"Gib den Anfangsbetrag ein: \"))\n",
    "interest_rate = float(input(\"Gib den Zinssatz (in Prozent) ein: \"))\n",
    "years = int(input(\"Gib die Anzahl der Jahre ein: \"))\n",
    "final_amount = initial_investment * (1 + interest_rate / 100) ** years\n",
    "print(f\"Der Endbetrag nach {years} Jahren beträgt: {final_amount:.2f}\")\n",
    "print('===========================================')\n",
    "print(\"Berechnung abgeschlossen.\")\n",
    "print('===========================================')\n"
   ]
  }
 ],
 "metadata": {
  "kernelspec": {
   "display_name": "Python 3",
   "language": "python",
   "name": "python3"
  },
  "language_info": {
   "codemirror_mode": {
    "name": "ipython",
    "version": 3
   },
   "file_extension": ".py",
   "mimetype": "text/x-python",
   "name": "python",
   "nbconvert_exporter": "python",
   "pygments_lexer": "ipython3",
   "version": "3.13.5"
  }
 },
 "nbformat": 4,
 "nbformat_minor": 5
}
