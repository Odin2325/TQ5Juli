{
 "cells": [
  {
   "cell_type": "markdown",
   "id": "a3cd097d",
   "metadata": {},
   "source": [
    "# Fleache Dreiecks"
   ]
  },
  {
   "cell_type": "code",
   "execution_count": 6,
   "id": "9117de84",
   "metadata": {},
   "outputs": [
    {
     "name": "stdout",
     "output_type": "stream",
     "text": [
      "===============================================\n",
      "Berechne eine Fläche eines Dreiecks\n",
      "===============================================\n",
      "\n",
      "Die Fläche des Dreiecks beträgt: 85.0\n",
      "===============================================\n",
      "Berechnung abgeschlossen.\n"
     ]
    }
   ],
   "source": [
    "# A = 0.5 * H * B\n",
    "print(\"===============================================\")\n",
    "print(\"Berechne eine Fläche eines Dreiecks\")\n",
    "print(\"===============================================\\n\")\n",
    "\n",
    "# Höhe und Basis in einer Zeile eingeben, getrennt durch Leerzeichen\n",
    "height, base = map(int, input(\"Gib Höhe und Basis ein (z. B. 10 17): \").split())\n",
    "\n",
    "area = 0.5 * height * base\n",
    "\n",
    "print(\"Die Fläche des Dreiecks beträgt:\", area)\n",
    "print(\"===============================================\")\n",
    "print(\"Berechnung abgeschlossen.\")\n"
   ]
  },
  {
   "cell_type": "code",
   "execution_count": 5,
   "id": "2e9aa513",
   "metadata": {},
   "outputs": [
    {
     "name": "stdout",
     "output_type": "stream",
     "text": [
      "Die Fläche des Dreiecks beträgt: 85.0\n"
     ]
    }
   ],
   "source": [
    "height = 10\n",
    "base   = 17\n",
    "area   = 0.5 * height * base\n",
    "print(\"Die Fläche des Dreiecks beträgt:\", area)\n"
   ]
  },
  {
   "cell_type": "code",
   "execution_count": 10,
   "id": "a01cb6d2",
   "metadata": {},
   "outputs": [
    {
     "name": "stdout",
     "output_type": "stream",
     "text": [
      "===============================================\n",
      "Berechne eine Fläche eines Dreiecks\n",
      "===============================================\n",
      "\n",
      "Die Fläche des Dreiecks beträgt: 85.0\n",
      "Mit eine hoehe von 10 und ein base von 17, hast du eine Flaeche von 85.0\n",
      "\n",
      "===============================================\n",
      "Berechnung abgeschlossen.\n"
     ]
    }
   ],
   "source": [
    "#A = 0.5 * H * B\n",
    "print(\"===============================================\")\n",
    "print(\"Berechne eine Fläche eines Dreiecks\")    \n",
    "print(\"===============================================\\n\")\n",
    "# Höhe und Basis in einer Zeile eingeben, getrennt durch Leerzeichen\n",
    "height = int(input(\"Geben Sie die hoehe des Dreiecks ein: \"))\n",
    "base = int(input(\"Geben Sie die base des Dreiecks ein: \"))\n",
    "area = 0.5 * height * base\n",
    "print(\"Die Fläche des Dreiecks beträgt:\", area)\n",
    "print(f'Mit eine hoehe von {height} und ein base von {base}, hast du eine Flaeche von {area}\\n')\n",
    "print(\"===============================================\")\n",
    "print(\"Berechnung abgeschlossen.\")"
   ]
  },
  {
   "cell_type": "code",
   "execution_count": 13,
   "id": "d28e4096",
   "metadata": {},
   "outputs": [
    {
     "name": "stdout",
     "output_type": "stream",
     "text": [
      "===========================================\n",
      "3.0\n",
      "===========================================\n"
     ]
    }
   ],
   "source": [
    "import math\n",
    "print('===========================================')\n",
    "\n",
    "wurzel_neun = math.sqrt(9)\n",
    "\n",
    "print(wurzel_neun)\n",
    "print('===========================================')"
   ]
  },
  {
   "cell_type": "markdown",
   "id": "e6b53619",
   "metadata": {},
   "source": [
    "# Distanz zwischen zwei Punkten"
   ]
  },
  {
   "cell_type": "code",
   "execution_count": 16,
   "id": "604cba6e",
   "metadata": {},
   "outputs": [
    {
     "name": "stdout",
     "output_type": "stream",
     "text": [
      "===========================================\n",
      "Distanz zwischen zwei Punkten\n",
      "===========================================\n",
      "Die Distanz zwischen den Punkten (2.0, 8.0) und (54.0, 4.0) beträgt: 52.15361924162119\n",
      "===========================================\n",
      "Berechnung abgeschlossen.\n",
      "===========================================\n"
     ]
    }
   ],
   "source": [
    "print(\"===========================================\")\n",
    "print(\"Distanz zwischen zwei Punkten\")\n",
    "print(\"===========================================\")\n",
    "import math\n",
    "x1 = float(input(\"Gib die x-Koordinate des ersten Punktes ein: \"))\n",
    "y1 = float(input(\"Gib die y-Koordinate des ersten Punktes ein: \"))\n",
    "x2 = float(input(\"Gib die x-Koordinate des zweiten Punktes ein: \"))\n",
    "y2 = float(input(\"Gib die y-Koordinate des zweiten Punktes ein: \"))\n",
    "distanz = math.sqrt((x2 - x1) ** 2 + (y2 - y1) ** 2)\n",
    "print(f\"Die Distanz zwischen den Punkten ({x1}, {y1}) und ({x2}, {y2}) beträgt: {distanz}\")\n",
    "print(\"===========================================\")            \n",
    "print(\"Berechnung abgeschlossen.\")\n",
    "print(\"===========================================\")\n"
   ]
  },
  {
   "cell_type": "markdown",
   "id": "8f115fcf",
   "metadata": {},
   "source": [
    "# Zinseszins"
   ]
  },
  {
   "cell_type": "code",
   "execution_count": 21,
   "id": "c73c6fd4",
   "metadata": {},
   "outputs": [
    {
     "name": "stdout",
     "output_type": "stream",
     "text": [
      "===========================================\n",
      "Zinseszins\n",
      "===========================================\n",
      "Der Endbetrag nach 35 Jahren beträgt: 9668.08\n",
      "===========================================\n",
      "Berechnung abgeschlossen.\n",
      "===========================================\n"
     ]
    }
   ],
   "source": [
    "print('===========================================')\n",
    "print(\"Zinseszins\")\n",
    "print('===========================================')\n",
    "import math\n",
    "initial_investment = float(input(\"Gib den Anfangsbetrag ein: \"))\n",
    "interest_rate = float(input(\"Gib den Zinssatz (in Prozent) ein: \"))\n",
    "years = int(input(\"Gib die Anzahl der Jahre ein: \"))\n",
    "final_amount = initial_investment * (1 + interest_rate / 100) ** years\n",
    "print(f\"Der Endbetrag nach {years} Jahren beträgt: {final_amount:.2f}\")\n",
    "print('===========================================')\n",
    "print(\"Berechnung abgeschlossen.\")\n",
    "print('===========================================')\n"
   ]
  },
  {
   "cell_type": "markdown",
   "id": "1b7cc3e6",
   "metadata": {},
   "source": [
    "#  Aufgabe 1 strings und Bedingungen.\n",
    "\n",
    "* Bestimme ob ein string der als input eingegeben wird.\n",
    "* mit einem \".\" endet oder mit \"r!\".\n",
    "* Gebe True aus.\n",
    "* Zusaetzlich bestimme auch ob der string mit \"Hallo\" anfaengt.\n",
    "* Gebe True aus.\n",
    "* Wenn kein fall stimmen wurde, gebe False aus.\n",
    "* Hinweis2: Man darf negative Zahlen als index eingeben!"
   ]
  },
  {
   "cell_type": "code",
   "execution_count": 30,
   "id": "b8c77dba",
   "metadata": {},
   "outputs": [
    {
     "name": "stdout",
     "output_type": "stream",
     "text": [
      "True\n"
     ]
    }
   ],
   "source": [
    "#  Heute ist Montag.\n",
    "text = input(\"Gib einen Text ein: \")\n",
    "if text[-1] == \".\":\n",
    "    print(True)\n",
    "elif text[-2:] == \"r!\":\n",
    "    print(True)\n",
    "elif text[:5] == \"Hallo\":\n",
    "    print(True)\n",
    "else:\n",
    "    print(False)\n"
   ]
  },
  {
   "cell_type": "markdown",
   "id": "952e8346",
   "metadata": {},
   "source": [
    "#lÖSUNG VON NICKOLAS"
   ]
  },
  {
   "cell_type": "code",
   "execution_count": 31,
   "id": "7f41e0b8",
   "metadata": {},
   "outputs": [
    {
     "name": "stdout",
     "output_type": "stream",
     "text": [
      "Ende Korrket: Falsch\n",
      "Start Korrket: Falsch\n"
     ]
    }
   ],
   "source": [
    "eingabe = input(\"Geben Sie etwas ein: \")\n",
    "\n",
    "if eingabe[-1] == '.' or eingabe[-2:] == 'r!':\n",
    "    print('Ende Korrekt: True')\n",
    "else:\n",
    "    print('Ende Korrket: Falsch')\n",
    "\n",
    "if eingabe[0:5] == 'Hallo':\n",
    "    print('Start Korrket: True')\n",
    "else:\n",
    "    print('Start Korrket: Falsch')"
   ]
  },
  {
   "cell_type": "markdown",
   "id": "2ae6ac31",
   "metadata": {},
   "source": [
    "#  Aufgabe 2\n",
    "Wir programmieren jetzt mehrere Geschäftsregeln.\n",
    " \n",
    "1. Ihr Code sollte nur eine Meldung anzeigen.\n",
    "2. Wenn das Abonnement des Benutzers bzw. der Benutzerin in zehn Tagen oder weniger abläuft, zeigen Sie die folgende Meldung an:\n",
    "    Your subscription will expire soon. Renew now!\n",
    "3. Wenn das Abonnement des Benutzers bzw. der Benutzerin in fünf Tagen oder weniger abläuft, zeigen Sie die folgenden Meldungen an:\n",
    "    Your subscription expires in _ days.\n",
    "    Renew now and save 10%!\n",
    "4. Wenn das Abonnement des Benutzers bzw. der Benutzerin in einem Tag abläuft, zeigen Sie die folgenden Meldungen an:\n",
    "    Your subscription expires within a day!\n",
    "    Renew now and save 20%!\n",
    "5. Wenn das Abonnement des Benutzers bzw. der Benutzerin abgelaufen ist, zeigen Sie die folgende Meldung an:\n",
    "    Your subscription has expired.\n",
    "6. Wenn das Abonnement des Benutzers nicht in zehn Tagen oder weniger abläuft, zeigen Sie nichts an."
   ]
  },
  {
   "cell_type": "code",
   "execution_count": 42,
   "id": "d69fe8ea",
   "metadata": {},
   "outputs": [
    {
     "name": "stdout",
     "output_type": "stream",
     "text": [
      "Your subscription expires in 4 days.\n",
      "Renew now and save 10%!\n",
      "===========================================\n",
      "Berechnung abgeschlossen.\n"
     ]
    }
   ],
   "source": [
    "tage_bis_ablauf = int(input(\"Geben Sie die Anzahl der Tage bis zum Ablauf ein: \"))\n",
    "\n",
    "if tage_bis_ablauf < 0:\n",
    "    print(\"Your subscription has expired.\")\n",
    "elif tage_bis_ablauf == 1:\n",
    "    print(\"Your subscription expires within a day!\")\n",
    "    print(\"Renew now and save 20%!\")\n",
    "elif tage_bis_ablauf <= 5:\n",
    "    print(f\"Your subscription expires in {tage_bis_ablauf} days.\")\n",
    "    print(\"Renew now and save 10%!\")\n",
    "elif tage_bis_ablauf <= 10:\n",
    "    print(\"Your subscription will expire soon. Renew now!\")\n",
    "else:\n",
    "    print(\"(No message)\")  # optional, zeigt, dass keine Meldung kommt\n",
    "print(\"===========================================\")\n",
    "print(\"Berechnung abgeschlossen.\")"
   ]
  },
  {
   "cell_type": "markdown",
   "id": "4e4bb5c1",
   "metadata": {},
   "source": [
    "#LÖSUNG VON NICKOLAS"
   ]
  },
  {
   "cell_type": "code",
   "execution_count": 56,
   "id": "d55ecc9c",
   "metadata": {},
   "outputs": [
    {
     "name": "stdout",
     "output_type": "stream",
     "text": [
      "12\n"
     ]
    }
   ],
   "source": [
    "from random import *\n",
    "\n",
    "#import random\n",
    "daysUntilExpiration = randint(0,12)\n",
    "discountPercentage = 0\n",
    "print(daysUntilExpiration)\n",
    "\n",
    "if daysUntilExpiration == 0:\n",
    "    print('Your subscription has expired')\n",
    "elif daysUntilExpiration == 1:\n",
    "    print('Your subscription expires within a day!\\nRenew now and save 20%')\n",
    "    discountPercentage = 20\n",
    "elif daysUntilExpiration <= 5:\n",
    "    print(f'Your subscription expires in {daysUntilExpiration} days.\\n Renew now and save 10%')\n",
    "    discountPercentage = 10\n",
    "elif daysUntilExpiration <= 10:\n",
    "    print('Your subscription will expire soon. Renew now!')"
   ]
  },
  {
   "cell_type": "markdown",
   "id": "088f9f14",
   "metadata": {},
   "source": [
    "#  Match case\n",
    "* Match case fuer direkte vergleiche\n",
    "if elif else fuer erweiterte/komplexe bedingungen:\n",
    "* case _ ist also praktisch dasselbe wie else.\n",
    " "
   ]
  },
  {
   "cell_type": "markdown",
   "id": "b9a1ed03",
   "metadata": {},
   "source": [
    "#  Programmierspiel mit 3 Würfel Regeln\n",
    "* 1. Mit „from random import *“ und dann randint(1,7) Methode simulieren wir den Wurf \n",
    "von drei sechsseitigen Würfeln.\n",
    "* 2. Wir werten die gewürfelten Werte aus, um die Punktzahl zu berechnen.\n",
    "* 3. Die Ausgabe der Summe soll so aussehen: 1. Wurf: 4 + 5 + 2 = 11\n",
    "* 4. Wenn die Augenzahl auf zwei Würfeln identisch ist, erhalten wir zwei Bonuspunkte für \n",
    "einen Zweierpasch.\n",
    "* 5. Wenn die Augenzahl auf allen drei Würfeln identisch ist, erhalten wir sechs \n",
    "Bonuspunkte für einen Dreierpasch.\n",
    "* 6. Wenn wir Bonuspunkte bekommen, dann sollen wir nicht nur unsere Summe um den \n",
    "Wert erhöht, sondern wir sollen auch ausgeben, dass wir den Bonus bekommen.\n",
    "* 7. Wenn die Summe der Augenzahlen der drei Würfel und aller Bonuspunkte mindestens \n",
    "15 ist, gewinnen wir das Spiel. Andernfalls verlieren wir.\n"
   ]
  },
  {
   "cell_type": "code",
   "execution_count": 75,
   "id": "698beda6",
   "metadata": {},
   "outputs": [
    {
     "name": "stdout",
     "output_type": "stream",
     "text": [
      "1. Wurf: 6 + 6 + 6 = 9\n",
      "Dreierpasch! 6 Bonuspunkte!\n",
      "Summe inkl. Bonus: 15\n",
      "Du gewinnst!\n"
     ]
    }
   ],
   "source": [
    "from random import randint\n",
    "wuerfel1 = randint(1, 6)\n",
    "wuerfel2 = randint(1, 6)\n",
    "wuerfel3 = randint(1, 6)\n",
    "summe = würfel1 + würfel2 + würfel3\n",
    "print(f\"1. Wurf: {wuerfel1} + {wuerfel2} + {wuerfel3} = {summe}\")\n",
    "bonus = 0\n",
    "if wuerfel1 == wuerfel2 == wuerfel3:  \n",
    "    bonus += 6\n",
    "    print(\"Dreierpasch! 6 Bonuspunkte!\")\n",
    "elif wuerfel1 == würfel2 or wuerfel1 == wuerfel3 or wuerfel2 == wuerfel3:  \n",
    "    bonus += 2\n",
    "    print(\"Zweierpasch! 2 Bonuspunkte!\")\n",
    "gesamt = summe + bonus\n",
    "print(f\"Summe inkl. Bonus: {gesamt}\")\n",
    "if gesamt >= 15:\n",
    "    print(\"Du gewinnst!\")\n",
    "else:\n",
    "    print(\"Du verlierst!\")\n"
   ]
  },
  {
   "cell_type": "markdown",
   "id": "1e944cb5",
   "metadata": {},
   "source": [
    "#   Musterlösung"
   ]
  },
  {
   "cell_type": "code",
   "execution_count": 85,
   "id": "a3b5bcb5",
   "metadata": {},
   "outputs": [
    {
     "name": "stdout",
     "output_type": "stream",
     "text": [
      "Summe der Würfel: 3 + 1 + 4 = 8\n",
      "Sie haben das Spiel mit 8 Punkten gewonnen!\n",
      "Sie haben ein Kätzchen gewonnen!\n"
     ]
    }
   ],
   "source": [
    "from random import randint\n",
    "\n",
    "# Würfeln\n",
    "w1 = randint(1,6)\n",
    "w2 = randint(1,6)\n",
    "w3 = randint(1,6)\n",
    "\n",
    "# Summe berechnen\n",
    "summe = w1 + w2 + w3\n",
    "\n",
    "bonuspunkte = 0\n",
    "\n",
    "# Bonusbedingungen\n",
    "if w1 == w2 == w3:\n",
    "    bonuspunkte = 6\n",
    "elif w1 == w2 or w1 == w3 or w2 == w3:\n",
    "    bonuspunkte = 2\n",
    "\n",
    "print('Summe der Würfel: {0} + {1} + {2} = {3}'.format(w1, w2, w3, summe))\n",
    "\n",
    "# Bonus addieren\n",
    "summe += bonuspunkte\n",
    "\n",
    "if bonuspunkte > 0:\n",
    "    print('Sie bekommen einen Bonus von:', bonuspunkte)\n",
    "\n",
    "# Preislogik\n",
    "if summe >= 16:\n",
    "    preis = 'ein Auto'\n",
    "elif summe >= 10:\n",
    "    preis = 'einen neuen Laptop'\n",
    "elif summe == 7:\n",
    "    preis = 'eine Reise'\n",
    "else:\n",
    "    preis = 'ein Kätzchen'\n",
    "\n",
    "print(f'Sie haben das Spiel mit {summe} Punkten gewonnen!\\nSie haben {preis} gewonnen!')\n"
   ]
  },
  {
   "cell_type": "markdown",
   "id": "36cd67f2",
   "metadata": {},
   "source": [
    "#  Geschachtelter Entscheidungslogik mit if, else if und else\n",
    " * Die Boni sollten nicht aufeinander Summiert werden.\n",
    " * Durch die Schachtelung können wir Codeblöcke innerhalb von Codeblöcken platzieren. In diesem Fall schachteln wir eine if- und else-Kombination (die Überprüfung auf Zweierpasche) in einer anderen if-Anweisung (die Überprüfung auf Dreierpasche), um zu verhindern, dass beide als Bonus berechnet werden.\n",
    " * Wir ändern das Spiel so, dass es nicht mehr nur um Sieg oder Niederlage geht, sondern \n",
    "für jedes Ergebnis fiktive Preise vergeben werden, damit es noch mehr Spaß macht. Wir \n",
    "können vier Preise anbieten. Der Spieler sollte jedoch nur einen Preis gewinnen:\n",
    " * Wenn die Punktzahl des Spielers mehr als oder gleich 16 ist, gewinnt er ein neues Auto.\n",
    " * Wenn die Punktzahl des Spielers mehr als oder gleich 10 ist, gewinnt er einen neuen Laptop.\n",
    " * Wenn der Spieler genau 7 erzielt, gewinnt er eine Reise.\n",
    "* Andernfalls gewinnt der Spieler ein Kätzchen."
   ]
  },
  {
   "cell_type": "code",
   "execution_count": 83,
   "id": "e1fba222",
   "metadata": {},
   "outputs": [
    {
     "name": "stdout",
     "output_type": "stream",
     "text": [
      "===========================================\n",
      "Geschachtelte Entscheidungslogik\n",
      "===========================================\n",
      "Dein Preis: Ein Kaetzchen!\n",
      "===========================================\n",
      "Berechnung abgeschlossen.\n"
     ]
    }
   ],
   "source": [
    "print(\"===========================================\")\n",
    "print(\"Geschachtelte Entscheidungslogik\")\n",
    "punkte = int(input(\"Gib deine Punktzahl ein: \"))\n",
    "\n",
    "if punkte >= 16:\n",
    "    prize = \"Ein neues Auto!\"\n",
    "elif punkte >= 10:\n",
    "    prize = \"Ein neuer Laptop!\"\n",
    "else:\n",
    "    if punkte == 7:\n",
    "        prize = \"Eine Reise!\"\n",
    "    else:\n",
    "        prize = \"Ein Kaetzchen!\"\n",
    "print(\"===========================================\")\n",
    "print(\"Dein Preis:\", prize)\n",
    "print(\"===========================================\")    \n",
    "print(\"Berechnung abgeschlossen.\")\n"
   ]
  },
  {
   "cell_type": "markdown",
   "id": "7d325f47",
   "metadata": {},
   "source": [
    "# Beginnen Sie mit den Folgenden Code:\n",
    "permission = input()\n",
    "level = 55\n",
    " \n",
    " Wir programmieren jetzt mehrere Geschäftsregeln.\n",
    " * Wenn der Benutzer ein Administrator mit einer höheren Ebene als 55 ist, geben Sie die folgende Meldung aus:\n",
    "Welcome, Super Admin user.\n",
    "* Wenn der Benutzer ein Administrator mit einer Ebene von 55 oder darunter ist, geben Sie die folgende Meldung aus:\n",
    "Welcome, Admin user.\n",
    "*  Wenn der Benutzer ein Manager mit einer Ebene von 20 oder höher ist, geben Sie die folgende Meldung aus:\n",
    "Contact an Admin for access.\n",
    "* Wenn der Benutzer ein Manager mit einer niedrigeren Ebene als 20 ist, geben Sie die folgende Meldung aus:\n",
    "You do not have sufficient privileges.\n",
    "* Wenn der Benutzer kein Administrator oder Manager ist, geben Sie die folgende Meldung aus:\n",
    "You do not have sufficient privileges.\n",
    " \n",
    "* Code soll ein bisschen Robust sein. D.h. Wenn der benutzer mAnaGer so schreiben wuerde, dann soll es auch stimmen.\n",
    "* Zusaetzlich soll es akzeptiert werden wenn der benutzer Administrator!. Hinweis finden..."
   ]
  },
  {
   "cell_type": "code",
   "execution_count": 91,
   "id": "b0986372",
   "metadata": {},
   "outputs": [
    {
     "name": "stdout",
     "output_type": "stream",
     "text": [
      "===========================================\n",
      "Rolle: manager, Level: 55\n",
      "Contact an Admin for access.\n",
      "===========================================\n"
     ]
    }
   ],
   "source": [
    "permission = input(\"Bitte geben Sie Ihre Rolle ein: \")\n",
    "level = 55\n",
    "print(\"===========================================\")\n",
    "role = permission.lower().strip(\"! \")\n",
    "print(f\"Rolle: {role}, Level: {level}\")\n",
    "\n",
    "if role == \"administrator\":\n",
    "    if level > 55:\n",
    "        print(\"Welcome, Super Admin user.\")\n",
    "    else:\n",
    "        print(\"Welcome, Admin user.\")\n",
    "elif role == \"manager\":\n",
    "    if level >= 20:\n",
    "        print(\"Contact an Admin for access.\")\n",
    "    else:\n",
    "        print(\"You do not have sufficient privileges.\")\n",
    "else:\n",
    "    print(\"You do not have sufficient privileges.\")\n",
    "print(\"===========================================\")\n",
    "\n"
   ]
  },
  {
   "cell_type": "markdown",
   "id": "ee20a398",
   "metadata": {},
   "source": [
    "Ein Jahr ist ein Schaltjahr, wenn es durch 4 teilbar ist, aber nicht, wenn es durch 100 teilbar ist, es sei denn, es ist auch durch 400 teilbar. Zum Beispiel ist 2000 ein Schaltjahr, während 1900 kein Schaltjahr ist.\n",
    " \n",
    "* Wenn durch 4 teilbar => Schaltjahr\n",
    "* Wenn durch 4 und 100 teilbar => Kein Schaltjahr\n",
    "* Wenn durch 4 und 100 und 400 teilbar => Schaltjahr\n",
    " \n",
    "Ziel ist es ein mit input() eingegebener wert zu berechnen ob dieser ein Schaltjahr ist oder nicht.\n",
    "Bspw: Eingabe = 2000\n",
    " \n",
    "Ausgabe = 'Das Jahr 2000 ist ein Schaltjahr.'"
   ]
  },
  {
   "cell_type": "code",
   "execution_count": 106,
   "id": "871f0bca",
   "metadata": {},
   "outputs": [
    {
     "name": "stdout",
     "output_type": "stream",
     "text": [
      "2020 ist ein Schaltjahr.\n",
      "2020 ist ein Schaltjahr.\n"
     ]
    }
   ],
   "source": [
    "jahreszahl = int(input(\"Bitte gib eine Jahreszahl ein: \"))\n",
    "\n",
    "# Ohne Verschachtelung:\n",
    "if jahreszahl % 4 == 0 and (jahreszahl % 100 != 0 or jahreszahl % 400 == 0):\n",
    "    print(f\"{jahreszahl} ist ein Schaltjahr.\")\n",
    "else:\n",
    "    print(f\"{jahreszahl} ist kein Schaltjahr.\")\n",
    "\n",
    "\n",
    "# Mit Verschachtelung:\n",
    "if jahreszahl % 4 == 0:\n",
    "    if jahreszahl % 100 == 0:\n",
    "        if jahreszahl % 400 == 0:\n",
    "            print(f\"{jahreszahl} ist ein Schaltjahr.\")\n",
    "        else:\n",
    "            print(f\"{jahreszahl} ist kein Schaltjahr.\")\n",
    "    else:\n",
    "        print(f\"{jahreszahl} ist ein Schaltjahr.\")\n",
    "else:\n",
    "    print(f\"{jahreszahl} ist kein Schaltjahr.\")"
   ]
  },
  {
   "cell_type": "markdown",
   "id": "e503b912",
   "metadata": {},
   "source": [
    "# Aufgabe 1:\n",
    "Erstelle eine Schleife mit die Summe von 1 bis 15 inklusiv.\n",
    " "
   ]
  },
  {
   "cell_type": "code",
   "execution_count": 107,
   "id": "173ef6ee",
   "metadata": {},
   "outputs": [
    {
     "name": "stdout",
     "output_type": "stream",
     "text": [
      "Die Summe von 1 bis 15 ist: 120\n",
      "===========================================\n"
     ]
    }
   ],
   "source": [
    "summe = 0\n",
    "i = 1\n",
    "\n",
    "while i <= 15:\n",
    "    summe += i\n",
    "    i += 1\n",
    "\n",
    "print(\"Die Summe von 1 bis 15 ist:\", summe)\n",
    "print(\"===========================================\")"
   ]
  },
  {
   "cell_type": "markdown",
   "id": "8400cd64",
   "metadata": {},
   "source": [
    "# Aufgabe 2:\n",
    "Der Benutzer soll eine Eingabe eingeben mit folgende eigenschaften.\n",
    "\n",
    " Der String muss mit ein B starten und muss der laenge 10 sein. \n",
    " \n",
    " Wenn das nicht der fall ist, dann soll der Benutzer nochmal aufgefordert werden ein wert einzugeben.\n",
    " "
   ]
  },
  {
   "cell_type": "code",
   "execution_count": 113,
   "id": "1707f262",
   "metadata": {},
   "outputs": [
    {
     "name": "stdout",
     "output_type": "stream",
     "text": [
      "Geben Sie Ihre Eingabe ein:\n",
      "Ungueltige Eingabe. Bitte versuchen Sie es erneut.\n",
      "Geben Sie Ihre Eingabe ein:\n",
      "Ungueltige Eingabe. Bitte versuchen Sie es erneut.\n",
      "Geben Sie Ihre Eingabe ein:\n",
      "Eingabe akzeptiert: Bismarktpl\n",
      "===========================================\n"
     ]
    }
   ],
   "source": [
    "while True:\n",
    "    print(\"Geben Sie Ihre Eingabe ein:\")\n",
    "    eingabe = input(\"Geben Sie einen String ein, der mit 'B' beginnt und 10 Zeichen lang ist: \")\n",
    "    if len(eingabe) == 10 and eingabe.startswith('B'):\n",
    "        print(\"Eingabe akzeptiert:\", eingabe)\n",
    "        break\n",
    "    else:\n",
    "        print(\"Ungueltige Eingabe. Bitte versuchen Sie es erneut.\")  \n",
    "print(\"===========================================\")\n",
    "    "
   ]
  },
  {
   "cell_type": "markdown",
   "id": "d2c00396",
   "metadata": {},
   "source": [
    "# Aufgabe 3:\n",
    "Ein benutzer erstellt ein neuen Passwort fuer sein konto. \n",
    "\n",
    "Dieser neue Passwort muss 10 Zeichen lang sein.\n",
    "\n",
    " Es muss auch mind. 1 sonderzeichen enthalten. \n",
    " \n",
    " Wenn dies nicht der Fall dann soll ausgegeben was er tun soll um sein passwort zu verbessern und erneut gefragt werden."
   ]
  },
  {
   "cell_type": "code",
   "execution_count": 123,
   "id": "c54b9a59",
   "metadata": {},
   "outputs": [
    {
     "name": "stdout",
     "output_type": "stream",
     "text": [
      "Passwort zu kurz! Mindestens 10 Zeichen nötig.\n",
      "Passwort benötigt mindestens ein Sonderzeichen.\n",
      "Passwort benötigt mindestens ein Sonderzeichen.\n",
      "Passwort benötigt mindestens ein Sonderzeichen.\n",
      "Passwort erfolgreich erstellt!\n"
     ]
    }
   ],
   "source": [
    "import string\n",
    "\n",
    "while True:\n",
    "    passwort = input(\"Bitte gib ein neues Passwort ein: \")\n",
    "    \n",
    "    fehler = False\n",
    "    if len(passwort) < 10:\n",
    "        print(\"Passwort zu kurz! Mindestens 10 Zeichen nötig.\")\n",
    "        fehler = True\n",
    "    if not any(char in string.punctuation for char in passwort):\n",
    "        print(\"Passwort benötigt mindestens ein Sonderzeichen.\")\n",
    "        fehler = True\n",
    "    \n",
    "    if not fehler:\n",
    "        print(\"Passwort erfolgreich erstellt!\")\n",
    "        break\n"
   ]
  }
 ],
 "metadata": {
  "kernelspec": {
   "display_name": "Python 3",
   "language": "python",
   "name": "python3"
  },
  "language_info": {
   "codemirror_mode": {
    "name": "ipython",
    "version": 3
   },
   "file_extension": ".py",
   "mimetype": "text/x-python",
   "name": "python",
   "nbconvert_exporter": "python",
   "pygments_lexer": "ipython3",
   "version": "3.13.5"
  }
 },
 "nbformat": 4,
 "nbformat_minor": 5
}
