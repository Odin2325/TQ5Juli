{
 "cells": [
  {
   "cell_type": "markdown",
   "id": "a3cd097d",
   "metadata": {},
   "source": [
    "# Fleache Dreiecks"
   ]
  },
  {
   "cell_type": "code",
   "execution_count": 6,
   "id": "9117de84",
   "metadata": {},
   "outputs": [
    {
     "name": "stdout",
     "output_type": "stream",
     "text": [
      "===============================================\n",
      "Berechne eine Fläche eines Dreiecks\n",
      "===============================================\n",
      "\n",
      "Die Fläche des Dreiecks beträgt: 85.0\n",
      "===============================================\n",
      "Berechnung abgeschlossen.\n"
     ]
    }
   ],
   "source": [
    "# A = 0.5 * H * B\n",
    "print(\"===============================================\")\n",
    "print(\"Berechne eine Fläche eines Dreiecks\")\n",
    "print(\"===============================================\\n\")\n",
    "\n",
    "# Höhe und Basis in einer Zeile eingeben, getrennt durch Leerzeichen\n",
    "height, base = map(int, input(\"Gib Höhe und Basis ein (z. B. 10 17): \").split())\n",
    "\n",
    "area = 0.5 * height * base\n",
    "\n",
    "print(\"Die Fläche des Dreiecks beträgt:\", area)\n",
    "print(\"===============================================\")\n",
    "print(\"Berechnung abgeschlossen.\")\n"
   ]
  },
  {
   "cell_type": "code",
   "execution_count": 5,
   "id": "2e9aa513",
   "metadata": {},
   "outputs": [
    {
     "name": "stdout",
     "output_type": "stream",
     "text": [
      "Die Fläche des Dreiecks beträgt: 85.0\n"
     ]
    }
   ],
   "source": [
    "height = 10\n",
    "base   = 17\n",
    "area   = 0.5 * height * base\n",
    "print(\"Die Fläche des Dreiecks beträgt:\", area)\n"
   ]
  },
  {
   "cell_type": "code",
   "execution_count": 10,
   "id": "a01cb6d2",
   "metadata": {},
   "outputs": [
    {
     "name": "stdout",
     "output_type": "stream",
     "text": [
      "===============================================\n",
      "Berechne eine Fläche eines Dreiecks\n",
      "===============================================\n",
      "\n",
      "Die Fläche des Dreiecks beträgt: 85.0\n",
      "Mit eine hoehe von 10 und ein base von 17, hast du eine Flaeche von 85.0\n",
      "\n",
      "===============================================\n",
      "Berechnung abgeschlossen.\n"
     ]
    }
   ],
   "source": [
    "#A = 0.5 * H * B\n",
    "print(\"===============================================\")\n",
    "print(\"Berechne eine Fläche eines Dreiecks\")    \n",
    "print(\"===============================================\\n\")\n",
    "# Höhe und Basis in einer Zeile eingeben, getrennt durch Leerzeichen\n",
    "height = int(input(\"Geben Sie die hoehe des Dreiecks ein: \"))\n",
    "base = int(input(\"Geben Sie die base des Dreiecks ein: \"))\n",
    "area = 0.5 * height * base\n",
    "print(\"Die Fläche des Dreiecks beträgt:\", area)\n",
    "print(f'Mit eine hoehe von {height} und ein base von {base}, hast du eine Flaeche von {area}\\n')\n",
    "print(\"===============================================\")\n",
    "print(\"Berechnung abgeschlossen.\")"
   ]
  },
  {
   "cell_type": "code",
   "execution_count": 13,
   "id": "d28e4096",
   "metadata": {},
   "outputs": [
    {
     "name": "stdout",
     "output_type": "stream",
     "text": [
      "===========================================\n",
      "3.0\n",
      "===========================================\n"
     ]
    }
   ],
   "source": [
    "import math\n",
    "print('===========================================')\n",
    "\n",
    "wurzel_neun = math.sqrt(9)\n",
    "\n",
    "print(wurzel_neun)\n",
    "print('===========================================')"
   ]
  },
  {
   "cell_type": "markdown",
   "id": "e6b53619",
   "metadata": {},
   "source": [
    "# Distanz zwischen zwei Punkten"
   ]
  },
  {
   "cell_type": "code",
   "execution_count": 16,
   "id": "604cba6e",
   "metadata": {},
   "outputs": [
    {
     "name": "stdout",
     "output_type": "stream",
     "text": [
      "===========================================\n",
      "Distanz zwischen zwei Punkten\n",
      "===========================================\n",
      "Die Distanz zwischen den Punkten (2.0, 8.0) und (54.0, 4.0) beträgt: 52.15361924162119\n",
      "===========================================\n",
      "Berechnung abgeschlossen.\n",
      "===========================================\n"
     ]
    }
   ],
   "source": [
    "print(\"===========================================\")\n",
    "print(\"Distanz zwischen zwei Punkten\")\n",
    "print(\"===========================================\")\n",
    "import math\n",
    "x1 = float(input(\"Gib die x-Koordinate des ersten Punktes ein: \"))\n",
    "y1 = float(input(\"Gib die y-Koordinate des ersten Punktes ein: \"))\n",
    "x2 = float(input(\"Gib die x-Koordinate des zweiten Punktes ein: \"))\n",
    "y2 = float(input(\"Gib die y-Koordinate des zweiten Punktes ein: \"))\n",
    "distanz = math.sqrt((x2 - x1) ** 2 + (y2 - y1) ** 2)\n",
    "print(f\"Die Distanz zwischen den Punkten ({x1}, {y1}) und ({x2}, {y2}) beträgt: {distanz}\")\n",
    "print(\"===========================================\")            \n",
    "print(\"Berechnung abgeschlossen.\")\n",
    "print(\"===========================================\")\n"
   ]
  },
  {
   "cell_type": "markdown",
   "id": "8f115fcf",
   "metadata": {},
   "source": [
    "# Zinseszins"
   ]
  },
  {
   "cell_type": "code",
   "execution_count": 21,
   "id": "c73c6fd4",
   "metadata": {},
   "outputs": [
    {
     "name": "stdout",
     "output_type": "stream",
     "text": [
      "===========================================\n",
      "Zinseszins\n",
      "===========================================\n",
      "Der Endbetrag nach 35 Jahren beträgt: 9668.08\n",
      "===========================================\n",
      "Berechnung abgeschlossen.\n",
      "===========================================\n"
     ]
    }
   ],
   "source": [
    "print('===========================================')\n",
    "print(\"Zinseszins\")\n",
    "print('===========================================')\n",
    "import math\n",
    "initial_investment = float(input(\"Gib den Anfangsbetrag ein: \"))\n",
    "interest_rate = float(input(\"Gib den Zinssatz (in Prozent) ein: \"))\n",
    "years = int(input(\"Gib die Anzahl der Jahre ein: \"))\n",
    "final_amount = initial_investment * (1 + interest_rate / 100) ** years\n",
    "print(f\"Der Endbetrag nach {years} Jahren beträgt: {final_amount:.2f}\")\n",
    "print('===========================================')\n",
    "print(\"Berechnung abgeschlossen.\")\n",
    "print('===========================================')\n"
   ]
  },
  {
   "cell_type": "markdown",
   "id": "1b7cc3e6",
   "metadata": {},
   "source": [
    "#  Aufgabe 1 strings und Bedingungen.\n",
    "\n",
    "* Bestimme ob ein string der als input eingegeben wird.\n",
    "* mit einem \".\" endet oder mit \"r!\".\n",
    "* Gebe True aus.\n",
    "* Zusaetzlich bestimme auch ob der string mit \"Hallo\" anfaengt.\n",
    "* Gebe True aus.\n",
    "* Wenn kein fall stimmen wurde, gebe False aus.\n",
    "* Hinweis2: Man darf negative Zahlen als index eingeben!"
   ]
  },
  {
   "cell_type": "code",
   "execution_count": 30,
   "id": "b8c77dba",
   "metadata": {},
   "outputs": [
    {
     "name": "stdout",
     "output_type": "stream",
     "text": [
      "True\n"
     ]
    }
   ],
   "source": [
    "#  Heute ist Montag.\n",
    "text = input(\"Gib einen Text ein: \")\n",
    "if text[-1] == \".\":\n",
    "    print(True)\n",
    "elif text[-2:] == \"r!\":\n",
    "    print(True)\n",
    "elif text[:5] == \"Hallo\":\n",
    "    print(True)\n",
    "else:\n",
    "    print(False)\n"
   ]
  },
  {
   "cell_type": "markdown",
   "id": "952e8346",
   "metadata": {},
   "source": [
    "#lÖSUNG VON NICKOLAS"
   ]
  },
  {
   "cell_type": "code",
   "execution_count": 31,
   "id": "7f41e0b8",
   "metadata": {},
   "outputs": [
    {
     "name": "stdout",
     "output_type": "stream",
     "text": [
      "Ende Korrket: Falsch\n",
      "Start Korrket: Falsch\n"
     ]
    }
   ],
   "source": [
    "eingabe = input(\"Geben Sie etwas ein: \")\n",
    "\n",
    "if eingabe[-1] == '.' or eingabe[-2:] == 'r!':\n",
    "    print('Ende Korrekt: True')\n",
    "else:\n",
    "    print('Ende Korrket: Falsch')\n",
    "\n",
    "if eingabe[0:5] == 'Hallo':\n",
    "    print('Start Korrket: True')\n",
    "else:\n",
    "    print('Start Korrket: Falsch')"
   ]
  },
  {
   "cell_type": "markdown",
   "id": "2ae6ac31",
   "metadata": {},
   "source": [
    "#  Aufgabe 2\n",
    "Wir programmieren jetzt mehrere Geschäftsregeln.\n",
    " \n",
    "1. Ihr Code sollte nur eine Meldung anzeigen.\n",
    "2. Wenn das Abonnement des Benutzers bzw. der Benutzerin in zehn Tagen oder weniger abläuft, zeigen Sie die folgende Meldung an:\n",
    "    Your subscription will expire soon. Renew now!\n",
    "3. Wenn das Abonnement des Benutzers bzw. der Benutzerin in fünf Tagen oder weniger abläuft, zeigen Sie die folgenden Meldungen an:\n",
    "    Your subscription expires in _ days.\n",
    "    Renew now and save 10%!\n",
    "4. Wenn das Abonnement des Benutzers bzw. der Benutzerin in einem Tag abläuft, zeigen Sie die folgenden Meldungen an:\n",
    "    Your subscription expires within a day!\n",
    "    Renew now and save 20%!\n",
    "5. Wenn das Abonnement des Benutzers bzw. der Benutzerin abgelaufen ist, zeigen Sie die folgende Meldung an:\n",
    "    Your subscription has expired.\n",
    "6. Wenn das Abonnement des Benutzers nicht in zehn Tagen oder weniger abläuft, zeigen Sie nichts an."
   ]
  },
  {
   "cell_type": "code",
   "execution_count": 42,
   "id": "d69fe8ea",
   "metadata": {},
   "outputs": [
    {
     "name": "stdout",
     "output_type": "stream",
     "text": [
      "Your subscription expires in 4 days.\n",
      "Renew now and save 10%!\n",
      "===========================================\n",
      "Berechnung abgeschlossen.\n"
     ]
    }
   ],
   "source": [
    "tage_bis_ablauf = int(input(\"Geben Sie die Anzahl der Tage bis zum Ablauf ein: \"))\n",
    "\n",
    "if tage_bis_ablauf < 0:\n",
    "    print(\"Your subscription has expired.\")\n",
    "elif tage_bis_ablauf == 1:\n",
    "    print(\"Your subscription expires within a day!\")\n",
    "    print(\"Renew now and save 20%!\")\n",
    "elif tage_bis_ablauf <= 5:\n",
    "    print(f\"Your subscription expires in {tage_bis_ablauf} days.\")\n",
    "    print(\"Renew now and save 10%!\")\n",
    "elif tage_bis_ablauf <= 10:\n",
    "    print(\"Your subscription will expire soon. Renew now!\")\n",
    "else:\n",
    "    print(\"(No message)\")  # optional, zeigt, dass keine Meldung kommt\n",
    "print(\"===========================================\")\n",
    "print(\"Berechnung abgeschlossen.\")"
   ]
  },
  {
   "cell_type": "markdown",
   "id": "4e4bb5c1",
   "metadata": {},
   "source": [
    "#LÖSUNG VON NICKOLAS"
   ]
  },
  {
   "cell_type": "code",
   "execution_count": 56,
   "id": "d55ecc9c",
   "metadata": {},
   "outputs": [
    {
     "name": "stdout",
     "output_type": "stream",
     "text": [
      "12\n"
     ]
    }
   ],
   "source": [
    "from random import *\n",
    "\n",
    "#import random\n",
    "daysUntilExpiration = randint(0,12)\n",
    "discountPercentage = 0\n",
    "print(daysUntilExpiration)\n",
    "\n",
    "if daysUntilExpiration == 0:\n",
    "    print('Your subscription has expired')\n",
    "elif daysUntilExpiration == 1:\n",
    "    print('Your subscription expires within a day!\\nRenew now and save 20%')\n",
    "    discountPercentage = 20\n",
    "elif daysUntilExpiration <= 5:\n",
    "    print(f'Your subscription expires in {daysUntilExpiration} days.\\n Renew now and save 10%')\n",
    "    discountPercentage = 10\n",
    "elif daysUntilExpiration <= 10:\n",
    "    print('Your subscription will expire soon. Renew now!')"
   ]
  },
  {
   "cell_type": "markdown",
   "id": "088f9f14",
   "metadata": {},
   "source": [
    "#  Match case\n",
    "* Match case fuer direkte vergleiche\n",
    "if elif else fuer erweiterte/komplexe bedingungen:\n",
    "* case _ ist also praktisch dasselbe wie else.\n",
    " "
   ]
  },
  {
   "cell_type": "code",
   "execution_count": 75,
   "id": "698beda6",
   "metadata": {},
   "outputs": [
    {
     "name": "stdout",
     "output_type": "stream",
     "text": [
      "1. Wurf: 6 + 6 + 6 = 9\n",
      "Dreierpasch! 6 Bonuspunkte!\n",
      "Summe inkl. Bonus: 15\n",
      "Du gewinnst!\n"
     ]
    }
   ],
   "source": [
    "from random import randint\n",
    "wuerfel1 = randint(1, 6)\n",
    "wuerfel2 = randint(1, 6)\n",
    "wuerfel3 = randint(1, 6)\n",
    "summe = würfel1 + würfel2 + würfel3\n",
    "print(f\"1. Wurf: {wuerfel1} + {wuerfel2} + {wuerfel3} = {summe}\")\n",
    "bonus = 0\n",
    "if wuerfel1 == wuerfel2 == wuerfel3:  \n",
    "    bonus += 6\n",
    "    print(\"Dreierpasch! 6 Bonuspunkte!\")\n",
    "elif wuerfel1 == würfel2 or wuerfel1 == wuerfel3 or wuerfel2 == wuerfel3:  \n",
    "    bonus += 2\n",
    "    print(\"Zweierpasch! 2 Bonuspunkte!\")\n",
    "gesamt = summe + bonus\n",
    "print(f\"Summe inkl. Bonus: {gesamt}\")\n",
    "if gesamt >= 15:\n",
    "    print(\"Du gewinnst!\")\n",
    "else:\n",
    "    print(\"Du verlierst!\")\n"
   ]
  },
  {
   "cell_type": "markdown",
   "id": "36cd67f2",
   "metadata": {},
   "source": [
    "# Geschachtelter Entscheidungslogik mit if, else if und else\n",
    " * Die Boni sollten nicht aufeinander Summiert werden.\n",
    " * Durch die Schachtelung können wir Codeblöcke innerhalb von Codeblöcken platzieren. In diesem Fall schachteln wir eine if- und else-Kombination (die Überprüfung auf Zweierpasche) in einer anderen if-Anweisung (die Überprüfung auf Dreierpasche), um zu verhindern, dass beide als Bonus berechnet werden.\n",
    " * Wir ändern das Spiel so, dass es nicht mehr nur um Sieg oder Niederlage geht, sondern \n",
    "für jedes Ergebnis fiktive Preise vergeben werden, damit es noch mehr Spaß macht. Wir \n",
    "können vier Preise anbieten. Der Spieler sollte jedoch nur einen Preis gewinnen:\n",
    " * Wenn die Punktzahl des Spielers mehr als oder gleich 16 ist, gewinnt er ein neues Auto.\n",
    " * Wenn die Punktzahl des Spielers mehr als oder gleich 10 ist, gewinnt er einen neuen Laptop.\n",
    " * Wenn der Spieler genau 7 erzielt, gewinnt er eine Reise.\n",
    "* Andernfalls gewinnt der Spieler ein Kätzchen."
   ]
  },
  {
   "cell_type": "code",
   "execution_count": 82,
   "id": "e1fba222",
   "metadata": {},
   "outputs": [
    {
     "name": "stdout",
     "output_type": "stream",
     "text": [
      "===========================================\n",
      "Geschachtelte Entscheidungslogik\n",
      "===========================================\n",
      "Dein Preis: Ein Kaetzchen!\n",
      "===========================================\n",
      "Berechnung abgeschlossen.\n"
     ]
    }
   ],
   "source": [
    "print(\"===========================================\")\n",
    "print(\"Geschachtelte Entscheidungslogik\")\n",
    "punkte = int(input(\"Gib deine Punktzahl ein: \"))\n",
    "\n",
    "if punkte >= 16:\n",
    "    prize = \"🚗 Ein neues Auto!\"\n",
    "elif punkte >= 10:\n",
    "    prize = \"💻 Ein neuer Laptop!\"\n",
    "else:\n",
    "    if punkte == 7:\n",
    "        prize = \"✈️ Eine Reise!\"\n",
    "    else:\n",
    "        prize = \"Ein Kaetzchen!\"\n",
    "print(\"===========================================\")\n",
    "print(\"Dein Preis:\", prize)\n",
    "print(\"===========================================\")    \n",
    "print(\"Berechnung abgeschlossen.\")\n"
   ]
  }
 ],
 "metadata": {
  "kernelspec": {
   "display_name": "Python 3",
   "language": "python",
   "name": "python3"
  },
  "language_info": {
   "codemirror_mode": {
    "name": "ipython",
    "version": 3
   },
   "file_extension": ".py",
   "mimetype": "text/x-python",
   "name": "python",
   "nbconvert_exporter": "python",
   "pygments_lexer": "ipython3",
   "version": "3.13.5"
  }
 },
 "nbformat": 4,
 "nbformat_minor": 5
}
