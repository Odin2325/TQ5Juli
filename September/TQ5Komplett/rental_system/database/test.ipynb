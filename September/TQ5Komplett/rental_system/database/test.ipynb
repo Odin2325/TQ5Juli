{
 "cells": [
  {
   "cell_type": "code",
   "execution_count": null,
   "id": "f8d67866",
   "metadata": {},
   "outputs": [],
   "source": [
    "import sqlite3\n",
    "import os\n",
    "\n",
    "# Pfad zur SQLite-Datenbank\n",
    "db_path = 'C:\\\\Users\\\\mytq\\\\Desktop\\\\TQ5\\\\TQ5Juli\\\\September\\\\TQ5Komplett\\\\rental_system\\\\rental.db' \n",
    "      # or os.path.join('..', 'rental.db')\n",
    "\n",
    "# Stelle die Verbindung zur Datenbank her\n",
    "try:\n",
    "    conn = sqlite3.connect(db_path)\n",
    "    print(\"Verbindung zur Datenbank erfolgreich hergestellt.\")\n",
    "except sqlite3.Error as e:\n",
    "    print(f\"Fehler beim Verbinden mit der Datenbank: {e}\")\n",
    "\n",
    "# Erstelle ein Cursor-Objekt\n",
    "cur = conn.cursor()"
   ]
  }
 ],
 "metadata": {
  "language_info": {
   "name": "python"
  }
 },
 "nbformat": 4,
 "nbformat_minor": 5
}
