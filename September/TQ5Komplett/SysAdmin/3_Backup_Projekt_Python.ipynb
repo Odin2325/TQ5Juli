{
 "cells": [
  {
   "cell_type": "markdown",
   "id": "a105a887",
   "metadata": {},
   "source": [
    "# Python-Projekt: Backup-Skript mit Fehlerprotokollierung \n",
    "## Lernziele \n",
    "- Verzeichnisse und Dateien in Python verwalten \n",
    "- Dateien und Ordner mit Python kopieren \n",
    "- Fehler behandeln und abfangen \n",
    "- Logdateien erstellen und auswerten \n",
    "- Ein echtes Mini-Tool Schritt für Schritt entwickeln"
   ]
  },
  {
   "cell_type": "code",
   "execution_count": 34,
   "id": "33b246a0",
   "metadata": {},
   "outputs": [],
   "source": [
    "import os\n",
    "import datetime\n",
    "import shutil\n",
    "\n",
    "# source_file = r\"C:\\Users\\mytq\\Desktop\\TQ5\\TQ5September\\Wichtige Daten\\zu sichernde.txt\" \n",
    "# dest_file = r\"C:\\Users\\mytq\\Desktop\\TQ5\\TQ5September\\Backup\\TestBackup\\zu sichernde datei2.txt\"\n",
    "\n",
    "source_dir = r\"C:\\Users\\mytq\\Desktop\\TQ5\\TQ5September\\Wichtige Daten\"\n",
    "dest_dir = r\"C:\\Users\\mytq\\Desktop\\TQ5\\TQ5September\\Backup\\TestBackup\"\n",
    "\n",
    "def backup_application():\n",
    "    log_dir = r\"C:\\Users\\mytq\\Desktop\\TQ5\\TQ5September\\Backup\\BackupLogs\" \n",
    "    os.makedirs(log_dir, exist_ok=True) \n",
    "    log_file = os.path.join(log_dir, f\"backup_{datetime.datetime.now():%Y-%m-%d_%H-%M-%S}.log\") \n",
    " \n",
    "    def log(message): \n",
    "        with open(log_file, \"a\", encoding=\"utf-8\") as f: \n",
    "            f.write(message + \"\\n\") \n",
    "        print(message)\n",
    "\n",
    "    log(\"Backup-Programm Startet!\")\n",
    "    log(f\"{os.getlogin()} hat das Programm um {datetime.datetime.today().strftime('%d.%m.%Y-%H:%M:%S')} gestartet.\")\n",
    "    # shutil.copy2(source_file, dest_file)\n",
    "    for root, dirs, files in os.walk(source_dir): \n",
    "        rel_path = os.path.relpath(root, source_dir) \n",
    "        target_dir = os.path.join (dest_dir, rel_path) \n",
    "        os.makedirs(target_dir, exist_ok=True) \n",
    " \n",
    "        for file in files: \n",
    "            source_file = os.path.join(root, file) \n",
    "            dest_file = os.path.join(target_dir, file) \n",
    "            try:\n",
    "                shutil.copy2(source_file, dest_file) \n",
    "                print(f\"Fertig Kopiert: {source_file} -> {dest_file}\")\n",
    "            except Exception as e:\n",
    "                print(f\"[ERROR] {source_file} konnte nicht kopiert werden: {e}\") \n",
    "                print(\"Programm wird fortgesetzt...\")\n",
    "    log(\"Backup erfolgreich!\")\n",
    "    log(\"Backup-Programm Beendet!\")"
   ]
  },
  {
   "cell_type": "code",
   "execution_count": 36,
   "id": "925c31ad",
   "metadata": {},
   "outputs": [
    {
     "name": "stdout",
     "output_type": "stream",
     "text": [
      "Backup-Programm Startet!\n",
      "mytq hat das Programm um 14.09.2025-20:38:33 gestartet.\n",
      "Fertig Kopiert: C:\\Users\\mytq\\Desktop\\TQ5\\TQ5September\\Wichtige Daten\\zu sichernde datei - Kopie.txt -> C:\\Users\\mytq\\Desktop\\TQ5\\TQ5September\\Backup\\TestBackup\\.\\zu sichernde datei - Kopie.txt\n",
      "Fertig Kopiert: C:\\Users\\mytq\\Desktop\\TQ5\\TQ5September\\Wichtige Daten\\zu sichernde datei.txt -> C:\\Users\\mytq\\Desktop\\TQ5\\TQ5September\\Backup\\TestBackup\\.\\zu sichernde datei.txt\n",
      "Fertig Kopiert: C:\\Users\\mytq\\Desktop\\TQ5\\TQ5September\\Wichtige Daten\\zu sichernde datei2 - Kopie.txt -> C:\\Users\\mytq\\Desktop\\TQ5\\TQ5September\\Backup\\TestBackup\\.\\zu sichernde datei2 - Kopie.txt\n",
      "[ERROR] C:\\Users\\mytq\\Desktop\\TQ5\\TQ5September\\Wichtige Daten\\zu sichernde datei2.txt konnte nicht kopiert werden: [Errno 13] Permission denied: 'C:\\\\Users\\\\mytq\\\\Desktop\\\\TQ5\\\\TQ5September\\\\Wichtige Daten\\\\zu sichernde datei2.txt'\n",
      "Programm wird fortgesetzt...\n",
      "Fertig Kopiert: C:\\Users\\mytq\\Desktop\\TQ5\\TQ5September\\Wichtige Daten\\August\\ABM 13.08. string variablen.ipynb -> C:\\Users\\mytq\\Desktop\\TQ5\\TQ5September\\Backup\\TestBackup\\August\\ABM 13.08. string variablen.ipynb\n",
      "Fertig Kopiert: C:\\Users\\mytq\\Desktop\\TQ5\\TQ5September\\Wichtige Daten\\August\\ABM 14.08.ipynb -> C:\\Users\\mytq\\Desktop\\TQ5\\TQ5September\\Backup\\TestBackup\\August\\ABM 14.08.ipynb\n",
      "Fertig Kopiert: C:\\Users\\mytq\\Desktop\\TQ5\\TQ5September\\Wichtige Daten\\August\\ABM 18.08.ipynb -> C:\\Users\\mytq\\Desktop\\TQ5\\TQ5September\\Backup\\TestBackup\\August\\ABM 18.08.ipynb\n",
      "Fertig Kopiert: C:\\Users\\mytq\\Desktop\\TQ5\\TQ5September\\Wichtige Daten\\August\\ABM 20.08. Schleifen.ipynb -> C:\\Users\\mytq\\Desktop\\TQ5\\TQ5September\\Backup\\TestBackup\\August\\ABM 20.08. Schleifen.ipynb\n",
      "Fertig Kopiert: C:\\Users\\mytq\\Desktop\\TQ5\\TQ5September\\Wichtige Daten\\August\\ABM 25.08.ipynb -> C:\\Users\\mytq\\Desktop\\TQ5\\TQ5September\\Backup\\TestBackup\\August\\ABM 25.08.ipynb\n",
      "Fertig Kopiert: C:\\Users\\mytq\\Desktop\\TQ5\\TQ5September\\Wichtige Daten\\August\\ABM 26.08. tulpen.ipynb -> C:\\Users\\mytq\\Desktop\\TQ5\\TQ5September\\Backup\\TestBackup\\August\\ABM 26.08. tulpen.ipynb\n",
      "Fertig Kopiert: C:\\Users\\mytq\\Desktop\\TQ5\\TQ5September\\Wichtige Daten\\August\\ABM 27.08. OOP Klassen.ipynb -> C:\\Users\\mytq\\Desktop\\TQ5\\TQ5September\\Backup\\TestBackup\\August\\ABM 27.08. OOP Klassen.ipynb\n",
      "Fertig Kopiert: C:\\Users\\mytq\\Desktop\\TQ5\\TQ5September\\Wichtige Daten\\August\\ABM 28.08. Klassen u. Metoden.ipynb -> C:\\Users\\mytq\\Desktop\\TQ5\\TQ5September\\Backup\\TestBackup\\August\\ABM 28.08. Klassen u. Metoden.ipynb\n",
      "Fertig Kopiert: C:\\Users\\mytq\\Desktop\\TQ5\\TQ5September\\Wichtige Daten\\August\\ABM Dictionaries.ipynb -> C:\\Users\\mytq\\Desktop\\TQ5\\TQ5September\\Backup\\TestBackup\\August\\ABM Dictionaries.ipynb\n",
      "Fertig Kopiert: C:\\Users\\mytq\\Desktop\\TQ5\\TQ5September\\Wichtige Daten\\August\\GA 22.08. Proteine 2.0.ipynb -> C:\\Users\\mytq\\Desktop\\TQ5\\TQ5September\\Backup\\TestBackup\\August\\GA 22.08. Proteine 2.0.ipynb\n",
      "Fertig Kopiert: C:\\Users\\mytq\\Desktop\\TQ5\\TQ5September\\Wichtige Daten\\August\\HA 18.08. Würfelspiel.ipynb -> C:\\Users\\mytq\\Desktop\\TQ5\\TQ5September\\Backup\\TestBackup\\August\\HA 18.08. Würfelspiel.ipynb\n",
      "Fertig Kopiert: C:\\Users\\mytq\\Desktop\\TQ5\\TQ5September\\Wichtige Daten\\August\\HA 19.08. Währungsrechnung u. Wortgenerator.ipynb -> C:\\Users\\mytq\\Desktop\\TQ5\\TQ5September\\Backup\\TestBackup\\August\\HA 19.08. Währungsrechnung u. Wortgenerator.ipynb\n",
      "Fertig Kopiert: C:\\Users\\mytq\\Desktop\\TQ5\\TQ5September\\Wichtige Daten\\August\\HA 20.08. Rollenspiel.ipynb -> C:\\Users\\mytq\\Desktop\\TQ5\\TQ5September\\Backup\\TestBackup\\August\\HA 20.08. Rollenspiel.ipynb\n",
      "Fertig Kopiert: C:\\Users\\mytq\\Desktop\\TQ5\\TQ5September\\Wichtige Daten\\August\\HA 20.08. Schulnoten programm.ipynb -> C:\\Users\\mytq\\Desktop\\TQ5\\TQ5September\\Backup\\TestBackup\\August\\HA 20.08. Schulnoten programm.ipynb\n",
      "Fertig Kopiert: C:\\Users\\mytq\\Desktop\\TQ5\\TQ5September\\Wichtige Daten\\August\\HA 21.08. Dictionaries.ipynb -> C:\\Users\\mytq\\Desktop\\TQ5\\TQ5September\\Backup\\TestBackup\\August\\HA 21.08. Dictionaries.ipynb\n",
      "Fertig Kopiert: C:\\Users\\mytq\\Desktop\\TQ5\\TQ5September\\Wichtige Daten\\August\\HA 22.08. Black Jack.ipynb -> C:\\Users\\mytq\\Desktop\\TQ5\\TQ5September\\Backup\\TestBackup\\August\\HA 22.08. Black Jack.ipynb\n",
      "Fertig Kopiert: C:\\Users\\mytq\\Desktop\\TQ5\\TQ5September\\Wichtige Daten\\August\\HA 25.08. Methoden übung2.ipynb -> C:\\Users\\mytq\\Desktop\\TQ5\\TQ5September\\Backup\\TestBackup\\August\\HA 25.08. Methoden übung2.ipynb\n",
      "Fertig Kopiert: C:\\Users\\mytq\\Desktop\\TQ5\\TQ5September\\Wichtige Daten\\August\\HA 26.08. Speudo structo und code.ipynb -> C:\\Users\\mytq\\Desktop\\TQ5\\TQ5September\\Backup\\TestBackup\\August\\HA 26.08. Speudo structo und code.ipynb\n",
      "Fertig Kopiert: C:\\Users\\mytq\\Desktop\\TQ5\\TQ5September\\Wichtige Daten\\August\\HA 27.08. Auto Klasse und Methoden.ipynb -> C:\\Users\\mytq\\Desktop\\TQ5\\TQ5September\\Backup\\TestBackup\\August\\HA 27.08. Auto Klasse und Methoden.ipynb\n",
      "Fertig Kopiert: C:\\Users\\mytq\\Desktop\\TQ5\\TQ5September\\Wichtige Daten\\Banksystem\\Bankdatei.py -> C:\\Users\\mytq\\Desktop\\TQ5\\TQ5September\\Backup\\TestBackup\\Banksystem\\Bankdatei.py\n",
      "Fertig Kopiert: C:\\Users\\mytq\\Desktop\\TQ5\\TQ5September\\Wichtige Daten\\Banksystem\\Bankkontodatei.py -> C:\\Users\\mytq\\Desktop\\TQ5\\TQ5September\\Backup\\TestBackup\\Banksystem\\Bankkontodatei.py\n",
      "Fertig Kopiert: C:\\Users\\mytq\\Desktop\\TQ5\\TQ5September\\Wichtige Daten\\Banksystem\\Blaupause.ipynb -> C:\\Users\\mytq\\Desktop\\TQ5\\TQ5September\\Backup\\TestBackup\\Banksystem\\Blaupause.ipynb\n",
      "Fertig Kopiert: C:\\Users\\mytq\\Desktop\\TQ5\\TQ5September\\Wichtige Daten\\Banksystem\\Kundendatei.py -> C:\\Users\\mytq\\Desktop\\TQ5\\TQ5September\\Backup\\TestBackup\\Banksystem\\Kundendatei.py\n",
      "Fertig Kopiert: C:\\Users\\mytq\\Desktop\\TQ5\\TQ5September\\Wichtige Daten\\Banksystem\\__pycache__\\ABM_03_09_formatierungs_methode.cpython-313.pyc -> C:\\Users\\mytq\\Desktop\\TQ5\\TQ5September\\Backup\\TestBackup\\Banksystem\\__pycache__\\ABM_03_09_formatierungs_methode.cpython-313.pyc\n",
      "Fertig Kopiert: C:\\Users\\mytq\\Desktop\\TQ5\\TQ5September\\Wichtige Daten\\Banksystem\\__pycache__\\Bankdatei.cpython-313.pyc -> C:\\Users\\mytq\\Desktop\\TQ5\\TQ5September\\Backup\\TestBackup\\Banksystem\\__pycache__\\Bankdatei.cpython-313.pyc\n",
      "Fertig Kopiert: C:\\Users\\mytq\\Desktop\\TQ5\\TQ5September\\Wichtige Daten\\Banksystem\\__pycache__\\Kunde.cpython-313.pyc -> C:\\Users\\mytq\\Desktop\\TQ5\\TQ5September\\Backup\\TestBackup\\Banksystem\\__pycache__\\Kunde.cpython-313.pyc\n",
      "Fertig Kopiert: C:\\Users\\mytq\\Desktop\\TQ5\\TQ5September\\Wichtige Daten\\Banksystem\\__pycache__\\Kundendatei.cpython-313.pyc -> C:\\Users\\mytq\\Desktop\\TQ5\\TQ5September\\Backup\\TestBackup\\Banksystem\\__pycache__\\Kundendatei.cpython-313.pyc\n",
      "Backup erfolgreich!\n",
      "Backup-Programm Beendet!\n"
     ]
    }
   ],
   "source": [
    "backup_application()"
   ]
  }
 ],
 "metadata": {
  "kernelspec": {
   "display_name": "Python 3",
   "language": "python",
   "name": "python3"
  },
  "language_info": {
   "codemirror_mode": {
    "name": "ipython",
    "version": 3
   },
   "file_extension": ".py",
   "mimetype": "text/x-python",
   "name": "python",
   "nbconvert_exporter": "python",
   "pygments_lexer": "ipython3",
   "version": "3.13.5"
  }
 },
 "nbformat": 4,
 "nbformat_minor": 5
}
