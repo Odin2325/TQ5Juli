{
 "cells": [
  {
   "cell_type": "markdown",
   "id": "9cb67490",
   "metadata": {},
   "source": [
    "# Ordnergroesse Berechnen Projekt"
   ]
  },
  {
   "cell_type": "markdown",
   "id": "802bf110",
   "metadata": {},
   "source": [
    "## Schritt 1 – „Hallo Ordnergröße“ \n",
    "\n",
    "### Theorie: \n",
    "Wir beginnen mit einer einfachen Ausgabe. \n",
    "\n",
    "### Beispielcode: \n",
    "```python\n",
    "print(\"Programm zur Berechnung der Ordnergröße gestartet!\") \n",
    "```\n",
    "\n",
    "### Übung: \n",
    "1. Schreibe ein Programm, das „Berechnung gestartet“ und am Ende „Berechnung beendet“ \n",
    "ausgibt. \n",
    "2. Ergänze das Programm so, dass dein Name und das aktuelle Datum angezeigt werden. "
   ]
  },
  {
   "cell_type": "code",
   "execution_count": null,
   "id": "61281c4c",
   "metadata": {},
   "outputs": [
    {
     "name": "stdout",
     "output_type": "stream",
     "text": [
      "Programm zur Berechnung der Ordnergröße gestartet!\n",
      "Gestartet von: Nicolas um 12.09.2025\n",
      "Programm beendet!\n"
     ]
    }
   ],
   "source": [
    "import datetime\n",
    "print('Programm zur Berechnung der Ordnergröße gestartet!')\n",
    "print('Gestartet von: Nicolas um', datetime.datetime.today().strftime('%d.%m.%Y'))\n",
    "\n",
    "### TODO: Logik implementieren\n",
    "\n",
    "print('Programm beendet!')"
   ]
  },
  {
   "cell_type": "markdown",
   "id": "dd01de01",
   "metadata": {},
   "source": [
    "## Schritt 2 – Dateigröße einer einzelnen Datei\n",
    "\n",
    "### Theorie: \n",
    "Mit os.path.getsize können wir die Größe einer Datei in Bytes herausfinden. \n",
    "\n",
    "### Beispielcode: \n",
    "\n",
    "```python\n",
    "import os \n",
    " \n",
    "file_path = \"/home/user/daten/test.txt\"  # oder \n",
    "\"C:\\\\Users\\\\Rico\\\\Documents\\\\daten\\\\test.txt\" \n",
    "print(f\"Größe der Datei: {os.path.getsize(file_path)} Bytes\") \n",
    "```\n",
    "\n",
    "### Übung: \n",
    "1. Erstelle eine Testdatei und prüfe ihre Größe. \n",
    "2. Gib die Größe nicht in Bytes, sondern in Kilobytes aus (Tipp: durch 1024 teilen)."
   ]
  },
  {
   "cell_type": "code",
   "execution_count": null,
   "id": "5c559953",
   "metadata": {},
   "outputs": [],
   "source": []
  }
 ],
 "metadata": {
  "kernelspec": {
   "display_name": "Python 3",
   "language": "python",
   "name": "python3"
  },
  "language_info": {
   "codemirror_mode": {
    "name": "ipython",
    "version": 3
   },
   "file_extension": ".py",
   "mimetype": "text/x-python",
   "name": "python",
   "nbconvert_exporter": "python",
   "pygments_lexer": "ipython3",
   "version": "3.12.6"
  }
 },
 "nbformat": 4,
 "nbformat_minor": 5
}
