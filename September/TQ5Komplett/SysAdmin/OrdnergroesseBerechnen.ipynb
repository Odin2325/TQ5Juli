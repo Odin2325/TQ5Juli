{
 "cells": [
  {
   "cell_type": "markdown",
   "id": "9cb67490",
   "metadata": {},
   "source": [
    "# Ordnergroesse Berechnen Projekt"
   ]
  },
  {
   "cell_type": "markdown",
   "id": "802bf110",
   "metadata": {},
   "source": [
    "## Schritt 1 – „Hallo Ordnergröße“ \n",
    "\n",
    "### Theorie: \n",
    "Wir beginnen mit einer einfachen Ausgabe. \n",
    "\n",
    "### Beispielcode: \n",
    "```python\n",
    "print(\"Programm zur Berechnung der Ordnergröße gestartet!\") \n",
    "```\n",
    "\n",
    "### Übung: \n",
    "1. Schreibe ein Programm, das „Berechnung gestartet“ und am Ende „Berechnung beendet“ \n",
    "ausgibt. \n",
    "2. Ergänze das Programm so, dass dein Name und das aktuelle Datum angezeigt werden. "
   ]
  },
  {
   "cell_type": "code",
   "execution_count": null,
   "id": "61281c4c",
   "metadata": {},
   "outputs": [
    {
     "name": "stdout",
     "output_type": "stream",
     "text": [
      "Programm zur Berechnung der Ordnergröße gestartet!\n",
      "Gestartet von: Nicolas um 12.09.2025\n",
      "Programm beendet!\n"
     ]
    }
   ],
   "source": [
    "import datetime\n",
    "print('Programm zur Berechnung der Ordnergröße gestartet!')\n",
    "print('Gestartet von: Nicolas um', datetime.datetime.today().strftime('%d.%m.%Y'))\n",
    "\n",
    "### TODO: Logik implementieren\n",
    "\n",
    "print('Programm beendet!')"
   ]
  },
  {
   "cell_type": "markdown",
   "id": "dd01de01",
   "metadata": {},
   "source": [
    "## Schritt 2 – Dateigröße einer einzelnen Datei\n",
    "\n",
    "### Theorie: \n",
    "Mit os.path.getsize können wir die Größe einer Datei in Bytes herausfinden. \n",
    "\n",
    "### Beispielcode: \n",
    "\n",
    "```python\n",
    "import os \n",
    " \n",
    "file_path = \"/home/user/daten/test.txt\"  # oder \"C:\\\\Users\\\\Rico\\\\Documents\\\\daten\\\\test.txt\" \n",
    "print(f\"Größe der Datei: {os.path.getsize(file_path)} Bytes\") \n",
    "```\n",
    "\n",
    "### Übung: \n",
    "1. Erstelle eine Testdatei und prüfe ihre Größe. \n",
    "2. Gib die Größe nicht in Bytes, sondern in Kilobytes aus (Tipp: durch 1024 teilen)."
   ]
  },
  {
   "cell_type": "code",
   "execution_count": 17,
   "id": "5c559953",
   "metadata": {},
   "outputs": [
    {
     "name": "stdout",
     "output_type": "stream",
     "text": [
      "Groesse der Datei: 0.19 Megabytes.\n"
     ]
    }
   ],
   "source": [
    "import os\n",
    "# In ein String bedeutet \\ einen Escape Character.\n",
    "# Daher muessen wir \\\\ schreiben, damit es als Backslash interpretiert wird.\n",
    "file_path = \"1_Ordnergrosse_Projekt_Python.pdf\"\n",
    "print(f\"Groesse der Datei: {os.path.getsize(file_path)/(1024**2):.2f} Megabytes.\")"
   ]
  },
  {
   "cell_type": "markdown",
   "id": "b7f8a2e5",
   "metadata": {},
   "source": [
    "## Schritt 3 – Durch einen Ordner laufen \n",
    "\n",
    "### Theorie: \n",
    "Mit os.walk können wir durch alle Unterordner und Dateien iterieren. \n",
    "\n",
    "### Beispielcode: \n",
    "\n",
    "```python\n",
    "import os \n",
    " \n",
    "folder = \"/home/user/daten\" \n",
    " \n",
    "for dirpath, dirnames, filenames in os.walk(folder): \n",
    "    for f in filenames: \n",
    "        print(os.path.join(dirpath, f)) \n",
    "```\n",
    "\n",
    "### Übung: \n",
    "\n",
    "1. Liste alle Dateien in deinem Testordner auf. \n",
    "2. Zähle die Anzahl der Dateien und gib sie am Ende aus"
   ]
  },
  {
   "cell_type": "code",
   "execution_count": 22,
   "id": "f216233a",
   "metadata": {},
   "outputs": [
    {
     "name": "stdout",
     "output_type": "stream",
     "text": [
      "Datei: C:\\Users\\nicoa\\Desktop\\TQ5Juli\\12Sep\\DatenbankInDerProgrammierung\\DatenbankUebungen.ipynb, Groesse: 7184 Bytes\n",
      "Datei: C:\\Users\\nicoa\\Desktop\\TQ5Juli\\12Sep\\SysAdmin\\1_Ordnergrosse_Projekt_Python.pdf, Groesse: 197411 Bytes\n",
      "Datei: C:\\Users\\nicoa\\Desktop\\TQ5Juli\\12Sep\\SysAdmin\\2_Cleanup_Projekt_Python.pdf, Groesse: 188520 Bytes\n",
      "Datei: C:\\Users\\nicoa\\Desktop\\TQ5Juli\\12Sep\\SysAdmin\\3_Backup_Projekt_Python.pdf, Groesse: 199607 Bytes\n",
      "Datei: C:\\Users\\nicoa\\Desktop\\TQ5Juli\\12Sep\\SysAdmin\\OrdnergroesseBerechnen.ipynb, Groesse: 6785 Bytes\n",
      "Anzahl der Dateien: 5\n"
     ]
    }
   ],
   "source": [
    "import os\n",
    "\n",
    "folder = \"C:\\\\Users\\\\nicoa\\\\Desktop\\\\TQ5Juli\\\\12Sep\"\n",
    "zaehler = 0\n",
    "\n",
    "for dirpath, dirnames, filenames in os.walk(folder):\n",
    "    for dateiName in filenames:\n",
    "        fp = os.path.join(dirpath, dateiName)\n",
    "        zaehler += 1\n",
    "        os.path.getsize(fp)\n",
    "        print(f\"Datei: {fp}, Groesse: {os.path.getsize(fp)} Bytes\")\n",
    "print(f\"Anzahl der Dateien: {zaehler}\")"
   ]
  },
  {
   "cell_type": "markdown",
   "id": "5defc1f5",
   "metadata": {},
   "source": [
    "## Schritt 4 – Gesamte Ordnergröße berechnen \n",
    "\n",
    "### Theorie: \n",
    "\n",
    "Wir summieren die Dateigrößen, um die Gesamtgröße zu erhalten. \n",
    "\n",
    "## Beispielcode:\n",
    "\n",
    "```python\n",
    "import os \n",
    " \n",
    "def get_folder_size(path): \n",
    "    total_size = 0 \n",
    "    for dirpath, dirnames, filenames in os.walk(path): \n",
    "        for f in filenames: \n",
    "            fp = os.path.join(dirpath, f) \n",
    "            if os.path.exists(fp): \n",
    "                total_size += os.path.getsize(fp) \n",
    "    return total_size \n",
    " \n",
    "folder = \"/home/user/daten\"  # oder \n",
    "\"C:\\\\Users\\\\Rico\\\\Documents\\\\daten\" \n",
    "size = get_folder_size(folder) \n",
    "print(f\"Größe von '{folder}': {size} Bytes\") \n",
    "```\n",
    "\n",
    "## Übung: \n",
    "1. Berechne die Ordnergröße in Bytes. \n",
    "2. Ändere die Ausgabe so, dass die Größe in Kilobytes angezeigt wird."
   ]
  },
  {
   "cell_type": "code",
   "execution_count": 6,
   "id": "e5ec380c",
   "metadata": {},
   "outputs": [
    {
     "name": "stdout",
     "output_type": "stream",
     "text": [
      "Das Verzeichnis: C:\\Users\\mytq\\Desktop\\TQ5\\TQ5Juli\\September\\TQ5Komplett hat die Groesse: 0.69 MegaBytes\n"
     ]
    }
   ],
   "source": [
    "import os\n",
    "\n",
    "def groesse_berechnen(folder):\n",
    "    gesamt_groesse = 0\n",
    "\n",
    "    # Erster Schleifen Durchgang von os.walk =>\n",
    "    # C:\\Users\\nicoa\\Desktop\\TQ5Juli\\12Sep => Welche verzeichnisse(dirpath) und welche dateien(filenames)?\n",
    "    # dirnames = [DatenbankInDerProgrammierung, SysAdmin]\n",
    "    # filenames = []\n",
    "\n",
    "    # Zweite Schleife Durchgang von os.walk =>\n",
    "    # C:\\Users\\nicoa\\Desktop\\TQ5Juli\\12Sep\\DatenbankInDerProgrammierung\\ => Welche verzeichnisse(dirpath) und welche dateien(filenames)?\n",
    "    # dirnames = []\n",
    "    # filenames = [DatenbankUebungen.ipynb]\n",
    "\n",
    "    # Dritter Schleifen Durchgang von os.walk =>\n",
    "    # C:\\Users\\nicoa\\Desktop\\TQ5Juli\\12Sep\\SysAdmin\\ => Welche verzeichnisse(dirpath) und welche dateien(filenames)?\n",
    "    # dirnames = []\n",
    "    # filenames = [1_Ordnergrosee_Projekt_Python.pdf, 2_Cleanup_Projekt_Python.pdf, 3_Backup_Projekt_Python.pdf, OrdnergroesseBerechnen.ipynb]\n",
    "\n",
    "\n",
    "    for dirpath, dirnames, filenames in os.walk(folder):\n",
    "        for dateiName in filenames:\n",
    "            dateipfad = os.path.join(dirpath, dateiName)\n",
    "            if os.path.exists(dateipfad):\n",
    "                gesamt_groesse += os.path.getsize(dateipfad)\n",
    "\n",
    "    return gesamt_groesse\n",
    "\n",
    "\n",
    "verzeichnis = \"C:\\\\Users\\\\mytq\\\\Desktop\\\\TQ5\\\\TQ5Juli\\\\September\\\\TQ5Komplett\"\n",
    "groesse = groesse_berechnen(verzeichnis)\n",
    "print(f\"Das Verzeichnis: {verzeichnis} hat die Groesse: {groesse/1024**2:.2f} MegaBytes\")"
   ]
  },
  {
   "cell_type": "code",
   "execution_count": null,
   "id": "7bad731a",
   "metadata": {},
   "outputs": [],
   "source": [
    "import datetime\n",
    "\n",
    "def groesse_berechnen_programm():\n",
    "    \n",
    "    print('Programm zur Berechnung der Ordnergröße gestartet!')\n",
    "    print('Gestartet von: Deine Mutter um', datetime.datetime.today().strftime('%d.%m.%Y-%H:%M:%S'))\n",
    "\n",
    "    verzeichnis = input(\"Bitte geben Sie das Verzeichnis an, dessen Groesse Sie berechnen moechten: \")\n",
    "    groesse = groesse_berechnen(verzeichnis)\n",
    "    print(f\"Das Verzeichnis: {verzeichnis} hat die Groesse: {groesse/1024**2:.2f} MegaBytes\")\n",
    "    print(f\"Das Verzeichnis: {verzeichnis} hat die Groesse: {groesse/1024**3:.2f} GigaBytes\")\n",
    "\n",
    "    print('Programm beendet!')"
   ]
  },
  {
   "cell_type": "code",
   "execution_count": null,
   "id": "e2657e4e",
   "metadata": {},
   "outputs": [],
   "source": [
    "groesse_berechnen_programm()"
   ]
  }
 ],
 "metadata": {
  "kernelspec": {
   "display_name": "Python 3",
   "language": "python",
   "name": "python3"
  },
  "language_info": {
   "codemirror_mode": {
    "name": "ipython",
    "version": 3
   },
   "file_extension": ".py",
   "mimetype": "text/x-python",
   "name": "python",
   "nbconvert_exporter": "python",
   "pygments_lexer": "ipython3",
   "version": "3.12.6"
  }
 },
 "nbformat": 4,
 "nbformat_minor": 5
}
