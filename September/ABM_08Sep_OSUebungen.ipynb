{
 "cells": [
  {
   "cell_type": "markdown",
   "id": "cc80a476",
   "metadata": {},
   "source": [
    "1. Aktuelles Verzeichnis überprüfen\n",
    "\n",
    "    Schreibe ein Programm, dass das aktuelle Arbeitsverzeichnis ausgibt.\n",
    "    Wechsle anschließend in ein Verzeichnis namens logs (erstelle es, falls es nicht existiert).\n",
    "    Gib danach erneut das aktuelle Arbeitsverzeichnis aus, um die Änderung zu prüfen.\n"
   ]
  },
  {
   "cell_type": "code",
   "execution_count": 33,
   "id": "6b3a6e1f",
   "metadata": {},
   "outputs": [
    {
     "data": {
      "text/plain": [
       "'C:\\\\Users\\\\mytq\\\\Desktop\\\\TQ5\\\\TQ5Juli\\\\September'"
      ]
     },
     "execution_count": 33,
     "metadata": {},
     "output_type": "execute_result"
    }
   ],
   "source": [
    "import os\n",
    "\n",
    "\n",
    "os.mkdir(\"logs\")\n",
    "os.chdir(\"logs\")\n",
    "os.chdir(\"..\")\n",
    "os.rmdir(\"logs\")\n",
    "os.getcwd()"
   ]
  },
  {
   "cell_type": "markdown",
   "id": "8d2d96fc",
   "metadata": {},
   "source": [
    "2. Dateien und Ordner auflisten\n",
    "\n",
    "    Erstelle ein Skript, das alle Dateien und Verzeichnisse im aktuellen Ordner auflistet.\n",
    "    Gib sie in zwei Gruppen aus: Dateien und Ordner.\n"
   ]
  },
  {
   "cell_type": "code",
   "execution_count": 20,
   "id": "35a75ca2",
   "metadata": {},
   "outputs": [
    {
     "name": "stdout",
     "output_type": "stream",
     "text": [
      "Ordner:\n",
      ".git\n",
      "August\n",
      "Banksystem\n",
      "PythonErsteModule24Juli\n",
      "September\n",
      "\n",
      "Dateien:\n",
      ".gitignore\n",
      "ABM 19.08.ipynb\n",
      "helloworld.py\n",
      "PythonEinführung.ipynb\n"
     ]
    }
   ],
   "source": [
    "import os\n",
    "\n",
    "dateien = []\n",
    "ordner = []\n",
    "\n",
    "os.chdir(\"C:/Users/mytq/Desktop/TQ5/TQ5Juli\")\n",
    "for eintrag in os.listdir('.'):\n",
    "    # Prüfen, ob der Eintrag ein Verzeichnis ist\n",
    "    if os.path.isdir(eintrag):\n",
    "        ordner.append(eintrag)\n",
    "    # Wenn nicht, ist es eine Datei\n",
    "    else:\n",
    "        dateien.append(eintrag)\n",
    "\n",
    "# Ausgabe der Verzeichnisse\n",
    "print(\"Ordner:\")\n",
    "for o in ordner:\n",
    "    print(o)\n",
    "\n",
    "# Ausgabe der Dateien\n",
    "print(\"\\nDateien:\")\n",
    "for d in dateien:\n",
    "    print(d)\n",
    "\n"
   ]
  },
  {
   "cell_type": "markdown",
   "id": "335824a4",
   "metadata": {},
   "source": [
    "Datei überprüfen\n",
    "\n",
    "    Frage den Benutzer nach einem Dateinamen.\n",
    "    Prüfe, ob diese Datei im aktuellen Ordner existiert.\n",
    "    Gib \"Gefunden\" oder \"Nicht gefunden\" aus.\n"
   ]
  },
  {
   "cell_type": "code",
   "execution_count": 35,
   "id": "7f200932",
   "metadata": {},
   "outputs": [
    {
     "name": "stdout",
     "output_type": "stream",
     "text": [
      "Datei 'HA_03Sep_textausgeben.py' gefunden.\n"
     ]
    }
   ],
   "source": [
    "import os\n",
    "\n",
    "os.chdir(\"C:/Users/mytq/Desktop/TQ5/TQ5Juli/September\")\n",
    "\n",
    "gesucht = input(\"Geben Sie den Dateinamen ein, nach dem Sie suchen möchten: \")\n",
    "gefunden = False\n",
    "for eintrag in os.listdir('.'):\n",
    "    if os.path.isfile(eintrag) and eintrag == gesucht:\n",
    "        print(f\"Datei '{gesucht}' gefunden.\")\n",
    "        gefunden = True\n",
    "        break\n",
    "if not gefunden:\n",
    "    print(f\"Datei '{gesucht}' nicht gefunden.\")"
   ]
  },
  {
   "cell_type": "markdown",
   "id": "4a32ee9a",
   "metadata": {},
   "source": [
    "4. Simulation: Temporäre Dateien löschen\n",
    "\n",
    "    Lege in einem Ordner temp mehrere Testdateien an (z. B. file1.tmp, file2.tmp, notes.txt).\n",
    "    Schreibe ein Skript, das alle Dateien mit der Endung .tmp löscht.\n",
    "    Gib aus, welche Dateien gelöscht wurden.\n"
   ]
  },
  {
   "cell_type": "code",
   "execution_count": null,
   "id": "21a40a5b",
   "metadata": {},
   "outputs": [
    {
     "name": "stdout",
     "output_type": "stream",
     "text": [
      "Datei 'file1.tmp' wurde erstellt.\n",
      "Datei 'file2.tmp' wurde erstellt.\n",
      "Datei 'notes.txt' wurde erstellt.\n",
      "\n",
      "--- Starten des Löschvorgangs ---\n",
      "Folgende .tmp-Dateien wurden gelöscht:\n",
      "- file1.tmp\n",
      "- file2.tmp\n",
      "\n",
      "Zurück in den ursprünglichen Ordner gewechselt.\n"
     ]
    }
   ],
   "source": [
    "import os\n",
    "\n",
    "os.mkdir(\"temp\")\n",
    "os.chdir(\"temp\")\n",
    "\n",
    "# 3. Testdateien erstellen\n",
    "dateien_zu_erstellen = ['file1.tmp', 'file2.tmp', 'notes.txt']\n",
    "for dateiname in dateien_zu_erstellen:\n",
    "    with open(dateiname, 'w') as f:\n",
    "        pass  # Erstellt eine leere Datei\n",
    "    print(f\"Datei '{dateiname}' wurde erstellt.\")\n",
    "\n",
    "print(\"\\n--- Starten des Löschvorgangs ---\")\n",
    "\n",
    "# 4. Alle Dateien im aktuellen Ordner (temp) durchlaufen und löschen\n",
    "geloeschte_dateien = []\n",
    "for datei in os.listdir('.'):\n",
    "    if datei.endswith('.tmp'):\n",
    "        # 5. Die Datei löschen\n",
    "        os.remove(datei)\n",
    "        geloeschte_dateien.append(datei)\n",
    "\n",
    "# 6. Ausgeben, welche Dateien gelöscht wurden\n",
    "if geloeschte_dateien:\n",
    "    print(f\"Folgende .tmp-Dateien wurden gelöscht:\")\n",
    "    for d in geloeschte_dateien:\n",
    "        print(f\"- {d}\")\n",
    "else:\n",
    "    print(\"Keine .tmp-Dateien zum Löschen gefunden.\")\n",
    "\n",
    "# Zum Schluss: Zurück in den ursprünglichen Ordner wechseln\n",
    "os.chdir('..')\n",
    "print(\"\\nZurück in den ursprünglichen Ordner gewechselt.\")\n",
    "\n",
    "\n"
   ]
  },
  {
   "cell_type": "markdown",
   "id": "5ffc30e6",
   "metadata": {},
   "source": [
    "5. Simulation: Logrotation\n",
    "\n",
    "    Angenommen, es gibt eine Log-Datei system.log.\n",
    "    Schreibe ein Skript, das sie in system.log.old umbenennt.\n",
    "    Erstelle anschließend eine neue leere Datei system.log.\n",
    "    Dies simuliert eine typische Log-Rotation.\n"
   ]
  },
  {
   "cell_type": "code",
   "execution_count": 31,
   "id": "e12c2057",
   "metadata": {},
   "outputs": [],
   "source": [
    "import os\n",
    "\n",
    "os.rename(\"system.log\", \"system.log.old\")\n",
    "\n",
    "with open(\"system.log\", 'w') as f:\n",
    "        pass"
   ]
  },
  {
   "cell_type": "code",
   "execution_count": null,
   "id": "ba06fb43",
   "metadata": {},
   "outputs": [],
   "source": [
    "import os\n",
    "\n",
    "# 1. Die Log-Datei umbenennen (Log-Rotation)\n",
    "# Prüfe zuerst, ob die Datei existiert, um Fehler zu vermeiden.\n",
    "if os.path.exists(\"system.log\"):\n",
    "    os.rename(\"system.log\", \"system.log.old\")\n",
    "    print(\"system.log wurde in system.log.old umbenannt.\")\n",
    "else:\n",
    "    print(\"system.log existiert nicht. Kann nicht umbenannt werden.\")\n",
    "\n",
    "# 2. Eine neue, leere system.log-Datei erstellen\n",
    "# Der Dateiname muss in Anführungszeichen stehen, um ein String zu sein.\n",
    "with open(\"system.log\", 'w') as f:\n",
    "    pass\n",
    "print(\"Eine neue, leere system.log-Datei wurde erstellt.\")"
   ]
  },
  {
   "cell_type": "markdown",
   "id": "094ec7b1",
   "metadata": {},
   "source": [
    "6. Verzeichnisbericht\n",
    "\n",
    "    Schreibe ein Skript, das:\n",
    "        Den Benutzer nach einem Verzeichnispfad fragt.\n",
    "        Die Gesamtanzahl der Dateien und Unterordner darin ausgibt.\n",
    "        Die 5 größten Dateien (nach Dateigröße) auflistet.\n"
   ]
  },
  {
   "cell_type": "code",
   "execution_count": null,
   "id": "1d012797",
   "metadata": {},
   "outputs": [],
   "source": [
    "import os\n",
    "\n",
    "benutzer_pfad = input(\"Geben Sie den Pfad zum Verzeichnis ein: \")\n",
    "# ab hier KI\n",
    "if os.path.exists(benutzer_pfad) and os.path.isdir(benutzer_pfad):\n",
    "    os.chdir(benutzer_pfad)\n",
    "    print(f\"Arbeitsverzeichnis geändert zu: {benutzer_pfad}\")\n",
    "    print(\"Inhalt des Verzeichnisses:\")\n",
    "    for eintrag in os.listdir('.'):\n",
    "        print(eintrag)\n",
    "\n",
    "\n",
    "    dateien_mit_groesse = []\n",
    "    for eintrag in os.listdir('.'):\n",
    "        if os.path.isfile(eintrag):\n",
    "            groesse = os.path.getsize(eintrag)\n",
    "            dateien_mit_groesse.append((eintrag, groesse))\n",
    "    dateien_mit_groesse.sort(key=lambda x: x[1], reverse=True)\n",
    "    print(\"\\nDie 5 größten Dateien:\")"
   ]
  }
 ],
 "metadata": {
  "kernelspec": {
   "display_name": "Python 3",
   "language": "python",
   "name": "python3"
  },
  "language_info": {
   "codemirror_mode": {
    "name": "ipython",
    "version": 3
   },
   "file_extension": ".py",
   "mimetype": "text/x-python",
   "name": "python",
   "nbconvert_exporter": "python",
   "pygments_lexer": "ipython3",
   "version": "3.13.5"
  }
 },
 "nbformat": 4,
 "nbformat_minor": 5
}
