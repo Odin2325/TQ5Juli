{
 "cells": [
  {
   "cell_type": "markdown",
   "id": "86f235a9",
   "metadata": {},
   "source": [
    "# EVA-Prinzip (Eingabe – Verarbeitung – Ausgabe)"
   ]
  },
  {
   "cell_type": "markdown",
   "id": "5e1866e1",
   "metadata": {},
   "source": [
    "\n",
    "1. Temperaturumrechner\n",
    "Schreibe ein Programm, das eine Temperatur in Celsius einliest, sie in Fahrenheit\n",
    "umrechnet und ausgibt.\n",
    "Formel: $F = C \\cdot \\frac{9}{5} + 32$"
   ]
  },
  {
   "cell_type": "code",
   "execution_count": 1,
   "id": "a40a7174",
   "metadata": {},
   "outputs": [
    {
     "name": "stdout",
     "output_type": "stream",
     "text": [
      "33°C sind 91.4°F\n"
     ]
    }
   ],
   "source": [
    "celsius = int(input(\"Gib die Temperatur in Celsius ein: \"))\n",
    "fahrenheit = (celsius * 9/5) + 32\n",
    "print(f\"{celsius}°C sind {fahrenheit}°F\")"
   ]
  },
  {
   "cell_type": "markdown",
   "id": "0ac7ace9",
   "metadata": {},
   "source": [
    "# Verzweigung (if/else, switch)"
   ]
  },
  {
   "cell_type": "markdown",
   "id": "3c3e9148",
   "metadata": {},
   "source": [
    "3. Notenbewertung\n",
    "Eingabe: Punktzahl (0–100)\n",
    "Ausgabe: Note (z. B. 1 für 90–100, 2 für 80–89, …)"
   ]
  },
  {
   "cell_type": "code",
   "execution_count": 2,
   "id": "f686b825",
   "metadata": {},
   "outputs": [
    {
     "name": "stdout",
     "output_type": "stream",
     "text": [
      "Note: 3\n"
     ]
    }
   ],
   "source": [
    "punkte = int(input(\"Gib deine Punktzahl ein (0-100): \"))\n",
    "if punkte >= 90:\n",
    "    print(\"Note: 1\")\n",
    "elif punkte >= 80:\n",
    "    print(\"Note: 2\")    \n",
    "elif punkte >= 65:\n",
    "    print(\"Note: 3\")\n",
    "elif punkte >= 50:\n",
    "    print(\"Note: 4\")\n",
    "elif punkte >= 10:\n",
    "    print(\"Note: 5\")\n",
    "else:\n",
    "    print(\"Note: 6\")"
   ]
  },
  {
   "cell_type": "markdown",
   "id": "6af33a54",
   "metadata": {},
   "source": [
    "4. Gerade oder ungerade Zahl\n",
    "Eingabe: Eine ganze Zahl\n",
    "Ausgabe: „Die Zahl ist gerade“ oder „Die Zahl ist ungerade“"
   ]
  },
  {
   "cell_type": "code",
   "execution_count": 4,
   "id": "c7c78273",
   "metadata": {},
   "outputs": [
    {
     "name": "stdout",
     "output_type": "stream",
     "text": [
      "763542354812534852358230 ist gerade.\n"
     ]
    }
   ],
   "source": [
    "zahl = int(input(\"Gib eine Zahl ein: \"))\n",
    "if zahl % 2 == 0:\n",
    "    print(f\"{zahl} ist gerade.\")\n",
    "else:\n",
    "    print(f\"{zahl} ist ungerade.\")  "
   ]
  },
  {
   "cell_type": "markdown",
   "id": "7a836e5e",
   "metadata": {},
   "source": [
    "# Schleifen (for, while, do-while)"
   ]
  },
  {
   "cell_type": "markdown",
   "id": "37a390e5",
   "metadata": {},
   "source": [
    "6. Zahlenreihe ausgeben\n",
    "Gib alle Zahlen von 1 bis 100 aus."
   ]
  },
  {
   "cell_type": "code",
   "execution_count": 5,
   "id": "a99ba25a",
   "metadata": {},
   "outputs": [
    {
     "name": "stdout",
     "output_type": "stream",
     "text": [
      "1\n",
      "2\n",
      "3\n",
      "4\n",
      "5\n",
      "6\n",
      "7\n",
      "8\n",
      "9\n",
      "10\n",
      "11\n",
      "12\n",
      "13\n",
      "14\n",
      "15\n",
      "16\n",
      "17\n",
      "18\n",
      "19\n",
      "20\n",
      "21\n",
      "22\n",
      "23\n",
      "24\n",
      "25\n",
      "26\n",
      "27\n",
      "28\n",
      "29\n",
      "30\n",
      "31\n",
      "32\n",
      "33\n",
      "34\n",
      "35\n",
      "36\n",
      "37\n",
      "38\n",
      "39\n",
      "40\n",
      "41\n",
      "42\n",
      "43\n",
      "44\n",
      "45\n",
      "46\n",
      "47\n",
      "48\n",
      "49\n",
      "50\n",
      "51\n",
      "52\n",
      "53\n",
      "54\n",
      "55\n",
      "56\n",
      "57\n",
      "58\n",
      "59\n",
      "60\n",
      "61\n",
      "62\n",
      "63\n",
      "64\n",
      "65\n",
      "66\n",
      "67\n",
      "68\n",
      "69\n",
      "70\n",
      "71\n",
      "72\n",
      "73\n",
      "74\n",
      "75\n",
      "76\n",
      "77\n",
      "78\n",
      "79\n",
      "80\n",
      "81\n",
      "82\n",
      "83\n",
      "84\n",
      "85\n",
      "86\n",
      "87\n",
      "88\n",
      "89\n",
      "90\n",
      "91\n",
      "92\n",
      "93\n",
      "94\n",
      "95\n",
      "96\n",
      "97\n",
      "98\n",
      "99\n",
      "100\n"
     ]
    }
   ],
   "source": [
    "for zahl in range(100):\n",
    "    zahl += 1\n",
    "    print(f\"{zahl}\")"
   ]
  },
  {
   "cell_type": "markdown",
   "id": "d68843d3",
   "metadata": {},
   "source": [
    "7. Multiplikationstabelle\n",
    "Gib das kleine Einmaleins (1×1 bis 10×10) aus."
   ]
  },
  {
   "cell_type": "code",
   "execution_count": 7,
   "id": "66897a53",
   "metadata": {},
   "outputs": [
    {
     "name": "stdout",
     "output_type": "stream",
     "text": [
      "1 * 1 ist = 1\n",
      "2 * 2 ist = 4\n",
      "3 * 3 ist = 9\n",
      "4 * 4 ist = 16\n",
      "5 * 5 ist = 25\n",
      "6 * 6 ist = 36\n",
      "7 * 7 ist = 49\n",
      "8 * 8 ist = 64\n",
      "9 * 9 ist = 81\n",
      "10 * 10 ist = 100\n"
     ]
    }
   ],
   "source": [
    "for zahl in range(10):\n",
    "    zahl += 1\n",
    "    summe = zahl * zahl\n",
    "    print(f\"{zahl} * {zahl} ist = {summe}\")\n"
   ]
  },
  {
   "cell_type": "markdown",
   "id": "16d309c5",
   "metadata": {},
   "source": [
    "8. Zahlensumme berechnen\n",
    "Eingabe: Mehrere Zahlen (bis „0“ eingegeben wird)\n",
    "Ausgabe: Summe aller eingegebenen Zahlen"
   ]
  },
  {
   "cell_type": "code",
   "execution_count": 11,
   "id": "fdb4ffe9",
   "metadata": {},
   "outputs": [
    {
     "name": "stdout",
     "output_type": "stream",
     "text": [
      "Aktuelle Summe: 4\n",
      "Aktuelle Summe: 9\n",
      "Aktuelle Summe: 15\n",
      "Aktuelle Summe: 21\n",
      "Aktuelle Summe: 26\n",
      "Aktuelle Summe: 30\n",
      "Aktuelle Summe: 33\n",
      "Aktuelle Summe: 35\n",
      "Aktuelle Summe: 38\n",
      "Aktuelle Summe: 42\n",
      "Aktuelle Summe: 47\n",
      "Aktuelle Summe: 52\n",
      "Aktuelle Summe: 58\n",
      "Summe = 58\n"
     ]
    }
   ],
   "source": [
    "summe = 0\n",
    "\n",
    "while True:\n",
    "    zahl = int(input(\"Gib eine Zahl ein (0 zum Beenden): \"))\n",
    "    if zahl == 0:\n",
    "        print(f\"Summe = {summe}\")\n",
    "        break\n",
    "    elif zahl > 0:\n",
    "        summe += zahl\n",
    "        print(f\"Aktuelle Summe: {summe}\")\n",
    "    else:\n",
    "        print(\"Bitte eine positive Zahl eingeben.\") "
   ]
  },
  {
   "cell_type": "markdown",
   "id": "675da4d2",
   "metadata": {},
   "source": [
    "# Kombination von Kontrollstrukturen"
   ]
  },
  {
   "cell_type": "markdown",
   "id": "5b456659",
   "metadata": {},
   "source": [
    "9. Primzahlprüfung\n",
    "Eingabe: Eine Zahl\n",
    "Verarbeitung: Schleife zur Prüfung, ob die Zahl nur durch 1 und sich selbst teilbar\n",
    "ist\n",
    "Ausgabe: „Primzahl“ oder „Keine Primzahl“"
   ]
  },
  {
   "cell_type": "code",
   "execution_count": 17,
   "id": "058c37cb",
   "metadata": {},
   "outputs": [
    {
     "name": "stdout",
     "output_type": "stream",
     "text": [
      "4 ist keine Primzahl. Bitte eine andere Zahl eingeben.\n",
      "44 ist keine Primzahl. Bitte eine andere Zahl eingeben.\n",
      "113 ist eine Primzahl.\n"
     ]
    }
   ],
   "source": [
    "while True:\n",
    "    zahl = int(input(\"Gib eine Zahl ein oder 0 zum Beenden: \"))\n",
    "    if zahl == 0:\n",
    "        break\n",
    "    # prüffen ob es eine primzahl ist\n",
    "    elif zahl > 1:\n",
    "        for i in range(2, int(zahl**0.5) + 1):\n",
    "            if zahl % i == 0:\n",
    "                print(f\"{zahl} ist keine Primzahl. Bitte eine andere Zahl eingeben.\")\n",
    "                break\n",
    "        else:\n",
    "            print(f\"{zahl} ist eine Primzahl.\")\n",
    "    else:\n",
    "        print(\"Bitte eine Zahl größer als 1 eingeben.\")\n",
    "\n"
   ]
  },
  {
   "cell_type": "markdown",
   "id": "f78c4980",
   "metadata": {},
   "source": [
    "10. Passwortprüfung mit Wiederholungen\n",
    "Eingabe: Passwort\n",
    "Verarbeitung: Vergleiche mit dem gespeicherten Passwort\n",
    "Schleife: Maximal 3 Versuche\n",
    "Ausgabe: Erfolg oder Sperrung"
   ]
  },
  {
   "cell_type": "code",
   "execution_count": 21,
   "id": "2c08913e",
   "metadata": {},
   "outputs": [
    {
     "name": "stdout",
     "output_type": "stream",
     "text": [
      "Fehlversuch 1 von 3 Versuchen.\n",
      "Fehlversuch 2 von 3 Versuchen.\n",
      "Erfolg\n"
     ]
    }
   ],
   "source": [
    "pw = \"geheim\"\n",
    "zähler = 0\n",
    "while True:\n",
    "    eingabe = input(\"Gib das Passwort ein: \")\n",
    "    if eingabe == pw:\n",
    "        print(\"Erfolg\")\n",
    "        break\n",
    "    else:\n",
    "        zähler += 1\n",
    "        print(f\"Fehlversuch {zähler} von 3 Versuchen.\")\n",
    "        if zähler == 3:\n",
    "            print(\"Sperrung\")\n",
    "            break"
   ]
  }
 ],
 "metadata": {
  "kernelspec": {
   "display_name": "Python 3",
   "language": "python",
   "name": "python3"
  },
  "language_info": {
   "codemirror_mode": {
    "name": "ipython",
    "version": 3
   },
   "file_extension": ".py",
   "mimetype": "text/x-python",
   "name": "python",
   "nbconvert_exporter": "python",
   "pygments_lexer": "ipython3",
   "version": "3.13.5"
  }
 },
 "nbformat": 4,
 "nbformat_minor": 5
}
