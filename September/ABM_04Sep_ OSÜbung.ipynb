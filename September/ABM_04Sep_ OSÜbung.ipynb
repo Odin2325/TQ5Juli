{
 "cells": [
  {
   "cell_type": "markdown",
   "id": "0f345e20",
   "metadata": {},
   "source": [
    "# OS Befehle Beispiele"
   ]
  },
  {
   "cell_type": "code",
   "execution_count": null,
   "id": "e8b9078d",
   "metadata": {},
   "outputs": [],
   "source": [
    "import os\n",
    "\n",
    "os.getlogin() # aktueller User\n",
    "os.getcwd() # aktuelles Verzeichnis\n",
    "os.listdir() # aktuelles Verzeichnis\n",
    "os.mkdir(\"NeuerOrdner\") # Ordner darf nicht existieren\n",
    "os.rmdir(\"NeuerOrdner\") # Ordner muss leer sein\n",
    "os.remove(\"Datei.txt\") # Datei muss existieren\n",
    "os.rename(\"AlterName.txt\", \"NeuerName.txt\") # Datei muss existieren\n",
    "os.path.exists(\"NeuerName.txt\") # True oder False\n",
    "os.path.isfile(\"NeuerName.txt\") # True oder False\n",
    "os.path.isdir(\"NeuerOrdner\") # True oder False\n",
    "os.path.join(\"Ordner\", \"Datei.txt\") # Pfad zusammenfügen\n",
    "os.path.split(\"Ordner/Datei.txt\") # Pfad in Ordner und Datei aufteilen\n",
    "os.path.splitext(\"Datei.txt\") # Dateiname und Endung aufteilen\n",
    "os.path.abspath(\"Datei.txt\") # Absoluten Pfad anzeigen\n",
    "os.path.basename(\"Ordner/Datei.txt\") # Nur Dateiname anzeigen\n",
    "os.path.dirname(\"Ordner/Datei.txt\") # Nur Ordner anzeigen\n",
    "os.path.getsize(\"Datei.txt\") # Dateigröße in Bytes\n",
    "os.path.getmtime(\"Datei.txt\") # Letzte Änderungszeit in Sekunden seit Epoch\n",
    "os.path.getctime(\"Datei.txt\") # Erstellungszeit in Sekunden seit Epoch\n",
    "os.system(\"ls\") # Befehl im Terminal ausführen (Linux/Mac)\n",
    "os.system(\"dir\") # Befehl im Terminal ausführen (Windows)\n",
    "os.environ # Umgebungsvariablen als Dictionary\n",
    "os.environ.get(\"PATH\") # Wert einer Umgebungsvariable\n",
    "os.chdir(\"NeuerOrdner\") # Verzeichnis wechseln\n",
    "os.popen(\"ls\").read() # Ausgabe eines Befehls lesen (Linux/Mac)\n",
    "os.popen(\"dir\").read() # Ausgabe eines Befehls lesen (Windows)\n",
    "os.walk(\".\") # Verzeichnisbaum durchlaufen\n",
    "os.sep # Pfadtrenner (\"/\" oder \"\\\")\n",
    "os.linesep # Zeilenumbruch (\"\\n\" oder \"\\r\\n\")\n",
    "os.name # Betriebssystemname (\"posix\", \"nt\", \"java\")\n",
    "os.cpu_count() # Anzahl der CPU-Kerne   \n",
    "os.urandom(16) # Zufällige Bytes generieren\n",
    "os.path.normpath(\"Ordner//Datei.txt\") # Pfad normalisieren\n",
    "os.path.relpath(\"Ordner/Datei.txt\", \"Ordner\") # Relativen\n"
   ]
  },
  {
   "cell_type": "code",
   "execution_count": 5,
   "id": "21b5cacf",
   "metadata": {},
   "outputs": [
    {
     "name": "stdout",
     "output_type": "stream",
     "text": [
      "Benutzer:  mytq\n",
      "System:  uname_result(system='Windows', node='MYTQ-12', release='2022Server', version='10.0.20348', machine='AMD64')\n",
      "Umbenungsvariable PATH: c:\\Users\\mytq\\AppData\\Local\\Programs\\Python\\Python313;c:\\Users\\mytq\\AppData\\Roaming\\Python\\Python313\\Scripts;C:\\Windows\\system32;C:\\Windows;C:\\Windows\\System32\\Wbem;C:\\Windows\\System32\\WindowsPowerShell\\v1.0\\;C:\\Windows\\System32\\OpenSSH\\;C:\\Program Files\\Git\\cmd;C:\\Users\\mytq\\AppData\\Local\\Programs\\Python\\Python313\\Scripts\\;C:\\Users\\mytq\\AppData\\Local\\Programs\\Python\\Python313\\;C:\\Program Files\\MySQL\\MySQL Shell 8.0\\bin\\;C:\\Users\\mytq\\AppData\\Local\\Microsoft\\WindowsApps;C:\\Users\\mytq\\AppData\\Local\\GitHubDesktop\\bin;C:\\Users\\mytq\\AppData\\Local\\Programs\\Microsoft VS Code\\bin;C:\\Windows\\system32;C:\\Windows;C:\\Windows\\System32\\Wbem;C:\\Windows\\System32\\WindowsPowerShell\\v1.0\\;C:\\Windows\\System32\\OpenSSH\\;C:\\Program Files\\Git\\cmd;C:\\Users\\mytq\\AppData\\Local\\Programs\\Python\\Python313\\Scripts\\;C:\\Users\\mytq\\AppData\\Local\\Programs\\Python\\Python313\\;C:\\Program Files\\MySQL\\MySQL Shell 8.0\\bin\\;C:\\Users\\mytq\\AppData\\Local\\Microsoft\\WindowsApps;C:\\Users\\mytq\\AppData\\Local\\GitHubDesktop\\bin;C:\\Users\\mytq\\AppData\\Local\\Programs\\Microsoft VS Code\\bin\n",
      "User mytq → Gruppenabfrage wird auf Windows nicht unterstützt.\n"
     ]
    }
   ],
   "source": [
    "import os\n",
    "import platform\n",
    "\n",
    "print(\"Benutzer: \", os.getlogin())\n",
    "\n",
    "print(\"System: \", platform.uname())\n",
    "\n",
    "print(\"Umbenungsvariable PATH:\", os.getenv(\"PATH\"))\n",
    "\n",
    "user = os.getlogin()\n",
    "\n",
    "if hasattr(os, \"getgroups\"):  # nur wenn verfügbar\n",
    "    groups = os.getgroups()\n",
    "    print(f\"User {user} ist in den Gruppen: {groups}\")\n",
    "else:\n",
    "    print(f\"User {user} → Gruppenabfrage wird auf Windows nicht unterstützt.\")"
   ]
  },
  {
   "cell_type": "code",
   "execution_count": null,
   "id": "dbeaddd1",
   "metadata": {},
   "outputs": [],
   "source": [
    "import os\n",
    "\n",
    "print(os.listdir())\n",
    "os.mkdir(\"NeuerOrdner\")\n",
    "os.rmdir(\"NeuerOrdner\")\n",
    "print(os.getlogin())"
   ]
  },
  {
   "cell_type": "code",
   "execution_count": null,
   "id": "221c4b6f",
   "metadata": {},
   "outputs": [],
   "source": [
    "aktuelles_verzeichnis = os.getcwd()\n",
    " \n",
    "print(\"Aktuelles Arbeitsverzeichnis:\", aktuelles_verzeichnis)\n",
    "\n",
    "\n",
    "\n",
    "ordner_name = \"4_september\"\n",
    " \n",
    "try:\n",
    "    os.mkdir(ordner_name)\n",
    "    print(f\"Ordner '{ordner_name}' wurde erstellt.\")\n",
    "except FileExistsError:\n",
    "    print(f\"Ordner '{ordner_name}' existiert bereits.\")\n",
    " \n",
    "os.rmdir(ordner_name)\n",
    "print(f\"Ordner '{ordner_name}' wurde gelöscht.\")\n",
    "\n",
    "\n",
    "\n",
    "benutzer = os.getlogin()\n",
    " \n",
    "print(\"Aktuell angemeldeter Benutzer:\", benutzer)"
   ]
  }
 ],
 "metadata": {
  "kernelspec": {
   "display_name": "Python 3",
   "language": "python",
   "name": "python3"
  },
  "language_info": {
   "codemirror_mode": {
    "name": "ipython",
    "version": 3
   },
   "file_extension": ".py",
   "mimetype": "text/x-python",
   "name": "python",
   "nbconvert_exporter": "python",
   "pygments_lexer": "ipython3",
   "version": "3.13.5"
  }
 },
 "nbformat": 4,
 "nbformat_minor": 5
}
