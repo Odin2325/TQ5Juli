{
 "cells": [
  {
   "cell_type": "markdown",
   "id": "753cd538",
   "metadata": {},
   "source": [
    "Uebung: Schreibt einen kleinen Programm basierend auf eine von diese Beispiele. Es soll getestet werden ob ein Fehler auftrettet und wie ihr das behandelt."
   ]
  },
  {
   "cell_type": "code",
   "execution_count": 7,
   "id": "0561d694",
   "metadata": {},
   "outputs": [
    {
     "name": "stdout",
     "output_type": "stream",
     "text": [
      "Das sind meine Fragen: \n",
      "\n",
      "HA 03.09. Texte ausgeben\n",
      "\n",
      "Frage1:\n",
      "Warum Können/Wollen etwa 95% der FISI die ich in meinen Praktikas kennengelernt habe, nicht coden?\n",
      "\n",
      "Frage2:\n",
      "Wie unterscheidet sich die schreibweisse von pythen code zu Scripten in PowerShell?\n",
      "\n"
     ]
    }
   ],
   "source": [
    "def PythonFragentxt_lesen():\n",
    "    try:\n",
    "        print(\"Das sind meine Fragen: \\n\")\n",
    "        # 'with open(...)' ist eine bessere Methode, da sie die Datei automatisch schließt\n",
    "        with open(\"C:/Users/mytq/Desktop/TQ5/TQ5Juli/September/PythonFragen.txt\", \"r\", encoding=\"utf-8\") as fragen:\n",
    "            print(fragen.read())\n",
    "\n",
    "    except FileNotFoundError:\n",
    "        # Dieser Block wird ausgeführt, wenn die Datei nicht existiert\n",
    "        print(\"❌ Fehler: Die Datei 'PythonFragen.txt' wurde nicht gefunden.\")\n",
    "        print(\"Bitte überprüfe, ob die Datei im richtigen Ordner './September/' liegt.\")\n",
    "\n",
    "    except Exception as e:\n",
    "        # Ein allgemeiner Block, falls andere Fehler auftreten (z.B. falsche Kodierung)\n",
    "        print(f\"❌ Ein unerwarteter Fehler ist aufgetreten: {e}\")\n",
    "\n",
    "PythonFragentxt_lesen()"
   ]
  }
 ],
 "metadata": {
  "kernelspec": {
   "display_name": "Python 3",
   "language": "python",
   "name": "python3"
  },
  "language_info": {
   "codemirror_mode": {
    "name": "ipython",
    "version": 3
   },
   "file_extension": ".py",
   "mimetype": "text/x-python",
   "name": "python",
   "nbconvert_exporter": "python",
   "pygments_lexer": "ipython3",
   "version": "3.13.5"
  }
 },
 "nbformat": 4,
 "nbformat_minor": 5
}
