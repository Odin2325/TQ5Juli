{
 "cells": [
  {
   "cell_type": "markdown",
   "id": "9ef271fe",
   "metadata": {},
   "source": []
  },
  {
   "cell_type": "code",
   "execution_count": null,
   "id": "8ff7df7b",
   "metadata": {},
   "outputs": [
    {
     "data": {
      "text/plain": [
       "CompletedProcess(args=['whoami'], returncode=0)"
      ]
     },
     "execution_count": 2,
     "metadata": {},
     "output_type": "execute_result"
    }
   ],
   "source": [
    "import subprocess\n",
    "import os\n",
    "\n",
    "# Beispiel: Benutzername und Gruppeninformationen abrufen\n",
    "subprocess.run(['whoami'])  # Zeigt den aktuellen Benutzer an\n",
    "subprocess.run(['groups'])   # Zeigt die Gruppen des aktuellen Benutzers an \n"
   ]
  },
  {
   "cell_type": "code",
   "execution_count": null,
   "id": "9e1cb325",
   "metadata": {},
   "outputs": [],
   "source": [
    "\n",
    "\n",
    "#os.system => fuehre ein Befehl in die Shell aus\n",
    "#subprocess.run => fuehre ein Befehl in die Shell aus\n",
    "subp.run(['net', 'user', 'bob', 'smith', '/add'], shell=True)\n",
    "\n",
    "os.system('net user bob smith /add')\n",
    "\n"
   ]
  },
  {
   "cell_type": "markdown",
   "id": "2c1efec9",
   "metadata": {},
   "source": [
    "# Benutzer anlegen"
   ]
  },
  {
   "cell_type": "code",
   "execution_count": null,
   "id": "54e35ca0",
   "metadata": {},
   "outputs": [],
   "source": [
    "\n",
    "\n",
    "import subprocess\n",
    "\n",
    "def new_user():\n",
    "    confirm = \"N\"\n",
    "    while confirm != \"Y\":\n",
    "        username = input(\"Gib den Namen des hinzuzufügenden Benutzers ein: \")\n",
    "        print(f\"Den Benutzernamen '{username}' verwenden? (Y/N)\")\n",
    "        confirm = input().upper()\n",
    "    try:\n",
    "          # 'Passwort123' is just a placeholder, set a real password\n",
    "          subprocess.run([\"net\", \"user\", username, \"Passwort123\", \"/add\"], check=True, shell=True)\n",
    "          print(f\"Benutzer '{username}' wurde erfolgreich angelegt.\")\n",
    "    except subprocess.CalledProcessError:\n",
    "          print(\"Fehler beim Anlegen des Benutzers. Vielleicht existiert er schon oder es fehlen Rechte.\")\n",
    "\n",
    "if __name__ == \"__main__\":\n",
    "    new_user()\n",
    "\n"
   ]
  },
  {
   "cell_type": "markdown",
   "id": "f306657e",
   "metadata": {},
   "source": [
    "# Benutzer Löschen"
   ]
  },
  {
   "cell_type": "code",
   "execution_count": null,
   "id": "443b7329",
   "metadata": {},
   "outputs": [],
   "source": [
    "\n",
    "\n",
    "def del_user():\n",
    "    confirm = \"N\"\n",
    "    while confirm != \"Y\":\n",
    "        username = input(\"Gib den Namen des zu löschenden Benutzers ein: \")\n",
    "        print(f\"Den Benutzernamen '{username}' verwenden? (Y/N)\")\n",
    "        confirm = input().upper()\n",
    "    subprocess.run([\"net\",\"user\"])\n",
    "    try:\n",
    "          # 'Passwort123' is just a placeholder, set a real password\n",
    "          subprocess.run([\"net\", \"user\", username, \"/delete\"], check=True, shell=True)\n",
    "          print(f\"Benutzer '{username}' wurde erfolgreich gelöscht.\")\n",
    "    except subprocess.CalledProcessError:\n",
    "          print(\"Fehler beim Loeschen des Benutzers. Vielleicht existiert er schon oder es fehlen Rechte.\")\n",
    "\n",
    "if __name__ == \"__main__\":\n",
    "    del_user()\n",
    "\n"
   ]
  },
  {
   "cell_type": "markdown",
   "id": "5325b599",
   "metadata": {},
   "source": [
    "# Benutzer einer Gruppe hinzufügen"
   ]
  },
  {
   "cell_type": "code",
   "execution_count": null,
   "id": "cf52cdf3",
   "metadata": {},
   "outputs": [],
   "source": [
    "\n",
    "\n",
    "import subprocess\n",
    "\n",
    "def benutzer_zur_gruppe_hinzufuegen():\n",
    "    benutzername = input(\"Gib den Namen des Benutzers ein, den du zu einer Gruppe hinzufügen möchtest: \")\n",
    "    output = subprocess.Popen('groups', stdout=subprocess.PIPE).communicate()[0]\n",
    "\n",
    "    print(\"Gib eine Liste von Gruppen ein, zu denen der Benutzer hinzugefügt werden soll\")\n",
    "    print(\"Die Liste sollte durch Leerzeichen getrennt sein, z. B.:\\r\\n gruppe1 gruppe2 gruppe3\")\n",
    "    print(\"Verfügbare Gruppen sind:\\r\\n \" + output.decode())\n",
    "\n",
    "    ausgewaehlteGruppen = str(input(\"Groups: \"))\n",
    "\n",
    "    output = output.split(\" \")\n",
    "\n",
    "    #Vor Split:  \"gruppe1 gruppe2 gruppe3\"\n",
    "    #Nach Split: [\"gruppe1\", \"gruppe2\", \"gruppe3\"]\n",
    "    ausgewaehlteGruppen = ausgewaehlteGruppen.split(\" \")\n",
    "\n",
    "    print(\"Hinzufügen zu:\")\n",
    "    gefunden = True\n",
    "    gruppenString = \"\"\n",
    "    for grp in ausgewaehlteGruppen:\n",
    "        for vorhandeneGruppe in output:\n",
    "            if grp == vorhandeneGruppe:\n",
    "                gefunden = True\n",
    "                print(\"- Vorhandene Gruppe: \" + grp)\n",
    "                gruppenString = gruppenString + grp + \",\"\n",
    "        if gefunden == False:\n",
    "            print(\"- Neue Gruppe: \" + grp)\n",
    "            gruppenString = gruppenString + grp + \",\"\n",
    "        else:\n",
    "            gefunden = False\n",
    "    gruppenString = gruppenString[:-1] + \" \"\n",
    "    bestaetigung = \"\"\n",
    "    while bestaetigung != \"Y\" and bestaetigung != \"N\":\n",
    "        print(\"Benutzer '\" + benutzername + \"' zu diesen Gruppen hinzufügen? (Y/N)\")\n",
    "        bestaetigung = input().upper()\n",
    "    if bestaetigung == \"N\":\n",
    "        print(\"Benutzer '\" + benutzername + \"' wurde nicht hinzugefügt\")\n",
    "    elif bestaetigung == \"Y\":\n",
    "        #os.system(\"sudo usermod -aG \" + gruppenString + benutzername)\n",
    "        subprocess.run([\"newgrp\", gruppenString + benutzername])\n",
    "        print(\"Benutzer '\" + benutzername + \"' wurde hinzugefügt\")\n",
    "\n"
   ]
  }
 ],
 "metadata": {
  "kernelspec": {
   "display_name": "Python 3",
   "language": "python",
   "name": "python3"
  },
  "language_info": {
   "codemirror_mode": {
    "name": "ipython",
    "version": 3
   },
   "file_extension": ".py",
   "mimetype": "text/x-python",
   "name": "python",
   "nbconvert_exporter": "python",
   "pygments_lexer": "ipython3",
   "version": "3.13.5"
  }
 },
 "nbformat": 4,
 "nbformat_minor": 5
}
