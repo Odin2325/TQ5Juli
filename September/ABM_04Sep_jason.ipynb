{
 "cells": [
  {
   "cell_type": "markdown",
   "id": "259180f9",
   "metadata": {},
   "source": []
  },
  {
   "cell_type": "code",
   "execution_count": null,
   "id": "6dfee155",
   "metadata": {},
   "outputs": [],
   "source": [
    "import json\n",
    "\n",
    "def save_as_json(data, filename):\n",
    "\n",
    "    data_dict = {'inhalt': data}\n",
    "\n",
    "    try:\n",
    "        # Öffne die Datei im Schreibmodus ('w')\n",
    "        with open(filename, 'w', encoding='utf-8') as json_file:\n",
    "            # Verwende json.dump(), um das Dictionary in die Datei zu schreiben\n",
    "            # Der 'indent'-Parameter macht die Datei lesbarer\n",
    "            json.dump(data_dict, json_file, indent=4)\n",
    "        print(f\"Inhalt wurde erfolgreich in '{filename}' gespeichert.\")\n",
    "    except IOError as e:\n",
    "        print(f\"Fehler beim Schreiben der Datei: {e}\")\n",
    "\n",
    "# Beispielaufruf der Methode\n",
    "my_string = \"Dies ist ein Beispielstring, der als JSON gespeichert werden soll.\"\n",
    "save_as_json(my_string, 'beispiel_output.json')"
   ]
  }
 ],
 "metadata": {
  "language_info": {
   "name": "python"
  }
 },
 "nbformat": 4,
 "nbformat_minor": 5
}
