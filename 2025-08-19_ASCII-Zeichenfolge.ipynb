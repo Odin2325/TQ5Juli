{
 "cells": [
  {
   "cell_type": "code",
   "execution_count": null,
   "id": "3805dcb1",
   "metadata": {},
   "outputs": [],
   "source": [
    "# Nur kleine Buchstaben erzeugen\n",
    "import random\n",
    "\n",
    "# Leere Liste für die Buchstaben\n",
    "letters = []\n",
    "\n",
    "# 20 zufällige Buchstaben erzeugen\n",
    "for i in range(20):\n",
    "    # Zufallszahl zwischen 97 (a) und 122 (z), nur kleine Buchstaben\n",
    "    ascii_value = random.randint(97, 122)\n",
    "    # In Buchstaben umwandeln\n",
    "    letter = chr(ascii_value)\n",
    "    # In Liste speichern\n",
    "    letters.append(letter)\n",
    "\n",
    "# Liste zu einem String (Wort) zusammenfügen\n",
    "word = \"\".join(letters)\n",
    "\n",
    "print(\"Das erzeugte Wort lautet:\", word)"
   ]
  },
  {
   "cell_type": "code",
   "execution_count": null,
   "id": "97f9b93b",
   "metadata": {},
   "outputs": [],
   "source": [
    "# Alternative Version mit Groß- und Kleinbuchstaben\n",
    "import random\n",
    "\n",
    "letters = []\n",
    "\n",
    "for i in range(20):\n",
    "    # Würfeln, ob Groß- oder Kleinbuchstabe\n",
    "    if random.choice([True, False]):\n",
    "        ascii_value = random.randint(65, 90)   # A-Z\n",
    "    else:\n",
    "        ascii_value = random.randint(97, 122)  # a-z\n",
    "\n",
    "    letters.append(chr(ascii_value))\n",
    "\n",
    "word = \"\".join(letters)\n",
    "\n",
    "print(\"Das erzeugte Wort lautet:\", word)"
   ]
  }
 ],
 "metadata": {
  "language_info": {
   "name": "python"
  }
 },
 "nbformat": 4,
 "nbformat_minor": 5
}
