{
 "cells": [
  {
   "cell_type": "code",
   "execution_count": 2,
   "id": "914fae0c",
   "metadata": {},
   "outputs": [
    {
     "name": "stdout",
     "output_type": "stream",
     "text": [
      "Falsch! Stelle sicher, dass der String mit 'B' beginnt und genau 10 Zeichen lang ist.\n",
      "Falsch! Stelle sicher, dass der String mit 'B' beginnt und genau 10 Zeichen lang ist.\n",
      "Falsch! Stelle sicher, dass der String mit 'B' beginnt und genau 10 Zeichen lang ist.\n",
      "Falsch! Stelle sicher, dass der String mit 'B' beginnt und genau 10 Zeichen lang ist.\n",
      "Falsch! Stelle sicher, dass der String mit 'B' beginnt und genau 10 Zeichen lang ist.\n",
      "Danke, Eingabe akzeptiert: Bodnsososo\n"
     ]
    }
   ],
   "source": [
    "\n",
    "\n",
    "while True:\n",
    "    eingabe = input(\"Bitte gib einen String ein, der mit 'B' beginnt und 10 Zeichen lang ist: \")\n",
    "\n",
    "    if eingabe.startswith(\"B\") and len(eingabe) == 10:\n",
    "        print(\"Danke, Eingabe akzeptiert:\", eingabe)\n",
    "        break\n",
    "    else:\n",
    "        print(\"Falsch! Stelle sicher, dass der String mit 'B' beginnt und genau 10 Zeichen lang ist.\")\n"
   ]
  }
 ],
 "metadata": {
  "kernelspec": {
   "display_name": "Python 3",
   "language": "python",
   "name": "python3"
  },
  "language_info": {
   "codemirror_mode": {
    "name": "ipython",
    "version": 3
   },
   "file_extension": ".py",
   "mimetype": "text/x-python",
   "name": "python",
   "nbconvert_exporter": "python",
   "pygments_lexer": "ipython3",
   "version": "3.13.5"
  }
 },
 "nbformat": 4,
 "nbformat_minor": 5
}
