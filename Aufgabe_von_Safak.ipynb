{
 "cells": [
  {
   "cell_type": "markdown",
   "id": "b3793cda",
   "metadata": {},
   "source": [
    "# EVA-Prinzip (Eingabe – Verarbeitung – Ausgabe) \n",
    "\n",
    "* 1. Temperaturumrechner \n",
    "\n",
    "Schreibe ein Programm, das eine Temperatur in Celsius einliest, sie in Fahrenheit \n",
    "\n",
    "umrechnet und ausgibt. \n",
    "\n",
    "Formel: $F = C \\cdot \\frac{9}{5} + 32$ \n"
   ]
  },
  {
   "cell_type": "code",
   "execution_count": 52,
   "id": "7d820a09",
   "metadata": {},
   "outputs": [
    {
     "name": "stdout",
     "output_type": "stream",
     "text": [
      " temperatur in Celsius beträgt: 54.0\n",
      "===========================================\n",
      "Die Temperatur in Fahrenheit beträgt: 129.2\n"
     ]
    }
   ],
   "source": [
    "celsius = float(input(\"Gib die Temperatur in Celsius ein: \"))\n",
    "print(\" temperatur in Celsius beträgt:\", celsius)\n",
    "print(\"===========================================\")\n",
    "fahrenheit = celsius * 9/5 + 32\n",
    "print(\"Die Temperatur in Fahrenheit beträgt:\", fahrenheit)"
   ]
  },
  {
   "cell_type": "markdown",
   "id": "31546c9d",
   "metadata": {},
   "source": [
    "# Verzweigung (if/else, switch) \n",
    "* 3. Notenbewertung \n",
    "\n",
    "Eingabe: Punktzahl (0–100) \n",
    "\n",
    "Ausgabe: Note (z. B. 1 für 90–100, 2 für 80–89, …) "
   ]
  },
  {
   "cell_type": "code",
   "execution_count": 23,
   "id": "ff4a401d",
   "metadata": {},
   "outputs": [
    {
     "name": "stdout",
     "output_type": "stream",
     "text": [
      "60 Punkte entsprechen \n",
      " der Note: 4\n"
     ]
    }
   ],
   "source": [
    "punkte = int(input(\"Gib die Punktzahl ein (0-100): \"))\n",
    "\n",
    "if punkte >= 90 and punkte <= 100:\n",
    "    note = 1\n",
    "elif punkte >= 80 and punkte < 90:\n",
    "    note = 2\n",
    "elif punkte >= 70 and punkte < 80:\n",
    "    note = 3\n",
    "elif punkte >= 60 and punkte < 70:\n",
    "    note = 4\n",
    "elif punkte >= 50 and punkte < 60:\n",
    "    note = 5\n",
    "elif punkte >= 40 and punkte < 50:\n",
    "    note = 6\n",
    "else:\n",
    "    note = \"Ungültige Punktzahl\"\n",
    "print(f\"{punkte} Punkte entsprechen \\n der Note: {note}\")\n"
   ]
  },
  {
   "cell_type": "markdown",
   "id": "982cda0d",
   "metadata": {},
   "source": [
    "* 4. Gerade oder ungerade Zahl \n",
    "\n",
    "Eingabe: Eine ganze Zahl \n",
    "\n",
    "Ausgabe: „Die Zahl ist gerade“ oder „Die Zahl ist ungerade“ "
   ]
  },
  {
   "cell_type": "code",
   "execution_count": 21,
   "id": "3178fcb5",
   "metadata": {},
   "outputs": [
    {
     "name": "stdout",
     "output_type": "stream",
     "text": [
      "Eingegebene Zahl: 31\n",
      "===========================================\n",
      "Die Zahl ist ungerade.\n"
     ]
    }
   ],
   "source": [
    "zahl = int(input(\"Gib eine ganze Zahl ein: \"))\n",
    "print(\"Eingegebene Zahl:\", zahl)\n",
    "print(\"===========================================\")\n",
    "if zahl % 2 == 0:\n",
    "    print(\"Die Zahl ist gerade.\")\n",
    "else:\n",
    "    print(\"Die Zahl ist ungerade.\")\n",
    "    "
   ]
  },
  {
   "cell_type": "markdown",
   "id": "5b1317bd",
   "metadata": {},
   "source": [
    "# Schleifen (for, while, do-while) \n",
    "\n",
    "* 6. Zahlenreihe ausgeben \n",
    "\n",
    "Gib alle Zahlen von 1 bis 100 aus. "
   ]
  },
  {
   "cell_type": "code",
   "execution_count": 24,
   "id": "d681c313",
   "metadata": {},
   "outputs": [
    {
     "name": "stdout",
     "output_type": "stream",
     "text": [
      "1\n",
      "2\n",
      "3\n",
      "4\n",
      "5\n",
      "6\n",
      "7\n",
      "8\n",
      "9\n",
      "10\n",
      "11\n",
      "12\n",
      "13\n",
      "14\n",
      "15\n",
      "16\n",
      "17\n",
      "18\n",
      "19\n",
      "20\n",
      "21\n",
      "22\n",
      "23\n",
      "24\n",
      "25\n",
      "26\n",
      "27\n",
      "28\n",
      "29\n",
      "30\n",
      "31\n",
      "32\n",
      "33\n",
      "34\n",
      "35\n",
      "36\n",
      "37\n",
      "38\n",
      "39\n",
      "40\n",
      "41\n",
      "42\n",
      "43\n",
      "44\n",
      "45\n",
      "46\n",
      "47\n",
      "48\n",
      "49\n",
      "50\n",
      "51\n",
      "52\n",
      "53\n",
      "54\n",
      "55\n",
      "56\n",
      "57\n",
      "58\n",
      "59\n",
      "60\n",
      "61\n",
      "62\n",
      "63\n",
      "64\n",
      "65\n",
      "66\n",
      "67\n",
      "68\n",
      "69\n",
      "70\n",
      "71\n",
      "72\n",
      "73\n",
      "74\n",
      "75\n",
      "76\n",
      "77\n",
      "78\n",
      "79\n",
      "80\n",
      "81\n",
      "82\n",
      "83\n",
      "84\n",
      "85\n",
      "86\n",
      "87\n",
      "88\n",
      "89\n",
      "90\n",
      "91\n",
      "92\n",
      "93\n",
      "94\n",
      "95\n",
      "96\n",
      "97\n",
      "98\n",
      "99\n",
      "100\n"
     ]
    }
   ],
   "source": [
    "for i in range(1, 101):\n",
    "    print(i)"
   ]
  },
  {
   "cell_type": "markdown",
   "id": "be390923",
   "metadata": {},
   "source": [
    "\n",
    "* 7. Multiplikationstabelle \n",
    "Gib das kleine Einmaleins (1×1 bis 10×10) aus."
   ]
  },
  {
   "cell_type": "code",
   "execution_count": 25,
   "id": "17c2aed9",
   "metadata": {},
   "outputs": [
    {
     "name": "stdout",
     "output_type": "stream",
     "text": [
      "1 x 1 = 1\n",
      "1 x 2 = 2\n",
      "1 x 3 = 3\n",
      "1 x 4 = 4\n",
      "1 x 5 = 5\n",
      "1 x 6 = 6\n",
      "1 x 7 = 7\n",
      "1 x 8 = 8\n",
      "1 x 9 = 9\n",
      "1 x 10 = 10\n",
      "--------------\n",
      "2 x 1 = 2\n",
      "2 x 2 = 4\n",
      "2 x 3 = 6\n",
      "2 x 4 = 8\n",
      "2 x 5 = 10\n",
      "2 x 6 = 12\n",
      "2 x 7 = 14\n",
      "2 x 8 = 16\n",
      "2 x 9 = 18\n",
      "2 x 10 = 20\n",
      "--------------\n",
      "3 x 1 = 3\n",
      "3 x 2 = 6\n",
      "3 x 3 = 9\n",
      "3 x 4 = 12\n",
      "3 x 5 = 15\n",
      "3 x 6 = 18\n",
      "3 x 7 = 21\n",
      "3 x 8 = 24\n",
      "3 x 9 = 27\n",
      "3 x 10 = 30\n",
      "--------------\n",
      "4 x 1 = 4\n",
      "4 x 2 = 8\n",
      "4 x 3 = 12\n",
      "4 x 4 = 16\n",
      "4 x 5 = 20\n",
      "4 x 6 = 24\n",
      "4 x 7 = 28\n",
      "4 x 8 = 32\n",
      "4 x 9 = 36\n",
      "4 x 10 = 40\n",
      "--------------\n",
      "5 x 1 = 5\n",
      "5 x 2 = 10\n",
      "5 x 3 = 15\n",
      "5 x 4 = 20\n",
      "5 x 5 = 25\n",
      "5 x 6 = 30\n",
      "5 x 7 = 35\n",
      "5 x 8 = 40\n",
      "5 x 9 = 45\n",
      "5 x 10 = 50\n",
      "--------------\n",
      "6 x 1 = 6\n",
      "6 x 2 = 12\n",
      "6 x 3 = 18\n",
      "6 x 4 = 24\n",
      "6 x 5 = 30\n",
      "6 x 6 = 36\n",
      "6 x 7 = 42\n",
      "6 x 8 = 48\n",
      "6 x 9 = 54\n",
      "6 x 10 = 60\n",
      "--------------\n",
      "7 x 1 = 7\n",
      "7 x 2 = 14\n",
      "7 x 3 = 21\n",
      "7 x 4 = 28\n",
      "7 x 5 = 35\n",
      "7 x 6 = 42\n",
      "7 x 7 = 49\n",
      "7 x 8 = 56\n",
      "7 x 9 = 63\n",
      "7 x 10 = 70\n",
      "--------------\n",
      "8 x 1 = 8\n",
      "8 x 2 = 16\n",
      "8 x 3 = 24\n",
      "8 x 4 = 32\n",
      "8 x 5 = 40\n",
      "8 x 6 = 48\n",
      "8 x 7 = 56\n",
      "8 x 8 = 64\n",
      "8 x 9 = 72\n",
      "8 x 10 = 80\n",
      "--------------\n",
      "9 x 1 = 9\n",
      "9 x 2 = 18\n",
      "9 x 3 = 27\n",
      "9 x 4 = 36\n",
      "9 x 5 = 45\n",
      "9 x 6 = 54\n",
      "9 x 7 = 63\n",
      "9 x 8 = 72\n",
      "9 x 9 = 81\n",
      "9 x 10 = 90\n",
      "--------------\n",
      "10 x 1 = 10\n",
      "10 x 2 = 20\n",
      "10 x 3 = 30\n",
      "10 x 4 = 40\n",
      "10 x 5 = 50\n",
      "10 x 6 = 60\n",
      "10 x 7 = 70\n",
      "10 x 8 = 80\n",
      "10 x 9 = 90\n",
      "10 x 10 = 100\n",
      "--------------\n"
     ]
    }
   ],
   "source": [
    "for i in range(1, 11):\n",
    "    for j in range(1, 11):\n",
    "        produkt = i * j\n",
    "        print(f\"{i} x {j} = {produkt}\")\n",
    "    print(\"--------------\")"
   ]
  },
  {
   "cell_type": "markdown",
   "id": "16eb6a63",
   "metadata": {},
   "source": [
    "* 8. Zahlensumme berechnen \n",
    "\n",
    "Eingabe: Mehrere Zahlen (bis „0“ eingegeben wird) \n",
    "\n",
    "Ausgabe: Summe aller eingegebenen Zahlen "
   ]
  },
  {
   "cell_type": "code",
   "execution_count": 35,
   "id": "9b941d65",
   "metadata": {},
   "outputs": [
    {
     "name": "stdout",
     "output_type": "stream",
     "text": [
      "Eingegebene Zahl: 54.0\n",
      "=================================================\n",
      "Eingegebene Zahl: 525.0\n",
      "=================================================\n",
      "Eingegebene Zahl: 25.0\n",
      "=================================================\n",
      "Eingegebene Zahl: 215.0\n",
      "=================================================\n",
      "Die Summe ist: 819.0\n"
     ]
    }
   ],
   "source": [
    "summe = 0\n",
    "while True:\n",
    "    zahl = float(input(\"Gib eine Zahl ein (0 zum Beenden): \"))\n",
    "    if zahl == 0:\n",
    "        break\n",
    "    print(f\"Eingegebene Zahl: {zahl}\")\n",
    "    summe += zahl\n",
    "    print(\"=================================================\")\n",
    "print(f'Die Summe ist: {summe}')\n"
   ]
  },
  {
   "cell_type": "markdown",
   "id": "76d5f397",
   "metadata": {},
   "source": [
    "# Kombination von Kontrollstrukturen \n",
    "* 9. Primzahlprüfung \n",
    "Eingabe: Eine Zahl \n",
    "Verarbeitung: Schleife zur Prüfung, ob die Zahl nur durch 1 und sich selbst teilbar \n",
    "ist \n",
    "Ausgabe: „Primzahl“ oder „Keine Primzahl“ "
   ]
  },
  {
   "cell_type": "code",
   "execution_count": 46,
   "id": "05034682",
   "metadata": {},
   "outputs": [
    {
     "name": "stdout",
     "output_type": "stream",
     "text": [
      "keine Primzahl\n"
     ]
    }
   ],
   "source": [
    "zahl = int(input(\"Gib eine ganze Zahl ein: \"))\n",
    "if zahl < 2:\n",
    "    print(\"keine Primzahl\")\n",
    "else:\n",
    "    for i in range(2, int(zahl**0.5) + 1):\n",
    "        if zahl % i == 0:\n",
    "            print(\"keine Primzahl\")\n",
    "            break\n",
    "    else:\n",
    "        print(\"Primzahl\")"
   ]
  },
  {
   "cell_type": "markdown",
   "id": "c2e18a9e",
   "metadata": {},
   "source": [
    "* 10. Passwortprüfung mit Wiederholungen \n",
    "Eingabe: Passwort \n",
    "Verarbeitung: Vergleiche mit dem gespeicherten Passwort \n",
    "Schleife: Maximal 3 Versuche \n",
    "Ausgabe: Erfolg oder Sperrung"
   ]
  },
  {
   "cell_type": "code",
   "execution_count": 51,
   "id": "9296266d",
   "metadata": {},
   "outputs": [
    {
     "name": "stdout",
     "output_type": "stream",
     "text": [
      "Falsches Passwort. Du hast noch 2 Versuche.\n",
      "Falsches Passwort. Du hast noch 1 Versuche.\n",
      "Erfolg!\n"
     ]
    }
   ],
   "source": [
    "passwort = \"PIZZA1234\"\n",
    "eingabe = input(\"Gib das Passwort ein: \")\n",
    "max_versuche = 3\n",
    "for versuch in range(1, 4):\n",
    "    if eingabe == passwort:\n",
    "        print(\"Erfolg!\")\n",
    "        break\n",
    "    else:\n",
    "        if versuch < max_versuche:\n",
    "            print(f\"Falsches Passwort. Du hast noch {max_versuche - versuch} Versuche.\")\n",
    "            eingabe = input(\"Gib das Passwort erneut ein: \")\n",
    "        else:\n",
    "            print(\"sperren \\n Zu viele falsche Versuche.\")\n"
   ]
  }
 ],
 "metadata": {
  "kernelspec": {
   "display_name": "Python 3",
   "language": "python",
   "name": "python3"
  },
  "language_info": {
   "codemirror_mode": {
    "name": "ipython",
    "version": 3
   },
   "file_extension": ".py",
   "mimetype": "text/x-python",
   "name": "python",
   "nbconvert_exporter": "python",
   "pygments_lexer": "ipython3",
   "version": "3.13.5"
  }
 },
 "nbformat": 4,
 "nbformat_minor": 5
}
