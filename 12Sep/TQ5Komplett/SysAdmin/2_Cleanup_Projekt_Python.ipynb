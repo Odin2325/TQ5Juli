{
 "cells": [
  {
   "cell_type": "markdown",
   "id": "0513cd98",
   "metadata": {},
   "source": [
    "## Schritt 1 – „Hallo Cleanup“\n",
    "Theorie:\n",
    "Bevor wir anfangen, lassen wir das Programm starten.\n",
    "Beispielcode:\n",
    "print(\"Cleanup-Programm gestartet!\")\n",
    "Übung:\n",
    "1. Schreibe ein Programm, das beim Start „Cleanup gestartet“ und am Ende „Cleanup\n",
    "beendet“ ausgibt.\n",
    "2. Ergänze dein Programm so, dass dein Name und das aktuelle Datum angezeigt werden."
   ]
  },
  {
   "cell_type": "markdown",
   "id": "c9a7b9f3",
   "metadata": {},
   "source": [
    "## Schritt 2 – Dateien im Ordner auflisten\n",
    "Theorie:\n",
    "Mit os.walk können wir alle Dateien in einem Verzeichnis und seinen Unterordnern\n",
    "durchlaufen.\n",
    "Beispielcode:\n",
    "import os\n",
    "target_dir = \"/home/user/temp\" # oder\n",
    "\"C:\\\\Users\\\\Rico\\\\AppData\\\\Local\\\\Temp\"\n",
    "for root, dirs, files in os.walk(target_dir):\n",
    "for file in files:\n",
    "print(file)\n",
    "Übung:\n",
    "1. Liste alle Dateien in deinem Temp-Ordner auf.\n",
    "2. Ändere den Pfad so, dass du einen eigenen Test-Ordner mit Dateien verwendest."
   ]
  },
  {
   "cell_type": "code",
   "execution_count": null,
   "id": "d8e5e782",
   "metadata": {},
   "outputs": [
    {
     "name": "stdout",
     "output_type": "stream",
     "text": [
      "Die Datei existiert bereits.\n"
     ]
    }
   ],
   "source": [
    "import os\n",
    "\n",
    "# Erstellt eine Datei im 'w'-Modus.\n",
    "# Wenn die Datei existiert, wird sie geleert.\n",
    "with open('neue_datei.tmp', 'w') as f:\n",
    "    pass\n",
    "\n",
    "# Erstellt eine Datei im 'x'-Modus.\n",
    "# Wenn die Datei existiert, führt dies zu einem Fehler.\n",
    "# try:\n",
    "#     with open('nur_wenn_nicht_existiert.txt', 'x') as f:\n",
    "#         pass\n",
    "# except FileExistsError:\n",
    "#     print(\"Die Datei existiert bereits.\")\n",
    "\n",
    "# Erstellt eine Datei im 'w'-Modus.\n",
    "# Wenn die Datei existiert, wird sie geleert.\n",
    "with open('neue_datei.log', 'w') as f:\n",
    "    pass\n",
    "\n",
    "# Erstellt eine Datei im 'x'-Modus.\n",
    "# Wenn die Datei existiert, führt dies zu einem Fehler.\n",
    "# try:\n",
    "#     with open('nur_wenn_nicht_existiert.txt', 'x') as f:\n",
    "#         pass\n",
    "# except FileExistsError:\n",
    "#     print(\"Die Datei existiert bereits.\")"
   ]
  },
  {
   "cell_type": "code",
   "execution_count": 52,
   "id": "2bebe3cd",
   "metadata": {},
   "outputs": [],
   "source": [
    "def Cleanup_Programm():\n",
    "    \n",
    "    import os\n",
    "    import datetime\n",
    "\n",
    "    print(\"Cleanup gestartet!\")\n",
    "    print(\"Gestartet von: \",os.getlogin(),\"am\", datetime.datetime.today().strftime('%d.%m.%Y-%H:%M:%S'))\n",
    "\n",
    "    temp_folder = \"C:\\\\Users\\\\mytq\\\\Desktop\\\\TQ5\\\\TQ5Juli\\\\September\" # C:\\\\Users\\\\mytq\\\\AppData\\\\Local\\\\Temp\"\n",
    "    \n",
    "    print(f\"--- Inhalt von: {temp_folder} ---\")\n",
    "    \n",
    "    for path, folder, files in os.walk(temp_folder):\n",
    "        # Gib den aktuellen Ordnerpfad aus\n",
    "        # print(f\"--- Inhalt von: {path} ---\")\n",
    "        \n",
    "        # Gib den aktuellen Ordnerpfad aus, dessen Inhalt angezeigt wird\n",
    "        current_folder_name = os.path.basename(path)\n",
    "        print(f\"\\n--- Inhalt von Ordner: {current_folder_name} ---\")\n",
    "\n",
    "        # Gib die gefundenen Ordner aus\n",
    "        if folder:\n",
    "            print(\"Ordner:\")\n",
    "            for folder_name in folder:\n",
    "                print(f\"  {folder_name}\")\n",
    "\n",
    "        # Gib die gefundenen Dateien aus\n",
    "        for file_name in files:\n",
    "            if file_name.endswith(\".tmp\") or file_name.endswith(\".log\"):\n",
    "                print(f\"    Datei\", {file_name}, \"wird gelöscht!\")\n",
    "                try:\n",
    "                    os.remove(os.path.join(path, file_name))\n",
    "                    print(f\"    Datei\", {file_name}, \"gelöscht!\")\n",
    "                except Exception as e:\n",
    "                    print(f\"Fehler beim Löschen der Datei {file_name}: {e}\")    \n",
    "    \n",
    "    print(\"Cleanup beendet!\")"
   ]
  },
  {
   "cell_type": "code",
   "execution_count": 55,
   "id": "8526d288",
   "metadata": {},
   "outputs": [
    {
     "name": "stdout",
     "output_type": "stream",
     "text": [
      "Cleanup gestartet!\n",
      "Gestartet von:  mytq am 12.09.2025-11:08:00\n",
      "--- Inhalt von: C:\\Users\\mytq\\Desktop\\TQ5\\TQ5Juli\\September ---\n",
      "\n",
      "--- Inhalt von Ordner: September ---\n",
      "Ordner:\n",
      "  TQ5Komplett\n",
      "\n",
      "--- Inhalt von Ordner: TQ5Komplett ---\n",
      "Ordner:\n",
      "  DatenbankInDerProgrammierung\n",
      "  SysAdmin\n",
      "  VehicleRentingSystemVRSProjekt\n",
      "\n",
      "--- Inhalt von Ordner: DatenbankInDerProgrammierung ---\n",
      "\n",
      "--- Inhalt von Ordner: SysAdmin ---\n",
      "    Datei {'neue_datei.log'} wird gelöscht!\n",
      "    Datei {'neue_datei.log'} gelöscht!\n",
      "    Datei {'neue_datei.tmp'} wird gelöscht!\n",
      "    Datei {'neue_datei.tmp'} gelöscht!\n",
      "\n",
      "--- Inhalt von Ordner: VehicleRentingSystemVRSProjekt ---\n",
      "Ordner:\n",
      "  Bilder\n",
      "  MVCDesignMuster\n",
      "\n",
      "--- Inhalt von Ordner: Bilder ---\n",
      "\n",
      "--- Inhalt von Ordner: MVCDesignMuster ---\n",
      "Cleanup beendet!\n"
     ]
    }
   ],
   "source": [
    "Cleanup_Programm()"
   ]
  }
 ],
 "metadata": {
  "kernelspec": {
   "display_name": "Python 3",
   "language": "python",
   "name": "python3"
  },
  "language_info": {
   "codemirror_mode": {
    "name": "ipython",
    "version": 3
   },
   "file_extension": ".py",
   "mimetype": "text/x-python",
   "name": "python",
   "nbconvert_exporter": "python",
   "pygments_lexer": "ipython3",
   "version": "3.13.5"
  }
 },
 "nbformat": 4,
 "nbformat_minor": 5
}
