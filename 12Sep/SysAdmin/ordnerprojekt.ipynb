{
 "cells": [
  {
   "cell_type": "markdown",
   "id": "c2948340",
   "metadata": {},
   "source": [
    "Python-Projekt: Temporäre Dateien \n",
    "löschen mit Python \n",
    "Lernziele \n",
    "- Dateien in einem Ordner suchen \n",
    "- Dateiendungen prüfen (Filter auf .tmp und .log) \n",
    "- Dateien mit Python löschen \n",
    "- Fehlerbehandlung einbauen \n",
    "- Nützliches System-Tool entwickeln \n",
    "# Schritt 1 – „Hallo Cleanup“ \n",
    "Theorie: \n",
    "Bevor wir anfangen, lassen wir das Programm starten. \n",
    "Beispielcode: \n",
    "print(\"Cleanup-Programm gestartet!\") \n",
    "Übung: \n",
    "1. Schreibe ein Programm, das beim Start „Cleanup gestartet“ und am Ende „Cleanup \n",
    "beendet“ ausgibt. \n",
    "2. Ergänze dein Programm so, dass dein Name und das aktuelle Datum angezeigt werden."
   ]
  },
  {
   "cell_type": "markdown",
   "id": "fcf36a3d",
   "metadata": {},
   "source": [
    "# Schritt 1 – „Hallo Cleanup\n",
    "theorie:\n",
    "Beispielcode: \n",
    "```python \n",
    "print(\"Cleanup-Programm gestartet!\")\n",
    "Übung: \n",
    "1. Schreibe ein Programm, das beim Start „Cleanup gestartet“ und am Ende „Cleanup \n",
    "beendet“ ausgibt. \n",
    "2. Ergänze dein Programm so, dass dein Name und das aktuelle Datum angezeigt werden."
   ]
  },
  {
   "cell_type": "code",
   "execution_count": null,
   "id": "a4b25d15",
   "metadata": {},
   "outputs": [
    {
     "name": "stdout",
     "output_type": "stream",
     "text": [
      "Cleanup gestartet!\n",
      "Name: Max Mustermann\n",
      "Datum: 12.09.2025\n",
      "Cleanup beendet!\n"
     ]
    }
   ],
   "source": [
    "import datetime\n",
    "\n",
    "# Startmeldung\n",
    "print(\"Cleanup gestartet!\")\n",
    "\n",
    "\n",
    "name = \"Max Mustermann\"  \n",
    "print(\"Name:\", name)\n",
    "\n",
    "\n",
    "heute = datetime.datetime.now()\n",
    "print(\"Datum:\", heute.strftime(\"%d.%m.%Y\"))\n",
    "\n",
    "\n",
    "print(\"Cleanup beendet!\")\n"
   ]
  },
  {
   "cell_type": "markdown",
   "id": "efe5b1cc",
   "metadata": {},
   "source": [
    "# Schritt 2 – Dateien im Ordner auflisten \n",
    "Theorie: \n",
    "Mit os.walk können wir alle Dateien in einem Verzeichnis und seinen Unterordnern \n",
    "durchlaufen. \n",
    "Beispielcode: \n",
    "```python \n",
    "import os \n",
    " \n",
    "target_dir = \"/home/user/temp\"  # oder \n",
    "\"C:\\\\Users\\\\Rico\\\\AppData\\\\Local\\\\Temp\" \n",
    " \n",
    "for root, dirs, files in os.walk(target_dir): \n",
    "    for file in files: \n",
    "        print(file) \n",
    "Übung: \n",
    "1. Liste alle Dateien in deinem Temp-Ordner auf. \n",
    "2. Ändere den Pfad so, dass du einen eigenen Test-Ordner mit Dateien verwendest. "
   ]
  },
  {
   "cell_type": "code",
   "execution_count": 10,
   "id": "da037713",
   "metadata": {},
   "outputs": [],
   "source": [
    "import os\n",
    "target_dir = r\"C:\\Users\\MYTQ\\Desktop\\TQ5Juli\\temp\"\n",
    "for dirpath, dirnames, filenames in os.walk(target_dir):\n",
    "    for file in filenames:\n",
    "        print(os.path.join(dirpath,file))\n"
   ]
  },
  {
   "cell_type": "code",
   "execution_count": 13,
   "id": "ae1696c4",
   "metadata": {},
   "outputs": [
    {
     "name": "stdout",
     "output_type": "stream",
     "text": [
      "Dateien im Test-Ordner:\n",
      "C:\\Users\\MYTQ\\Desktop\\TQ5Juli\\12Sep\\DatenbankInDerProgrammierung\\DatenbankUebungen.ipynb\n",
      "C:\\Users\\MYTQ\\Desktop\\TQ5Juli\\12Sep\\SysAdmin\\1. Ordnergrosse_Projekt_Python.pdf\n",
      "C:\\Users\\MYTQ\\Desktop\\TQ5Juli\\12Sep\\SysAdmin\\2. Cleanup_Projekt_Python.pdf\n",
      "C:\\Users\\MYTQ\\Desktop\\TQ5Juli\\12Sep\\SysAdmin\\3. Backup_Projekt_Python.pdf\n",
      "C:\\Users\\MYTQ\\Desktop\\TQ5Juli\\12Sep\\SysAdmin\\OrdnergroesseBerechnen.ipynb\n",
      "C:\\Users\\MYTQ\\Desktop\\TQ5Juli\\12Sep\\SysAdmin\\ordnerprojekt.ipynb\n"
     ]
    }
   ],
   "source": [
    "import os\n",
    "\n",
    "# Pfad zu deinem eigenen Test-Ordner\n",
    "test_ordner = r\"C:\\Users\\MYTQ\\Desktop\\TQ5Juli\\12Sep\"\n",
    "\n",
    "print(\"Dateien im Test-Ordner:\")\n",
    "for dirpath, dirnames, filenames in os.walk(test_ordner):\n",
    "    for file in filenames:\n",
    "        print(os.path.join(dirpath, file))\n"
   ]
  },
  {
   "cell_type": "markdown",
   "id": "7385179f",
   "metadata": {},
   "source": [
    "# Schritt 3 – Dateiendungen prüfen \n",
    "Theorie: \n",
    "Wir wollen nur bestimmte Dateitypen löschen – hier .tmp und .log Dateien. \n",
    "Beispielcode: \n",
    "```python \n",
    "if file.endswith(\".tmp\") or file.endswith(\".log\"): \n",
    "    print(f\"{file} wird gelöscht.\") \n",
    "Übung: \n",
    "1. Ergänze deinen Code so, dass nur .tmp und .log angezeigt werden. \n",
    "2. Erzeuge eigene Testdateien (z. B. test1.tmp, test2.log, behalten.txt) und teste dein \n",
    "Programm."
   ]
  },
  {
   "cell_type": "code",
   "execution_count": 14,
   "id": "b2cafad5",
   "metadata": {},
   "outputs": [],
   "source": [
    "\n",
    " \n",
    "\n",
    "if file.endswith(\".tmp\") or file.endswith(\".log\"): \n",
    "    print(f\"{file} wird gelöscht.\")"
   ]
  },
  {
   "cell_type": "code",
   "execution_count": null,
   "id": "7807597a",
   "metadata": {},
   "outputs": [],
   "source": [
    "C:\\Users\\MYTQ\\Desktop\\TQ5Juli\\rental_system"
   ]
  },
  {
   "cell_type": "markdown",
   "id": "bee0bb62",
   "metadata": {},
   "source": [
    "# Schritt 4 – Dateien löschen \n",
    "Theorie: \n",
    "Mit os.remove() können Dateien gelöscht werden. \n",
    "Beispielcode: \n",
    "````python\n",
    "os.remove(os.path.join(root, file)) \n",
    "print(f\"{file} gelöscht.\") \n",
    "Übung: \n",
    "1. Ergänze deinen Code so, dass gefundene .tmp- und .log-Dateien tatsächlich gelöscht \n",
    "werden. \n",
    "2. Überprüfe im Explorer, ob die Dateien wirklich verschwunden sind. \n",
    " \n",
    " \n",
    " \n",
    " \n",
    " \n",
    " \n",
    " \n",
    " \n",
    " \n",
    " \n",
    " \n",
    " \n",
    " \n",
    " "
   ]
  },
  {
   "cell_type": "code",
   "execution_count": 18,
   "id": "41f845aa",
   "metadata": {},
   "outputs": [
    {
     "ename": "FileNotFoundError",
     "evalue": "[WinError 2] Das System kann die angegebene Datei nicht finden: 'C:\\\\Users\\\\MYTQ\\\\Desktop\\\\TQ5Juli\\\\12Sep\\\\SysAdmin\\\\test.temp'",
     "output_type": "error",
     "traceback": [
      "\u001b[31m---------------------------------------------------------------------------\u001b[39m",
      "\u001b[31mFileNotFoundError\u001b[39m                         Traceback (most recent call last)",
      "\u001b[36mCell\u001b[39m\u001b[36m \u001b[39m\u001b[32mIn[18]\u001b[39m\u001b[32m, line 1\u001b[39m\n\u001b[32m----> \u001b[39m\u001b[32m1\u001b[39m \u001b[43mos\u001b[49m\u001b[43m.\u001b[49m\u001b[43mremove\u001b[49m\u001b[43m(\u001b[49m\u001b[43mos\u001b[49m\u001b[43m.\u001b[49m\u001b[43mpath\u001b[49m\u001b[43m.\u001b[49m\u001b[43mjoin\u001b[49m\u001b[43m(\u001b[49m\u001b[33;43mr\u001b[39;49m\u001b[33;43m\"\u001b[39;49m\u001b[33;43mC:\u001b[39;49m\u001b[33;43m\\\u001b[39;49m\u001b[33;43mUsers\u001b[39;49m\u001b[33;43m\\\u001b[39;49m\u001b[33;43mMYTQ\u001b[39;49m\u001b[33;43m\\\u001b[39;49m\u001b[33;43mDesktop\u001b[39;49m\u001b[33;43m\\\u001b[39;49m\u001b[33;43mTQ5Juli\u001b[39;49m\u001b[33;43m\\\u001b[39;49m\u001b[33;43m12Sep\u001b[39;49m\u001b[33;43m\\\u001b[39;49m\u001b[33;43mSysAdmin\u001b[39;49m\u001b[33;43m\"\u001b[39;49m\u001b[43m,\u001b[49m\u001b[43m \u001b[49m\u001b[33;43m\"\u001b[39;49m\u001b[33;43mtest.temp\u001b[39;49m\u001b[33;43m\"\u001b[39;49m\u001b[43m)\u001b[49m\u001b[43m)\u001b[49m \n\u001b[32m      2\u001b[39m \u001b[38;5;28mprint\u001b[39m(\u001b[33mf\u001b[39m\u001b[33m\"\u001b[39m\u001b[38;5;132;01m{\u001b[39;00m\u001b[33m\"\u001b[39m\u001b[33mtest.temp\u001b[39m\u001b[33m\"\u001b[39m\u001b[38;5;132;01m}\u001b[39;00m\u001b[33m gelöscht.\u001b[39m\u001b[33m\"\u001b[39m)\n",
      "\u001b[31mFileNotFoundError\u001b[39m: [WinError 2] Das System kann die angegebene Datei nicht finden: 'C:\\\\Users\\\\MYTQ\\\\Desktop\\\\TQ5Juli\\\\12Sep\\\\SysAdmin\\\\test.temp'"
     ]
    }
   ],
   "source": [
    "\n",
    "os.remove(os.path.join(r\"C:\\Users\\MYTQ\\Desktop\\TQ5Juli\\12Sep\\SysAdmin\", \"test.temp\")) \n",
    "print(f\"{\"test.temp\"} gelöscht.\")"
   ]
  },
  {
   "cell_type": "code",
   "execution_count": null,
   "id": "567b86c9",
   "metadata": {},
   "outputs": [],
   "source": []
  }
 ],
 "metadata": {
  "kernelspec": {
   "display_name": "Python 3",
   "language": "python",
   "name": "python3"
  },
  "language_info": {
   "codemirror_mode": {
    "name": "ipython",
    "version": 3
   },
   "file_extension": ".py",
   "mimetype": "text/x-python",
   "name": "python",
   "nbconvert_exporter": "python",
   "pygments_lexer": "ipython3",
   "version": "3.13.5"
  }
 },
 "nbformat": 4,
 "nbformat_minor": 5
}
