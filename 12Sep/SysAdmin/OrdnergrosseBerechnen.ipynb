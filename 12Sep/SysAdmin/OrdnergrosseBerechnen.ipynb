{
 "cells": [
  {
   "cell_type": "markdown",
   "id": "b9bd6af6",
   "metadata": {},
   "source": [
    "# Ordnergrosse Berechnen Projekt"
   ]
  },
  {
   "cell_type": "markdown",
   "id": "642078ba",
   "metadata": {},
   "source": [
    "## Schritt 1 – „Hallo Ordnergröße“ \n",
    "### Theorie: \n",
    "Wir beginnen mit einer einfachen Ausgabe. \n",
    "### Beispielcode: \n",
    "```python\n",
    "print(\"Programm zur Berechnung der Ordnergröße gestartet!\") \n",
    "```\n",
    "### Übung: \n",
    "1. Schreibe ein Programm, das „Berechnung gestartet“ und am Ende „Berechnung beendet“ \n",
    "ausgibt. \n",
    "2. Ergänze das Programm so, dass dein Name und das aktuelle Datum angezeigt werden"
   ]
  },
  {
   "cell_type": "code",
   "execution_count": 4,
   "id": "06f74539",
   "metadata": {},
   "outputs": [
    {
     "name": "stdout",
     "output_type": "stream",
     "text": [
      "Programm zur Berechnung der Ordnergröße gestartet!\n",
      "Gestartet von: Maryam um 13.09.25\n",
      "Programm beendet\n"
     ]
    }
   ],
   "source": [
    "import datetime\n",
    "print(\"Programm zur Berechnung der Ordnergröße gestartet!\")\n",
    "print(\"Gestartet von: Maryam um\", datetime.datetime.now().strftime(\"%d.%m.%y\"))\n",
    "\n",
    "### TODO: Logik implementieren\n",
    "\n",
    "print(\"Programm beendet\")"
   ]
  },
  {
   "cell_type": "markdown",
   "id": "c395c6a6",
   "metadata": {},
   "source": [
    "## Schritt 2 – Dateigröße einer einzelnen Datei \n",
    "### Theorie: \n",
    "Mit os.path.getsize können wir die Größe einer Datei in Bytes herausfinden. \n",
    "## Beispielcode: \n",
    "```python\n",
    " import os \n",
    "  file_path = \"/home/user/daten/test.txt\"  # oder \n",
    "\"C:\\\\Users\\\\Rico\\\\Documents\\\\daten\\\\test.txt\" \n",
    "print(f\"Größe der Datei: {os.path.getsize(file_path)} Bytes\") \n",
    "```\n",
    "Übung: \n",
    "1. Erstelle eine Testdatei und prüfe ihre Größe. \n",
    "2. Gib die Größe nicht in Bytes, sondern in Kilobytes aus (Tipp: durch 1024 teilen)."
   ]
  },
  {
   "cell_type": "code",
   "execution_count": 8,
   "id": "266d3db2",
   "metadata": {},
   "outputs": [
    {
     "name": "stdout",
     "output_type": "stream",
     "text": [
      "Größe der Datei: 192.7841796875 Kilobytes\n"
     ]
    }
   ],
   "source": [
    "import os\n",
    "# in ein string bedeutet \\ eine Escape charakter.\n",
    "# Daher muessen wir \\\\ schreiben, damit es als Backsalash interpretiert wird.\n",
    "\n",
    "file_path = \"1.Ordnergrosse_Projekt_Python.pdf\"\n",
    "print(f\"Größe der Datei: {os.path.getsize(file_path)/1024} Kilobytes\")"
   ]
  },
  {
   "cell_type": "markdown",
   "id": "2740aba8",
   "metadata": {},
   "source": [
    "## Schritt 3 – Durch einen Ordner laufen \n",
    "### Theorie: \n",
    "Mit os.walk können wir durch alle Unterordner und Dateien iterieren. \n",
    "### Beispielcode: \n",
    "```python\n",
    "import os \n",
    " \n",
    "folder = \"/home/user/daten\" \n",
    " \n",
    "for dirpath, dirnames, filenames in os.walk(folder): \n",
    "    for f in filenames: \n",
    "        print(os.path.join(dirpath, f)) \n",
    "```\n",
    "### Übung: \n",
    "1. Liste alle Dateien in deinem Testordner auf. \n",
    "2. Zähle die Anzahl der Dateien und gib sie am Ende aus. \n",
    " \n",
    " \n",
    " \n",
    " \n",
    " \n",
    " \n",
    " \n",
    " \n",
    " \n",
    " \n",
    " \n",
    " \n",
    " \n",
    " \n"
   ]
  },
  {
   "cell_type": "code",
   "execution_count": 13,
   "id": "9561df63",
   "metadata": {},
   "outputs": [
    {
     "name": "stdout",
     "output_type": "stream",
     "text": [
      "C:\\Users\\mytq\\Documents\\GitHub\\TQ5Juli\\12Sep\\DatenbankInDerProgrammierung\\DatenbankUebungen.ipynb\n",
      "C:\\Users\\mytq\\Documents\\GitHub\\TQ5Juli\\12Sep\\SysAdmin\\1.Ordnergrosse_Projekt_Python.pdf\n",
      "C:\\Users\\mytq\\Documents\\GitHub\\TQ5Juli\\12Sep\\SysAdmin\\2. Cleanup_Projekt_Python.pdf\n",
      "C:\\Users\\mytq\\Documents\\GitHub\\TQ5Juli\\12Sep\\SysAdmin\\2_Cleanup_Projekt_Python.ipynb\n",
      "C:\\Users\\mytq\\Documents\\GitHub\\TQ5Juli\\12Sep\\SysAdmin\\3. Backup_Projekt_Python.pdf\n",
      "C:\\Users\\mytq\\Documents\\GitHub\\TQ5Juli\\12Sep\\SysAdmin\\OrdnergroesseBerechnen.ipynb\n",
      "C:\\Users\\mytq\\Documents\\GitHub\\TQ5Juli\\12Sep\\SysAdmin\\OrdnergrosseBerechnen.ipynb\n",
      "C:\\Users\\mytq\\Documents\\GitHub\\TQ5Juli\\12Sep\\SysAdmin\\test\\test1\n",
      "Anzahl der Dateien: 8\n"
     ]
    }
   ],
   "source": [
    "import os\n",
    "folder = \"C:\\\\Users\\\\mytq\\\\Documents\\\\GitHub\\\\TQ5Juli\\\\12Sep\"\n",
    "zaehler = 0\n",
    "for dirpath, dirnames, filenames in os.walk(folder):\n",
    "    for f in filenames:\n",
    "        print(os.path.join(dirpath, f))\n",
    "        zaehler += 1\n",
    "print(\"Anzahl der Dateien:\", zaehler)\n"
   ]
  },
  {
   "cell_type": "markdown",
   "id": "95b79d92",
   "metadata": {},
   "source": [
    "## Schritt 4 – Gesamte Ordnergröße berechnen \n",
    "### Theorie: \n",
    "Wir summieren die Dateigrößen, um die Gesamtgröße zu erhalten. \n",
    "### Beispielcode: \n",
    "```python\n",
    "import os \n",
    " \n",
    "def get_folder_size(path): \n",
    "    total_size = 0 \n",
    "    for dirpath, dirnames, filenames in os.walk(path): \n",
    "        for f in filenames: \n",
    "            fp = os.path.join(dirpath, f) \n",
    "            if os.path.exists(fp): \n",
    "                total_size += os.path.getsize(fp) \n",
    "    return total_size \n",
    " \n",
    "folder = \"/home/user/daten\"  # oder \n",
    "\"C:\\\\Users\\\\Rico\\\\Documents\\\\daten\" \n",
    "size = get_folder_size(folder) \n",
    "print(f\"Größe von '{folder}': {size} Bytes\")\n",
    "``` \n",
    "### Übung: \n",
    "1. Berechne die Ordnergröße in Bytes. \n",
    "2. Ändere die Ausgabe so, dass die Größe in Kilobytes angezeigt wird."
   ]
  },
  {
   "cell_type": "code",
   "execution_count": 32,
   "id": "c03ce877",
   "metadata": {},
   "outputs": [
    {
     "name": "stdout",
     "output_type": "stream",
     "text": [
      "Das verzeichnis 'C:\\Users\\mytq\\Documents\\GitHub\\TQ5Juli\\12Sep' hat eine Größe von 199.69 megabytes.\n"
     ]
    }
   ],
   "source": [
    "import os\n",
    "def grosse_berechnen(folder):\n",
    "    gesamtgroesse = 0\n",
    "    \n",
    "    for dirpath, dirnames, filenames in os.walk(folder):\n",
    "        for dateiname in filenames:\n",
    "            dateipfad = os.path.join(dirpath, dateiname)\n",
    "            if os.path.exists(dateipfad):\n",
    "                gesamtgroesse += os.path.getsize(dateipfad)\n",
    "    return gesamtgroesse\n",
    "\n",
    "verzeichnis = r\"C:\\Users\\mytq\\Documents\\GitHub\\TQ5Juli\\12Sep\"\n",
    "\n",
    "grosse = grosse_berechnen(verzeichnis)\n",
    "print(f\"Das verzeichnis '{verzeichnis}' hat eine Größe von {grosse/1024:.2f} megabytes.\")"
   ]
  },
  {
   "cell_type": "markdown",
   "id": "40432036",
   "metadata": {},
   "source": [
    "## Schritt 5 – Benutzerfreundliche Ausgabe (MB/GB) \n",
    "### Theorie: \n",
    "Große Zahlen sind schwer lesbar – besser in MB oder GB anzeigen. \n",
    "Beispielcode: \n",
    "print(f\"Größe von '{folder}': {size / (1024*1024):.2f} MB\") \n",
    "### Übung: \n",
    "1. Stelle die Größe in MB dar (zwei Nachkommastellen). \n",
    "2. Ergänze eine zweite Ausgabe in GB. \n",
    "3. Teste dein Programm mit einem größeren Ordner. \n",
    "### Erweiterungsideen \n",
    "- Ergänze eine Eingabe (input()), sodass der Benutzer den Ordnerpfad selbst eingeben kann. \n",
    "- Gib zusätzlich die Anzahl der Dateien und Unterordner aus. \n",
    "- Schreibe die Ergebnisse in eine Logdatei (ordnergroesse.log)."
   ]
  },
  {
   "cell_type": "code",
   "execution_count": 38,
   "id": "5d00d0b9",
   "metadata": {},
   "outputs": [
    {
     "name": "stdout",
     "output_type": "stream",
     "text": [
      "Gestartet von: Maryam um 13.09.25\n",
      "Das verzeichnis 'C:\\Users\\mytq\\Documents\\GitHub\\TQ5Juli\\12Sep' hat eine Größe von 579.05 megabytes.\n",
      "===============================================\n",
      "Programm beendet\n"
     ]
    }
   ],
   "source": [
    "import datetime\n",
    "def grosse_berechnen_program():\n",
    "    print(\"Programm zur Berechnung der Ordnergröße gestartet!\")\n",
    "print(\"Gestartet von: Maryam um\", datetime.datetime.now().strftime(\"%d.%m.%y\"))\n",
    "verzeichnis = input(\"Bitte geben Sie den Pfad des Verzeichnisses ein: \")\n",
    "\n",
    "grosse = grosse_berechnen(verzeichnis)\n",
    "print(f\"Das verzeichnis '{verzeichnis}' hat eine Größe von {grosse/1024:.2f} megabytes.\")\n",
    "\n",
    "print(\"===============================================\")\n",
    "\n",
    "print(\"Programm beendet\")"
   ]
  }
 ],
 "metadata": {
  "kernelspec": {
   "display_name": "Python 3",
   "language": "python",
   "name": "python3"
  },
  "language_info": {
   "codemirror_mode": {
    "name": "ipython",
    "version": 3
   },
   "file_extension": ".py",
   "mimetype": "text/x-python",
   "name": "python",
   "nbconvert_exporter": "python",
   "pygments_lexer": "ipython3",
   "version": "3.13.5"
  }
 },
 "nbformat": 4,
 "nbformat_minor": 5
}
