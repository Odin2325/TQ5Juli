{
 "cells": [
  {
   "cell_type": "markdown",
   "id": "b9bd6af6",
   "metadata": {},
   "source": [
    "# Ordnergrosse Berechnen Projekt"
   ]
  },
  {
   "cell_type": "markdown",
   "id": "642078ba",
   "metadata": {},
   "source": [
    "## Schritt 1 – „Hallo Ordnergröße“ \n",
    "### Theorie: \n",
    "Wir beginnen mit einer einfachen Ausgabe. \n",
    "### Beispielcode: \n",
    "```python\n",
    "print(\"Programm zur Berechnung der Ordnergröße gestartet!\") \n",
    "```\n",
    "### Übung: \n",
    "1. Schreibe ein Programm, das „Berechnung gestartet“ und am Ende „Berechnung beendet“ \n",
    "ausgibt. \n",
    "2. Ergänze das Programm so, dass dein Name und das aktuelle Datum angezeigt werden"
   ]
  },
  {
   "cell_type": "code",
   "execution_count": null,
   "id": "06f74539",
   "metadata": {},
   "outputs": [
    {
     "name": "stdout",
     "output_type": "stream",
     "text": [
      "Programm zur Berechnung der Ordnergröße gestartet!\n",
      "Gestartet von: Maryam um 13.09.25\n",
      "Programm beendet\n"
     ]
    }
   ],
   "source": [
    "import datetime\n",
    "print(\"Programm zur Berechnung der Ordnergröße gestartet!\")\n",
    "print(\"Gestartet von: Maryam um\", datetime.datetime.now().strftime(\"%d.%m.%y\"))\n",
    "\n",
    "### TODO: Logik implementieren\n",
    "\n",
    "print(\"Programm beendet\")"
   ]
  },
  {
   "cell_type": "markdown",
   "id": "c395c6a6",
   "metadata": {},
   "source": [
    "## Schritt 2 – Dateigröße einer einzelnen Datei \n",
    "### Theorie: \n",
    "Mit os.path.getsize können wir die Größe einer Datei in Bytes herausfinden. \n",
    "## Beispielcode: \n",
    "```python\n",
    " import os \n",
    "  file_path = \"/home/user/daten/test.txt\"  # oder \n",
    "\"C:\\\\Users\\\\Rico\\\\Documents\\\\daten\\\\test.txt\" \n",
    "print(f\"Größe der Datei: {os.path.getsize(file_path)} Bytes\") \n",
    "```\n",
    "Übung: \n",
    "1. Erstelle eine Testdatei und prüfe ihre Größe. \n",
    "2. Gib die Größe nicht in Bytes, sondern in Kilobytes aus (Tipp: durch 1024 teilen)."
   ]
  },
  {
   "cell_type": "code",
   "execution_count": null,
   "id": "266d3db2",
   "metadata": {},
   "outputs": [],
   "source": [
    "import os\n",
    "\n",
    "file_path = \"\""
   ]
  }
 ],
 "metadata": {
  "kernelspec": {
   "display_name": "Python 3",
   "language": "python",
   "name": "python3"
  },
  "language_info": {
   "codemirror_mode": {
    "name": "ipython",
    "version": 3
   },
   "file_extension": ".py",
   "mimetype": "text/x-python",
   "name": "python",
   "nbconvert_exporter": "python",
   "pygments_lexer": "ipython3",
   "version": "3.13.5"
  }
 },
 "nbformat": 4,
 "nbformat_minor": 5
}
