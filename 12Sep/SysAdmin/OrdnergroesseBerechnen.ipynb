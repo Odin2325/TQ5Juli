{
 "cells": [
  {
   "cell_type": "markdown",
   "id": "d0c232f5",
   "metadata": {},
   "source": [
    "# Projekt: Ordnergröße Berechnen\n",
    "\n",
    "## Lernziele \n",
    "- Mit Python durch Ordner und Dateien laufen (os.walk) \n",
    "- Dateigrößen ermitteln (os.path.getsize) \n",
    "- Gesamtspeicherplatz eines Verzeichnisses berechnen \n",
    "- Ergebnisse benutzerfreundlich anzeigen (MB/GB) \n",
    "- Eigenes Analyse-Tool für Speicherplatz entwickeln"
   ]
  },
  {
   "cell_type": "markdown",
   "id": "df78f3d4",
   "metadata": {},
   "source": [
    "## Schritt 1 – „Hallo Ordnergröße“ \n",
    "\n",
    "### Theorie: \n",
    "Wir beginnen mit einer einfachen Ausgabe. \n",
    "\n",
    "### Beispielcode: \n",
    "```python\n",
    "print(\"Programm zur Berechnung der Ordnergröße gestartet!\")\n",
    "```\n",
    "\n",
    "### Übung: \n",
    "1. Schreibe ein Programm, das „Berechnung gestartet“ und am Ende „Berechnung beendet“ ausgibt. \n",
    "2. Ergänze das Programm so, dass dein Name und das aktuelle Datum angezeigt werden."
   ]
  },
  {
   "cell_type": "code",
   "execution_count": null,
   "id": "85dc90d2",
   "metadata": {},
   "outputs": [
    {
     "name": "stdout",
     "output_type": "stream",
     "text": [
      "Programm zur Berechnung der Ordnergröße gestartet!\n",
      "Gestartet von: Ron um 2025-09-12\n",
      "Programm beendet!\n"
     ]
    }
   ],
   "source": [
    "import datetime\n",
    "print('Programm zur Berechnung der Ordnergröße gestartet!')\n",
    "print('Gestartet von: Ron um', datetime.datetime.now().strftime('%Y-%m-%d'))\n",
    "\n",
    "### TODO: Logik implementieren\n",
    "\n",
    "print('Programm beendet!')"
   ]
  },
  {
   "cell_type": "markdown",
   "id": "eb86c52b",
   "metadata": {},
   "source": [
    "## Schritt 2 – Dateigröße einer einzelnen Datei \n",
    "\n",
    "### Theorie: \n",
    "Mit os.path.getsize können wir die Größe einer Datei in Bytes herausfinden. \n",
    "\n",
    "### Beispielcode: \n",
    "```python\n",
    "import os \n",
    " \n",
    "file_path = \"/home/user/daten/test.txt\"  # oder \n",
    "            \"C:\\\\Users\\\\Rico\\\\Documents\\\\daten\\\\test.txt\" \n",
    "print(f\"Größe der Datei: {os.path.getsize(file_path)} Bytes\")\n",
    "```\n",
    "\n",
    "### Übung: \n",
    "1. Erstelle eine Testdatei und prüfe ihre Größe. \n",
    "2. Gib die Größe nicht in Bytes, sondern in Kilobytes aus (Tipp: durch 1024 teilen)."
   ]
  },
  {
   "cell_type": "code",
   "execution_count": null,
   "id": "b0130ca6",
   "metadata": {},
   "outputs": [
    {
     "name": "stdout",
     "output_type": "stream",
     "text": [
      "Größe der Datei: 192.41 MegaBytes.\n"
     ]
    }
   ],
   "source": [
    "import os\n",
    "\n",
    "filepath = '1_Ordnergrosse_Projekt_Python.pdf'\n",
    "print(f'Größe der Datei: {os.path.getsize(filepath)/(1024^2):.2f} Megabytes.')"
   ]
  },
  {
   "cell_type": "markdown",
   "id": "98ecd416",
   "metadata": {},
   "source": [
    "## Schritt 3 – Durch einen Ordner laufen \n",
    "\n",
    "### Theorie: \n",
    "Mit os.walk können wir durch alle Unterordner und Dateien iterieren. \n",
    "\n",
    "### Beispielcode: \n",
    "```python\n",
    "import os \n",
    " \n",
    "folder = \"/home/user/daten\" \n",
    " \n",
    "for dirpath, dirnames, filenames in os.walk(folder): \n",
    "    for f in filenames: \n",
    "        print(os.path.join(dirpath, f))\n",
    "```\n",
    "\n",
    "### Übung: \n",
    "1. Liste alle Dateien in deinem Testordner auf. \n",
    "2. Zähle die Anzahl der Dateien und gib sie am Ende aus."
   ]
  },
  {
   "cell_type": "code",
   "execution_count": null,
   "id": "d5772dd6",
   "metadata": {},
   "outputs": [
    {
     "name": "stdout",
     "output_type": "stream",
     "text": [
      "C:\\Users\\mytq\\Documents\\GitHub\\TQ5Juli\\12Sep\\DatenbankInDerProgrammierung\\DatenbankUebungen.ipynb\n",
      "C:\\Users\\mytq\\Documents\\GitHub\\TQ5Juli\\12Sep\\SysAdmin\\1_Ordnergrosse_Projekt_Python.pdf\n",
      "C:\\Users\\mytq\\Documents\\GitHub\\TQ5Juli\\12Sep\\SysAdmin\\2_Cleanup_Projekt_Python.pdf\n",
      "C:\\Users\\mytq\\Documents\\GitHub\\TQ5Juli\\12Sep\\SysAdmin\\3_Backup_Projekt_Python.pdf\n",
      "C:\\Users\\mytq\\Documents\\GitHub\\TQ5Juli\\12Sep\\SysAdmin\\OrdnergroesseBerechnen.ipynb\n",
      "Anzahl der Dateien: 5\n"
     ]
    }
   ],
   "source": [
    "import os\n",
    "\n",
    "folder = 'C:\\\\Users\\\\mytq\\\\Documents\\\\GitHub\\\\TQ5Juli\\\\12Sep'\n",
    "counter = 0\n",
    "\n",
    "for dirpath, dirnames, filenames in os.walk(folder):\n",
    "    for f in filenames:\n",
    "        print(os.path.join(dirpath, f))\n",
    "        counter += 1\n",
    "\n",
    "print(f'Anzahl der Dateien: {counter}')"
   ]
  },
  {
   "cell_type": "markdown",
   "id": "435d6510",
   "metadata": {},
   "source": [
    "## Schritt 4 – Gesamte Ordnergröße berechnen \n",
    "\n",
    "### Theorie: \n",
    "Wir summieren die Dateigrößen, um die Gesamtgröße zu erhalten. \n",
    "\n",
    "### Beispielcode: \n",
    "```python\n",
    "import os \n",
    " \n",
    "def get_folder_size(path): \n",
    "    total_size = 0 \n",
    "    for dirpath, dirnames, filenames in os.walk(path): \n",
    "        for f in filenames: \n",
    "            fp = os.path.join(dirpath, f) \n",
    "            if os.path.exists(fp): \n",
    "                total_size += os.path.getsize(fp) \n",
    "    return total_size \n",
    " \n",
    "folder = \"/home/user/daten\"  # oder \n",
    "\"C:\\\\Users\\\\Rico\\\\Documents\\\\daten\" \n",
    "size = get_folder_size(folder) \n",
    "print(f\"Größe von '{folder}': {size} Bytes\")\n",
    "```\n",
    "\n",
    "### Übung: \n",
    "1. Berechne die Ordnergröße in Bytes. \n",
    "2. Ändere die Ausgabe so, dass die Größe in Kilobytes angezeigt wird."
   ]
  },
  {
   "cell_type": "code",
   "execution_count": 7,
   "id": "5c2a7cf4",
   "metadata": {},
   "outputs": [
    {
     "name": "stdout",
     "output_type": "stream",
     "text": [
      "Größe von 'C:\\Users\\mytq\\Documents\\GitHub\\TQ5Juli\\12Sep': 581.24 Megabytes\n"
     ]
    }
   ],
   "source": [
    "import os\n",
    "\n",
    "def get_folder_size(path):\n",
    "\n",
    "    total_size = 0\n",
    "\n",
    "    # Erster Schleifendurchlauf von os.walk Schleife =>\n",
    "    # C:\\Users\\mytq\\Documents\\GitHub\\TQ5Juli\\12Sep => Welche Verzeichnisse (dirpath) und welche Dateien (filenames) sind darin?\n",
    "    # dirnames = []DatenbankInDerProgrammierung, SysAdmin]\n",
    "    # filenames = []\n",
    "\n",
    "    # Zweiter Schleifendurchlauf von os.walk Schleife =>\n",
    "    # C:\\Users\\mytq\\Documents\\GitHub\\TQ5Juli\\12Sep\\DatenbankInDerProgrammierung => Welche Verzeichnisse (dirpath) und welche Dateien (filenames) sind darin?\n",
    "    # dirnames = []\n",
    "    # filenames = [DatenbankInDerProgrammierung.ipynb]\n",
    "\n",
    "    # Dritter Schleifendurchlauf von os.walk Schleife =>\n",
    "    # C:\\Users\\mytq\\Documents\\GitHub\\TQ5Juli\\12Sep\\SysAdmin => Welche Verzeichnisse (dirpath) und welche Dateien (filenames) sind darin?\n",
    "    # dirnames = []\n",
    "    # filesnames = [1_Ordnergroesse_Projekt_Python.pdf, 2_Cleanup_Projekt_Python.pdf, 3_Backup_Projekt_Python.pdf, OrdnergroesseBerechnen.ipynb]\n",
    "\n",
    "    for dirpath, dirnames, filenames in os.walk(folder):\n",
    "        for f in filenames:\n",
    "            fp = os.path.join(dirpath, f)\n",
    "            if os.path.exists(fp):\n",
    "                total_size += os.path.getsize(fp)\n",
    "    return total_size\n",
    "\n",
    "verzeichnis = 'C:\\\\Users\\\\mytq\\\\Documents\\\\GitHub\\\\TQ5Juli\\\\12Sep'\n",
    "size = get_folder_size(verzeichnis)\n",
    "print(f\"Größe von '{verzeichnis}': {size/(1024^2):.2f} Megabytes\")"
   ]
  },
  {
   "cell_type": "code",
   "execution_count": null,
   "id": "fdac995c",
   "metadata": {},
   "outputs": [],
   "source": [
    "import datetime\n",
    "\n",
    "def groesse_berechnen_programm():\n",
    "    print('Programm zur Berechnung der Ordnergröße gestartet!')\n",
    "    print('Gestartet von: Ron um', datetime.datetime.now().strftime('%Y-%m-%d'))\n",
    "\n",
    "    verzeichnis = input('Bitte geben Sie den Pfad des Verzeichnisses ein: ')\n",
    "    size = get_folder_size(verzeichnis)"
   ]
  },
  {
   "cell_type": "markdown",
   "id": "74f71bfe",
   "metadata": {},
   "source": [
    "## Schritt 5 – Benutzerfreundliche Ausgabe (MB/GB) \n",
    "\n",
    "### Theorie: \n",
    "Große Zahlen sind schwer lesbar – besser in MB oder GB anzeigen. \n",
    "\n",
    "### Beispielcode: \n",
    "```python\n",
    "print(f\"Größe von '{folder}': {size / (1024*1024):.2f} MB\")\n",
    "```\n",
    "\n",
    "### Übung: \n",
    "1. Stelle die Größe in MB dar (zwei Nachkommastellen). \n",
    "2. Ergänze eine zweite Ausgabe in GB. \n",
    "3. Teste dein Programm mit einem größeren Ordner.\n",
    "\n",
    "### Erweiterungsideen \n",
    "- Ergänze eine Eingabe (input()), sodass der Benutzer den Ordnerpfad selbst eingeben kann. \n",
    "- Gib zusätzlich die Anzahl der Dateien und Unterordner aus. \n",
    "- Schreibe die Ergebnisse in eine Logdatei (ordnergroesse.log)."
   ]
  },
  {
   "cell_type": "code",
   "execution_count": null,
   "id": "cf55cbe1",
   "metadata": {},
   "outputs": [],
   "source": []
  }
 ],
 "metadata": {
  "kernelspec": {
   "display_name": "Python 3",
   "language": "python",
   "name": "python3"
  },
  "language_info": {
   "codemirror_mode": {
    "name": "ipython",
    "version": 3
   },
   "file_extension": ".py",
   "mimetype": "text/x-python",
   "name": "python",
   "nbconvert_exporter": "python",
   "pygments_lexer": "ipython3",
   "version": "3.13.5"
  }
 },
 "nbformat": 4,
 "nbformat_minor": 5
}
