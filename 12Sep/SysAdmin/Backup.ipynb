{
 "cells": [
  {
   "cell_type": "markdown",
   "id": "29e387b2",
   "metadata": {},
   "source": [
    "# Python-Projekt: Backup-Skript mit \n",
    "\n",
    "## Fehlerprotokollierung \n",
    "\n",
    "### Lernziele \n",
    "- Verzeichnisse und Dateien in Python verwalten \n",
    "- Dateien und Ordner mit Python kopieren \n",
    "- Fehler behandeln und abfangen \n",
    "- Logdateien erstellen und auswerten \n",
    "- Ein echtes Mini-Tool Schritt für Schritt entwickeln"
   ]
  },
  {
   "cell_type": "markdown",
   "id": "28dc582b",
   "metadata": {},
   "source": [
    "## Schritt 1 – „Hallo Backup“ \n",
    "\n",
    "### Theorie: \n",
    "Bevor wir mit Dateiarbeit anfangen, lassen wir unser Programm einfach starten. \n",
    "\n",
    "### Beispielcode: \n",
    "```python\n",
    "print(\"Backup-Programm gestartet!\") \n",
    "```\n",
    "\n",
    "### Übung: \n",
    "1. Schreibe ein Programm, das beim Start „Backup gestartet“ und am Ende „Backup beendet“ ausgibt. \n",
    "2. Ergänze dein Programm so, dass dein Name und das aktuelle Datum angezeigt werden. (Tipp: import datetime)"
   ]
  },
  {
   "cell_type": "code",
   "execution_count": 1,
   "id": "a748513f",
   "metadata": {},
   "outputs": [
    {
     "name": "stdout",
     "output_type": "stream",
     "text": [
      "Backup-Programm gestartet!\n",
      "Programm gestartet von Ron am 2025-09-14\n",
      "Backup-Programm beendet!\n"
     ]
    }
   ],
   "source": [
    "import datetime\n",
    "\n",
    "print('Backup-Programm gestartet!')\n",
    "print ('Programm gestartet von Ron am', datetime.datetime.now().strftime('%Y-%m-%d'))\n",
    "\n",
    "# TODO: Logik implementieren\n",
    "\n",
    "print('Backup-Programm beendet!')"
   ]
  },
  {
   "cell_type": "markdown",
   "id": "31826168",
   "metadata": {},
   "source": [
    "## Schritt 2 – Eine Datei kopieren \n",
    "\n",
    "### Theorie: \n",
    "Mit shutil.copy2 können wir Dateien inklusive Metadaten kopieren. \n",
    "\n",
    "### Beispielcode: \n",
    "```python\n",
    "import shutil \n",
    " \n",
    "source_file = r\"C:\\Users\\Public\\Documents\\TestQuelle\\test.txt\" \n",
    "dest_file = r\"D:\\Backup\\TestBackup\\test.txt\" \n",
    " \n",
    "shutil.copy2(source_file, dest_file) \n",
    "print(\"Datei kopiert!\") \n",
    "```\n",
    "\n",
    "### Übung: \n",
    "1. Passe den Code an und kopiere eine eigene Datei. \n",
    "2. Erstelle eine zweite Kopie mit einem neuen Namen, z. B. test_kopie.txt. \n",
    "3. Was passiert, wenn die Datei nicht existiert? Teste es!"
   ]
  },
  {
   "cell_type": "code",
   "execution_count": 10,
   "id": "b7896bd3",
   "metadata": {},
   "outputs": [
    {
     "name": "stdout",
     "output_type": "stream",
     "text": [
      "Datei kopiert!\n"
     ]
    }
   ],
   "source": [
    "import shutil\n",
    "\n",
    "source_file = r'C:\\Users\\mytq\\Documents\\GitHub\\TQ5Juli\\12Sep\\SysAdmin\\3_Backup_Projekt_Python.pdf'\n",
    "destination_file = r'C:\\Users\\mytq\\Documents\\GitHub\\TQ5Juli\\12Sep\\SysAdmin\\Backup_Ordner\\3_Backup_Projekt_Python.pdf'\n",
    "\n",
    "shutil.copy2(source_file, destination_file)\n",
    "\n",
    "print('Datei kopiert!')"
   ]
  },
  {
   "cell_type": "markdown",
   "id": "0b50cb10",
   "metadata": {},
   "source": [
    "## Schritt 3 – Einen ganzen Ordner kopieren \n",
    "\n",
    "### Theorie: \n",
    "Mit os.walk durchlaufen wir alle Unterordner und Dateien. \n",
    "\n",
    "### Beispielcode: \n",
    "```python\n",
    "import os \n",
    "import shutil \n",
    " \n",
    "SOURCE_DIR = r\"C:\\Users\\Public\\Documents\\TestQuelle\" \n",
    "DEST_DIR = r\"D:\\Backup\\TestBackup\" \n",
    " \n",
    "for root, dirs, files in os.walk(SOURCE_DIR): \n",
    "    rel_path = os.path.relpath(root, SOURCE_DIR) \n",
    "    target_dir = os.path.join(DEST_DIR, rel_path) \n",
    "    os.makedirs(target_dir, exist_ok=True) \n",
    " \n",
    "    for file in files: \n",
    "        source_file = os.path.join(root, file) \n",
    "        dest_file = os.path.join(target_dir, file) \n",
    "        shutil.copy2(source_file, dest_file) \n",
    "        print(f\"Kopiert: {source_file} -> {dest_file}\") \n",
    "```\n",
    "\n",
    "### Übung: \n",
    "1. Erstelle in deinem Quellverzeichnis mehrere Unterordner mit Dateien. \n",
    "2. Lasse dein Programm den gesamten Ordner kopieren. \n",
    "3. Ergänze den Code so, dass nach jeder kopierten Datei eine Meldung „Fertig“ ausgegeben wird."
   ]
  },
  {
   "cell_type": "code",
   "execution_count": 12,
   "id": "984149d1",
   "metadata": {},
   "outputs": [
    {
     "name": "stdout",
     "output_type": "stream",
     "text": [
      "Kopiert: C:\\Users\\mytq\\Documents\\GitHub\\TQ5Juli\\12Sep\\SysAdmin\\Test_Ordner\\test.txt nach C:\\Users\\mytq\\Documents\\GitHub\\TQ5Juli\\12Sep\\SysAdmin\\Backup_Ordner\\Test_Ordner\\.\\test.txt\n"
     ]
    }
   ],
   "source": [
    "import os\n",
    "import shutil\n",
    "\n",
    "source_dir = r'C:\\Users\\mytq\\Documents\\GitHub\\TQ5Juli\\12Sep\\SysAdmin\\Test_Ordner'\n",
    "destination_dir = r'C:\\Users\\mytq\\Documents\\GitHub\\TQ5Juli\\12Sep\\SysAdmin\\Backup_Ordner\\Test_Ordner'\n",
    "\n",
    "for root, dirs, files in os.walk(source_dir):\n",
    "    relative_path = os.path.relpath(root, source_dir)\n",
    "    target_dir = os.path.join(destination_dir, relative_path)\n",
    "    os.makedirs(target_dir, exist_ok=True)\n",
    "\n",
    "    for file in files:\n",
    "        source_file = os.path.join(root, file)\n",
    "        destination_file = os.path.join(target_dir, file)\n",
    "        shutil.copy2(source_file, destination_file)\n",
    "        print(f'Kopiert: {source_file} nach {destination_file}')"
   ]
  },
  {
   "cell_type": "markdown",
   "id": "ff8b2974",
   "metadata": {},
   "source": [
    "## Schritt 4 – Fehler behandeln \n",
    "\n",
    "### Theorie: \n",
    "Programme sollen nicht abstürzen, wenn ein Fehler auftritt. Mit try/except fangen wir Fehler ab. \n",
    "\n",
    "### Beispielcode: \n",
    "```python\n",
    "try: \n",
    "    shutil.copy2(source_file, dest_file) \n",
    "    print(f\"[OK] {source_file}\") \n",
    "except Exception as e: \n",
    "    print(f\"[ERROR] {source_file} konnte nicht kopiert werden: {e}\") \n",
    "```\n",
    "\n",
    "### Übung: \n",
    "1. Provoziere einen Fehler (z. B. sperre eine Datei oder verwende eine falsche Quelle). \n",
    "2. Ergänze dein Programm so, dass es nicht abbricht, sondern weitermacht. \n",
    "3. Schreibe zusätzlich eine Meldung „Backup läuft weiter...“ nach jedem Fehler."
   ]
  },
  {
   "cell_type": "code",
   "execution_count": null,
   "id": "401139a3",
   "metadata": {},
   "outputs": [],
   "source": [
    "import os\n",
    "import shutil\n",
    "\n",
    "source_dir = r'C:\\Users\\mytq\\Documents\\GitHub\\TQ5Juli\\12Sep\\SysAdmin\\Test_Ordner'\n",
    "destination_dir = r'C:\\Users\\mytq\\Documents\\GitHub\\TQ5Juli\\12Sep\\SysAdmin\\Backup_Ordner\\Test_Ordner'\n",
    "\n",
    "for root, dirs, files in os.walk(source_dir):\n",
    "    relative_path = os.path.relpath(root, source_dir)\n",
    "    target_dir = os.path.join(destination_dir, relative_path)\n",
    "    os.makedirs(target_dir, exist_ok=True)\n",
    "\n",
    "    for file in files:\n",
    "        source_file = os.path.join(root, file)\n",
    "        destination_file = os.path.join(target_dir, file)\n",
    "        try:\n",
    "            shutil.copy2(source_file, destination_file)\n",
    "            print(f'[OK]: {source_file} nach {destination_file}')\n",
    "        except Exception as e:\n",
    "            print(f'[ERROR] {source_file} konnte nicht kopiert werden: {e}')"
   ]
  },
  {
   "cell_type": "markdown",
   "id": "2f76d10f",
   "metadata": {},
   "source": [
    "## Schritt 5 – Logdatei erstellen \n",
    "\n",
    "### Theorie: \n",
    "Ein Logfile dokumentiert den gesamten Ablauf. Jeder Durchlauf bekommt eine eigene Datei. \n",
    "\n",
    "### Beispielcode: \n",
    "```python\n",
    "import datetime \n",
    " \n",
    "log_dir = r\"C:\\BackupLogs\" \n",
    "os.makedirs(log_dir, exist_ok=True) \n",
    "log_file = os.path.join(log_dir, \n",
    "f\"backup_{datetime.datetime.now():%Y-%m-%d_%H-%M-%S}.log\") \n",
    " \n",
    "def log(message): \n",
    "    with open(log_file, \"a\", encoding=\"utf-8\") as f: \n",
    "        f.write(message + \"\\n\") \n",
    "    print(message) \n",
    " \n",
    "log(\"Backup gestartet\") \n",
    "# hier Backup-Code einfügen \n",
    "log(\"Backup beendet\") \n",
    "```\n",
    "\n",
    "## Übung: \n",
    "1. Erstelle ein Logfile, das „Backup gestartet“ und „Backup beendet“ enthält. \n",
    "2. Ergänze dein Programm so, dass jede erfolgreich kopierte Datei ins Log geschrieben wird. \n",
    "3. Füge auch Fehler mit [ERROR] ins Log ein. \n",
    "4. Teste dein Programm zweimal hintereinander – es sollten zwei verschiedene Logdateien entstehen."
   ]
  },
  {
   "cell_type": "code",
   "execution_count": null,
   "id": "3df8d4b4",
   "metadata": {},
   "outputs": [],
   "source": []
  },
  {
   "cell_type": "markdown",
   "id": "c58ac467",
   "metadata": {},
   "source": [
    "## Erweiterungsideen \n",
    "- Erstelle eine Funktion backup_directory(src, dest), die das gesamte Backup übernimmt. \n",
    "- Ergänze eine Eingabeaufforderung (input()), sodass der Benutzer Quell- und Zielordner selbst eingeben kann. \n",
    "- Baue ein Menü mit zwei Optionen: \n",
    "   1. „Backup starten“ \n",
    "   2. „Log anzeigen“ "
   ]
  }
 ],
 "metadata": {
  "kernelspec": {
   "display_name": "Python 3",
   "language": "python",
   "name": "python3"
  },
  "language_info": {
   "codemirror_mode": {
    "name": "ipython",
    "version": 3
   },
   "file_extension": ".py",
   "mimetype": "text/x-python",
   "name": "python",
   "nbconvert_exporter": "python",
   "pygments_lexer": "ipython3",
   "version": "3.13.5"
  }
 },
 "nbformat": 4,
 "nbformat_minor": 5
}
