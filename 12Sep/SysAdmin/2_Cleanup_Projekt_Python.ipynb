{
 "cells": [
  {
   "cell_type": "markdown",
   "id": "05f9f401",
   "metadata": {},
   "source": [
    "# Python-Projekt: Temporäre Dateien löschen mit Python"
   ]
  },
  {
   "cell_type": "markdown",
   "id": "80088208",
   "metadata": {},
   "source": [
    "Python-Projekt: Temporäre Dateien \n",
    "löschen mit Python \n",
    "Lernziele \n",
    "- Dateien in einem Ordner suchen \n",
    "- Dateiendungen prüfen (Filter auf .tmp und .log) \n",
    "- Dateien mit Python löschen \n",
    "- Fehlerbehandlung einbauen \n",
    "- Nützliches System-Tool entwickeln \n",
    "Schritt 1 – „Hallo Cleanup“ \n",
    "Theorie: \n",
    "Bevor wir anfangen, lassen wir das Programm starten. \n",
    "Beispielcode: \n",
    "print(\"Cleanup-Programm gestartet!\") \n",
    "Übung: \n",
    "1. Schreibe ein Programm, das beim Start „Cleanup gestartet“ und am Ende „Cleanup \n",
    "beendet“ ausgibt. \n",
    "2. Ergänze dein Programm so, dass dein Name und das aktuelle Datum angezeigt werden. \n",
    " \n",
    " \n",
    " \n",
    " \n",
    " \n",
    " \n",
    " \n",
    " \n",
    " \n"
   ]
  },
  {
   "cell_type": "code",
   "execution_count": null,
   "id": "04c60ce6",
   "metadata": {},
   "outputs": [
    {
     "name": "stdout",
     "output_type": "stream",
     "text": [
      "Cleanup gestartet!\n",
      "Autor: Maryam\n",
      "Datum: 2025-09-12\n",
      "Cleanup beendet!\n"
     ]
    }
   ],
   "source": [
    "import datetime\n",
    "\n",
    "print(\"Cleanup gestartet!\")\n",
    "mein_name = \"Maryam\"\n",
    "heute = datetime.date.today()\n",
    "print(\"Autor:\", mein_name)\n",
    "print(\"Datum:\", heute)\n",
    "\n",
    "print(\"Cleanup beendet!\")\n",
    "\n"
   ]
  },
  {
   "cell_type": "markdown",
   "id": "1e665644",
   "metadata": {},
   "source": [
    "Schritt 2 – Dateien im Ordner auflisten \n",
    "Theorie: \n",
    "Mit os.walk können wir alle Dateien in einem Verzeichnis und seinen Unterordnern \n",
    "durchlaufen. \n",
    "Beispielcode: \n",
    "import os \n",
    " \n",
    "target_dir = \"/home/user/temp\"  # oder \n",
    "\"C:\\\\Users\\\\Rico\\\\AppData\\\\Local\\\\Temp\" \n",
    " \n",
    "for root, dirs, files in os.walk(target_dir): \n",
    "    for file in files: \n",
    "        print(file) \n",
    "Übung: \n",
    "1. Liste alle Dateien in deinem Temp-Ordner auf. \n",
    "2. Ändere den Pfad so, dass du einen eigenen Test-Ordner mit Dateien verwendest."
   ]
  },
  {
   "cell_type": "code",
   "execution_count": null,
   "id": "1253b0d7",
   "metadata": {},
   "outputs": [
    {
     "name": "stdout",
     "output_type": "stream",
     "text": [
      "Cleanup-Programm beendet\n"
     ]
    }
   ],
   "source": [
    "import os\n",
    "\n",
    "target_dir = \"C:\\\\Users\\\\Maryam\\\\TestTemp\"\n",
    "\n",
    "for root, dirs, files in os.walk(target_dir):\n",
    "    for file in files:\n",
    "        if file.endswith(\".tmp\") or file.endswith(\".log\"):\n",
    "            file_path = os.path.join(root, file)\n",
    "            try:\n",
    "                os.remove(file_path)\n",
    "                print(f\"Datei gelöscht: {file_path}\")\n",
    "            except Exception as e:\n",
    "                print(f\"Fehler beim Löschen der Datei {file_path}: {e}\")\n",
    "\n",
    "\n",
    "print(\"Cleanup-Programm beendet\")\n"
   ]
  },
  {
   "cell_type": "code",
   "execution_count": 8,
   "id": "84e3da1b",
   "metadata": {},
   "outputs": [],
   "source": [
    "import os\n",
    "\n",
    "\n",
    "target_dir = \"C:\\\\Users\\\\MYTQ5\\\\DESKTOP\\\\TQ5JULY\\\\12SEP\\\\TestTemp\"\n",
    "\n",
    "for root, dirs, files in os.walk(target_dir):\n",
    "    for file in files:\n",
    "        if file.endswith(\".tmp\") or file.endswith(\".log\"):\n",
    "            print(f\"{file} wird gelöscht.\") \n"
   ]
  }
 ],
 "metadata": {
  "kernelspec": {
   "display_name": "Python 3",
   "language": "python",
   "name": "python3"
  },
  "language_info": {
   "codemirror_mode": {
    "name": "ipython",
    "version": 3
   },
   "file_extension": ".py",
   "mimetype": "text/x-python",
   "name": "python",
   "nbconvert_exporter": "python",
   "pygments_lexer": "ipython3",
   "version": "3.13.5"
  }
 },
 "nbformat": 4,
 "nbformat_minor": 5
}
