{
 "cells": [
  {
   "cell_type": "markdown",
   "id": "22f62b10",
   "metadata": {},
   "source": [
    "Schritt 1 – „Hallo Cleanup“ \n",
    "Theorie: \n",
    "Bevor wir anfangen, lassen wir das Programm starten. \n",
    "Beispielcode: \n",
    "print(\"Cleanup-Programm gestartet!\") \n",
    "Übung: \n",
    "1. Schreibe ein Programm, das beim Start „Cleanup gestartet“ und am Ende „Cleanup \n",
    "beendet“ ausgibt. \n",
    "2. Ergänze dein Programm so, dass dein Name und das aktuelle Datum angezeigt werden."
   ]
  },
  {
   "cell_type": "code",
   "execution_count": 4,
   "id": "52faa383",
   "metadata": {},
   "outputs": [
    {
     "name": "stdout",
     "output_type": "stream",
     "text": [
      "Cleanup-Programm gestartet!\n",
      "Cleanup-Programm beendet!\n"
     ]
    }
   ],
   "source": [
    "import os\n",
    "\n",
    "print(\"Cleanup-Programm gestartet!\")\n",
    "print(\"Cleanup-Programm beendet!\")\n"
   ]
  },
  {
   "cell_type": "markdown",
   "id": "b386ee4a",
   "metadata": {},
   "source": [
    "Schritt 2 – Dateien im Ordner auflisten \n",
    "Theorie: \n",
    "Mit os.walk können wir alle Dateien in einem Verzeichnis und seinen Unterordnern \n",
    "durchlaufen. \n",
    "Beispielcode: \n",
    "import os \n",
    " \n",
    "target_dir = \"/home/user/temp\"  # oder \n",
    "\"C:\\\\Users\\\\Rico\\\\AppData\\\\Local\\\\Temp\" \n",
    " \n",
    "for root, dirs, files in os.walk(target_dir): \n",
    "    for file in files: \n",
    "        print(file) \n",
    "Übung: \n",
    "1. Liste alle Dateien in deinem Temp-Ordner auf. \n",
    "2. Ändere den Pfad so, dass du einen eigenen Test-Ordner mit Dateien verwendest."
   ]
  },
  {
   "cell_type": "code",
   "execution_count": 28,
   "id": "857a275f",
   "metadata": {},
   "outputs": [
    {
     "name": "stdout",
     "output_type": "stream",
     "text": [
      "Cleanup-Programm gestartet!\n",
      "Datei: C:\\Users\\MYTQ\\Desktop\\TQ5Juli\\TQ5Juli\\Temp\\data.csv, Groesse: 0 Bytes\n",
      "Datei: C:\\Users\\MYTQ\\Desktop\\TQ5Juli\\TQ5Juli\\Temp\\notes.txt, Groesse: 0 Bytes\n",
      "Anzahl der Dateien: 2\n",
      "Cleanup-Programm beendet!\n"
     ]
    }
   ],
   "source": [
    "import os \n",
    "\n",
    "print(\"Cleanup-Programm gestartet!\")\n",
    "folder = \"C:\\\\Users\\\\MYTQ\\\\Desktop\\\\TQ5Juli\\\\TQ5Juli\\\\Temp\"  # oder ein anderes Verzeichnis\n",
    "\n",
    "zaehler = 0\n",
    "\n",
    "for dirpath, dirnames, filenames in os.walk(folder):\n",
    "    for dateiName in filenames:\n",
    "        fp = os.path.join(dirpath, dateiName)\n",
    "        zaehler += 1\n",
    "        os.path.getsize(fp)\n",
    "        print(f\"Datei: {fp}, Groesse: {os.path.getsize(fp)} Bytes\")\n",
    "print(f\"Anzahl der Dateien: {zaehler}\")\n",
    "\n",
    "print(\"Cleanup-Programm beendet!\")\n",
    "\n"
   ]
  },
  {
   "cell_type": "markdown",
   "id": "e08b2d77",
   "metadata": {},
   "source": [
    "Schritt 3 – Dateiendungen prüfen \n",
    "Theorie: \n",
    "Wir wollen nur bestimmte Dateitypen löschen – hier .tmp und .log Dateien. \n",
    "Beispielcode: \n",
    "if file.endswith(\".tmp\") or file.endswith(\".log\"): \n",
    "    print(f\"{file} wird gelöscht.\") \n",
    "Übung: \n",
    "1. Ergänze deinen Code so, dass nur .tmp und .log angezeigt werden. \n",
    "2. Erzeuge eigene Testdateien (z. B. test1.tmp, test2.log, behalten.txt) und teste dein \n",
    "Programm."
   ]
  },
  {
   "cell_type": "code",
   "execution_count": null,
   "id": "c0ab513a",
   "metadata": {},
   "outputs": [
    {
     "ename": "IndentationError",
     "evalue": "unexpected indent (1169586362.py, line 18)",
     "output_type": "error",
     "traceback": [
      "  \u001b[36mCell\u001b[39m\u001b[36m \u001b[39m\u001b[32mIn[31]\u001b[39m\u001b[32m, line 18\u001b[39m\n\u001b[31m    \u001b[39m\u001b[31mos.remove(fp)\u001b[39m\n    ^\n\u001b[31mIndentationError\u001b[39m\u001b[31m:\u001b[39m unexpected indent\n"
     ]
    }
   ],
   "source": [
    "import os\n",
    "\n",
    "print(\"Cleanup-Programm gestartet!\")\n",
    "folder = \"C:\\\\Users\\\\MYTQ\\\\Desktop\\\\TQ5Juli\\\\TQ5Juli\\\\Temp\"  # oder ein anderes Verzeichnis\n",
    "\n",
    "zaehler = 0\n",
    "\n",
    "for dirpath, dirnames, filenames in os.walk(folder):\n",
    "    for dateiName in filenames:\n",
    "        fp = os.path.join(dirpath, dateiName)\n",
    "        zaehler += 1\n",
    "        os.path.getsize(fp)\n",
    "        print(f\"Datei: {fp}, Groesse: {os.path.getsize(fp)} Bytes\")\n",
    "print(f\"Anzahl der Dateien: {zaehler}\")\n",
    "\n",
    "if dateiName.endswith(\".tmp\") or dateiName.endswith(\".log\"): \n",
    "    print(f\"{dateiName} wird gelöscht.\")\n",
    "        os.remove(os.path.join(dirpath, dateiName)) \n",
    "print(f\"{dateiName} gelöscht.\")\n",
    "    print(\"Cleanup-Programm beendet!\")"
   ]
  }
 ],
 "metadata": {
  "kernelspec": {
   "display_name": "Python 3",
   "language": "python",
   "name": "python3"
  },
  "language_info": {
   "codemirror_mode": {
    "name": "ipython",
    "version": 3
   },
   "file_extension": ".py",
   "mimetype": "text/x-python",
   "name": "python",
   "nbconvert_exporter": "python",
   "pygments_lexer": "ipython3",
   "version": "3.13.5"
  }
 },
 "nbformat": 4,
 "nbformat_minor": 5
}
