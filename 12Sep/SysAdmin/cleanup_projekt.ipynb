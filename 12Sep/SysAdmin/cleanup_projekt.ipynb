{
  "cells": [
    {
      "cell_type": "markdown",
      "metadata": {},
      "source": [
        "# 🧹 Python-Projekt: Temporäre Dateien löschen\n",
        "\n",
        "## Lernziele\n",
        "- Dateien in einem Ordner suchen  \n",
        "- Dateiendungen prüfen (Filter auf `.tmp` und `.log`)  \n",
        "- Dateien mit Python löschen  \n",
        "- Fehlerbehandlung einbauen  \n",
        "- Ein nützliches kleines System-Tool entwickeln"
      ]
    },
    {
      "cell_type": "markdown",
      "metadata": {},
      "source": [
        "## Schritt 1 – „Hallo Cleanup“\n",
        "\n",
        "### Theorie\n",
        "Bevor wir anfangen, soll unser Programm einfach starten und wieder enden.  \n",
        "So gewöhnen wir uns an den Ablauf.\n",
        "\n",
        "### Übung\n",
        "1. Schreibe ein Programm, das beim Start **„Cleanup gestartet“** und am Ende **„Cleanup beendet“** ausgibt.  \n",
        "2. Ergänze dein Programm so, dass **dein Name** und das **aktuelle Datum** angezeigt werden."
      ]
    },
    {
      "cell_type": "code",
      "execution_count": null,
      "metadata": {},
      "outputs": [],
      "source": [
        "import datetime\n",
        "\n",
        "print(\"Cleanup gestartet!\")\n",
        "print(\"Autor: Dein Name\")\n",
        "print(\"Datum:\", datetime.date.today())\n",
        "print(\"Cleanup beendet!\")"
      ]
    },
    {
      "cell_type": "markdown",
      "metadata": {},
      "source": [
        "## Schritt 2 – Dateien im Ordner auflisten\n",
        "\n",
        "### Theorie\n",
        "Mit `os.walk()` können wir alle Dateien in einem Verzeichnis und seinen Unterordnern durchlaufen.\n",
        "\n",
        "```python\n",
        "import os\n",
        "\n",
        "target_dir = \"/home/user/temp\"  # Beispiel für Linux\n",
        "# target_dir = \"C:\\\\Users\\\\Rico\\\\AppData\\\\Local\\\\Temp\"  # Beispiel für Windows\n",
        "\n",
        "for root, dirs, files in os.walk(target_dir):\n",
        "    for file in files:\n",
        "        print(file)\n",
        "```\n",
        "\n",
        "### Übung\n",
        "1. Liste alle Dateien in deinem **Temp-Ordner** auf.  \n",
        "2. Ändere den Pfad so, dass du einen **eigenen Test-Ordner** mit Dateien verwendest."
      ]
    },
    {
      "cell_type": "code",
      "execution_count": null,
      "metadata": {},
      "outputs": [],
      "source": [
        "import os\n",
        "\n",
        "target_dir = \"test_ordner\"  # bitte anpassen: eigenen Ordner mit Testdateien anlegen\n",
        "\n",
        "for root, dirs, files in os.walk(target_dir):\n",
        "    for file in files:\n",
        "        print(file)"
      ]
    },
    {
      "cell_type": "markdown",
      "metadata": {},
      "source": [
        "## Schritt 3 – Dateiendungen prüfen\n",
        "\n",
        "### Theorie\n",
        "Wir wollen nur bestimmte Dateitypen löschen: `.tmp` und `.log`.\n",
        "\n",
        "```python\n",
        "if file.endswith(\".tmp\") or file.endswith(\".log\"):\n",
        "    print(f\"{file} wird gelöscht.\")\n",
        "```\n",
        "\n",
        "### Übung\n",
        "1. Ergänze deinen Code so, dass **nur .tmp und .log** angezeigt werden.  \n",
        "2. Erzeuge eigene Testdateien (`test1.tmp`, `test2.log`, `behalten.txt`) und teste dein Programm."
      ]
    },
    {
      "cell_type": "code",
      "execution_count": null,
      "metadata": {},
      "outputs": [],
      "source": [
        "for root, dirs, files in os.walk(target_dir):\n",
        "    for file in files:\n",
        "        if file.endswith(\".tmp\") or file.endswith(\".log\"):\n",
        "            print(f\"{file} wird gelöscht.\")"
      ]
    },
    {
      "cell_type": "markdown",
      "metadata": {},
      "source": [
        "## Schritt 4 – Dateien löschen\n",
        "\n",
        "### Theorie\n",
        "Mit `os.remove()` können Dateien gelöscht werden.\n",
        "\n",
        "```python\n",
        "os.remove(os.path.join(root, file))\n",
        "print(f\"{file} gelöscht.\")\n",
        "```\n",
        "\n",
        "### Übung\n",
        "1. Ergänze deinen Code so, dass gefundene `.tmp`- und `.log`-Dateien tatsächlich gelöscht werden.  \n",
        "2. Überprüfe im Explorer, ob die Dateien wirklich verschwunden sind."
      ]
    },
    {
      "cell_type": "code",
      "execution_count": null,
      "metadata": {},
      "outputs": [],
      "source": [
        "for root, dirs, files in os.walk(target_dir):\n",
        "    for file in files:\n",
        "        if file.endswith(\".tmp\") or file.endswith(\".log\"):\n",
        "            file_path = os.path.join(root, file)\n",
        "            os.remove(file_path)\n",
        "            print(f\"{file} gelöscht.\")"
      ]
    },
    {
      "cell_type": "markdown",
      "metadata": {},
      "source": [
        "## Schritt 5 – Fehler abfangen\n",
        "\n",
        "### Theorie\n",
        "Falls eine Datei gerade gesperrt ist, soll das Programm nicht abstürzen.\n",
        "\n",
        "```python\n",
        "try:\n",
        "    os.remove(os.path.join(root, file))\n",
        "    print(f\"{file} gelöscht.\")\n",
        "except Exception as e:\n",
        "    print(f\"Fehler beim Löschen von {file}: {e}\")\n",
        "```\n",
        "\n",
        "### Übung\n",
        "1. Provoziere einen Fehler (z. B. öffne eine `.log`-Datei in einem Editor und lasse das Programm laufen).  \n",
        "2. Stelle sicher, dass das Programm **nicht abstürzt**, sondern eine **Fehlermeldung** ausgibt."
      ]
    },
    {
      "cell_type": "code",
      "execution_count": null,
      "metadata": {},
      "outputs": [],
      "source": [
        "for root, dirs, files in os.walk(target_dir):\n",
        "    for file in files:\n",
        "        if file.endswith(\".tmp\") or file.endswith(\".log\"):\n",
        "            file_path = os.path.join(root, file)\n",
        "            try:\n",
        "                os.remove(file_path)\n",
        "                print(f\"{file} gelöscht.\")\n",
        "            except Exception as e:\n",
        "                print(f\"Fehler beim Löschen von {file}: {e}\")"
      ]
    },
    {
      "cell_type": "markdown",
      "metadata": {},
      "source": [
        "## Erweiterungsideen\n",
        "\n",
        "- Schreibe ein **Logfile (`cleanup.log`)**, in dem alle gelöschten Dateien protokolliert werden.  \n",
        "- Ergänze eine **Eingabe (`input()`)**, damit der Benutzer den Zielordner selbst eingeben kann.  \n",
        "- Baue ein kleines **Menü mit zwei Optionen**:\n",
        "  1. „Cleanup starten“  \n",
        "  2. „Log anzeigen“"
      ]
    },
    {
      "cell_type": "code",
      "execution_count": 2,
      "id": "9b6c025c",
      "metadata": {},
      "outputs": [
        {
          "name": "stdout",
          "output_type": "stream",
          "text": [
            "Cleanup gestartet!\n",
            "Autor: Sascha\n",
            "Datum: 2025-09-12\n",
            "Cleanup beendet!\n"
          ]
        }
      ],
      "source": [
        "import os\n",
        "import datetime\n",
        "\n",
        "def cleanup_program():\n",
        "    print(\"Cleanup gestartet!\")\n",
        "    print(\"Autor: Sascha\")\n",
        "    print(\"Datum:\", datetime.date.today())\n",
        "\n",
        "    # Benutzer nach Zielordner fragen\n",
        "    target_dir = input(\"Bitte gib den Zielordner ein: \")\n",
        "\n",
        "    # Logfile vorbereiten\n",
        "    log_file = \"cleanup.log\"\n",
        "    with open(log_file, \"a\", encoding=\"utf-8\") as log:\n",
        "        log.write(f\"\\n--- Cleanup gestartet am {datetime.datetime.now()} ---\\n\")\n",
        "\n",
        "        for root, dirs, files in os.walk(target_dir):\n",
        "            for file in files:\n",
        "                if file.endswith(\".tmp\") or file.endswith(\".log\"):\n",
        "                    file_path = os.path.join(root, file)\n",
        "                    try:\n",
        "                        os.remove(file_path)\n",
        "                        print(f\"{file} gelöscht.\")\n",
        "                        log.write(f\"{file_path} gelöscht.\\n\")\n",
        "                    except Exception as e:\n",
        "                        print(f\"Fehler beim Löschen von {file}: {e}\")\n",
        "                        log.write(f\"Fehler beim Löschen von {file_path}: {e}\\n\")\n",
        "\n",
        "        log.write(f\"--- Cleanup beendet am {datetime.datetime.now()} ---\\n\")\n",
        "\n",
        "    print(\"Cleanup beendet!\")\n",
        "\n",
        "# Programm starten\n",
        "cleanup_program()\n"
      ]
    }
  ],
  "metadata": {
    "kernelspec": {
      "display_name": "Python 3",
      "language": "python",
      "name": "python3"
    },
    "language_info": {
      "codemirror_mode": {
        "name": "ipython",
        "version": 3
      },
      "file_extension": ".py",
      "mimetype": "text/x-python",
      "name": "python",
      "nbconvert_exporter": "python",
      "pygments_lexer": "ipython3",
      "version": "3.13.5"
    }
  },
  "nbformat": 4,
  "nbformat_minor": 5
}
