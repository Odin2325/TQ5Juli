{
 "cells": [
  {
   "cell_type": "code",
   "execution_count": null,
   "id": "c5b0cc46",
   "metadata": {},
   "outputs": [],
   "source": [
    "import sqlite3\n",
    "\n",
    "# Datenbank öffnen (wird automatisch erstellt)\n",
    "conn = sqlite3.connect(\"personen.db\")\n",
    "c = conn.cursor()\n",
    "\n",
    "# Tabelle anlegen (falls sie noch nicht existiert)\n",
    "c.execute(\"\"\"\n",
    "CREATE TABLE IF NOT EXISTS personen (\n",
    "    id INTEGER PRIMARY KEY AUTOINCREMENT,\n",
    "    vorname TEXT,\n",
    "    nachname TEXT\n",
    ")\n",
    "\"\"\")\n",
    "\n",
    "# Menü\n",
    "while True:\n",
    "    print(\"\\n1 = Person hinzufügen\")\n",
    "    print(\"2 = Alle anzeigen\")\n",
    "    print(\"3 = Beenden\")\n",
    "    wahl = input(\"Auswahl: \")\n",
    "\n",
    "    if wahl == \"1\":\n",
    "        vorname = input(\"Vorname: \")\n",
    "        nachname = input(\"Nachname: \")\n",
    "        c.execute(\"INSERT INTO personen (vorname, nachname) VALUES (?, ?)\", (vorname, nachname))\n",
    "        conn.commit()\n",
    "        print(\"✅ Person gespeichert!\")\n",
    "\n",
    "    elif wahl == \"2\":\n",
    "        c.execute(\"SELECT * FROM personen\")\n",
    "        for zeile in c.fetchall():\n",
    "            print(zeile)\n",
    "\n",
    "    elif wahl == \"3\":\n",
    "        break\n",
    "\n",
    "    else:\n",
    "        print(\"Falsche Eingabe!\")\n",
    "\n",
    "conn.close()\n"
   ]
  }
 ],
 "metadata": {
  "language_info": {
   "name": "python"
  }
 },
 "nbformat": 4,
 "nbformat_minor": 5
}
