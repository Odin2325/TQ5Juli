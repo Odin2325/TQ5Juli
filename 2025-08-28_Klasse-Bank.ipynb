{
 "cells": [
  {
   "cell_type": "markdown",
   "id": "05febc66",
   "metadata": {},
   "source": [
    "Aufgabe: Erstellt ein Klassendiagramm zu unsere Klassen Bankkonto und Kunde. Erstellt auch zusätzlich im Klassendiagramm die Klasse Bank.\n",
    "Ihr solltet selber überlegen was die Verbindungen zwischen diese 3 Klassen sein sollen. Und welche Attribute und Methoden wo gehören."
   ]
  },
  {
   "cell_type": "code",
   "execution_count": null,
   "id": "3eb52b1c",
   "metadata": {},
   "outputs": [],
   "source": [
    "class Bank:\n",
    "    def __init__(self, name, region):\n",
    "        self.name = name\n",
    "        self.region = region\n",
    "        self.kunden = []\n",
    "        self.konten = []\n",
    "\n",
    "    def kunde_hinzufuegen(self, kunde):\n",
    "        self.kunden.append(kunde)\n",
    "        print(f'Kunde {kunde.vorname} {kunde.nachname} wurde hinzugefügt.')\n",
    "\n",
    "    def konto_eroeffnen(self, kunde, startguthaben=0):\n",
    "        konto = Bankkonto(kontoinhaber=kunde, startguthaben=startguthaben)\n",
    "        self.konten.append(konto)\n",
    "        if kunde not in self.kunden:\n",
    "            self.kunden.append(kunde)\n",
    "        print(f'Neues Konto für {kunde.vorname} {kunde.nachname} eröffnet.')\n",
    "        return konto\n",
    "\n",
    "    def alle_konten_anzeigen(self):\n",
    "        print('====== Kontenübersicht ======')\n",
    "        for konto in self.konten:\n",
    "            konto.details()\n",
    "\n",
    "    def alle_kunden_anzeigen(self):\n",
    "        print('====== Kundenübersicht ======')\n",
    "        for kunde in self.kunden:\n",
    "            kunde.detail_kunde(True)"
   ]
  }
 ],
 "metadata": {
  "language_info": {
   "name": "python"
  }
 },
 "nbformat": 4,
 "nbformat_minor": 5
}
