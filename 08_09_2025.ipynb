{
 "cells": [
  {
   "cell_type": "code",
   "execution_count": null,
   "id": "ae0a8234",
   "metadata": {},
   "outputs": [],
   "source": [
    "celsius = float(input(\"Gib die Temperatur in Celsius ein: \"))\n",
    "fahrenheit = celsius * 9/5 + 32\n",
    "print(\"Das sind\", fahrenheit, \"Grad Fahrenheit\")\n"
   ]
  },
  {
   "cell_type": "code",
   "execution_count": null,
   "id": "68e950ba",
   "metadata": {},
   "outputs": [],
   "source": [
    "punkte = int(input(\"Gib die Punktzahl (0-100) ein: \"))\n",
    "\n",
    "if punkte >= 90:\n",
    "    note = 1\n",
    "elif punkte >= 80:\n",
    "    note = 2\n",
    "elif punkte >= 70:\n",
    "    note = 3\n",
    "elif punkte >= 60:\n",
    "    note = 4\n",
    "elif punkte >= 50:\n",
    "    note = 5\n",
    "else:\n",
    "    note = 6\n",
    "\n",
    "print(\"Die Note ist:\", note)\n"
   ]
  },
  {
   "cell_type": "code",
   "execution_count": null,
   "id": "2485e527",
   "metadata": {},
   "outputs": [],
   "source": [
    "punkte = int(input(\"Gib die Punktzahl (0-100) ein: \"))\n",
    "\n",
    "if punkte >= 90:\n",
    "    note = 1\n",
    "elif punkte >= 80:\n",
    "    note = 2\n",
    "elif punkte >= 70:\n",
    "    note = 3\n",
    "elif punkte >= 60:\n",
    "    note = 4\n",
    "elif punkte >= 50:\n",
    "    note = 5\n",
    "else:\n",
    "    note = 6\n",
    "\n",
    "print(\"Die Note ist:\", note)\n"
   ]
  },
  {
   "cell_type": "code",
   "execution_count": null,
   "id": "209729d7",
   "metadata": {},
   "outputs": [],
   "source": [
    "zahl = int(input(\"Gib eine Zahl ein: \"))\n",
    "\n",
    "if zahl % 2 == 0:\n",
    "    print(\"Die Zahl ist gerade\")\n",
    "else:\n",
    "    print(\"Die Zahl ist ungerade\")\n"
   ]
  },
  {
   "cell_type": "code",
   "execution_count": null,
   "id": "df5c0761",
   "metadata": {},
   "outputs": [],
   "source": [
    "for i in range(1, 101):\n",
    "    print(i)\n"
   ]
  },
  {
   "cell_type": "code",
   "execution_count": null,
   "id": "c45e2608",
   "metadata": {},
   "outputs": [],
   "source": [
    "for i in range(1, 11):\n",
    "    for j in range(1, 11):\n",
    "        print(i, \"x\", j, \"=\", i * j)\n",
    "    print(\"-----\")  # Trenner zwischen den Reihen\n"
   ]
  },
  {
   "cell_type": "code",
   "execution_count": null,
   "id": "4745acd4",
   "metadata": {},
   "outputs": [],
   "source": [
    "summe = 0\n",
    "\n",
    "while True:\n",
    "    zahl = int(input(\"Gib eine Zahl ein (0 zum Beenden): \"))\n",
    "    if zahl == 0:\n",
    "        break\n",
    "    summe += zahl\n",
    "\n",
    "print(\"Die Summe ist:\", summe)\n"
   ]
  },
  {
   "cell_type": "code",
   "execution_count": null,
   "id": "f8535069",
   "metadata": {},
   "outputs": [],
   "source": [
    "richtiges_passwort = \"pw\"\n",
    "\n",
    "for versuch in range(3):\n",
    "    eingabe = input(\"Passwort: \")\n",
    "    if eingabe == richtiges_passwort:\n",
    "        print(\"korrekt\")\n",
    "        break\n",
    "else:\n",
    "    print(\"Zu viele Versuche! Konto gesperrt.\")\n"
   ]
  }
 ],
 "metadata": {
  "kernelspec": {
   "display_name": "Python 3",
   "language": "python",
   "name": "python3"
  },
  "language_info": {
   "name": "python",
   "version": "3.11.9"
  }
 },
 "nbformat": 4,
 "nbformat_minor": 5
}
